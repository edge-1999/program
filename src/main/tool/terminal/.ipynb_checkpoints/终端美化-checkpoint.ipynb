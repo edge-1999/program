{
 "cells": [
  {
   "cell_type": "markdown",
   "metadata": {
    "collapsed": true,
    "pycharm": {
     "is_executing": true
    }
   },
   "source": [
    "# 终端美化输出"
   ]
  },
  {
   "cell_type": "markdown",
   "metadata": {},
   "source": [
    "## rich"
   ]
  },
  {
   "cell_type": "markdown",
   "metadata": {},
   "source": [
    "安装 `pip install rich -i https://mirror.baidu.com/pypi/simple/`\n",
    "\n",
    "官网：https://github.com/Textualize/rich"
   ]
  },
  {
   "cell_type": "code",
   "execution_count": 1,
   "metadata": {
    "ExecuteTime": {
     "end_time": "2023-02-21T00:45:33.978290Z",
     "start_time": "2023-02-21T00:45:33.901425Z"
    }
   },
   "outputs": [
    {
     "data": {
      "text/html": [
       "<pre style=\"white-space:pre;overflow-x:auto;line-height:normal;font-family:Menlo,'DejaVu Sans Mono',consolas,'Courier New',monospace\">Hello, <span style=\"color: #800080; text-decoration-color: #800080; font-weight: bold\">World</span>! 🧛\n",
       "<span style=\"font-weight: bold\">{</span>\n",
       "    <span style=\"color: #008000; text-decoration-color: #008000\">'__name__'</span>: <span style=\"color: #008000; text-decoration-color: #008000\">'__main__'</span>,\n",
       "    <span style=\"color: #008000; text-decoration-color: #008000\">'__doc__'</span>: <span style=\"color: #008000; text-decoration-color: #008000\">'Automatically created module for IPython interactive environment'</span>,\n",
       "    <span style=\"color: #008000; text-decoration-color: #008000\">'__package__'</span>: <span style=\"color: #800080; text-decoration-color: #800080; font-style: italic\">None</span>,\n",
       "    <span style=\"color: #008000; text-decoration-color: #008000\">'__loader__'</span>: <span style=\"color: #800080; text-decoration-color: #800080; font-style: italic\">None</span>,\n",
       "    <span style=\"color: #008000; text-decoration-color: #008000\">'__spec__'</span>: <span style=\"color: #800080; text-decoration-color: #800080; font-style: italic\">None</span>,\n",
       "    <span style=\"color: #008000; text-decoration-color: #008000\">'__builtin__'</span>: <span style=\"font-weight: bold\">&lt;</span><span style=\"color: #ff00ff; text-decoration-color: #ff00ff; font-weight: bold\">module</span><span style=\"color: #000000; text-decoration-color: #000000\"> </span><span style=\"color: #008000; text-decoration-color: #008000\">'builtins'</span><span style=\"color: #000000; text-decoration-color: #000000\"> </span><span style=\"color: #000000; text-decoration-color: #000000; font-weight: bold\">(</span><span style=\"color: #000000; text-decoration-color: #000000\">built-in</span><span style=\"color: #000000; text-decoration-color: #000000; font-weight: bold\">)</span><span style=\"font-weight: bold\">&gt;</span>,\n",
       "    <span style=\"color: #008000; text-decoration-color: #008000\">'__builtins__'</span>: <span style=\"font-weight: bold\">&lt;</span><span style=\"color: #ff00ff; text-decoration-color: #ff00ff; font-weight: bold\">module</span><span style=\"color: #000000; text-decoration-color: #000000\"> </span><span style=\"color: #008000; text-decoration-color: #008000\">'builtins'</span><span style=\"color: #000000; text-decoration-color: #000000\"> </span><span style=\"color: #000000; text-decoration-color: #000000; font-weight: bold\">(</span><span style=\"color: #000000; text-decoration-color: #000000\">built-in</span><span style=\"color: #000000; text-decoration-color: #000000; font-weight: bold\">)</span><span style=\"font-weight: bold\">&gt;</span>,\n",
       "    <span style=\"color: #008000; text-decoration-color: #008000\">'_ih'</span>: <span style=\"font-weight: bold\">[</span>\n",
       "        <span style=\"color: #008000; text-decoration-color: #008000\">''</span>,\n",
       "        <span style=\"color: #008000; text-decoration-color: #008000\">'from rich import print\\nprint(\"Hello, [bold magenta]World[/bold magenta]!\", \":vampire:\", locals())'</span>\n",
       "    <span style=\"font-weight: bold\">]</span>,\n",
       "    <span style=\"color: #008000; text-decoration-color: #008000\">'_oh'</span>: <span style=\"font-weight: bold\">{}</span>,\n",
       "    <span style=\"color: #008000; text-decoration-color: #008000\">'_dh'</span>: <span style=\"font-weight: bold\">[</span>\n",
       "        <span style=\"color: #800080; text-decoration-color: #800080; font-weight: bold\">PosixPath</span><span style=\"font-weight: bold\">(</span><span style=\"color: #008000; text-decoration-color: #008000\">'/Users/li/Library/Mobile Documents/com~apple~CloudDocs/MyDrive/AI/src/main/tool/terminal'</span><span style=\"font-weight: bold\">)</span>\n",
       "    <span style=\"font-weight: bold\">]</span>,\n",
       "    <span style=\"color: #008000; text-decoration-color: #008000\">'In'</span>: <span style=\"font-weight: bold\">[</span>\n",
       "        <span style=\"color: #008000; text-decoration-color: #008000\">''</span>,\n",
       "        <span style=\"color: #008000; text-decoration-color: #008000\">'from rich import print\\nprint(\"Hello, [bold magenta]World[/bold magenta]!\", \":vampire:\", locals())'</span>\n",
       "    <span style=\"font-weight: bold\">]</span>,\n",
       "    <span style=\"color: #008000; text-decoration-color: #008000\">'Out'</span>: <span style=\"font-weight: bold\">{}</span>,\n",
       "    <span style=\"color: #008000; text-decoration-color: #008000\">'get_ipython'</span>: <span style=\"font-weight: bold\">&lt;</span><span style=\"color: #ff00ff; text-decoration-color: #ff00ff; font-weight: bold\">bound</span><span style=\"color: #000000; text-decoration-color: #000000\"> method InteractiveShell.get_ipython of &lt;ipykernel.zmqshell.ZMQInteractiveShell object at </span>\n",
       "<span style=\"color: #008080; text-decoration-color: #008080; font-weight: bold\">0x7fba88f0ddb0</span><span style=\"font-weight: bold\">&gt;</span>&gt;,\n",
       "    <span style=\"color: #008000; text-decoration-color: #008000\">'exit'</span>: <span style=\"font-weight: bold\">&lt;</span><span style=\"color: #ff00ff; text-decoration-color: #ff00ff; font-weight: bold\">IPython.core.autocall.ZMQExitAutocall</span><span style=\"color: #000000; text-decoration-color: #000000\"> object at </span><span style=\"color: #008080; text-decoration-color: #008080; font-weight: bold\">0x7fba88f701f0</span><span style=\"font-weight: bold\">&gt;</span>,\n",
       "    <span style=\"color: #008000; text-decoration-color: #008000\">'quit'</span>: <span style=\"font-weight: bold\">&lt;</span><span style=\"color: #ff00ff; text-decoration-color: #ff00ff; font-weight: bold\">IPython.core.autocall.ZMQExitAutocall</span><span style=\"color: #000000; text-decoration-color: #000000\"> object at </span><span style=\"color: #008080; text-decoration-color: #008080; font-weight: bold\">0x7fba88f701f0</span><span style=\"font-weight: bold\">&gt;</span>,\n",
       "    <span style=\"color: #008000; text-decoration-color: #008000\">'_'</span>: <span style=\"color: #008000; text-decoration-color: #008000\">''</span>,\n",
       "    <span style=\"color: #008000; text-decoration-color: #008000\">'__'</span>: <span style=\"color: #008000; text-decoration-color: #008000\">''</span>,\n",
       "    <span style=\"color: #008000; text-decoration-color: #008000\">'___'</span>: <span style=\"color: #008000; text-decoration-color: #008000\">''</span>,\n",
       "    <span style=\"color: #008000; text-decoration-color: #008000\">'isort'</span>: <span style=\"font-weight: bold\">&lt;</span><span style=\"color: #ff00ff; text-decoration-color: #ff00ff; font-weight: bold\">module</span><span style=\"color: #000000; text-decoration-color: #000000\"> </span><span style=\"color: #008000; text-decoration-color: #008000\">'isort'</span><span style=\"color: #000000; text-decoration-color: #000000\"> from </span>\n",
       "<span style=\"color: #008000; text-decoration-color: #008000\">'/Users/li/Drive/opt/anaconda3/envs/AI/lib/python3.10/site-packages/isort/__init__.py'</span><span style=\"font-weight: bold\">&gt;</span>,\n",
       "    <span style=\"color: #008000; text-decoration-color: #008000\">'json'</span>: <span style=\"font-weight: bold\">&lt;</span><span style=\"color: #ff00ff; text-decoration-color: #ff00ff; font-weight: bold\">module</span><span style=\"color: #000000; text-decoration-color: #000000\"> </span><span style=\"color: #008000; text-decoration-color: #008000\">'json'</span><span style=\"color: #000000; text-decoration-color: #000000\"> from </span><span style=\"color: #008000; text-decoration-color: #008000\">'/Users/li/Drive/opt/anaconda3/envs/AI/lib/python3.10/json/__init__.py'</span><span style=\"font-weight: bold\">&gt;</span>,\n",
       "    <span style=\"color: #008000; text-decoration-color: #008000\">'_isort_refactor_cell'</span>: <span style=\"font-weight: bold\">&lt;</span><span style=\"color: #ff00ff; text-decoration-color: #ff00ff; font-weight: bold\">function</span><span style=\"color: #000000; text-decoration-color: #000000\"> _isort_refactor_cell at </span><span style=\"color: #008080; text-decoration-color: #008080; font-weight: bold\">0x7fbac8341a20</span><span style=\"font-weight: bold\">&gt;</span>,\n",
       "    <span style=\"color: #008000; text-decoration-color: #008000\">'_i'</span>: <span style=\"color: #008000; text-decoration-color: #008000\">''</span>,\n",
       "    <span style=\"color: #008000; text-decoration-color: #008000\">'_ii'</span>: <span style=\"color: #008000; text-decoration-color: #008000\">''</span>,\n",
       "    <span style=\"color: #008000; text-decoration-color: #008000\">'_iii'</span>: <span style=\"color: #008000; text-decoration-color: #008000\">''</span>,\n",
       "    <span style=\"color: #008000; text-decoration-color: #008000\">'_i1'</span>: <span style=\"color: #008000; text-decoration-color: #008000\">'from rich import print\\nprint(\"Hello, [bold magenta]World[/bold magenta]!\", \":vampire:\", locals())'</span>,\n",
       "    <span style=\"color: #008000; text-decoration-color: #008000\">'print'</span>: <span style=\"font-weight: bold\">&lt;</span><span style=\"color: #ff00ff; text-decoration-color: #ff00ff; font-weight: bold\">function</span><span style=\"color: #000000; text-decoration-color: #000000\"> print at </span><span style=\"color: #008080; text-decoration-color: #008080; font-weight: bold\">0x7fbac8341d80</span><span style=\"font-weight: bold\">&gt;</span>\n",
       "<span style=\"font-weight: bold\">}</span>\n",
       "</pre>\n"
      ],
      "text/plain": [
       "Hello, \u001B[1;35mWorld\u001B[0m! 🧛\n",
       "\u001B[1m{\u001B[0m\n",
       "    \u001B[32m'__name__'\u001B[0m: \u001B[32m'__main__'\u001B[0m,\n",
       "    \u001B[32m'__doc__'\u001B[0m: \u001B[32m'Automatically created module for IPython interactive environment'\u001B[0m,\n",
       "    \u001B[32m'__package__'\u001B[0m: \u001B[3;35mNone\u001B[0m,\n",
       "    \u001B[32m'__loader__'\u001B[0m: \u001B[3;35mNone\u001B[0m,\n",
       "    \u001B[32m'__spec__'\u001B[0m: \u001B[3;35mNone\u001B[0m,\n",
       "    \u001B[32m'__builtin__'\u001B[0m: \u001B[1m<\u001B[0m\u001B[1;95mmodule\u001B[0m\u001B[39m \u001B[0m\u001B[32m'builtins'\u001B[0m\u001B[39m \u001B[0m\u001B[1;39m(\u001B[0m\u001B[39mbuilt-in\u001B[0m\u001B[1;39m)\u001B[0m\u001B[1m>\u001B[0m,\n",
       "    \u001B[32m'__builtins__'\u001B[0m: \u001B[1m<\u001B[0m\u001B[1;95mmodule\u001B[0m\u001B[39m \u001B[0m\u001B[32m'builtins'\u001B[0m\u001B[39m \u001B[0m\u001B[1;39m(\u001B[0m\u001B[39mbuilt-in\u001B[0m\u001B[1;39m)\u001B[0m\u001B[1m>\u001B[0m,\n",
       "    \u001B[32m'_ih'\u001B[0m: \u001B[1m[\u001B[0m\n",
       "        \u001B[32m''\u001B[0m,\n",
       "        \u001B[32m'from rich import print\\nprint\u001B[0m\u001B[32m(\u001B[0m\u001B[32m\"Hello, \u001B[0m\u001B[32m[\u001B[0m\u001B[32mbold magenta\u001B[0m\u001B[32m]\u001B[0m\u001B[32mWorld\u001B[0m\u001B[32m[\u001B[0m\u001B[32m/bold magenta\u001B[0m\u001B[32m]\u001B[0m\u001B[32m!\", \":vampire:\", locals\u001B[0m\u001B[32m(\u001B[0m\u001B[32m)\u001B[0m\u001B[32m)\u001B[0m\u001B[32m'\u001B[0m\n",
       "    \u001B[1m]\u001B[0m,\n",
       "    \u001B[32m'_oh'\u001B[0m: \u001B[1m{\u001B[0m\u001B[1m}\u001B[0m,\n",
       "    \u001B[32m'_dh'\u001B[0m: \u001B[1m[\u001B[0m\n",
       "        \u001B[1;35mPosixPath\u001B[0m\u001B[1m(\u001B[0m\u001B[32m'/Users/li/Library/Mobile Documents/com~apple~CloudDocs/MyDrive/AI/src/main/tool/terminal'\u001B[0m\u001B[1m)\u001B[0m\n",
       "    \u001B[1m]\u001B[0m,\n",
       "    \u001B[32m'In'\u001B[0m: \u001B[1m[\u001B[0m\n",
       "        \u001B[32m''\u001B[0m,\n",
       "        \u001B[32m'from rich import print\\nprint\u001B[0m\u001B[32m(\u001B[0m\u001B[32m\"Hello, \u001B[0m\u001B[32m[\u001B[0m\u001B[32mbold magenta\u001B[0m\u001B[32m]\u001B[0m\u001B[32mWorld\u001B[0m\u001B[32m[\u001B[0m\u001B[32m/bold magenta\u001B[0m\u001B[32m]\u001B[0m\u001B[32m!\", \":vampire:\", locals\u001B[0m\u001B[32m(\u001B[0m\u001B[32m)\u001B[0m\u001B[32m)\u001B[0m\u001B[32m'\u001B[0m\n",
       "    \u001B[1m]\u001B[0m,\n",
       "    \u001B[32m'Out'\u001B[0m: \u001B[1m{\u001B[0m\u001B[1m}\u001B[0m,\n",
       "    \u001B[32m'get_ipython'\u001B[0m: \u001B[1m<\u001B[0m\u001B[1;95mbound\u001B[0m\u001B[39m method InteractiveShell.get_ipython of <ipykernel.zmqshell.ZMQInteractiveShell object at \u001B[0m\n",
       "\u001B[1;36m0x7fba88f0ddb0\u001B[0m\u001B[1m>\u001B[0m>,\n",
       "    \u001B[32m'exit'\u001B[0m: \u001B[1m<\u001B[0m\u001B[1;95mIPython.core.autocall.ZMQExitAutocall\u001B[0m\u001B[39m object at \u001B[0m\u001B[1;36m0x7fba88f701f0\u001B[0m\u001B[1m>\u001B[0m,\n",
       "    \u001B[32m'quit'\u001B[0m: \u001B[1m<\u001B[0m\u001B[1;95mIPython.core.autocall.ZMQExitAutocall\u001B[0m\u001B[39m object at \u001B[0m\u001B[1;36m0x7fba88f701f0\u001B[0m\u001B[1m>\u001B[0m,\n",
       "    \u001B[32m'_'\u001B[0m: \u001B[32m''\u001B[0m,\n",
       "    \u001B[32m'__'\u001B[0m: \u001B[32m''\u001B[0m,\n",
       "    \u001B[32m'___'\u001B[0m: \u001B[32m''\u001B[0m,\n",
       "    \u001B[32m'isort'\u001B[0m: \u001B[1m<\u001B[0m\u001B[1;95mmodule\u001B[0m\u001B[39m \u001B[0m\u001B[32m'isort'\u001B[0m\u001B[39m from \u001B[0m\n",
       "\u001B[32m'/Users/li/Drive/opt/anaconda3/envs/AI/lib/python3.10/site-packages/isort/__init__.py'\u001B[0m\u001B[1m>\u001B[0m,\n",
       "    \u001B[32m'json'\u001B[0m: \u001B[1m<\u001B[0m\u001B[1;95mmodule\u001B[0m\u001B[39m \u001B[0m\u001B[32m'json'\u001B[0m\u001B[39m from \u001B[0m\u001B[32m'/Users/li/Drive/opt/anaconda3/envs/AI/lib/python3.10/json/__init__.py'\u001B[0m\u001B[1m>\u001B[0m,\n",
       "    \u001B[32m'_isort_refactor_cell'\u001B[0m: \u001B[1m<\u001B[0m\u001B[1;95mfunction\u001B[0m\u001B[39m _isort_refactor_cell at \u001B[0m\u001B[1;36m0x7fbac8341a20\u001B[0m\u001B[1m>\u001B[0m,\n",
       "    \u001B[32m'_i'\u001B[0m: \u001B[32m''\u001B[0m,\n",
       "    \u001B[32m'_ii'\u001B[0m: \u001B[32m''\u001B[0m,\n",
       "    \u001B[32m'_iii'\u001B[0m: \u001B[32m''\u001B[0m,\n",
       "    \u001B[32m'_i1'\u001B[0m: \u001B[32m'from rich import print\\nprint\u001B[0m\u001B[32m(\u001B[0m\u001B[32m\"Hello, \u001B[0m\u001B[32m[\u001B[0m\u001B[32mbold magenta\u001B[0m\u001B[32m]\u001B[0m\u001B[32mWorld\u001B[0m\u001B[32m[\u001B[0m\u001B[32m/bold magenta\u001B[0m\u001B[32m]\u001B[0m\u001B[32m!\", \":vampire:\", locals\u001B[0m\u001B[32m(\u001B[0m\u001B[32m)\u001B[0m\u001B[32m)\u001B[0m\u001B[32m'\u001B[0m,\n",
       "    \u001B[32m'print'\u001B[0m: \u001B[1m<\u001B[0m\u001B[1;95mfunction\u001B[0m\u001B[39m print at \u001B[0m\u001B[1;36m0x7fbac8341d80\u001B[0m\u001B[1m>\u001B[0m\n",
       "\u001B[1m}\u001B[0m\n"
      ]
     },
     "metadata": {},
     "output_type": "display_data"
    }
   ],
   "source": [
    "from rich import print\n",
    "print(\"Hello, [bold magenta]World[/bold magenta]!\", \":vampire:\", locals())"
   ]
  },
  {
   "cell_type": "code",
   "execution_count": 3,
   "metadata": {
    "ExecuteTime": {
     "end_time": "2023-02-21T00:46:22.826097Z",
     "start_time": "2023-02-21T00:46:22.811574Z"
    }
   },
   "outputs": [
    {
     "data": {
      "text/html": [
       "<pre style=\"white-space:pre;overflow-x:auto;line-height:normal;font-family:Menlo,'DejaVu Sans Mono',consolas,'Courier New',monospace\">Hello World!\n",
       "</pre>\n"
      ],
      "text/plain": [
       "Hello World!\n"
      ]
     },
     "metadata": {},
     "output_type": "display_data"
    },
    {
     "data": {
      "text/html": [
       "<pre style=\"white-space:pre;overflow-x:auto;line-height:normal;font-family:Menlo,'DejaVu Sans Mono',consolas,'Courier New',monospace\"><span style=\"color: #800000; text-decoration-color: #800000; font-weight: bold\">Hello World!</span>\n",
       "</pre>\n"
      ],
      "text/plain": [
       "\u001B[1;31mHello World!\u001B[0m\n"
      ]
     },
     "metadata": {},
     "output_type": "display_data"
    }
   ],
   "source": [
    "from rich.console import Console\n",
    "\n",
    "console = Console()\n",
    "\n",
    "console.print(\"Hello\", \"World!\")\n",
    "console.print(\"Hello\", \"World!\", style=\"bold red\")"
   ]
  },
  {
   "cell_type": "code",
   "execution_count": 4,
   "metadata": {
    "ExecuteTime": {
     "end_time": "2023-02-21T00:47:53.251918Z",
     "start_time": "2023-02-21T00:47:53.236476Z"
    }
   },
   "outputs": [
    {
     "data": {
      "text/html": [
       "<pre style=\"white-space:pre;overflow-x:auto;line-height:normal;font-family:Menlo,'DejaVu Sans Mono',consolas,'Courier New',monospace\">Where there is a <span style=\"color: #008080; text-decoration-color: #008080; font-weight: bold\">Will</span> there <span style=\"text-decoration: underline\">is</span> a <span style=\"font-style: italic\">way</span>.\n",
       "</pre>\n"
      ],
      "text/plain": [
       "Where there is a \u001B[1;36mWill\u001B[0m there \u001B[4mis\u001B[0m a \u001B[3mway\u001B[0m.\n"
      ]
     },
     "metadata": {},
     "output_type": "display_data"
    }
   ],
   "source": [
    "console.print(\"Where there is a [bold cyan]Will[/bold cyan] there [u]is[/u] a [i]way[/i].\")"
   ]
  },
  {
   "cell_type": "code",
   "execution_count": 5,
   "metadata": {
    "ExecuteTime": {
     "end_time": "2023-02-21T00:48:17.393945Z",
     "start_time": "2023-02-21T00:48:17.357988Z"
    }
   },
   "outputs": [
    {
     "data": {
      "text/html": [
       "<pre style=\"white-space:pre;overflow-x:auto;line-height:normal;font-family:Menlo,'DejaVu Sans Mono',consolas,'Courier New',monospace\"><span style=\"color: #000080; text-decoration-color: #000080\">╭───────────────────────────────────────── </span><span style=\"color: #000080; text-decoration-color: #000080; font-weight: bold\">&lt;</span><span style=\"color: #ff00ff; text-decoration-color: #ff00ff; font-weight: bold\">class</span><span style=\"color: #000000; text-decoration-color: #000000\"> </span><span style=\"color: #008000; text-decoration-color: #008000\">'list'</span><span style=\"color: #000080; text-decoration-color: #000080; font-weight: bold\">&gt;</span><span style=\"color: #000080; text-decoration-color: #000080\"> ──────────────────────────────────────────╮</span>\n",
       "<span style=\"color: #000080; text-decoration-color: #000080\">│</span> <span style=\"color: #008080; text-decoration-color: #008080\">Built-in mutable sequence.</span>                                                                        <span style=\"color: #000080; text-decoration-color: #000080\">│</span>\n",
       "<span style=\"color: #000080; text-decoration-color: #000080\">│</span>                                                                                                   <span style=\"color: #000080; text-decoration-color: #000080\">│</span>\n",
       "<span style=\"color: #000080; text-decoration-color: #000080\">│</span> <span style=\"color: #008000; text-decoration-color: #008000\">╭───────────────────────────────────────────────────────────────────────────────────────────────╮</span> <span style=\"color: #000080; text-decoration-color: #000080\">│</span>\n",
       "<span style=\"color: #000080; text-decoration-color: #000080\">│</span> <span style=\"color: #008000; text-decoration-color: #008000\">│</span> <span style=\"font-weight: bold\">[</span><span style=\"color: #008000; text-decoration-color: #008000\">'foo'</span>, <span style=\"color: #008000; text-decoration-color: #008000\">'bar'</span><span style=\"font-weight: bold\">]</span>                                                                                <span style=\"color: #008000; text-decoration-color: #008000\">│</span> <span style=\"color: #000080; text-decoration-color: #000080\">│</span>\n",
       "<span style=\"color: #000080; text-decoration-color: #000080\">│</span> <span style=\"color: #008000; text-decoration-color: #008000\">╰───────────────────────────────────────────────────────────────────────────────────────────────╯</span> <span style=\"color: #000080; text-decoration-color: #000080\">│</span>\n",
       "<span style=\"color: #000080; text-decoration-color: #000080\">│</span>                                                                                                   <span style=\"color: #000080; text-decoration-color: #000080\">│</span>\n",
       "<span style=\"color: #000080; text-decoration-color: #000080\">│</span>  <span style=\"color: #808000; text-decoration-color: #808000; font-style: italic\">append</span> = <span style=\"color: #00ffff; text-decoration-color: #00ffff; font-style: italic\">def </span><span style=\"color: #800000; text-decoration-color: #800000; font-weight: bold\">append</span><span style=\"font-weight: bold\">(</span>object, <span style=\"color: #800080; text-decoration-color: #800080\">/</span><span style=\"font-weight: bold\">)</span>: <span style=\"color: #7f7f7f; text-decoration-color: #7f7f7f\">Append object to the end of the list.</span>                            <span style=\"color: #000080; text-decoration-color: #000080\">│</span>\n",
       "<span style=\"color: #000080; text-decoration-color: #000080\">│</span>   <span style=\"color: #808000; text-decoration-color: #808000; font-style: italic\">clear</span> = <span style=\"color: #00ffff; text-decoration-color: #00ffff; font-style: italic\">def </span><span style=\"color: #800000; text-decoration-color: #800000; font-weight: bold\">clear</span><span style=\"font-weight: bold\">()</span>: <span style=\"color: #7f7f7f; text-decoration-color: #7f7f7f\">Remove all items from list.</span>                                                <span style=\"color: #000080; text-decoration-color: #000080\">│</span>\n",
       "<span style=\"color: #000080; text-decoration-color: #000080\">│</span>    <span style=\"color: #808000; text-decoration-color: #808000; font-style: italic\">copy</span> = <span style=\"color: #00ffff; text-decoration-color: #00ffff; font-style: italic\">def </span><span style=\"color: #800000; text-decoration-color: #800000; font-weight: bold\">copy</span><span style=\"font-weight: bold\">()</span>: <span style=\"color: #7f7f7f; text-decoration-color: #7f7f7f\">Return a shallow copy of the list.</span>                                          <span style=\"color: #000080; text-decoration-color: #000080\">│</span>\n",
       "<span style=\"color: #000080; text-decoration-color: #000080\">│</span>   <span style=\"color: #808000; text-decoration-color: #808000; font-style: italic\">count</span> = <span style=\"color: #00ffff; text-decoration-color: #00ffff; font-style: italic\">def </span><span style=\"color: #800000; text-decoration-color: #800000; font-weight: bold\">count</span><span style=\"font-weight: bold\">(</span>value, <span style=\"color: #800080; text-decoration-color: #800080\">/</span><span style=\"font-weight: bold\">)</span>: <span style=\"color: #7f7f7f; text-decoration-color: #7f7f7f\">Return number of occurrences of value.</span>                             <span style=\"color: #000080; text-decoration-color: #000080\">│</span>\n",
       "<span style=\"color: #000080; text-decoration-color: #000080\">│</span>  <span style=\"color: #808000; text-decoration-color: #808000; font-style: italic\">extend</span> = <span style=\"color: #00ffff; text-decoration-color: #00ffff; font-style: italic\">def </span><span style=\"color: #800000; text-decoration-color: #800000; font-weight: bold\">extend</span><span style=\"font-weight: bold\">(</span>iterable, <span style=\"color: #800080; text-decoration-color: #800080\">/</span><span style=\"font-weight: bold\">)</span>: <span style=\"color: #7f7f7f; text-decoration-color: #7f7f7f\">Extend list by appending elements from the iterable.</span>           <span style=\"color: #000080; text-decoration-color: #000080\">│</span>\n",
       "<span style=\"color: #000080; text-decoration-color: #000080\">│</span>   <span style=\"color: #808000; text-decoration-color: #808000; font-style: italic\">index</span> = <span style=\"color: #00ffff; text-decoration-color: #00ffff; font-style: italic\">def </span><span style=\"color: #800000; text-decoration-color: #800000; font-weight: bold\">index</span><span style=\"font-weight: bold\">(</span>value, <span style=\"color: #808000; text-decoration-color: #808000\">start</span>=<span style=\"color: #008080; text-decoration-color: #008080; font-weight: bold\">0</span>, <span style=\"color: #808000; text-decoration-color: #808000\">stop</span>=<span style=\"color: #008080; text-decoration-color: #008080; font-weight: bold\">9223372036854775807</span>, <span style=\"color: #800080; text-decoration-color: #800080\">/</span><span style=\"font-weight: bold\">)</span>: <span style=\"color: #7f7f7f; text-decoration-color: #7f7f7f\">Return first index of value.</span>    <span style=\"color: #000080; text-decoration-color: #000080\">│</span>\n",
       "<span style=\"color: #000080; text-decoration-color: #000080\">│</span>  <span style=\"color: #808000; text-decoration-color: #808000; font-style: italic\">insert</span> = <span style=\"color: #00ffff; text-decoration-color: #00ffff; font-style: italic\">def </span><span style=\"color: #800000; text-decoration-color: #800000; font-weight: bold\">insert</span><span style=\"font-weight: bold\">(</span>index, object, <span style=\"color: #800080; text-decoration-color: #800080\">/</span><span style=\"font-weight: bold\">)</span>: <span style=\"color: #7f7f7f; text-decoration-color: #7f7f7f\">Insert object before index.</span>                               <span style=\"color: #000080; text-decoration-color: #000080\">│</span>\n",
       "<span style=\"color: #000080; text-decoration-color: #000080\">│</span>     <span style=\"color: #808000; text-decoration-color: #808000; font-style: italic\">pop</span> = <span style=\"color: #00ffff; text-decoration-color: #00ffff; font-style: italic\">def </span><span style=\"color: #800000; text-decoration-color: #800000; font-weight: bold\">pop</span><span style=\"font-weight: bold\">(</span><span style=\"color: #808000; text-decoration-color: #808000\">index</span>=<span style=\"color: #008080; text-decoration-color: #008080; font-weight: bold\">-1</span>, <span style=\"color: #800080; text-decoration-color: #800080\">/</span><span style=\"font-weight: bold\">)</span>: <span style=\"color: #7f7f7f; text-decoration-color: #7f7f7f\">Remove and return item at index </span><span style=\"color: #7f7f7f; text-decoration-color: #7f7f7f; font-weight: bold\">(</span><span style=\"color: #7f7f7f; text-decoration-color: #7f7f7f\">default last</span><span style=\"color: #7f7f7f; text-decoration-color: #7f7f7f; font-weight: bold\">)</span><span style=\"color: #7f7f7f; text-decoration-color: #7f7f7f\">.</span>                   <span style=\"color: #000080; text-decoration-color: #000080\">│</span>\n",
       "<span style=\"color: #000080; text-decoration-color: #000080\">│</span>  <span style=\"color: #808000; text-decoration-color: #808000; font-style: italic\">remove</span> = <span style=\"color: #00ffff; text-decoration-color: #00ffff; font-style: italic\">def </span><span style=\"color: #800000; text-decoration-color: #800000; font-weight: bold\">remove</span><span style=\"font-weight: bold\">(</span>value, <span style=\"color: #800080; text-decoration-color: #800080\">/</span><span style=\"font-weight: bold\">)</span>: <span style=\"color: #7f7f7f; text-decoration-color: #7f7f7f\">Remove first occurrence of value.</span>                                 <span style=\"color: #000080; text-decoration-color: #000080\">│</span>\n",
       "<span style=\"color: #000080; text-decoration-color: #000080\">│</span> <span style=\"color: #808000; text-decoration-color: #808000; font-style: italic\">reverse</span> = <span style=\"color: #00ffff; text-decoration-color: #00ffff; font-style: italic\">def </span><span style=\"color: #800000; text-decoration-color: #800000; font-weight: bold\">reverse</span><span style=\"font-weight: bold\">()</span>: <span style=\"color: #7f7f7f; text-decoration-color: #7f7f7f\">Reverse *IN PLACE*.</span>                                                      <span style=\"color: #000080; text-decoration-color: #000080\">│</span>\n",
       "<span style=\"color: #000080; text-decoration-color: #000080\">│</span>    <span style=\"color: #808000; text-decoration-color: #808000; font-style: italic\">sort</span> = <span style=\"color: #00ffff; text-decoration-color: #00ffff; font-style: italic\">def </span><span style=\"color: #800000; text-decoration-color: #800000; font-weight: bold\">sort</span><span style=\"font-weight: bold\">(</span>*, <span style=\"color: #808000; text-decoration-color: #808000\">key</span>=<span style=\"color: #800080; text-decoration-color: #800080; font-style: italic\">None</span>, <span style=\"color: #808000; text-decoration-color: #808000\">reverse</span>=<span style=\"color: #ff0000; text-decoration-color: #ff0000; font-style: italic\">False</span><span style=\"font-weight: bold\">)</span>: <span style=\"color: #7f7f7f; text-decoration-color: #7f7f7f\">Sort the list in ascending order and return </span><span style=\"color: #bf7fbf; text-decoration-color: #bf7fbf; font-style: italic\">None</span><span style=\"color: #7f7f7f; text-decoration-color: #7f7f7f\">.</span> <span style=\"color: #000080; text-decoration-color: #000080\">│</span>\n",
       "<span style=\"color: #000080; text-decoration-color: #000080\">╰───────────────────────────────────────────────────────────────────────────────────────────────────╯</span>\n",
       "</pre>\n"
      ],
      "text/plain": [
       "\u001B[34m╭─\u001B[0m\u001B[34m────────────────────────────────────────\u001B[0m\u001B[34m \u001B[0m\u001B[1;34m<\u001B[0m\u001B[1;95mclass\u001B[0m\u001B[39m \u001B[0m\u001B[32m'list'\u001B[0m\u001B[1;34m>\u001B[0m\u001B[34m \u001B[0m\u001B[34m─────────────────────────────────────────\u001B[0m\u001B[34m─╮\u001B[0m\n",
       "\u001B[34m│\u001B[0m \u001B[36mBuilt-in mutable sequence.\u001B[0m                                                                        \u001B[34m│\u001B[0m\n",
       "\u001B[34m│\u001B[0m                                                                                                   \u001B[34m│\u001B[0m\n",
       "\u001B[34m│\u001B[0m \u001B[32m╭───────────────────────────────────────────────────────────────────────────────────────────────╮\u001B[0m \u001B[34m│\u001B[0m\n",
       "\u001B[34m│\u001B[0m \u001B[32m│\u001B[0m \u001B[1m[\u001B[0m\u001B[32m'foo'\u001B[0m, \u001B[32m'bar'\u001B[0m\u001B[1m]\u001B[0m                                                                                \u001B[32m│\u001B[0m \u001B[34m│\u001B[0m\n",
       "\u001B[34m│\u001B[0m \u001B[32m╰───────────────────────────────────────────────────────────────────────────────────────────────╯\u001B[0m \u001B[34m│\u001B[0m\n",
       "\u001B[34m│\u001B[0m                                                                                                   \u001B[34m│\u001B[0m\n",
       "\u001B[34m│\u001B[0m  \u001B[3;33mappend\u001B[0m = \u001B[3;96mdef \u001B[0m\u001B[1;31mappend\u001B[0m\u001B[1m(\u001B[0mobject, \u001B[35m/\u001B[0m\u001B[1m)\u001B[0m: \u001B[2mAppend object to the end of the list.\u001B[0m                            \u001B[34m│\u001B[0m\n",
       "\u001B[34m│\u001B[0m   \u001B[3;33mclear\u001B[0m = \u001B[3;96mdef \u001B[0m\u001B[1;31mclear\u001B[0m\u001B[1m(\u001B[0m\u001B[1m)\u001B[0m: \u001B[2mRemove all items from list.\u001B[0m                                                \u001B[34m│\u001B[0m\n",
       "\u001B[34m│\u001B[0m    \u001B[3;33mcopy\u001B[0m = \u001B[3;96mdef \u001B[0m\u001B[1;31mcopy\u001B[0m\u001B[1m(\u001B[0m\u001B[1m)\u001B[0m: \u001B[2mReturn a shallow copy of the list.\u001B[0m                                          \u001B[34m│\u001B[0m\n",
       "\u001B[34m│\u001B[0m   \u001B[3;33mcount\u001B[0m = \u001B[3;96mdef \u001B[0m\u001B[1;31mcount\u001B[0m\u001B[1m(\u001B[0mvalue, \u001B[35m/\u001B[0m\u001B[1m)\u001B[0m: \u001B[2mReturn number of occurrences of value.\u001B[0m                             \u001B[34m│\u001B[0m\n",
       "\u001B[34m│\u001B[0m  \u001B[3;33mextend\u001B[0m = \u001B[3;96mdef \u001B[0m\u001B[1;31mextend\u001B[0m\u001B[1m(\u001B[0miterable, \u001B[35m/\u001B[0m\u001B[1m)\u001B[0m: \u001B[2mExtend list by appending elements from the iterable.\u001B[0m           \u001B[34m│\u001B[0m\n",
       "\u001B[34m│\u001B[0m   \u001B[3;33mindex\u001B[0m = \u001B[3;96mdef \u001B[0m\u001B[1;31mindex\u001B[0m\u001B[1m(\u001B[0mvalue, \u001B[33mstart\u001B[0m=\u001B[1;36m0\u001B[0m, \u001B[33mstop\u001B[0m=\u001B[1;36m9223372036854775807\u001B[0m, \u001B[35m/\u001B[0m\u001B[1m)\u001B[0m: \u001B[2mReturn first index of value.\u001B[0m    \u001B[34m│\u001B[0m\n",
       "\u001B[34m│\u001B[0m  \u001B[3;33minsert\u001B[0m = \u001B[3;96mdef \u001B[0m\u001B[1;31minsert\u001B[0m\u001B[1m(\u001B[0mindex, object, \u001B[35m/\u001B[0m\u001B[1m)\u001B[0m: \u001B[2mInsert object before index.\u001B[0m                               \u001B[34m│\u001B[0m\n",
       "\u001B[34m│\u001B[0m     \u001B[3;33mpop\u001B[0m = \u001B[3;96mdef \u001B[0m\u001B[1;31mpop\u001B[0m\u001B[1m(\u001B[0m\u001B[33mindex\u001B[0m=\u001B[1;36m-1\u001B[0m, \u001B[35m/\u001B[0m\u001B[1m)\u001B[0m: \u001B[2mRemove and return item at index \u001B[0m\u001B[1;2m(\u001B[0m\u001B[2mdefault last\u001B[0m\u001B[1;2m)\u001B[0m\u001B[2m.\u001B[0m                   \u001B[34m│\u001B[0m\n",
       "\u001B[34m│\u001B[0m  \u001B[3;33mremove\u001B[0m = \u001B[3;96mdef \u001B[0m\u001B[1;31mremove\u001B[0m\u001B[1m(\u001B[0mvalue, \u001B[35m/\u001B[0m\u001B[1m)\u001B[0m: \u001B[2mRemove first occurrence of value.\u001B[0m                                 \u001B[34m│\u001B[0m\n",
       "\u001B[34m│\u001B[0m \u001B[3;33mreverse\u001B[0m = \u001B[3;96mdef \u001B[0m\u001B[1;31mreverse\u001B[0m\u001B[1m(\u001B[0m\u001B[1m)\u001B[0m: \u001B[2mReverse *IN PLACE*.\u001B[0m                                                      \u001B[34m│\u001B[0m\n",
       "\u001B[34m│\u001B[0m    \u001B[3;33msort\u001B[0m = \u001B[3;96mdef \u001B[0m\u001B[1;31msort\u001B[0m\u001B[1m(\u001B[0m*, \u001B[33mkey\u001B[0m=\u001B[3;35mNone\u001B[0m, \u001B[33mreverse\u001B[0m=\u001B[3;91mFalse\u001B[0m\u001B[1m)\u001B[0m: \u001B[2mSort the list in ascending order and return \u001B[0m\u001B[2;3;35mNone\u001B[0m\u001B[2m.\u001B[0m \u001B[34m│\u001B[0m\n",
       "\u001B[34m╰───────────────────────────────────────────────────────────────────────────────────────────────────╯\u001B[0m\n"
      ]
     },
     "metadata": {},
     "output_type": "display_data"
    }
   ],
   "source": [
    "my_list = [\"foo\", \"bar\"]\n",
    "from rich import inspect\n",
    "inspect(my_list, methods=True)"
   ]
  },
  {
   "cell_type": "code",
   "execution_count": 6,
   "metadata": {
    "ExecuteTime": {
     "end_time": "2023-02-21T03:32:04.708683Z",
     "start_time": "2023-02-21T03:32:04.684863Z"
    }
   },
   "outputs": [
    {
     "data": {
      "text/html": [
       "<pre style=\"white-space:pre;overflow-x:auto;line-height:normal;font-family:Menlo,'DejaVu Sans Mono',consolas,'Courier New',monospace\"><span style=\"color: #7fbfbf; text-decoration-color: #7fbfbf\">[11:32:04] </span>Hello from <span style=\"font-weight: bold\">&lt;</span><span style=\"color: #ff00ff; text-decoration-color: #ff00ff; font-weight: bold\">console</span><span style=\"color: #000000; text-decoration-color: #000000\"> </span><span style=\"color: #808000; text-decoration-color: #808000\">width</span><span style=\"color: #000000; text-decoration-color: #000000\">=</span><span style=\"color: #008080; text-decoration-color: #008080; font-weight: bold\">115</span><span style=\"color: #000000; text-decoration-color: #000000\"> ColorSystem.TRUECOLOR</span><span style=\"font-weight: bold\">&gt;</span> !                                  <a href=\"file:///var/folders/vs/f8lzgsm54yv60zz4t82ln2sr0000gn/T/ipykernel_1801/3438779683.py\" target=\"_blank\"><span style=\"color: #7f7f7f; text-decoration-color: #7f7f7f\">3438779683.py</span></a><span style=\"color: #7f7f7f; text-decoration-color: #7f7f7f\">:</span><a href=\"file:///var/folders/vs/f8lzgsm54yv60zz4t82ln2sr0000gn/T/ipykernel_1801/3438779683.py#16\" target=\"_blank\"><span style=\"color: #7f7f7f; text-decoration-color: #7f7f7f\">16</span></a>\n",
       "</pre>\n"
      ],
      "text/plain": [
       "\u001B[2;36m[11:32:04]\u001B[0m\u001B[2;36m \u001B[0mHello from \u001B[1m<\u001B[0m\u001B[1;95mconsole\u001B[0m\u001B[39m \u001B[0m\u001B[33mwidth\u001B[0m\u001B[39m=\u001B[0m\u001B[1;36m115\u001B[0m\u001B[39m ColorSystem.TRUECOLOR\u001B[0m\u001B[1m>\u001B[0m !                                  \u001B]8;id=183949;file:///var/folders/vs/f8lzgsm54yv60zz4t82ln2sr0000gn/T/ipykernel_1801/3438779683.py\u001B\\\u001B[2m3438779683.py\u001B[0m\u001B]8;;\u001B\\\u001B[2m:\u001B[0m\u001B]8;id=324925;file:///var/folders/vs/f8lzgsm54yv60zz4t82ln2sr0000gn/T/ipykernel_1801/3438779683.py#16\u001B\\\u001B[2m16\u001B[0m\u001B]8;;\u001B\\\n"
      ]
     },
     "metadata": {},
     "output_type": "display_data"
    },
    {
     "data": {
      "text/html": [
       "<pre style=\"white-space:pre;overflow-x:auto;line-height:normal;font-family:Menlo,'DejaVu Sans Mono',consolas,'Courier New',monospace\"><span style=\"color: #7fbfbf; text-decoration-color: #7fbfbf\">           </span><span style=\"font-weight: bold\">[</span>                                                                                       <a href=\"file:///var/folders/vs/f8lzgsm54yv60zz4t82ln2sr0000gn/T/ipykernel_1801/3438779683.py\" target=\"_blank\"><span style=\"color: #7f7f7f; text-decoration-color: #7f7f7f\">3438779683.py</span></a><span style=\"color: #7f7f7f; text-decoration-color: #7f7f7f\">:</span><a href=\"file:///var/folders/vs/f8lzgsm54yv60zz4t82ln2sr0000gn/T/ipykernel_1801/3438779683.py#17\" target=\"_blank\"><span style=\"color: #7f7f7f; text-decoration-color: #7f7f7f\">17</span></a>\n",
       "<span style=\"color: #7fbfbf; text-decoration-color: #7fbfbf\">           </span>    <span style=\"font-weight: bold\">{</span>                                                                                   <span style=\"color: #7f7f7f; text-decoration-color: #7f7f7f\">                </span>\n",
       "<span style=\"color: #7fbfbf; text-decoration-color: #7fbfbf\">           </span>        <span style=\"color: #008000; text-decoration-color: #008000\">'jsonrpc'</span>: <span style=\"color: #008000; text-decoration-color: #008000\">'2.0'</span>,                                                               <span style=\"color: #7f7f7f; text-decoration-color: #7f7f7f\">                </span>\n",
       "<span style=\"color: #7fbfbf; text-decoration-color: #7fbfbf\">           </span>        <span style=\"color: #008000; text-decoration-color: #008000\">'method'</span>: <span style=\"color: #008000; text-decoration-color: #008000\">'sum'</span>,                                                                <span style=\"color: #7f7f7f; text-decoration-color: #7f7f7f\">                </span>\n",
       "<span style=\"color: #7fbfbf; text-decoration-color: #7fbfbf\">           </span>        <span style=\"color: #008000; text-decoration-color: #008000\">'params'</span>: <span style=\"font-weight: bold\">[</span><span style=\"color: #800080; text-decoration-color: #800080; font-style: italic\">None</span>, <span style=\"color: #008080; text-decoration-color: #008080; font-weight: bold\">1</span>, <span style=\"color: #008080; text-decoration-color: #008080; font-weight: bold\">2</span>, <span style=\"color: #008080; text-decoration-color: #008080; font-weight: bold\">4</span>, <span style=\"color: #ff0000; text-decoration-color: #ff0000; font-style: italic\">False</span>, <span style=\"color: #00ff00; text-decoration-color: #00ff00; font-style: italic\">True</span><span style=\"font-weight: bold\">]</span>,                                         <span style=\"color: #7f7f7f; text-decoration-color: #7f7f7f\">                </span>\n",
       "<span style=\"color: #7fbfbf; text-decoration-color: #7fbfbf\">           </span>        <span style=\"color: #008000; text-decoration-color: #008000\">'id'</span>: <span style=\"color: #008000; text-decoration-color: #008000\">'1'</span>                                                                       <span style=\"color: #7f7f7f; text-decoration-color: #7f7f7f\">                </span>\n",
       "<span style=\"color: #7fbfbf; text-decoration-color: #7fbfbf\">           </span>    <span style=\"font-weight: bold\">}</span>,                                                                                  <span style=\"color: #7f7f7f; text-decoration-color: #7f7f7f\">                </span>\n",
       "<span style=\"color: #7fbfbf; text-decoration-color: #7fbfbf\">           </span>    <span style=\"font-weight: bold\">{</span><span style=\"color: #008000; text-decoration-color: #008000\">'jsonrpc'</span>: <span style=\"color: #008000; text-decoration-color: #008000\">'2.0'</span>, <span style=\"color: #008000; text-decoration-color: #008000\">'method'</span>: <span style=\"color: #008000; text-decoration-color: #008000\">'notify_hello'</span>, <span style=\"color: #008000; text-decoration-color: #008000\">'params'</span>: <span style=\"font-weight: bold\">[</span><span style=\"color: #008080; text-decoration-color: #008080; font-weight: bold\">7</span><span style=\"font-weight: bold\">]}</span>,                        <span style=\"color: #7f7f7f; text-decoration-color: #7f7f7f\">                </span>\n",
       "<span style=\"color: #7fbfbf; text-decoration-color: #7fbfbf\">           </span>    <span style=\"font-weight: bold\">{</span><span style=\"color: #008000; text-decoration-color: #008000\">'jsonrpc'</span>: <span style=\"color: #008000; text-decoration-color: #008000\">'2.0'</span>, <span style=\"color: #008000; text-decoration-color: #008000\">'method'</span>: <span style=\"color: #008000; text-decoration-color: #008000\">'subtract'</span>, <span style=\"color: #008000; text-decoration-color: #008000\">'params'</span>: <span style=\"font-weight: bold\">[</span><span style=\"color: #008080; text-decoration-color: #008080; font-weight: bold\">42</span>, <span style=\"color: #008080; text-decoration-color: #008080; font-weight: bold\">23</span><span style=\"font-weight: bold\">]</span>, <span style=\"color: #008000; text-decoration-color: #008000\">'id'</span>: <span style=\"color: #008000; text-decoration-color: #008000\">'2'</span><span style=\"font-weight: bold\">}</span>             <span style=\"color: #7f7f7f; text-decoration-color: #7f7f7f\">                </span>\n",
       "<span style=\"color: #7fbfbf; text-decoration-color: #7fbfbf\">           </span><span style=\"font-weight: bold\">]</span>                                                                                       <span style=\"color: #7f7f7f; text-decoration-color: #7f7f7f\">                </span>\n",
       "<span style=\"color: #7fbfbf; text-decoration-color: #7fbfbf\">           </span><span style=\"color: #000080; text-decoration-color: #000080\">╭──────────────────── </span><span style=\"color: #000080; text-decoration-color: #000080; font-style: italic\">locals</span><span style=\"color: #000080; text-decoration-color: #000080\"> ─────────────────────╮</span>                                     <span style=\"color: #7f7f7f; text-decoration-color: #7f7f7f\">                </span>\n",
       "<span style=\"color: #7fbfbf; text-decoration-color: #7fbfbf\">           </span><span style=\"color: #000080; text-decoration-color: #000080\">│</span> <span style=\"color: #808000; text-decoration-color: #808000; font-style: italic\">context</span><span style=\"color: #800000; text-decoration-color: #800000\"> =</span> <span style=\"font-weight: bold\">{</span><span style=\"color: #008000; text-decoration-color: #008000\">'foo'</span>: <span style=\"color: #008000; text-decoration-color: #008000\">'bar'</span><span style=\"font-weight: bold\">}</span>                        <span style=\"color: #000080; text-decoration-color: #000080\">│</span>                                     <span style=\"color: #7f7f7f; text-decoration-color: #7f7f7f\">                </span>\n",
       "<span style=\"color: #7fbfbf; text-decoration-color: #7fbfbf\">           </span><span style=\"color: #000080; text-decoration-color: #000080\">│</span> <span style=\"color: #808000; text-decoration-color: #808000; font-style: italic\">enabled</span><span style=\"color: #800000; text-decoration-color: #800000\"> =</span> <span style=\"color: #ff0000; text-decoration-color: #ff0000; font-style: italic\">False</span>                                 <span style=\"color: #000080; text-decoration-color: #000080\">│</span>                                     <span style=\"color: #7f7f7f; text-decoration-color: #7f7f7f\">                </span>\n",
       "<span style=\"color: #7fbfbf; text-decoration-color: #7fbfbf\">           </span><span style=\"color: #000080; text-decoration-color: #000080\">│</span>  <span style=\"color: #808000; text-decoration-color: #808000; font-style: italic\">movies</span><span style=\"color: #800000; text-decoration-color: #800000\"> =</span> <span style=\"font-weight: bold\">[</span><span style=\"color: #008000; text-decoration-color: #008000\">'Deadpool'</span>, <span style=\"color: #008000; text-decoration-color: #008000\">'Rise of the Skywalker'</span><span style=\"font-weight: bold\">]</span> <span style=\"color: #000080; text-decoration-color: #000080\">│</span>                                     <span style=\"color: #7f7f7f; text-decoration-color: #7f7f7f\">                </span>\n",
       "<span style=\"color: #7fbfbf; text-decoration-color: #7fbfbf\">           </span><span style=\"color: #000080; text-decoration-color: #000080\">╰─────────────────────────────────────────────────╯</span>                                     <span style=\"color: #7f7f7f; text-decoration-color: #7f7f7f\">                </span>\n",
       "</pre>\n"
      ],
      "text/plain": [
       "\u001B[2;36m          \u001B[0m\u001B[2;36m \u001B[0m\u001B[1m[\u001B[0m                                                                                       \u001B]8;id=507497;file:///var/folders/vs/f8lzgsm54yv60zz4t82ln2sr0000gn/T/ipykernel_1801/3438779683.py\u001B\\\u001B[2m3438779683.py\u001B[0m\u001B]8;;\u001B\\\u001B[2m:\u001B[0m\u001B]8;id=424674;file:///var/folders/vs/f8lzgsm54yv60zz4t82ln2sr0000gn/T/ipykernel_1801/3438779683.py#17\u001B\\\u001B[2m17\u001B[0m\u001B]8;;\u001B\\\n",
       "\u001B[2;36m           \u001B[0m    \u001B[1m{\u001B[0m                                                                                   \u001B[2m                \u001B[0m\n",
       "\u001B[2;36m           \u001B[0m        \u001B[32m'jsonrpc'\u001B[0m: \u001B[32m'2.0'\u001B[0m,                                                               \u001B[2m                \u001B[0m\n",
       "\u001B[2;36m           \u001B[0m        \u001B[32m'method'\u001B[0m: \u001B[32m'sum'\u001B[0m,                                                                \u001B[2m                \u001B[0m\n",
       "\u001B[2;36m           \u001B[0m        \u001B[32m'params'\u001B[0m: \u001B[1m[\u001B[0m\u001B[3;35mNone\u001B[0m, \u001B[1;36m1\u001B[0m, \u001B[1;36m2\u001B[0m, \u001B[1;36m4\u001B[0m, \u001B[3;91mFalse\u001B[0m, \u001B[3;92mTrue\u001B[0m\u001B[1m]\u001B[0m,                                         \u001B[2m                \u001B[0m\n",
       "\u001B[2;36m           \u001B[0m        \u001B[32m'id'\u001B[0m: \u001B[32m'1'\u001B[0m                                                                       \u001B[2m                \u001B[0m\n",
       "\u001B[2;36m           \u001B[0m    \u001B[1m}\u001B[0m,                                                                                  \u001B[2m                \u001B[0m\n",
       "\u001B[2;36m           \u001B[0m    \u001B[1m{\u001B[0m\u001B[32m'jsonrpc'\u001B[0m: \u001B[32m'2.0'\u001B[0m, \u001B[32m'method'\u001B[0m: \u001B[32m'notify_hello'\u001B[0m, \u001B[32m'params'\u001B[0m: \u001B[1m[\u001B[0m\u001B[1;36m7\u001B[0m\u001B[1m]\u001B[0m\u001B[1m}\u001B[0m,                        \u001B[2m                \u001B[0m\n",
       "\u001B[2;36m           \u001B[0m    \u001B[1m{\u001B[0m\u001B[32m'jsonrpc'\u001B[0m: \u001B[32m'2.0'\u001B[0m, \u001B[32m'method'\u001B[0m: \u001B[32m'subtract'\u001B[0m, \u001B[32m'params'\u001B[0m: \u001B[1m[\u001B[0m\u001B[1;36m42\u001B[0m, \u001B[1;36m23\u001B[0m\u001B[1m]\u001B[0m, \u001B[32m'id'\u001B[0m: \u001B[32m'2'\u001B[0m\u001B[1m}\u001B[0m             \u001B[2m                \u001B[0m\n",
       "\u001B[2;36m           \u001B[0m\u001B[1m]\u001B[0m                                                                                       \u001B[2m                \u001B[0m\n",
       "\u001B[2;36m           \u001B[0m\u001B[34m╭─\u001B[0m\u001B[34m───────────────────\u001B[0m\u001B[34m \u001B[0m\u001B[3;34mlocals\u001B[0m\u001B[34m \u001B[0m\u001B[34m────────────────────\u001B[0m\u001B[34m─╮\u001B[0m                                     \u001B[2m                \u001B[0m\n",
       "\u001B[2;36m           \u001B[0m\u001B[34m│\u001B[0m \u001B[3;33mcontext\u001B[0m\u001B[31m =\u001B[0m \u001B[1m{\u001B[0m\u001B[32m'foo'\u001B[0m: \u001B[32m'bar'\u001B[0m\u001B[1m}\u001B[0m                        \u001B[34m│\u001B[0m                                     \u001B[2m                \u001B[0m\n",
       "\u001B[2;36m           \u001B[0m\u001B[34m│\u001B[0m \u001B[3;33menabled\u001B[0m\u001B[31m =\u001B[0m \u001B[3;91mFalse\u001B[0m                                 \u001B[34m│\u001B[0m                                     \u001B[2m                \u001B[0m\n",
       "\u001B[2;36m           \u001B[0m\u001B[34m│\u001B[0m  \u001B[3;33mmovies\u001B[0m\u001B[31m =\u001B[0m \u001B[1m[\u001B[0m\u001B[32m'Deadpool'\u001B[0m, \u001B[32m'Rise of the Skywalker'\u001B[0m\u001B[1m]\u001B[0m \u001B[34m│\u001B[0m                                     \u001B[2m                \u001B[0m\n",
       "\u001B[2;36m           \u001B[0m\u001B[34m╰─────────────────────────────────────────────────╯\u001B[0m                                     \u001B[2m                \u001B[0m\n"
      ]
     },
     "metadata": {},
     "output_type": "display_data"
    }
   ],
   "source": [
    "from rich.console import Console\n",
    "console = Console()\n",
    "\n",
    "test_data = [\n",
    "    {\"jsonrpc\": \"2.0\", \"method\": \"sum\", \"params\": [None, 1, 2, 4, False, True], \"id\": \"1\",},\n",
    "    {\"jsonrpc\": \"2.0\", \"method\": \"notify_hello\", \"params\": [7]},\n",
    "    {\"jsonrpc\": \"2.0\", \"method\": \"subtract\", \"params\": [42, 23], \"id\": \"2\"},\n",
    "]\n",
    "\n",
    "def test_log():\n",
    "    enabled = False\n",
    "    context = {\n",
    "        \"foo\": \"bar\",\n",
    "    }\n",
    "    movies = [\"Deadpool\", \"Rise of the Skywalker\"]\n",
    "    console.log(\"Hello from\", console, \"!\")\n",
    "    console.log(test_data, log_locals=True)\n",
    "\n",
    "\n",
    "test_log()"
   ]
  },
  {
   "cell_type": "code",
   "execution_count": 7,
   "metadata": {
    "ExecuteTime": {
     "end_time": "2023-02-21T03:32:40.404025Z",
     "start_time": "2023-02-21T03:32:40.390418Z"
    }
   },
   "outputs": [
    {
     "data": {
      "text/html": [
       "<pre style=\"white-space:pre;overflow-x:auto;line-height:normal;font-family:Menlo,'DejaVu Sans Mono',consolas,'Courier New',monospace\">😃 🧛 💩 👍 🦝\n",
       "</pre>\n"
      ],
      "text/plain": [
       "😃 🧛 💩 👍 🦝\n"
      ]
     },
     "metadata": {},
     "output_type": "display_data"
    }
   ],
   "source": [
    "console.print(\":smiley: :vampire: :pile_of_poo: :thumbs_up: :raccoon:\")"
   ]
  },
  {
   "cell_type": "code",
   "execution_count": 8,
   "metadata": {
    "ExecuteTime": {
     "end_time": "2023-02-21T03:32:54.892043Z",
     "start_time": "2023-02-21T03:32:54.872838Z"
    }
   },
   "outputs": [
    {
     "data": {
      "text/html": [
       "<pre style=\"white-space:pre;overflow-x:auto;line-height:normal;font-family:Menlo,'DejaVu Sans Mono',consolas,'Courier New',monospace\">┏━━━━━━━━━━━━━━┳━━━━━━━━━━━━━━━━━━━━━━━━━━━━━━━━━━━┳━━━━━━━━━━━━━━━━━━━┳━━━━━━━━━━━━━━━━┓\n",
       "┃<span style=\"color: #800080; text-decoration-color: #800080; font-weight: bold\"> Date         </span>┃<span style=\"color: #800080; text-decoration-color: #800080; font-weight: bold\"> Title                             </span>┃<span style=\"color: #800080; text-decoration-color: #800080; font-weight: bold\"> Production Budget </span>┃<span style=\"color: #800080; text-decoration-color: #800080; font-weight: bold\">     Box Office </span>┃\n",
       "┡━━━━━━━━━━━━━━╇━━━━━━━━━━━━━━━━━━━━━━━━━━━━━━━━━━━╇━━━━━━━━━━━━━━━━━━━╇━━━━━━━━━━━━━━━━┩\n",
       "│<span style=\"color: #7f7f7f; text-decoration-color: #7f7f7f\"> Dec 20, 2019 </span>│ Star Wars: The Rise of Skywalker  │      $275,000,000 │   $375,126,118 │\n",
       "│<span style=\"color: #7f7f7f; text-decoration-color: #7f7f7f\"> May 25, 2018 </span>│ <span style=\"color: #800000; text-decoration-color: #800000\">Solo</span>: A Star Wars Story           │      $275,000,000 │   $393,151,347 │\n",
       "│<span style=\"color: #7f7f7f; text-decoration-color: #7f7f7f\"> Dec 15, 2017 </span>│ Star Wars Ep. VIII: The Last Jedi │      $262,000,000 │ <span style=\"font-weight: bold\">$1,332,539,889</span> │\n",
       "└──────────────┴───────────────────────────────────┴───────────────────┴────────────────┘\n",
       "</pre>\n"
      ],
      "text/plain": [
       "┏━━━━━━━━━━━━━━┳━━━━━━━━━━━━━━━━━━━━━━━━━━━━━━━━━━━┳━━━━━━━━━━━━━━━━━━━┳━━━━━━━━━━━━━━━━┓\n",
       "┃\u001B[1;35m \u001B[0m\u001B[1;35mDate        \u001B[0m\u001B[1;35m \u001B[0m┃\u001B[1;35m \u001B[0m\u001B[1;35mTitle                            \u001B[0m\u001B[1;35m \u001B[0m┃\u001B[1;35m \u001B[0m\u001B[1;35mProduction Budget\u001B[0m\u001B[1;35m \u001B[0m┃\u001B[1;35m \u001B[0m\u001B[1;35m    Box Office\u001B[0m\u001B[1;35m \u001B[0m┃\n",
       "┡━━━━━━━━━━━━━━╇━━━━━━━━━━━━━━━━━━━━━━━━━━━━━━━━━━━╇━━━━━━━━━━━━━━━━━━━╇━━━━━━━━━━━━━━━━┩\n",
       "│\u001B[2m \u001B[0m\u001B[2mDec 20, 2019\u001B[0m\u001B[2m \u001B[0m│ Star Wars: The Rise of Skywalker  │      $275,000,000 │   $375,126,118 │\n",
       "│\u001B[2m \u001B[0m\u001B[2mMay 25, 2018\u001B[0m\u001B[2m \u001B[0m│ \u001B[31mSolo\u001B[0m: A Star Wars Story           │      $275,000,000 │   $393,151,347 │\n",
       "│\u001B[2m \u001B[0m\u001B[2mDec 15, 2017\u001B[0m\u001B[2m \u001B[0m│ Star Wars Ep. VIII: The Last Jedi │      $262,000,000 │ \u001B[1m$1,332,539,889\u001B[0m │\n",
       "└──────────────┴───────────────────────────────────┴───────────────────┴────────────────┘\n"
      ]
     },
     "metadata": {},
     "output_type": "display_data"
    }
   ],
   "source": [
    "from rich.console import Console\n",
    "from rich.table import Table\n",
    "\n",
    "console = Console()\n",
    "\n",
    "table = Table(show_header=True, header_style=\"bold magenta\")\n",
    "table.add_column(\"Date\", style=\"dim\", width=12)\n",
    "table.add_column(\"Title\")\n",
    "table.add_column(\"Production Budget\", justify=\"right\")\n",
    "table.add_column(\"Box Office\", justify=\"right\")\n",
    "table.add_row(\n",
    "    \"Dec 20, 2019\", \"Star Wars: The Rise of Skywalker\", \"$275,000,000\", \"$375,126,118\"\n",
    ")\n",
    "table.add_row(\n",
    "    \"May 25, 2018\",\n",
    "    \"[red]Solo[/red]: A Star Wars Story\",\n",
    "    \"$275,000,000\",\n",
    "    \"$393,151,347\",\n",
    ")\n",
    "table.add_row(\n",
    "    \"Dec 15, 2017\",\n",
    "    \"Star Wars Ep. VIII: The Last Jedi\",\n",
    "    \"$262,000,000\",\n",
    "    \"[bold]$1,332,539,889[/bold]\",\n",
    ")\n",
    "\n",
    "console.print(table)"
   ]
  },
  {
   "cell_type": "code",
   "execution_count": 9,
   "metadata": {
    "ExecuteTime": {
     "end_time": "2023-02-21T03:33:05.174587Z",
     "start_time": "2023-02-21T03:33:04.767190Z"
    }
   },
   "outputs": [
    {
     "data": {
      "application/vnd.jupyter.widget-view+json": {
       "model_id": "60758c6aa3e841d89eaa35dbe0dd750d",
       "version_major": 2,
       "version_minor": 0
      },
      "text/plain": [
       "Output()"
      ]
     },
     "metadata": {},
     "output_type": "display_data"
    },
    {
     "data": {
      "text/html": [
       "<pre style=\"white-space:pre;overflow-x:auto;line-height:normal;font-family:Menlo,'DejaVu Sans Mono',consolas,'Courier New',monospace\"></pre>\n"
      ],
      "text/plain": []
     },
     "metadata": {},
     "output_type": "display_data"
    },
    {
     "data": {
      "text/html": [
       "<pre style=\"white-space:pre;overflow-x:auto;line-height:normal;font-family:Menlo,'DejaVu Sans Mono',consolas,'Courier New',monospace\">\n",
       "</pre>\n"
      ],
      "text/plain": [
       "\n"
      ]
     },
     "metadata": {},
     "output_type": "display_data"
    },
    {
     "ename": "NameError",
     "evalue": "name 'do_step' is not defined",
     "output_type": "error",
     "traceback": [
      "\u001B[0;31m---------------------------------------------------------------------------\u001B[0m",
      "\u001B[0;31mNameError\u001B[0m                                 Traceback (most recent call last)",
      "Input \u001B[0;32mIn [9]\u001B[0m, in \u001B[0;36m<cell line: 3>\u001B[0;34m()\u001B[0m\n\u001B[1;32m      1\u001B[0m \u001B[38;5;28;01mfrom\u001B[39;00m \u001B[38;5;21;01mrich\u001B[39;00m\u001B[38;5;21;01m.\u001B[39;00m\u001B[38;5;21;01mprogress\u001B[39;00m \u001B[38;5;28;01mimport\u001B[39;00m track\n\u001B[1;32m      3\u001B[0m \u001B[38;5;28;01mfor\u001B[39;00m step \u001B[38;5;129;01min\u001B[39;00m track(\u001B[38;5;28mrange\u001B[39m(\u001B[38;5;241m100\u001B[39m)):\n\u001B[0;32m----> 4\u001B[0m     \u001B[43mdo_step\u001B[49m(step)\n",
      "\u001B[0;31mNameError\u001B[0m: name 'do_step' is not defined"
     ]
    }
   ],
   "source": [
    "from rich.progress import track\n",
    "\n",
    "for step in track(range(100)):\n",
    "    do_step(step)"
   ]
  },
  {
   "cell_type": "code",
   "execution_count": 10,
   "metadata": {
    "ExecuteTime": {
     "end_time": "2023-02-21T03:34:25.139886Z",
     "start_time": "2023-02-21T03:34:14.993697Z"
    }
   },
   "outputs": [
    {
     "data": {
      "application/vnd.jupyter.widget-view+json": {
       "model_id": "",
       "version_major": 2,
       "version_minor": 0
      },
      "text/plain": [
       "Output()"
      ]
     },
     "metadata": {},
     "output_type": "display_data"
    },
    {
     "data": {
      "text/html": [
       "<pre style=\"white-space:pre;overflow-x:auto;line-height:normal;font-family:Menlo,'DejaVu Sans Mono',consolas,'Courier New',monospace\"><span style=\"color: #7fbfbf; text-decoration-color: #7fbfbf\">[11:34:17] </span>task <span style=\"color: #008080; text-decoration-color: #008080; font-weight: bold\">2</span> complete                                                                         <a href=\"file:///var/folders/vs/f8lzgsm54yv60zz4t82ln2sr0000gn/T/ipykernel_1801/3174793479.py\" target=\"_blank\"><span style=\"color: #7f7f7f; text-decoration-color: #7f7f7f\">3174793479.py</span></a><span style=\"color: #7f7f7f; text-decoration-color: #7f7f7f\">:</span><a href=\"file:///var/folders/vs/f8lzgsm54yv60zz4t82ln2sr0000gn/T/ipykernel_1801/3174793479.py#11\" target=\"_blank\"><span style=\"color: #7f7f7f; text-decoration-color: #7f7f7f\">11</span></a>\n",
       "</pre>\n"
      ],
      "text/plain": [
       "\u001B[2;36m[11:34:17]\u001B[0m\u001B[2;36m \u001B[0mtask \u001B[1;36m2\u001B[0m complete                                                                         \u001B]8;id=922680;file:///var/folders/vs/f8lzgsm54yv60zz4t82ln2sr0000gn/T/ipykernel_1801/3174793479.py\u001B\\\u001B[2m3174793479.py\u001B[0m\u001B]8;;\u001B\\\u001B[2m:\u001B[0m\u001B]8;id=421419;file:///var/folders/vs/f8lzgsm54yv60zz4t82ln2sr0000gn/T/ipykernel_1801/3174793479.py#11\u001B\\\u001B[2m11\u001B[0m\u001B]8;;\u001B\\\n"
      ]
     },
     "metadata": {},
     "output_type": "display_data"
    },
    {
     "data": {
      "text/html": [
       "<pre style=\"white-space:pre;overflow-x:auto;line-height:normal;font-family:Menlo,'DejaVu Sans Mono',consolas,'Courier New',monospace\"><span style=\"color: #7fbfbf; text-decoration-color: #7fbfbf\">[11:34:18] </span>task <span style=\"color: #008080; text-decoration-color: #008080; font-weight: bold\">3</span> complete                                                                         <a href=\"file:///var/folders/vs/f8lzgsm54yv60zz4t82ln2sr0000gn/T/ipykernel_1801/3174793479.py\" target=\"_blank\"><span style=\"color: #7f7f7f; text-decoration-color: #7f7f7f\">3174793479.py</span></a><span style=\"color: #7f7f7f; text-decoration-color: #7f7f7f\">:</span><a href=\"file:///var/folders/vs/f8lzgsm54yv60zz4t82ln2sr0000gn/T/ipykernel_1801/3174793479.py#11\" target=\"_blank\"><span style=\"color: #7f7f7f; text-decoration-color: #7f7f7f\">11</span></a>\n",
       "</pre>\n"
      ],
      "text/plain": [
       "\u001B[2;36m[11:34:18]\u001B[0m\u001B[2;36m \u001B[0mtask \u001B[1;36m3\u001B[0m complete                                                                         \u001B]8;id=103483;file:///var/folders/vs/f8lzgsm54yv60zz4t82ln2sr0000gn/T/ipykernel_1801/3174793479.py\u001B\\\u001B[2m3174793479.py\u001B[0m\u001B]8;;\u001B\\\u001B[2m:\u001B[0m\u001B]8;id=147545;file:///var/folders/vs/f8lzgsm54yv60zz4t82ln2sr0000gn/T/ipykernel_1801/3174793479.py#11\u001B\\\u001B[2m11\u001B[0m\u001B]8;;\u001B\\\n"
      ]
     },
     "metadata": {},
     "output_type": "display_data"
    },
    {
     "data": {
      "text/html": [
       "<pre style=\"white-space:pre;overflow-x:auto;line-height:normal;font-family:Menlo,'DejaVu Sans Mono',consolas,'Courier New',monospace\"><span style=\"color: #7fbfbf; text-decoration-color: #7fbfbf\">[11:34:19] </span>task <span style=\"color: #008080; text-decoration-color: #008080; font-weight: bold\">4</span> complete                                                                         <a href=\"file:///var/folders/vs/f8lzgsm54yv60zz4t82ln2sr0000gn/T/ipykernel_1801/3174793479.py\" target=\"_blank\"><span style=\"color: #7f7f7f; text-decoration-color: #7f7f7f\">3174793479.py</span></a><span style=\"color: #7f7f7f; text-decoration-color: #7f7f7f\">:</span><a href=\"file:///var/folders/vs/f8lzgsm54yv60zz4t82ln2sr0000gn/T/ipykernel_1801/3174793479.py#11\" target=\"_blank\"><span style=\"color: #7f7f7f; text-decoration-color: #7f7f7f\">11</span></a>\n",
       "</pre>\n"
      ],
      "text/plain": [
       "\u001B[2;36m[11:34:19]\u001B[0m\u001B[2;36m \u001B[0mtask \u001B[1;36m4\u001B[0m complete                                                                         \u001B]8;id=882008;file:///var/folders/vs/f8lzgsm54yv60zz4t82ln2sr0000gn/T/ipykernel_1801/3174793479.py\u001B\\\u001B[2m3174793479.py\u001B[0m\u001B]8;;\u001B\\\u001B[2m:\u001B[0m\u001B]8;id=592308;file:///var/folders/vs/f8lzgsm54yv60zz4t82ln2sr0000gn/T/ipykernel_1801/3174793479.py#11\u001B\\\u001B[2m11\u001B[0m\u001B]8;;\u001B\\\n"
      ]
     },
     "metadata": {},
     "output_type": "display_data"
    },
    {
     "data": {
      "text/html": [
       "<pre style=\"white-space:pre;overflow-x:auto;line-height:normal;font-family:Menlo,'DejaVu Sans Mono',consolas,'Courier New',monospace\"><span style=\"color: #7fbfbf; text-decoration-color: #7fbfbf\">[11:34:20] </span>task <span style=\"color: #008080; text-decoration-color: #008080; font-weight: bold\">5</span> complete                                                                         <a href=\"file:///var/folders/vs/f8lzgsm54yv60zz4t82ln2sr0000gn/T/ipykernel_1801/3174793479.py\" target=\"_blank\"><span style=\"color: #7f7f7f; text-decoration-color: #7f7f7f\">3174793479.py</span></a><span style=\"color: #7f7f7f; text-decoration-color: #7f7f7f\">:</span><a href=\"file:///var/folders/vs/f8lzgsm54yv60zz4t82ln2sr0000gn/T/ipykernel_1801/3174793479.py#11\" target=\"_blank\"><span style=\"color: #7f7f7f; text-decoration-color: #7f7f7f\">11</span></a>\n",
       "</pre>\n"
      ],
      "text/plain": [
       "\u001B[2;36m[11:34:20]\u001B[0m\u001B[2;36m \u001B[0mtask \u001B[1;36m5\u001B[0m complete                                                                         \u001B]8;id=980568;file:///var/folders/vs/f8lzgsm54yv60zz4t82ln2sr0000gn/T/ipykernel_1801/3174793479.py\u001B\\\u001B[2m3174793479.py\u001B[0m\u001B]8;;\u001B\\\u001B[2m:\u001B[0m\u001B]8;id=652938;file:///var/folders/vs/f8lzgsm54yv60zz4t82ln2sr0000gn/T/ipykernel_1801/3174793479.py#11\u001B\\\u001B[2m11\u001B[0m\u001B]8;;\u001B\\\n"
      ]
     },
     "metadata": {},
     "output_type": "display_data"
    },
    {
     "data": {
      "text/html": [
       "<pre style=\"white-space:pre;overflow-x:auto;line-height:normal;font-family:Menlo,'DejaVu Sans Mono',consolas,'Courier New',monospace\"><span style=\"color: #7fbfbf; text-decoration-color: #7fbfbf\">[11:34:21] </span>task <span style=\"color: #008080; text-decoration-color: #008080; font-weight: bold\">6</span> complete                                                                         <a href=\"file:///var/folders/vs/f8lzgsm54yv60zz4t82ln2sr0000gn/T/ipykernel_1801/3174793479.py\" target=\"_blank\"><span style=\"color: #7f7f7f; text-decoration-color: #7f7f7f\">3174793479.py</span></a><span style=\"color: #7f7f7f; text-decoration-color: #7f7f7f\">:</span><a href=\"file:///var/folders/vs/f8lzgsm54yv60zz4t82ln2sr0000gn/T/ipykernel_1801/3174793479.py#11\" target=\"_blank\"><span style=\"color: #7f7f7f; text-decoration-color: #7f7f7f\">11</span></a>\n",
       "</pre>\n"
      ],
      "text/plain": [
       "\u001B[2;36m[11:34:21]\u001B[0m\u001B[2;36m \u001B[0mtask \u001B[1;36m6\u001B[0m complete                                                                         \u001B]8;id=216028;file:///var/folders/vs/f8lzgsm54yv60zz4t82ln2sr0000gn/T/ipykernel_1801/3174793479.py\u001B\\\u001B[2m3174793479.py\u001B[0m\u001B]8;;\u001B\\\u001B[2m:\u001B[0m\u001B]8;id=335095;file:///var/folders/vs/f8lzgsm54yv60zz4t82ln2sr0000gn/T/ipykernel_1801/3174793479.py#11\u001B\\\u001B[2m11\u001B[0m\u001B]8;;\u001B\\\n"
      ]
     },
     "metadata": {},
     "output_type": "display_data"
    },
    {
     "data": {
      "text/html": [
       "<pre style=\"white-space:pre;overflow-x:auto;line-height:normal;font-family:Menlo,'DejaVu Sans Mono',consolas,'Courier New',monospace\"><span style=\"color: #7fbfbf; text-decoration-color: #7fbfbf\">[11:34:22] </span>task <span style=\"color: #008080; text-decoration-color: #008080; font-weight: bold\">7</span> complete                                                                         <a href=\"file:///var/folders/vs/f8lzgsm54yv60zz4t82ln2sr0000gn/T/ipykernel_1801/3174793479.py\" target=\"_blank\"><span style=\"color: #7f7f7f; text-decoration-color: #7f7f7f\">3174793479.py</span></a><span style=\"color: #7f7f7f; text-decoration-color: #7f7f7f\">:</span><a href=\"file:///var/folders/vs/f8lzgsm54yv60zz4t82ln2sr0000gn/T/ipykernel_1801/3174793479.py#11\" target=\"_blank\"><span style=\"color: #7f7f7f; text-decoration-color: #7f7f7f\">11</span></a>\n",
       "</pre>\n"
      ],
      "text/plain": [
       "\u001B[2;36m[11:34:22]\u001B[0m\u001B[2;36m \u001B[0mtask \u001B[1;36m7\u001B[0m complete                                                                         \u001B]8;id=115285;file:///var/folders/vs/f8lzgsm54yv60zz4t82ln2sr0000gn/T/ipykernel_1801/3174793479.py\u001B\\\u001B[2m3174793479.py\u001B[0m\u001B]8;;\u001B\\\u001B[2m:\u001B[0m\u001B]8;id=65781;file:///var/folders/vs/f8lzgsm54yv60zz4t82ln2sr0000gn/T/ipykernel_1801/3174793479.py#11\u001B\\\u001B[2m11\u001B[0m\u001B]8;;\u001B\\\n"
      ]
     },
     "metadata": {},
     "output_type": "display_data"
    },
    {
     "data": {
      "text/html": [
       "<pre style=\"white-space:pre;overflow-x:auto;line-height:normal;font-family:Menlo,'DejaVu Sans Mono',consolas,'Courier New',monospace\"><span style=\"color: #7fbfbf; text-decoration-color: #7fbfbf\">[11:34:23] </span>task <span style=\"color: #008080; text-decoration-color: #008080; font-weight: bold\">8</span> complete                                                                         <a href=\"file:///var/folders/vs/f8lzgsm54yv60zz4t82ln2sr0000gn/T/ipykernel_1801/3174793479.py\" target=\"_blank\"><span style=\"color: #7f7f7f; text-decoration-color: #7f7f7f\">3174793479.py</span></a><span style=\"color: #7f7f7f; text-decoration-color: #7f7f7f\">:</span><a href=\"file:///var/folders/vs/f8lzgsm54yv60zz4t82ln2sr0000gn/T/ipykernel_1801/3174793479.py#11\" target=\"_blank\"><span style=\"color: #7f7f7f; text-decoration-color: #7f7f7f\">11</span></a>\n",
       "</pre>\n"
      ],
      "text/plain": [
       "\u001B[2;36m[11:34:23]\u001B[0m\u001B[2;36m \u001B[0mtask \u001B[1;36m8\u001B[0m complete                                                                         \u001B]8;id=164517;file:///var/folders/vs/f8lzgsm54yv60zz4t82ln2sr0000gn/T/ipykernel_1801/3174793479.py\u001B\\\u001B[2m3174793479.py\u001B[0m\u001B]8;;\u001B\\\u001B[2m:\u001B[0m\u001B]8;id=402880;file:///var/folders/vs/f8lzgsm54yv60zz4t82ln2sr0000gn/T/ipykernel_1801/3174793479.py#11\u001B\\\u001B[2m11\u001B[0m\u001B]8;;\u001B\\\n"
      ]
     },
     "metadata": {},
     "output_type": "display_data"
    },
    {
     "data": {
      "text/html": [
       "<pre style=\"white-space:pre;overflow-x:auto;line-height:normal;font-family:Menlo,'DejaVu Sans Mono',consolas,'Courier New',monospace\"><span style=\"color: #7fbfbf; text-decoration-color: #7fbfbf\">[11:34:24] </span>task <span style=\"color: #008080; text-decoration-color: #008080; font-weight: bold\">9</span> complete                                                                         <a href=\"file:///var/folders/vs/f8lzgsm54yv60zz4t82ln2sr0000gn/T/ipykernel_1801/3174793479.py\" target=\"_blank\"><span style=\"color: #7f7f7f; text-decoration-color: #7f7f7f\">3174793479.py</span></a><span style=\"color: #7f7f7f; text-decoration-color: #7f7f7f\">:</span><a href=\"file:///var/folders/vs/f8lzgsm54yv60zz4t82ln2sr0000gn/T/ipykernel_1801/3174793479.py#11\" target=\"_blank\"><span style=\"color: #7f7f7f; text-decoration-color: #7f7f7f\">11</span></a>\n",
       "</pre>\n"
      ],
      "text/plain": [
       "\u001B[2;36m[11:34:24]\u001B[0m\u001B[2;36m \u001B[0mtask \u001B[1;36m9\u001B[0m complete                                                                         \u001B]8;id=359644;file:///var/folders/vs/f8lzgsm54yv60zz4t82ln2sr0000gn/T/ipykernel_1801/3174793479.py\u001B\\\u001B[2m3174793479.py\u001B[0m\u001B]8;;\u001B\\\u001B[2m:\u001B[0m\u001B]8;id=374028;file:///var/folders/vs/f8lzgsm54yv60zz4t82ln2sr0000gn/T/ipykernel_1801/3174793479.py#11\u001B\\\u001B[2m11\u001B[0m\u001B]8;;\u001B\\\n"
      ]
     },
     "metadata": {},
     "output_type": "display_data"
    },
    {
     "data": {
      "text/html": [
       "<pre style=\"white-space:pre;overflow-x:auto;line-height:normal;font-family:Menlo,'DejaVu Sans Mono',consolas,'Courier New',monospace\"><span style=\"color: #7fbfbf; text-decoration-color: #7fbfbf\">[11:34:25] </span>task <span style=\"color: #008080; text-decoration-color: #008080; font-weight: bold\">10</span> complete                                                                        <a href=\"file:///var/folders/vs/f8lzgsm54yv60zz4t82ln2sr0000gn/T/ipykernel_1801/3174793479.py\" target=\"_blank\"><span style=\"color: #7f7f7f; text-decoration-color: #7f7f7f\">3174793479.py</span></a><span style=\"color: #7f7f7f; text-decoration-color: #7f7f7f\">:</span><a href=\"file:///var/folders/vs/f8lzgsm54yv60zz4t82ln2sr0000gn/T/ipykernel_1801/3174793479.py#11\" target=\"_blank\"><span style=\"color: #7f7f7f; text-decoration-color: #7f7f7f\">11</span></a>\n",
       "</pre>\n"
      ],
      "text/plain": [
       "\u001B[2;36m[11:34:25]\u001B[0m\u001B[2;36m \u001B[0mtask \u001B[1;36m10\u001B[0m complete                                                                        \u001B]8;id=318252;file:///var/folders/vs/f8lzgsm54yv60zz4t82ln2sr0000gn/T/ipykernel_1801/3174793479.py\u001B\\\u001B[2m3174793479.py\u001B[0m\u001B]8;;\u001B\\\u001B[2m:\u001B[0m\u001B]8;id=333243;file:///var/folders/vs/f8lzgsm54yv60zz4t82ln2sr0000gn/T/ipykernel_1801/3174793479.py#11\u001B\\\u001B[2m11\u001B[0m\u001B]8;;\u001B\\\n"
      ]
     },
     "metadata": {},
     "output_type": "display_data"
    },
    {
     "data": {
      "text/html": [
       "<pre style=\"white-space:pre;overflow-x:auto;line-height:normal;font-family:Menlo,'DejaVu Sans Mono',consolas,'Courier New',monospace\"></pre>\n"
      ],
      "text/plain": []
     },
     "metadata": {},
     "output_type": "display_data"
    }
   ],
   "source": [
    "from time import sleep\n",
    "from rich.console import Console\n",
    "\n",
    "console = Console()\n",
    "tasks = [f\"task {n}\" for n in range(1, 11)]\n",
    "\n",
    "with console.status(\"[bold green]Working on tasks...\") as status:\n",
    "    while tasks:\n",
    "        task = tasks.pop(0)\n",
    "        sleep(1)\n",
    "        console.log(f\"{task} complete\")"
   ]
  },
  {
   "cell_type": "code",
   "execution_count": 13,
   "metadata": {
    "ExecuteTime": {
     "end_time": "2023-02-21T03:35:02.036151Z",
     "start_time": "2023-02-21T03:35:02.007696Z"
    }
   },
   "outputs": [
    {
     "ename": "TypeError",
     "evalue": "listdir: path should be string, bytes, os.PathLike, integer or None, not list",
     "output_type": "error",
     "traceback": [
      "\u001B[0;31m---------------------------------------------------------------------------\u001B[0m",
      "\u001B[0;31mTypeError\u001B[0m                                 Traceback (most recent call last)",
      "Input \u001B[0;32mIn [13]\u001B[0m, in \u001B[0;36m<cell line: 7>\u001B[0;34m()\u001B[0m\n\u001B[1;32m      4\u001B[0m \u001B[38;5;28;01mfrom\u001B[39;00m \u001B[38;5;21;01mrich\u001B[39;00m \u001B[38;5;28;01mimport\u001B[39;00m \u001B[38;5;28mprint\u001B[39m\n\u001B[1;32m      5\u001B[0m \u001B[38;5;28;01mfrom\u001B[39;00m \u001B[38;5;21;01mrich\u001B[39;00m\u001B[38;5;21;01m.\u001B[39;00m\u001B[38;5;21;01mcolumns\u001B[39;00m \u001B[38;5;28;01mimport\u001B[39;00m Columns\n\u001B[0;32m----> 7\u001B[0m directory \u001B[38;5;241m=\u001B[39m \u001B[43mos\u001B[49m\u001B[38;5;241;43m.\u001B[39;49m\u001B[43mlistdir\u001B[49m\u001B[43m(\u001B[49m\u001B[43msys\u001B[49m\u001B[38;5;241;43m.\u001B[39;49m\u001B[43margv\u001B[49m\u001B[43m)\u001B[49m\n\u001B[1;32m      8\u001B[0m \u001B[38;5;28mprint\u001B[39m(Columns(directory))\n",
      "\u001B[0;31mTypeError\u001B[0m: listdir: path should be string, bytes, os.PathLike, integer or None, not list"
     ]
    }
   ],
   "source": [
    "import os\n",
    "import sys\n",
    "\n",
    "from rich import print\n",
    "from rich.columns import Columns\n",
    "\n",
    "directory = os.listdir(sys.argv[1])\n",
    "print(Columns(directory))"
   ]
  },
  {
   "cell_type": "code",
   "execution_count": null,
   "metadata": {},
   "outputs": [],
   "source": [
    "from rich.console import Console\n",
    "from rich.markdown import Markdown\n",
    "\n",
    "console = Console()\n",
    "with open(\"README.md\") as readme:\n",
    "    markdown = Markdown(readme.read())\n",
    "console.print(markdown)"
   ]
  },
  {
   "cell_type": "code",
   "execution_count": 14,
   "metadata": {
    "ExecuteTime": {
     "end_time": "2023-02-21T03:35:23.253807Z",
     "start_time": "2023-02-21T03:35:23.227950Z"
    }
   },
   "outputs": [
    {
     "data": {
      "text/html": [
       "<pre style=\"white-space:pre;overflow-x:auto;line-height:normal;font-family:Menlo,'DejaVu Sans Mono',consolas,'Courier New',monospace\"><span style=\"color: #e3e3dd; text-decoration-color: #e3e3dd; background-color: #272822; font-weight: bold\">  </span><span style=\"color: #656660; text-decoration-color: #656660; background-color: #272822\"> 1 </span><span style=\"background-color: #272822\">                                                                                                              </span>\n",
       "<span style=\"color: #e3e3dd; text-decoration-color: #e3e3dd; background-color: #272822; font-weight: bold\">  </span><span style=\"color: #656660; text-decoration-color: #656660; background-color: #272822\"> 2 </span><span style=\"color: #66d9ef; text-decoration-color: #66d9ef; background-color: #272822\">def</span><span style=\"color: #f8f8f2; text-decoration-color: #f8f8f2; background-color: #272822\"> </span><span style=\"color: #a6e22e; text-decoration-color: #a6e22e; background-color: #272822\">iter_first_last</span><span style=\"color: #f8f8f2; text-decoration-color: #f8f8f2; background-color: #272822\">(values: Iterable[T]) </span><span style=\"color: #f92672; text-decoration-color: #f92672; background-color: #272822\">-&gt;</span><span style=\"color: #f8f8f2; text-decoration-color: #f8f8f2; background-color: #272822\"> Iterable[Tuple[bool, bool, T]]:</span><span style=\"background-color: #272822\">                                   </span>\n",
       "<span style=\"color: #e3e3dd; text-decoration-color: #e3e3dd; background-color: #272822; font-weight: bold\">  </span><span style=\"color: #656660; text-decoration-color: #656660; background-color: #272822\"> 3 </span><span style=\"color: #f8f8f2; text-decoration-color: #f8f8f2; background-color: #272822\">    </span><span style=\"color: #e6db74; text-decoration-color: #e6db74; background-color: #272822\">\"\"\"Iterate and generate a tuple with a flag for first and last value.\"\"\"</span><span style=\"background-color: #272822\">                                  </span>\n",
       "<span style=\"color: #e3e3dd; text-decoration-color: #e3e3dd; background-color: #272822; font-weight: bold\">  </span><span style=\"color: #656660; text-decoration-color: #656660; background-color: #272822\"> 4 </span><span style=\"color: #f8f8f2; text-decoration-color: #f8f8f2; background-color: #272822\">    iter_values </span><span style=\"color: #f92672; text-decoration-color: #f92672; background-color: #272822\">=</span><span style=\"color: #f8f8f2; text-decoration-color: #f8f8f2; background-color: #272822\"> iter(values)</span><span style=\"background-color: #272822\">                                                                                </span>\n",
       "<span style=\"color: #e3e3dd; text-decoration-color: #e3e3dd; background-color: #272822; font-weight: bold\">  </span><span style=\"color: #656660; text-decoration-color: #656660; background-color: #272822\"> 5 </span><span style=\"color: #f8f8f2; text-decoration-color: #f8f8f2; background-color: #272822\">    </span><span style=\"color: #66d9ef; text-decoration-color: #66d9ef; background-color: #272822\">try</span><span style=\"color: #f8f8f2; text-decoration-color: #f8f8f2; background-color: #272822\">:</span><span style=\"background-color: #272822\">                                                                                                      </span>\n",
       "<span style=\"color: #e3e3dd; text-decoration-color: #e3e3dd; background-color: #272822; font-weight: bold\">  </span><span style=\"color: #656660; text-decoration-color: #656660; background-color: #272822\"> 6 </span><span style=\"color: #f8f8f2; text-decoration-color: #f8f8f2; background-color: #272822\">        previous_value </span><span style=\"color: #f92672; text-decoration-color: #f92672; background-color: #272822\">=</span><span style=\"color: #f8f8f2; text-decoration-color: #f8f8f2; background-color: #272822\"> next(iter_values)</span><span style=\"background-color: #272822\">                                                                    </span>\n",
       "<span style=\"color: #e3e3dd; text-decoration-color: #e3e3dd; background-color: #272822; font-weight: bold\">  </span><span style=\"color: #656660; text-decoration-color: #656660; background-color: #272822\"> 7 </span><span style=\"color: #f8f8f2; text-decoration-color: #f8f8f2; background-color: #272822\">    </span><span style=\"color: #66d9ef; text-decoration-color: #66d9ef; background-color: #272822\">except</span><span style=\"color: #f8f8f2; text-decoration-color: #f8f8f2; background-color: #272822\"> </span><span style=\"color: #a6e22e; text-decoration-color: #a6e22e; background-color: #272822\">StopIteration</span><span style=\"color: #f8f8f2; text-decoration-color: #f8f8f2; background-color: #272822\">:</span><span style=\"background-color: #272822\">                                                                                     </span>\n",
       "<span style=\"color: #e3e3dd; text-decoration-color: #e3e3dd; background-color: #272822; font-weight: bold\">  </span><span style=\"color: #656660; text-decoration-color: #656660; background-color: #272822\"> 8 </span><span style=\"color: #f8f8f2; text-decoration-color: #f8f8f2; background-color: #272822\">        </span><span style=\"color: #66d9ef; text-decoration-color: #66d9ef; background-color: #272822\">return</span><span style=\"background-color: #272822\">                                                                                                </span>\n",
       "<span style=\"color: #e3e3dd; text-decoration-color: #e3e3dd; background-color: #272822; font-weight: bold\">  </span><span style=\"color: #656660; text-decoration-color: #656660; background-color: #272822\"> 9 </span><span style=\"color: #f8f8f2; text-decoration-color: #f8f8f2; background-color: #272822\">    first </span><span style=\"color: #f92672; text-decoration-color: #f92672; background-color: #272822\">=</span><span style=\"color: #f8f8f2; text-decoration-color: #f8f8f2; background-color: #272822\"> </span><span style=\"color: #66d9ef; text-decoration-color: #66d9ef; background-color: #272822\">True</span><span style=\"background-color: #272822\">                                                                                              </span>\n",
       "<span style=\"color: #e3e3dd; text-decoration-color: #e3e3dd; background-color: #272822; font-weight: bold\">  </span><span style=\"color: #656660; text-decoration-color: #656660; background-color: #272822\">10 </span><span style=\"color: #f8f8f2; text-decoration-color: #f8f8f2; background-color: #272822\">    </span><span style=\"color: #66d9ef; text-decoration-color: #66d9ef; background-color: #272822\">for</span><span style=\"color: #f8f8f2; text-decoration-color: #f8f8f2; background-color: #272822\"> value </span><span style=\"color: #f92672; text-decoration-color: #f92672; background-color: #272822\">in</span><span style=\"color: #f8f8f2; text-decoration-color: #f8f8f2; background-color: #272822\"> iter_values:</span><span style=\"background-color: #272822\">                                                                                 </span>\n",
       "<span style=\"color: #e3e3dd; text-decoration-color: #e3e3dd; background-color: #272822; font-weight: bold\">  </span><span style=\"color: #656660; text-decoration-color: #656660; background-color: #272822\">11 </span><span style=\"color: #f8f8f2; text-decoration-color: #f8f8f2; background-color: #272822\">        </span><span style=\"color: #66d9ef; text-decoration-color: #66d9ef; background-color: #272822\">yield</span><span style=\"color: #f8f8f2; text-decoration-color: #f8f8f2; background-color: #272822\"> first, </span><span style=\"color: #66d9ef; text-decoration-color: #66d9ef; background-color: #272822\">False</span><span style=\"color: #f8f8f2; text-decoration-color: #f8f8f2; background-color: #272822\">, previous_value</span><span style=\"background-color: #272822\">                                                                    </span>\n",
       "<span style=\"color: #e3e3dd; text-decoration-color: #e3e3dd; background-color: #272822; font-weight: bold\">  </span><span style=\"color: #656660; text-decoration-color: #656660; background-color: #272822\">12 </span><span style=\"color: #f8f8f2; text-decoration-color: #f8f8f2; background-color: #272822\">        first </span><span style=\"color: #f92672; text-decoration-color: #f92672; background-color: #272822\">=</span><span style=\"color: #f8f8f2; text-decoration-color: #f8f8f2; background-color: #272822\"> </span><span style=\"color: #66d9ef; text-decoration-color: #66d9ef; background-color: #272822\">False</span><span style=\"background-color: #272822\">                                                                                         </span>\n",
       "<span style=\"color: #e3e3dd; text-decoration-color: #e3e3dd; background-color: #272822; font-weight: bold\">  </span><span style=\"color: #656660; text-decoration-color: #656660; background-color: #272822\">13 </span><span style=\"color: #f8f8f2; text-decoration-color: #f8f8f2; background-color: #272822\">        previous_value </span><span style=\"color: #f92672; text-decoration-color: #f92672; background-color: #272822\">=</span><span style=\"color: #f8f8f2; text-decoration-color: #f8f8f2; background-color: #272822\"> value</span><span style=\"background-color: #272822\">                                                                                </span>\n",
       "<span style=\"color: #e3e3dd; text-decoration-color: #e3e3dd; background-color: #272822; font-weight: bold\">  </span><span style=\"color: #656660; text-decoration-color: #656660; background-color: #272822\">14 </span><span style=\"color: #f8f8f2; text-decoration-color: #f8f8f2; background-color: #272822\">    </span><span style=\"color: #66d9ef; text-decoration-color: #66d9ef; background-color: #272822\">yield</span><span style=\"color: #f8f8f2; text-decoration-color: #f8f8f2; background-color: #272822\"> first, </span><span style=\"color: #66d9ef; text-decoration-color: #66d9ef; background-color: #272822\">True</span><span style=\"color: #f8f8f2; text-decoration-color: #f8f8f2; background-color: #272822\">, previous_value</span><span style=\"background-color: #272822\">                                                                         </span>\n",
       "<span style=\"color: #e3e3dd; text-decoration-color: #e3e3dd; background-color: #272822; font-weight: bold\">  </span><span style=\"color: #656660; text-decoration-color: #656660; background-color: #272822\">15 </span><span style=\"background-color: #272822\">                                                                                                              </span>\n",
       "</pre>\n"
      ],
      "text/plain": [
       "\u001B[1;38;2;227;227;221;48;2;39;40;34m  \u001B[0m\u001B[38;2;101;102;96;48;2;39;40;34m 1 \u001B[0m\u001B[48;2;39;40;34m                                                                                                              \u001B[0m\n",
       "\u001B[1;38;2;227;227;221;48;2;39;40;34m  \u001B[0m\u001B[38;2;101;102;96;48;2;39;40;34m 2 \u001B[0m\u001B[38;2;102;217;239;48;2;39;40;34mdef\u001B[0m\u001B[38;2;248;248;242;48;2;39;40;34m \u001B[0m\u001B[38;2;166;226;46;48;2;39;40;34miter_first_last\u001B[0m\u001B[38;2;248;248;242;48;2;39;40;34m(\u001B[0m\u001B[38;2;248;248;242;48;2;39;40;34mvalues\u001B[0m\u001B[38;2;248;248;242;48;2;39;40;34m:\u001B[0m\u001B[38;2;248;248;242;48;2;39;40;34m \u001B[0m\u001B[38;2;248;248;242;48;2;39;40;34mIterable\u001B[0m\u001B[38;2;248;248;242;48;2;39;40;34m[\u001B[0m\u001B[38;2;248;248;242;48;2;39;40;34mT\u001B[0m\u001B[38;2;248;248;242;48;2;39;40;34m]\u001B[0m\u001B[38;2;248;248;242;48;2;39;40;34m)\u001B[0m\u001B[38;2;248;248;242;48;2;39;40;34m \u001B[0m\u001B[38;2;249;38;114;48;2;39;40;34m-\u001B[0m\u001B[38;2;249;38;114;48;2;39;40;34m>\u001B[0m\u001B[38;2;248;248;242;48;2;39;40;34m \u001B[0m\u001B[38;2;248;248;242;48;2;39;40;34mIterable\u001B[0m\u001B[38;2;248;248;242;48;2;39;40;34m[\u001B[0m\u001B[38;2;248;248;242;48;2;39;40;34mTuple\u001B[0m\u001B[38;2;248;248;242;48;2;39;40;34m[\u001B[0m\u001B[38;2;248;248;242;48;2;39;40;34mbool\u001B[0m\u001B[38;2;248;248;242;48;2;39;40;34m,\u001B[0m\u001B[38;2;248;248;242;48;2;39;40;34m \u001B[0m\u001B[38;2;248;248;242;48;2;39;40;34mbool\u001B[0m\u001B[38;2;248;248;242;48;2;39;40;34m,\u001B[0m\u001B[38;2;248;248;242;48;2;39;40;34m \u001B[0m\u001B[38;2;248;248;242;48;2;39;40;34mT\u001B[0m\u001B[38;2;248;248;242;48;2;39;40;34m]\u001B[0m\u001B[38;2;248;248;242;48;2;39;40;34m]\u001B[0m\u001B[38;2;248;248;242;48;2;39;40;34m:\u001B[0m\u001B[48;2;39;40;34m                                   \u001B[0m\n",
       "\u001B[1;38;2;227;227;221;48;2;39;40;34m  \u001B[0m\u001B[38;2;101;102;96;48;2;39;40;34m 3 \u001B[0m\u001B[38;2;248;248;242;48;2;39;40;34m    \u001B[0m\u001B[38;2;230;219;116;48;2;39;40;34m\"\"\"Iterate and generate a tuple with a flag for first and last value.\"\"\"\u001B[0m\u001B[48;2;39;40;34m                                  \u001B[0m\n",
       "\u001B[1;38;2;227;227;221;48;2;39;40;34m  \u001B[0m\u001B[38;2;101;102;96;48;2;39;40;34m 4 \u001B[0m\u001B[38;2;248;248;242;48;2;39;40;34m    \u001B[0m\u001B[38;2;248;248;242;48;2;39;40;34miter_values\u001B[0m\u001B[38;2;248;248;242;48;2;39;40;34m \u001B[0m\u001B[38;2;249;38;114;48;2;39;40;34m=\u001B[0m\u001B[38;2;248;248;242;48;2;39;40;34m \u001B[0m\u001B[38;2;248;248;242;48;2;39;40;34miter\u001B[0m\u001B[38;2;248;248;242;48;2;39;40;34m(\u001B[0m\u001B[38;2;248;248;242;48;2;39;40;34mvalues\u001B[0m\u001B[38;2;248;248;242;48;2;39;40;34m)\u001B[0m\u001B[48;2;39;40;34m                                                                                \u001B[0m\n",
       "\u001B[1;38;2;227;227;221;48;2;39;40;34m  \u001B[0m\u001B[38;2;101;102;96;48;2;39;40;34m 5 \u001B[0m\u001B[38;2;248;248;242;48;2;39;40;34m    \u001B[0m\u001B[38;2;102;217;239;48;2;39;40;34mtry\u001B[0m\u001B[38;2;248;248;242;48;2;39;40;34m:\u001B[0m\u001B[48;2;39;40;34m                                                                                                      \u001B[0m\n",
       "\u001B[1;38;2;227;227;221;48;2;39;40;34m  \u001B[0m\u001B[38;2;101;102;96;48;2;39;40;34m 6 \u001B[0m\u001B[38;2;248;248;242;48;2;39;40;34m        \u001B[0m\u001B[38;2;248;248;242;48;2;39;40;34mprevious_value\u001B[0m\u001B[38;2;248;248;242;48;2;39;40;34m \u001B[0m\u001B[38;2;249;38;114;48;2;39;40;34m=\u001B[0m\u001B[38;2;248;248;242;48;2;39;40;34m \u001B[0m\u001B[38;2;248;248;242;48;2;39;40;34mnext\u001B[0m\u001B[38;2;248;248;242;48;2;39;40;34m(\u001B[0m\u001B[38;2;248;248;242;48;2;39;40;34miter_values\u001B[0m\u001B[38;2;248;248;242;48;2;39;40;34m)\u001B[0m\u001B[48;2;39;40;34m                                                                    \u001B[0m\n",
       "\u001B[1;38;2;227;227;221;48;2;39;40;34m  \u001B[0m\u001B[38;2;101;102;96;48;2;39;40;34m 7 \u001B[0m\u001B[38;2;248;248;242;48;2;39;40;34m    \u001B[0m\u001B[38;2;102;217;239;48;2;39;40;34mexcept\u001B[0m\u001B[38;2;248;248;242;48;2;39;40;34m \u001B[0m\u001B[38;2;166;226;46;48;2;39;40;34mStopIteration\u001B[0m\u001B[38;2;248;248;242;48;2;39;40;34m:\u001B[0m\u001B[48;2;39;40;34m                                                                                     \u001B[0m\n",
       "\u001B[1;38;2;227;227;221;48;2;39;40;34m  \u001B[0m\u001B[38;2;101;102;96;48;2;39;40;34m 8 \u001B[0m\u001B[38;2;248;248;242;48;2;39;40;34m        \u001B[0m\u001B[38;2;102;217;239;48;2;39;40;34mreturn\u001B[0m\u001B[48;2;39;40;34m                                                                                                \u001B[0m\n",
       "\u001B[1;38;2;227;227;221;48;2;39;40;34m  \u001B[0m\u001B[38;2;101;102;96;48;2;39;40;34m 9 \u001B[0m\u001B[38;2;248;248;242;48;2;39;40;34m    \u001B[0m\u001B[38;2;248;248;242;48;2;39;40;34mfirst\u001B[0m\u001B[38;2;248;248;242;48;2;39;40;34m \u001B[0m\u001B[38;2;249;38;114;48;2;39;40;34m=\u001B[0m\u001B[38;2;248;248;242;48;2;39;40;34m \u001B[0m\u001B[38;2;102;217;239;48;2;39;40;34mTrue\u001B[0m\u001B[48;2;39;40;34m                                                                                              \u001B[0m\n",
       "\u001B[1;38;2;227;227;221;48;2;39;40;34m  \u001B[0m\u001B[38;2;101;102;96;48;2;39;40;34m10 \u001B[0m\u001B[38;2;248;248;242;48;2;39;40;34m    \u001B[0m\u001B[38;2;102;217;239;48;2;39;40;34mfor\u001B[0m\u001B[38;2;248;248;242;48;2;39;40;34m \u001B[0m\u001B[38;2;248;248;242;48;2;39;40;34mvalue\u001B[0m\u001B[38;2;248;248;242;48;2;39;40;34m \u001B[0m\u001B[38;2;249;38;114;48;2;39;40;34min\u001B[0m\u001B[38;2;248;248;242;48;2;39;40;34m \u001B[0m\u001B[38;2;248;248;242;48;2;39;40;34miter_values\u001B[0m\u001B[38;2;248;248;242;48;2;39;40;34m:\u001B[0m\u001B[48;2;39;40;34m                                                                                 \u001B[0m\n",
       "\u001B[1;38;2;227;227;221;48;2;39;40;34m  \u001B[0m\u001B[38;2;101;102;96;48;2;39;40;34m11 \u001B[0m\u001B[38;2;248;248;242;48;2;39;40;34m        \u001B[0m\u001B[38;2;102;217;239;48;2;39;40;34myield\u001B[0m\u001B[38;2;248;248;242;48;2;39;40;34m \u001B[0m\u001B[38;2;248;248;242;48;2;39;40;34mfirst\u001B[0m\u001B[38;2;248;248;242;48;2;39;40;34m,\u001B[0m\u001B[38;2;248;248;242;48;2;39;40;34m \u001B[0m\u001B[38;2;102;217;239;48;2;39;40;34mFalse\u001B[0m\u001B[38;2;248;248;242;48;2;39;40;34m,\u001B[0m\u001B[38;2;248;248;242;48;2;39;40;34m \u001B[0m\u001B[38;2;248;248;242;48;2;39;40;34mprevious_value\u001B[0m\u001B[48;2;39;40;34m                                                                    \u001B[0m\n",
       "\u001B[1;38;2;227;227;221;48;2;39;40;34m  \u001B[0m\u001B[38;2;101;102;96;48;2;39;40;34m12 \u001B[0m\u001B[38;2;248;248;242;48;2;39;40;34m        \u001B[0m\u001B[38;2;248;248;242;48;2;39;40;34mfirst\u001B[0m\u001B[38;2;248;248;242;48;2;39;40;34m \u001B[0m\u001B[38;2;249;38;114;48;2;39;40;34m=\u001B[0m\u001B[38;2;248;248;242;48;2;39;40;34m \u001B[0m\u001B[38;2;102;217;239;48;2;39;40;34mFalse\u001B[0m\u001B[48;2;39;40;34m                                                                                         \u001B[0m\n",
       "\u001B[1;38;2;227;227;221;48;2;39;40;34m  \u001B[0m\u001B[38;2;101;102;96;48;2;39;40;34m13 \u001B[0m\u001B[38;2;248;248;242;48;2;39;40;34m        \u001B[0m\u001B[38;2;248;248;242;48;2;39;40;34mprevious_value\u001B[0m\u001B[38;2;248;248;242;48;2;39;40;34m \u001B[0m\u001B[38;2;249;38;114;48;2;39;40;34m=\u001B[0m\u001B[38;2;248;248;242;48;2;39;40;34m \u001B[0m\u001B[38;2;248;248;242;48;2;39;40;34mvalue\u001B[0m\u001B[48;2;39;40;34m                                                                                \u001B[0m\n",
       "\u001B[1;38;2;227;227;221;48;2;39;40;34m  \u001B[0m\u001B[38;2;101;102;96;48;2;39;40;34m14 \u001B[0m\u001B[38;2;248;248;242;48;2;39;40;34m    \u001B[0m\u001B[38;2;102;217;239;48;2;39;40;34myield\u001B[0m\u001B[38;2;248;248;242;48;2;39;40;34m \u001B[0m\u001B[38;2;248;248;242;48;2;39;40;34mfirst\u001B[0m\u001B[38;2;248;248;242;48;2;39;40;34m,\u001B[0m\u001B[38;2;248;248;242;48;2;39;40;34m \u001B[0m\u001B[38;2;102;217;239;48;2;39;40;34mTrue\u001B[0m\u001B[38;2;248;248;242;48;2;39;40;34m,\u001B[0m\u001B[38;2;248;248;242;48;2;39;40;34m \u001B[0m\u001B[38;2;248;248;242;48;2;39;40;34mprevious_value\u001B[0m\u001B[48;2;39;40;34m                                                                         \u001B[0m\n",
       "\u001B[1;38;2;227;227;221;48;2;39;40;34m  \u001B[0m\u001B[38;2;101;102;96;48;2;39;40;34m15 \u001B[0m\u001B[48;2;39;40;34m                                                                                                              \u001B[0m\n"
      ]
     },
     "metadata": {},
     "output_type": "display_data"
    }
   ],
   "source": [
    "from rich.console import Console\n",
    "from rich.syntax import Syntax\n",
    "\n",
    "my_code = '''\n",
    "def iter_first_last(values: Iterable[T]) -> Iterable[Tuple[bool, bool, T]]:\n",
    "    \"\"\"Iterate and generate a tuple with a flag for first and last value.\"\"\"\n",
    "    iter_values = iter(values)\n",
    "    try:\n",
    "        previous_value = next(iter_values)\n",
    "    except StopIteration:\n",
    "        return\n",
    "    first = True\n",
    "    for value in iter_values:\n",
    "        yield first, False, previous_value\n",
    "        first = False\n",
    "        previous_value = value\n",
    "    yield first, True, previous_value\n",
    "'''\n",
    "syntax = Syntax(my_code, \"python\", theme=\"monokai\", line_numbers=True)\n",
    "console = Console()\n",
    "console.print(syntax)"
   ]
  },
  {
   "cell_type": "code",
   "execution_count": null,
   "metadata": {},
   "outputs": [],
   "source": []
  },
  {
   "cell_type": "code",
   "execution_count": null,
   "metadata": {},
   "outputs": [],
   "source": []
  },
  {
   "cell_type": "code",
   "execution_count": null,
   "metadata": {},
   "outputs": [],
   "source": []
  },
  {
   "cell_type": "code",
   "execution_count": null,
   "metadata": {},
   "outputs": [],
   "source": []
  },
  {
   "cell_type": "markdown",
   "metadata": {},
   "source": [
    "## 其他"
   ]
  },
  {
   "cell_type": "code",
   "execution_count": null,
   "metadata": {},
   "outputs": [],
   "source": [
    "# 安装fabulous\n",
    "# pip install fabulous -i https://mirror.baidu.com/pypi/simple/\n",
    "# https://jart.github.io/fabulous/"
   ]
  },
  {
   "cell_type": "code",
   "execution_count": 1,
   "metadata": {
    "ExecuteTime": {
     "end_time": "2023-02-16T03:30:05.204647Z",
     "start_time": "2023-02-16T03:30:05.177953Z"
    }
   },
   "outputs": [],
   "source": [
    "from fabulous.color import bold, magenta, highlight_red, blue"
   ]
  },
  {
   "cell_type": "code",
   "execution_count": 2,
   "metadata": {
    "ExecuteTime": {
     "end_time": "2023-02-16T03:30:07.391562Z",
     "start_time": "2023-02-16T03:30:07.374848Z"
    }
   },
   "outputs": [
    {
     "name": "stdout",
     "output_type": "stream",
     "text": [
      "\u001B[1m\u001B[35m\n",
      "hello world\n",
      "this is some new line\n",
      "and here is the last line. :)\n",
      "\u001B[39m\u001B[22m\n",
      "\u001B[34m\u001B[35mGo\u001B[39m\u001B[39m\n",
      "\u001B[34mGo\u001B[39m\n",
      "\u001B[1;31;7mGo\u001B[22;27;39m\n"
     ]
    }
   ],
   "source": [
    "print(bold(magenta(\"\"\"\n",
    "hello world\n",
    "this is some new line\n",
    "and here is the last line. :)\n",
    "\"\"\")))\n",
    "print(blue(magenta('Go')))\n",
    "print(blue('Go'))\n",
    "print(highlight_red('Go'))"
   ]
  },
  {
   "cell_type": "code",
   "execution_count": null,
   "metadata": {},
   "outputs": [],
   "source": []
  }
 ],
 "metadata": {
  "kernelspec": {
   "display_name": "Python 3 (ipykernel)",
   "language": "python",
   "name": "python3"
  },
  "language_info": {
   "codemirror_mode": {
    "name": "ipython",
    "version": 3
   },
   "file_extension": ".py",
   "mimetype": "text/x-python",
   "name": "python",
   "nbconvert_exporter": "python",
   "pygments_lexer": "ipython3",
   "version": "3.10.4"
  },
  "latex_envs": {
   "LaTeX_envs_menu_present": true,
   "autoclose": false,
   "autocomplete": true,
   "bibliofile": "biblio.bib",
   "cite_by": "apalike",
   "current_citInitial": 1,
   "eqLabelWithNumbers": true,
   "eqNumInitial": 1,
   "hotkeys": {
    "equation": "Ctrl-E",
    "itemize": "Ctrl-I"
   },
   "labels_anchors": false,
   "latex_user_defs": false,
   "report_style_numbering": false,
   "user_envs_cfg": false
  },
  "toc": {
   "base_numbering": 1,
   "nav_menu": {},
   "number_sections": true,
   "sideBar": true,
   "skip_h1_title": false,
   "title_cell": "Table of Contents",
   "title_sidebar": "Contents",
   "toc_cell": false,
   "toc_position": {},
   "toc_section_display": true,
   "toc_window_display": true
  }
 },
 "nbformat": 4,
 "nbformat_minor": 1
}
