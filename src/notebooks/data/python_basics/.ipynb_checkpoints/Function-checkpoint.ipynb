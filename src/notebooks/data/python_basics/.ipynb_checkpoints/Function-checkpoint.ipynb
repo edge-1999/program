{
 "cells": [
  {
   "cell_type": "code",
   "execution_count": null,
   "metadata": {},
   "outputs": [],
   "source": [
    "import itertools\n",
    "import random\n",
    "import string\n",
    "from functools import reduce\n",
    "\n",
    "from sortedcontainers import SortedList, SortedSet, SortedDict\n",
    "\n",
    "help(SortedList)\n",
    "printable = string.digits + string.ascii_letters + string.punctuation\n",
    "list_name = list()\n",
    "for _ in range(random.randint(3, 7)):\n",
    "    list_name.append(''.join([random.choice(printable) for _ in range(random.randint(3, 7))]))\n",
    "\n",
    "# 获取列表中最长的元素\n",
    "min_len = len(reduce(lambda x, y: x if len(x) < len(y) else y, list_name))\n",
    "max_len = len(reduce(lambda x, y: x if len(x) > len(y) else y, list_name))"
   ]
  },
  {
   "cell_type": "markdown",
   "metadata": {},
   "source": [
    "# map"
   ]
  },
  {
   "cell_type": "code",
   "execution_count": null,
   "metadata": {},
   "outputs": [],
   "source": [
    "def map_function(x):\n",
    "    return x ** 2 + 2 * x + 1\n",
    "\n",
    "\n",
    "map(map_function, [1, -2, 3, -4])\n",
    "list(map(map_function, [1, -2, 3, -4]))"
   ]
  },
  {
   "cell_type": "markdown",
   "metadata": {},
   "source": [
    "# filter"
   ]
  },
  {
   "cell_type": "code",
   "execution_count": null,
   "metadata": {},
   "outputs": [],
   "source": [
    "# help(filter)\n",
    "\n",
    "\n",
    "def filter_(x):\n",
    "    return x % 2 == 0\n",
    "\n",
    "\n",
    "print(filter(filter_, list(range(10))))\n",
    "print(list(filter(filter_, list(range(10)))))"
   ]
  },
  {
   "cell_type": "markdown",
   "metadata": {},
   "source": [
    "# Lambda"
   ]
  },
  {
   "cell_type": "code",
   "execution_count": null,
   "metadata": {},
   "outputs": [],
   "source": [
    "import itertools\n",
    "import random\n",
    "import re\n",
    "import string\n",
    "from functools import reduce\n",
    "\n",
    "# Lambda函数用于创建匿名函数，即没有名称的函数。\n",
    "# map()函数会将一个函数映射到一个输入列表的所有元素上。\n",
    "# reduce()当需要对一个列表进行一些计算并返回结果时。当需要计算一个整数列表所有元素的乘积时，即可使用reduce函数实现\n",
    "# enumerate()函数用于将一个可遍历的数据对象(如列表、元组或字符串)组合为一个索引序列，同时列出数据和数据下标，一般用在for循环当中。\n",
    "# zip()函数用于将可迭代的对象作为参数，将对象中对应的元素打包成一个个元组，然后返回由这些元组组成的列表。\n",
    "# filter()函数用于过滤序列，过滤掉不符合条件的元素，返回由符合条件元素组成的新列表。\n",
    "from math import ceil\n",
    "\n",
    "var1 = lambda x: x + 2\n",
    "var1(10)\n",
    "\n",
    "li = list()\n",
    "li.append(lambda: x for x in range(5))\n",
    "next(li[0])\n",
    "\n",
    "# [lambda: x for x in range(5)]\n",
    "# [lambda x: x * i for i in range(4)]\n",
    "# [lambda: i * i for i in range(4)]\n",
    "\n",
    "colors = ['red', 'yellow', 'green', 'black']\n",
    "colors_uppercase = list(map(lambda x: x.upper(), colors))\n",
    "\n",
    "numbers = [1, 2, 3, 4, 5, 6, 7, 8, 9, 10]\n",
    "sum1 = dict(enumerate(list(map(lambda i: i * reduce(lambda x, y: x + y, numbers), numbers))))\n",
    "sum2 = dict(zip(list(map(lambda i: i * reduce(lambda x, y: x + y, numbers), numbers)), numbers))\n",
    "\n",
    "dict(enumerate(map(lambda i: i * reduce(lambda x, y: x + y, filter(lambda x: x % 2 == 0, numbers)), numbers)))\n",
    "dict(zip(map(lambda i: i * reduce(lambda x, y: x + y, filter(lambda x: x % 2 == 0, numbers)), numbers), numbers))\n",
    "DATA_S = [\"abc\", \"de\"]\n",
    "list(map(\"\".join, itertools.product(*map(lambda x: (x.lower(), x.upper()) if x.isalpha() else x, DATA_S))))\n",
    "\n",
    "lst = [1, 2, 3, 4, 5]\n",
    "size = 2\n",
    "list(map(lambda x: lst[x * size: x * size + size], list(range(0, int(ceil(len(lst) / size))))))\n",
    "list(map(int, str(123)))\n",
    "\n",
    "list_name = []\n",
    "printable = string.digits + string.ascii_letters + string.punctuation\n",
    "for _ in range(random.randint(3, 10)):\n",
    "    list_name.append(''.join([random.choice(printable) for _ in range(random.randint(3, 7))]))\n",
    "\n",
    "min_len = len(reduce(lambda x, y: x if len(x) < len(y) else y, list_name))\n",
    "max_len = len(reduce(lambda x, y: x if len(x) > len(y) else y, list_name))\n",
    "map(\"\".join, itertools.product(*map(lambda x: (x.lower(), x.upper()) if x.isalpha() else x, S)))\n",
    "\n",
    "\n",
    "def letterCasePermutation(S):\n",
    "    return map(\"\".join, itertools.product(*map(lambda x: (x.lower(), x.upper()) if x.isalpha() else x, S)))\n",
    "\n",
    "\n",
    "def snake(s):\n",
    "    return '_'.join(re.sub('([A-Z][a-z]+)', r' \\1', re.sub('([A-Z]+)', r' \\1', s.replace('-', ''))).split()).lower()\n",
    "\n",
    "\n",
    "list1 = [1, 1, 1, 0, 0, 0, 1, 1, 0, 1, 1, 1, 1, 1, 1]\n",
    "reduce(lambda x, y: x + y, [[i for i in range(len(list(num)))] for item, num in itertools.groupby(list1)])"
   ]
  },
  {
   "cell_type": "markdown",
   "metadata": {},
   "source": [
    "# reduce"
   ]
  },
  {
   "cell_type": "code",
   "execution_count": null,
   "metadata": {},
   "outputs": [],
   "source": [
    "from functools import reduce\n",
    "\n",
    "\n",
    "# help(reduce)\n",
    "\n",
    "\n",
    "def add(x, y):\n",
    "    return x + y\n",
    "\n",
    "\n",
    "print(reduce(add, [1, -2, 3, -4]))"
   ]
  },
  {
   "cell_type": "markdown",
   "metadata": {},
   "source": [
    "# zip"
   ]
  }
 ],
 "metadata": {
  "kernelspec": {
   "display_name": "Python 3 (ipykernel)",
   "language": "python",
   "name": "python3"
  },
  "language_info": {
   "codemirror_mode": {
    "name": "ipython",
    "version": 3
   },
   "file_extension": ".py",
   "mimetype": "text/x-python",
   "name": "python",
   "nbconvert_exporter": "python",
   "pygments_lexer": "ipython3",
   "version": "3.10.4"
  },
  "latex_envs": {
   "LaTeX_envs_menu_present": true,
   "autoclose": false,
   "autocomplete": true,
   "bibliofile": "biblio.bib",
   "cite_by": "apalike",
   "current_citInitial": 1,
   "eqLabelWithNumbers": true,
   "eqNumInitial": 1,
   "hotkeys": {
    "equation": "Ctrl-E",
    "itemize": "Ctrl-I"
   },
   "labels_anchors": false,
   "latex_user_defs": false,
   "report_style_numbering": false,
   "user_envs_cfg": false
  },
  "toc": {
   "base_numbering": 1,
   "nav_menu": {},
   "number_sections": true,
   "sideBar": true,
   "skip_h1_title": false,
   "title_cell": "Table of Contents",
   "title_sidebar": "Contents",
   "toc_cell": false,
   "toc_position": {},
   "toc_section_display": true,
   "toc_window_display": true
  }
 },
 "nbformat": 4,
 "nbformat_minor": 1
}
