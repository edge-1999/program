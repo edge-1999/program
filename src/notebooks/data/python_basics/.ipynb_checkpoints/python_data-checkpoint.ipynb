{
 "cells": [
  {
   "cell_type": "markdown",
   "metadata": {},
   "source": [
    "安装所需包\n",
    "!pip install pandarallel"
   ]
  },
  {
   "cell_type": "markdown",
   "metadata": {
    "id": "IR_9HEA_eOvG"
   },
   "source": [
    "需要导入的包"
   ]
  },
  {
   "cell_type": "code",
   "execution_count": 2,
   "metadata": {
    "ExecuteTime": {
     "end_time": "2022-11-02T14:42:08.267378Z",
     "start_time": "2022-11-02T14:42:08.180570Z"
    }
   },
   "outputs": [],
   "source": [
    "from translate import Translator\n",
    "import time\n",
    "import datetime\n",
    "import calendar\n",
    "\n",
    "from decimal import Decimal"
   ]
  },
  {
   "cell_type": "markdown",
   "metadata": {},
   "source": [
    "# 度量"
   ]
  },
  {
   "cell_type": "markdown",
   "metadata": {},
   "source": [
    "数据计算，转换计算数据，并可以指定数据几位数输出，非常适合我这种轻微强迫症。"
   ]
  },
  {
   "cell_type": "code",
   "execution_count": 3,
   "metadata": {
    "ExecuteTime": {
     "end_time": "2022-11-02T14:42:11.303428Z",
     "start_time": "2022-11-02T14:42:11.279763Z"
    }
   },
   "outputs": [
    {
     "data": {
      "text/plain": [
       "Decimal('0.023432')"
      ]
     },
     "execution_count": 3,
     "metadata": {},
     "output_type": "execute_result"
    }
   ],
   "source": [
    "Decimal('0.023432')"
   ]
  },
  {
   "cell_type": "code",
   "execution_count": 4,
   "metadata": {
    "ExecuteTime": {
     "end_time": "2022-11-02T14:43:08.442571Z",
     "start_time": "2022-11-02T14:43:08.428769Z"
    }
   },
   "outputs": [
    {
     "data": {
      "text/plain": [
       "Decimal('0.02')"
      ]
     },
     "execution_count": 4,
     "metadata": {},
     "output_type": "execute_result"
    }
   ],
   "source": [
    "Decimal('0.023432').quantize(Decimal('0.00')) "
   ]
  },
  {
   "cell_type": "markdown",
   "metadata": {
    "id": "0TgZXnNceEja"
   },
   "source": [
    "# 时间数据"
   ]
  },
  {
   "cell_type": "markdown",
   "metadata": {
    "id": "j9Y4F3oMeHrp"
   },
   "source": [
    "## 时间戳"
   ]
  },
  {
   "cell_type": "markdown",
   "metadata": {},
   "source": [
    "提取特定日期格式字符串并转换为时间元祖格式"
   ]
  },
  {
   "cell_type": "code",
   "execution_count": null,
   "metadata": {},
   "outputs": [],
   "source": [
    "datetime.datetime.strptime(str(i['ELE_T_G0TCRQ']), \"%Y-%m-%d\").timetuple()"
   ]
  },
  {
   "cell_type": "code",
   "execution_count": 3,
   "metadata": {
    "ExecuteTime": {
     "end_time": "2022-11-02T01:30:04.452253Z",
     "start_time": "2022-11-02T01:30:04.441176Z"
    },
    "colab": {
     "base_uri": "https://localhost:8080/"
    },
    "id": "vuRsPAIPeNDY",
    "outputId": "bdcfcd36-2bbb-4090-a4c6-4fc127d1cf5c"
   },
   "outputs": [
    {
     "data": {
      "text/plain": [
       "1667352604.0"
      ]
     },
     "execution_count": 3,
     "metadata": {},
     "output_type": "execute_result"
    }
   ],
   "source": [
    "time.time()  # 当前时间的时间戳 float\n",
    "time.mktime(time.localtime())  # 时间元祖 转换为 时间戳"
   ]
  },
  {
   "cell_type": "markdown",
   "metadata": {
    "id": "ezWImz7feSYR"
   },
   "source": [
    "## 时间字符串"
   ]
  },
  {
   "cell_type": "code",
   "execution_count": null,
   "metadata": {
    "colab": {
     "base_uri": "https://localhost:8080/",
     "height": 37
    },
    "id": "SIUR-luneWXW",
    "outputId": "63f6a9b4-5fe7-4602-9951-7a5ed876467d"
   },
   "outputs": [
    {
     "data": {
      "application/vnd.google.colaboratory.intrinsic+json": {
       "type": "string"
      },
      "text/plain": [
       "'2022-10-06 18:08:55'"
      ]
     },
     "execution_count": 3,
     "metadata": {},
     "output_type": "execute_result"
    }
   ],
   "source": [
    "time.ctime()  # time.time() 1647700146.2020931 转为 Sat Mar 19 22:29:14 2022。如果不输入需要转换的时间内容则返回当前时间\n",
    "time.asctime()  # 'Sat Mar 19 23:45:00 2022'\n",
    "time.asctime()  # 时间元祖 转换为 时间字符串 'Sat Mar 19 23:45:00 2022'\n",
    "time.strftime(\"%Y-%m-%d %H:%M:%S\", time.localtime())  # 时间元祖 转换为 字符串时间：'2022-03-19 22:42:45'\n",
    "time.strftime(\"%Y-%m-%d %H:%M:%S\")  # 输入时间格式返回'2022-03-19 22:32:18'\n",
    "time.asctime()  # 时间元祖 转换为 字符串时间：'Sat Mar 19 22:26:19 2022'\n",
    "datetime.datetime.now().strftime(\"%Y-%m-%d %H:%M:%S\")"
   ]
  },
  {
   "cell_type": "markdown",
   "metadata": {
    "id": "jLiPCfpzeYvp"
   },
   "source": [
    "## 时间元祖"
   ]
  },
  {
   "cell_type": "code",
   "execution_count": null,
   "metadata": {
    "colab": {
     "base_uri": "https://localhost:8080/"
    },
    "id": "HLh83rO9eaPS",
    "outputId": "caa9bdac-a0d2-41b4-9236-b244bf44f560"
   },
   "outputs": [
    {
     "data": {
      "text/plain": [
       "datetime.date(6, 7, 15)"
      ]
     },
     "execution_count": 8,
     "metadata": {},
     "output_type": "execute_result"
    }
   ],
   "source": [
    "time.localtime()  # 空值返回当前时间元祖：(2022, 3, 19, 22, 39, 55, 5, 78, 0)\n",
    "time.localtime(time.time())  # 输入时间戳返回时间元祖：(2022, 3, 19, 22, 39, 55, 5, 78, 0)\n",
    "time.gmtime()  # 空值返回当前时间元祖：(2022, 3, 19, 22, 39, 55, 5, 78, 0)\n",
    "time.gmtime(time.time())  # 输入时间戳返回时间元祖：1647700864.264662\n",
    "time.strptime(\"2022-05-20 00:00:00\", '%Y-%m-%d %X')  # 时间字符串 转化为 时间元祖\n",
    "time.strptime(\"2022-05-20 00:00:00\", '%Y-%m-%d %H:%M:%S')  # 时间字符串 转化为 时间元祖\n",
    "time.strptime(\"2022-05-20 23:59:59\", '%Y-%m-%d %H:%M:%S')  # 时间字符串 转化为 时间元祖\n",
    "time.strptime(\"2022-05-21 00:00:00\", '%Y-%m-%d %H:%M:%S')  # 时间字符串 转化为 时间元祖\n",
    "datetime.datetime.now()\n",
    "datetime.timedelta(days=3)  # float[weeks,days,hours,minutes,seconds,microseconds, milliseconds]\n",
    "datetime.datetime.now() - datetime.timedelta(days=3)  # 计算当前时间+-额外时间\n",
    "datetime.datetime.now().timetuple()  # 时间元祖datetime.datetime 转化为 time.struct_time\n",
    "datetime.datetime.utcfromtimestamp(time.time())\n",
    "datetime.datetime.utcfromtimestamp(time.time()) - datetime.timedelta(days=3)  # 计算当前时间+-额外时间\n",
    "datetime.date.today()  # datetime.date(2022, 3, 20)\n",
    "datetime.date.fromtimestamp(time.time())  # datetime.date(2022, 3, 20)\n",
    "datetime.date.fromtimestamp(1647700146.2020931)  # datetime.date.fromtimestamp(1647700146.2020931)\n",
    "datetime.date.fromordinal(2022)  # 未知"
   ]
  },
  {
   "cell_type": "code",
   "execution_count": 32,
   "metadata": {
    "ExecuteTime": {
     "end_time": "2022-11-02T02:20:36.974657Z",
     "start_time": "2022-11-02T02:20:36.963617Z"
    }
   },
   "outputs": [
    {
     "data": {
      "text/plain": [
       "'2021-05-31'"
      ]
     },
     "execution_count": 32,
     "metadata": {},
     "output_type": "execute_result"
    }
   ],
   "source": [
    "# time.strptime(\"Tue, 01 Nov 2022 00:00:00 GMT\", '%Y-%m-%d %H:%M:%S')\n",
    "from datetime import datetime\n",
    "time.strftime(\"%Y-%m-%d\",  datetime.strptime(\"Mon, 31 May 2021 00:00:00 GMT\", \"%a, %d %b %Y %H:%M:%S %Z\").timetuple())"
   ]
  },
  {
   "cell_type": "code",
   "execution_count": 29,
   "metadata": {
    "ExecuteTime": {
     "end_time": "2022-11-02T02:18:20.694880Z",
     "start_time": "2022-11-02T02:18:20.687140Z"
    }
   },
   "outputs": [
    {
     "data": {
      "text/plain": [
       "'2022-11-02 10:18:20'"
      ]
     },
     "execution_count": 29,
     "metadata": {},
     "output_type": "execute_result"
    }
   ],
   "source": [
    "time.ctime()\n",
    "datetime.now()\n",
    "\n",
    "time.strftime(\"%Y-%m-%d %H:%M:%S\", datetime.now().timetuple())"
   ]
  },
  {
   "cell_type": "code",
   "execution_count": 36,
   "metadata": {
    "ExecuteTime": {
     "end_time": "2022-11-02T09:28:16.016054Z",
     "start_time": "2022-11-02T09:28:16.004543Z"
    }
   },
   "outputs": [
    {
     "data": {
      "text/plain": [
       "'2022-11-02'"
      ]
     },
     "execution_count": 36,
     "metadata": {},
     "output_type": "execute_result"
    }
   ],
   "source": [
    "datetime.now().strftime(\"%Y-%m-%d\")"
   ]
  },
  {
   "cell_type": "markdown",
   "metadata": {
    "id": "mCdom_rhedXD"
   },
   "source": [
    "## 查看时区"
   ]
  },
  {
   "cell_type": "code",
   "execution_count": null,
   "metadata": {
    "colab": {
     "base_uri": "https://localhost:8080/",
     "height": 37
    },
    "id": "WJZQoV-XeeXI",
    "outputId": "bd7e7233-e3fe-44b7-c03d-649fb90c2a02"
   },
   "outputs": [
    {
     "data": {
      "application/vnd.google.colaboratory.intrinsic+json": {
       "type": "string"
      },
      "text/plain": [
       "'2022-10-06T18:10:36.218107'"
      ]
     },
     "execution_count": 9,
     "metadata": {},
     "output_type": "execute_result"
    }
   ],
   "source": [
    "# time.timezone  # -28800=-8*3600\n",
    "# time.timezone // 3600  # 东八区\n",
    "# time.clock()  # Mac M1 用不了\n",
    "datetime.datetime.now().isoformat()  # ISO格式的时间与日期"
   ]
  },
  {
   "cell_type": "markdown",
   "metadata": {
    "id": "SmDb9KMheh02"
   },
   "source": [
    "## 时间转换"
   ]
  },
  {
   "cell_type": "code",
   "execution_count": null,
   "metadata": {
    "id": "GoLSwWb8ejZa"
   },
   "outputs": [],
   "source": [
    "# 只有 days, seconds 和 microseconds 会存储在内部。 参数单位的换算规则如下：\n",
    "# 1毫秒会转换成1000微秒。\n",
    "# 1分钟会转换成60秒。\n",
    "# 1小时会转换成3600秒。\n",
    "# 1星期会转换成7天。\n",
    "# days -999999999 至 999999999 ，含999999999\n",
    "# seconds 0 至 86399，包含86399\n",
    "# microseconds 0 至 999999，包含999999\n",
    "datetime.timedelta(microseconds=-1)\n",
    "datetime.timedelta(days=50, seconds=27, microseconds=10, milliseconds=29000, minutes=5, hours=8, weeks=2)\n",
    "days_ = datetime.timedelta(days=50, seconds=27, microseconds=10, milliseconds=29000, minutes=5, hours=8, weeks=2).days\n",
    "seconds_ = datetime.timedelta(days=50, seconds=27, microseconds=10, milliseconds=29000, minutes=5, hours=8,\n",
    "                              weeks=2).seconds"
   ]
  },
  {
   "cell_type": "markdown",
   "metadata": {
    "id": "a6UcnHRBepVW"
   },
   "source": [
    "## 日历"
   ]
  },
  {
   "cell_type": "markdown",
   "metadata": {
    "id": "VL88DM0qe5Lk"
   },
   "source": [
    "％a 星期几的简写、％A 星期几的全称、％b 月分的简写、％B 月份的全称、％¢ 标准的日期的时间串、％¢ 年份的后两位数字、％d十进制表示的每月的第几天、％D 月/天/年、%e 在两宇符域中，十进制表示的每月的第几天、%F 年-月-日、％g 年份的后两位数字，使用基于周的年、％6 年分，使用基于周的年、％h 简写的月份名、％H 24小时制的小时、％112小时制的小时、％j 十进制表示的每年的第几天、％m＋进制表示的月份、％M 十时制表示的分钟数、％n新行符、％p 本地的AM或PM的等价显示、％12小时的时间、％R 显示小时和分钟：hh:mm、％S 十进制的秒数、％t水平制表符、％丁 显示时分秒：hh:mm:ss、％u 每周的第几天，星期一为第一天（值从0到6，星期一为0）、％U第年的第几周，把星期日做为第一天（值从o到53）、％V 每年的第几周，使用基于周的年、%w ＋进制表示的星期几（值从0到6，星期天为0）、%W 每年的第几周，把星期一做为第一天（值从0到53)、％x 标准的日期串、％× 标准的时间串、％y不带世纪的十进制年份（值从0到9g）、％丫带世纪部分的十制年份、％z，%2 时区名称，如果不能得到时区名称则返回空字符。、％% 百分号"
   ]
  },
  {
   "cell_type": "code",
   "execution_count": null,
   "metadata": {
    "colab": {
     "base_uri": "https://localhost:8080/",
     "height": 1000
    },
    "id": "lQhegaFHeyBs",
    "outputId": "dd8be6f1-9b8e-4f84-dc6e-cec37a09841b"
   },
   "outputs": [
    {
     "name": "stdout",
     "output_type": "stream",
     "text": [
      "                                  2022\n",
      "\n",
      "      January                   February                   March\n",
      "Mo Tu We Th Fr Sa Su      Mo Tu We Th Fr Sa Su      Mo Tu We Th Fr Sa Su\n",
      "                1  2          1  2  3  4  5  6          1  2  3  4  5  6\n",
      " 3  4  5  6  7  8  9       7  8  9 10 11 12 13       7  8  9 10 11 12 13\n",
      "10 11 12 13 14 15 16      14 15 16 17 18 19 20      14 15 16 17 18 19 20\n",
      "17 18 19 20 21 22 23      21 22 23 24 25 26 27      21 22 23 24 25 26 27\n",
      "24 25 26 27 28 29 30      28                        28 29 30 31\n",
      "31\n",
      "\n",
      "       April                      May                       June\n",
      "Mo Tu We Th Fr Sa Su      Mo Tu We Th Fr Sa Su      Mo Tu We Th Fr Sa Su\n",
      "             1  2  3                         1             1  2  3  4  5\n",
      " 4  5  6  7  8  9 10       2  3  4  5  6  7  8       6  7  8  9 10 11 12\n",
      "11 12 13 14 15 16 17       9 10 11 12 13 14 15      13 14 15 16 17 18 19\n",
      "18 19 20 21 22 23 24      16 17 18 19 20 21 22      20 21 22 23 24 25 26\n",
      "25 26 27 28 29 30         23 24 25 26 27 28 29      27 28 29 30\n",
      "                          30 31\n",
      "\n",
      "        July                     August                  September\n",
      "Mo Tu We Th Fr Sa Su      Mo Tu We Th Fr Sa Su      Mo Tu We Th Fr Sa Su\n",
      "             1  2  3       1  2  3  4  5  6  7                1  2  3  4\n",
      " 4  5  6  7  8  9 10       8  9 10 11 12 13 14       5  6  7  8  9 10 11\n",
      "11 12 13 14 15 16 17      15 16 17 18 19 20 21      12 13 14 15 16 17 18\n",
      "18 19 20 21 22 23 24      22 23 24 25 26 27 28      19 20 21 22 23 24 25\n",
      "25 26 27 28 29 30 31      29 30 31                  26 27 28 29 30\n",
      "\n",
      "      October                   November                  December\n",
      "Mo Tu We Th Fr Sa Su      Mo Tu We Th Fr Sa Su      Mo Tu We Th Fr Sa Su\n",
      "                1  2          1  2  3  4  5  6                1  2  3  4\n",
      " 3  4  5  6  7  8  9       7  8  9 10 11 12 13       5  6  7  8  9 10 11\n",
      "10 11 12 13 14 15 16      14 15 16 17 18 19 20      12 13 14 15 16 17 18\n",
      "17 18 19 20 21 22 23      21 22 23 24 25 26 27      19 20 21 22 23 24 25\n",
      "24 25 26 27 28 29 30      28 29 30                  26 27 28 29 30 31\n",
      "31\n",
      "                                  2022\n",
      "\n",
      "      January                   February                   March\n",
      "Mo Tu We Th Fr Sa Su      Mo Tu We Th Fr Sa Su      Mo Tu We Th Fr Sa Su\n",
      "                1  2          1  2  3  4  5  6          1  2  3  4  5  6\n",
      " 3  4  5  6  7  8  9       7  8  9 10 11 12 13       7  8  9 10 11 12 13\n",
      "10 11 12 13 14 15 16      14 15 16 17 18 19 20      14 15 16 17 18 19 20\n",
      "17 18 19 20 21 22 23      21 22 23 24 25 26 27      21 22 23 24 25 26 27\n",
      "24 25 26 27 28 29 30      28                        28 29 30 31\n",
      "31\n",
      "\n",
      "       April                      May                       June\n",
      "Mo Tu We Th Fr Sa Su      Mo Tu We Th Fr Sa Su      Mo Tu We Th Fr Sa Su\n",
      "             1  2  3                         1             1  2  3  4  5\n",
      " 4  5  6  7  8  9 10       2  3  4  5  6  7  8       6  7  8  9 10 11 12\n",
      "11 12 13 14 15 16 17       9 10 11 12 13 14 15      13 14 15 16 17 18 19\n",
      "18 19 20 21 22 23 24      16 17 18 19 20 21 22      20 21 22 23 24 25 26\n",
      "25 26 27 28 29 30         23 24 25 26 27 28 29      27 28 29 30\n",
      "                          30 31\n",
      "\n",
      "        July                     August                  September\n",
      "Mo Tu We Th Fr Sa Su      Mo Tu We Th Fr Sa Su      Mo Tu We Th Fr Sa Su\n",
      "             1  2  3       1  2  3  4  5  6  7                1  2  3  4\n",
      " 4  5  6  7  8  9 10       8  9 10 11 12 13 14       5  6  7  8  9 10 11\n",
      "11 12 13 14 15 16 17      15 16 17 18 19 20 21      12 13 14 15 16 17 18\n",
      "18 19 20 21 22 23 24      22 23 24 25 26 27 28      19 20 21 22 23 24 25\n",
      "25 26 27 28 29 30 31      29 30 31                  26 27 28 29 30\n",
      "\n",
      "      October                   November                  December\n",
      "Mo Tu We Th Fr Sa Su      Mo Tu We Th Fr Sa Su      Mo Tu We Th Fr Sa Su\n",
      "                1  2          1  2  3  4  5  6                1  2  3  4\n",
      " 3  4  5  6  7  8  9       7  8  9 10 11 12 13       5  6  7  8  9 10 11\n",
      "10 11 12 13 14 15 16      14 15 16 17 18 19 20      12 13 14 15 16 17 18\n",
      "17 18 19 20 21 22 23      21 22 23 24 25 26 27      19 20 21 22 23 24 25\n",
      "24 25 26 27 28 29 30      28 29 30                  26 27 28 29 30 31\n",
      "31\n",
      "     March 2022\n",
      "Mo Tu We Th Fr Sa Su\n",
      "    1  2  3  4  5  6\n",
      " 7  8  9 10 11 12 13\n",
      "14 15 16 17 18 19 20\n",
      "21 22 23 24 25 26 27\n",
      "28 29 30 31\n",
      "     March 2022\n",
      "Mo Tu We Th Fr Sa Su\n",
      "    1  2  3  4  5  6\n",
      " 7  8  9 10 11 12 13\n",
      "14 15 16 17 18 19 20\n",
      "21 22 23 24 25 26 27\n",
      "28 29 30 31\n"
     ]
    },
    {
     "data": {
      "application/vnd.google.colaboratory.intrinsic+json": {
       "type": "string"
      },
      "text/plain": [
       "'                                                                           3019\\n\\n             January                                 February                                 March                                   April\\nSun  Mon  Tue  Wed  Thu  Fri  Sat       Sun  Mon  Tue  Wed  Thu  Fri  Sat       Sun  Mon  Tue  Wed  Thu  Fri  Sat       Sun  Mon  Tue  Wed  Thu  Fri  Sat\\n                           1    2              1    2    3    4    5    6              1    2    3    4    5    6                             1    2    3\\n  3    4    5    6    7    8    9         7    8    9   10   11   12   13         7    8    9   10   11   12   13         4    5    6    7    8    9   10\\n 10   11   12   13   14   15   16        14   15   16   17   18   19   20        14   15   16   17   18   19   20        11   12   13   14   15   16   17\\n 17   18   19   20   21   22   23        21   22   23   24   25   26   27        21   22   23   24   25   26   27        18   19   20   21   22   23   24\\n 24   25   26   27   28   29   30        28                                      28   29   30   31                       25   26   27   28   29   30\\n 31\\n\\n               May                                     June                                    July                                   August\\nSun  Mon  Tue  Wed  Thu  Fri  Sat       Sun  Mon  Tue  Wed  Thu  Fri  Sat       Sun  Mon  Tue  Wed  Thu  Fri  Sat       Sun  Mon  Tue  Wed  Thu  Fri  Sat\\n                                1                   1    2    3    4    5                             1    2    3         1    2    3    4    5    6    7\\n  2    3    4    5    6    7    8         6    7    8    9   10   11   12         4    5    6    7    8    9   10         8    9   10   11   12   13   14\\n  9   10   11   12   13   14   15        13   14   15   16   17   18   19        11   12   13   14   15   16   17        15   16   17   18   19   20   21\\n 16   17   18   19   20   21   22        20   21   22   23   24   25   26        18   19   20   21   22   23   24        22   23   24   25   26   27   28\\n 23   24   25   26   27   28   29        27   28   29   30                       25   26   27   28   29   30   31        29   30   31\\n 30   31\\n\\n            September                                October                                 November                                December\\nSun  Mon  Tue  Wed  Thu  Fri  Sat       Sun  Mon  Tue  Wed  Thu  Fri  Sat       Sun  Mon  Tue  Wed  Thu  Fri  Sat       Sun  Mon  Tue  Wed  Thu  Fri  Sat\\n                 1    2    3    4                                  1    2              1    2    3    4    5    6                        1    2    3    4\\n  5    6    7    8    9   10   11         3    4    5    6    7    8    9         7    8    9   10   11   12   13         5    6    7    8    9   10   11\\n 12   13   14   15   16   17   18        10   11   12   13   14   15   16        14   15   16   17   18   19   20        12   13   14   15   16   17   18\\n 19   20   21   22   23   24   25        17   18   19   20   21   22   23        21   22   23   24   25   26   27        19   20   21   22   23   24   25\\n 26   27   28   29   30                  24   25   26   27   28   29   30        28   29   30                            26   27   28   29   30   31\\n                                         31\\n'"
      ]
     },
     "execution_count": 11,
     "metadata": {},
     "output_type": "execute_result"
    }
   ],
   "source": [
    "# 年\n",
    "calendar.isleap(2021)  # 判断是否为闰年year % 4 == 0 and (year % 100 != 0 or year % 400 == 0)\n",
    "calendar.leapdays(1945, 2022)  # 返回在范围 y1 至 y2 （包含 y1 和 y2 ）之间的闰年的年数，其中 y1 和 y2 是年份\n",
    "# (y2//4 - y1//4) - (y2//100 - y1//100) + (y2//400 - y1//400)\n",
    "calendar.prcal(2022)  # 打印由 calendar() 返回的整年的日历\n",
    "calendar.TextCalendar().formatyear(\n",
    "    2022)  # 返回一个多行字符串，这个字符串为一个 m 列日历，可选参数 w、l、c 分别表示日期列数、周的行数、月之间的间隔；以上这些还依赖于构造器或者 setfirstweekday() 指定哪一天为一周的第一天\n",
    "calendar.TextCalendar().pryear(2022)  # 与 formatyear() 方法一样，返回一整年的日历\n",
    "calendar.HTMLCalendar().formatyear(2022)  # 返回一个 HTML 表格作为指定年份的日历，width 用于规定每一行显示月份的数量。\n",
    "calendar.HTMLCalendar().formatyearpage(\n",
    "    2022)  # 返回一个完整的 HTML 页面作为指定年份的日历，width 用于规定每一行显示的月份数量，css 为层叠样式表的名字，如果不使用任何层叠样式表，可以使用 None，encoding 为输出页面的编码 (默认为系统的默认编码)。\n",
    "# 打印一年的年历\n",
    "# w表示个位天数相邻两天之间的间隔宽度(字符空格数)，默认是2，在1号和2号中间有两个字符的空格，在10号和11号之间是1个空格，(当然是不换行的时候)，同时当w是2时，周一至周日的英文缩写只有两个字母。w如果小于2，都是取默认值2，w如果大于2时，相邻两天的间隔也跟着增大，周一至周日的英文缩写为3个字母，当w到9时，周一至周日的英文不缩写，(最长的单词是9个字母)。\n",
    "# l表示每一个周占用的行数，默认是1，如果是2，则第一周和第二周中间会空一行，以此类推。小于1时，取1。\n",
    "# c表示并排的两个月之间的间隔宽度，默认是6。但是c不小于w。即当c值小于w时，c等于w。\n",
    "# m表示并排展示多少个月。默认是3，显示一排3个月，会显示4排。我们可以设置大于等于1的数，最多就是一排展示完12个月。m等于0会报错，小于0不打印日历。\n",
    "calendar.calendar(theyear=3019, w=4, l=1, c=6, m=4)\n",
    "\n",
    "# 月\n",
    "calendar.monthrange(2022, 2)  # 返回指定年、月份第一天是星期几和这个月的天数。\n",
    "calendar.monthcalendar(2022, 2)  # 返回表示一个月的日历的矩阵，每一行代表一周，此月份外的日子由零表示，每周默认从周一开始，可使用 setfirstweekday() 改变默认值。示例如下：\n",
    "calendar.prmonth(2022, 3)  # 打印由 month() 返回的一个月的日历，每日宽度间隔为 w 字符，l 是每星期的行数。\n",
    "# calendar.month_name[3]  # 在当前语言环境下表示一年中月份的列表，一月的月号为 1，它的长度为 13 且 month_name[0] 是空字符串。\n",
    "# calendar.month_abbr[3]# 在当前语言环境下表示月份简写的列表\n",
    "list(calendar.Calendar().itermonthdates(2022, 3))  # 返回一个迭代器，迭代器的内容为 year 年 month 月（1-12）的日期。\n",
    "list(calendar.Calendar().itermonthdays2(2022, 3))  # 迭代器中的元素为一个由日期和代表星期几的数字组成的的元组。\n",
    "list(calendar.Calendar().itermonthdays3(2022, 3))  # 迭代器的元素为一个由年、月、日组成的元组。\n",
    "calendar.TextCalendar().formatmonth(2022,\n",
    "                                    3)  # 返回一个多行字符串来表示指定年月的日历，w 为日期的宽度，始终保持日期居中，l 指定了每星期占用的行数；以上这些还依赖于构造器或者 setfirstweekday() 方法指定的周的第一天是哪一天。\n",
    "calendar.TextCalendar().prmonth(2022, 3)  # 与 formatmonth() 方法一样，返回一个月的日历\n",
    "calendar.HTMLCalendar().formatmonth(2022, 3)  # 返回一个 HTML 表格作为指定年月的日历，withyear 为 True，则年份将会包含在表头，否则只显示月份。\n",
    "\n",
    "# 周\n",
    "calendar.firstweekday()  # 返回当前设置的每星期的第一天的数值，默认为星期一。（0 表示星期一，6 表示星期天）\n",
    "# calendar 提供了 (MONDAY, TUESDAY, WEDNESDAY, THURSDAY, FRIDAY, SATURDAY, SUNDAY) = range(7)\n",
    "calendar.setfirstweekday(calendar.SUNDAY)  # China Monday is the first day 设置每一周的开始（0 表示星期一，6 表示星期天）\n",
    "calendar.firstweekday()  # 返回当前设置的每星期的第一天的数值，默认为星期一。如果返回设置日期。calendar.leapdays(1945,2019)\n",
    "calendar.weekday(2022, 3, 20)  # 返回一周中的某一天 （ 0 ~ 6 代表周一至周日）。\n",
    "# calendar.day_name[0]  # 在当前的语言环境下表示星期几的列表 range(7) 'Monday'\n",
    "# calendar.day_abbr[0]  # 在当前语言环境下表示星期几缩写的列表 range(7)。 'Mon'\n",
    "list(calendar.Calendar().iterweekdays())  # 返回一个迭代器，迭代器的内容为一星期的数字。\n",
    "\n",
    "# 日\n",
    "calendar.calendar(3019, w=4, l=1, c=6, m=4)"
   ]
  },
  {
   "cell_type": "markdown",
   "metadata": {
    "id": "swoLmE0zgJEX"
   },
   "source": [
    "# dict"
   ]
  },
  {
   "cell_type": "code",
   "execution_count": null,
   "metadata": {
    "id": "1y5-wI1NgRQW"
   },
   "outputs": [],
   "source": [
    "# 值可以取任何数据类型，但键必须是不可变的，如字符串，数字或元组。\n",
    "tiny_dict = {'Name': 'li', 'Age': 23, 'Class': 'First'}\n",
    "x = ('key1', 'key2', 'key3')\n",
    "y = 0\n",
    "tiny_dict_1 = dict.fromkeys(x, y)\n",
    "del tiny_dict['Name']  # 删除键是'Name'的条目\n",
    "tiny_dict.copy()  # 返回一个字典的浅复制\n",
    "tiny_dict.clear()  # 清空字典所有条目\n",
    "del tiny_dict  # 删除字典\n",
    "# dict.copy()\n",
    "\n",
    "tiny_dict_1.get('key1')  # 获取值\n",
    "tiny_dict_1.items()\n",
    "tiny_dict_1.keys()\n",
    "tiny_dict_1.values()\n",
    "# setdefault() 方法也用于根据 key 来获取对应 value 的值。\n",
    "# 但该方法有一个额外的功能，即当程序要获取的 key 在字典中不存在时，\n",
    "# 该方法会先为这个不存在的 key 设置一个默认的 value，然后再返回该 key 对应的 value。\n",
    "tiny_dict_1.setdefault('key4')\n",
    "tiny_dict_1.update(tiny_dict)\n",
    "tiny_dict_1.pop('key1')  # 返回kye的值\n",
    "tiny_dict_1.popitem()  # 随机弹出字典中的一个 key-value 对。"
   ]
  },
  {
   "cell_type": "markdown",
   "metadata": {
    "id": "VnIkDwyb7Pcq"
   },
   "source": [
    "# str"
   ]
  },
  {
   "cell_type": "code",
   "execution_count": null,
   "metadata": {
    "id": "q0XgOby87RVU"
   },
   "outputs": [],
   "source": [
    "import re\n",
    "import string\n",
    "from difflib import SequenceMatcher, get_close_matches"
   ]
  },
  {
   "cell_type": "code",
   "execution_count": null,
   "metadata": {
    "id": "t7CuCu9Y7ZB8"
   },
   "outputs": [],
   "source": [
    "str_ = 'hello word!'\n",
    "# 大小写\n",
    "str_.capitalize()  # 或 string.capitalize(str_)  # 把字符串的第一个字符大写\n",
    "str_.lower()  # 转换 string 中所有大写字符为小写.\n",
    "str_.upper()  # 转换 string 中所有小写字符为大写.\n",
    "str_.swapcase()  # 翻转 string 中的大小写\n",
    "str_.title()  # 返回\"标题化\"的 string,就是说所有单词都是以大写开始，其余字母均为小写(见 istitle())\n",
    "# 填充字符串\n",
    "str_.center(100)  # 或 string.center(str_)  # 返回一个原字符串居中,并使用空格填充至长度 width 的新字符串\n",
    "str_.ljust(50)  # 返回一个原字符串左对齐,并使用空格填充至长度 width 的新字符串\n",
    "str_.rjust(50)  # 返回一个原字符串右对齐,并使用空格填充至长度 width 的新字符串\n",
    "str_.zfill(50)  # 返回长度为 width 的字符串，原字符串 string 右对齐，前面填充0\n",
    "str_.expandtabs(tabsize=8)  # 把字符串 string 中的 tab \\t 符号转为空格，tab \\t 符号默认的空格数是 8。\n",
    "# 求和\n",
    "str_.count('a', 0, len(str_))  # string.count(str, beg=0, end=len(string))\n",
    "str_.endswith('obj', 0, len(str_))  # string.endswith(obj, beg=0, end=len(string))\n",
    "# 编码\n",
    "str_.encode('UTF-8', 'strict')  # string.decode(encoding='UTF-8', errors='strict')\n",
    "# 替换切割\n",
    "str_.expandtabs(tabsize=8)  # 把字符串 string 中的 tab 符号转为空格，tab 符号默认的空格数是 8。\n",
    "str_.join('seq')  # 以 string 作为分隔符，将 seq 中所有的元素(的字符串表示)合并为一个新的字符串\n",
    "str_.lstrip()  # 截掉 string 左边的空格\n",
    "str_.rstrip()  # 删除 string 字符串末尾的空格.\n",
    "str_.strip('h')  # 在 string 上执行 lstrip()和 rstrip()\n",
    "str_.strip()  # 在 string 上执行 lstrip()和 rstrip()\n",
    "str_.partition('l')  # 有点像 find()和 split()的结合体,从 str 出现的第一个位置起,把 字 符 串 string 分 成 一 个 3 元 素 的 元 组 (string_pre_str,str,string_post_str),如果 string 中不包含str 则 string_pre_str == string.\n",
    "str_.replace('e', 'a', str_.count('e'))  # 把 string 中的 str1 替换成 str2,如果 num 指定，则替换不超过 num 次.\n",
    "str_.rpartition(\n",
    "        'e')  # 类似于 partition()函数,不过是从右边开始查找\n",
    "str_.split(\"e\", str_.count(\n",
    "        'e'))  # 以 str 为分隔符切片 string，如果 num 有指定值，则仅分隔 num+1 个子字符串\n",
    "str_.splitlines(\n",
    "        False)  # 按照行('\\r', '\\r\\n', '\\n')分隔，返回一个包含各行作为元素的列表，如果参数 keepends 为 False，不包含换行符，如果为 True，则保留换行符。\n",
    "str_.expandtabs(\n",
    "        tabsize=8)  # 把字符串 string 中的 tab \\t 符号转为空格，tab \\t 符号默认的空格数是 8。\n",
    "str_.maketrans('intab',\n",
    "               '12345')  # maketrans() 方法用于创建字符映射的转换表，对于接受两个参数的最简单的调用方式，第一个参数是字符串，表示需要转换的字符，第二个参数也是字符串表示转换的目标。\n",
    "str_.maketrans(\"aeiou\", \"12345\", 'a')\n",
    "# 索引\n",
    "str_.find('e', 0,\n",
    "          len(str_))  # 检测 str 是否包含在 string 中，如果 beg 和 end 指定范围，则检查是否包含在指定范围内，如果是返回开始的索引值，否则返回-1\n",
    "str_.index('e', 0,\n",
    "           len(str_))  # 跟find()方法一样，只不过如果str不在 string中会报一个异常.\n",
    "str_.rfind('o', 0,\n",
    "           len(str_))  # 类似于 find() 函数，返回字符串最后一次出现的位置，如果没有匹配项则返回 -1。\n",
    "str_.rindex('o', 0,\n",
    "            len(str_))  # 类似于 index()，不过是返回最后一个匹配到的子字符串的索引号。\n",
    "# 判断\n",
    "isinstance('word', str)  # 判断是否是字符串\n",
    "str_.isalnum()  # 如果 string 至少有一个字符并且所有字符都是字母或数字则返回 True,否则返回 False\n",
    "str_.isalpha()  # 如果 string 至少有一个字符并且所有字符都是字母则返回 True,否则返回 False\n",
    "str_.isdecimal()  # 如果 string 只包含十进制数字则返回 True 否则返回 False.\n",
    "str_.isdigit()  # 如果 string 只包含数字则返回 True 否则返回 False.\n",
    "str_.islower()  # 如果 string 中包含至少一个区分大小写的字符，并且所有这些(区分大小写的)字符都是小写，则返回 True，否则返回 False\n",
    "str_.isnumeric()  # 如果 string 中只包含数字字符，则返回 True，否则返回 False\n",
    "str_.isspace()  # 如果 string 中只包含空格，则返回 True，否则返回 False.\n",
    "str_.istitle()  # 如果 string 是标题化的(见 title())则返回 True，否则返回 False\n",
    "str_.isupper()  # 如果 string 中包含至少一个区分大小写的字符，并且所有这些(区分大小写的)字符都是大写，则返回 True，否则返回 False\n",
    "str_.startswith('h', 0,\n",
    "                len(str_))  # 检查字符串是否是以 obj 开头，是则返回 True，否则返回 False。如果beg 和 end 指定值，则在指定范围内检查.\n",
    "# ？\n",
    "max(str_)  # 返回字符串 str 中最大的字母。\n",
    "min(str_)  # 返回字符串 str 中最小的字母。\n",
    "n = \"123\"\n",
    "s = n.zfill(5)\n",
    "assert s == \"00123\" "
   ]
  },
  {
   "cell_type": "markdown",
   "metadata": {
    "id": "TdFKDheY7aso"
   },
   "source": [
    "## 相似对比"
   ]
  },
  {
   "cell_type": "code",
   "execution_count": null,
   "metadata": {
    "id": "sg0DsB8x7d5W"
   },
   "outputs": [],
   "source": [
    "# from difflib import SequenceMatcher\n",
    "# SequenceMatcher 是一个比较两个字符串并根据它们的相似性返回数据的函数。通过使用 ratio()，我们将能够根据比率/百分比来量化这种相似性。\n",
    "phrase1 = \"Tan loves Trees.\"\n",
    "phrase2 = \"Tan loves to mount Trees.\"\n",
    "similarity = SequenceMatcher(None, phrase1, phrase2)\n",
    "print(similarity.ratio())\n",
    "\n",
    "# get_close_matches该函数返回与作为参数传入的字符串最接近的匹配项。\n",
    "# get_close_matches(word, possibilities, result_limit, min_similarity)\n",
    "# word 是函数将要查看的目标单词。\n",
    "# possibilities 是一个数组，其中包含函数将要查找的匹配项并找到最接近的匹配项。\n",
    "# result_limit 是返回结果数量的限制（可选）。\n",
    "# min_similarity 是两个单词需要具有的最小相似度才能被函数视为返回值（可选）。\n",
    "word = 'Tandrew'\n",
    "possibilities = ['Andrew', 'Teresa', 'Kairu', 'Janderson', 'Drew']\n",
    "\n",
    "print(get_close_matches(word, possibilities))"
   ]
  },
  {
   "cell_type": "markdown",
   "metadata": {
    "id": "RotSJjhe7h8O"
   },
   "source": [
    "## 随机字符串"
   ]
  },
  {
   "cell_type": "code",
   "execution_count": null,
   "metadata": {
    "id": "iyVBcILh7kjQ"
   },
   "outputs": [],
   "source": [
    "RandomString = ''.join([random.choice('ABCDEFGHIJKLMNOPQRSTUVWXYZ123456789') for _ in range(10)])"
   ]
  },
  {
   "cell_type": "markdown",
   "metadata": {
    "id": "XFvBTlDa7nuw"
   },
   "source": [
    "## 正则"
   ]
  },
  {
   "cell_type": "code",
   "execution_count": null,
   "metadata": {
    "id": "wBDlAmJV7qvG"
   },
   "outputs": [],
   "source": [
    "import re"
   ]
  },
  {
   "cell_type": "code",
   "execution_count": null,
   "metadata": {
    "id": "7wFyz7qu7ovW"
   },
   "outputs": [],
   "source": [
    "# ^([0-9A-HJ-NPQRTUWXY]{2}\\d{6}[0-9A-HJ-NPQRTUWXY]{10}|[1-9]\\d{14})$\n",
    "# re_str_test = '91440803MA4UK8CM9P'\n",
    "re_str_test = '914408031232142'\n",
    "# re.compile(r\"([0-9A-HJ-NPQRTUWXY]{2}\\d{6}[0-9A-HJ-NPQRTUWXY]{10}|[1-9]\\d{14})$\").findall(re_str_test)\n",
    "re.compile(r\"[0-9A-HJ-NPQRTUWXY]{2}\\d{6}[0-9A-HJ-NPQRTUWXY]{10}|[1-9]\\d{14}$\").findall(re_str_test)"
   ]
  },
  {
   "cell_type": "markdown",
   "metadata": {
    "id": "jtffbygl8djr"
   },
   "source": [
    "# list"
   ]
  },
  {
   "cell_type": "markdown",
   "metadata": {
    "id": "xi39mZpQ-x0E"
   },
   "source": [
    "导入所需包"
   ]
  },
  {
   "cell_type": "code",
   "execution_count": 5,
   "metadata": {
    "id": "tlR5GsZS-zxN"
   },
   "outputs": [],
   "source": [
    "import random"
   ]
  },
  {
   "cell_type": "markdown",
   "metadata": {
    "id": "K5tPlIuJ-QOu"
   },
   "source": [
    "测试列表数据"
   ]
  },
  {
   "cell_type": "code",
   "execution_count": 14,
   "metadata": {
    "id": "NuKhcOYA-ORD"
   },
   "outputs": [],
   "source": [
    "aList = ['123', 'Google', 'Run', 'Taobao', 'Facebook']\n",
    "vowels = ['e', 'a', 'u', 'o', 'i']\n",
    "random_str = [(random.randint(1, 99), random.randint(1, 99)), (random.randint(1, 99), random.randint(1, 99)), (random.randint(1, 99), random.randint(1, 99)), (random.randint(1, 99), random.randint(1, 99))]\n",
    "student_tuples = [\n",
    "        ('john', 'A', 15),\n",
    "        ('jane', 'B', 12),\n",
    "        ('dave', 'B', 10),\n",
    "]"
   ]
  },
  {
   "cell_type": "code",
   "execution_count": 20,
   "metadata": {
    "id": "YRlvdPPNDwIR"
   },
   "outputs": [],
   "source": [
    "class Student:\n",
    "    def __init__(self, name, grade, age):\n",
    "        self.name = name\n",
    "        self.grade = grade\n",
    "        self.age = age\n",
    "\n",
    "    def __repr__(self):\n",
    "        return repr((self.name, self.grade, self.age))\n",
    "\n",
    "student_objects = [\n",
    "        Student('john', 'A', 15),\n",
    "        Student('jane', 'B', 12),\n",
    "        Student('dave', 'B', 10),\n",
    "]"
   ]
  },
  {
   "cell_type": "markdown",
   "metadata": {
    "id": "WE06rbef8jRH"
   },
   "source": [
    "## 列表去除空字符串"
   ]
  },
  {
   "cell_type": "code",
   "execution_count": 7,
   "metadata": {
    "colab": {
     "base_uri": "https://localhost:8080/"
    },
    "id": "SuVaD7JT9mm1",
    "outputId": "9402a9de-6581-45ec-fc82-ec9a4c2291f3"
   },
   "outputs": [
    {
     "data": {
      "text/plain": [
       "['q', ' ', '  ', '2e']"
      ]
     },
     "execution_count": 7,
     "metadata": {},
     "output_type": "execute_result"
    }
   ],
   "source": [
    "list(filter(None, ['q', '', ' ', '  ', '2e', None]))"
   ]
  },
  {
   "cell_type": "markdown",
   "metadata": {
    "id": "3mBd5rLD9ray"
   },
   "source": [
    "## 排序"
   ]
  },
  {
   "cell_type": "markdown",
   "metadata": {
    "id": "MchF6Wnv-LHR"
   },
   "source": [
    "sort() 函数用于对原列表进行排序，如果指定参数，则使用比较函数指定的比较函数。该方法没有返回值，但是会对列表的对象进行排序。\n",
    "\n",
    "cmp -- 可选参数, 如果指定了该参数会使用该参数的方法进行排序。\n",
    "\n",
    "key -- 主要是用来进行比较的元素，只有一个参数，具体的函数的参数就是取自于可迭代对象中，指定可迭代对象中的一个元素来进行排序。\n",
    "\n",
    "reverse -- 排序规则，reverse = True 降序， reverse = False 升序（默认）。"
   ]
  },
  {
   "cell_type": "code",
   "execution_count": 8,
   "metadata": {
    "id": "IRWOX8TU-LzZ"
   },
   "outputs": [],
   "source": [
    "vowels.sort(reverse=True)  # 降序\n",
    "aList.sort()"
   ]
  },
  {
   "cell_type": "code",
   "execution_count": 9,
   "metadata": {
    "id": "YVwOXTvBBOkA"
   },
   "outputs": [],
   "source": [
    "# 获取列表的第二个元素\n",
    "def takeSecond(elem):\n",
    "    return elem[1]"
   ]
  },
  {
   "cell_type": "code",
   "execution_count": 10,
   "metadata": {
    "colab": {
     "base_uri": "https://localhost:8080/"
    },
    "id": "VN17yGdFBBNs",
    "outputId": "7c7f92b9-1934-494c-9f6e-4eb34023ad55"
   },
   "outputs": [
    {
     "data": {
      "text/plain": [
       "['a', 'Andrew', 'from', 'is', 'string', 'test', 'This']"
      ]
     },
     "execution_count": 10,
     "metadata": {},
     "output_type": "execute_result"
    }
   ],
   "source": [
    "sorted(\"This is a test string from Andrew\".split(), key=str.lower)"
   ]
  },
  {
   "cell_type": "code",
   "execution_count": 11,
   "metadata": {
    "id": "ALOgUctu_V6O"
   },
   "outputs": [],
   "source": [
    "random_str.sort(key=takeSecond)  # cmp排序"
   ]
  },
  {
   "cell_type": "markdown",
   "metadata": {
    "id": "luYH37qU_qk9"
   },
   "source": [
    "python内置的全局sorted()方法来对可迭代的序列排序生成新的序列"
   ]
  },
  {
   "cell_type": "code",
   "execution_count": 16,
   "metadata": {
    "colab": {
     "base_uri": "https://localhost:8080/"
    },
    "id": "vM4FC8Va_rDu",
    "outputId": "1f8ee043-8d4a-453a-8b3e-ded9eab82151"
   },
   "outputs": [
    {
     "data": {
      "text/plain": [
       "[('dave', 'B', 10), ('jane', 'B', 12), ('john', 'A', 15)]"
      ]
     },
     "execution_count": 16,
     "metadata": {},
     "output_type": "execute_result"
    }
   ],
   "source": [
    "sorted(student_tuples, key=lambda age: age[2])   # sort by age"
   ]
  },
  {
   "cell_type": "markdown",
   "metadata": {
    "id": "wKl__TXFCyLT"
   },
   "source": [
    "Operator 模块函数"
   ]
  },
  {
   "cell_type": "code",
   "execution_count": 17,
   "metadata": {
    "id": "7yBUeESfCysP"
   },
   "outputs": [],
   "source": [
    "from operator import itemgetter, attrgetter"
   ]
  },
  {
   "cell_type": "code",
   "execution_count": 18,
   "metadata": {
    "colab": {
     "base_uri": "https://localhost:8080/"
    },
    "id": "qwI1WUKfC6Cy",
    "outputId": "f3bd7b6b-8807-4b78-a187-3fb31d2f99cd"
   },
   "outputs": [
    {
     "data": {
      "text/plain": [
       "[('dave', 'B', 10), ('jane', 'B', 12), ('john', 'A', 15)]"
      ]
     },
     "execution_count": 18,
     "metadata": {},
     "output_type": "execute_result"
    }
   ],
   "source": [
    "sorted(student_tuples, key=itemgetter(2))"
   ]
  },
  {
   "cell_type": "code",
   "execution_count": 22,
   "metadata": {
    "colab": {
     "base_uri": "https://localhost:8080/"
    },
    "id": "XjIxQ4ZGC_Fw",
    "outputId": "f3d42edb-c8ba-4141-8f15-ee3d49bfc62b"
   },
   "outputs": [
    {
     "data": {
      "text/plain": [
       "[('dave', 'B', 10), ('jane', 'B', 12), ('john', 'A', 15)]"
      ]
     },
     "execution_count": 22,
     "metadata": {},
     "output_type": "execute_result"
    }
   ],
   "source": [
    "sorted(student_objects, key=attrgetter('age'))"
   ]
  },
  {
   "cell_type": "code",
   "execution_count": 23,
   "metadata": {
    "colab": {
     "base_uri": "https://localhost:8080/"
    },
    "id": "o1E9QwALFS-B",
    "outputId": "8e83a970-a186-41bb-ce51-6010358a0067"
   },
   "outputs": [
    {
     "data": {
      "text/plain": [
       "[('john', 'A', 15), ('dave', 'B', 10), ('jane', 'B', 12)]"
      ]
     },
     "execution_count": 23,
     "metadata": {},
     "output_type": "execute_result"
    }
   ],
   "source": [
    "sorted(student_tuples, key=itemgetter(1,2))"
   ]
  },
  {
   "cell_type": "code",
   "execution_count": 24,
   "metadata": {
    "colab": {
     "base_uri": "https://localhost:8080/"
    },
    "id": "hum2grMoFWBA",
    "outputId": "7dc6288b-fce8-48d4-a6a3-6b7168f7409b"
   },
   "outputs": [
    {
     "data": {
      "text/plain": [
       "[('john', 'A', 15), ('dave', 'B', 10), ('jane', 'B', 12)]"
      ]
     },
     "execution_count": 24,
     "metadata": {},
     "output_type": "execute_result"
    }
   ],
   "source": [
    "sorted(student_objects, key=attrgetter('grade', 'age'))"
   ]
  },
  {
   "cell_type": "code",
   "execution_count": 25,
   "metadata": {
    "colab": {
     "base_uri": "https://localhost:8080/"
    },
    "id": "pnpJfpS3Fgkp",
    "outputId": "04c77bae-31c4-4d88-ca74-fca9dccbf10f"
   },
   "outputs": [
    {
     "data": {
      "text/plain": [
       "[('john', 'A', 15), ('jane', 'B', 12), ('dave', 'B', 10)]"
      ]
     },
     "execution_count": 25,
     "metadata": {},
     "output_type": "execute_result"
    }
   ],
   "source": [
    "sorted(student_tuples, key=itemgetter(2), reverse=True)"
   ]
  },
  {
   "cell_type": "code",
   "execution_count": 26,
   "metadata": {
    "colab": {
     "base_uri": "https://localhost:8080/"
    },
    "id": "P1BLabWAFiSq",
    "outputId": "61b3ee10-7bbc-4ee9-841c-187a2cc49e38"
   },
   "outputs": [
    {
     "data": {
      "text/plain": [
       "[('john', 'A', 15), ('jane', 'B', 12), ('dave', 'B', 10)]"
      ]
     },
     "execution_count": 26,
     "metadata": {},
     "output_type": "execute_result"
    }
   ],
   "source": [
    "sorted(student_objects, key=attrgetter('age'), reverse=True)"
   ]
  },
  {
   "cell_type": "markdown",
   "metadata": {
    "id": "JhnGqJQyND01"
   },
   "source": [
    "# 编码"
   ]
  },
  {
   "cell_type": "code",
   "execution_count": 33,
   "metadata": {
    "id": "9-OgO2jLNHq7"
   },
   "outputs": [],
   "source": [
    "import base64\n",
    "import binascii\n",
    "import lzma\n",
    "import os"
   ]
  },
  {
   "cell_type": "markdown",
   "metadata": {
    "id": "SstaXAy3slng"
   },
   "source": [
    "\\xe8\\之类的数据"
   ]
  },
  {
   "cell_type": "code",
   "execution_count": 31,
   "metadata": {
    "colab": {
     "base_uri": "https://localhost:8080/"
    },
    "id": "6NkMigRhszDj",
    "outputId": "2dd789f0-1523-474a-d16b-540f76bef332"
   },
   "outputs": [
    {
     "data": {
      "text/plain": [
       "b'\\xe4\\xb8\\xad\\xe6\\x96\\x87'"
      ]
     },
     "execution_count": 31,
     "metadata": {},
     "output_type": "execute_result"
    }
   ],
   "source": [
    "'中文'.encode()"
   ]
  },
  {
   "cell_type": "code",
   "execution_count": 32,
   "metadata": {
    "colab": {
     "base_uri": "https://localhost:8080/",
     "height": 37
    },
    "id": "ddxSWhuvsrft",
    "outputId": "740b98c6-547f-42af-e3ab-630d8e1c690e"
   },
   "outputs": [
    {
     "data": {
      "application/vnd.google.colaboratory.intrinsic+json": {
       "type": "string"
      },
      "text/plain": [
       "'中文'"
      ]
     },
     "execution_count": 32,
     "metadata": {},
     "output_type": "execute_result"
    }
   ],
   "source": [
    "'\\xe4\\xb8\\xad\\xe6\\x96\\x87'.encode('raw_unicode_escape').decode()"
   ]
  },
  {
   "cell_type": "markdown",
   "metadata": {
    "heading_collapsed": true,
    "id": "5scxGIYctIcY"
   },
   "source": [
    "## 文本加密可运行程序"
   ]
  },
  {
   "cell_type": "code",
   "execution_count": null,
   "metadata": {
    "code_folding": [],
    "hidden": true,
    "id": "tHm6DRPLtBd0"
   },
   "outputs": [],
   "source": [
    "class LzmaBase64(object):\n",
    "\n",
    "    def encryption_cat(self, data) -> bytes:\n",
    "        \"\"\":return:data 返回密文\"\"\"\n",
    "        if os.path.isfile(data):\n",
    "            return base64.b64encode(lzma.compress(open(data, 'r').read().encode()))\n",
    "        elif isinstance(data, bytes):\n",
    "            return data\n",
    "        elif isinstance(data, str):\n",
    "            return base64.b64encode(data.encode())\n",
    "        else:\n",
    "            return b''\n",
    "\n",
    "    def encryption_file(self, path, data=None) -> bool:\n",
    "        try:\n",
    "            if os.path.isfile(path):\n",
    "                if data:\n",
    "                    return self.file_w(path_=path, data_=self.encryption_cat(data))\n",
    "                else:\n",
    "                    tally = -1\n",
    "                    while True:\n",
    "                        tally += 1\n",
    "                        if tally:\n",
    "                            decision = input(\n",
    "                                '\\xe5\\xb0\\x8f\\xe6\\x9d\\x8e\\xe6\\xb8\\xa9\\xe9\\xa6\\xa8\\xe6\\x8f\\x90\\xe7\\xa4\\xba-> {}'\n",
    "                                .encode('raw_unicode_escape').decode().format(\n",
    "                                    'Are you sure you want to replace the contents of the original file with encrypted data?\\n'\n",
    "                                    'Please enter y or n to decide your choice\\n'))\n",
    "                            if decision.upper() == 'Y':\n",
    "                                return self.file_w(path_=path, data_=self.encryption_cat(path))\n",
    "                            elif decision.upper() == 'N':\n",
    "                                return False\n",
    "                        elif tally > 5:\n",
    "                            raise ValueError(\n",
    "                                \"b'\\xe5\\xb0\\x9d\\xe8\\xaf\\x95\\xe9\\x87\\x8d\\xe5\\xa4\\x8d\\xe6\\xac\\xa1\\xe6\\x95\\xb0\\xe5\\xa4\\xaa\\xe5\\xa4\\x9a\\xef\\xbc\\x8c\\xe5\\xb7\\xb2\\xe5\\xbc\\xba\\xe5\\x88\\xb6\\xe9\\x80\\x80\\xe5\\x87\\xba\\xe5\\x8a\\xa0\\xe5\\xaf\\x86\\xe7\\xa8\\x8b\\xe5\\xba\\x8f\\xe3\\x80\\x82'\\n\".encode(\n",
    "                                    'raw_unicode_escape').decode())\n",
    "                        else:\n",
    "                            decision = input(\n",
    "                                '\\xe5\\xb0\\x8f\\xe6\\x9d\\x8e\\xe6\\xb8\\xa9\\xe9\\xa6\\xa8\\xe6\\x8f\\x90\\xe7\\xa4\\xba-> {}'.encode(\n",
    "                                    'raw_unicode_escape').decode().format(\n",
    "                                    'Input y or Y means to confirm to replace with encrypted data in the original file, '\n",
    "                                    'and input n or N means not to replace with encrypted data in the original file\\n'))\n",
    "                            if decision.upper() == 'Y':\n",
    "                                return self.file_w(path_=path, data_=self.encryption_cat(path))\n",
    "                            elif decision.upper() == 'N':\n",
    "                                print(\n",
    "                                    '\\xe5\\xb0\\x8f\\xe6\\x9d\\x8e\\xe6\\xb8\\xa9\\xe9\\xa6\\xa8\\xe6\\x8f\\x90\\xe7\\xa4\\xba-> \\xe5\\x8a\\xa0\\xe5\\xaf\\x86\\xe7\\xa8\\x8b\\xe5\\xba\\x8f\\xe5\\xb7\\xb2\\xe5\\x8f\\x96\\xe6\\xb6\\x88'.encode(\n",
    "                                        'raw_unicode_escape').decode())\n",
    "                                return False\n",
    "            else:\n",
    "                raise ValueError(\n",
    "                    '\\xe8\\xaf\\xb7\\xe8\\xbe\\x93\\xe5\\x85\\xa5\\xe5\\x8a\\xa0\\xe5\\xaf\\x86\\xe5\\xae\\x8c\\xe6\\x88\\x90\\xe7\\x9a\\x84\\xe6\\x96\\x87\\xe4\\xbb\\xb6\\xe8\\xb7\\xaf\\xe5\\xbe\\x84!\\n'.encode(\n",
    "                        'raw_unicode_escape').decode())\n",
    "        except Exception as e:\n",
    "            print('\\xe5\\xb0\\x8f\\xe6\\x9d\\x8e\\xe9\\x80\\x9a\\xe7\\x9f\\xa5\\xe6\\xb6\\x88\\xe6\\x81\\xaf-> {}'.encode(\n",
    "                'raw_unicode_escape').decode().format(e))\n",
    "\n",
    "    def file_w(self, path_, data_) -> bool:\n",
    "        with open(path_, 'a+', encoding='utf-8') as jm_data:\n",
    "            jm_data.truncate(0)\n",
    "            jm_data.write(\n",
    "                'import base64, lzma\\nexec(lzma.decompress(base64.b64decode({})))'.format(data_))\n",
    "        return True\n",
    "\n",
    "    def decrypt_cat(self, srt_mw):\n",
    "        \"\"\"\n",
    "        return:返回解密的密文\n",
    "        \"\"\"\n",
    "        return lzma.decompress(base64.b64decode(srt_mw)).decode('utf-8')\n",
    "\n",
    "    def decrypt_exec(self, srt_mw):\n",
    "        \"\"\":return:直接执行\"\"\"\n",
    "        exec(lzma.decompress(base64.b64decode(srt_mw)))"
   ]
  },
  {
   "cell_type": "markdown",
   "metadata": {
    "hidden": true,
    "id": "JScnoFd9OfXs"
   },
   "source": [
    "binaascii 是一个用于在二进制和 ASCII 之间转换的模块。\n",
    "b2a_base64 是 binaascii 模块中的一种方法，它将 base64 数据转换为二进制数据。下面是这个方法的一个例子：\n",
    "该段代码应该是不言自明的。简单地说，它涉及编码、转换为 base64，以及使用 b2a_base64 方法将其转换回二进制。\n",
    "以下是属于 binaascii 模块的其他一些函数：a2b_qp()、b2a_qp() 和 a2b_uu()。"
   ]
  },
  {
   "cell_type": "code",
   "execution_count": null,
   "metadata": {
    "hidden": true,
    "id": "bdwohB1ZOhEl"
   },
   "outputs": [],
   "source": [
    "msg = \"Tandrew\"\n",
    "encoded = msg.encode('ascii')\n",
    "base64_msg = base64.b64encode(encoded)\n",
    "decode = binascii.a2b_base64(base64_msg)\n",
    "print(decode)"
   ]
  },
  {
   "cell_type": "markdown",
   "metadata": {},
   "source": [
    "## %开头的三位数编码"
   ]
  },
  {
   "cell_type": "code",
   "execution_count": null,
   "metadata": {},
   "outputs": [],
   "source": [
    "import urllib"
   ]
  },
  {
   "cell_type": "code",
   "execution_count": null,
   "metadata": {},
   "outputs": [],
   "source": [
    "urllib.parse.unquote(urllib.parse.quote('李思源', encoding='utf-8', errors='replace'), encoding='utf-8', errors='replace')"
   ]
  },
  {
   "cell_type": "markdown",
   "metadata": {},
   "source": [
    "# 翻译"
   ]
  },
  {
   "cell_type": "code",
   "execution_count": null,
   "metadata": {},
   "outputs": [],
   "source": [
    "translator = Translator(to_lang=\"zh\")\n",
    "translation = translator.translate(\"This is a pen.\")"
   ]
  },
  {
   "cell_type": "code",
   "execution_count": null,
   "metadata": {},
   "outputs": [],
   "source": [
    "translator = Translator(from_lang=\"zh\", to_lang=\"en\")\n",
    "translation = translator.translate(\"开心快乐！\")"
   ]
  },
  {
   "cell_type": "markdown",
   "metadata": {
    "id": "zeOJ775gKEzt"
   },
   "source": [
    "# panads"
   ]
  },
  {
   "cell_type": "markdown",
   "metadata": {
    "id": "VXNaJH6eKnK2"
   },
   "source": [
    "安装所需包"
   ]
  },
  {
   "cell_type": "code",
   "execution_count": 27,
   "metadata": {
    "colab": {
     "base_uri": "https://localhost:8080/"
    },
    "id": "ev7K-tmHKkgb",
    "outputId": "c5dd3d09-f967-4d10-9d08-3586407d08dc"
   },
   "outputs": [
    {
     "name": "stdout",
     "output_type": "stream",
     "text": [
      "Looking in indexes: https://pypi.org/simple, https://us-python.pkg.dev/colab-wheels/public/simple/\n",
      "Collecting pandarallel\n",
      "  Downloading pandarallel-1.6.3.tar.gz (12 kB)\n",
      "Requirement already satisfied: dill>=0.3.1 in /usr/local/lib/python3.7/dist-packages (from pandarallel) (0.3.5.1)\n",
      "Requirement already satisfied: pandas>=1 in /usr/local/lib/python3.7/dist-packages (from pandarallel) (1.3.5)\n",
      "Requirement already satisfied: psutil in /usr/local/lib/python3.7/dist-packages (from pandarallel) (5.4.8)\n",
      "Requirement already satisfied: numpy>=1.17.3 in /usr/local/lib/python3.7/dist-packages (from pandas>=1->pandarallel) (1.21.6)\n",
      "Requirement already satisfied: python-dateutil>=2.7.3 in /usr/local/lib/python3.7/dist-packages (from pandas>=1->pandarallel) (2.8.2)\n",
      "Requirement already satisfied: pytz>=2017.3 in /usr/local/lib/python3.7/dist-packages (from pandas>=1->pandarallel) (2022.4)\n",
      "Requirement already satisfied: six>=1.5 in /usr/local/lib/python3.7/dist-packages (from python-dateutil>=2.7.3->pandas>=1->pandarallel) (1.15.0)\n",
      "Building wheels for collected packages: pandarallel\n",
      "  Building wheel for pandarallel (setup.py) ... \u001b[?25l\u001b[?25hdone\n",
      "  Created wheel for pandarallel: filename=pandarallel-1.6.3-py3-none-any.whl size=16463 sha256=48b14885ee8a07bcdc17f64a80ab470002c421b3386928796f55c0094554972a\n",
      "  Stored in directory: /root/.cache/pip/wheels/3c/a4/19/02a1f08d032a017d5d7e22da595aa652ba0a2f2e22de73981b\n",
      "Successfully built pandarallel\n",
      "Installing collected packages: pandarallel\n",
      "Successfully installed pandarallel-1.6.3\n"
     ]
    }
   ],
   "source": [
    "!pip install pandarallel"
   ]
  },
  {
   "cell_type": "markdown",
   "metadata": {
    "id": "h7e7Z0wvKgFF"
   },
   "source": [
    "导入所需包"
   ]
  },
  {
   "cell_type": "code",
   "execution_count": 28,
   "metadata": {
    "id": "yT0fdrz0KfVo"
   },
   "outputs": [],
   "source": [
    "import pandas as pd\n",
    "import time\n",
    "import math\n",
    "import numpy as np\n",
    "from pandarallel import pandarallel"
   ]
  },
  {
   "cell_type": "code",
   "execution_count": 29,
   "metadata": {
    "colab": {
     "base_uri": "https://localhost:8080/"
    },
    "id": "b0fsKgpWKrtx",
    "outputId": "6ba34c0c-efec-4cdc-e7e2-ec6d97951389"
   },
   "outputs": [
    {
     "name": "stdout",
     "output_type": "stream",
     "text": [
      "INFO: Pandarallel will run on 1 workers.\n",
      "INFO: Pandarallel will use Memory file system to transfer data between the main process and workers.\n"
     ]
    }
   ],
   "source": [
    "# 初始化\n",
    "pandarallel.initialize()\n",
    "df_size = int(5e6)\n",
    "df = pd.DataFrame(dict(a=np.random.randint(1, 8, df_size), b=np.random.rand(df_size)))"
   ]
  },
  {
   "cell_type": "code",
   "execution_count": 30,
   "metadata": {
    "colab": {
     "base_uri": "https://localhost:8080/"
    },
    "id": "PpF6SkbkKuLB",
    "outputId": "1f1ba048-a2fb-4079-852f-35863e874d67"
   },
   "outputs": [
    {
     "data": {
      "text/plain": [
       "True"
      ]
     },
     "execution_count": 30,
     "metadata": {},
     "output_type": "execute_result"
    }
   ],
   "source": [
    "def func(x):\n",
    "    return math.sin(x.a ** 2) + math.sin(x.b ** 2)\n",
    "\n",
    "\n",
    "# 正常处理\n",
    "res = df.apply(func, axis=1)\n",
    "\n",
    "# 并行处理\n",
    "res_parallel = df.parallel_apply(func, axis=1)\n",
    "\n",
    "# 查看结果是否相同\n",
    "res.equals(res_parallel)"
   ]
  },
  {
   "cell_type": "markdown",
   "metadata": {},
   "source": [
    "## "
   ]
  },
  {
   "cell_type": "markdown",
   "metadata": {
    "id": "7wQOAdni2R7P"
   },
   "source": [
    "# 数据库"
   ]
  },
  {
   "cell_type": "markdown",
   "metadata": {
    "id": "gjZpe3qp3nQ0"
   },
   "source": [
    "## Mysql"
   ]
  },
  {
   "cell_type": "markdown",
   "metadata": {
    "id": "zWJ6o5pm4Hbi"
   },
   "source": [
    "### pymysql"
   ]
  },
  {
   "cell_type": "code",
   "execution_count": null,
   "metadata": {
    "id": "WiIYQpvd3mkB"
   },
   "outputs": [],
   "source": [
    "import pymysql\n",
    "import os\n",
    "import pandas as pd\n",
    "\n",
    "from pymysql.cursors import DictCursor"
   ]
  },
  {
   "cell_type": "markdown",
   "metadata": {},
   "source": [
    "连接参数\n",
    "创建数据库连接， 数据以字典结构返回\n",
    ":param is_dict_cursor: 是否返回字典结构的数据\n",
    ":param database: 默认连接的数据库\n",
    ":return: 返回一个连接和一个浮标"
   ]
  },
  {
   "cell_type": "code",
   "execution_count": null,
   "metadata": {
    "code_folding": []
   },
   "outputs": [],
   "source": [
    "config = {\n",
    "    'host': \"0.0.0.0\",\n",
    "    'port': 13306,\n",
    "    'user': \"root\",\n",
    "    'password': \"li19990929..\",\n",
    "    'database': \"test\",\n",
    "    'charset': \"utf8\"\n",
    "}"
   ]
  },
  {
   "cell_type": "code",
   "execution_count": null,
   "metadata": {},
   "outputs": [],
   "source": [
    "try:\n",
    "    is_dict_cursor = True\n",
    "    conn = pymysql.connect(**config)\n",
    "    cursor = conn.cursor(cursor=DictCursor) if is_dict_cursor else conn.cursor()\n",
    "\n",
    "    # return conn, cursor\n",
    "except Exception as ex:\n",
    "    print(\"connect database failed, {},{}\".format(400, ex))\n",
    "    raise Exception({'code': 400, 'msg': ex})"
   ]
  },
  {
   "cell_type": "markdown",
   "metadata": {},
   "source": [
    "#### 数据库"
   ]
  },
  {
   "cell_type": "code",
   "execution_count": null,
   "metadata": {},
   "outputs": [],
   "source": [
    "import pymysql\n",
    "import os\n",
    "import pandas as pd\n",
    "\n",
    "connect = pymysql.connect(\n",
    "    host=\"localhost\", port=3306, user=\"root\", password=\"li19990929..\", database=\"my_db1\", charset=\"utf8\")\n",
    "\n",
    "cursor = connect.cursor()\n",
    "\n",
    "\n",
    "def close_mysql():\n",
    "    # Close the connection\n",
    "    connect.commit()\n",
    "    # connect.rollback()\n",
    "    cursor.close()\n",
    "    connect.close()\n",
    "\n",
    "\n",
    "class MysqlDB():\n",
    "    def mysql_create_db(self, db):\n",
    "        # 创建数据库\n",
    "        # sql = 'CREATE DATABASE IF NOT EXISTS {} DEFAULT CHARSET utf8mb4 COLLATE utf8mb4_0900_ai_ci'.format(db)\n",
    "        # sql = \"CREATE DATABASE IF NOT EXISTS {} CHARACTER SET utf8mb4 COLLATE utf8mb4_0900_ai_ci\".format(db)\n",
    "        # sql = \"CREATE DATABASE my_db CHARACTER SET utf8mb4 COLLATE utf8mb4_0900_ai_ci\"\n",
    "        sql = \"CREATE DATABASE {}\".format(db)\n",
    "        cursor.execute(sql)\n",
    "        print('创建{}数据库成功！'.format(db))\n",
    "\n",
    "    def mysql_drop_db(self, db):\n",
    "        # drop database <数据库名>;\n",
    "        sql = \"drop database {}\".format(db)\n",
    "        cursor.execute(sql)\n",
    "        print('删除{}数据库成功！'.format(db))\n",
    "\n",
    "    def mysql_alter_db(self):\n",
    "        # rename database olddbname to newdbname 不推荐使用\n",
    "        pass\n",
    "\n",
    "    def mysql_select_db(self):\n",
    "        sql = \"SHOW DATABASES\"\n",
    "        cursor.execute(sql)\n",
    "        data_ = cursor.fetchall()\n",
    "        print('所有的数据库名称：', data_)\n",
    "\n",
    "\n",
    "class MysqlTable():\n",
    "    def mysql_create_table(self, db):\n",
    "        \"\"\"\n",
    "        # 创建数据表\n",
    "        :param db:\n",
    "        :return:\n",
    "        \"\"\"\n",
    "        \"\"\"CREATE TABLE if not exists {} (\n",
    "        PRIMARY KEY  # 主键 NOT NULL unique\n",
    "        PRIMARY KEY (`id`)\n",
    "        AUTO_INCREMENT  # 自增\n",
    "        unsigned  # 无符号类型\n",
    "        NOT NULL  # 不为空\n",
    "        DEFAULT 'li'  # 默认\n",
    "        unique  # 唯一\n",
    "        now()  # 系统默认\n",
    "        CURRENT_TIMESTAMP  # 系统默认\n",
    "        DEFAULT CURRENT_TIMESTAMP ON UPDATE CURRENT_TIMESTAMP  # 修改时间\n",
    "        COMMENT '注释'  # 注释\n",
    "        uni_name(name)  # 索引名\n",
    "\n",
    "        字段名 ...\n",
    "        INDEX(字段名)\n",
    "        KEY `字段名` (`索引`)\n",
    "        UNIQUE INDEX(字段名)\n",
    "        UNIQUE KEY `字段名` (`索引`)\n",
    "\n",
    "        id INT PRIMARY KEY AUTO_INCREMENT,  # 默认字段\n",
    "        int_big_smallint SMALLINT,\n",
    "        int_big_integer INTEGER,\n",
    "        int_big_int INT,\n",
    "        int_bigint BIGINT,\n",
    "        float_float FLOAT,\n",
    "        float_double DOUBLE,\n",
    "        float_decimal DECIMAL,\n",
    "        time_data DATA,\n",
    "        time_time TIME,\n",
    "        time_year YEAR,\n",
    "        time_datetime DATETIME,\n",
    "        time_datetime_interval_code DATETIME_INTERVAL_CODE,\n",
    "        time_datetime_interval_precision DATETIME_INTERVAL_PRECISION,\n",
    "        time_timestamp TIMESTAMP,\n",
    "        ts_time timestamp NOT NULL DEFAULT CURRENT_TIMESTAMP();\n",
    "        ) ENGINE=InnoDB 'ENGINE=MyISAM不推荐 ENGINE=InnoDB推荐' COMMENT '' AUTO_INCREMENT=100 COMMENT '自增初始值' DEFAULT CHARSET=utf8 COMMENT '#字符集';\n",
    "        \"\"\".format(db)\n",
    "\n",
    "        sql = \"\"\"CREATE TABLE if not exists {} (\n",
    "        id INT PRIMARY KEY AUTO_INCREMENT,\n",
    "        name varchar(255) NOT NULL DEFAULT '',\n",
    "        iPhone INT NOT NULL unique,\n",
    "        email varchar(255) DEFAULT '' unique,\n",
    "        money DOUBLE DEFAULT 0.00,\n",
    "        birthday TIMESTAMP NOT NULL DEFAULT CURRENT_TIMESTAMP(),\n",
    "        time_datetime_current_timestamp TIMESTAMP NOT NULL DEFAULT CURRENT_TIMESTAMP,\n",
    "        update_time timestamp NOT NULL DEFAULT CURRENT_TIMESTAMP ON UPDATE CURRENT_TIMESTAMP\n",
    "        ) ENGINE=InnoDB AUTO_INCREMENT=1\"\"\".format(db)\n",
    "        cursor.execute(sql)\n",
    "        print('table {} 创建成功'.format(db))\n",
    "\n",
    "    def mysql_drop_table(self, db):\n",
    "        \"\"\"\n",
    "        删除表 drop table 表名\n",
    "        清空表 delete from 表名 自增的值不变，\n",
    "        清空表 truncate table 表名 自增归0，效率高\n",
    "        :param db:\n",
    "        :return:\n",
    "        \"\"\"\n",
    "        # 表删除\n",
    "        sql = \"DROP TABLE {}\".format(db)\n",
    "        cursor.execute(sql)\n",
    "        print('删除表 {} 成功'.format(db))\n",
    "\n",
    "    def mysql_alter_table(self, db, new_db):\n",
    "        # 修改表操作\n",
    "        sql = \"alter table {} rename to {}\".format(db, new_db)  # 修改数据表名\n",
    "\n",
    "        cursor.execute(sql)\n",
    "        print('表 {} 修改为 {} 成功'.format(db, new_db))\n",
    "\n",
    "    def mysql_select_table(self):\n",
    "        sql = \"show tables\"  # 所有表\n",
    "        # sql = \"select * from information_schema.tables where table_name ='student'\"  # 单个表\n",
    "        # sql = \"show create table my_table1\"  # 查看表结构\n",
    "        # sql = \"desc my_table1\"  # 查看表结构\n",
    "        cursor.execute(sql)\n",
    "        # table_list = [tuple[0] for tuple in cursor.fetchall()]\n",
    "        # print('此数据库中所有表：', cursor.fetchall())\n",
    "        print(cursor.fetchall())\n",
    "\n",
    "\n",
    "class MysqlField():\n",
    "    def mysql_alter(self, db, new_field):\n",
    "        \"\"\"\n",
    "        :param db:\n",
    "        :param new_field:\n",
    "        :return:\n",
    "        \"\"\"\n",
    "        # sql = \"alter table {} add if not exist {} INT DEFAULT 0\".format(db, new_field)  # 尾部插入\n",
    "        # sql = \"alter table {} ADD {} INT DEFAULT 0\".format(db, new_field)  # 尾部插入\n",
    "        # sql = \"alter table {} add {} INT DEFAULT 0 FIRST\".format(db, new_field)  # 头插入\n",
    "        # sql = \"alter table {} add {} INT DEFAULT 0 AFTER id\".format(db, new_field)  # 只能在某个已有字段的后面添加新字段，不能在它的前面添加新字段。\n",
    "        # sql = \"ALTER TABLE my_table1_1 ADD INDEX li (name);\"  # 加索引\n",
    "        # sql = \"ALTER TABLE my_table1_1 ADD primary key(id)\"  # 加主关键字的索引\n",
    "        sql = \"ALTER TABLE my_table1_1 ADD unique li_index (io)\"  # 加唯一限制条件的索引\n",
    "\n",
    "        cursor.execute(sql)\n",
    "        print('字段插入成功')\n",
    "\n",
    "    def mysql_drop(self, db):\n",
    "        \"\"\"\n",
    "        ALTER TABLE table_name DROP field_name;  # 删除字段（drop）alter table 表名 drop 字段名；\n",
    "        :param db:\n",
    "        :return:\n",
    "        \"\"\"\n",
    "        # sql = \"ALTER TABLE my_table1_1 DROP io1\"  # 删除字段\n",
    "        sql = \"ALTER TABLE my_table1_1 DROP index io1;\"  # 删除索引\n",
    "        cursor.execute(sql)\n",
    "\n",
    "    def mysql_update(self, db):\n",
    "        \"\"\"\n",
    "        alter table 表名 change 原字段名 新字段名 数据类型  # 重命名\n",
    "        ALTER TABLE 表名 RENAME COLUMN 原字段名 TO 新字段名  # 重命名\n",
    "        :param db:\n",
    "        :return:\n",
    "        \"\"\"\n",
    "        # sql = \"alter table my_table1_1 change io2 io2_2 varchar(20)\".format(db)  # 字段重命名\n",
    "        # sql = \"ALTER TABLE my_table1_1 RENAME COLUMN io2 TO io2_2\".format(db)  # 字段重命名\n",
    "        sql = \"alter table my_table1_1 change column name io2_2  INT null comment '昵称';\".format(db)  # 属性修改\n",
    "        sql = \"ALTER TABLE my_table1_1 MODIFY io2_2 VARCHAR(50);\".format(db)  # 属性修改\n",
    "        cursor.execute(sql)\n",
    "\n",
    "        print('属性修改')\n",
    "\n",
    "    def mysql_select(self, db):\n",
    "        \"\"\"\n",
    "        table_schema：数据库库名\n",
    "        table_name：表名\n",
    "        column_name：字段名\n",
    "        column_type：字段属性（包含字段类型和长度）\n",
    "        column_comment ：字段注释（字段说明）\n",
    "        data_type：字段类型\n",
    "        column_key：字段的主键（PRI为主键）\n",
    "        is_nullable：字段是否为空\n",
    "        :param db:\n",
    "        :return:\n",
    "        \"\"\"\n",
    "        # sql = \"select * from {}\".format(db)  # cursor.description\n",
    "        # sql = \"select COLUMN_NAME from information_schema.COLUMNS where table_name = '{}'\".format(db)  # cursor.fetchall()\n",
    "        # sql = \"select * from information_schema.COLUMNS where table_name = '{}'\".format(db)  # cursor.fetchall()\n",
    "        sql = \"desc {}\".format(db)  # 属性查看\n",
    "        # sql = \"show full columns from {}\".format(db)  # 属性查看\n",
    "        # 查询数据库中某个库所有字段的属性（指定数据库库名），若想查询所有去掉where条件即可\n",
    "        # sql = \"select * from information_schema.columns where table_schema= '数据库库名'\"\n",
    "        # 查询数据库中指定库指定表所有字段的属性（指定数据库库名和表名）\n",
    "        # sql = \" select * from information_schema.columns where table_schema= 'my_db1' and table_name = '{}'\".format(db)\n",
    "        # 查询数据库中特定列条件为某个字段名的属性\n",
    "        # sql = \"\"\"select table_schema, table_name, column_name, column_type, column_comment from information_schema.columns\n",
    "        # where TABLE_SCHEMA='my_db1' and column_name = 'io'\"\"\"\n",
    "        # 查询数据库中特定列（如：字段名、字段类型，长度大小、字段注释等）\n",
    "        # sql = \"\"\"select table_schema, table_name, column_name, column_type, column_comment from\n",
    "        # information_schema.columns where table_schema= 'my_db1'\"\"\"\n",
    "        cursor.execute(sql)\n",
    "\n",
    "        # col_name_list = [tuple[0] for tuple in cursor.description]\n",
    "        # col_name_list = [field[0] for field in cursor.fetchall()]\n",
    "\n",
    "        print(cursor.fetchall())\n",
    "\n",
    "\n",
    "class MysqlIndex():\n",
    "    def mysql_alter(self):\n",
    "        \"\"\"\n",
    "        alter table 表名 add index 索引名 (字段名1[，字段名2 …]);  # 加索引\n",
    "        alter table 表名 add primary key (字段名);  # 加主关键字的索引\n",
    "        alter table 表名 add unique 索引名 (字段名); # 加唯一限制条件的索引\n",
    "        添加PRIMARY KEY（主键索引）ALTER TABLE `table_name` ADD PRIMARY KEY ( `column` )\n",
    "        添加UNIQUE(唯一索引) ALTER TABLE `table_name` ADD UNIQUE ( `column` )\n",
    "        添加INDEX(普通索引) ALTER TABLE `table_name` ADD INDEX index_name ( `column` )\n",
    "        添加FULLTEXT(全文索引) ALTER TABLE `table_name` ADD FULLTEXT ( `column`)\n",
    "        添加多列索引 ALTER TABLE `table_name` ADD INDEX index_name ( `column1`, `column2`, `column3` )\n",
    "        create unique index 索引名(ix_name) on 表名(列名);\n",
    "        添加主键 alter table 表名 add primary key(列名);\n",
    "        :return:\n",
    "        \"\"\"\n",
    "        # sql = \"ALTER TABLE my_table1_1 ADD INDEX li (name);\"  # 加索引\n",
    "        # sql = \"ALTER TABLE my_table1_1 ADD primary key(id)\"  # 加主关键字的索引\n",
    "        # sql = \"ALTER TABLE `table_name` ADD PRIMARY KEY ( `column` )\"  # 加主关键字的索引\n",
    "        # sql = \"ALTER TABLE my_table1_1 ADD unique li_index (io)\"  # 加唯一限制条件的索引\n",
    "        # sql = \"ALTER TABLE `table_name` ADD FULLTEXT (`column`)\"  # 添加FULLTEXT(全文索引)\n",
    "        # sql = \"ALTER TABLE tbl_name ADD INDEX new_index_name(column_name)\"\n",
    "        sql = \"ALTER TABLE `table_name` ADD INDEX index_name (`column1`, `column2`, `column3`)\"\n",
    "\n",
    "        cursor.execute(sql)\n",
    "        print('索引添加成功')\n",
    "\n",
    "    def mysql_drop(self):\n",
    "        \"\"\"\n",
    "        使用 DROP CONSTRAINT 删除多重字段索引。只要在 CONSTRAINT 保留字后面指定索引名即可。\n",
    "        alter table 表名 drop index 索引名;  # 删除某个索引\n",
    "        格式：DROP INDEX 索引名称 ON 表名; DROP INDEX login_name_index ON `user`;\n",
    "        删除索引 drop unique index ix_name on 表名;\n",
    "        删除主键 alter table 表名 drop primary key;\n",
    "        :return:\n",
    "        \"\"\"\n",
    "        sql = \"ALTER TABLE my_table1_1 DROP index io1\"  # 删除索引\n",
    "        # sql = \"DROP INDEX login_name_index ON `user`;\"  # 删除索引\n",
    "\n",
    "        cursor.execute(sql)\n",
    "        print('索引删除成功')\n",
    "\n",
    "    def mysql_update(self):\n",
    "        \"\"\"\n",
    "        mysql中没有真正意义上的修改索引，只有先删除之后在创建新的索引才可以达到修改的目的，\n",
    "        原因是mysql在创建索引时会对字段建立关系长度等，只有删除之后创建新的索引才能创建新的关系保证索引的正确性；\n",
    "        DROP INDEX login_name_index ON `user`;\n",
    "        ALTER TABLE `user` ADD UNIQUE login_name_index ( `login_name` );\n",
    "        :return:\n",
    "        \"\"\"\n",
    "        # sql = \"ALTER TABLE tbl_name RENAME INDEX old_index_name TO new_index_name\"\n",
    "        sql = \"DROP INDEX login_name_index ON `user`\"\n",
    "        sql = \"ALTER TABLE `user` ADD UNIQUE login_name_index(`login_name`)\"\n",
    "\n",
    "        cursor.execute(sql)\n",
    "        print('索引重命名成功')\n",
    "\n",
    "    def mysql_select(self):\n",
    "        \"\"\"\n",
    "        SHOW INDEX FROM <表名> [ FROM <数据库名>]  # 索引\n",
    "        SHOW INDEX FROM student FROM test.txt;\n",
    "        SHOW INDEX FROM tb_stu_info2\\G\n",
    "        :return:\n",
    "        \"\"\"\n",
    "        sql = \"SHOW INDEX FROM my_table1_1 FROM my_db1\"\n",
    "        # sql = \"SHOW INDEX FROM my_table1_1\"\n",
    "        cursor.execute(sql)\n",
    "        print('索引重命名成功')\n",
    "\n",
    "\n",
    "class MysqlData():\n",
    "\n",
    "    def insert_mysql(self, table):\n",
    "        \"\"\"\n",
    "        INSERT INTO `表名` (字段名, 字段名...) VALUES (值, 值...)\n",
    "            INSERT INTO `table_name` (name, address) VALUES (%s, %s)\n",
    "        insert into 表 (列名, 列名) values (值, 值)\n",
    "        insert into 表 (列名, 列名) values (值, 值), (值, 值)\n",
    "        insert into 表 (列名, 列名) select (列名, 列名) from 表\n",
    "        insert into 表名 values(...) 自增列也需要占位，用0\n",
    "        :return:\n",
    "        \"\"\"\n",
    "\n",
    "        # sql = \"\"\"INSERT INTO {} (id, name, iPhone, email, money, birthday) VALUES (1, 'li', 17686520, 'lijd1999@icloud.com', 0.99, '1999-09-29 07:30')\"\"\".format(table)\n",
    "        # sql = \"insert into person (name,telephone,information) value(\\\"sasaa\\\",\\\"sadasda\\\",\\\"这个是python 2插入的数据\\\")\"\n",
    "        # val = (\"John\", \"Highway 21\")  # # 以元组的形式填入数据\n",
    "        # cursor.execute(sql, val)  # 插入单个数据\n",
    "        # cursor.execute(sql)  # 插入单个数据\n",
    "\n",
    "        # 也可以用python中字典的形式填充变量，在SQL语句中的占位符需要使用对应的变量名\n",
    "        # 在SQL语句中指明变量名\n",
    "        # sql = \"INSERT INTO {} (name, address) VALUES (%(name)s, %(address)s)\".format(table)\n",
    "        # 以字典的形式填入数据\n",
    "        # val = {'name': 'Alice', 'address': 'Center street 22'}\n",
    "        # cursor.execute(sql, val)\n",
    "\n",
    "        # sql = \"\"\"INSERT INTO {} (name, iPhone, email, money, birthday)\n",
    "        #  VALUES (%s, %s, %s, %s, %s)\"\"\".format(table)\n",
    "        # val = [\n",
    "        #     ('li1', 176, 'ljd1999@icloud.com', 0.99, '1999-09-29 07:30'),\n",
    "        #     ('li2', 768, 'li1999@icloud.com', 0.99, '1999-09-29 07:30'),\n",
    "        #     ('li3', 686, 'jd1999@icloud.com', 0.99, '1999-09-29 07:30'),\n",
    "        #     ('li4', 865, 'ld1999@icloud.com', 0.99, '1999-09-29 07:30'),\n",
    "        # ]\n",
    "        # cursor.executemany(sql, val)  # 多条数据\n",
    "\n",
    "        # 如果需要一次插入多条数据，可以使用executemany()方法，将多条数据以数组的方式传给第二个参数。\n",
    "        # 通过cursor的rowcount属性可以返回成功操作的数据条数，lastrowid属性是最后一个成功插入的行的id\n",
    "        sql = \"INSERT INTO {} (name, address) VALUES (%s, %s)\".format(table)\n",
    "        # 以数组的形式填充数据\n",
    "        val = [\n",
    "            ('Peter', 'Lowstreet 4'),\n",
    "            ('Amy', 'Apple st 652'),\n",
    "            ('Hannah', 'Mountain 21'),\n",
    "        ]\n",
    "        cursor.executemany(sql, val)\n",
    "\n",
    "        # sql = \"INSERT INTO {} (name, address) VALUES (%s, %s)\".format(table)\n",
    "        # val = (\"Michelle\", \"Blue Village\")\n",
    "        # cursor.execute(sql, val)\n",
    "\n",
    "        print(\"成功插入%d条数据,最后一条的id为:%d\" % (cursor.rowcount, cursor.lastrowid))\n",
    "        print(\"成功插入 %d 数据\" % cursor.rowcount)\n",
    "        print(\"1 record inserted, ID:\", cursor.lastrowid)\n",
    "\n",
    "    def mysql_drop(self):\n",
    "        \"\"\"\n",
    "        删除表 delete from 表 , 自增值不变\n",
    "        删除条件数据 delete from 表 where id=1 and name=\"yun\"\n",
    "        如果字段设置为非空用修改\n",
    "        删除表记录  delete from 表名 where 条件；注意：如果不加where条件，所有记录全部清空\n",
    "        :return:\n",
    "        \"\"\"\n",
    "        sql = \"DELETE FROM customers WHERE name=%s\"\n",
    "        val = ('Hannah',)\n",
    "        sql = \"DELETE FROM customers WHERE address = 'Mountain 21'\"\n",
    "        # 防止 SQL 注入\n",
    "        sql = \"DELETE FROM customers WHERE address = %s\"\n",
    "        adr = (\"Yellow Garden 2\",)\n",
    "\n",
    "        cursor.execute(sql, val)\n",
    "        cursor.execute(sql)\n",
    "        cursor.execute(sql, adr)\n",
    "\n",
    "        print(cursor.rowcount, \"record(s) deleted\")\n",
    "\n",
    "    def mysql_update(self):\n",
    "        \"\"\"\n",
    "        update 表 set name=\"alex\" where id>1\n",
    "        # update 表名 set 字段1=值1，字段名2=值2，... where 条件\n",
    "        # 注意：如果不加where条件，所有记录全部更改\n",
    "        update 数据表名 set column_name = new_value1, column_name2 = new_value2, ···where condition\n",
    "        :return:\n",
    "        \"\"\"\n",
    "        # 修改数据\n",
    "        sql = \"UPDATE customers SET address=%s WHERE name=%s\"\n",
    "        val = ('Center street 21', 'Mike')\n",
    "\n",
    "        cursor.execute(sql, val)\n",
    "\n",
    "        print('数据修改成功')\n",
    "\n",
    "    def select_mysql(self):\n",
    "        \"\"\"\n",
    "        SELECT\n",
    "            {* | <字段列名>}                  {*|<字段列名>}包含星号通配符的字段列表，表示所要查询字段的名称。\n",
    "            [\n",
    "            FROM <表 1>, <表 2>…                      <表 1>，<表 2>…，表 1 和表 2 表示查询数据的来源，可以是单个或多个。\n",
    "            [WHERE <表达式>            WHERE <表达式>是可选项，如果选择该项，将限定查询数据必须满足该查询条件。\n",
    "            [GROUP BY <group by definition>            GROUP BY< 字段 >，该子句告诉 MySQL 如何显示查询出来的数据，并按照指定的字段分组。\n",
    "            [HAVING <expression> [{<operator> <expression>}…]]\n",
    "            [ORDER BY <order by definition>]            [ORDER BY< 字段 >]，该子句告诉 MySQL 按什么样的顺序显示查询出来的数据，可以进行的排序有升序（ASC）和降序（DESC），默认情况下是升序。\n",
    "            [LIMIT[<offset>,] <row count>]            [LIMIT[<offset>，]<row count>]，该子句告诉 MySQL 每次显示查询出来的数据条数。\n",
    "        ]\n",
    "        查询的基本语法 select * from 表名; 查询所有，不建议使用\n",
    "        select user,pass from books;  //查询数据表中user和pass列的数据\n",
    "        消除重复行 select distinct 列名 from 表名;\n",
    "        取名 select name as eee from 表名; ， select rename.name from 表名 rename\n",
    "\n",
    "        select  [distinct][concat(col 1, \":\",col 2) as col] selection_list\n",
    "\n",
    "        from 数据表名\t\t\t//指定数据表\n",
    "        where primary_constraint\t\t\t//查询时需要满足的条件，行必须满足的条件\n",
    "        group by grouping_columns\t\t\t//如何对结果进行分组\n",
    "        order by sorting_cloumns \t\t\t//如何对结果进行排序\n",
    "        having secondary_constraint\t\t\t//查询时满足的第二条件\n",
    "        limit count \t\t\t\t\t\t//限定输出的查询结果\n",
    "\n",
    "        条件查询\n",
    "            基本语法 select * from 表名 where 条件;\n",
    "            条件：\n",
    "                in / not in 非连续\n",
    "                = / > / >= / < / <= / != / <>\n",
    "                and / or / not , and比or先运算，如果同时出现并希望先算or，需要结合 () 使用\n",
    "                between .. and .. ；连续范围\n",
    "            单一条件的查询语句\n",
    "                单一条件指的是在 WHERE 关键字后只有一个查询条件。\n",
    "                在 tb_students_info 数据表中查询身高为 170cm 的学生姓名，SQL 语句和运行结果如下。\n",
    "                    mysql> SELECT name,height FROM tb_students_info WHERE height=170;\n",
    "                在 tb_students_info 数据表中查询年龄小于 22 的学生姓名，SQL 语句和运行结果如下。\n",
    "                    mysql> SELECT name,age FROM tb_students_info  WHERE age<22;\n",
    "            多条件的查询语句\n",
    "                在 WHERE 关键词后可以有多个查询条件，这样能够使查询结果更加精确。多个查询条件时用逻辑运算符 AND（&&）、OR（||）或 XOR 隔开。\n",
    "                AND：记录满足所有查询条件时，才会被查询出来。\n",
    "                OR：记录满足任意一个查询条件时，才会被查询出来。\n",
    "                XOR：记录满足其中一个条件，并且不满足另一个条件时，才会被查询出来。\n",
    "                在 tb_students_info 表中查询 age 大于 21，并且 height 大于等于 175 的学生信息，SQL 语句和运行结果如下。\n",
    "                    mysql> SELECT name,age,height FROM tb_students_info WHERE age>21 AND height>=175;\n",
    "                在 tb_students_info 表中查询 age 大于 21，或者 height 大于等于 175 的学生信息，SQL 语句和运行结果如下。\n",
    "                    mysql> SELECT name,age,height FROM tb_students_info WHERE age>21 OR height>=175;\n",
    "                在 tb_students_info 表中查询 age 大于 21，并且 height 小于 175 的学生信息和 age 小于 21，并且 height 大于等于 175 的学生信息，SQL 语句和运行结果如下。\n",
    "                    mysql> SELECT name,age,height FROM tb_students_info  WHERE age>21 XOR height>=175;\n",
    "            select * from students where id in (11,22,33);\n",
    "            select * from students where id in (select nid from tb1);\n",
    "            select * from students where id>3;\n",
    "            select * from students where sname!='黄蓉';\n",
    "            select * from students where isdelete=0 and id>10;\n",
    "            select * from students where id between 3 and 8 and gender=1;\n",
    "            select * from books where type = 'python';\n",
    "\n",
    "        模糊查询\n",
    "        like 模糊查询\n",
    "            like 属于较常用的比较运算符，它可以实现模糊查询。有两种通配符：“%”和下划线“_” 。“%”可以匹配一个或多个字符，而“_”只匹配一个字符。\n",
    "            在 MySQL 中，LIKE 关键字主要用于搜索匹配字段中的指定内容。其语法格式如下：\n",
    "                [NOT] LIKE  '字符串'\n",
    "                NOT ：可选参数，字段中的内容与指定的字符串不匹配时满足条件。\n",
    "                字符串：指定用来匹配的字符串。“字符串”可以是一个很完整的字符串，也可以包含通配符。\n",
    "                LIKE 关键字支持百分号“%”和下划线“_”通配符。\n",
    "                通配符是一种特殊语句，主要用来模糊查询。当不知道真正字符或者懒得输入完整名称时，可以使用通配符来代替一个或多个真正的字符。\n",
    "            带有“%”通配符的查询\n",
    "                注意：匹配的字符串必须加单引号或双引号。\n",
    "                “%”是 MySQL 中最常用的通配符，它能代表任何长度的字符串，字符串的长度\n",
    "                在 tb_students_info 表中，查找所有以字母“T”开头的学生姓名，SQL 语句和运行结果如下。\n",
    "                    mysql> SELECT name FROM tb_students_info WHERE name LIKE 'T%';\n",
    "                在 tb_students_info 表中，查找所有不以字母“T”开头的学生姓名，SQL 语句和运行结果如下。\n",
    "                    mysql> SELECT NAME FROM tb_students_info WHERE NAME NOT LIKE 'T%';\n",
    "                在 tb_students_info 表中，查找所有包含字母“e”的学生姓名，SQL 语句和运行结果如下。\n",
    "                    mysql> SELECT name FROM tb_students_info WHERE name LIKE '%e%';\n",
    "            带有“_”通配符的查询\n",
    "                “_”只能代表单个字符，字符的长度不能为 0。例如，a_b可以代表 acb、adb、aub 等字符串。\n",
    "                在 tb_students_info 表中，查找所有以字母“y”结尾，且“y”前面只有 4 个字母的学生姓名，SQL 语句和运行结果如下。\n",
    "                    mysql> SELECT name FROM tb_students_info  WHERE name LIKE '____y';\n",
    "            LIKE 区分大小写\n",
    "                默认情况下，LIKE 关键字匹配字符的时候是不区分大小写的。如果需要区分大小写，可以加入 BINARY 关键字。\n",
    "                在 tb_students_info 表中，查找所有以字母“t”开头的学生姓名，区分大小写和不区分大小写的 SQL 语句和运行结果如下。\n",
    "                    mysql> SELECT name FROM tb_students_info WHERE name LIKE 't%';\n",
    "                    由结果可以看到，区分大小写后，“Tom”和“Thomas”等记录就不会被匹配到了。\n",
    "            使用通配符的注意事项和技巧\n",
    "                下面是使用通配符的一些注意事项：\n",
    "                    注意大小写。MySQL 默认是不区分大小写的。如果区分大小写，像“Tom”这样的数据就不能被“t%”所匹配到。\n",
    "                    注意尾部空格，尾部空格会干扰通配符的匹配。例如，“T% ”就不能匹配到“Tom”。\n",
    "                    注意 NULL。“%”通配符可以到匹配任意字符，但是不能匹配 NULL。也就是说 “%”匹配不到 tb_students_info 数据表中值为 NULL 的记录。\n",
    "\n",
    "                下面是一些使用通配符要记住的技巧。\n",
    "                    不要过度使用通配符，如果其它操作符能达到相同的目的，应该使用其它操作符。因为 MySQL 对通配符的处理一般会比其他操作符花费更长的时间。\n",
    "                    在确定使用通配符后，除非绝对有必要，否则不要把它们用在字符串的开始处。把通配符置于搜索模式的开始处，搜索起来是最慢的。\n",
    "                    仔细注意通配符的位置。如果放错地方，可能不会返回想要的数据。\n",
    "\n",
    "                总之，通配符是一种极其重要和有用的搜索工具，以后我们会经常用到它。\n",
    "                拓展\n",
    "                    如果查询内容中包含通配符，可以使用“\\”转义符。例如，在 tb_students_info 表中，将学生姓名“Dany”修改为“Dany%”后，查询以“%”结尾的学生姓名，SQL 语句和运行结果如下：\n",
    "                    mysql> SELECT NAME FROM test.txt.`tb_students_info` WHERE NAME LIKE '%\\%';\n",
    "\n",
    "            【例】查找所有第二个字母是“m”的图书。\n",
    "            select * from books where bookname like('_m%');\n",
    "\n",
    "            基本语法 select * from 表名 where 列名 like 条件;\n",
    "            魔符词语： % 表示任意多个任意字符， _ 表示一个任意字符\n",
    "            select * from students where sname like '黄%';\n",
    "            select * from students where sname like '黄_';\n",
    "\n",
    "        范围查询\n",
    "            MySQL 提供了 BETWEEN AND 关键字，用来判断字段的数值是否在指定范围内。\n",
    "            BETWEEN AND 需要两个参数，即范围的起始值和终止值。如果字段值在指定的范围内，则这些记录被返回。如果不在指定范围内，则不会被返回。\n",
    "            使用 BETWEEN AND 的基本语法格式如下：[NOT] BETWEEN 取值1 AND 取值2\n",
    "            其中：\n",
    "                NOT：可选参数，表示指定范围之外的值。如果字段值不满足指定范围内的值，则这些记录被返回。\n",
    "                取值1：表示范围的起始值。\n",
    "                取值2：表示范围的终止值。\n",
    "            BETWEEN AND 和 NOT BETWEEN AND 关键字在查询指定范围内的记录时很有用。例如，查询学生的年龄段、出生日期，员工的工资水平等。\n",
    "            在表 tb_students_info 中查询年龄在 20 到 23 之间的学生姓名和年龄，SQL 语句和运行结果如下。\n",
    "                mysql> SELECT name,age FROM tb_students_info WHERE age BETWEEN 20 AND 23;\n",
    "                查询结果中包含学生年龄为 20 和 23 的记录，这就说明，在 MySQL 中，BETWEEN AND 能匹配指定范围内的所有值，包括起始值和终止值。\n",
    "            在表 tb_students_info 中查询年龄不在 20 到 23 之间的学生姓名和年龄，SQL 语句和运行结果如下。\n",
    "                mysql> SELECT name,age FROM tb_students_info WHERE age NOT BETWEEN 20 AND 23;\n",
    "            在表 tb_students_info 中查询注册日期在 2015-10-01 和 2016-05-01 之间的学生信息。SQL 语句和运行结果如下。\n",
    "                mysql> SELECT name,login_date FROM tb_students_info WHERE login_date BETWEEN '2015-10-01' AND '2016-05-01';\n",
    "\n",
    "        IS NULL：空值查询\n",
    "            MySQL 提供了 IS NULL 关键字，用来判断字段的值是否为空值（NULL）。空值不同于 0，也不同于空字符串。\n",
    "            如果字段的值是空值，则满足查询条件，该记录将被查询出来。如果字段的值不是空值，则不满足查询条件。\n",
    "            使用 IS NULL 的基本语法格式如下：IS [NOT] NULL\n",
    "            其中，“NOT”是可选参数，表示字段值不是空值时满足条件。\n",
    "            下面使用 IS NULL 关键字来查询 tb_students_info 表中 login_date 字段是 NULL 的记录。\n",
    "            mysql> SELECT `name`,`login_date` FROM tb_students_info WHERE login_date IS NULL;\n",
    "            注意：IS NULL 是一个整体，不能将 IS 换成“=”。如果将 IS 换成“=”将不能查询出任何结果，数据库系统会出现“Empty set(0.00 sec)”这样的提示。同理，IS NOT NULL 中的 IS NOT 不能换成“!=”或“<>”。\n",
    "\n",
    "        IS NOT NULL 表示查询字段值不为空的记录。\n",
    "            下面使用 IS NOT NULL 关键字来查询 tb_students_info 表中 login_date 字段不为空的记录。\n",
    "                mysql> SELECT `name`,login_date FROM tb_students_info WHERE login_date IS NOT NULL;\n",
    "\n",
    "        聚合\n",
    "            max(列) 表示求此列的最大值\n",
    "            min(列) 表示求此列的最小值\n",
    "            sum(列) 表示求此列的和\n",
    "            avg(列) 表示求此列的平均值\n",
    "            count(*) 表示计算总行数，括号中写星与列名，结果是相同的\n",
    "            查询学生总数\n",
    "            select count(*) from students;\n",
    "            查询女生的编号最大值\n",
    "            select max(id) from students where gender=0;\n",
    "            查询未删除的学生最小编号\n",
    "            select min(id) from students where isdelete=0;\n",
    "            查询男生的编号之后\n",
    "            select sum(id) from students where gender=1;\n",
    "            查询未删除女生的平均分\n",
    "            select avg(score) from students where isdelete=0 and gender=0;\n",
    "\n",
    "        分组\n",
    "            通过group by 可以将数据划分到不同的组中，实现对记录的分组查询。在查询时，所查询的列必须包含在分组的列中，目的是使查询到的数据没有矛盾。在与avg()或sum()函数一起使用时，group by 能发挥最大作用。\n",
    "            分组就是对数据表中相同字段进行合并，然后进行操作group by操作如下:\n",
    "                有两列，就是性别，与每个性别不人数\n",
    "                select gender as 性别,count(*)\n",
    "                from students\n",
    "                group by gender;\n",
    "\n",
    "            对分组之后再进行筛选，\n",
    "            select gender as 性别,count(*)\n",
    "            from students\n",
    "            group by gender\n",
    "            having gender=1;\n",
    "            WITH ROLLUP 可以实现在分组统计数据基础上再进行相同的统计（SUM,AVG,COUNT…）\n",
    "            会在最后行显示整个的sum,但name是null，可用 coalesce 改进\n",
    "            select name, sum(name) from students group by name with rollup;\n",
    "            select coalesce(name,\"总数\") sum(name) from students group by name with rollup;\n",
    "            select bookname,avg(price),type from books group by type;\n",
    "\n",
    "        过滤分组\n",
    "            使用 HAVING 关键字的语法格式如下：HAVING <查询条件>\n",
    "                HAVING 关键字和 WHERE 关键字都可以用来过滤数据，且 HAVING 支持 WHERE 关键字中所有的操作符和语法。\n",
    "                但是 WHERE 和 HAVING 关键字也存在以下几点差异：\n",
    "                    一般情况下，WHERE 用于过滤数据行，而 HAVING 用于过滤分组。\n",
    "                    WHERE 查询条件中不可以使用聚合函数，而 HAVING 查询条件中可以使用聚合函数。\n",
    "                    WHERE 在数据分组前进行过滤，而 HAVING 在数据分组后进行过滤 。\n",
    "                    WHERE 针对数据库文件进行过滤，而 HAVING 针对查询结果进行过滤。也就是说，WHERE 根据数据表中的字段直接进行过滤，而 HAVING 是根据前面已经查询出的字段进行过滤。\n",
    "                    WHERE 查询条件中不可以使用字段别名，而 HAVING 查询条件中可以使用字段别名。\n",
    "\n",
    "            下面通过实例让大家更直观的了解 WHERE 和 HAVING 关键字的相同点和不同点。\n",
    "            分别使用 HAVING 和 WHERE 关键字查询出 tb_students_info 表中身高大于 150 的学生姓名，性别和身高。SQL 语句和运行结果如下。\n",
    "                mysql> SELECT name,sex,height FROM tb_students_info HAVING height>150;\n",
    "                mysql> SELECT name,sex,height FROM tb_students_info WHERE height>150;\n",
    "                上述实例中，因为在 SELECT 关键字后已经查询出了 height 字段，所以 HAVING 和 WHERE 都可以使用。但是如果 SELECT 关键字后没有查询出 height 字段，MySQL 就会报错。\n",
    "            使用 HAVING 和 WHERE 关键字分别查询出 tb_students_info 表中身高大于 150 的学生姓名和性别（与例 1 相比，这次没有查询 height 字段）。SQL 语句和运行结果如下。\n",
    "                mysql> SELECT name,sex FROM tb_students_info WHERE height>150;\n",
    "                mysql> SELECT name,sex FROM tb_students_info HAVING height>150;\n",
    "                由结果可以看出，如果 SELECT 关键字后没有查询出 HAVING 查询条件中使用的 height 字段，MySQL 会提示错误信息：“having子句”中的列“height”未知”。\n",
    "            根据 height 字段对 tb_students_info 表中的数据进行分组，并使用 HAVING 和 WHERE 关键字分别查询出分组后平均身高大于 170 的学生姓名、性别和身高。SQL 语句和运行结果如下。\n",
    "                mysql> SELECT GROUP_CONCAT(name),sex,height FROM tb_students_info GROUP BY height HAVING AVG(height)>170;\n",
    "                mysql> SELECT GROUP_CONCAT(name),sex,height FROM tb_students_info WHERE AVG(height)>170 GROUP BY height;\n",
    "                由结果可以看出，如果在 WHERE 查询条件中使用聚合函数，MySQL 会提示错误信息：无效使用组函数。\n",
    "\n",
    "        distinct 在结果中去除重复的行\n",
    "            查询 books 表，并在结果中去掉类型字段 type中的重复数据\n",
    "            select distinct type from books;\n",
    "            SELECT DISTINCT age FROM student;\n",
    "            SELECT DISTINCT name,age FROM student;\n",
    "            SELECT DISTINCT * FROM student;\n",
    "\n",
    "        order by 对结果排序\n",
    "            注意：在对多个字段进行排序时，排序的第一个字段必须有相同的值，才会对第二个字段进行排序。如果第一个字段数据中所有的值都是唯一的，MySQL 将不再对第二个字段进行排序。\n",
    "            默认情况下，查询数据按字母升序进行排序（A～Z），但数据的排序并不仅限于此，还可以使用 ORDER BY 中的 DESC 对查询结果进行降序排序（Z～A）。\n",
    "\n",
    "            使用order by 可以对查询的结果进行升序和降序(desc)排序，默认情况下，order by 按升序输出结果。降序用desc实现。\n",
    "            对含有 null 值的列进行排序时，如果是按升序排列，null 值将出现在最前面，如果是按降序排序，null 值将出现在最后。\n",
    "            ORDER BY 关键字主要用来将查询结果中的数据按照一定的顺序进行排序。其语法格式如下：\n",
    "            ORDER BY <字段名> [ASC|DESC]\n",
    "                语法说明如下。字段名：表示需要排序的字段名称，多个字段时用逗号隔开。\n",
    "                ASC|DESC：ASC表示字段按升序排序；DESC表示字段按降序排序。其中ASC为默认值。\n",
    "            使用 ORDER BY 关键字应该注意以下几个方面：\n",
    "                ORDER BY 关键字后可以跟子查询（关于子查询后面教程会详细讲解，这里了解即可）。\n",
    "                当排序的字段中存在空值时，ORDER BY 会将该空值作为最小值来对待。\n",
    "                ORDER BY 指定多个字段进行排序时，MySQL 会按照字段的顺序从左到右依次进行排序。\n",
    "            【例】查询books表中的所有信息，按照id进行降序排序，并且只显示5条记录\n",
    "                select * from books order by id desc limit 5;\n",
    "            下面查询 tb_students_info 表的所有记录，并对 height 字段进行排序，SQL 语句和运行结果如下。\n",
    "                SELECT * FROM tb_students_info ORDER BY height;\n",
    "            多字段排序\n",
    "                查询 tb_students_info 表中的 name 和 height 字段，先按 height 排序，再按 name 排序，SQL 语句和运行结果如下。\n",
    "                mysql> SELECT name,height FROM tb_students_info ORDER BY height,name;\n",
    "            下面根据 tb_students_info 表中的 sex 字段进行分组查询，SQL 语句和运行结果如下：\n",
    "                mysql> SELECT `name`,`sex` FROM tb_students_info GROUP BY sex;\n",
    "\n",
    "        GROUP BY 与 GROUP_CONCAT()\n",
    "            GROUP BY 关键字可以和 GROUP_CONCAT() 函数一起使用。GROUP_CONCAT() 函数会把每个分组的字段值都显示出来。\n",
    "            下面根据 tb_students_info 表中的 sex 字段进行分组查询，使用 GROUP_CONCAT() 函数将每个分组的 name 字段的值都显示出来。SQL 语句和运行结果如下：\n",
    "                mysql> SELECT `sex`, GROUP_CONCAT(name) FROM tb_students_info GROUP BY sex;\n",
    "            下面根据 tb_students_info 表中的 age 和 sex 字段进行分组查询。SQL 语句和运行结果如下：\n",
    "                mysql> SELECT age,sex,GROUP_CONCAT(name) FROM tb_students_info GROUP BY age,sex;\n",
    "                上面实例在分组过程中，先按照 age 字段进行分组，当 age 字段值相等时，再把 age 字段值相等的记录按照 sex 字段进行分组。\n",
    "            多个字段分组查询时，会先按照第一个字段进行分组。如果第一个字段中有相同的值，MySQL 才会按照第二个字段进行分组。如果第一个字段中的数据都是唯一的，那么 MySQL 将不再对第二个字段进行分组。\n",
    "        GROUP BY 与聚合函数\n",
    "            在数据统计时，GROUP BY 关键字经常和聚合函数一起使用。\n",
    "            聚合函数包括 COUNT()，SUM()，AVG()，MAX() 和 MIN()。其中，COUNT() 用来统计记录的条数；SUM() 用来计算字段值的总和；AVG() 用来计算字段值的平均值；MAX() 用来查询字段的最大值；MIN() 用来查询字段的最小值。\n",
    "            下面根据 tb_students_info 表的 sex 字段进行分组查询，使用 COUNT() 函数计算每一组的记录数。SQL 语句和运行结果如下：\n",
    "                mysql> SELECT sex,COUNT(sex) FROM tb_students_info GROUP BY sex;\n",
    "\n",
    "        GROUP BY 与 WITH ROLLUP\n",
    "            WITH POLLUP 关键字用来在所有记录的最后加上一条记录，这条记录是上面所有记录的总和，即统计记录数量。\n",
    "            下面根据 tb_students_info 表中的 sex 字段进行分组查询，并使用 WITH ROLLUP 显示记录的总和。\n",
    "                mysql> SELECT sex,GROUP_CONCAT(name) FROM tb_students_info GROUP BY sex WITH ROLLUP;\n",
    "\n",
    "        排序\n",
    "            select * from 表 order by 列 asc; 根据列从小到大\n",
    "            select * from 表 order by 列1 asc, 列2 desc; 根据列1从小到大，若相同，则根据列2 从大到小\n",
    "\n",
    "        分页\n",
    "            select * from 表 limit 5; 前五行\n",
    "            select * from 表 limit 4, 5; 从第四行开始5行\n",
    "            select * from 表 limit 5 offset 4; 从第四行开始5行\n",
    "\n",
    "        CROSS JOIN：交叉连接（尽量避免）\n",
    "            交叉连接（CROSS JOIN）一般用来返回连接表的笛卡尔积。\n",
    "                交叉连接的语法格式如下：\n",
    "                    SELECT <字段名> FROM <表1> CROSS JOIN <表2> [WHERE子句]\n",
    "                    SELECT <字段名> FROM <表1>, <表2> [WHERE子句]\n",
    "                语法说明如下：\n",
    "                    字段名：需要查询的字段名称。\n",
    "                    <表1><表2>：需要交叉连接的表名。\n",
    "                    WHERE 子句：用来设置交叉连接的查询条件。\n",
    "                注意：多个表交叉连接时，在 FROM 后连续使用 CROSS JOIN 或,即可。以上两种语法的返回结果是相同的，但是第一种语法才是官方建议的标准写法。\n",
    "                当连接的表之间没有关系时，我们会省略掉 WHERE 子句，这时返回结果就是两个表的笛卡尔积，返回结果数量就是两个表的数据行相乘。需要注意的是，如果每个表有 1000 行，那么返回结果的数量就有 1000×1000 = 1000000 行，数据量是非常巨大的。\n",
    "                交叉连接可以查询两个或两个以上的表，为了让读者更好的理解，下面先讲解两个表的交叉连接查询。\n",
    "                查询学生信息表和科目信息表，并得到一个笛卡尔积。\n",
    "                    为了方便观察学生信息表和科目表交叉连接后的运行结果，我们先分别查询出这两个表的数据，再进行交叉连接查询。\n",
    "                    查询 tb_students_info 表中的数据，SQL 语句和运行结果如下：\n",
    "                        SELECT * FROM tb_students_info;\n",
    "                        SELECT * FROM tb_course;\n",
    "                        SELECT * FROM tb_course CROSS JOIN tb_students_info;\n",
    "                        由运行结果可以看出，tb_course 和 tb_students_info 表交叉连接查询后，返回了 50 条记录。可以想象，当表中的数据较多时，得到的运行结果会非常长，而且得到的运行结果也没太大的意义。所以，通过交叉连接的方式进行多表查询的这种方法并不常用，我们应该尽量避免这种查询。\n",
    "                    查询 tb_course 表中的 id 字段和 tb_students_info 表中的 course_id 字段相等的内容， SQL 语句和运行结果如下：\n",
    "                        mysql> SELECT * FROM tb_course CROSS JOIN tb_students_info WHERE tb_students_info.course_id = tb_course.id;\n",
    "                    如果在交叉连接时使用 WHERE 子句，MySQL 会先生成两个表的笛卡尔积，然后再选择满足 WHERE 条件的记录。因此，表的数量较多时，交叉连接会非常非常慢。一般情况下不建议使用交叉连接。\n",
    "                    在 MySQL 中，多表查询一般使用内连接和外连接，它们的效率要高于交叉连接。《MySQL内连接》和《MySQL外连接》阅读学习 MySQL 中的内连接和外连接。\n",
    "\n",
    "\n",
    "        联合\n",
    "        concat 联合多列\n",
    "            使用 concat 函数可以联合多个字段，构成一个总的字符串。\n",
    "            【例】把books表中的书名(bookname)和价格(price)合并到一起，构成一个新的字符串。\n",
    "\n",
    "            select id,concat （bookname，“:”,price）as info,type from books;\n",
    "            其中合并后的字段名为concat函数形成的表达式 “concat （bookname，“:”,price）”，看上去很复杂，通过as关键字给合并字段取一个别名，这样看上去就很清晰。\n",
    "            将两个表获取的字段数进行上下拼叠，操作如下:\n",
    "                组合，自动处理重合\n",
    "                select nickname from A\n",
    "                union\n",
    "                select name from B\n",
    "\n",
    "                组合，不处理重合\n",
    "                select nickname from A\n",
    "                union all\n",
    "                select name from B\n",
    "\n",
    "        limit 限定结果行数（永远放在SQL语句的最后）\n",
    "            作用：显示查询记录的个数\n",
    "            用法：\n",
    "                limit n     显示n条记录、\n",
    "                limit m，n m表示 从m+1条记录开始显示 显示n条记录、\n",
    "                limit 2,3 显示第3,4，5条记录\n",
    "            limit 可以对查询结果的记录条数进行限定，控制它输出的行数。\n",
    "            【例】查询 books 表，按照图书价格降序排列，显示5条记录。\n",
    "            select * from books order by price desc limit 5;\n",
    "\n",
    "            使用limit 还可以从查询结果的中间部分取值。首先要定义两个参数，参数1是开始读取第一条记录的编号（在查询结果中，第一个结果的记录编号是0，而不是1）；参数2是要查询记录的个数。\n",
    "            【例】查询 books 表，从编号1开始（即从第2条记录），查询4个记录。\n",
    "            select * from books where id limit 1,4;\n",
    "\n",
    "\n",
    "        使用函数和表达式\n",
    "            在MySQL中，还可以使用表达式来计算各列的值，作为输出结果。表达式还可以包含一些函数。\n",
    "            【例】计算books表中各类图书的总价格。\n",
    "            select sum(price) as total,type from books group by type;\n",
    "\n",
    "            不仅可以使用函数，也可使用算术运算符、字符串运算符以及逻辑运算符来构成表达式。\n",
    "            【例】计算图书打八折后的价格\n",
    "            select *,(price * 0.8) as '80%' from books;\n",
    "\n",
    "        别名\n",
    "            为表指定别名的基本语法格式为：\n",
    "            <表名> [AS] <别名>\n",
    "\n",
    "            其中各子句的含义如下：\n",
    "            <表名>：数据库中存储的数据表的名称。\n",
    "            <别名>：查询时指定的表的新名称。\n",
    "            AS关键字可以省略，省略后需要将表名和别名用空格隔开。\n",
    "            SELECT stu.name,stu.height FROM tb_students_info AS stu;\n",
    "\n",
    "            为字段指定别名\n",
    "                在使用 SELECT 语句查询数据时，MySQL 会显示每个 SELECT 后面指定输出的字段。有时为了显示结果更加直观，我们可以为字段指定一个别名。\n",
    "                为字段指定别名的基本语法格式为： <字段名> [AS] <别名>\n",
    "                    其中，各子句的语法含义如下：\n",
    "                    <字段名>：为数据表中字段定义的名称。\n",
    "                    <字段别名>：字段新的名称。\n",
    "                    AS关键字可以省略，省略后需要将字段名和别名用空格隔开。\n",
    "            SELECT name AS student_name, age AS student_age FROM tb_students_info;\n",
    "\n",
    "        LIMIT和OFFSET组合使用\n",
    "            LIMIT 可以和 OFFSET 组合使用，语法格式如下：LIMIT 记录数 OFFSET 初始位置\n",
    "                参数和 LIMIT 语法中参数含义相同，“初始位置”指定从哪条记录开始显示；“记录数”表示显示记录的条数。\n",
    "            在 tb_students_info 表中，使用 LIMIT OFFSET 返回从第 4 条记录开始的行数为 5 的记录，SQL 语句和运行结果如下。\n",
    "                mysql> SELECT * FROM tb_students_info LIMIT 5 OFFSET 3;\n",
    "\n",
    "        INNER JOIN：内连接\n",
    "            内连接（INNER JOIN）主要通过设置连接条件的方式，来移除查询结果中某些数据行的交叉连接。简单来说，就是利用条件表达式来消除交叉连接的某些数据行。\n",
    "                内连接使用 INNER JOIN 关键字连接两张表，并使用 ON 子句来设置连接条件。如果没有连接条件，INNER JOIN 和 CROSS JOIN 在语法上是等同的，两者可以互换。\n",
    "                内连接的语法格式如下：SELECT <字段名> FROM <表1> INNER JOIN <表2> [ON子句]\n",
    "                语法说明如下。\n",
    "                    字段名：需要查询的字段名称。\n",
    "                    <表1><表2>：需要内连接的表名。\n",
    "                    INNER JOIN ：内连接中可以省略 INNER 关键字，只用关键字 JOIN。\n",
    "                    ON 子句：用来设置内连接的连接条件。\n",
    "                    INNER JOIN 也可以使用 WHERE 子句指定连接条件，但是 INNER JOIN ... ON 语法是官方的标准写法，而且 WHERE 子句在某些时候会影响查询的性能。\n",
    "                多个表内连接时，在 FROM 后连续使用 INNER JOIN 或 JOIN 即可。\n",
    "                内连接可以查询两个或两个以上的表。为了让大家更好的理解，暂时只讲解两个表的连接查询。\n",
    "                在 tb_students_info 表和 tb_course 表之间，使用内连接查询学生姓名和相对应的课程名称，SQL 语句和运行结果如下。\n",
    "                    mysql> SELECT s.name,c.course_name FROM tb_students_info s INNER JOIN tb_course c ON s.course_id = c.id;\n",
    "            注意：当对多个表进行查询时，要在 SELECT 语句后面指定字段是来源于哪一张表。因此，在多表查询时，SELECT 语句后面的写法是表名.列名。另外，如果表名非常长的话，也可以给表设置别名，这样就可以直接在 SELECT 语句后面写上表的别名.列名\n",
    "\n",
    "        LEFT/RIGHT JOIN：外连接\n",
    "            在《MySQL内连接》一节我们了解了 MySQL 的内连接。内连接的查询结果都是符合连接条件的记录，而外连接会先将连接的表分为基表和参考表，再以基表为依据返回满足和不满足条件的记录。\n",
    "\n",
    "            外连接可以分为左外连接和右外连接，下面根据实例分别介绍左外连接和右外连接。\n",
    "                左连接\n",
    "                    左外连接又称为左连接，使用 LEFT OUTER JOIN 关键字连接两个表，并使用 ON 子句来设置连接条件。\n",
    "                    左连接的语法格式如下：SELECT <字段名> FROM <表1> LEFT OUTER JOIN <表2> <ON子句>\n",
    "                        语法说明如下。\n",
    "                        字段名：需要查询的字段名称。\n",
    "                        <表1><表2>：需要左连接的表名。\n",
    "                        LEFT OUTER JOIN：左连接中可以省略 OUTER 关键字，只使用关键字 LEFT JOIN。\n",
    "                        ON 子句：用来设置左连接的连接条件，不能省略。\n",
    "                    上述语法中，“表1”为基表，“表2”为参考表。左连接查询时，可以查询出“表1”中的所有记录和“表2”中匹配连接条件的记录。如果“表1”的某行在“表2”中没有匹配行，那么在返回结果中，“表2”的字段值均为空值（NULL）。\n",
    "                    在进行左连接查询之前，我们先查看 tb_course 和 tb_students_info 两张表中的数据。SQL 语句和运行结果如下。\n",
    "                        mysql> SELECT * FROM tb_course;\n",
    "                        mysql> SELECT * FROM tb_students_info;\n",
    "                    在 tb_students_info 表和 tb_course 表中查询所有学生姓名和相对应的课程名称，包括没有课程的学生，SQL 语句和运行结果如下。\n",
    "                        mysql> SELECT s.name,c.course_name FROM tb_students_info s LEFT OUTER JOIN tb_course c ON s.`course_id`=c.`id`;\n",
    "                    可以看到，运行结果显示了 12 条记录，name 为 LiMing 的学生目前没有课程，因为对应的 tb_course 表中没有该学生的课程信息，所以该条记录只取出了 tb_students_info 表中相应的值，而从 tb_course 表中取出的值为 NULL。\n",
    "                右连接\n",
    "                    右外连接又称为右连接，右连接是左连接的反向连接。使用 RIGHT OUTER JOIN 关键字连接两个表，并使用 ON 子句来设置连接条件。\n",
    "                    右连接的语法格式如下：SELECT <字段名> FROM <表1> RIGHT OUTER JOIN <表2> <ON子句>\n",
    "                        语法说明如下。\n",
    "                        字段名：需要查询的字段名称。\n",
    "                        <表1><表2>：需要右连接的表名。\n",
    "                        RIGHT OUTER JOIN：右连接中可以省略 OUTER 关键字，只使用关键字 RIGHT JOIN。\n",
    "                        ON 子句：用来设置右连接的连接条件，不能省略。\n",
    "                    与左连接相反，右连接以“表2”为基表，“表1”为参考表。右连接查询时，可以查询出“表2”中的所有记录和“表1”中匹配连接条件的记录。如果“表2”的某行在“表1”中没有匹配行，那么在返回结果中，“表1”的字段值均为空值（NULL）。\n",
    "                    在 tb_students_info 表和 tb_course 表中查询所有课程，包括没有学生的课程，SQL 语句和运行结果如下。\n",
    "                        mysql> SELECT s.name,c.course_name FROM tb_students_info s RIGHT OUTER JOIN tb_course c ON s.`course_id`=c.`id`;\n",
    "                    可以看到，结果显示了 11 条记录，名称为 HTML 的课程目前没有学生，因为对应的 tb_students_info 表中并没有该学生的信息，所以该条记录只取出了 tb_course 表中相应的值，而从 tb_students_info 表中取出的值为 NULL。\n",
    "                    多个表左/右连接时，在 ON 子句后连续使用 LEFT/RIGHT OUTER JOIN 或 LEFT/RIGHT JOIN 即可。                使用外连接查询时，一定要分清需要查询的结果，是需要显示左表的全部记录还是右表的全部记录，然后选择相应的左连接和右连接。\n",
    "\n",
    "        自关联\n",
    "            自关联(外键)就是一个表中的一列关联到了这个表中的另一列，例如记录省，市，区的所属关系，如果用三张表则会占用太多空间，所以我们可以将设置三个字段，id，name, pid，name保存名字，pid保存上级的id，由于省没有上级，所以可设为null，这样一张表就可以完成三张表的需求:\n",
    "            create table areas(\n",
    "            id int primary key,\n",
    "            name varchar(20),\n",
    "            pid int,\n",
    "            foreign key(pid) references areas(id)\n",
    "            );\n",
    "\n",
    "            查询查询省的名称为“山西省”的所有城市\n",
    "            select city.* from areas as city\n",
    "            inner join areas as province on city.pid=province.id\n",
    "            where province.name='山西省';\n",
    "\n",
    "            1. 将areas命为city并选择其所有值 2. 再将areas命为province选择出name是山西省的id\n",
    "            3. 再将id与city的pid比较，相等则是山西省下面的城市，子集\n",
    "\n",
    "        子查询\n",
    "            子查询是 MySQL 中比较常用的查询方法，通过子查询可以实现多表查询。子查询指将一个查询语句嵌套在另一个查询语句中。子查询可以在 SELECT、UPDATE 和 DELETE 语句中使用，而且可以进行多层嵌套。在实际开发时，子查询经常出现在 WHERE 子句中。\n",
    "                子查询在 WHERE 中的语法格式如下：WHERE <表达式> <操作符> (子查询)\n",
    "                    其中，操作符可以是比较运算符和 IN、NOT IN、EXISTS、NOT EXISTS 等关键字。\n",
    "                1）IN | NOT IN\n",
    "                    当表达式与子查询返回的结果集中的某个值相等时，返回 TRUE，否则返回 FALSE；若使用关键字 NOT，则返回值正好相反。\n",
    "                2）EXISTS | NOT EXISTS\n",
    "                    用于判断子查询的结果集是否为空，若子查询的结果集不为空，返回 TRUE，否则返回 FALSE；若使用关键字 NOT，则返回的值正好相反。\n",
    "                使用子查询在 tb_students_info 表和 tb_course 表中查询学习 Java 课程的学生姓名，SQL 语句和运行结果如下。\n",
    "                    mysql> SELECT name FROM tb_students_info WHERE course_id IN (SELECT id FROM tb_course WHERE course_name = 'Java');\n",
    "                外层的 SELECT 查询称为父查询，圆括号中嵌入的查询称为子查询（子查询必须放在圆括号内）。MySQL 在处理上例的 SELECT 语句时，执行流程为：先执行子查询，再执行父查询。\n",
    "                在 SELECT 语句中使用 NOT IN 关键字，查询没有学习 Java 课程的学生姓名，SQL 语句和运行结果如下。\n",
    "                    mysql> SELECT name FROM tb_students_info WHERE course_id NOT IN (SELECT id FROM tb_course WHERE course_name = 'Java');\n",
    "                使用=运算符，在 tb_course 表和 tb_students_info 表中查询出所有学习 Python 课程的学生姓名，SQL 语句和运行结果如下。\n",
    "                    mysql> SELECT name FROM tb_students_info WHERE course_id = (SELECT id FROM tb_course WHERE course_name = 'Python');\n",
    "                使用<>运算符，在 tb_course 表和 tb_students_info 表中查询出没有学习 Python 课程的学生姓名，SQL 语句和运行结果如下。\n",
    "                    mysql> SELECT name FROM tb_students_info WHERE course_id <> (SELECT id FROM tb_course WHERE course_name = 'Python');\n",
    "                查询 tb_course 表中是否存在 id=1 的课程，如果存在，就查询出 tb_students_info 表中的记录，SQL 语句和运行结果如下。\n",
    "                    mysql> SELECT * FROM tb_students_info WHERE EXISTS(SELECT course_name FROM tb_course WHERE id=1);\n",
    "                查询 tb_course 表中是否存在 id=1 的课程，如果存在，就查询出 tb_students_info 表中 age 字段大于 24 的记录，SQL 语句和运行结果如下。\n",
    "                    mysql> SELECT * FROM tb_students_info WHERE age>24 AND EXISTS(SELECT course_name FROM tb_course WHERE id=1);\n",
    "                子查询注意事项\n",
    "                    在完成较复杂的数据查询时，经常会使用到子查询，编写子查询语句时，要注意如下事项。\n",
    "                        1) 子查询语句可以嵌套在 SQL 语句中任何表达式出现的位置\n",
    "                            在 SELECT 语句中，子查询可以被嵌套在 SELECT 语句的列、表和查询条件中，即 SELECT 子句，FROM 子句、WHERE 子句、GROUP BY 子句和 HAVING 子句。\n",
    "                            前面已经介绍了 WHERE 子句中嵌套子查询的使用方法，下面是子查询在 SELECT 子句和 FROM 子句中的使用语法。\n",
    "                            嵌套在 SELECT 语句的 SELECT 子句中的子查询语法格式如下。\n",
    "                            SELECT (子查询) FROM 表名;\n",
    "                            提示：子查询结果为单行单列，但不必指定列别名。\n",
    "                            嵌套在 SELECT 语句的 FROM 子句中的子查询语法格式如下。\n",
    "                            SELECT * FROM (子查询) AS 表的别名;\n",
    "                            注意：必须为表指定别名。一般返回多行多列数据记录，可以当作一张临时表。\n",
    "                        2) 只出现在子查询中而没有出现在父查询中的表不能包含在输出列中\n",
    "                            多层嵌套子查询的最终数据集只包含父查询（即最外层的查询）的 SELECT 子句中出现的字段，而子查询的输出结果通常会作为其外层子查询数据源或用于数据判断匹配。\n",
    "                            常见错误如下：\n",
    "                            SELECT * FROM (SELECT * FROM result);\n",
    "                            这个子查询语句产生语法错误的原因在于主查询语句的 FROM 子句是一个子查询语句，因此应该为子查询结果集指定别名。正确代码如下。\n",
    "                            SELECT * FROM (SELECT * FROM result) AS Temp;\n",
    "\n",
    "            select sname,\n",
    "            (select sco.score from scores sco inner join subjects sub on sco.subid=sub.id where sub.stitle='语文' and stuid=stu.id) as 语文,\n",
    "            (select sco.score from  scores sco inner join subjects sub on sco.subid=sub.id where sub.stitle='数学' and stuid=stu.id) as 数学,\n",
    "            (select sco.score from  scores sco inner join subjects sub on sco.subid=sub.id where sub.stitle='英语' and stuid=stu.id) as 英语\n",
    "            from students stu;\n",
    "\n",
    "        正则表达式\n",
    "            正则表达式主要用来查询和替换符合某个模式（规则）的文本内容。例如，从一个文件中提取电话号码，查找一篇文章中重复的单词、替换文章中的敏感语汇等，这些地方都可以使用正则表达式。正则表达式强大且灵活，常用于非常复杂的查询。\n",
    "            MySQL 中，使用 REGEXP 关键字指定正则表达式的字符匹配模式，其基本语法格式如下：属性名 REGEXP '匹配方式'\n",
    "            查询以特定字符或字符串开头的记录\n",
    "                字符^用来匹配以特定字符或字符串开头的记录。\n",
    "                    在 tb_students_info 表中，查询 name 字段以“J”开头的记录，SQL 语句和执行过程如下。\n",
    "                        mysql> SELECT * FROM tb_students_info WHERE name REGEXP '^J';\n",
    "                查询以特定字符或字符串结尾的记录\n",
    "                    字符$用来匹配以特定字符或字符串结尾的记录。\n",
    "                    在 tb_students_info 表中，查询 name 字段以“y”结尾的记录，SQL 语句和执行过程如下。\n",
    "                        mysql> SELECT * FROM tb_students_info WHERE name REGEXP 'y$';\n",
    "                替代字符串中的任意一个字符\n",
    "                    字符.用来替代字符串中的任意一个字符。\n",
    "                    在 tb_students_info 表中，查询 name 字段值包含“a”和“y”，且两个字母之间只有一个字母的记录，SQL 语句和执行过程如下。\n",
    "                        mysql> SELECT * FROM tb_students_info WHERE name REGEXP 'a.y';\n",
    "                匹配多个字符\n",
    "                    字符*和+都可以匹配多个该符号之前的字符。不同的是，+表示至少一个字符，而*可以表示 0 个字符。\n",
    "                    在 tb_students_info 表中，查询 name 字段值包含字母“T”，且“T”后面出现字母“h”的记录，SQL 语句和执行过程如下。\n",
    "                        mysql> SELECT * FROM tb_students_info WHERE name REGEXP '^Th*';\n",
    "                    在 tb_students_info 表中，查询 name 字段值包含字母“T”，且“T”后面至少出现“h”一次的记录，SQL 语句和执行过程如下。\n",
    "                        mysql> SELECT * FROM tb_students_info WHERE name REGEXP '^Th+';\n",
    "                匹配指定字符串\n",
    "                    正则表达式可以匹配字符串。当表中的记录包含这个字符串时，就可以将该记录查询出来。指定多个字符串时，需要用|隔开。只要匹配这些字符串中的任意一个即可。\n",
    "                    在 tb_students_info 表中，查询 name 字段值包含字符串“an”的记录，SQL 语句和执行过程如下。\n",
    "                        mysql> SELECT * FROM tb_students_info  WHERE name REGEXP 'an';\n",
    "                    在 tb_students_info 表中，查询 name 字段值包含字符串“an”或“en”的记录，SQL 语句和执行过程如下。\n",
    "                        mysql> SELECT * FROM tb_students_info WHERE name REGEXP 'an|en';\n",
    "                匹配指定字符串中的任意一个\n",
    "                    使用方括号[ ]可以将需要查询的字符组成一个字符集合。只要记录中包含方括号中的任意字符，该记录就会被查询出来。例如，通过“[abc]”可以查询包含 a、b 和 c 等 3 个字母中任意一个的记录。\n",
    "                    在 tb_students_info 表中，查询 name 字段值包含字母“i”或“o”的记录，SQL 语句和执行过程如下。\n",
    "                        mysql> SELECT * FROM tb_students_info WHERE name REGEXP '[io]';\n",
    "                匹配指定字符以外的字符\n",
    "                    [^字符集合]用来匹配不在指定集合中的任何字符。\n",
    "                    在 tb_students_info 表中，查询 name 字段值包含字母 a~t 以外的字符的记录，SQL 语句和执行过程如下。\n",
    "                        mysql> SELECT * FROM tb_students_info WHERE name REGEXP '[^a-t]' ;\n",
    "                使用{n,}或者{n,m}来指定字符串连续出现的次数\n",
    "                    字符串{n,}表示字符串连续出现 n 次；字符串{n,m}表示字符串连续出现至少 n 次，最多 m 次。\n",
    "                    例如，a{2,} 表示字母 a 连续出现至少 2 次，也可以大于 2 次；a{2,4} 表示字母 a 连续出现最少 2 次，最多不能超过 4 次。\n",
    "                    在 tb_students_info 表中，查询 name 字段值出现字母‘e’ 至少 2 次的记录，SQL 语句如下：\n",
    "                        mysql> SELECT * FROM tb_students_info WHERE name REGEXP 'e{2,}';\n",
    "        :return:\n",
    "        \"\"\"\n",
    "        # SQL query execution\n",
    "        # sql = \"SELECT * FROM data\"\n",
    "        sql = r\"SELECT * FROM reptile.data\"\n",
    "\n",
    "        # 查询customers表中id介于6到8之间的数据并返回name、address字段\n",
    "        query = \"SELECT name, address FROM customers WHERE id BETWEEN %s AND %s\"\n",
    "        cursor.execute(query, (6, 8))\n",
    "        # 循环取出结果集中的每条数据并打印\n",
    "        for (name, address) in cursor: print(\"%s家的地址是%s\" % (name, address))\n",
    "\n",
    "        cursor.execute(\"SELECT name, address FROM customers\")\n",
    "\n",
    "        sql = \"SELECT * FROM customers WHERE address ='Park Lane 38'\"  # 选择地址为“Park Lane 38”的记录\n",
    "\n",
    "        # 通配符 您还可以选择以给定字母或短语开头、包含或结尾的记录。使用 % 来表示通配符：\n",
    "        sql = \"SELECT * FROM customers WHERE address LIKE '%way%'\"\n",
    "\n",
    "        # 防止SQL注入当用户提供查询值时，您应该对这些值进行转义。这是为了防止SQL注入，这是一种常见的网络黑客技术，用于破坏或滥用您的数据库。\n",
    "        # mysql.connector模块具有转义查询值的方法：\n",
    "        sql = \"SELECT * FROM customers WHERE address = %s\"\n",
    "        adr = (\"Yellow Garden 2\",)\n",
    "\n",
    "        # 排序结果\n",
    "        # 使用 ORDER BY 语句按升序或降序对结果进行排序。\n",
    "        # ORDER BY 关键字默认对结果进行升序排序。要按降序对结果进行排序，请使用 DESC 关键字。\n",
    "        sql = \"SELECT * FROM customers ORDER BY name\"\n",
    "\n",
    "        # 按 DESC 排序\n",
    "        # 使用 DESC 关键字按降序对结果进行排序。\n",
    "        sql = \"SELECT * FROM customers ORDER BY name DESC\"\n",
    "\n",
    "        # 限制结果\n",
    "        # 您可以使用“LIMIT”语句来限制从查询返回的记录数：\n",
    "        cursor.execute(\"SELECT * FROM customers LIMIT 5\")  # 选择“customers”表中的前 5 条记录：\n",
    "        # 从另一个位置开始\n",
    "        # 如果要返回五条记录，从第三条记录开始，可以使用“OFFSET”关键字：\n",
    "        cursor.execute(\"SELECT * FROM customers LIMIT 5 OFFSET 2\")  # 从位置 3 开始，返回 5 条记录：\n",
    "\n",
    "        cursor.execute(sql, adr)\n",
    "        cursor.execute(sql)\n",
    "        cursor.execute(query, (6, 8))\n",
    "\n",
    "        # Get the data\n",
    "        # row = cursor.fetchone()  # 第一条数据\n",
    "        # result = cursor.fetchall()  # 全部数据\n",
    "        # print(row)\n",
    "        for x in cursor.fetchall(): print(x)\n",
    "        result = cursor.fetchall()\n",
    "        print(\"成功插入 %d 数据\" % cursor.rowcount)\n",
    "        print(result)\n",
    "\n",
    "\n",
    "if __name__ == '__main__':\n",
    "    try:\n",
    "        MysqlData().insert_mysql('my_table2')\n",
    "\n",
    "        close_mysql()\n",
    "        print('ok!')\n",
    "    except Exception as e:\n",
    "        print(e)\n",
    "        close_mysql()\n"
   ]
  }
 ],
 "metadata": {
  "colab": {
   "collapsed_sections": [
    "0TgZXnNceEja",
    "j9Y4F3oMeHrp",
    "ezWImz7feSYR",
    "jLiPCfpzeYvp",
    "mCdom_rhedXD",
    "SmDb9KMheh02",
    "a6UcnHRBepVW",
    "swoLmE0zgJEX",
    "VnIkDwyb7Pcq",
    "TdFKDheY7aso",
    "RotSJjhe7h8O",
    "XFvBTlDa7nuw",
    "jtffbygl8djr",
    "WE06rbef8jRH",
    "3mBd5rLD9ray",
    "JhnGqJQyND01",
    "5scxGIYctIcY",
    "zeOJ775gKEzt"
   ],
   "provenance": [],
   "toc_visible": true
  },
  "kernelspec": {
   "display_name": "Python 3 (ipykernel)",
   "language": "python",
   "name": "python3"
  },
  "language_info": {
   "codemirror_mode": {
    "name": "ipython",
    "version": 3
   },
   "file_extension": ".py",
   "mimetype": "text/x-python",
   "name": "python",
   "nbconvert_exporter": "python",
   "pygments_lexer": "ipython3",
   "version": "3.10.4"
  },
  "latex_envs": {
   "LaTeX_envs_menu_present": true,
   "autoclose": false,
   "autocomplete": true,
   "bibliofile": "biblio.bib",
   "cite_by": "apalike",
   "current_citInitial": 1,
   "eqLabelWithNumbers": true,
   "eqNumInitial": 1,
   "hotkeys": {
    "equation": "Ctrl-E",
    "itemize": "Ctrl-I"
   },
   "labels_anchors": false,
   "latex_user_defs": false,
   "report_style_numbering": false,
   "user_envs_cfg": false
  },
  "toc": {
   "base_numbering": 1,
   "nav_menu": {
    "height": "439px",
    "width": "300px"
   },
   "number_sections": true,
   "sideBar": true,
   "skip_h1_title": false,
   "title_cell": "Table of Contents",
   "title_sidebar": "Contents",
   "toc_cell": false,
   "toc_position": {
    "height": "calc(100% - 180px)",
    "left": "10px",
    "top": "150px",
    "width": "302.390625px"
   },
   "toc_section_display": true,
   "toc_window_display": true
  }
 },
 "nbformat": 4,
 "nbformat_minor": 1
}
