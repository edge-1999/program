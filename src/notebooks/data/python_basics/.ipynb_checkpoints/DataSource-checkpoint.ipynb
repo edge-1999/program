{
 "cells": [
  {
   "cell_type": "markdown",
   "metadata": {},
   "source": [
    "安装所需包\n",
    "!pip install pandarallel"
   ]
  },
  {
   "cell_type": "markdown",
   "metadata": {
    "id": "IR_9HEA_eOvG"
   },
   "source": [
    "需要导入的包"
   ]
  },
  {
   "cell_type": "code",
   "execution_count": null,
   "metadata": {
    "ExecuteTime": {
     "end_time": "2022-11-02T15:17:19.968848Z",
     "start_time": "2022-11-02T15:17:19.891960Z"
    }
   },
   "outputs": [],
   "source": [
    "from translate import Translator\n",
    "import time\n",
    "import datetime\n",
    "import calendar\n",
    "import operator\n",
    "\n",
    "from decimal import Decimal"
   ]
  },
  {
   "cell_type": "markdown",
   "metadata": {},
   "source": [
    "# 对象协议"
   ]
  },
  {
   "cell_type": "markdown",
   "metadata": {},
   "source": [
    "## 类型转换协议\n",
    "\n",
    "除了 __str__() 外，还有其他的方法，\n",
    "比如\n",
    "\n",
    "__repr__()、\n",
    "__init__()、\n",
    "__long__()、\n",
    "__float__()、\n",
    "__nonzero__() 等，统称类型转换协议。\n",
    "\n",
    "## 比较大小的协议\n",
    "\n",
    "这个协议依赖于 __cmp__()，与 C 语言库函数 cmp 类似，\n",
    "当两者相等时，返回 0，当 self < other 时返回负值，反之返回正值。\n",
    "\n",
    "因为这种复杂性，所以 Python 又有\n",
    "\n",
    "__eq__() 等于、\n",
    "__ne__() 不等于、\n",
    "__lt__() 小于、\n",
    "__gt__() 大于\n",
    "等方法来实现比较大小的判定。\n",
    "这也就是 Python 对 ==、!=、< 和 > 等操作符的进行重载的支撑机制。\n",
    "\n",
    "## 数值类型相关的协议\n",
    "\n",
    "\n",
    "这一类的函数比较多。基本上，只要实现了那么几个方法，基本上就能够模拟数值类型了。\n",
    "不过还需要提到一个 Python 中特有的概念：反运算（？？）。\n",
    "类似 __radd__() 的方法，所有的数值运算符和位运算符都是支持的，规则也是一律在前面加上前缀 r 即可。\n",
    "\n",
    "## 容器类型协议\n",
    "\n",
    "下面方法需要配合 类中的某个可用索引访问的容器属性 使用\n",
    "\n",
    "容器的协议是非常浅显的，既然为容器，那么必然要有协议查询内含多少对象，\n",
    "在 Python 中，要支持内置函数 len()，通过 __len__() 来完成。\n",
    "\n",
    "__getitem__() 读、查看使用示例\n",
    "\n",
    "__setitem__() 写、（使用示例与上面类似）\n",
    "\n",
    "__delitem__() 删除\n",
    "也很好理解。\n",
    "\n",
    "\n",
    "__iter__() 实现了迭代器协议，\n",
    "\n",
    "__reversed__() 则提供对内置函数 reversed() 的支持。\n",
    "\n",
    "容器类型中最有特色的是对成员关系的判断符 in 和 not in 的支持，这个方法叫\n",
    "\n",
    "__contains__()，只要支持这个函数就能够使用 in 和 not in 运算符了。\n",
    "\n",
    "## 可调用对象协议\n",
    "\n",
    "所谓可调用对象，即类似函数对象，\n",
    "\n",
    "__call__() ：让类实例表现得像函数一样，这样就可以让每一个函数调用都有所不同。"
   ]
  },
  {
   "cell_type": "code",
   "execution_count": null,
   "metadata": {},
   "outputs": [],
   "source": [
    "class Functor(object):\n",
    "\n",
    "    def __init__(self, context):\n",
    "        self._context = context\n",
    "\n",
    "    def __call__(self):\n",
    "        print(\"do something with {}\".format(self._context))\n",
    "\n",
    "lai_functor = Functor(\"lai\")\n",
    "yong_functor = Functor(\"yong\")\n",
    "lai_functor()   # 调用对象，执行 __call__() 协议内定义动作\n",
    "yong_functor()"
   ]
  },
  {
   "cell_type": "markdown",
   "metadata": {},
   "source": [
    "## 可哈希对象协议\n",
    "__hash__() ：对象需要生成 hashCode 时调用协议内的定义\n",
    "通过此方法来支持 hash() 这个内置函数的，这在创建自己的类型时非常有用，\n",
    "因为只有支持可哈希协议的类型才能作为 dict 的键类型（不过只要继承自 object 的新式类就默认支持了）\n",
    "\n",
    "## 属性操作协议和描述符协议\n",
    "当操作类的属性时调用下列方法\n",
    "\n",
    "__getattr__()：\n",
    "如果属性查找在实例以及对应的类中（通过__dict__)失败， 那么会调用到类的__getattr__函数。查看使用示例\n",
    "\n",
    "\n",
    "__setattr__()\n",
    "对已存在的属性进行赋值。查看使用示例\n",
    "\n",
    "\n",
    "__delattr__()\n",
    "删除属性方法应该很少用到，这里不多做了解\n",
    "\n",
    "## 还有上下文管理器协议，也就是对 with 语句的支持**\n",
    "这个协议通过\n",
    "\n",
    "__enter__()\n",
    "__exit__() 两个方法来实现对资源的清理，确保资源无论在什么情况下都会正常清理。\n",
    "协议不像 C++、Java 等语言中的接口，它更像是声明，没有语言上的约束力。"
   ]
  },
  {
   "cell_type": "markdown",
   "metadata": {},
   "source": [
    "# 校验"
   ]
  },
  {
   "cell_type": "markdown",
   "metadata": {},
   "source": [
    "##  比较函数"
   ]
  },
  {
   "cell_type": "code",
   "execution_count": null,
   "metadata": {
    "ExecuteTime": {
     "end_time": "2022-11-02T15:17:21.865256Z",
     "start_time": "2022-11-02T15:17:21.847303Z"
    }
   },
   "outputs": [],
   "source": [
    "operator.lt('a', 'b')  # a < b  # 字符串比较\n",
    "operator.le('a', 'b')  # a <= b\n",
    "operator.eq('a', 'b')  # a == b\n",
    "operator.ne('a', 'b')  # a != b\n",
    "operator.gt('a', 'b')  # a > b\n",
    "operator.ge('a', 'b')  # a >= b"
   ]
  },
  {
   "cell_type": "markdown",
   "metadata": {},
   "source": [
    "## 判断类型函数"
   ]
  },
  {
   "cell_type": "code",
   "execution_count": null,
   "metadata": {
    "ExecuteTime": {
     "end_time": "2022-11-02T15:17:59.592126Z",
     "start_time": "2022-11-02T15:17:59.583900Z"
    }
   },
   "outputs": [],
   "source": [
    "isinstance({\"isinstance\": \"isinstance\"}, dict)  # 判断是否是字典\n",
    "isinstance({\"isinstance\": \"isinstance\"}, str)  # 判断是否是字符串\n",
    "isinstance({\"isinstance\": \"isinstance\"}, list)  # 判断是否是列表"
   ]
  },
  {
   "cell_type": "markdown",
   "metadata": {},
   "source": [
    "# 度量"
   ]
  },
  {
   "cell_type": "markdown",
   "metadata": {},
   "source": [
    "数据计算，转换计算数据，并可以指定数据几位数输出，非常适合我这种轻微强迫症。"
   ]
  },
  {
   "cell_type": "code",
   "execution_count": null,
   "metadata": {
    "ExecuteTime": {
     "end_time": "2022-11-02T14:42:11.303428Z",
     "start_time": "2022-11-02T14:42:11.279763Z"
    }
   },
   "outputs": [],
   "source": [
    "Decimal('0.023432')"
   ]
  },
  {
   "cell_type": "code",
   "execution_count": null,
   "metadata": {
    "ExecuteTime": {
     "end_time": "2022-11-02T14:43:08.442571Z",
     "start_time": "2022-11-02T14:43:08.428769Z"
    }
   },
   "outputs": [],
   "source": [
    "Decimal('0.023432').quantize(Decimal('0.00')) "
   ]
  },
  {
   "cell_type": "code",
   "execution_count": null,
   "metadata": {},
   "outputs": [],
   "source": [
    "abs(-6)  # 绝对值或复数的模"
   ]
  },
  {
   "cell_type": "code",
   "execution_count": null,
   "metadata": {
    "ExecuteTime": {
     "end_time": "2022-11-07T12:51:22.200434Z",
     "start_time": "2022-11-07T12:51:22.176253Z"
    }
   },
   "outputs": [],
   "source": [
    "divmod(1, 3)  # Return the tuple (x//y, x%y)"
   ]
  },
  {
   "cell_type": "markdown",
   "metadata": {
    "id": "0TgZXnNceEja"
   },
   "source": [
    "# 时间数据"
   ]
  },
  {
   "cell_type": "markdown",
   "metadata": {
    "id": "j9Y4F3oMeHrp"
   },
   "source": [
    "## 时间戳"
   ]
  },
  {
   "cell_type": "markdown",
   "metadata": {},
   "source": [
    "提取特定日期格式字符串并转换为时间元祖格式"
   ]
  },
  {
   "cell_type": "code",
   "execution_count": null,
   "metadata": {},
   "outputs": [],
   "source": [
    "datetime.datetime.strptime(str(i['ELE_T_G0TCRQ']), \"%Y-%m-%d\").timetuple()"
   ]
  },
  {
   "cell_type": "code",
   "execution_count": null,
   "metadata": {
    "ExecuteTime": {
     "end_time": "2022-11-02T01:30:04.452253Z",
     "start_time": "2022-11-02T01:30:04.441176Z"
    },
    "colab": {
     "base_uri": "https://localhost:8080/"
    },
    "id": "vuRsPAIPeNDY",
    "outputId": "bdcfcd36-2bbb-4090-a4c6-4fc127d1cf5c"
   },
   "outputs": [],
   "source": [
    "time.time()  # 当前时间的时间戳 float\n",
    "time.mktime(time.localtime())  # 时间元祖 转换为 时间戳"
   ]
  },
  {
   "cell_type": "markdown",
   "metadata": {
    "id": "ezWImz7feSYR"
   },
   "source": [
    "## 时间字符串"
   ]
  },
  {
   "cell_type": "code",
   "execution_count": null,
   "metadata": {
    "colab": {
     "base_uri": "https://localhost:8080/",
     "height": 37
    },
    "id": "SIUR-luneWXW",
    "outputId": "63f6a9b4-5fe7-4602-9951-7a5ed876467d"
   },
   "outputs": [],
   "source": [
    "time.ctime()  # time.time() 1647700146.2020931 转为 Sat Mar 19 22:29:14 2022。如果不输入需要转换的时间内容则返回当前时间\n",
    "time.asctime()  # 'Sat Mar 19 23:45:00 2022'\n",
    "time.asctime()  # 时间元祖 转换为 时间字符串 'Sat Mar 19 23:45:00 2022'\n",
    "time.strftime(\"%Y-%m-%d %H:%M:%S\", time.localtime())  # 时间元祖 转换为 字符串时间：'2022-03-19 22:42:45'\n",
    "time.strftime(\"%Y-%m-%d %H:%M:%S\")  # 输入时间格式返回'2022-03-19 22:32:18'\n",
    "time.asctime()  # 时间元祖 转换为 字符串时间：'Sat Mar 19 22:26:19 2022'\n",
    "datetime.datetime.now().strftime(\"%Y-%m-%d %H:%M:%S\")"
   ]
  },
  {
   "cell_type": "markdown",
   "metadata": {
    "id": "jLiPCfpzeYvp"
   },
   "source": [
    "## 时间元祖"
   ]
  },
  {
   "cell_type": "code",
   "execution_count": null,
   "metadata": {
    "colab": {
     "base_uri": "https://localhost:8080/"
    },
    "id": "HLh83rO9eaPS",
    "outputId": "caa9bdac-a0d2-41b4-9236-b244bf44f560"
   },
   "outputs": [],
   "source": [
    "time.localtime()  # 空值返回当前时间元祖：(2022, 3, 19, 22, 39, 55, 5, 78, 0)\n",
    "time.localtime(time.time())  # 输入时间戳返回时间元祖：(2022, 3, 19, 22, 39, 55, 5, 78, 0)\n",
    "time.gmtime()  # 空值返回当前时间元祖：(2022, 3, 19, 22, 39, 55, 5, 78, 0)\n",
    "time.gmtime(time.time())  # 输入时间戳返回时间元祖：1647700864.264662\n",
    "time.strptime(\"2022-05-20 00:00:00\", '%Y-%m-%d %X')  # 时间字符串 转化为 时间元祖\n",
    "time.strptime(\"2022-05-20 00:00:00\", '%Y-%m-%d %H:%M:%S')  # 时间字符串 转化为 时间元祖\n",
    "time.strptime(\"2022-05-20 23:59:59\", '%Y-%m-%d %H:%M:%S')  # 时间字符串 转化为 时间元祖\n",
    "time.strptime(\"2022-05-21 00:00:00\", '%Y-%m-%d %H:%M:%S')  # 时间字符串 转化为 时间元祖\n",
    "datetime.datetime.now()\n",
    "datetime.timedelta(days=3)  # float[weeks,days,hours,minutes,seconds,microseconds, milliseconds]\n",
    "datetime.datetime.now() - datetime.timedelta(days=3)  # 计算当前时间+-额外时间\n",
    "datetime.datetime.now().timetuple()  # 时间元祖datetime.datetime 转化为 time.struct_time\n",
    "datetime.datetime.utcfromtimestamp(time.time())\n",
    "datetime.datetime.utcfromtimestamp(time.time()) - datetime.timedelta(days=3)  # 计算当前时间+-额外时间\n",
    "datetime.date.today()  # datetime.date(2022, 3, 20)\n",
    "datetime.date.fromtimestamp(time.time())  # datetime.date(2022, 3, 20)\n",
    "datetime.date.fromtimestamp(1647700146.2020931)  # datetime.date.fromtimestamp(1647700146.2020931)\n",
    "datetime.date.fromordinal(2022)  # 未知"
   ]
  },
  {
   "cell_type": "code",
   "execution_count": null,
   "metadata": {
    "ExecuteTime": {
     "end_time": "2022-11-02T02:20:36.974657Z",
     "start_time": "2022-11-02T02:20:36.963617Z"
    }
   },
   "outputs": [],
   "source": [
    "# time.strptime(\"Tue, 01 Nov 2022 00:00:00 GMT\", '%Y-%m-%d %H:%M:%S')\n",
    "from datetime import datetime\n",
    "time.strftime(\"%Y-%m-%d\",  datetime.strptime(\"Mon, 31 May 2021 00:00:00 GMT\", \"%a, %d %b %Y %H:%M:%S %Z\").timetuple())"
   ]
  },
  {
   "cell_type": "code",
   "execution_count": null,
   "metadata": {
    "ExecuteTime": {
     "end_time": "2022-11-02T02:18:20.694880Z",
     "start_time": "2022-11-02T02:18:20.687140Z"
    }
   },
   "outputs": [],
   "source": [
    "time.ctime()\n",
    "datetime.now()\n",
    "\n",
    "time.strftime(\"%Y-%m-%d %H:%M:%S\", datetime.now().timetuple())"
   ]
  },
  {
   "cell_type": "code",
   "execution_count": null,
   "metadata": {
    "ExecuteTime": {
     "end_time": "2022-11-02T09:28:16.016054Z",
     "start_time": "2022-11-02T09:28:16.004543Z"
    }
   },
   "outputs": [],
   "source": [
    "datetime.now().strftime(\"%Y-%m-%d\")"
   ]
  },
  {
   "cell_type": "markdown",
   "metadata": {
    "id": "mCdom_rhedXD"
   },
   "source": [
    "## 查看时区"
   ]
  },
  {
   "cell_type": "markdown",
   "metadata": {},
   "source": [
    "Pendulum是一个处理日期和时间的Python库，该库在涉及时区的情况下非常有用。\n",
    "安装pendulum：`pip install pendulum -i https://mirror.baidu.com/pypi/simple/`，官方网址：https://pendulum.eustace.io/"
   ]
  },
  {
   "cell_type": "code",
   "execution_count": null,
   "metadata": {},
   "outputs": [],
   "source": [
    "import pendulum\n",
    "\n",
    "past = pendulum.now().subtract(minutes=0)\n",
    "print(past.diff_for_humans())\n",
    "print(past)"
   ]
  },
  {
   "cell_type": "code",
   "execution_count": null,
   "metadata": {
    "colab": {
     "base_uri": "https://localhost:8080/",
     "height": 37
    },
    "id": "WJZQoV-XeeXI",
    "outputId": "bd7e7233-e3fe-44b7-c03d-649fb90c2a02"
   },
   "outputs": [],
   "source": [
    "# time.timezone  # -28800=-8*3600\n",
    "# time.timezone // 3600  # 东八区\n",
    "# time.clock()  # Mac M1 用不了\n",
    "datetime.datetime.now().isoformat()  # ISO格式的时间与日期"
   ]
  },
  {
   "cell_type": "markdown",
   "metadata": {
    "id": "SmDb9KMheh02"
   },
   "source": [
    "## 时间转换"
   ]
  },
  {
   "cell_type": "code",
   "execution_count": null,
   "metadata": {
    "id": "GoLSwWb8ejZa"
   },
   "outputs": [],
   "source": [
    "# 只有 days, seconds 和 microseconds 会存储在内部。 参数单位的换算规则如下：\n",
    "# 1毫秒会转换成1000微秒。\n",
    "# 1分钟会转换成60秒。\n",
    "# 1小时会转换成3600秒。\n",
    "# 1星期会转换成7天。\n",
    "# days -999999999 至 999999999 ，含999999999\n",
    "# seconds 0 至 86399，包含86399\n",
    "# microseconds 0 至 999999，包含999999\n",
    "datetime.timedelta(microseconds=-1)\n",
    "datetime.timedelta(days=50, seconds=27, microseconds=10, milliseconds=29000, minutes=5, hours=8, weeks=2)\n",
    "days_ = datetime.timedelta(days=50, seconds=27, microseconds=10, milliseconds=29000, minutes=5, hours=8, weeks=2).days\n",
    "seconds_ = datetime.timedelta(days=50, seconds=27, microseconds=10, milliseconds=29000, minutes=5, hours=8,\n",
    "                              weeks=2).seconds"
   ]
  },
  {
   "cell_type": "markdown",
   "metadata": {
    "id": "a6UcnHRBepVW"
   },
   "source": [
    "## 日历"
   ]
  },
  {
   "cell_type": "markdown",
   "metadata": {
    "id": "VL88DM0qe5Lk"
   },
   "source": [
    "％a 星期几的简写、％A 星期几的全称、％b 月分的简写、％B 月份的全称、％¢ 标准的日期的时间串、％¢ 年份的后两位数字、％d十进制表示的每月的第几天、％D 月/天/年、%e 在两宇符域中，十进制表示的每月的第几天、%F 年-月-日、％g 年份的后两位数字，使用基于周的年、％6 年分，使用基于周的年、％h 简写的月份名、％H 24小时制的小时、％112小时制的小时、％j 十进制表示的每年的第几天、％m＋进制表示的月份、％M 十时制表示的分钟数、％n新行符、％p 本地的AM或PM的等价显示、％12小时的时间、％R 显示小时和分钟：hh:mm、％S 十进制的秒数、％t水平制表符、％丁 显示时分秒：hh:mm:ss、％u 每周的第几天，星期一为第一天（值从0到6，星期一为0）、％U第年的第几周，把星期日做为第一天（值从o到53）、％V 每年的第几周，使用基于周的年、%w ＋进制表示的星期几（值从0到6，星期天为0）、%W 每年的第几周，把星期一做为第一天（值从0到53)、％x 标准的日期串、％× 标准的时间串、％y不带世纪的十进制年份（值从0到9g）、％丫带世纪部分的十制年份、％z，%2 时区名称，如果不能得到时区名称则返回空字符。、％% 百分号"
   ]
  },
  {
   "cell_type": "code",
   "execution_count": null,
   "metadata": {
    "colab": {
     "base_uri": "https://localhost:8080/",
     "height": 1000
    },
    "id": "lQhegaFHeyBs",
    "outputId": "dd8be6f1-9b8e-4f84-dc6e-cec37a09841b"
   },
   "outputs": [],
   "source": [
    "# 年\n",
    "calendar.isleap(2021)  # 判断是否为闰年year % 4 == 0 and (year % 100 != 0 or year % 400 == 0)\n",
    "calendar.leapdays(1945, 2022)  # 返回在范围 y1 至 y2 （包含 y1 和 y2 ）之间的闰年的年数，其中 y1 和 y2 是年份\n",
    "# (y2//4 - y1//4) - (y2//100 - y1//100) + (y2//400 - y1//400)\n",
    "calendar.prcal(2022)  # 打印由 calendar() 返回的整年的日历\n",
    "calendar.TextCalendar().formatyear(\n",
    "    2022)  # 返回一个多行字符串，这个字符串为一个 m 列日历，可选参数 w、l、c 分别表示日期列数、周的行数、月之间的间隔；以上这些还依赖于构造器或者 setfirstweekday() 指定哪一天为一周的第一天\n",
    "calendar.TextCalendar().pryear(2022)  # 与 formatyear() 方法一样，返回一整年的日历\n",
    "calendar.HTMLCalendar().formatyear(2022)  # 返回一个 HTML 表格作为指定年份的日历，width 用于规定每一行显示月份的数量。\n",
    "calendar.HTMLCalendar().formatyearpage(\n",
    "    2022)  # 返回一个完整的 HTML 页面作为指定年份的日历，width 用于规定每一行显示的月份数量，css 为层叠样式表的名字，如果不使用任何层叠样式表，可以使用 None，encoding 为输出页面的编码 (默认为系统的默认编码)。\n",
    "# 打印一年的年历\n",
    "# w表示个位天数相邻两天之间的间隔宽度(字符空格数)，默认是2，在1号和2号中间有两个字符的空格，在10号和11号之间是1个空格，(当然是不换行的时候)，同时当w是2时，周一至周日的英文缩写只有两个字母。w如果小于2，都是取默认值2，w如果大于2时，相邻两天的间隔也跟着增大，周一至周日的英文缩写为3个字母，当w到9时，周一至周日的英文不缩写，(最长的单词是9个字母)。\n",
    "# l表示每一个周占用的行数，默认是1，如果是2，则第一周和第二周中间会空一行，以此类推。小于1时，取1。\n",
    "# c表示并排的两个月之间的间隔宽度，默认是6。但是c不小于w。即当c值小于w时，c等于w。\n",
    "# m表示并排展示多少个月。默认是3，显示一排3个月，会显示4排。我们可以设置大于等于1的数，最多就是一排展示完12个月。m等于0会报错，小于0不打印日历。\n",
    "calendar.calendar(theyear=3019, w=4, l=1, c=6, m=4)\n",
    "\n",
    "# 月\n",
    "calendar.monthrange(2022, 2)  # 返回指定年、月份第一天是星期几和这个月的天数。\n",
    "calendar.monthcalendar(2022, 2)  # 返回表示一个月的日历的矩阵，每一行代表一周，此月份外的日子由零表示，每周默认从周一开始，可使用 setfirstweekday() 改变默认值。示例如下：\n",
    "calendar.prmonth(2022, 3)  # 打印由 month() 返回的一个月的日历，每日宽度间隔为 w 字符，l 是每星期的行数。\n",
    "# calendar.month_name[3]  # 在当前语言环境下表示一年中月份的列表，一月的月号为 1，它的长度为 13 且 month_name[0] 是空字符串。\n",
    "# calendar.month_abbr[3]# 在当前语言环境下表示月份简写的列表\n",
    "list(calendar.Calendar().itermonthdates(2022, 3))  # 返回一个迭代器，迭代器的内容为 year 年 month 月（1-12）的日期。\n",
    "list(calendar.Calendar().itermonthdays2(2022, 3))  # 迭代器中的元素为一个由日期和代表星期几的数字组成的的元组。\n",
    "list(calendar.Calendar().itermonthdays3(2022, 3))  # 迭代器的元素为一个由年、月、日组成的元组。\n",
    "calendar.TextCalendar().formatmonth(2022,\n",
    "                                    3)  # 返回一个多行字符串来表示指定年月的日历，w 为日期的宽度，始终保持日期居中，l 指定了每星期占用的行数；以上这些还依赖于构造器或者 setfirstweekday() 方法指定的周的第一天是哪一天。\n",
    "calendar.TextCalendar().prmonth(2022, 3)  # 与 formatmonth() 方法一样，返回一个月的日历\n",
    "calendar.HTMLCalendar().formatmonth(2022, 3)  # 返回一个 HTML 表格作为指定年月的日历，withyear 为 True，则年份将会包含在表头，否则只显示月份。\n",
    "\n",
    "# 周\n",
    "calendar.firstweekday()  # 返回当前设置的每星期的第一天的数值，默认为星期一。（0 表示星期一，6 表示星期天）\n",
    "# calendar 提供了 (MONDAY, TUESDAY, WEDNESDAY, THURSDAY, FRIDAY, SATURDAY, SUNDAY) = range(7)\n",
    "calendar.setfirstweekday(calendar.SUNDAY)  # China Monday is the first day 设置每一周的开始（0 表示星期一，6 表示星期天）\n",
    "calendar.firstweekday()  # 返回当前设置的每星期的第一天的数值，默认为星期一。如果返回设置日期。calendar.leapdays(1945,2019)\n",
    "calendar.weekday(2022, 3, 20)  # 返回一周中的某一天 （ 0 ~ 6 代表周一至周日）。\n",
    "# calendar.day_name[0]  # 在当前的语言环境下表示星期几的列表 range(7) 'Monday'\n",
    "# calendar.day_abbr[0]  # 在当前语言环境下表示星期几缩写的列表 range(7)。 'Mon'\n",
    "list(calendar.Calendar().iterweekdays())  # 返回一个迭代器，迭代器的内容为一星期的数字。\n",
    "\n",
    "# 日\n",
    "calendar.calendar(3019, w=4, l=1, c=6, m=4)"
   ]
  },
  {
   "cell_type": "markdown",
   "metadata": {
    "id": "swoLmE0zgJEX"
   },
   "source": [
    "# dict"
   ]
  },
  {
   "cell_type": "code",
   "execution_count": null,
   "metadata": {
    "id": "1y5-wI1NgRQW"
   },
   "outputs": [],
   "source": [
    "# 值可以取任何数据类型，但键必须是不可变的，如字符串，数字或元组。\n",
    "tiny_dict = {'Name': 'li', 'Age': 23, 'Class': 'First'}\n",
    "x = ('key1', 'key2', 'key3')\n",
    "y = 0\n",
    "tiny_dict_1 = dict.fromkeys(x, y)\n",
    "del tiny_dict['Name']  # 删除键是'Name'的条目\n",
    "tiny_dict.copy()  # 返回一个字典的浅复制\n",
    "tiny_dict.clear()  # 清空字典所有条目\n",
    "del tiny_dict  # 删除字典\n",
    "# dict.copy()\n",
    "\n",
    "tiny_dict_1.get('key1')  # 获取值\n",
    "tiny_dict_1.items()\n",
    "tiny_dict_1.keys()\n",
    "tiny_dict_1.values()\n",
    "# setdefault() 方法也用于根据 key 来获取对应 value 的值。\n",
    "# 但该方法有一个额外的功能，即当程序要获取的 key 在字典中不存在时，\n",
    "# 该方法会先为这个不存在的 key 设置一个默认的 value，然后再返回该 key 对应的 value。\n",
    "tiny_dict_1.setdefault('key4')\n",
    "tiny_dict_1.update(tiny_dict)\n",
    "tiny_dict_1.pop('key1')  # 返回kye的值\n",
    "tiny_dict_1.popitem()  # 随机弹出字典中的一个 key-value 对。"
   ]
  },
  {
   "cell_type": "markdown",
   "metadata": {
    "id": "VnIkDwyb7Pcq"
   },
   "source": [
    "# str"
   ]
  },
  {
   "cell_type": "markdown",
   "metadata": {},
   "source": [
    "## repr"
   ]
  },
  {
   "cell_type": "markdown",
   "metadata": {},
   "source": [
    "深入理解 str()和 repr() 的区别\n",
    "（1）两者之间的目标不同：str 主要面向客户，其目的是可读性，返回形式为用户友好性和可读性都比较高的字符串形式；而 repr 是面向 Python 解释器或者说Python开发人员，其目的是准确性，其返回值表示 Python 解释器内部的定义\n",
    "（2）在解释器中直接输入变量，默认调用repr函数，而print(var)默认调用str函数\n",
    "（3）repr函数的返回值一般可以用eval函数来还原对象\n",
    "（4）两者分别调用对象的内建函数 str ()和 repr ()"
   ]
  },
  {
   "cell_type": "code",
   "execution_count": null,
   "metadata": {
    "ExecuteTime": {
     "end_time": "2022-11-07T16:11:23.970586Z",
     "start_time": "2022-11-07T16:11:23.962096Z"
    }
   },
   "outputs": [],
   "source": [
    "eval(repr({\"key\": \"value\"}))"
   ]
  },
  {
   "cell_type": "code",
   "execution_count": null,
   "metadata": {
    "id": "q0XgOby87RVU"
   },
   "outputs": [],
   "source": [
    "import re\n",
    "import string\n",
    "from difflib import SequenceMatcher, get_close_matches"
   ]
  },
  {
   "cell_type": "code",
   "execution_count": null,
   "metadata": {},
   "outputs": [],
   "source": [
    "operator.lt('a', 'b')  # a < b  # 字符串比较\n",
    "operator.le('a', 'b')  # a <= b\n",
    "operator.eq('a', 'b')  # a == b\n",
    "operator.ne('a', 'b')  # a != b\n",
    "operator.gt('a', 'b')  # a > b\n",
    "operator.ge('a', 'b')  # a >= b"
   ]
  },
  {
   "cell_type": "code",
   "execution_count": null,
   "metadata": {
    "id": "t7CuCu9Y7ZB8"
   },
   "outputs": [],
   "source": [
    "str_ = 'hello word!'\n",
    "# 大小写\n",
    "str_.capitalize()  # 或 string.capitalize(str_)  # 把字符串的第一个字符大写\n",
    "str_.lower()  # 转换 string 中所有大写字符为小写.\n",
    "str_.upper()  # 转换 string 中所有小写字符为大写.\n",
    "str_.swapcase()  # 翻转 string 中的大小写\n",
    "str_.title()  # 返回\"标题化\"的 string,就是说所有单词都是以大写开始，其余字母均为小写(见 istitle())\n",
    "# 填充字符串\n",
    "str_.center(100)  # 或 string.center(str_)  # 返回一个原字符串居中,并使用空格填充至长度 width 的新字符串\n",
    "str_.ljust(50)  # 返回一个原字符串左对齐,并使用空格填充至长度 width 的新字符串\n",
    "str_.rjust(50)  # 返回一个原字符串右对齐,并使用空格填充至长度 width 的新字符串\n",
    "str_.zfill(50)  # 返回长度为 width 的字符串，原字符串 string 右对齐，前面填充0\n",
    "str_.expandtabs(tabsize=8)  # 把字符串 string 中的 tab \\t 符号转为空格，tab \\t 符号默认的空格数是 8。\n",
    "# 求和\n",
    "str_.count('a', 0, len(str_))  # string.count(str, beg=0, end=len(string))\n",
    "str_.endswith('obj', 0, len(str_))  # string.endswith(obj, beg=0, end=len(string))\n",
    "# 编码\n",
    "str_.encode('UTF-8', 'strict')  # string.decode(encoding='UTF-8', errors='strict')\n",
    "# 替换切割\n",
    "str_.expandtabs(tabsize=8)  # 把字符串 string 中的 tab 符号转为空格，tab 符号默认的空格数是 8。\n",
    "str_.join('seq')  # 以 string 作为分隔符，将 seq 中所有的元素(的字符串表示)合并为一个新的字符串\n",
    "str_.lstrip()  # 截掉 string 左边的空格\n",
    "str_.rstrip()  # 删除 string 字符串末尾的空格.\n",
    "str_.strip('h')  # 在 string 上执行 lstrip()和 rstrip()\n",
    "str_.strip()  # 在 string 上执行 lstrip()和 rstrip()\n",
    "str_.partition('l')  # 有点像 find()和 split()的结合体,从 str 出现的第一个位置起,把 字 符 串 string 分 成 一 个 3 元 素 的 元 组 (string_pre_str,str,string_post_str),如果 string 中不包含str 则 string_pre_str == string.\n",
    "str_.replace('e', 'a', str_.count('e'))  # 把 string 中的 str1 替换成 str2,如果 num 指定，则替换不超过 num 次.\n",
    "str_.rpartition(\n",
    "        'e')  # 类似于 partition()函数,不过是从右边开始查找\n",
    "str_.split(\"e\", str_.count(\n",
    "        'e'))  # 以 str 为分隔符切片 string，如果 num 有指定值，则仅分隔 num+1 个子字符串\n",
    "str_.splitlines(\n",
    "        False)  # 按照行('\\r', '\\r\\n', '\\n')分隔，返回一个包含各行作为元素的列表，如果参数 keepends 为 False，不包含换行符，如果为 True，则保留换行符。\n",
    "str_.expandtabs(\n",
    "        tabsize=8)  # 把字符串 string 中的 tab \\t 符号转为空格，tab \\t 符号默认的空格数是 8。\n",
    "str_.maketrans('intab',\n",
    "               '12345')  # maketrans() 方法用于创建字符映射的转换表，对于接受两个参数的最简单的调用方式，第一个参数是字符串，表示需要转换的字符，第二个参数也是字符串表示转换的目标。\n",
    "str_.maketrans(\"aeiou\", \"12345\", 'a')\n",
    "# 索引\n",
    "str_.find('e', 0,\n",
    "          len(str_))  # 检测 str 是否包含在 string 中，如果 beg 和 end 指定范围，则检查是否包含在指定范围内，如果是返回开始的索引值，否则返回-1\n",
    "str_.index('e', 0,\n",
    "           len(str_))  # 跟find()方法一样，只不过如果str不在 string中会报一个异常.\n",
    "str_.rfind('o', 0,\n",
    "           len(str_))  # 类似于 find() 函数，返回字符串最后一次出现的位置，如果没有匹配项则返回 -1。\n",
    "str_.rindex('o', 0,\n",
    "            len(str_))  # 类似于 index()，不过是返回最后一个匹配到的子字符串的索引号。\n",
    "# 判断\n",
    "isinstance('word', str)  # 判断是否是字符串\n",
    "str_.isalnum()  # 如果 string 至少有一个字符并且所有字符都是字母或数字则返回 True,否则返回 False\n",
    "str_.isalpha()  # 如果 string 至少有一个字符并且所有字符都是字母则返回 True,否则返回 False\n",
    "str_.isdecimal()  # 如果 string 只包含十进制数字则返回 True 否则返回 False.\n",
    "str_.isdigit()  # 如果 string 只包含数字则返回 True 否则返回 False.\n",
    "str_.islower()  # 如果 string 中包含至少一个区分大小写的字符，并且所有这些(区分大小写的)字符都是小写，则返回 True，否则返回 False\n",
    "str_.isnumeric()  # 如果 string 中只包含数字字符，则返回 True，否则返回 False\n",
    "str_.isspace()  # 如果 string 中只包含空格，则返回 True，否则返回 False.\n",
    "str_.istitle()  # 如果 string 是标题化的(见 title())则返回 True，否则返回 False\n",
    "str_.isupper()  # 如果 string 中包含至少一个区分大小写的字符，并且所有这些(区分大小写的)字符都是大写，则返回 True，否则返回 False\n",
    "str_.startswith('h', 0,\n",
    "                len(str_))  # 检查字符串是否是以 obj 开头，是则返回 True，否则返回 False。如果beg 和 end 指定值，则在指定范围内检查.\n",
    "# ？\n",
    "max(str_)  # 返回字符串 str 中最大的字母。\n",
    "min(str_)  # 返回字符串 str 中最小的字母。\n",
    "n = \"123\"\n",
    "s = n.zfill(5)\n",
    "assert s == \"00123\" "
   ]
  },
  {
   "cell_type": "markdown",
   "metadata": {
    "id": "TdFKDheY7aso"
   },
   "source": [
    "## 相似对比"
   ]
  },
  {
   "cell_type": "code",
   "execution_count": null,
   "metadata": {
    "id": "sg0DsB8x7d5W"
   },
   "outputs": [],
   "source": [
    "# from difflib import SequenceMatcher\n",
    "# SequenceMatcher 是一个比较两个字符串并根据它们的相似性返回数据的函数。通过使用 ratio()，我们将能够根据比率/百分比来量化这种相似性。\n",
    "phrase1 = \"Tan loves Trees.\"\n",
    "phrase2 = \"Tan loves to mount Trees.\"\n",
    "similarity = SequenceMatcher(None, phrase1, phrase2)\n",
    "print(similarity.ratio())\n",
    "\n",
    "# get_close_matches该函数返回与作为参数传入的字符串最接近的匹配项。\n",
    "# get_close_matches(word, possibilities, result_limit, min_similarity)\n",
    "# word 是函数将要查看的目标单词。\n",
    "# possibilities 是一个数组，其中包含函数将要查找的匹配项并找到最接近的匹配项。\n",
    "# result_limit 是返回结果数量的限制（可选）。\n",
    "# min_similarity 是两个单词需要具有的最小相似度才能被函数视为返回值（可选）。\n",
    "word = 'Tandrew'\n",
    "possibilities = ['Andrew', 'Teresa', 'Kairu', 'Janderson', 'Drew']\n",
    "\n",
    "print(get_close_matches(word, possibilities))"
   ]
  },
  {
   "cell_type": "markdown",
   "metadata": {
    "id": "RotSJjhe7h8O"
   },
   "source": [
    "## 随机字符串"
   ]
  },
  {
   "cell_type": "code",
   "execution_count": null,
   "metadata": {
    "id": "iyVBcILh7kjQ"
   },
   "outputs": [],
   "source": [
    "RandomString = ''.join([random.choice('ABCDEFGHIJKLMNOPQRSTUVWXYZ123456789') for _ in range(10)])"
   ]
  },
  {
   "cell_type": "markdown",
   "metadata": {
    "id": "XFvBTlDa7nuw"
   },
   "source": [
    "## 正则"
   ]
  },
  {
   "cell_type": "markdown",
   "metadata": {},
   "source": [
    "(?=.*\\d)是修饰表达式,修饰后面的自己输的字符串的表达式[\\u4E00-\\u9FA5AA-Za-z0-9]一定有数字\n",
    "\n",
    "(?=.*[a-zA-Z])是修饰表达式,修饰后面的自己输的字符串的表达式[\\u4E00-\\u9FA5AA-Za-z0-9]一定有字母\n",
    "\n",
    "(?=.*[\\u4E00-\\u9FA5])是修饰表达式,修饰后面的自己输的字符串的表达式[\\u4E00-\\u9FA5AA-Za-z0-9]一定有汉字\n",
    "\n",
    "^是以自己输的字符串的表达式[\\u4E00-\\u9FA5AA-Za-z0-9]开始\n",
    "\n",
    "*表示任意多个自己输的字符串表达式\n",
    "\n",
    "$表示以自己输的字符串结尾\n",
    "\n",
    "*?, +?, ??\n",
    "'*', '+'，和 '?' 修饰符都是 *贪婪的*；它们在字符串进行尽可能多的匹配。有时候并不需要这种行为。如果正则式 <.*> 希望找到 '<a> b <c>'，它将会匹配整个字符串，而不仅是 '<a>'。在修饰符之后添加 ? 将使样式以 *非贪婪`方式或者 :dfn:最小* 方式进行匹配； 尽量 *少* 的字符将会被匹配。 使用正则式 <.*?>将会仅仅匹配 '<a>'。\n",
    "\n",
    "{m,n}?\n",
    "前一个修饰符的非贪婪模式，只匹配尽量少的字符次数。比如，对于 'aaaaaa'， a{3,5} 匹配 5个 'a' ，而 a{3,5}? 只匹配3个 'a'。"
   ]
  },
  {
   "cell_type": "markdown",
   "metadata": {},
   "source": [
    "\n",
    "|      | 描述                                                         |\n",
    "| ---- | ------------------------------------------------------------ |\n",
    "| .    | 匹配任意一个字符(\\n)除外。如果指定了标签 [`DOTALL`](https://docs.python.org/zh-cn/3/library/re.html#re.DOTALL) ，它将匹配包括换行符的任意字符。当re.DOTALL标记被指定时，则可以匹配包括换行符的任意字符。 |\n",
    "| []   | 匹配[]中列举的字符，一个                                     |\n",
    "| \\d   | 匹配数字0-9                                                  |\n",
    "| \\D   | 匹配非字符                                                   |\n",
    "| \\s   | 匹配空白，空格TAB                                            |\n",
    "| \\S   | 匹配非空白                                                   |\n",
    "| \\w   | 匹配单词字符，a-z/A-Z/0-9                                    |\n",
    "| \\W   | 匹配非单词字符                                               |\n",
    "| ()   | 分割字符串, 在findall中类似取值                              |\n"
   ]
  },
  {
   "cell_type": "markdown",
   "metadata": {},
   "source": [
    "\n",
    "|       | 描述                                                         |\n",
    "| ----- | ------------------------------------------------------------ |\n",
    "| *     | 对它前面的正则式匹配0到任意次重复， 尽量多的匹配字符串。 `ab*` 会匹配 `'a'`，`'ab'`，或者 `'a'` 后面跟随任意个 `'b'`。可以出现0次（可有可无）。 |\n",
    "| +     | 。对它前面的正则式匹配1到任意次重复（即至少一次）。 `ab+` 会匹配 `'a'` 后面跟随1个以上到任意个 `'b'`，它不会匹配 `'a'`。 |\n",
    "| ？    | 对它前面的正则式匹配0到1次重复（即要么有1次，要么没有）。 `ab?` 会匹配 `'a'` 或者 `'ab'`。 |\n",
    "| {m}   | 匹配前一个字符出m次                                          |\n",
    "| {m,}  | 匹配前一个字符至少出现m次                                    |\n",
    "| {m,n} | 匹配前一个字符出现m到n次                                     |\n"
   ]
  },
  {
   "cell_type": "markdown",
   "metadata": {},
   "source": [
    "\n",
    "| 边界   | 描述                                                         |\n",
    "|------| ------------------------------------------------------------ |\n",
    "| ^    | (插入符号) 匹配字符串开头， 并且在 [`MULTILINE`](https://docs.python.org/zh-cn/3/library/re.html#re.MULTILINE) 模式也匹配换行后的首个符号。 |\n",
    "| $    | 匹配字符串尾或者在字符串尾的换行符的前一个字符，在 [`MULTILINE`](https://docs.python.org/zh-cn/3/library/re.html#re.MULTILINE) 模式下也会匹配换行符之前的文本。 `foo` 匹配 'foo' 和 'foobar'，但正则表达式 `foo$` 只匹配 'foo'。 更有趣的是，在 `'foo1\\nfoo2\\n'` 中搜索 `foo.$`，通常匹配 'foo2'，但在 [`MULTILINE`](https://docs.python.org/zh-cn/3/library/re.html#re.MULTILINE) 模式下可以匹配到 'foo1'；在 `'foo\\n'` 中搜索 `$` 会找到两个（空的）匹配：一个在换行符之前，一个在字符串的末尾。 |\n",
    "| \\b   | 匹配一个单词的边界                                           |\n",
    "| \\B   | 匹配非单词边界                                               |\n"
   ]
  },
  {
   "cell_type": "markdown",
   "metadata": {},
   "source": [
    "\n",
    "| 分组匹配     | 描述                                                         |\n",
    "| ---- | ------------------------------------------------------------ |\n",
    "| ｜   | 匹配左右任意表达式，一个。`A|B`， A 和 B 可以是任意正则表达式，创建一个正则表达式，匹配 A 或者 B. 任意个正则表达式可以用 `'|'` 连接。它也可以在组合（见下列）内使用。扫描目标字符串时， `'|'` 分隔开的正则样式从左到右进行匹配。当一个样式完全匹配时，这个分支就被接受。意思就是，一旦 A 匹配成功， B 就不再进行匹配，即便它能产生一个更好的匹配。或者说，`'|'` 操作符绝不贪婪。 如果要匹配 `'|'` 字符，使用 `\\|`， 或者把它包含在字符集里，比如 `[|]`. |\n",
    "| (ab) | 将括号中字符作为一个分组                                     |\n"
   ]
  },
  {
   "cell_type": "markdown",
   "metadata": {},
   "source": [
    "贪婪与非贪婪\n",
    "\n",
    "正则默认都是用贪婪模式去匹配数据的，就是尽可能多的匹配符合要求的数据。\n",
    "\n",
    "在非贪婪模式下，始终找最短匹配\n",
    "\n",
    "加上？变成非贪婪模式\n",
    "\n",
    "|      | 描述       |\n",
    "| ---- | ---------- |\n",
    "| ？   | 非贪婪模式 |\n"
   ]
  },
  {
   "cell_type": "markdown",
   "metadata": {},
   "source": [
    "特殊字符\n",
    "\n",
    "|                                     | 描述                                                         |\n",
    "| ----------------------------------- | ------------------------------------------------------------ |\n",
    "| \\                                   | 转义特殊字符（允许你匹配 `'*'`, `'?'`, 或者此类其他），或者表示一个特殊序列；特殊序列之后进行讨论。如果你没有使用原始字符串（ `r'raw'` ）来表达样式，要牢记Python也使用反斜杠作为转义序列；如果转义序列不被Python的分析器识别，反斜杠和字符才能出现在字符串中。如果Python可以识别这个序列，那么反斜杠就应该重复两次。这将导致理解障碍，所以高度推荐，就算是最简单的表达式，也要使用原始字符串。 |\n",
    "| []                                  | 用于表示一个字符集合。在一个集合中：字符可以单独列出，比如 `[amk]` 匹配 `'a'`， `'m'`， 或者 `'k'`。可以表示字符范围，通过用 `'-'` 将两个字符连起来。比如 `[a-z]` 将匹配任何小写ASCII字符， `[0-5][0-9]` 将匹配从 `00` 到 `59` 的两位数字， `[0-9A-Fa-f]` 将匹配任何十六进制数位。 如果 `-` 进行了转义 （比如 `[a\\-z]`）或者它的位置在首位或者末尾（如 `[-a]` 或 `[a-]`），它就只表示普通字符 `'-'`。特殊字符在集合中，失去它的特殊含义。比如 `[(+*)]` 只会匹配这几个文法字符 `'('`, `'+'`, `'*'`, or `')'`。字符类如 `\\w` 或者 `\\S` (如下定义) 在集合内可以接受，它们可以匹配的字符由 [`ASCII`](https://docs.python.org/zh-cn/3/library/re.html#re.ASCII) 或者 [`LOCALE`](https://docs.python.org/zh-cn/3/library/re.html#re.LOCALE) 模式决定。不在集合范围内的字符可以通过 *取反* 来进行匹配。如果集合首字符是 `'^'` ，所有 *不* 在集合内的字符将会被匹配，比如 `[^5]` 将匹配所有字符，除了 `'5'`， `[^^]` 将匹配所有字符，除了 `'^'`. `^` 如果不在集合首位，就没有特殊含义。在集合内要匹配一个字符 `']'`，有两种方法，要么就在它之前加上反斜杠，要么就把它放到集合首位。比如， `[()[\\]{}]` 和 `[]()[{}]` 都可以匹配括号。[Unicode Technical Standard #18](https://unicode.org/reports/tr18/) 里的嵌套集合和集合操作支持可能在未来添加。这将会改变语法，所以为了帮助这个改变，一个 [`FutureWarning`](https://docs.python.org/zh-cn/3/library/exceptions.html#FutureWarning) 将会在有多义的情况里被 `raise`，包含以下几种情况，集合由 `'['` 开始，或者包含下列字符序列 `'--'`, `'&&'`, `'~~'`, 和 `'||'`。为了避免警告，需要将它们用反斜杠转义。*在 3.7 版更改:* 如果一个字符串构建的语义在未来会改变的话，一个 [`FutureWarning`](https://docs.python.org/zh-cn/3/library/exceptions.html#FutureWarning) 会 `raise` 。 |\n",
    "| (...)                               | （组合），匹配括号内的任意正则表达式，并标识出组合的开始和结尾。匹配完成后，组合的内容可以被获取，并可以在之后用 `\\number` 转义序列进行再次匹配，之后进行详细说明。要匹配字符 `'('` 或者 `')'`, 用 `\\(` 或 `\\)`, 或者把它们包含在字符集合里: `[(]`, `[)]`. |\n",
    "| (?…)                                | 这是个扩展标记法 （一个 `'?'` 跟随 `'('` 并无含义）。 `'?'` 后面的第一个字符决定了这个构建采用什么样的语法。这种扩展通常并不创建新的组合； `(?P<name>...)` 是唯一的例外。 以下是目前支持的扩展。 |\n",
    "| [...]                               | 用来表示一组字符,单独列出：[amk] 匹配 'a'，'m'或'k'          |\n",
    "| [^...][...]                         | 不在[]中的字符：[^abc] 匹配除了a,b,c之外的字符。用来表示一组字符,单独列出：[amk] 匹配 'a'，'m'或'k' |\n",
    "| (?aiLmsux)                          | ( `'a'`, `'i'`, `'L'`, `'m'`, `'s'`, `'u'`, `'x'` 中的一个或多个) 这个组合匹配一个空字符串；这些字符对正则表达式设置以下标记 [`re.A`](https://docs.python.org/zh-cn/3/library/re.html#re.A) (只匹配ASCII字符), [`re.I`](https://docs.python.org/zh-cn/3/library/re.html#re.I) (忽略大小写), [`re.L`](https://docs.python.org/zh-cn/3/library/re.html#re.L) (语言依赖), [`re.M`](https://docs.python.org/zh-cn/3/library/re.html#re.M) (多行模式), [`re.S`](https://docs.python.org/zh-cn/3/library/re.html#re.S) (点dot匹配全部字符), `re.U` (Unicode匹配), and [`re.X`](https://docs.python.org/zh-cn/3/library/re.html#re.X) (冗长模式)。 (这些标记在 [模块内容](https://docs.python.org/zh-cn/3/library/re.html#contents-of-module-re) 中描述) 如果你想将这些标记包含在正则表达式中，这个方法就很有用，免去了在 [`re.compile()`](https://docs.python.org/zh-cn/3/library/re.html#re.compile) 中传递flag参数。标记应该在表达式字符串首位表示。 |\n",
    "| (?:…)                               | 正则括号的非捕获版本。 匹配在括号内的任何正则表达式，但该分组所匹配的子字符串 不能在执行匹配后被获取或是之后在模式中被引用。 |\n",
    "| (?aiLmsux-imsx:…)                   | (`'a'`, `'i'`, `'L'`, `'m'`, `'s'`, `'u'`, `'x'` 中的0或者多个， 之后可选跟随 `'-'` 在后面跟随 `'i'` , `'m'` , `'s'` , `'x'` 中的一到多个 .) 这些字符为表达式的其中一部分 *设置* 或者 *去除* 相应标记 [`re.A`](https://docs.python.org/zh-cn/3/library/re.html#re.A) (只匹配ASCII), [`re.I`](https://docs.python.org/zh-cn/3/library/re.html#re.I) (忽略大小写), [`re.L`](https://docs.python.org/zh-cn/3/library/re.html#re.L) (语言依赖), [`re.M`](https://docs.python.org/zh-cn/3/library/re.html#re.M) (多行), [`re.S`](https://docs.python.org/zh-cn/3/library/re.html#re.S) (点匹配所有字符), `re.U` (Unicode匹配), and [`re.X`](https://docs.python.org/zh-cn/3/library/re.html#re.X) (冗长模式)。(标记描述在 [模块内容](https://docs.python.org/zh-cn/3/library/re.html#contents-of-module-re) .)`'a'`, `'L'` and `'u'` 作为内联标记是相互排斥的， 所以它们不能结合在一起，或者跟随 `'-'` 。 当他们中的某个出现在内联组中，它就覆盖了括号组内的匹配模式。在Unicode样式中， `(?a:...)` 切换为 只匹配ASCII， `(?u:...)` 切换为Unicode匹配 (默认). 在byte样式中 `(?L:...)` 切换为语言依赖模式， `(?a:...)` 切换为 只匹配ASCII (默认)。这种方式只覆盖组合内匹配，括号外的匹配模式不受影响。*3.6 新版功能.**在 3.7 版更改:* 符号 `'a'`, `'L'` 和 `'u'` 同样可以用在一个组合内。 |\n",
    "| (?P<name>…)                         | （命名组合）类似正则组合，但是匹配到的子串组在外部是通过定义的 *name* 来获取的。组合名必须是有效的Python标识符，并且每个组合名只能用一个正则表达式定义，只能定义一次。一个符号组合同样是一个数字组合，就像这个组合没有被命名一样。命名组合可以在三种上下文中引用。如果样式是 `(?P<quote>['\"]).*?(?P=quote)` （也就是说，匹配单引号或者双引号括起来的字符串)：引用组合 \"quote\" 的上下文引用方法在正则式自身内`(?P=quote)` (如示)`\\1`处理匹配对象 *m*`m.group('quote')``m.end('quote')` (等)传递到 `re.sub()` 里的 *repl* 参数中`\\g<quote>``\\g<1>``\\1` |\n",
    "| (?P=name)                           | 反向引用一个命名组合；它匹配前面那个叫name的命名组中匹配到的串同样的字串。 |\n",
    "| (?#…)                               | 注释；里面的内容会被忽略。                                   |\n",
    "| (?=…)(?!…)                          | 匹配 `…` 的内容，但是并不消费样式的内容。这个叫做 *lookahead assertion*。比如， `Isaac (?=Asimov)` 匹配 `'Isaac '` 只有在后面是 `'Asimov'` 的时候。匹配 `…` 不符合的情况。这个叫 *negative lookahead assertion* （前视取反）。比如说， `Isaac (?!Asimov)` 只有后面 *不* 是 `'Asimov'` 的时候才匹配 `'Isaac '` 。 |\n",
    "| (?<=…)                              | 匹配字符串的当前位置，它的前面匹配 `...` 的内容到当前位置。这叫 *positive lookbehind assertion* （正向后视断定）。 `(?<=abc)def` 会在 `'abcdef'` 中找到一个匹配，因为后视会往后看3个字符并检查是否包含匹配的样式。包含的匹配样式必须是定长的，意思就是 `abc` 或 `a|b` 是允许的，但是 `a*` 和 `a{3,4}` 不可以。注意以 positive lookbehind assertions 开始的样式，如 `(?<=abc)def` ，并不是从 a 开始搜索，而是从 d 往回看的。你可能更加愿意使用 [`search()`](https://docs.python.org/zh-cn/3/library/re.html#re.search) 函数，而不是 [`match()`](https://docs.python.org/zh-cn/3/library/re.html#re.match) 函数：>>>`>>> import re >>> m = re.search('(?<=abc)def', 'abcdef') >>> m.group(0) 'def' `这个例子搜索一个跟随在连字符后的单词：>>>`>>> m = re.search(r'(?<=-)\\w+', 'spam-egg') >>> m.group(0) 'egg' `*在 3.5 版更改:* 添加定长组合引用的支持。 |\n",
    "| (?<!…)                              | 匹配当前位置之前不是 `...` 的样式。这个叫 *negative lookbehind assertion* （后视断定取非）。类似正向后视断定，包含的样式匹配必须是定长的。由 negative lookbehind assertion 开始的样式可以从字符串搜索开始的位置进行匹配。 |\n",
    "| (?(id/name)yes-pattern\\|no-pattern) | 如果给定的 *id* 或 *name* 存在，将会尝试匹配 `yes-pattern` ，否则就尝试匹配 `no-pattern`，`no-pattern` 可选，也可以被忽略。比如， `(<)?(\\w+@\\w+(?:\\.\\w+)+)(?(1)>|$)` 是一个email样式匹配，将匹配 `'<user@host.com>'` 或 `'user@host.com'` ，但不会匹配 `'<user@host.com'` ，也不会匹配 `'user@host.com>'`。 |\n",
    "| (?imx)                              | 正则表达式包含三种可选标志：i, m, 或 x 。只影响括号中的区域。 |\n",
    "| (?-imx)                             | 正则表达式关闭 i, m, 或 x 可选标志。只影响括号中的区域。     |\n",
    "| (?: re)                             | 类似 (...), 但是不表示一个组                                 |\n",
    "| (?imx: re)                          | 在括号中使用i, m, 或 x 可选标志                              |\n",
    "| (?-imx: re)                         | 在括号中不使用i, m, 或 x 可选标志                            |\n",
    "| (?#...)                             | 注释.                                                        |\n",
    "| (?= re)                             | 前向肯定界定符。如果所含正则表达式，以 ... 表示，在当前位置成功匹配时成功，否则失败。但一旦所含表达式已经尝试，匹配引擎根本没有提高；模式的剩余部分还要尝试界定符的右边。 |\n",
    "| (?! re)                             | 前向否定界定符。与肯定界定符相反；当所含表达式不能在字符串当前位置匹配时成功 |\n",
    "| (?> re)\\                            | 匹配的独立模式，省去回溯。由 `'\\'` 和一个字符组成的特殊序列在以下列出。 如果普通字符不是ASCII数位或者ASCII字母，那么正则样式将匹配第二个字符。比如，`\\$` 匹配字符 `'$'`. |\n",
    "| \\number                             | 匹配数字代表的组合。每个括号是一个组合，组合从1开始编号。比如 `(.+) \\1` 匹配 `'the the'` 或者 `'55 55'`, 但不会匹配 `'thethe'` (注意组合后面的空格)。这个特殊序列只能用于匹配前面99个组合。如果 *number* 的第一个数位是0， 或者 *number* 是三个八进制数，它将不会被看作是一个组合，而是八进制的数字值。在 `'['` 和 `']'` 字符集合内，任何数字转义都被看作是字符。 |\n",
    "| \\A                                  | 只匹配字符串开始。                                           |\n",
    "| \\b                                  | 匹配空字符串，但只在单词开始或结尾的位置。一个单词被定义为一个单词字符的序列。注意，通常 `\\b` 定义为 `\\w` 和 `\\W` 字符之间，或者 `\\w` 和字符串开始/结尾的边界， 意思就是 `r'\\bfoo\\b'` 匹配 `'foo'`, `'foo.'`, `'(foo)'`, `'bar foo baz'` 但不匹配 `'foobar'` 或者 `'foo3'`。默认情况下，Unicode字母和数字是在Unicode样式中使用的，但是可以用 [`ASCII`](https://docs.python.org/zh-cn/3/library/re.html#re.ASCII) 标记来更改。如果 [`LOCALE`](https://docs.python.org/zh-cn/3/library/re.html#re.LOCALE) 标记被设置的话，词的边界是由当前语言区域设置决定的，`\\b` 表示退格字符，以便与Python字符串文本兼容。 |\n",
    "| \\B                                  | 匹配空字符串，但 *不* 能在词的开头或者结尾。意思就是 `r'py\\B'` 匹配 `'python'`, `'py3'`, `'py2'`, 但不匹配 `'py'`, `'py.'`, 或者 `'py!'`. `\\B` 是 `\\b` 的取非，所以Unicode样式的词语是由Unicode字母，数字或下划线构成的，虽然可以用 [`ASCII`](https://docs.python.org/zh-cn/3/library/re.html#re.ASCII) 标志来改变。如果使用了 [`LOCALE`](https://docs.python.org/zh-cn/3/library/re.html#re.LOCALE) 标志，则词的边界由当前语言区域设置。 |\n",
    "| \\d                                  | 对于 Unicode (str) 样式：匹配任何Unicode十进制数（就是在Unicode字符目录[Nd]里的字符）。这包括了 `[0-9]` ，和很多其他的数字字符。如果设置了 [`ASCII`](https://docs.python.org/zh-cn/3/library/re.html#re.ASCII) 标志，就只匹配 `[0-9]` 。对于8位(bytes)样式：匹配任何十进制数，就是 `[0-9]`。 |\n",
    "| \\D                                  | 匹配任何非十进制数字的字符。就是 `\\d` 取非。 如果设置了 [`ASCII`](https://docs.python.org/zh-cn/3/library/re.html#re.ASCII) 标志，就相当于 `[^0-9]` 。 |\n",
    "| \\G                                  | 匹配最后匹配完成的位置。                                     |\n",
    "| \\s                                  | 对于 Unicode (str) 样式：匹配任何Unicode空白字符（包括 `[ \\t\\n\\r\\f\\v]` ，还有很多其他字符，比如不同语言排版规则约定的不换行空格）。如果 [`ASCII`](https://docs.python.org/zh-cn/3/library/re.html#re.ASCII) 被设置，就只匹配 `[ \\t\\n\\r\\f\\v]` 。对于8位(bytes)样式：匹配ASCII中的空白字符，就是 `[ \\t\\n\\r\\f\\v]` 。 |\n",
    "| \\S                                  | 匹配任何非空白字符。就是 `\\s` 取非。如果设置了 [`ASCII`](https://docs.python.org/zh-cn/3/library/re.html#re.ASCII) 标志，就相当于 `[^ \\t\\n\\r\\f\\v]` 。 |\n",
    "| \\w                                  | 对于 Unicode (str) 样式：匹配Unicode词语的字符，包含了可以构成词语的绝大部分字符，也包括数字和下划线。如果设置了 [`ASCII`](https://docs.python.org/zh-cn/3/library/re.html#re.ASCII) 标志，就只匹配 `[a-zA-Z0-9_]` 。对于8位(bytes)样式：匹配ASCII字符中的数字和字母和下划线，就是 `[a-zA-Z0-9_]` 。如果设置了 [`LOCALE`](https://docs.python.org/zh-cn/3/library/re.html#re.LOCALE) 标记，就匹配当前语言区域的数字和字母和下划线。 |\n",
    "| \\W                                  | 匹配非单词字符的字符。这与 `\\w` 正相反。如果使用了 [`ASCII`](https://docs.python.org/zh-cn/3/library/re.html#re.ASCII) 旗标，这就等价于 `[^a-zA-Z0-9_]`。如果使用了 [`LOCALE`](https://docs.python.org/zh-cn/3/library/re.html#re.LOCALE) 旗标，则会匹配当前区域中既非字母数字也非下划线的字符。 |\n",
    "| \\Z                                  | 只匹配字符串尾。 匹配字符串结束，如果是存在换行，只匹配到换行前的结束字符串。 |\n",
    "| \\n, \\t, 等.                         | 匹配一个换行符。匹配一个制表符。等                           |\n",
    "| \\1...\\9                             | 匹配第n个分组的内容。                                        |\n",
    "| \\10                                 | 匹配第n个分组的内容，如果它经匹配。否则指的是八进制字符码的表达式。 |\n",
    "| [^aeiou]                            | 除了aeiou字母以外的所有字符                                  |\n",
    "| x\\|y                                | 没有包围在()里，其范围是整个正则表达式。例如，“`z\\|food`”能匹配“`z`”或“`food`”。“`(?:z\\|f)ood`”则匹配“`zood`”或“`food`”。 |\n",
    "| [:name:]                            | 增加命名字符类（named character class）中的字符到表达式。只能用于**「方括号表达式」**。 |\n",
    "| `[=elt=]`                           | 增加当前locale下排序（collate）等价于字符“elt”的元素。例如，[=a=]可能会增加ä、á、à、ă、ắ、ằ、ẵ、ẳ、â、ấ、ầ、ẫ、ẩ、ǎ、å、ǻ、ä、ǟ、ã、ȧ、ǡ、ą、ā、ả、ȁ、ȃ、ạ、ặ、ậ、ḁ、ⱥ、ᶏ、ɐ、ɑ 。只能用于方括号表达式。 |\n",
    "| `[.elt.]`                           | 增加排序元素elt到表达式中。这是因为某些排序元素由多个字符组成。例如，29个字母表的西班牙语， \"CH\"作为单个字母排在字母C之后，因此会产生如此排序“cinco, credo, chispa”。只能用于方括号表达式。 |\n",
    "| `\\xnn`                              | 十六进制转义字符序列。匹配两个十六进制数字nn表示的字符。例如，“`\\x41`”匹配“`A`”。“`\\x041`”则等价于“`\\x04&1`”。正则表达式中可以使用ASCII编码。. |\n",
    "| `\\num`                              | 向后引用（back-reference）一个子字符串（substring），该子字符串与正则表达式的第num个用括号围起来的捕捉群（capture group）子表达式（subexpression）匹配。其中num是从1开始的十进制正整数，其上限可能是9、31、99，甚至无限。例如：“`(.)\\1`”匹配两个连续的相同字符。 |\n",
    "| `\\n`                                | 标识一个八进制转义值或一个向后引用。如果\\n之前至少n个获取的子表达式，则n为向后引用。否则，如果n为八进制数字（0-7），则n为一个八进制转义值。 |\n",
    "| `\\nm`                               | 3位八进制数字，标识一个八进制转义值或一个向后引用。如果\\nm之前至少有nm个获得子表达式，则nm为向后引用。如果\\nm之前至少有n个获取，则n为一个后跟文字m的向后引用。如果前面的条件都不满足，若n和m均为八进制数字（0-7），则\\nm将匹配八进制转义值nm。 |\n",
    "| `\\nml`                              | 如果n为八进制数字（0-3），且m和l均为八进制数字（0-7），则匹配八进制转义值nml。 |\n",
    "| `\\un`                               | Unicode转义字符序列。其中n是一个用四个十六进制数字表示的Unicode字符。例如，\\u00A9匹配著作权符号（©）。 |\n",
    "\n",
    "绝大部分Python的标准转义字符也被正则表达式分析器支持。\n",
    "\n",
    "`:\\a      \\b      \\f      \\n    \\N      \\r      \\t      \\u    \\U      \\v      \\x      \\\\`\n",
    "\n",
    "（注意 `\\b` 被用于表示词语的边界，它只在字符集合内表示退格，比如 `[\\b]` 。）\n",
    "\n",
    "`'\\u'`, `'\\U'` 和 `'\\N'` 转义序列只在 Unicode 模式中可被识别。 在 bytes 模式中它们会导致错误。 未知的 ASCII 字母转义序列保留在未来使用，会被当作错误来处理。\n",
    "\n",
    "八进制转义包含为一个有限形式。如果首位数字是 0， 或者有三个八进制数位，那么就认为它是八进制转义。其他的情况，就看作是组引用。对于字符串文本，八进制转义最多有三个数位长。\n",
    "\n",
    "*在 3.3 版更改:* 增加了 `'\\u'` 和 `'\\U'` 转义序列。\n",
    "\n",
    "*在 3.6 版更改:* 由 `'\\'` 和一个ASCII字符组成的未知转义会被看成错误。\n",
    "\n",
    "*在 3.8 版更改:* 添加了 `'\\N{name}'` 转义序列。 与在字符串字面值中一样，它扩展了命名 Unicode 字符 (例如 `'\\N{EM DASH}'`)。"
   ]
  },
  {
   "cell_type": "markdown",
   "metadata": {},
   "source": [
    "正则表达式修饰符 - 可选标志\n",
    "\n",
    "正则表达式可以包含一些可选标志修饰符来控制匹配的模式。修饰符被指定为一个可选的标志。多个标志可以通过按位 OR(|) 它们来指定。如 re.I | re.M 被设置成 I 和 M 标志：\n",
    "\n",
    "| 修饰符 | 描述                                                         |\n",
    "| :----- | :----------------------------------------------------------- |\n",
    "| re.I   | 使匹配对大小写不敏感                                         |\n",
    "| re.L   | 做本地化识别（locale-aware）匹配                             |\n",
    "| re.M   | 多行匹配，影响 ^ 和 $                                        |\n",
    "| re.S   | 使 . 匹配包括换行在内的所有字符                              |\n",
    "| re.U   | 根据Unicode字符集解析字符。这个标志影响 \\w, \\W, \\b, \\B.      |\n",
    "| re.X   | 该标志通过给予你更灵活的格式以便你将正则表达式写得更易于理解。 |\n"
   ]
  },
  {
   "cell_type": "markdown",
   "metadata": {},
   "source": [
    "优先权\n",
    "\n",
    "| 优先权 | 符号                                  |\n",
    "| :----- | :------------------------------------ |\n",
    "| 最高   | `\\`                                   |\n",
    "| 高     | `()`、`(?:)`、`(?=)`、`[]`            |\n",
    "| 中     | `*`、`+`、`?`、`{n}`、`{n,}`、`{n,m}` |\n",
    "| 低     | `^`、`$`、中介字符                    |\n",
    "| 次最低 | 串接，即相邻字符连接在一起            |\n",
    "| 最低   | `\\|`                                  |\n"
   ]
  },
  {
   "cell_type": "code",
   "execution_count": null,
   "metadata": {},
   "outputs": [],
   "source": [
    "m = re.match('(\\d{3})-(\\d{4})-([a-z]{2})', '123-4567-xy')\n",
    "print(m.group(1))\n",
    "print(m.group(2))\n",
    "print(m.group(3))\n",
    "print(m.group())\n",
    "print(m)  # 单字符"
   ]
  },
  {
   "cell_type": "code",
   "execution_count": null,
   "metadata": {},
   "outputs": [],
   "source": [
    "# 数量元字符\n",
    "s = '12-a-abc54-a-xyz---78-A-ytr'\n",
    "re.findall(r'(\\d\\d)-(a)-[a-z]{3}', s, re.I)  # [('12', 'a'), ('54', 'a'), ('78', 'A')]"
   ]
  },
  {
   "cell_type": "code",
   "execution_count": null,
   "metadata": {
    "ExecuteTime": {
     "end_time": "2022-11-03T02:21:37.559330Z",
     "start_time": "2022-11-03T02:21:37.546720Z"
    },
    "id": "wBDlAmJV7qvG"
   },
   "outputs": [],
   "source": [
    "import re"
   ]
  },
  {
   "cell_type": "code",
   "execution_count": null,
   "metadata": {},
   "outputs": [],
   "source": [
    "# re.finditer()迭代器对象：在字符串中找到正则表达式所匹配的所有子串，并返回一个列表，如果没有找到匹配的，则返回空列表\n",
    "# re.findall()\n",
    "a = re.findall('模式串', '主串')\n",
    "m = re.finditer('模式串', '主串')  # <re.Match object; span=(主串下标+1开始的地方, 主串下标+1结束的地方), match='模式串'>\n",
    "for i in m:\n",
    "    print(i)"
   ]
  },
  {
   "cell_type": "code",
   "execution_count": null,
   "metadata": {},
   "outputs": [],
   "source": [
    "# 尝试从字符串的起始位置匹配一个模式，匹配成功返回的是一个匹配对象（这个对象包含了我们匹配的信息），如果不是起始位置匹配成功的话，match()返回的是空，\n",
    "re.match\n",
    "\n",
    "a = re.match('模式串', '主串')\n",
    "a.group()  # 提取匹配到的内容\n",
    "a.span()  # 提取匹配到的字符(下标开始的地方, 下标结束的地方)"
   ]
  },
  {
   "cell_type": "code",
   "execution_count": null,
   "metadata": {},
   "outputs": [],
   "source": [
    "# re.search：扫描整个字符串,匹配成功 返回的是一个匹配对象（这个对象包含了我们匹配的信息）。注意：search也只能匹配到一个，找到符合规则的就返回，不会一直往后找。\n",
    "a = re.search('模式串', '主串')\n",
    "b = a.group()  # 提取匹配到的内容\n",
    "c = a.span()  # 提取匹配到的字符(下标开始的地方, 下标结束的地方)\n",
    "print(b, c)"
   ]
  },
  {
   "cell_type": "code",
   "execution_count": null,
   "metadata": {},
   "outputs": [],
   "source": [
    "# re.sub(pattern,repl,string,count,flags)pattern:表示正则表达式中的模式字符串；repl:被替换的字符串（既可以是字符串，也可以是函数）；string:要被处理的，要被替换的字符串；count:匹配的次数flgas:(我没找到关于这个参数的说明？)\n",
    "# re.sub(pattern,repl,string,count,flags)pattern:表示正则表达式中的模式字符串；repl:被替换的字符串（既可以是字符串，也可以是函数）；string:要被处理的，要被替换的字符串；count:匹配的次数flgas:(我没找到关于这个参数的说明？)返回元组，替换次数"
   ]
  },
  {
   "cell_type": "code",
   "execution_count": null,
   "metadata": {},
   "outputs": [],
   "source": []
  },
  {
   "cell_type": "code",
   "execution_count": null,
   "metadata": {
    "id": "7wFyz7qu7ovW"
   },
   "outputs": [],
   "source": [
    "# ^([0-9A-HJ-NPQRTUWXY]{2}\\d{6}[0-9A-HJ-NPQRTUWXY]{10}|[1-9]\\d{14})$\n",
    "# re_str_test = '91440803MA4UK8CM9P'\n",
    "re_str_test = '914408031232142'\n",
    "# re.compile(r\"([0-9A-HJ-NPQRTUWXY]{2}\\d{6}[0-9A-HJ-NPQRTUWXY]{10}|[1-9]\\d{14})$\").findall(re_str_test)\n",
    "re.compile(r\"[0-9A-HJ-NPQRTUWXY]{2}\\d{6}[0-9A-HJ-NPQRTUWXY]{10}|[1-9]\\d{14}$\").findall(re_str_test)"
   ]
  },
  {
   "cell_type": "code",
   "execution_count": null,
   "metadata": {
    "ExecuteTime": {
     "end_time": "2022-11-03T02:21:39.802217Z",
     "start_time": "2022-11-03T02:21:39.769150Z"
    }
   },
   "outputs": [],
   "source": [
    "re.findall(r'^(?=.*\\d)(?=.*[a-zA-Z])(?=.*[\\u4E00-\\u9FA5])[\\u4E00-\\u9FA5A-Za-z0-9]*$', '小李li1999')"
   ]
  },
  {
   "cell_type": "markdown",
   "metadata": {},
   "source": [
    "### 邮箱"
   ]
  },
  {
   "cell_type": "code",
   "execution_count": null,
   "metadata": {
    "ExecuteTime": {
     "end_time": "2022-11-03T02:24:48.321277Z",
     "start_time": "2022-11-03T02:24:48.308629Z"
    }
   },
   "outputs": [],
   "source": [
    "# 邮箱：包含大小写字母，下划线，阿拉伯数字，点号，中划线\n",
    "# 表达式：[a-zA-Z0-9_-]+@[a-zA-Z0-9_-]+(?:\\.[a-zA-Z0-9_-]+)\n",
    "pattern = re.compile(r\"[a-zA-Z0-9_-]+@[a-zA-Z0-9_-]+(?:\\.[a-zA-Z0-9_-]+)\")\n",
    "str_ = '我的私人邮箱是lijd1999@icloud.com，公司邮箱是123qwe@google.org，麻烦登记一下？'\n",
    "pattern.findall(str_)"
   ]
  },
  {
   "cell_type": "markdown",
   "metadata": {},
   "source": [
    "### 身份证号"
   ]
  },
  {
   "cell_type": "code",
   "execution_count": null,
   "metadata": {},
   "outputs": [],
   "source": [
    "# 身份证号: xxxxxx yyyy MM dd 375 0     十八位\n",
    "#  地区：[1-9]\\d{5}  年的前两位：(18|19|([23]\\d))       1800-2399  年的后两位：\\d{2}  月份：((0[1-9])|(10|11|12))\n",
    "#  天数：(([0-2][1-9])|10|20|30|31)          闰年不能禁止29+  三位顺序码：\\d{3}  两位顺序码：\\d{2}  校验码：[0-9Xx]\n",
    "# 表达式：[1-9]\\d{5}(18|19|([23]\\d))\\d{2}((0[1-9])|(10|11|12))(([0-2][1-9])|10|20|30|31)\\d{3}[0-9Xx]\n",
    "# \"[1-8]\\d{5}(18|19|20|21)\\d{2}((0[1-9])|(1[0-2]))(([0-2][1-9])|10|20|30|31)\\d{3}[0-9Xx]$\"\n",
    "pattern = re.compile(\n",
    "    r\"[1-9]\\d{5}(?:18|19|(?:[23]\\d))\\d{2}(?:(?:0[1-9])|(?:10|11|12))(?:(?:[0-2][1-9])|10|20|30|31)\\d{3}[0-9Xx]\")\n",
    "strs = '小明的身份证号码是342623198910235163，手机号是13987692110'\n",
    "pattern.findall(strs)\n",
    "# print(re.compile(r\"(?:18|19|(?:[23]\\d))\").findall(strs))\n",
    "\n",
    "r = r'^([1-9]\\d{5}[12]\\d{3}(0[1-9]|1[012])(0[1-9]|[12][0-9]|3[01])\\d{3}[0-9xX])$'\n",
    "'^[1-8]\\d{5}(18|19|20|21)\\d{2}((0[1-9])|(1[0-2]))(([0-2][1-9])|10|20|30|31)\\d{3}[0-9Xx]$'\n",
    "re.findall(r, '350124198310131229')"
   ]
  },
  {
   "cell_type": "markdown",
   "metadata": {},
   "source": [
    "### 联系方式"
   ]
  },
  {
   "cell_type": "code",
   "execution_count": null,
   "metadata": {},
   "outputs": [],
   "source": [
    "# 国内手机号码:手机号都为11位，且以1开头，第二位一般为3、5、6、7、8、9 ，剩下八位任意数字\n",
    "# 表达式：1(3|4|5|6|7|8|9)\\d{9}\n",
    "pattern = re.compile(r\"1[356789]\\d{9}\")\n",
    "strs = '小明的手机号是13987692110，你明天打给他'\n",
    "pattern.findall(strs)"
   ]
  },
  {
   "cell_type": "code",
   "execution_count": null,
   "metadata": {},
   "outputs": [],
   "source": [
    "# 国内固定电话:区号3~4位，号码7~8位\n",
    "# 例如：0511-1234567、021-87654321\n",
    "# 表达式：\\d{3}-\\d{8}|\\d{4}-\\d{7}\n",
    "pattern = re.compile(r\"\\d{3}-\\d{8}|\\d{4}-\\d{7}\")\n",
    "strs = '0511-1234567是小明家的电话，他的办公室电话是021-87654321'\n",
    "pattern.findall(strs)"
   ]
  },
  {
   "cell_type": "markdown",
   "metadata": {},
   "source": [
    "### 域名"
   ]
  },
  {
   "cell_type": "code",
   "execution_count": null,
   "metadata": {},
   "outputs": [],
   "source": [
    "# 域名:包含http:\\\\或https:\\\\\n",
    "# 表达式：(?:(?:http:\\/\\/)|(?:https:\\/\\/))?(?:[\\w](?:[\\w\\-]{0,61}[\\w])?\\.)+[a-zA-Z]{2,6}(?:\\/)\n",
    "pattern = re.compile(r\"(?:(?:http:\\/\\/)|(?:https:\\/\\/))?(?:[\\w](?:[\\w\\-]{0,61}[\\w])?\\.)+[a-zA-Z]{2,6}(?:\\/)\")\n",
    "strs = 'Python官网的网址是https://www.python.org/'\n",
    "pattern.findall(strs)"
   ]
  },
  {
   "cell_type": "markdown",
   "metadata": {},
   "source": [
    "### IP地址"
   ]
  },
  {
   "cell_type": "code",
   "execution_count": null,
   "metadata": {
    "ExecuteTime": {
     "end_time": "2022-11-03T02:27:07.967717Z",
     "start_time": "2022-11-03T02:27:07.950365Z"
    }
   },
   "outputs": [],
   "source": [
    "# IP地址:IP地址的长度为32位(共有2^32个IP地址)，分为4段，每段8位，用十进制数字表示 每段数字范围为0～255，段与段之间用句点隔开　\n",
    "# 表达式： ((?:(?:25[0-5]|2[0-4]\\d|[01]?\\d?\\d)\\.){3}(?:25[0-5]|2[0-4]\\d|[01]?\\d?\\d))\n",
    "pattern = re.compile(r\"((?:(?:25[0-5]|2[0-4]\\d|[01]?\\d?\\d)\\.){3}(?:25[0-5]|2[0-4]\\d|[01]?\\d?\\d))\")\n",
    "strs = '''请输入合法IP地址，非法IP地址和其他字符将被过滤！  \n",
    "增、删、改IP地址后，请保存、关闭记事本！  \n",
    "192.168.8.84  \n",
    "192.168.8.85  \n",
    "192.168.8.86  \n",
    "0.0.0.1  \n",
    "256.1.1.1  \n",
    "192.256.256.256  \n",
    "192.255.255.255  \n",
    "aa.bb.cc.dd'''\n",
    "pattern.findall(strs)"
   ]
  },
  {
   "cell_type": "markdown",
   "metadata": {},
   "source": [
    "### 日期"
   ]
  },
  {
   "cell_type": "code",
   "execution_count": null,
   "metadata": {},
   "outputs": [],
   "source": [
    "# 日期:常见日期格式：yyyyMMdd、yyyy-MM-dd、yyyy/MM/dd、yyyy.MM.dd\n",
    "# 表达式：\\d{4}(?:-|\\/|.)\\d{1,2}(?:-|\\/|.)\\d{1,2}\n",
    "pattern = re.compile(r\"\\d{4}(?:-|\\/|.)\\d{1,2}(?:-|\\/|.)\\d{1,2}\")\n",
    "strs = '今天是2020/12/20，去年的今天是2019.12.20，明年的今天是2021-12-20'\n",
    "pattern.findall(strs)"
   ]
  },
  {
   "cell_type": "markdown",
   "metadata": {},
   "source": [
    "### 邮政编码"
   ]
  },
  {
   "cell_type": "code",
   "execution_count": null,
   "metadata": {},
   "outputs": [],
   "source": [
    "# 国内邮政编码:我国的邮政编码采用四级六位数编码结构. 前两位数字表示省（直辖市、自治区）,第三位数字表示邮区；第四位数字表示县（市）最后两位数字表示投递局（所）\n",
    "# 表达式： [1-9]\\d{5}(?!\\d)\n",
    "pattern = re.compile(r\"[1-9]\\d{5}(?!\\d)\")\n",
    "strs = '上海静安区邮编是200040'\n",
    "result = pattern.findall(strs)"
   ]
  },
  {
   "cell_type": "markdown",
   "metadata": {},
   "source": [
    "### 密码"
   ]
  },
  {
   "cell_type": "code",
   "execution_count": null,
   "metadata": {},
   "outputs": [],
   "source": [
    "# 密码:密码(以字母开头，长度在6~18之间，只能包含字母、数字和下划线)\n",
    "# 表达式：[a-zA-Z]\\w{5,17}\n",
    "# 强密码(以字母开头，必须包含大小写字母和数字的组合，不能使用特殊字符，长度在8-10之间)\n",
    "# 表达式：[a-zA-Z](?=.*\\d)(?=.*[a-z])(?=.*[A-Z]).{8,10}\n",
    "pattern = re.compile(r\"[a-zA-Z]\\w{5,17}\")\n",
    "strs = '密码：q123456_abc'\n",
    "result = pattern.findall(strs)\n",
    "print(result)\n",
    "pattern = re.compile(r\"[a-zA-Z](?=.*\\d)(?=.*[a-z])(?=.*[A-Z]).{8,10}\")\n",
    "strs = '强密码：q123456ABc，弱密码：q123456abc'\n",
    "result = pattern.findall(strs)"
   ]
  },
  {
   "cell_type": "code",
   "execution_count": null,
   "metadata": {},
   "outputs": [],
   "source": [
    "# 中文字符\n",
    "# 表达式：[\\u4e00-\\u9fa5]\n",
    "pattern = re.compile(r\"[\\u4e00-\\u9fa5]\")\n",
    "strs = 'apple：苹果'\n",
    "result = pattern.findall(strs)\n",
    "print(result)"
   ]
  },
  {
   "cell_type": "code",
   "execution_count": null,
   "metadata": {},
   "outputs": [],
   "source": [
    "# 数字\n",
    "# 验证数字：^[0-9]*$\n",
    "# 验证n位的数字：^\\d{n}$\n",
    "# 验证至少n位数字：^\\d{n,}$\n",
    "# 验证m-n位的数字：^\\d{m,n}$\n",
    "# 验证零和非零开头的数字：^(0|[1-9][0-9]*)$\n",
    "# 验证有两位小数的正实数：^[0-9]+(.[0-9]{2})?$\n",
    "# 验证有1-3位小数的正实数：^[0-9]+(.[0-9]{1,3})?$\n",
    "# 验证非零的正整数：^\\+?[1-9][0-9]*$\n",
    "# 验证非零的负整数：^\\-[1-9][0-9]*$\n",
    "# 验证非负整数（正整数 + 0） ^\\d+$\n",
    "# 验证非正整数（负整数 + 0） ^((-\\d+)|(0+))$\n",
    "# 整数：^-?\\d+$\n",
    "# 非负浮点数（正浮点数 + 0）：^\\d+(\\.\\d+)?$\n",
    "# 正浮点数 ^(([0-9]+\\.[0-9]*[1-9][0-9]*)|([0-9]*[1-9][0-9]*\\.[0-9]+)|([0-9]*[1-9][0-9]*))$\n",
    "# 非正浮点数（负浮点数 + 0） ^((-\\d+(\\.\\d+)?)|(0+(\\.0+)?))$\n",
    "# 负浮点数 ^(-(([0-9]+\\.[0-9]*[1-9][0-9]*)|([0-9]*[1-9][0-9]*\\.[0-9]+)|([0-9]*[1-9][0-9]*)))$\n",
    "# 浮点数 ^(-?\\d+)(\\.\\d+)?$"
   ]
  },
  {
   "cell_type": "code",
   "execution_count": null,
   "metadata": {},
   "outputs": [],
   "source": [
    "#  字符串\n",
    "#  英文和数字：^[A-Za-z0-9]+$ 或 ^[A-Za-z0-9]{4,40}$\n",
    "#  长度为3-20的所有字符：^.{3,20}$\n",
    "#  由26个英文字母组成的字符串：^[A-Za-z]+$\n",
    "#  由26个大写英文字母组成的字符串：^[A-Z]+$\n",
    "#  由26个小写英文字母组成的字符串：^[a-z]+$\n",
    "#  由数字和26个英文字母组成的字符串：^[A-Za-z0-9]+$\n",
    "#  由数字、26个英文字母或者下划线组成的字符串：^\\w+$ 或 ^\\w{3,20}$\n",
    "#  中文、英文、数字包括下划线：^[\\u4E00-\\u9FA5A-Za-z0-9_]+$\n",
    "#  中文、英文、数字但不包括下划线等符号：^[\\u4E00-\\u9FA5A-Za-z0-9]+$ 或 ^[\\u4E00-\\u9FA5A-Za-z0-9]{2,20}$\n",
    "#  可以输入含有^%&',;=?$\\”等字符：`[^%&',;=?$\\x22]+`\n",
    "#  禁止输入含有~的字符：[^~\\x22]+"
   ]
  },
  {
   "cell_type": "markdown",
   "metadata": {},
   "source": [
    "### 识别地址"
   ]
  },
  {
   "cell_type": "code",
   "execution_count": null,
   "metadata": {},
   "outputs": [],
   "source": [
    "# 识别地址\n",
    "content10 = '广州市黄埔县随官屯镇随东村520号aaaa'\n",
    "r'([\\u4e00-\\u9fa5]{2,5}?(?:省|自治区|市)){0,1}([\\u4e00-\\u9fa5]{2,7}?(?:区|县|州)){0,1}([\\u4e00-\\u9fa5]{2,7}?(?:镇)){0,1}([\\u4e00-\\u9fa5]{2,7}?(?:村|街|街道)){0,1}([\\d]{1,3}?(?:号)){0,1}'\n",
    "print(''.join(re.compile(\n",
    "    r'([\\u4e00-\\u9fa5]{2,5}?(?:省|自治区|市)){0,1}'\n",
    "    r'([\\u4e00-\\u9fa5]{1,7}?(?:区|县|州)){0,1}'\n",
    "    r'([\\u4e00-\\u9fa5]{1,7}?(?:镇)){0,1}'\n",
    "    r'([\\u4e00-\\u9fa5]{1,7}?(?:村|街|街道)){0,1}'\n",
    "    r'([\\d]{1,3}?(?:号)){0,1}'\n",
    ").findall(content10)[0]))"
   ]
  },
  {
   "cell_type": "code",
   "execution_count": null,
   "metadata": {},
   "outputs": [],
   "source": [
    "content10 = '12为34广州市黄埔县随官屯镇随东村520号aaaa'\n",
    "# print(''.join(re.compile(r\"(.*?)?市\").findall(content10)[0]))\n",
    "print(''.join(re.compile(\n",
    "    r\"([\\u4E00-\\u9FA5]{2,5}?(?:省|自治区|市))\"\n",
    "    r\"([\\u4e00-\\u9fa5]{1,7}?(?:区|县|州))\").findall(content10)[0]))\n",
    "print(''.join(re.compile(\n",
    "    r'([\\u4e00-\\u9fa5]{2,5}?(?:省|自治区|市)){0,1}'\n",
    "    r'([\\u4e00-\\u9fa5]{1,7}?(?:区|县|州)){0,1}'\n",
    "    r'([\\u4e00-\\u9fa5]{1,7}?(?:镇)){0,1}'\n",
    "    r'([\\u4e00-\\u9fa5]{1,7}?(?:村|街|街道)){0,1}'\n",
    "    r'([\\d]{1,3}?(?:号))'\n",
    ").findall(content10)[0]))"
   ]
  },
  {
   "cell_type": "markdown",
   "metadata": {},
   "source": [
    "### 信用代码\n",
    "\n",
    "`\"[0-9A-HJ-NPQRTUWXY]{2}\\d{6}[0-9A-HJ-NPQRTUWXY]{10}\"`\n",
    "\n",
    "18: `/[0-9A-HJ-NPQRTUWXY]{2}\\d{6}[0-9A-HJ-NPQRTUWXY]{10}/`\n",
    "\n",
    "15: `/[1-9]\\d{15}/`\n",
    "\n",
    "18+15: `/^([0-9A-HJ-NPQRTUWXY]{2}\\d{6}[0-9A-HJ-NPQRTUWXY]{10}|[1-9]\\d{14})$/`"
   ]
  },
  {
   "cell_type": "code",
   "execution_count": null,
   "metadata": {},
   "outputs": [],
   "source": [
    "re_ = \"91310230703404394L\"\n",
    "result = re.compile(r\"^([\\dA-HJ-NPQRTUWXY]{2}\\d{6}[\\dA-HJ-NPQRTUWXY]{10}|[1-9]\\d{14})$\").findall(re_)"
   ]
  },
  {
   "cell_type": "markdown",
   "metadata": {},
   "source": [
    "### 其他"
   ]
  },
  {
   "cell_type": "code",
   "execution_count": null,
   "metadata": {},
   "outputs": [],
   "source": [
    "import re\n",
    "\n",
    "pattern = 'P'\n",
    "string = 'Python'\n",
    "\n",
    "# re.match函数尝试从字符串的起始位置匹配一个模式，如果不是起始位置匹配成功的话，match()就返回none。\n",
    "re.match('匹配的正则表达式', '要匹配的字符串', flags=0)  # 标志位，用于控制正则表达式的匹配方式，如：是否区分大小写，多行匹配等等。\n",
    "\n",
    "# 使用group(num) 或 groups() 匹配对象函数来获取匹配表达式\n",
    "# group(num=0)\t匹配的整个表达式的字符串，group() 可以一次输入多个组号，在这种情况下它将返回一个包含那些组所对应值的元组。\n",
    "# groups()\t返回一个包含所有小组字符串的元组，从 1 到 所含的小组号。\n",
    "line = \"Cats are smarter than dogs\"\n",
    "\n",
    "matchObj = re.match(r'(.*) are (.*?) .*', line, re.M | re.I)\n",
    "\n",
    "if matchObj:\n",
    "    print(\"matchObj.group() : \", matchObj.group())\n",
    "    print(\"matchObj.group(1) : \", matchObj.group(1))\n",
    "    print(\"matchObj.group(2) : \", matchObj.group(2))\n",
    "else:\n",
    "    print(\"No match!!\")\n",
    "\n",
    "import re\n",
    "\n",
    "line = \"Cats are smarter than dogs\"\n",
    "\n",
    "searchObj = re.search(r'(.*) are (.*?) .*', line, re.M | re.I)\n",
    "\n",
    "if searchObj:\n",
    "    print(\"searchObj.group() : \", searchObj.group())\n",
    "    print(\"searchObj.group(1) : \", searchObj.group(1))\n",
    "    print(\"searchObj.group(2) : \", searchObj.group(2))\n",
    "else:\n",
    "    print(\"Nothing found!!\")\n",
    "\n",
    "line = \"Cats are smarter than dogs\"\n",
    "\n",
    "matchObj = re.match(r'dogs', line, re.M | re.I)\n",
    "if matchObj:\n",
    "    print(\"match --> matchObj.group() : \", matchObj.group())\n",
    "else:\n",
    "    print(\"No match!!\")\n",
    "\n",
    "matchObj = re.search(r'dogs', line, re.M | re.I)\n",
    "if matchObj:\n",
    "    print(\"search --> searchObj.group() : \", matchObj.group())\n",
    "else:\n",
    "    print(\"No match!!\")\n",
    "\n",
    "phone = \"2004-959-559 # 这是一个国外电话号码\"\n",
    "\n",
    "# 删除字符串中的 Python注释\n",
    "num = re.sub(r'#.*$', \"\", phone)\n",
    "print(\"电话号码是: \", num)\n",
    "\n",
    "# 删除非数字(-)的字符串\n",
    "num = re.sub(r'\\D', \"\", phone)\n",
    "print(\"电话号码是 : \", num)\n",
    "\n",
    "\n",
    "# 将匹配的数字乘以 2\n",
    "def double(matched):\n",
    "    value = int(matched.group('value'))\n",
    "    return str(value * 2)\n",
    "\n",
    "\n",
    "s = 'A23G4HFD567'\n",
    "print(re.sub('(?P<value>\\d+)', double, s))\n",
    "\n",
    "pattern = re.compile(r'\\d+')  # 用于匹配至少一个数字\n",
    "m = pattern.match('one12twothree34four')  # 查找头部，没有匹配\n",
    "print(m)\n",
    "m = pattern.match('one12twothree34four', 2, 10)  # 从'e'的位置开始匹配，没有匹配\n",
    "print(m)\n",
    "m = pattern.match('one12twothree34four', 3, 10)  # 从'1'的位置开始匹配，正好匹配\n",
    "print(m)  # 返回一个 Match 对象\n",
    "m.group(0)  # 可省略 0\n",
    "m.start(0)  # 可省略 0\n",
    "m.end(0)  # 可省略 0\n",
    "m.span(0)  # 可省略 0\n",
    "\n",
    "pattern = re.compile(r'([a-z]+) ([a-z]+)', re.I)  # re.I 表示忽略大小写\n",
    "m = pattern.match('Hello World Wide Web')\n",
    "print(m)  # 匹配成功，返回一个 Match 对象\n",
    "m.group(0)  # 返回匹配成功的整个子串\n",
    "m.span(0)  # 返回匹配成功的整个子串的索引\n",
    "m.group(1)  # 返回第一个分组匹配成功的子串\n",
    "m.span(1)  # 返回第一个分组匹配成功的子串的索引\n",
    "m.group(2)  # 返回第二个分组匹配成功的子串\n",
    "m.span(2)  # 返回第二个分组匹配成功的子串\n",
    "m.groups()  # 等价于 (m.group(1), m.group(2), ...)\n",
    "m.group(3)  # 不存在第三个分组\n",
    "\n",
    "re.split('\\W+', 'runoob, runoob, runoob.')\n",
    "re.split('(\\W+)', ' runoob, runoob, runoob.')\n",
    "re.split('\\W+', ' runoob, runoob, runoob.', 1)\n",
    "re.split('a*', 'hello world')  # 对于一个找不到匹配的字符串而言，split 不会对其作出分割"
   ]
  },
  {
   "cell_type": "markdown",
   "metadata": {},
   "source": [
    "## 可执行字符串"
   ]
  },
  {
   "cell_type": "markdown",
   "metadata": {},
   "source": [
    "### eval"
   ]
  },
  {
   "cell_type": "markdown",
   "metadata": {
    "ExecuteTime": {
     "end_time": "2022-11-07T12:56:34.773231Z",
     "start_time": "2022-11-07T12:56:34.436471Z"
    }
   },
   "source": [
    "eval(expression, globals, locals) 如上所示，eval函数采用三个参数：expression –需要一个字符串，该字符串将被解析并评估为Python表达式globals（可选）–一个字典，用于指定可用的全局方法和变量。locals（可选）-另一个字典，用于指定可用的本地方法和变量。"
   ]
  },
  {
   "cell_type": "code",
   "execution_count": null,
   "metadata": {
    "ExecuteTime": {
     "end_time": "2022-11-07T13:09:01.818839Z",
     "start_time": "2022-11-07T13:09:01.812286Z"
    }
   },
   "outputs": [],
   "source": [
    "num = \"23\"\n",
    "print(eval(num), type(eval(num)))"
   ]
  },
  {
   "cell_type": "code",
   "execution_count": null,
   "metadata": {
    "ExecuteTime": {
     "end_time": "2022-11-07T13:10:07.429750Z",
     "start_time": "2022-11-07T13:10:07.408250Z"
    }
   },
   "outputs": [],
   "source": [
    "expr = \"(2+(3 * 2))/2\"\n",
    "eval(expr)"
   ]
  },
  {
   "cell_type": "code",
   "execution_count": null,
   "metadata": {
    "ExecuteTime": {
     "end_time": "2022-11-07T13:10:46.844410Z",
     "start_time": "2022-11-07T13:10:46.836214Z"
    }
   },
   "outputs": [],
   "source": [
    "num = 10\n",
    "expr = \"(2+(3*2))/2 + num\"\n",
    "eval(expr)"
   ]
  },
  {
   "cell_type": "markdown",
   "metadata": {},
   "source": [
    "在字符串内部使用内置函数"
   ]
  },
  {
   "cell_type": "code",
   "execution_count": null,
   "metadata": {
    "ExecuteTime": {
     "end_time": "2022-11-07T13:11:54.683963Z",
     "start_time": "2022-11-07T13:11:54.673120Z"
    }
   },
   "outputs": [],
   "source": [
    "eval(\"sum([8, 16, 34])\")"
   ]
  },
  {
   "cell_type": "code",
   "execution_count": null,
   "metadata": {
    "ExecuteTime": {
     "end_time": "2022-11-07T13:12:42.926246Z",
     "start_time": "2022-11-07T13:12:42.918349Z"
    }
   },
   "outputs": [],
   "source": [
    "eval(\"divmod(1, 3)\")  # Return the tuple (x//y, x%y)"
   ]
  },
  {
   "cell_type": "code",
   "execution_count": null,
   "metadata": {
    "ExecuteTime": {
     "end_time": "2022-11-07T13:13:46.376691Z",
     "start_time": "2022-11-07T13:13:46.360651Z"
    }
   },
   "outputs": [],
   "source": [
    "# 第一个eval函数只是返回字符串中的表达式，但是在另一个eval函数中使用eval时，得到了表达式的答案。\n",
    "expr = \"'2+3'\"\n",
    "eval(expr)\n",
    "eval(eval(expr))"
   ]
  },
  {
   "cell_type": "markdown",
   "metadata": {},
   "source": [
    "全局变量是当前全局范围或命名空间中可用的对象。您可以从代码中的任何位置访问它们。当我们向全局变量提供自定义词典时，它包含键`__builtins__`的值，但如果不包含该值，则在解析表达式之前，将自动在`__builtins__`下插入对内置字典的引用。这样可以确保eval()函数在评估表达式时将完全访问所有Python的内置名称。"
   ]
  },
  {
   "cell_type": "code",
   "execution_count": null,
   "metadata": {
    "ExecuteTime": {
     "end_time": "2022-11-07T14:51:22.363163Z",
     "start_time": "2022-11-07T14:51:22.329730Z"
    },
    "scrolled": true
   },
   "outputs": [],
   "source": [
    "a = 2\n",
    "# eval(\"sum([2, 2, 2])\", {})\n",
    "# eval(\"sum([a, 2, 2])\", {})  # 传入空变量，找不到变量a :NameError: name 'a' is not defined\n",
    "# eval(\"sum([a, 2, 2])\", {}, {\"a\": 2})\n",
    "# eval(\"abs(-1)\", {\"__builtins__\": None},{\"abs\":abs, \"sum\":sum})\n",
    "eval(\"sum([a, 2, 2])\", {\"__builtins__\": None},{\"abs\":abs, \"sum\":sum, \"a\": 2})"
   ]
  },
  {
   "cell_type": "code",
   "execution_count": null,
   "metadata": {
    "ExecuteTime": {
     "end_time": "2022-11-07T16:49:13.953072Z",
     "start_time": "2022-11-07T16:49:13.942856Z"
    }
   },
   "outputs": [],
   "source": [
    "from decimal import Decimal\n",
    "\n",
    "a = eval(\"Decimal('0.1')\", {}, {\"Decimal\": Decimal})\n",
    "b = eval(\"Decimal('0.2')\",{}, {\"Decimal\": Decimal})\n",
    "eval(\"a+b\", {}, {\"a\": a, \"b\": b})"
   ]
  },
  {
   "cell_type": "code",
   "execution_count": null,
   "metadata": {
    "ExecuteTime": {
     "end_time": "2022-11-07T16:49:32.630427Z",
     "start_time": "2022-11-07T16:49:32.618736Z"
    }
   },
   "outputs": [],
   "source": [
    "eval(\"\"\"Decimal('0.1')+Decimal('0.1')\"\"\", {}, {\"Decimal\": Decimal})"
   ]
  },
  {
   "cell_type": "markdown",
   "metadata": {},
   "source": [
    "### exec"
   ]
  },
  {
   "cell_type": "markdown",
   "metadata": {},
   "source": [
    "### ast"
   ]
  },
  {
   "cell_type": "code",
   "execution_count": null,
   "metadata": {},
   "outputs": [],
   "source": [
    "import ast"
   ]
  },
  {
   "cell_type": "markdown",
   "metadata": {},
   "source": [
    "## literal_eval"
   ]
  },
  {
   "cell_type": "markdown",
   "metadata": {},
   "source": [
    "判断需要计算的内容计算后是不是合法的Python类型，如果是则进行运算，否则就不进行运算。场景：字符串类型转换"
   ]
  },
  {
   "cell_type": "code",
   "execution_count": null,
   "metadata": {
    "ExecuteTime": {
     "end_time": "2022-11-07T16:28:02.132415Z",
     "start_time": "2022-11-07T16:28:02.071671Z"
    }
   },
   "outputs": [],
   "source": [
    "ast.literal_eval('1+1')  # 不合法的操作"
   ]
  },
  {
   "cell_type": "code",
   "execution_count": null,
   "metadata": {
    "ExecuteTime": {
     "end_time": "2022-11-07T16:32:58.935602Z",
     "start_time": "2022-11-07T16:32:58.919006Z"
    }
   },
   "outputs": [],
   "source": [
    "ast.literal_eval(\"\"\"{\"key0\": \"value0\", \"key1\": \"value1\"}\"\"\")  # 合法的操作"
   ]
  },
  {
   "cell_type": "markdown",
   "metadata": {},
   "source": [
    "## endswith"
   ]
  },
  {
   "cell_type": "markdown",
   "metadata": {},
   "source": [
    "用于判断字符串是否以指定后缀结尾，如果以指定后缀结尾返回True，否则返回False。可选参数\"start\"与\"end\"为检索字符串的开始与结束位置。\n",
    "endswith 里面的 start 表示搜索指定 str/list 等的开始位置，默认是 0，即从第一个元素开始搜索，end 默认是字符串/列表等的长度，表示结束搜索的位置。\n",
    "str.endswith(suffix[, start[, end]])\n",
    "\n",
    "suffix -- 该参数可以是一个字符串或者是一个元素。\n",
    "start -- 字符串中的开始位置。\n",
    "end -- 字符中结束位置。\n",
    "\n",
    "如果字符串含有指定的后缀返回True，否则返回False。"
   ]
  },
  {
   "cell_type": "code",
   "execution_count": null,
   "metadata": {},
   "outputs": [],
   "source": [
    "str = \"this is string example....wow!!!\"\n",
    "# 这是区分大小写的，如果是Wow!!!则是False\n",
    "suffix = \"wow!!!\"\n",
    "print(str.endswith(suffix))\n",
    "# 这里不用从20开始，从10也是True，因为wow是在它们之后才出现\n",
    "print(str.endswith(suffix, 10))\n",
    "\n",
    "suffix = \"is\"\n",
    "print(str.endswith(suffix, 1, 4))\n",
    "print(str.endswith(suffix, 1, 6))"
   ]
  },
  {
   "cell_type": "markdown",
   "metadata": {
    "id": "jtffbygl8djr"
   },
   "source": [
    "# list"
   ]
  },
  {
   "cell_type": "markdown",
   "metadata": {
    "id": "xi39mZpQ-x0E"
   },
   "source": [
    "导入所需包"
   ]
  },
  {
   "cell_type": "code",
   "execution_count": null,
   "metadata": {
    "id": "tlR5GsZS-zxN"
   },
   "outputs": [],
   "source": [
    "import random"
   ]
  },
  {
   "cell_type": "markdown",
   "metadata": {
    "id": "K5tPlIuJ-QOu"
   },
   "source": [
    "测试列表数据"
   ]
  },
  {
   "cell_type": "code",
   "execution_count": null,
   "metadata": {
    "id": "NuKhcOYA-ORD"
   },
   "outputs": [],
   "source": [
    "aList = ['123', 'Google', 'Run', 'Taobao', 'Facebook']\n",
    "vowels = ['e', 'a', 'u', 'o', 'i']\n",
    "random_str = [(random.randint(1, 99), random.randint(1, 99)), (random.randint(1, 99), random.randint(1, 99)), (random.randint(1, 99), random.randint(1, 99)), (random.randint(1, 99), random.randint(1, 99))]\n",
    "student_tuples = [\n",
    "        ('john', 'A', 15),\n",
    "        ('jane', 'B', 12),\n",
    "        ('dave', 'B', 10),\n",
    "]"
   ]
  },
  {
   "cell_type": "code",
   "execution_count": null,
   "metadata": {
    "id": "YRlvdPPNDwIR"
   },
   "outputs": [],
   "source": [
    "class Student:\n",
    "    def __init__(self, name, grade, age):\n",
    "        self.name = name\n",
    "        self.grade = grade\n",
    "        self.age = age\n",
    "\n",
    "    def __repr__(self):\n",
    "        return repr((self.name, self.grade, self.age))\n",
    "\n",
    "student_objects = [\n",
    "        Student('john', 'A', 15),\n",
    "        Student('jane', 'B', 12),\n",
    "        Student('dave', 'B', 10),\n",
    "]"
   ]
  },
  {
   "cell_type": "markdown",
   "metadata": {
    "id": "WE06rbef8jRH"
   },
   "source": [
    "## 列表去除空字符串"
   ]
  },
  {
   "cell_type": "code",
   "execution_count": null,
   "metadata": {
    "colab": {
     "base_uri": "https://localhost:8080/"
    },
    "id": "SuVaD7JT9mm1",
    "outputId": "9402a9de-6581-45ec-fc82-ec9a4c2291f3"
   },
   "outputs": [],
   "source": [
    "list(filter(None, ['q', '', ' ', '  ', '2e', None]))"
   ]
  },
  {
   "cell_type": "markdown",
   "metadata": {
    "id": "3mBd5rLD9ray"
   },
   "source": [
    "## 排序"
   ]
  },
  {
   "cell_type": "markdown",
   "metadata": {
    "id": "MchF6Wnv-LHR"
   },
   "source": [
    "sort() 函数用于对原列表进行排序，如果指定参数，则使用比较函数指定的比较函数。该方法没有返回值，但是会对列表的对象进行排序。\n",
    "\n",
    "cmp -- 可选参数, 如果指定了该参数会使用该参数的方法进行排序。\n",
    "\n",
    "key -- 主要是用来进行比较的元素，只有一个参数，具体的函数的参数就是取自于可迭代对象中，指定可迭代对象中的一个元素来进行排序。\n",
    "\n",
    "reverse -- 排序规则，reverse = True 降序， reverse = False 升序（默认）。"
   ]
  },
  {
   "cell_type": "code",
   "execution_count": null,
   "metadata": {
    "id": "IRWOX8TU-LzZ"
   },
   "outputs": [],
   "source": [
    "vowels.sort(reverse=True)  # 降序\n",
    "aList.sort()"
   ]
  },
  {
   "cell_type": "code",
   "execution_count": null,
   "metadata": {
    "id": "YVwOXTvBBOkA"
   },
   "outputs": [],
   "source": [
    "# 获取列表的第二个元素\n",
    "def takeSecond(elem):\n",
    "    return elem[1]"
   ]
  },
  {
   "cell_type": "code",
   "execution_count": null,
   "metadata": {
    "colab": {
     "base_uri": "https://localhost:8080/"
    },
    "id": "VN17yGdFBBNs",
    "outputId": "7c7f92b9-1934-494c-9f6e-4eb34023ad55"
   },
   "outputs": [],
   "source": [
    "sorted(\"This is a test string from Andrew\".split(), key=str.lower)"
   ]
  },
  {
   "cell_type": "code",
   "execution_count": null,
   "metadata": {
    "id": "ALOgUctu_V6O"
   },
   "outputs": [],
   "source": [
    "random_str.sort(key=takeSecond)  # cmp排序"
   ]
  },
  {
   "cell_type": "markdown",
   "metadata": {
    "id": "luYH37qU_qk9"
   },
   "source": [
    "python内置的全局sorted()方法来对可迭代的序列排序生成新的序列"
   ]
  },
  {
   "cell_type": "code",
   "execution_count": null,
   "metadata": {
    "colab": {
     "base_uri": "https://localhost:8080/"
    },
    "id": "vM4FC8Va_rDu",
    "outputId": "1f8ee043-8d4a-453a-8b3e-ded9eab82151"
   },
   "outputs": [],
   "source": [
    "sorted(student_tuples, key=lambda age: age[2])   # sort by age"
   ]
  },
  {
   "cell_type": "markdown",
   "metadata": {
    "id": "wKl__TXFCyLT"
   },
   "source": [
    "Operator 模块函数"
   ]
  },
  {
   "cell_type": "code",
   "execution_count": null,
   "metadata": {
    "id": "7yBUeESfCysP"
   },
   "outputs": [],
   "source": [
    "from operator import itemgetter, attrgetter"
   ]
  },
  {
   "cell_type": "code",
   "execution_count": null,
   "metadata": {
    "colab": {
     "base_uri": "https://localhost:8080/"
    },
    "id": "qwI1WUKfC6Cy",
    "outputId": "f3bd7b6b-8807-4b78-a187-3fb31d2f99cd"
   },
   "outputs": [],
   "source": [
    "sorted(student_tuples, key=itemgetter(2))"
   ]
  },
  {
   "cell_type": "code",
   "execution_count": null,
   "metadata": {
    "colab": {
     "base_uri": "https://localhost:8080/"
    },
    "id": "XjIxQ4ZGC_Fw",
    "outputId": "f3d42edb-c8ba-4141-8f15-ee3d49bfc62b"
   },
   "outputs": [],
   "source": [
    "sorted(student_objects, key=attrgetter('age'))"
   ]
  },
  {
   "cell_type": "code",
   "execution_count": null,
   "metadata": {
    "colab": {
     "base_uri": "https://localhost:8080/"
    },
    "id": "o1E9QwALFS-B",
    "outputId": "8e83a970-a186-41bb-ce51-6010358a0067"
   },
   "outputs": [],
   "source": [
    "sorted(student_tuples, key=itemgetter(1,2))"
   ]
  },
  {
   "cell_type": "code",
   "execution_count": null,
   "metadata": {
    "colab": {
     "base_uri": "https://localhost:8080/"
    },
    "id": "hum2grMoFWBA",
    "outputId": "7dc6288b-fce8-48d4-a6a3-6b7168f7409b"
   },
   "outputs": [],
   "source": [
    "sorted(student_objects, key=attrgetter('grade', 'age'))"
   ]
  },
  {
   "cell_type": "code",
   "execution_count": null,
   "metadata": {
    "colab": {
     "base_uri": "https://localhost:8080/"
    },
    "id": "pnpJfpS3Fgkp",
    "outputId": "04c77bae-31c4-4d88-ca74-fca9dccbf10f"
   },
   "outputs": [],
   "source": [
    "sorted(student_tuples, key=itemgetter(2), reverse=True)"
   ]
  },
  {
   "cell_type": "code",
   "execution_count": null,
   "metadata": {
    "colab": {
     "base_uri": "https://localhost:8080/"
    },
    "id": "P1BLabWAFiSq",
    "outputId": "61b3ee10-7bbc-4ee9-841c-187a2cc49e38"
   },
   "outputs": [],
   "source": [
    "sorted(student_objects, key=attrgetter('age'), reverse=True)"
   ]
  },
  {
   "cell_type": "code",
   "execution_count": null,
   "metadata": {
    "code_folding": []
   },
   "outputs": [],
   "source": [
    "## 列表内元素出现重复次数"
   ]
  },
  {
   "cell_type": "code",
   "execution_count": null,
   "metadata": {
    "ExecuteTime": {
     "end_time": "2022-11-03T05:35:13.016607Z",
     "start_time": "2022-11-03T05:35:13.005339Z"
    }
   },
   "outputs": [],
   "source": [
    "arr = [3,5,2,7,3,8,1,2,4,8,9,3]\n",
    "unique = set(arr)\n",
    "m = map(arr.count, unique)\n",
    "z = zip(unique, m)\n",
    "f = filter(lambda x:x[0]==x[1], z)\n",
    "s = sorted(f, key=lambda x:x[0])\n",
    "# print('幸运数是：', [item[0] for item in s])\n",
    "# 别人的\n",
    "[item[0] for item in sorted(filter(lambda x:x[0]==x[1], zip(set(arr), map(arr.count, set(arr)))), key=lambda x:x[0])]\n",
    "# 总结 -我的"
   ]
  },
  {
   "cell_type": "code",
   "execution_count": null,
   "metadata": {
    "ExecuteTime": {
     "end_time": "2022-11-03T05:40:53.417217Z",
     "start_time": "2022-11-03T05:40:53.410197Z"
    }
   },
   "outputs": [],
   "source": [
    "arr = [3, 5, 2, 7, 3, 8, 1, 2, 4, 8, 9, 3]\n",
    "unique = set(arr)\n",
    "sorted(map(lambda x: x[0], filter(lambda x: x[0] == x[1], zip(unique, map(arr.count, unique)))))\n",
    "del unique, arr"
   ]
  },
  {
   "cell_type": "markdown",
   "metadata": {},
   "source": [
    "## enumerate"
   ]
  },
  {
   "cell_type": "code",
   "execution_count": null,
   "metadata": {
    "ExecuteTime": {
     "end_time": "2022-11-07T16:10:11.303388Z",
     "start_time": "2022-11-07T16:10:11.300209Z"
    }
   },
   "outputs": [],
   "source": [
    "enumerate([1, 2, 3, 4, 5])  # 同时获取序列迭代的索引和值"
   ]
  },
  {
   "cell_type": "code",
   "execution_count": null,
   "metadata": {
    "ExecuteTime": {
     "end_time": "2022-11-07T16:10:43.915418Z",
     "start_time": "2022-11-07T16:10:43.905819Z"
    }
   },
   "outputs": [],
   "source": [
    "zip([1], [2])"
   ]
  },
  {
   "cell_type": "markdown",
   "metadata": {},
   "source": [
    "# 类"
   ]
  },
  {
   "cell_type": "markdown",
   "metadata": {},
   "source": [
    "在 python 中有两种对象：类型（类，新的版本中类和类型是一样的）对象：可以被实例化和继承。非类型（实例）对象：不可以被实例和继承\n",
    "\n",
    "python 中一切皆为对象：int整形是对象，整数2也是对象，你定义的函数啊，类啊都是对象，你定义的变量也是对象。总之，你在python里能用到的都可以称之为对象。\n",
    "\n",
    "面向对象体系中的两种关系：\n",
    "\n",
    "父子关系：通常描述为“子类是一种父类”\n",
    "\n",
    "类型实例关系：这种关系存在于两个对象中，其中一个对象（实例）是另一个对象（类型）的具体实现。\n",
    "\n",
    "一个python对象可能拥有两个属性，`__class__` 和 `__bases__`，`__class__` 表示这个对象是谁创建的，`__bases__` 表示一个类的父类是谁们。`__class__`和`type()`函数效果一样。\n",
    "\n",
    "type为对象的顶点，所有对象都创建自type。object为类继承的顶点，所有类都继承自object。"
   ]
  },
  {
   "cell_type": "code",
   "execution_count": null,
   "metadata": {
    "ExecuteTime": {
     "end_time": "2022-11-07T18:25:48.137348Z",
     "start_time": "2022-11-07T18:25:48.131109Z"
    }
   },
   "outputs": [],
   "source": [
    "class MyClass:\n",
    "    pass"
   ]
  },
  {
   "cell_type": "code",
   "execution_count": null,
   "metadata": {
    "ExecuteTime": {
     "end_time": "2022-11-07T18:25:49.499300Z",
     "start_time": "2022-11-07T18:25:49.483490Z"
    }
   },
   "outputs": [],
   "source": [
    "MyClass.__class__"
   ]
  },
  {
   "cell_type": "code",
   "execution_count": null,
   "metadata": {
    "ExecuteTime": {
     "end_time": "2022-11-07T18:25:50.356020Z",
     "start_time": "2022-11-07T18:25:50.341907Z"
    }
   },
   "outputs": [],
   "source": [
    "MyClass.__bases__"
   ]
  },
  {
   "cell_type": "code",
   "execution_count": null,
   "metadata": {
    "ExecuteTime": {
     "end_time": "2022-11-07T18:25:51.402856Z",
     "start_time": "2022-11-07T18:25:51.384237Z"
    }
   },
   "outputs": [],
   "source": [
    "int.__class__"
   ]
  },
  {
   "cell_type": "code",
   "execution_count": null,
   "metadata": {
    "ExecuteTime": {
     "end_time": "2022-11-07T18:25:52.174193Z",
     "start_time": "2022-11-07T18:25:52.163643Z"
    }
   },
   "outputs": [],
   "source": [
    "int.__bases__"
   ]
  },
  {
   "cell_type": "code",
   "execution_count": null,
   "metadata": {
    "ExecuteTime": {
     "end_time": "2022-11-07T18:25:52.926307Z",
     "start_time": "2022-11-07T18:25:52.911429Z"
    }
   },
   "outputs": [],
   "source": [
    "object.__class__  # object是type的实例，object创建自type"
   ]
  },
  {
   "cell_type": "code",
   "execution_count": null,
   "metadata": {
    "ExecuteTime": {
     "end_time": "2022-11-07T18:25:53.523509Z",
     "start_time": "2022-11-07T18:25:53.511815Z"
    }
   },
   "outputs": [],
   "source": [
    "object.__bases__  # object没有超类，它本身是所以对象的超类"
   ]
  },
  {
   "cell_type": "code",
   "execution_count": null,
   "metadata": {
    "ExecuteTime": {
     "end_time": "2022-11-07T18:25:57.503278Z",
     "start_time": "2022-11-07T18:25:57.483551Z"
    }
   },
   "outputs": [],
   "source": [
    "type.__class__  # type创建自本身"
   ]
  },
  {
   "cell_type": "code",
   "execution_count": null,
   "metadata": {
    "ExecuteTime": {
     "end_time": "2022-11-07T18:25:58.258018Z",
     "start_time": "2022-11-07T18:25:58.239769Z"
    }
   },
   "outputs": [],
   "source": [
    "type.__bases__  # type继承自object，即object是type的超类"
   ]
  },
  {
   "cell_type": "markdown",
   "metadata": {},
   "source": [
    "元类、类、实例\n",
    "\n",
    "object是所有类的超类，而且type也是继承自object；所有对象创建自type，而且object也是type的实例。\n",
    "“type是object的类型，同时，object又是type的超类”，那到底是先有object还是先有type呢？这就像“先有鸡还是先有蛋问题”。\n",
    "object和type是python中的两个源对象，事实上，它们是互相依赖对方来定义，所以它们不能分开而论。\n",
    "通过这两个源对象可以繁育出一堆对象：list、tuple、dict等。元类就是这些类的类，这些类是元类的实例。"
   ]
  },
  {
   "cell_type": "code",
   "execution_count": null,
   "metadata": {
    "ExecuteTime": {
     "end_time": "2022-11-07T18:28:33.985951Z",
     "start_time": "2022-11-07T18:28:33.979847Z"
    }
   },
   "outputs": [],
   "source": [
    "l1 = list()"
   ]
  },
  {
   "cell_type": "code",
   "execution_count": null,
   "metadata": {
    "ExecuteTime": {
     "end_time": "2022-11-07T18:28:01.763175Z",
     "start_time": "2022-11-07T18:28:01.750003Z"
    }
   },
   "outputs": [],
   "source": [
    "l1.__class__  # l是list的实例"
   ]
  },
  {
   "cell_type": "code",
   "execution_count": null,
   "metadata": {
    "ExecuteTime": {
     "end_time": "2022-11-07T18:28:03.328238Z",
     "start_time": "2022-11-07T18:28:03.318923Z"
    }
   },
   "outputs": [],
   "source": [
    "list.__class__  # list是type的实例"
   ]
  },
  {
   "cell_type": "code",
   "execution_count": null,
   "metadata": {
    "ExecuteTime": {
     "end_time": "2022-11-07T18:28:04.152194Z",
     "start_time": "2022-11-07T18:28:04.129650Z"
    }
   },
   "outputs": [],
   "source": [
    "l1.__bases__  # 实例没有超类"
   ]
  },
  {
   "cell_type": "code",
   "execution_count": null,
   "metadata": {
    "ExecuteTime": {
     "end_time": "2022-11-07T18:28:04.863757Z",
     "start_time": "2022-11-07T18:28:04.850646Z"
    }
   },
   "outputs": [],
   "source": [
    "list.__bases__"
   ]
  },
  {
   "cell_type": "code",
   "execution_count": null,
   "metadata": {
    "ExecuteTime": {
     "end_time": "2022-11-07T18:28:38.249956Z",
     "start_time": "2022-11-07T18:28:38.240677Z"
    }
   },
   "outputs": [],
   "source": [
    "l2 = []  # l1是利用\"类型名()\"的方式创建实例，l2是利用python内置类型创造实例，比l1的创建速度要快"
   ]
  },
  {
   "cell_type": "markdown",
   "metadata": {},
   "source": [
    "## metaclass"
   ]
  },
  {
   "cell_type": "markdown",
   "metadata": {},
   "source": [
    "type--“造物的上帝”就像str是用来创建字符串对象的类，int是用来创建整数对象的类，而type就是创建类对象的类。\n",
    "\n",
    "类本身不过是一个名为 type 类的实例。在 Python的类型世界里，type这个类就是造物的上帝。\n",
    "\n",
    "用户自定义类，只不过是type类的__call__运算符的重载。当我们定义一个类的语句结束时，\n",
    "\n",
    "真正发生的情况，是 Python 调用 type 的__call__运算符。简单来说，当你定义一个类时，写成下面时："
   ]
  },
  {
   "cell_type": "code",
   "execution_count": 105,
   "metadata": {
    "ExecuteTime": {
     "end_time": "2022-11-08T07:58:08.812786Z",
     "start_time": "2022-11-08T07:58:08.806182Z"
    }
   },
   "outputs": [
    {
     "name": "stdout",
     "output_type": "stream",
     "text": [
      "<class 'type'>\n",
      "<class 'type'>\n",
      "<class 'type'>\n",
      "<class 'type'>\n",
      "<class 'type'>\n"
     ]
    }
   ],
   "source": [
    "for t in int, float, dict, list, tuple:\n",
    "    print(type(t))"
   ]
  },
  {
   "cell_type": "code",
   "execution_count": null,
   "metadata": {},
   "outputs": [],
   "source": [
    "class MyClass:\n",
    "  data = 1"
   ]
  },
  {
   "cell_type": "code",
   "execution_count": null,
   "metadata": {},
   "outputs": [],
   "source": [
    "# Python 真正执行的是下面这段代码：\n",
    "class = type(classname, superclasses, attributedict)\n",
    "# 这里等号右边的type(classname, superclasses, attributedict)，就是 type 的__call__运算符重载，它会进一步调用\n",
    "type.__new__(typeclass, classname, superclasses, attributedict)\n",
    "type.__init__(class, classname, superclasses, attributedict)"
   ]
  },
  {
   "cell_type": "markdown",
   "metadata": {},
   "source": [
    "这一切都可以通过代码验证："
   ]
  },
  {
   "cell_type": "code",
   "execution_count": 81,
   "metadata": {
    "ExecuteTime": {
     "end_time": "2022-11-08T06:08:27.472305Z",
     "start_time": "2022-11-08T06:08:27.465112Z"
    }
   },
   "outputs": [],
   "source": [
    "class MyClass:\n",
    "    data = 1"
   ]
  },
  {
   "cell_type": "code",
   "execution_count": 82,
   "metadata": {
    "ExecuteTime": {
     "end_time": "2022-11-08T06:08:34.016727Z",
     "start_time": "2022-11-08T06:08:34.004816Z"
    }
   },
   "outputs": [
    {
     "data": {
      "text/plain": [
       "(__main__.MyClass, <__main__.MyClass at 0x7f84b1e12c80>)"
      ]
     },
     "execution_count": 82,
     "metadata": {},
     "output_type": "execute_result"
    }
   ],
   "source": [
    "instance = MyClass()\n",
    "MyClass, instance"
   ]
  },
  {
   "cell_type": "code",
   "execution_count": 83,
   "metadata": {
    "ExecuteTime": {
     "end_time": "2022-11-08T06:08:50.685455Z",
     "start_time": "2022-11-08T06:08:50.677836Z"
    }
   },
   "outputs": [
    {
     "data": {
      "text/plain": [
       "(__main__.MyClass, <__main__.MyClass at 0x7f84b1e121a0>)"
      ]
     },
     "execution_count": 83,
     "metadata": {},
     "output_type": "execute_result"
    }
   ],
   "source": [
    "MyClass = type('MyClass', (), {'data': 1})\n",
    "instance = MyClass()\n",
    "MyClass, instance"
   ]
  },
  {
   "cell_type": "code",
   "execution_count": 84,
   "metadata": {
    "ExecuteTime": {
     "end_time": "2022-11-08T06:08:56.941103Z",
     "start_time": "2022-11-08T06:08:56.930238Z"
    }
   },
   "outputs": [
    {
     "data": {
      "text/plain": [
       "1"
      ]
     },
     "execution_count": 84,
     "metadata": {},
     "output_type": "execute_result"
    }
   ],
   "source": [
    "instance.data"
   ]
  },
  {
   "cell_type": "markdown",
   "metadata": {},
   "source": [
    "由此可见，正常的 MyClass 定义，和手工去调用 type运算符的结果是一样的。"
   ]
  },
  {
   "cell_type": "markdown",
   "metadata": {},
   "source": [
    "### metaclass属性"
   ]
  },
  {
   "cell_type": "markdown",
   "metadata": {},
   "source": [
    "metaclass 是 type 的子类，通过替换 type的__call__运算符重载机制，“超越变形”正常的类。\n",
    "\n",
    "其实，理解了以上几点，我们就会明白，正是 Python 的类创建机制，给了 metaclass 大展身手的机会。\n",
    "\n",
    "一旦你把一个类型 MyClass 的 metaclass 设置成 MyMeta，MyClass 就不再由原生的 type创建，而是会调用 MyMeta 的__call__运算符重载。\n",
    "\n",
    "class = type(classname, superclasses, attributedict) \n",
    "\n",
    "变为了\n",
    "\n",
    "class = MyMeta(classname, superclasses, attributedict)"
   ]
  },
  {
   "cell_type": "code",
   "execution_count": 87,
   "metadata": {
    "ExecuteTime": {
     "end_time": "2022-11-08T06:17:03.001620Z",
     "start_time": "2022-11-08T06:17:02.983832Z"
    }
   },
   "outputs": [
    {
     "name": "stdout",
     "output_type": "stream",
     "text": [
      "MyMeta.__new__: MyMeta\n",
      "===>MyMeta.__init__: Foo {'__module__': '__main__', '__qualname__': 'Foo', 'tag': '!Foo', '__new__': <function Foo.__new__ at 0x7f84c0a18c10>, '__init__': <function Foo.__init__ at 0x7f84c0a184c0>, '__classcell__': <cell at 0x7f84a0cec970: MyMeta object at 0x7f847f2101f0>} !Foo-end\n",
      "===>MyMeta.__call__\n",
      "===>Foo.__new__\n",
      "===>Foo.__init__\n"
     ]
    }
   ],
   "source": [
    "class MyMeta(type):\n",
    "    def __new__(cls, *args, **kwargs):\n",
    "        print('MyMeta.__new__: {}'.format(cls.__name__))\n",
    "        return super().__new__(cls, *args, **kwargs)\n",
    " \n",
    "    def __init__(self, classname, superclasses, attributedict):\n",
    "        super().__init__(classname, superclasses, attributedict)\n",
    "        print('===>MyMeta.__init__: {} {} {}-end'.format(self.__name__, attributedict, self.tag))\n",
    "\n",
    "    def __call__(self, *args, **kwargs):\n",
    "        print('===>MyMeta.__call__')\n",
    "        obj = self.__new__(self, *args, **kwargs)\n",
    "        self.__init__(self, *args, **kwargs)\n",
    "        return obj\n",
    "\n",
    "\n",
    "class Foo(object, metaclass=MyMeta):\n",
    "    tag = '!Foo'\n",
    " \n",
    "    def __new__(cls, *args, **kwargs):\n",
    "        print('===>Foo.__new__')\n",
    "        return super().__new__(cls)\n",
    " \n",
    "    def __init__(self, name):\n",
    "        print('===>Foo.__init__')\n",
    "        self.name = name\n",
    "\n",
    "\n",
    "foo = Foo('test')"
   ]
  },
  {
   "cell_type": "markdown",
   "metadata": {},
   "source": [
    "在创建Foo类的时候，python做了如下操作。 \n",
    "Foo中有metaclass这个属性吗？如果是，Python会在内存中通过metaclass创建一个名字为Foo的类对象（我说的是类对象，请紧跟我的思路）。\n",
    "如果Python没有找到metaclass，它会继续在父类中寻找metaclass属性，并尝试做和前面同样的操作。\n",
    "如果Python在任何父类中都找不到metaclass，它就会在模块层次中去寻找metaclass，并尝试做同样的操作。\n",
    "如果还是找不到metaclass,Python就会用内置的type来创建这个类对象。\n",
    "现在的问题就是，你可以在metaclass中放置些什么代码呢？\n",
    "答案就是：可以创建一个类的东西。那么什么可以用来创建一个类呢？type，或者任何使用到type或者子类化type的东西都可以。用类实现可以（比如上面这个例子），用函数实现也可以。但是metaclass必须返回一个类。"
   ]
  },
  {
   "cell_type": "code",
   "execution_count": 89,
   "metadata": {
    "ExecuteTime": {
     "end_time": "2022-11-08T06:19:31.332695Z",
     "start_time": "2022-11-08T06:19:31.322907Z"
    }
   },
   "outputs": [
    {
     "name": "stdout",
     "output_type": "stream",
     "text": [
      "===>Foo.__new__\n",
      "===>Foo.__init__\n",
      "name:test,tag:!Foo,year:2019\n"
     ]
    }
   ],
   "source": [
    "def MyMetaFunction(classname, superclasses, attributedict):\n",
    "    attributedict['year'] = 2019\n",
    "    return type(classname, superclasses, attributedict)\n",
    "\n",
    "\n",
    "class Foo(object, metaclass=MyMetaFunction):\n",
    "    tag = '!Foo'\n",
    "\n",
    "    def __new__(cls, *args, **kwargs):\n",
    "        print('===>Foo.__new__')\n",
    "        return super().__new__(cls)\n",
    "\n",
    "    def __init__(self, name):\n",
    "        print('===>Foo.__init__')\n",
    "        self.name = name\n",
    "\n",
    "\n",
    "foo = Foo('test')\n",
    "print('name:{},tag:{},year:{}'.format(foo.name, foo.tag, foo.year))"
   ]
  },
  {
   "cell_type": "markdown",
   "metadata": {},
   "source": [
    "正常情况下在父类中是不能对子类的属性进行操作，但是元类可以。换种方式理解：元类、装饰器、类装饰器都可以归为元编程(引用自 python-cook-book 中的一句话)。 "
   ]
  },
  {
   "cell_type": "markdown",
   "metadata": {},
   "source": [
    "### 应用\n",
    "\n",
    "通过创建一个类似Django中的ORM来熟悉一下元类的使用，通过元类用来创建API是非常好的选择，使用元类的编写很复杂但使用者可以非常简洁的调用API"
   ]
  },
  {
   "cell_type": "markdown",
   "metadata": {},
   "source": [
    "#### ORM"
   ]
  },
  {
   "cell_type": "code",
   "execution_count": null,
   "metadata": {},
   "outputs": [],
   "source": [
    "# 一、首先定义Field类，它负责保存数据库表的字段名和字段类型\n",
    "class Field(object):\n",
    "    def __init__(self, name, column_type):\n",
    "        self.name = name\n",
    "        self.colmun_type = column_type\n",
    "\n",
    "    def __str__(self):\n",
    "        return '<%s:%s>' % (self.__class__.__name__, self.name)\n",
    "\n",
    "\n",
    "class StringField(Field):\n",
    "    def __init__(self, name):\n",
    "        super().__init__(name, 'varchar(100)')\n",
    "\n",
    "\n",
    "class IntegerField(Field):\n",
    "    def __init__(self, name):\n",
    "        super().__init__(name, 'bigint')\n",
    "\n",
    "\n",
    "# 二、定义元类，控制Model对象的创建\n",
    "class ModelMetaClass(type):\n",
    "    def __new__(cls, name, bases, attrs):\n",
    "        if name == 'Model':\n",
    "            return super().__new__(cls, name, bases, attrs)\n",
    "        mappings = dict()\n",
    "        for k, v in attrs.items():\n",
    "            # 保持类属性和列的映射关系到mappings字典\n",
    "            if isinstance(v, Field):\n",
    "                print('Found mapping:%s==>%s' % (k, v))\n",
    "                mappings[k] = v\n",
    "        for k in mappings.keys():  # 将类属性移除，是定义的类字段不污染User类属性，只在实例中可以访问这些key\n",
    "            attrs.pop(k)\n",
    "        attrs['__table__'] = name.lower()  # 假设表名为类名的小写，创建类时添加一个__table__属性\n",
    "        attrs['__mappings__'] = mappings  # 保持属性和列的关系映射，创建类时添加一个__mappings__属性\n",
    "        return super().__new__(cls, name, bases, attrs)\n",
    "\n",
    "\n",
    "# 三、Model基类\n",
    "class Model(dict, metaclass=ModelMetaClass):\n",
    "    def __init__(self, **kwargs):\n",
    "        super().__init__(**kwargs)\n",
    "\n",
    "    def __getattr__(self, key):\n",
    "        try:\n",
    "            return self[key]\n",
    "        except KeyError:\n",
    "            raise AttributeError(\"'Model' object has no attribute '%s'\" % key)\n",
    "\n",
    "    def __setattr__(self, key, value):\n",
    "        self[key] = value\n",
    "\n",
    "    def save(self):\n",
    "        fields = []\n",
    "        params = []\n",
    "        args = []\n",
    "        for k, v in self.__mappings__.items():\n",
    "            fields.append(v.name)\n",
    "            params.append('?')\n",
    "            args.append(getattr(self, k, None))\n",
    "        sql = 'insert into %s (%s) values (%s)' % (self.__table__, ','.join(fields), ','.join(params))\n",
    "        print('SQL:%s' % sql)\n",
    "        print('ARGS:%s' % str(args))\n",
    "\n",
    "\n",
    "# 我们想创建类似Django的ORM，只要定义字段就可以实现对数据库表和字段的操作\n",
    "# 最后、我们使用定义好的ORM接口，使用起来非常简单\n",
    "class User(Model):\n",
    "    id = IntegerField('id')\n",
    "    name = StringField('username')\n",
    "    email = StringField('email')\n",
    "    password = StringField('password')\n",
    "\n",
    "\n",
    "user = User(id=1, name='Job', email='job@test.com', password='pw')\n",
    "user.save()"
   ]
  },
  {
   "cell_type": "markdown",
   "metadata": {},
   "source": [
    "#### 单例"
   ]
  },
  {
   "cell_type": "markdown",
   "metadata": {},
   "source": [
    "依照Python官方文档的说法，`__new__`方法主要是当你继承一些不可变的class时(比如int, str, tuple)， 提供给你一个自定义这些类的实例化过程的途径。还有就是实现自定义的metaclass。\n",
    "\n",
    "简单来说，单例模式的原理就是通过在类属性中添加一个单例判定位ins_flag，通过这个flag判断是否已经被实例化过了,如果被实例化过了就返回该实例。\n",
    "\n",
    "`__new__`方法实现单例"
   ]
  },
  {
   "cell_type": "code",
   "execution_count": null,
   "metadata": {},
   "outputs": [],
   "source": [
    "class Singleton:\n",
    "    def __new__(cls, *args, **kwargs):\n",
    "        if not hasattr(cls, '_instance'):  # _instance是类(Singleton)对象的一个属性\n",
    "            cls._instance = super().__new__(cls, *args, **kwargs)\n",
    "        return cls._instance  # 类的__new__方法之后，必须生成本类的实例(注意是“本类”的实例)才能自动调用本类的__init__方法进行初始化，否则不会自动调用__init__\n",
    "\n",
    "\n",
    "class SubSingleton(Singleton):\n",
    "    pass\n",
    "\n",
    "\n",
    "s1 = Singleton()\n",
    "s2 = Singleton()\n",
    "print(s1 is s2)\n",
    "\n",
    "ss1 = SubSingleton()\n",
    "ss2 = SubSingleton()\n",
    "print(ss1 is ss2)"
   ]
  },
  {
   "cell_type": "markdown",
   "metadata": {},
   "source": [
    "因为重写`__new__`方法，所以继承至Singleton的类，在不重写`__new__`的情况下都将是单例模式。 `_instance`（单下划线开头）属性换成`__instance`（双下划线开头）会得到不一样的结果，将无法实现单例模式，如果`__instance`（双下划线开头）属性就变成了私有的(其实变成了`_Singleton__instance`)。"
   ]
  },
  {
   "cell_type": "code",
   "execution_count": null,
   "metadata": {},
   "outputs": [],
   "source": [
    "# 元类实现单例\n",
    "class SingletonMeta(type):\n",
    "    def __init__(self, *args, **kwargs):\n",
    "        self.__instance = None  # 这是一个私有属性来保存属性，而不会污染Singleton类（其实还是会污染，只是无法直接通过__instance属性访问）\n",
    "        super().__init__(*args, **kwargs)\n",
    "\n",
    "    def __call__(self, *args, **kwargs):\n",
    "        if self.__instance is None:\n",
    "            self.__instance = super().__call__(*args, **kwargs)\n",
    "        return self.__instance\n",
    "\n",
    "\n",
    "class Singleton(metaclass=SingletonMeta):  # 在代码执行到这里的时候，元类中的__new__方法和__init__方法其实已经被执行了，而不是在Singleton实例化的时候执行。且仅会执行一次。\n",
    "    pass\n",
    "\n",
    "\n",
    "class SubSingleton(metaclass=SingletonMeta):\n",
    "    pass\n",
    "\n",
    "\n",
    "s1 = Singleton()\n",
    "s2 = Singleton()\n",
    "print(s1 is s2)\n",
    "\n",
    "ss1 = SubSingleton()\n",
    "ss2 = SubSingleton()\n",
    "print(ss1 is ss2)"
   ]
  },
  {
   "cell_type": "markdown",
   "metadata": {},
   "source": [
    "我们知道元类(SingletonMeta)生成的实例是一个类(Singleton),而这里我们仅仅需要对这个实例(Singleton)增加一个属性(`__instance`)来判断和保存生成的单例。想想也知道为一个类添加一个属性当然是在`__init__`中实现了。\n",
    "关于`__call__`方法的调用，因为Singleton是SingletonMeta的一个实例。所以Singleton()这样的方式就调用了SingletonMeta的`__call__`方法。"
   ]
  },
  {
   "cell_type": "markdown",
   "metadata": {},
   "source": [
    "### 动态加载"
   ]
  },
  {
   "cell_type": "markdown",
   "metadata": {},
   "source": [
    "YAML是一个家喻户晓的 Python 工具，可以方便地序列化 / 逆序列化结构数据。YAMLObject 的一个超越变形能力，就是它的任意子类支持序列化和反序列化（serialization & deserialization）。比如说下面这段代码（https://pyyaml.org/wiki/PyYAMLDocumentation）："
   ]
  },
  {
   "cell_type": "code",
   "execution_count": 90,
   "metadata": {
    "ExecuteTime": {
     "end_time": "2022-11-08T06:28:24.256693Z",
     "start_time": "2022-11-08T06:28:24.221974Z"
    }
   },
   "outputs": [],
   "source": [
    "import yaml\n",
    "\n",
    "\n",
    "class Monster(yaml.YAMLObject):\n",
    "    yaml_tag = u'!Monster'\n",
    "\n",
    "    def __init__(self, name, hp, ac, attacks):\n",
    "        self.name = name\n",
    "        self.hp = hp\n",
    "        self.ac = ac\n",
    "        self.attacks = attacks\n",
    "\n",
    "    def __repr__(self):\n",
    "        return \"%s(name=%r, hp=%r, ac=%r, attacks=%r)\" % (\n",
    "            self.__class__.__name__, self.name, self.hp, self.ac,\n",
    "            self.attacks)"
   ]
  },
  {
   "cell_type": "code",
   "execution_count": 93,
   "metadata": {
    "ExecuteTime": {
     "end_time": "2022-11-08T06:29:11.727371Z",
     "start_time": "2022-11-08T06:29:11.701276Z"
    }
   },
   "outputs": [
    {
     "ename": "TypeError",
     "evalue": "load() missing 1 required positional argument: 'Loader'",
     "output_type": "error",
     "traceback": [
      "\u001b[0;31m---------------------------------------------------------------------------\u001b[0m",
      "\u001b[0;31mTypeError\u001b[0m                                 Traceback (most recent call last)",
      "Input \u001b[0;32mIn [93]\u001b[0m, in \u001b[0;36m<cell line: 1>\u001b[0;34m()\u001b[0m\n\u001b[0;32m----> 1\u001b[0m \u001b[43myaml\u001b[49m\u001b[38;5;241;43m.\u001b[39;49m\u001b[43mload\u001b[49m\u001b[43m(\u001b[49m\u001b[38;5;124;43m\"\"\"\u001b[39;49m\n\u001b[1;32m      2\u001b[0m \u001b[38;5;124;43m--- !Monster\u001b[39;49m\n\u001b[1;32m      3\u001b[0m \u001b[38;5;124;43mname: Cave spider\u001b[39;49m\n\u001b[1;32m      4\u001b[0m \u001b[38;5;124;43mhp: [2,6]    # 2d6\u001b[39;49m\n\u001b[1;32m      5\u001b[0m \u001b[38;5;124;43mac: 16\u001b[39;49m\n\u001b[1;32m      6\u001b[0m \u001b[38;5;124;43mattacks: [BITE, HURT]\u001b[39;49m\n\u001b[1;32m      7\u001b[0m \u001b[38;5;124;43m\"\"\"\u001b[39;49m\u001b[43m)\u001b[49m\n",
      "\u001b[0;31mTypeError\u001b[0m: load() missing 1 required positional argument: 'Loader'"
     ]
    }
   ],
   "source": [
    "yaml.load(\"\"\"\n",
    "--- !Monster\n",
    "name: Cave spider\n",
    "hp: [2,6]    # 2d6\n",
    "ac: 16\n",
    "attacks: [BITE, HURT]\n",
    "\"\"\")  # 报错  Loader"
   ]
  },
  {
   "cell_type": "code",
   "execution_count": 94,
   "metadata": {
    "ExecuteTime": {
     "end_time": "2022-11-08T06:29:12.548335Z",
     "start_time": "2022-11-08T06:29:12.538172Z"
    }
   },
   "outputs": [
    {
     "data": {
      "text/plain": [
       "<yaml.loader.Loader at 0x7f84a0cedf00>"
      ]
     },
     "execution_count": 94,
     "metadata": {},
     "output_type": "execute_result"
    }
   ],
   "source": [
    "yaml.Loader(\"\"\"\n",
    "--- !Monster\n",
    "name: Cave spider\n",
    "hp: [2,6]    # 2d6\n",
    "ac: 16\n",
    "attacks: [BITE, HURT]\n",
    "\"\"\")"
   ]
  },
  {
   "cell_type": "code",
   "execution_count": 95,
   "metadata": {
    "ExecuteTime": {
     "end_time": "2022-11-08T06:29:18.158494Z",
     "start_time": "2022-11-08T06:29:18.148660Z"
    }
   },
   "outputs": [
    {
     "data": {
      "text/plain": [
       "'!Monster\\nac: 16\\nattacks:\\n- BITE\\n- HURT\\nhp:\\n- 3\\n- 6\\nname: Cave lizard\\n'"
      ]
     },
     "execution_count": 95,
     "metadata": {},
     "output_type": "execute_result"
    }
   ],
   "source": [
    "Monster(name='Cave spider', hp=[2, 6], ac=16, attacks=['BITE', 'HURT'])\n",
    "yaml.dump(Monster(\n",
    "    name='Cave lizard', hp=[3, 6], ac=16, attacks=['BITE', 'HURT']))"
   ]
  },
  {
   "cell_type": "markdown",
   "metadata": {},
   "source": [
    "这里 YAMLObject 的特异功能体现在哪里呢？\n",
    "\n",
    "你看，调用统一的 yaml.load()，就能把任意一个 yaml 序列载入成一个 Python Object；而调用统一的 yaml.dump()，就能把一个 YAMLObject 子类序列化。对于 load() 和 dump() 的使用者来说，他们完全不需要提前知道任何类型信息，这让超动态配置编程成了可能。听大神说在他的实战经验中，许多大型项目都需要应用这种超动态配置的理念。\n",
    "\n",
    "比方说，在一个智能语音助手的大型项目中，我们有 1 万个语音对话场景，每一个场景都是不同团队开发的。作为智能语音助手的核心团队成员，我不可能去了解每个子场景的实现细节。\n",
    "\n",
    "在动态配置实验不同场景时，经常是今天我要实验场景 A 和 B 的配置，明天实验 B 和 C 的配置，光配置文件就有几万行量级，工作量不可谓不小。而应用这样的动态配置理念，我就可以让引擎根据我的文本配置文件，动态加载所需要的 Python 类。\n",
    "\n",
    "对于 YAML 的使用者，这一点也很方便，你只要简单地继承 yaml.YAMLObject，就能让你的 Python Object 具有序列化和逆序列化能力。是不是相比普通 Python 类，有一点“变态”，有一点“超越”？\n",
    "\n",
    "YAML 的这种动态序列化 / 逆序列化功能正是用metaclass 实现的。\n",
    "\n",
    "我们这里只看 YAMLObject 的 load() 功能。简单来说，我们需要一个全局的注册器，让 YAML 知道，序列化文本中的 !Monster 需要载入成 Monster 这个 Python 类型。\n",
    "\n",
    "一个很自然的想法就是，那我们建立一个全局变量叫 registry，把所有需要逆序列化的 YAMLObject，都注册进去。比如下面这样："
   ]
  },
  {
   "cell_type": "code",
   "execution_count": null,
   "metadata": {},
   "outputs": [],
   "source": [
    "registry = {}\n",
    " \n",
    "def add_constructor(target_class):\n",
    "    registry[target_class.yaml_tag] = target_class"
   ]
  },
  {
   "cell_type": "markdown",
   "metadata": {},
   "source": [
    "然后，在 Monster 类定义后面加上下面这行代码：\n",
    "\n",
    "add_constructor(Monster)\n",
    " 但这样的缺点也很明显，对于 YAML 的使用者来说，每一个 YAML 的可逆序列化的类 Foo 定义后，都需要加上一句话，add_constructor(Foo)。这无疑给开发者增加了麻烦，也更容易出错，毕竟开发者很容易忘了这一点。\n",
    "\n",
    "那么，更优的实现方式是什么样呢？如果你看过 YAML 的源码，就会发现，正是 metaclass 解决了这个问题。"
   ]
  },
  {
   "cell_type": "code",
   "execution_count": null,
   "metadata": {},
   "outputs": [],
   "source": [
    "# Python 2/3 相同部分\n",
    "from yaml import Loader\n",
    "\n",
    "\n",
    "class YAMLObjectMetaclass(type):\n",
    "    def __init__(cls, name, bases, kwds):\n",
    "        super(YAMLObjectMetaclass, cls).__init__(name, bases, kwds)\n",
    "        if 'yaml_tag' in kwds and kwds['yaml_tag'] is not None:\n",
    "            cls.yaml_loader.add_constructor(cls.yaml_tag, cls.from_yaml)\n",
    "    # 省略其余定义\n",
    "\n",
    "\n",
    "# Python 3\n",
    "class YAMLObject(metaclass=YAMLObjectMetaclass):\n",
    "    yaml_loader = Loader\n",
    "    # 省略其余定义\n",
    "\n",
    "\n",
    "# Python 2\n",
    "class YAMLObject(object):\n",
    "    __metaclass__ = YAMLObjectMetaclass\n",
    "    yaml_loader = Loader\n",
    "    # 省略其余定义"
   ]
  },
  {
   "cell_type": "markdown",
   "metadata": {},
   "source": [
    "你可以发现，YAMLObject 把 metaclass 都声明成了YAMLObjectMetaclass，利用 YAMLObjectMetaclass 的`__init__`方法，为所有 YAMLObject 子类偷偷执行add_constructor()。在 YAMLObjectMetaclass 中，下面这行代码就是魔法发生的地方：\n",
    "\n",
    "cls.yaml_loader.add_constructor(cls.yaml_tag, cls.from_yaml) \n",
    "YAML 应用 metaclass，拦截了所有 YAMLObject 子类的定义。也就说说，在你定义任何 YAMLObject 子类时，Python 会强行插入运行下面这段代码，把我们之前想要的add_constructor(Foo)给自动加上。\n",
    "\n",
    "cls.yaml_loader.add_constructor(cls.yaml_tag, cls.from_yaml)"
   ]
  },
  {
   "cell_type": "markdown",
   "metadata": {},
   "source": [
    "## 内建"
   ]
  },
  {
   "cell_type": "code",
   "execution_count": 97,
   "metadata": {
    "ExecuteTime": {
     "end_time": "2022-11-08T06:54:29.137623Z",
     "start_time": "2022-11-08T06:54:29.125298Z"
    }
   },
   "outputs": [],
   "source": [
    "class C(object):\n",
    "\n",
    "    def __new__(cls, *args, **kwargs):\n",
    "        \"\"\"__new__ 方法的返回值就是类的实例对象，这个实例对象会传递给__init__方法中定义的 self 参数，以便实例对象可以被正确地初始化。\"\"\"\n",
    "        self = super(C, cls).__new__(cls)\n",
    "        print('__new__: {}'.format(self))\n",
    "        return self\n",
    "\n",
    "    def __init__(self):\n",
    "        \"\"\"__init__方法负责对象的初始化\"\"\"\n",
    "        print('__init__: {}'.format(self))\n",
    "        super(C, self).__init__()\n",
    "\n",
    "    def __call__(self, *args, **kwargs):\n",
    "        \"\"\"如果在类中实现了__call__方法，那么实例对象也将成为一个可调用对象, 判断对象是否为可调用对象可以用函数callable\"\"\"\n",
    "        print('__call__')"
   ]
  },
  {
   "cell_type": "code",
   "execution_count": 102,
   "metadata": {
    "ExecuteTime": {
     "end_time": "2022-11-08T06:55:27.438140Z",
     "start_time": "2022-11-08T06:55:27.431612Z"
    }
   },
   "outputs": [
    {
     "name": "stdout",
     "output_type": "stream",
     "text": [
      "__new__: <__main__.C object at 0x7f84a0d0cf10>\n",
      "__init__: <__main__.C object at 0x7f84a0d0cf10>\n",
      "True\n"
     ]
    }
   ],
   "source": [
    "# C()\n",
    "# 判断对象是否为可调用对象可以用函数callable\n",
    "print(callable(C()))"
   ]
  },
  {
   "cell_type": "code",
   "execution_count": null,
   "metadata": {
    "ExecuteTime": {
     "end_time": "2022-11-07T17:50:52.088150Z",
     "start_time": "2022-11-07T17:50:52.075324Z"
    }
   },
   "outputs": [],
   "source": [
    "class Counter(object):\n",
    "    def __init__(self, func):\n",
    "        self.func = func\n",
    "        self.count = 0\n",
    "\n",
    "    def __call__(self, *args, **kwargs):\n",
    "        self.count += 1\n",
    "        return self.func(*args, **kwargs)\n",
    "\n",
    "\n",
    "@Counter\n",
    "def foo():\n",
    "    pass\n",
    "\n",
    "\n",
    "for _ in range(10):\n",
    "    foo()\n",
    "\n",
    "print(foo.count)"
   ]
  },
  {
   "cell_type": "markdown",
   "metadata": {},
   "source": [
    "## staticmethod classmethod"
   ]
  },
  {
   "cell_type": "code",
   "execution_count": null,
   "metadata": {},
   "outputs": [],
   "source": [
    "class StaticMethod(object):\n",
    "    def normethod_def(self):\n",
    "        print(\"实例方法-f\")\n",
    "\n",
    "    @staticmethod\n",
    "    def staticmethod_def():\n",
    "        \"\"\"有一些方法和类相关，但是又不需要类中的任何信息，出于对代码的理解和维护，就可用使用静态方法。\"\"\"\n",
    "        print(\"静态方法-f\")\n",
    "\n",
    "    @classmethod\n",
    "    def cls_method(cls):\n",
    "        \"\"\"类方法传递的不是实例，而是类本身。当需要和类交互而不需要和实例交互时或重构初始化变量时使用，就可以选择类方法。\"\"\"\n",
    "        print(\"类方法\")\n",
    "\n",
    "    @staticmethod\n",
    "    class StaticMethodSon(object):\n",
    "        def __init__(self, val=1):\n",
    "            self.val = val\n",
    "\n",
    "        def common_def(self):\n",
    "            print(\"实例方法-{}\".format(self.val))\n",
    "\n",
    "        @staticmethod\n",
    "        def staticmethod_def():\n",
    "            print(\"静态方法\")\n",
    "\n",
    "        @classmethod\n",
    "        def cls_method(cls):\n",
    "            print(\"类方法\")\n",
    "\n",
    "    @staticmethod\n",
    "    class ClsMethodSon(object):\n",
    "        def __init__(self, val=1):\n",
    "            self.val = val\n",
    "\n",
    "        def common_def(self):\n",
    "            print(\"实例方法-{}\".format(self.val))\n",
    "\n",
    "        @staticmethod\n",
    "        def staticmethod_def():\n",
    "            print(\"静态方法\")\n",
    "\n",
    "        @classmethod\n",
    "        def cls_method(cls):\n",
    "            print(\"类方法\")"
   ]
  },
  {
   "cell_type": "code",
   "execution_count": null,
   "metadata": {},
   "outputs": [],
   "source": [
    "StaticMethod().normethod_def()  # 普通函数只能实例化后调用\n",
    "StaticMethod.staticmethod_def()  # 静态方法无需实例化就可以调用\n",
    "StaticMethod().staticmethod_def()  # 静态方法也可以实例化后调用\n",
    "StaticMethod.StaticMethodSon(0)  # 静态方法无需实例化就可以调用\n",
    "StaticMethod().StaticMethodSon(0)  # 静态方法也可以实例化后调用\n",
    "StaticMethod.StaticMethodSon(0).common_def()  # 普通函数需实例化调用，可以使用__init__实例化的东西\n",
    "StaticMethod.StaticMethodSon.staticmethod_def()  # 静态方法无需实例化就可以调用，但是不能使用__init__实例化的东西"
   ]
  },
  {
   "cell_type": "markdown",
   "metadata": {},
   "source": [
    "# def"
   ]
  },
  {
   "cell_type": "markdown",
   "metadata": {},
   "source": [
    "## getattr"
   ]
  },
  {
   "cell_type": "markdown",
   "metadata": {},
   "source": [
    "用于返回一个对象属性值"
   ]
  },
  {
   "cell_type": "code",
   "execution_count": null,
   "metadata": {},
   "outputs": [],
   "source": [
    "from typing import NamedTuple\n",
    "\n",
    "\n",
    "class Person(NamedTuple):\n",
    "    '''人类'''\n",
    "    name: str\n",
    "    age: int\n",
    "    job: str\n",
    "    weight: float\n",
    "    height: float\n",
    "\n",
    "\n",
    "alex = Person('Alex', 32, 'actor', 60, 178)\n",
    "\n",
    "# 把用户输入的字符串赋值给变量attribute_name\n",
    "attribute_name = input('''What do you want to know about Alex? \n",
    "Enter an attribute name>>>''')\n",
    "# 注意，上述字符串被传进了这个函数作为第二个参数\n",
    "# 第三个参数是属性不存在时返回的字符串\n",
    "print(getattr(alex, attribute_name, 'Sorry, this attribute does not exist.'))"
   ]
  },
  {
   "cell_type": "code",
   "execution_count": null,
   "metadata": {},
   "outputs": [],
   "source": [
    "class A(object):\n",
    "    def set(self, a, b):\n",
    "        x = a\n",
    "        a = b\n",
    "        b = x\n",
    "        print(a, b)\n",
    "\n",
    "\n",
    "a = A()\n",
    "c = getattr(a, 'set')\n",
    "c(a='1', b='2')"
   ]
  },
  {
   "cell_type": "markdown",
   "metadata": {},
   "source": [
    "`__getattr__`  如果属性查找（attribute lookup）在实例以及对应的类中（通过__dict__)失败， 那么会调用到类的__getattr__函数；\n",
    "\n",
    "如果没有定义这个函数，那么抛出 AttributeError 异常。\n",
    "由此可见，__getattr__一定是作用于属性查找的最后一步"
   ]
  },
  {
   "cell_type": "code",
   "execution_count": 103,
   "metadata": {
    "ExecuteTime": {
     "end_time": "2022-11-08T06:59:25.623130Z",
     "start_time": "2022-11-08T06:59:25.608965Z"
    }
   },
   "outputs": [
    {
     "name": "stdout",
     "output_type": "stream",
     "text": [
      "init\n",
      "not exist func: fn1\n",
      "args:33\n",
      "not exist func: fn2\n",
      "args:hello\n"
     ]
    }
   ],
   "source": [
    "class A(object):\n",
    "    def __init__(self, a, b):\n",
    "        self.a1 = a\n",
    "        self.b1 = b\n",
    "        print('init')\n",
    "\n",
    "    def mydefault(self, *args):\n",
    "        print('args:' + str(args[0]))\n",
    "\n",
    "    def __getattr__(self, attr_name):\n",
    "        print(\"not exist func:\", attr_name)\n",
    "        return self.mydefault\n",
    "\n",
    "\n",
    "a1 = A(10, 20)\n",
    "a1.fn1(33)\n",
    "a1.fn2('hello')  # 自己运行一遍吧"
   ]
  },
  {
   "cell_type": "code",
   "execution_count": 104,
   "metadata": {
    "ExecuteTime": {
     "end_time": "2022-11-08T07:00:13.602147Z",
     "start_time": "2022-11-08T07:00:13.588136Z"
    }
   },
   "outputs": [
    {
     "name": "stdout",
     "output_type": "stream",
     "text": [
      "{'a': 1}\n",
      "1\n",
      "True\n"
     ]
    }
   ],
   "source": [
    "# 经典示例。使用 __getattr__()虚拟 字典对象\n",
    "class ObjectDict(dict):\n",
    "    def __init__(self, *args, **kwargs):\n",
    "        super(ObjectDict, self).__init__(*args, **kwargs)\n",
    "\n",
    "    def __getattr__(self, attr_name):\n",
    "        value = self[attr_name]         # \n",
    "        if isinstance(value, dict):\n",
    "            value = ObjectDict(value)\n",
    "        return value\n",
    "\n",
    "\n",
    "od = ObjectDict(asf={'a': 1}, d=True)\n",
    "print(od.asf)       # {'a': 1}\n",
    "print(od.asf.a)     # 1\n",
    "print(od.d)         # True"
   ]
  },
  {
   "cell_type": "markdown",
   "metadata": {},
   "source": [
    "## getattribute"
   ]
  },
  {
   "cell_type": "markdown",
   "metadata": {},
   "source": [
    "`__getattribute__`是属性访问拦截器；当类中属性被访问时，会自动调用`__getattribute__`方法；常用于查看权限、打印log日志。"
   ]
  },
  {
   "cell_type": "markdown",
   "metadata": {},
   "source": [
    "用`__getattribute__`方法时，容易栽进这个坑，先说结果，关于print(aa.name)的解释是正确的，但关于print(aa.wind)的解释不对，为什么呢？我们来分析一下，执行aa.wind时，先调用__getattribute__方法，经过判断后，它返回的是self.call_wind()，即self.call_wind的执行结果，但当去调用aa这个对象的call_wind属性时，前提是又要去调用__getattribute__方法，反反复复，没完没了，形成了递归调用且没有退出机制，最终程序就挂了！"
   ]
  },
  {
   "cell_type": "code",
   "execution_count": null,
   "metadata": {
    "ExecuteTime": {
     "end_time": "2022-11-07T18:05:18.166313Z",
     "start_time": "2022-11-07T18:05:18.156108Z"
    }
   },
   "outputs": [],
   "source": [
    "class Tree(object):\n",
    "    def __init__(self,name):\n",
    "        self.name = name\n",
    "        self.cate = \"plant\"\n",
    "    def __getattribute__(self,obj):\n",
    "        if obj.endswith(\"e\"):\n",
    "            return obj.endswith(\"e\")\n",
    "            # return object.__getattribute__(self,obj)\n",
    "        else:\n",
    "            return self.call_wind()\n",
    "    def call_wind(self):\n",
    "        return \"树大招风\"\n",
    "aa = Tree(\"大树\")\n",
    "print(aa.name)#因为name是以e结尾，所以返回的还是name，所以打印出\"大树\"\n",
    "# print(aa.wind)#这个代码中因为wind不是以e结尾，#所以返回self.call_wind的结果,打印的是\"树大招风\""
   ]
  },
  {
   "cell_type": "markdown",
   "metadata": {},
   "source": [
    "## __setattr__\n",
    "\n",
    "这个需要注意，会拦截所有属性的的赋值语句\n",
    "如果定义了这个方法，\n",
    "self.attr = value 就会变成 self.__setattr__(\"attr\", value)\n",
    "\n",
    "需要非常注意的是：\n",
    "当在__setattr__方法内对属性进行赋值时，不可使用 self.attr = value\n",
    "因为他会再次调用 self.__setattr__(\"attr\", value)\n",
    "则会形成 无穷递归循环，最后导致堆栈溢出异常。\n",
    "\n",
    "正确做法：\n",
    "应该通过 对属性字典做索引运算来赋值 任何实例属性，也就是使用\n",
    "\n",
    "self.__dict__['name'] = value\n",
    "如果类自定义了__setattr__方法，当通过实例获取属性尝试赋值时，就会调用__setattr__。\n",
    "常规的对实例属性赋值，被赋值的属性和值会存入 实例属性字典__dict__ 中。\n",
    "\n",
    "实例属性字典 __dict__"
   ]
  },
  {
   "cell_type": "code",
   "execution_count": null,
   "metadata": {},
   "outputs": [],
   "source": [
    "class ClassA(object):\n",
    "\n",
    "    def __init__(self, classname):\n",
    "        self.classname = classname\n",
    "\n",
    "insA = ClassA('ClassA')\n",
    "print(insA.__dict__)    # {'classname': 'ClassA'}\n",
    "\n",
    "insA.tag = 'insA'    \n",
    "print(insA.__dict__)    # {'tag': 'insA', 'classname': 'ClassA'}"
   ]
  },
  {
   "cell_type": "markdown",
   "metadata": {},
   "source": [
    "如果类自定义了__setattr__, 对实例属性的赋值就会调用它。\n",
    "\n",
    "类定义中的self.attr也同样，所以在__setattr__下还有self.attr的赋值操作就会出现无线递归的调用__setattr__的情况。\n",
    "\n",
    "自己实现__setattr__有很大风险，一般情况都还是继承object类的__setattr__方法。"
   ]
  },
  {
   "cell_type": "code",
   "execution_count": null,
   "metadata": {},
   "outputs": [],
   "source": [
    "class ClassA(object):\n",
    "    def __init__(self, classname):\n",
    "        self.classname = classname  # 这里 调用__setattr__\n",
    "\n",
    "    def __setattr__(self, name, value):\n",
    "        # self.name = value         # 如果这里这样写会出现无限递归的情况\n",
    "        print('call __setattr__')\n",
    "\n",
    "insA = ClassA('ClassA') # call __setattr__\n",
    "print(insA.__dict__)    # {}\n",
    "\n",
    "insA.tag = 'insA'       # call __setattr__\n",
    "print(insA.__dict__)    # {}"
   ]
  },
  {
   "cell_type": "markdown",
   "metadata": {},
   "source": [
    "## __getitem__\n",
    "\n",
    "如果类把某个属性定义为序列，可以使用__getitem__()输出序列属性中的某个元素."
   ]
  },
  {
   "cell_type": "code",
   "execution_count": null,
   "metadata": {},
   "outputs": [],
   "source": [
    "class FruitShop():\n",
    "     def __getitem__(self, i):\n",
    "         return self.fruits[i]  # 遍历 FruitShop 实例时，遍历的是 self.fruits 序列\n",
    "\n",
    "\n",
    "shop = FruitShop()\n",
    "shop.fruits = [\"apple\", \"banana\"]\n",
    "print(shop[1])          # banana\n",
    "print(\"----\")\n",
    "for item in shop:       # 遍历的是 self.fruits 序列\n",
    "    print(item)"
   ]
  },
  {
   "cell_type": "markdown",
   "metadata": {},
   "source": [
    "## property"
   ]
  },
  {
   "cell_type": "markdown",
   "metadata": {},
   "source": [
    "使用@property装饰器来创建只读属性，@property装饰器会将方法转换为相同名称的只读属性,可以与所定义的属性配合使用，这样可以防止属性被修改。"
   ]
  },
  {
   "cell_type": "code",
   "execution_count": null,
   "metadata": {},
   "outputs": [],
   "source": [
    "# 1.修饰方法，是方法可以像属性一样访问。\n",
    "\n",
    "class DataSet(object):\n",
    "    @property\n",
    "    def method_with_property(self):  # 含有@property\n",
    "        return 15\n",
    "\n",
    "    def method_without_property(self):  # 不含@property\n",
    "        return 15\n",
    "\n",
    "\n",
    "l = DataSet()\n",
    "print(l.method_with_property)  # 加了@property后，可以用调用属性的形式来调用方法,后面不需要加（）。\n",
    "print(l.method_without_property())  # 没有加@property , 必须使用正常的调用方法的形式，即在后面加()\n",
    "\n",
    "\n",
    "# 错误用例\n",
    "class DataSet(object):\n",
    "    @property\n",
    "    def method_with_property(self):  # 含有@property\n",
    "        return 15\n",
    "\n",
    "\n",
    "l = DataSet()\n",
    "print(l.method_with_property())  # 加了@property后，可以用调用属性的形式来调用方法,后面不需要加（）。\n",
    "\n",
    "\n",
    "# 如果使用property进行修饰后，又在调用的时候，方法后面添加了()， \n",
    "# 那么就会显示错误信息：TypeError: 'int' object is not callable，也就是说添加@property 后，这个方法就变成了一个属性，\n",
    "# 如果后面加入了()，那么就是当作函数来调用，而它却不是callable（可调用）的。\n",
    "\n",
    "class DataSet(object):\n",
    "    def method_without_property(self):  # 不含@property\n",
    "        return 15\n",
    "\n",
    "\n",
    "l = DataSet()\n",
    "print(l.method_without_property)  # 没有加@property , 必须使用正常的调用方法的形式，即在后面加()\n",
    "# 没有使用property修饰，它是一种方法，如果把括号去掉，不会报错输出的就会是方法存放的地址。"
   ]
  },
  {
   "cell_type": "code",
   "execution_count": null,
   "metadata": {},
   "outputs": [],
   "source": [
    "# 2.与所定义的属性配合使用，这样可以防止属性被修改。\n",
    "# 由于python进行属性的定义时，没办法设置私有属性，因此要通过@property的方法来进行设置。这样可以隐藏属性名，让用户进行使用的时候无法随意修改。\n",
    "\n",
    "class DataSet(object):\n",
    "    def __init__(self):\n",
    "        self._images = 1\n",
    "        self._labels = 2  # 定义属性的名称\n",
    "\n",
    "    @property\n",
    "    def images(self):  # 方法加入@property后，这个方法相当于一个属性，这个属性可以让用户进行使用，而且用户有没办法随意修改。\n",
    "        return self._images\n",
    "\n",
    "    @property\n",
    "    def labels(self):\n",
    "        return self._labels\n",
    "\n",
    "\n",
    "l = DataSet()\n",
    "# 用户进行属性调用的时候，直接调用images即可，而不用知道属性名_images，因此用户无法更改属性，从而保护了类的属性。\n",
    "print(l.images)  # 加了@property后，可以用调用属性的形式来调用方法,后面不需要加（）。"
   ]
  },
  {
   "cell_type": "markdown",
   "metadata": {
    "id": "JhnGqJQyND01"
   },
   "source": [
    "# 编码"
   ]
  },
  {
   "cell_type": "code",
   "execution_count": null,
   "metadata": {
    "ExecuteTime": {
     "end_time": "2022-11-03T03:19:54.124633Z",
     "start_time": "2022-11-03T03:19:54.116991Z"
    },
    "id": "9-OgO2jLNHq7"
   },
   "outputs": [],
   "source": [
    "import base64\n",
    "import binascii\n",
    "import lzma\n",
    "import os"
   ]
  },
  {
   "cell_type": "markdown",
   "metadata": {
    "id": "SstaXAy3slng"
   },
   "source": [
    "\\xe8\\之类的数据"
   ]
  },
  {
   "cell_type": "code",
   "execution_count": null,
   "metadata": {
    "ExecuteTime": {
     "end_time": "2022-11-03T03:19:54.521042Z",
     "start_time": "2022-11-03T03:19:54.511548Z"
    },
    "colab": {
     "base_uri": "https://localhost:8080/"
    },
    "id": "6NkMigRhszDj",
    "outputId": "2dd789f0-1523-474a-d16b-540f76bef332"
   },
   "outputs": [],
   "source": [
    "'中文'.encode()"
   ]
  },
  {
   "cell_type": "code",
   "execution_count": null,
   "metadata": {
    "colab": {
     "base_uri": "https://localhost:8080/",
     "height": 37
    },
    "id": "ddxSWhuvsrft",
    "outputId": "740b98c6-547f-42af-e3ab-630d8e1c690e"
   },
   "outputs": [],
   "source": [
    "'\\xe4\\xb8\\xad\\xe6\\x96\\x87'.encode('raw_unicode_escape').decode()"
   ]
  },
  {
   "cell_type": "markdown",
   "metadata": {
    "heading_collapsed": true,
    "id": "5scxGIYctIcY"
   },
   "source": [
    "## 文本加密可运行程序"
   ]
  },
  {
   "cell_type": "code",
   "execution_count": null,
   "metadata": {
    "code_folding": [],
    "hidden": true,
    "id": "tHm6DRPLtBd0"
   },
   "outputs": [],
   "source": [
    "class LzmaBase64(object):\n",
    "\n",
    "    def encryption_cat(self, data) -> bytes:\n",
    "        \"\"\":return:data 返回密文\"\"\"\n",
    "        if os.path.isfile(data):\n",
    "            return base64.b64encode(lzma.compress(open(data, 'r').read().encode()))\n",
    "        elif isinstance(data, bytes):\n",
    "            return data\n",
    "        elif isinstance(data, str):\n",
    "            return base64.b64encode(data.encode())\n",
    "        else:\n",
    "            return b''\n",
    "\n",
    "    def encryption_file(self, path, data=None) -> bool:\n",
    "        try:\n",
    "            if os.path.isfile(path):\n",
    "                if data:\n",
    "                    return self.file_w(path_=path, data_=self.encryption_cat(data))\n",
    "                else:\n",
    "                    tally = -1\n",
    "                    while True:\n",
    "                        tally += 1\n",
    "                        if tally:\n",
    "                            decision = input(\n",
    "                                '\\xe5\\xb0\\x8f\\xe6\\x9d\\x8e\\xe6\\xb8\\xa9\\xe9\\xa6\\xa8\\xe6\\x8f\\x90\\xe7\\xa4\\xba-> {}'\n",
    "                                .encode('raw_unicode_escape').decode().format(\n",
    "                                    'Are you sure you want to replace the contents of the original file with encrypted data?\\n'\n",
    "                                    'Please enter y or n to decide your choice\\n'))\n",
    "                            if decision.upper() == 'Y':\n",
    "                                return self.file_w(path_=path, data_=self.encryption_cat(path))\n",
    "                            elif decision.upper() == 'N':\n",
    "                                return False\n",
    "                        elif tally > 5:\n",
    "                            raise ValueError(\n",
    "                                \"b'\\xe5\\xb0\\x9d\\xe8\\xaf\\x95\\xe9\\x87\\x8d\\xe5\\xa4\\x8d\\xe6\\xac\\xa1\\xe6\\x95\\xb0\\xe5\\xa4\\xaa\\xe5\\xa4\\x9a\\xef\\xbc\\x8c\\xe5\\xb7\\xb2\\xe5\\xbc\\xba\\xe5\\x88\\xb6\\xe9\\x80\\x80\\xe5\\x87\\xba\\xe5\\x8a\\xa0\\xe5\\xaf\\x86\\xe7\\xa8\\x8b\\xe5\\xba\\x8f\\xe3\\x80\\x82'\\n\".encode(\n",
    "                                    'raw_unicode_escape').decode())\n",
    "                        else:\n",
    "                            decision = input(\n",
    "                                '\\xe5\\xb0\\x8f\\xe6\\x9d\\x8e\\xe6\\xb8\\xa9\\xe9\\xa6\\xa8\\xe6\\x8f\\x90\\xe7\\xa4\\xba-> {}'.encode(\n",
    "                                    'raw_unicode_escape').decode().format(\n",
    "                                    'Input y or Y means to confirm to replace with encrypted data in the original file, '\n",
    "                                    'and input n or N means not to replace with encrypted data in the original file\\n'))\n",
    "                            if decision.upper() == 'Y':\n",
    "                                return self.file_w(path_=path, data_=self.encryption_cat(path))\n",
    "                            elif decision.upper() == 'N':\n",
    "                                print(\n",
    "                                    '\\xe5\\xb0\\x8f\\xe6\\x9d\\x8e\\xe6\\xb8\\xa9\\xe9\\xa6\\xa8\\xe6\\x8f\\x90\\xe7\\xa4\\xba-> \\xe5\\x8a\\xa0\\xe5\\xaf\\x86\\xe7\\xa8\\x8b\\xe5\\xba\\x8f\\xe5\\xb7\\xb2\\xe5\\x8f\\x96\\xe6\\xb6\\x88'.encode(\n",
    "                                        'raw_unicode_escape').decode())\n",
    "                                return False\n",
    "            else:\n",
    "                raise ValueError(\n",
    "                    '\\xe8\\xaf\\xb7\\xe8\\xbe\\x93\\xe5\\x85\\xa5\\xe5\\x8a\\xa0\\xe5\\xaf\\x86\\xe5\\xae\\x8c\\xe6\\x88\\x90\\xe7\\x9a\\x84\\xe6\\x96\\x87\\xe4\\xbb\\xb6\\xe8\\xb7\\xaf\\xe5\\xbe\\x84!\\n'.encode(\n",
    "                        'raw_unicode_escape').decode())\n",
    "        except Exception as e:\n",
    "            print('\\xe5\\xb0\\x8f\\xe6\\x9d\\x8e\\xe9\\x80\\x9a\\xe7\\x9f\\xa5\\xe6\\xb6\\x88\\xe6\\x81\\xaf-> {}'.encode(\n",
    "                'raw_unicode_escape').decode().format(e))\n",
    "\n",
    "    def file_w(self, path_, data_) -> bool:\n",
    "        with open(path_, 'a+', encoding='utf-8') as jm_data:\n",
    "            jm_data.truncate(0)\n",
    "            jm_data.write(\n",
    "                'import base64, lzma\\nexec(lzma.decompress(base64.b64decode({})))'.format(data_))\n",
    "        return True\n",
    "\n",
    "    def decrypt_cat(self, srt_mw):\n",
    "        \"\"\"\n",
    "        return:返回解密的密文\n",
    "        \"\"\"\n",
    "        return lzma.decompress(base64.b64decode(srt_mw)).decode('utf-8')\n",
    "\n",
    "    def decrypt_exec(self, srt_mw):\n",
    "        \"\"\":return:直接执行\"\"\"\n",
    "        exec(lzma.decompress(base64.b64decode(srt_mw)))"
   ]
  },
  {
   "cell_type": "markdown",
   "metadata": {
    "hidden": true,
    "id": "JScnoFd9OfXs"
   },
   "source": [
    "binaascii 是一个用于在二进制和 ASCII 之间转换的模块。\n",
    "b2a_base64 是 binaascii 模块中的一种方法，它将 base64 数据转换为二进制数据。下面是这个方法的一个例子：\n",
    "该段代码应该是不言自明的。简单地说，它涉及编码、转换为 base64，以及使用 b2a_base64 方法将其转换回二进制。\n",
    "以下是属于 binaascii 模块的其他一些函数：a2b_qp()、b2a_qp() 和 a2b_uu()。"
   ]
  },
  {
   "cell_type": "code",
   "execution_count": null,
   "metadata": {
    "hidden": true,
    "id": "bdwohB1ZOhEl"
   },
   "outputs": [],
   "source": [
    "msg = \"Tandrew\"\n",
    "encoded = msg.encode('ascii')\n",
    "base64_msg = base64.b64encode(encoded)\n",
    "decode = binascii.a2b_base64(base64_msg)\n",
    "print(decode)"
   ]
  },
  {
   "cell_type": "markdown",
   "metadata": {
    "heading_collapsed": true
   },
   "source": [
    "## %开头的三位数编码"
   ]
  },
  {
   "cell_type": "code",
   "execution_count": null,
   "metadata": {
    "hidden": true
   },
   "outputs": [],
   "source": [
    "import urllib"
   ]
  },
  {
   "cell_type": "code",
   "execution_count": null,
   "metadata": {
    "hidden": true
   },
   "outputs": [],
   "source": [
    "urllib.parse.unquote(urllib.parse.quote('李思源', encoding='utf-8', errors='replace'), encoding='utf-8', errors='replace')"
   ]
  },
  {
   "cell_type": "markdown",
   "metadata": {
    "heading_collapsed": true,
    "id": "zeOJ775gKEzt"
   },
   "source": [
    "# panads"
   ]
  },
  {
   "cell_type": "code",
   "execution_count": null,
   "metadata": {
    "hidden": true
   },
   "outputs": [],
   "source": [
    "translator = Translator(to_lang=\"zh\")\n",
    "translation = translator.translate(\"This is a pen.\")"
   ]
  },
  {
   "cell_type": "code",
   "execution_count": null,
   "metadata": {
    "hidden": true
   },
   "outputs": [],
   "source": [
    "translator = Translator(from_lang=\"zh\", to_lang=\"en\")\n",
    "translation = translator.translate(\"开心快乐！\")"
   ]
  },
  {
   "cell_type": "markdown",
   "metadata": {
    "hidden": true,
    "id": "VXNaJH6eKnK2"
   },
   "source": [
    "安装所需包"
   ]
  },
  {
   "cell_type": "code",
   "execution_count": null,
   "metadata": {
    "colab": {
     "base_uri": "https://localhost:8080/"
    },
    "hidden": true,
    "id": "ev7K-tmHKkgb",
    "outputId": "c5dd3d09-f967-4d10-9d08-3586407d08dc"
   },
   "outputs": [],
   "source": [
    "!pip install pandarallel"
   ]
  },
  {
   "cell_type": "markdown",
   "metadata": {
    "hidden": true,
    "id": "h7e7Z0wvKgFF"
   },
   "source": [
    "导入所需包"
   ]
  },
  {
   "cell_type": "code",
   "execution_count": null,
   "metadata": {
    "hidden": true,
    "id": "yT0fdrz0KfVo"
   },
   "outputs": [],
   "source": [
    "import pandas as pd\n",
    "import time\n",
    "import math\n",
    "import numpy as np\n",
    "from pandarallel import pandarallel"
   ]
  },
  {
   "cell_type": "code",
   "execution_count": null,
   "metadata": {
    "colab": {
     "base_uri": "https://localhost:8080/"
    },
    "hidden": true,
    "id": "b0fsKgpWKrtx",
    "outputId": "6ba34c0c-efec-4cdc-e7e2-ec6d97951389"
   },
   "outputs": [],
   "source": [
    "# 初始化\n",
    "pandarallel.initialize()\n",
    "df_size = int(5e6)\n",
    "df = pd.DataFrame(dict(a=np.random.randint(1, 8, df_size), b=np.random.rand(df_size)))"
   ]
  },
  {
   "cell_type": "code",
   "execution_count": null,
   "metadata": {
    "colab": {
     "base_uri": "https://localhost:8080/"
    },
    "hidden": true,
    "id": "PpF6SkbkKuLB",
    "outputId": "1f1ba048-a2fb-4079-852f-35863e874d67"
   },
   "outputs": [],
   "source": [
    "def func(x):\n",
    "    return math.sin(x.a ** 2) + math.sin(x.b ** 2)\n",
    "\n",
    "\n",
    "# 正常处理\n",
    "res = df.apply(func, axis=1)\n",
    "\n",
    "# 并行处理\n",
    "res_parallel = df.parallel_apply(func, axis=1)\n",
    "\n",
    "# 查看结果是否相同\n",
    "res.equals(res_parallel)"
   ]
  },
  {
   "cell_type": "markdown",
   "metadata": {
    "heading_collapsed": true
   },
   "source": [
    "# 识别"
   ]
  },
  {
   "cell_type": "markdown",
   "metadata": {
    "hidden": true
   },
   "source": [
    "## 文字识别"
   ]
  },
  {
   "cell_type": "markdown",
   "metadata": {
    "hidden": true
   },
   "source": [
    "### pytesseract\n",
    "\n",
    "安装包：pytesseract"
   ]
  },
  {
   "cell_type": "markdown",
   "metadata": {
    "hidden": true
   },
   "source": [
    "导入包"
   ]
  },
  {
   "cell_type": "code",
   "execution_count": null,
   "metadata": {
    "hidden": true
   },
   "outputs": [],
   "source": [
    "from PIL import Image\n",
    "import pytesseract"
   ]
  },
  {
   "cell_type": "markdown",
   "metadata": {
    "hidden": true
   },
   "source": [
    "#### Mac"
   ]
  },
  {
   "cell_type": "markdown",
   "metadata": {
    "hidden": true
   },
   "source": [
    "##### brew"
   ]
  },
  {
   "cell_type": "markdown",
   "metadata": {
    "hidden": true
   },
   "source": [
    "[tesseract project](https://github.com/tesseract-ocr/tesseract/)、[tesseract doc](https://github.com/tesseract-ocr/tessdoc)。安装：`brew install tesseract`\n",
    "\n",
    "此过程可能会需要安装其他工具包：brew install --with-training-tools tesseract (说明：无效)、`brew install automake autoconf libtool`、`brew install pkgconfig`、`brew install icu4c`、`brew install leptonica`、`brew install pango`、\n",
    "`brew install libarchive`、`brew install gcc`、`brew install cmake-docs`。安装完毕后需要下载[tessdata](https://github.com/tesseract-ocr/tessdata_best)包\n",
    "，下载完成之后需要自定义一个目录用来专门存放数据，放在通用文件夹`/Users/li/Drive/Mac/Tool/Brew/tesseract`下，全路径为`/Users/li/Drive/Mac/Tool/Brew/tesseract/tessdata`。\n",
    "\n",
    "在sh文件夹下写入路径，在专门存放brew的sh下加入TESSDATA_PREFIX=存放tessdata的全路径\n",
    "```bash\n",
    "# >>> set tesseract environment >>>\n",
    "export TESSDATA_PREFIX=/Users/li/Drive/Mac/Tool/Brew/tesseract/tessdata\n",
    "# <<< end tesseract environment <<<\n",
    "```\n",
    "\n",
    "在终端输入测试是否可以正常：`tesseract -l chi_sim 1234.png 1234`"
   ]
  },
  {
   "cell_type": "code",
   "execution_count": null,
   "metadata": {
    "hidden": true
   },
   "outputs": [],
   "source": [
    "text = pytesseract.image_to_string(Image.open('/Users/li/Downloads/1234.png'), lang='chi_sim')"
   ]
  }
 ],
 "metadata": {
  "colab": {
   "collapsed_sections": [
    "0TgZXnNceEja",
    "j9Y4F3oMeHrp",
    "ezWImz7feSYR",
    "jLiPCfpzeYvp",
    "mCdom_rhedXD",
    "SmDb9KMheh02",
    "a6UcnHRBepVW",
    "swoLmE0zgJEX",
    "VnIkDwyb7Pcq",
    "TdFKDheY7aso",
    "RotSJjhe7h8O",
    "XFvBTlDa7nuw",
    "jtffbygl8djr",
    "WE06rbef8jRH",
    "3mBd5rLD9ray",
    "JhnGqJQyND01",
    "5scxGIYctIcY",
    "zeOJ775gKEzt"
   ],
   "provenance": [],
   "toc_visible": true
  },
  "kernelspec": {
   "display_name": "Python 3 (ipykernel)",
   "language": "python",
   "name": "python3"
  },
  "language_info": {
   "codemirror_mode": {
    "name": "ipython",
    "version": 3
   },
   "file_extension": ".py",
   "mimetype": "text/x-python",
   "name": "python",
   "nbconvert_exporter": "python",
   "pygments_lexer": "ipython3",
   "version": "3.11.2"
  },
  "latex_envs": {
   "LaTeX_envs_menu_present": true,
   "autoclose": false,
   "autocomplete": true,
   "bibliofile": "biblio.bib",
   "cite_by": "apalike",
   "current_citInitial": 1,
   "eqLabelWithNumbers": true,
   "eqNumInitial": 1,
   "hotkeys": {
    "equation": "Ctrl-E",
    "itemize": "Ctrl-I"
   },
   "labels_anchors": false,
   "latex_user_defs": false,
   "report_style_numbering": false,
   "user_envs_cfg": false
  },
  "toc": {
   "base_numbering": 1,
   "nav_menu": {
    "height": "439px",
    "width": "300px"
   },
   "number_sections": true,
   "sideBar": true,
   "skip_h1_title": false,
   "title_cell": "Table of Contents",
   "title_sidebar": "Contents",
   "toc_cell": false,
   "toc_position": {
    "height": "calc(100% - 180px)",
    "left": "10px",
    "top": "150px",
    "width": "302.391px"
   },
   "toc_section_display": true,
   "toc_window_display": true
  }
 },
 "nbformat": 4,
 "nbformat_minor": 1
}
