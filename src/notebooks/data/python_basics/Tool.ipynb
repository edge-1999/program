{
 "cells": [
  {
   "cell_type": "markdown",
   "id": "913870b6",
   "metadata": {},
   "source": [
    "# 网络"
   ]
  },
  {
   "cell_type": "markdown",
   "id": "1b70c133",
   "metadata": {},
   "source": [
    "## IP"
   ]
  },
  {
   "cell_type": "code",
   "execution_count": null,
   "id": "fa4ba222",
   "metadata": {},
   "outputs": [],
   "source": [
    "import json\n",
    "import ssl\n",
    "import socket\n",
    "from urllib.request import urlopen\n",
    "\n",
    "print(\"你的电脑本地IP地址是：\" + socket.gethostbyname(socket.gethostname()))\n",
    "\n",
    "ssl._create_default_https_context = ssl.create_default_context  # 全局取消证书验证\n",
    "\n",
    "# https://ipv4.jsonip.com/ https://ipv6.jsonip.com/ https://jsonip.com/\n",
    "with urlopen(r'https://jsonip.com') as fp:\n",
    "    content = fp.read().decode()\n",
    "\n",
    "ip = json.loads(content)['ip']\n",
    "print(\"你的电脑公网IP地址是：\" + ip)"
   ]
  },
  {
   "cell_type": "markdown",
   "id": "f36d070f",
   "metadata": {},
   "source": [
    "## 网速测试"
   ]
  },
  {
   "cell_type": "code",
   "execution_count": null,
   "id": "f328c283",
   "metadata": {},
   "outputs": [],
   "source": [
    "import speedtest\n",
    "# https://github.com/sivel/speedtest-cli\n",
    "# 全局取消证书验证\n",
    "import ssl\n",
    "ssl._create_default_https_context = ssl._create_unverified_context\n",
    "\n",
    "test = speedtest.Speedtest()\n",
    "down = test.download()\n",
    "upload = test.upload()\n",
    "\n",
    "print(f\"上传速度：{round(upload/(1024 * 1024),2)} Mbps\")\n",
    "print(f\"下载速度：{round(down/(1024 * 1024),2)} Mbps\")"
   ]
  },
  {
   "cell_type": "markdown",
   "id": "eaf9c728",
   "metadata": {},
   "source": [
    "# 环境操作"
   ]
  },
  {
   "cell_type": "code",
   "execution_count": null,
   "id": "8d0fda36",
   "metadata": {},
   "outputs": [],
   "source": [
    "import sys\n",
    "import time\n",
    "\n",
    "# for i in range(10):\n",
    "#     # 命令行输入\n",
    "#     sys.stdout.write('#')\n",
    "#     time.sleep(1)\n",
    "#     sys.stdout.flush()\n",
    "\n",
    "# print('文件/文件夹权限', os.chmod('1.py', 777))\n",
    "\n",
    "# print('运行shell命令: ', os.system('cat ~/.zshrc'))\n",
    "# print('读取环境变量:', os.environ.get('ALL_PROXY'))\n",
    "# print('读取环境变量:', os.getenv('ALL_PROXY'))\n",
    "# # print('设置环境变量:os.putenv()', os.putenv('GOPATH', ''))\n",
    "# os.environ['WORKON_HOME'] = \"value\"  # 设置环境变量\n",
    "# del os.environ['WORKON_HOME']  # 删除环境变量\n",
    "\n",
    "# print('给出当前平台使用的行终止符', os.linesep)  # Windows使用’\\r\\n’，Linux使用’\\n’而Mac使用’\\r’\n",
    "# print('正在使用的平台:', os.name)  # 对于Windows，它是’nt’，而对于Linux/Unix用户，它是’posix’\n",
    "# print('获取Windows的版本,返回一个描述当前正在运行的Windows版本的命名元组', sys.getwindowsversion())\n",
    "# print('返回操作系统平台名称', sys.platform)\n",
    "# # print('终止当前进程:', os.exit())\n",
    "# print('返回用于dlopen()调用的标志的当前值', sys.getdlopenflags())  # 标志常量在dl和DLFCN模块中定义。可用性：Unix。\n",
    "# print('获取设置的探查器功能setprofile()。', sys.getprofile())\n",
    "# print('获取设置的跟踪功能settrace()。', sys.gettrace())\n",
    "\n",
    "\n",
    "# print('获取当前正在处理的异常类,exc_type、exc_value、exc_traceback当前处理的异常详细信息:', sys.exc_info())\n",
    "# print('获取Python解释程序的版本值，16进制格式如：0x020403F0->', sys.hexversion)\n",
    "# print('获取Python解释程序的版本', sys.version)\n",
    "# print('返回平台独立的python文件安装的位置', sys.exec_prefix)\n",
    "# print('解释器的C的API版本', sys.api_version)\n",
    "# print('解释器版本信息 返回major=3, minor=6, micro=6, releaselevel=\"final\", serial=0, '\n",
    "#       '‘final’表示最终,也有’candidate’表示候选，serial表示版本级别，是否有后继的发行', sys.version_info)\n",
    "# print('Python解释器导入的模块列表', sys.builtin_module_names)\n",
    "# print('Python解释程序路径:', sys.executable)\n",
    "# print('程序本身路径:第一个元素:', sys.argv)\n",
    "# print('返回系统导入的模块字段，key是模块名，value是模块:', sys.modules)\n",
    "# print('所有已经导入的模块名:', sys.modules.keys())\n",
    "# print('所有已经导入的模块:', sys.modules.values())\n",
    "# print('返回模块的搜索路径，初始化时使用PYTHONPATH环境变量的值', sys.path)\n",
    "# print('记录python版权相关的东西', sys.copyright)\n",
    "# print('本地字节规则的指示器:', sys.byteorder)  # big-endian平台的值是’big’,little-endian平台的值是’little’\n",
    "# # print('用来清除当前线程所出现的当前的或最近的错误信息:', sys.exc_clear())\n",
    "# # 打印出给定的回溯和异常sys.stderr。print(sys.excepthook(type, 'value', 'callback'))\n",
    "# print('清除内部类型缓存。类型缓存用于加速属性和方法查找', sys._clear_type_cache())\n",
    "print('返回一个字典，将每个线程的标识符映射到调用该函数时该线程中当前活动的最顶层堆栈帧。', sys._current_frames())\n",
    "# # print('指定Python DLL句柄的整数: ', sys.dllhandle)\n",
    "# # print('获取检查间隔', sys.getcheckinterval())\n",
    "\n",
    "\n",
    "# print('退出程序，正常退出时exit(0)', sys.exit(0))\n",
    "\n",
    "# print('错误输出', sys.stderr)\n",
    "# print('标准输入', sys.stdin)\n",
    "# print('标准输出', sys.stdout)\n",
    "# print('标准输出:', sys.stdout.write('output'))\n",
    "# print('标准输入:', sys.stdin.readline()[:-1])\n",
    "# print('返回当前你所用的默认的字符编码格式', sys.getdefaultencoding())\n",
    "# print(' 返回将Unicode文件名转换成系统文件名的编码的名字:', sys.getfilesystemencoding())\n",
    "# # print('用来设置当前默认的字符编码，如果name和任何一个可用的编码都不匹配，抛出 LookupError，这个函数只会被site模块的sitecustomize使用，一旦别site模块使用了，他会从sys模块移除',\n",
    "#       sys.setdefaultencoding('utf-8'))\n",
    "# print('最大的Unicode值:', sys.maxunicode)\n",
    "# # 最大的Int值 print(sys.maxint)\n",
    "\n",
    "\n",
    "# # print(\"如果value非空，这个函数会把他输出到sys.stdout，并且将他保存进__builtin__._.指在python的交互式解释器里，’_’ 代表上次你输入得到的结果，hook是钩子的意思，将上次的结果钩过来\",\n",
    "#       sys.displayhook(''))\n",
    "\n",
    "\n",
    "# # 呼叫func(*args)，同时启用跟踪。跟踪状态被保存，然后恢复。\n",
    "# # 这是从调试器从检查点调用，以递归调试其他一些代码。\n",
    "# sys.call_tracing(func，args)\n",
    "\n",
    "#\n",
    "# # 如果这是真的，Python将不会尝试在源模块的导入上编写.pyc或.pyo文件。\n",
    "# # 此值最初设置为True或 False取决于-B命令行选项\n",
    "# # 和 PYTHONDONTWRITEBYTECODE 环境变量，但您可以自己设置它来控制字节码文件的生成。\n",
    "# sys.dont_write_bytecode\n",
    "\n",
    "# # 返回对象的引用计数。返回的计数通常比您预期的高一个，因为它包含（临时）引用作为参数getrefcount()。\n",
    "# sys.getrefcount（对象）\n",
    "#\n",
    "# # 以字节为单位返回对象的大小。对象可以是任何类型的对象。所有内置对象都将返回正确的结果，但这不一定适用于第三方扩展，因为它是特定于实现的。\n",
    "# # 如果给定，则如果对象未提供检索大小的方法，则将返回default。否则TypeError将被提出。\n",
    "# # 如果对象由垃圾收集器管理，则调用该对象的方法并添加额外的垃圾收集器开销。\n",
    "# sys.getsizeof（对象[，默认] ）\n",
    "#\n",
    "# # 从调用堆栈返回一个框架对象。如果给出了可选的整数深度，\n",
    "# # 则返回堆栈顶部下方多次调用的帧对象。如果它比调用堆栈更深，\n",
    "# # ValueError则引发。深度的默认值为零，返回调用堆栈顶部的帧。\n",
    "# sys._getframe（[深度] ）"
   ]
  }
 ],
 "metadata": {
  "kernelspec": {
   "display_name": "Python [conda env:AI] *",
   "language": "python",
   "name": "conda-env-AI-py"
  },
  "language_info": {
   "codemirror_mode": {
    "name": "ipython",
    "version": 3
   },
   "file_extension": ".py",
   "mimetype": "text/x-python",
   "name": "python",
   "nbconvert_exporter": "python",
   "pygments_lexer": "ipython3",
   "version": "3.10.4"
  },
  "latex_envs": {
   "LaTeX_envs_menu_present": true,
   "autoclose": false,
   "autocomplete": true,
   "bibliofile": "biblio.bib",
   "cite_by": "apalike",
   "current_citInitial": 1,
   "eqLabelWithNumbers": true,
   "eqNumInitial": 1,
   "hotkeys": {
    "equation": "Ctrl-E",
    "itemize": "Ctrl-I"
   },
   "labels_anchors": false,
   "latex_user_defs": false,
   "report_style_numbering": false,
   "user_envs_cfg": false
  },
  "toc": {
   "base_numbering": 1,
   "nav_menu": {},
   "number_sections": true,
   "sideBar": true,
   "skip_h1_title": false,
   "title_cell": "Table of Contents",
   "title_sidebar": "Contents",
   "toc_cell": false,
   "toc_position": {},
   "toc_section_display": true,
   "toc_window_display": true
  }
 },
 "nbformat": 4,
 "nbformat_minor": 5
}
