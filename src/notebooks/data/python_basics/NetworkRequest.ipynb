{
 "cells": [
  {
   "cell_type": "markdown",
   "metadata": {
    "collapsed": true
   },
   "source": [
    "# socket"
   ]
  },
  {
   "cell_type": "markdown",
   "metadata": {},
   "source": [
    "## 服务端"
   ]
  },
  {
   "cell_type": "code",
   "execution_count": null,
   "metadata": {},
   "outputs": [],
   "source": [
    "import socket\n",
    "\n",
    "# 1.监听本机的IP和端口\n",
    "sock = socket.socket(socket.AF_INET, socket.SOCK_STREAM)\n",
    "sock.setsockopt(socket.SOL_SOCKET, socket.SO_REUSEADDR, 1)\n",
    "sock.bind(('192.168.10.3', 8001))  # 我自己的电脑IP，端口8001\n",
    "\n",
    "# 2.让多少人等待\n",
    "sock.listen(5)\n",
    "\n",
    "while True:\n",
    "    # 3.等待连接请求的申请，有人来连接（阻塞）\n",
    "    conn, addr = sock.accept()\n",
    "\n",
    "    # 4.连接成功后立即发送\n",
    "    conn.sendall(\"欢迎使用xx系统\".encode(\"utf-8\"))\n",
    "\n",
    "    # 5.断开连接\n",
    "    conn.close()\n",
    "\n",
    "\n",
    "# 6.停止服务端程序\n",
    "sock.close()"
   ]
  },
  {
   "cell_type": "code",
   "execution_count": null,
   "metadata": {},
   "outputs": [],
   "source": [
    "import socket\n",
    "\n",
    "# 1.监听本机的IP和端口\n",
    "sock = socket.socket(socket.AF_INET, socket.SOCK_STREAM)\n",
    "sock.setsockopt(socket.SOL_SOCKET, socket.SO_REUSEADDR, 1)\n",
    "sock.bind(('192.168.0.6', 9000))  # 我自己的电脑IP，端口8001\n",
    "\n",
    "# 2.让多少人等待\n",
    "sock.listen(5)\n",
    "\n",
    "while True:\n",
    "    # 3.等待连接请求的申请，有人来连接（阻塞） -> 登录浏览器来连接我\n",
    "    conn, addr = sock.accept()\n",
    "\n",
    "    # 4.收到浏览器发送的消息\n",
    "    buf = conn.recv(2048)\n",
    "    print(buf)\n",
    "\n",
    "    # 5.给浏览器返回数据\n",
    "    conn.send(b\"HTTP/1.1 200 OK\\r\\n\\r\\n\")\n",
    "    conn.send(b\"Hello, World\")\n",
    "\n",
    "    # 6.断开连接\n",
    "    conn.close()\n",
    "\n",
    "# 6.停止服务端程序\n",
    "sock.close()"
   ]
  },
  {
   "cell_type": "markdown",
   "metadata": {},
   "source": [
    "## 客户端"
   ]
  },
  {
   "cell_type": "code",
   "execution_count": null,
   "metadata": {},
   "outputs": [],
   "source": [
    "import socket\n",
    "\n",
    "# 1. 向指定IP发送连接请求\n",
    "client = socket.socket(socket.AF_INET, socket.SOCK_STREAM)\n",
    "client.connect(('192.168.10.3', 8001))\n",
    "\n",
    "# 2. 接收你发的消息\n",
    "message = client.recv(1024)\n",
    "print(message.decode(\"utf-8\"))\n",
    "\n",
    "# 3.断开连接\n",
    "client.close()"
   ]
  },
  {
   "cell_type": "markdown",
   "metadata": {},
   "source": [
    "# web框架"
   ]
  },
  {
   "cell_type": "markdown",
   "metadata": {},
   "source": [
    "常见的web框架：django、flask、tornado、sanic、fastapi.."
   ]
  },
  {
   "cell_type": "markdown",
   "metadata": {},
   "source": [
    "以django为例： wsgiref模块、uwsgi、daphne    -> 本质上都是socket实现。"
   ]
  },
  {
   "cell_type": "markdown",
   "metadata": {},
   "source": [
    "# wsgiref"
   ]
  },
  {
   "cell_type": "code",
   "execution_count": null,
   "metadata": {},
   "outputs": [],
   "source": [
    "from wsgiref.simple_server import make_server\n",
    "\n",
    "\n",
    "def run_server(environ, start_response):\n",
    "    start_response('200 OK', [('Content-Type', 'text/html')])\n",
    "    return [bytes('<h1>Hello, web!</h1>', encoding='utf-8'), ]\n",
    "\n",
    "\n",
    "if __name__ == '__main__':\n",
    "    httpd = make_server('127.0.0.1', 8000, run_server)\n",
    "    httpd.serve_forever()"
   ]
  },
  {
   "cell_type": "markdown",
   "metadata": {},
   "source": [
    "# werkzeug"
   ]
  },
  {
   "cell_type": "markdown",
   "metadata": {},
   "source": [
    "pip install werkzeug"
   ]
  },
  {
   "cell_type": "code",
   "execution_count": null,
   "metadata": {},
   "outputs": [],
   "source": [
    "from werkzeug.wrappers import Response\n",
    "\n",
    "\n",
    "def application(environ, start_response):\n",
    "    response = Response('Hello World!', mimetype='text/plain')\n",
    "    return response(environ, start_response)\n",
    "\n",
    "\n",
    "if __name__ == '__main__':\n",
    "    from werkzeug.serving import run_simple\n",
    "\n",
    "    run_simple('localhost', 4000, application)"
   ]
  },
  {
   "cell_type": "code",
   "execution_count": null,
   "metadata": {},
   "outputs": [],
   "source": []
  },
  {
   "cell_type": "code",
   "execution_count": null,
   "metadata": {},
   "outputs": [],
   "source": []
  },
  {
   "cell_type": "code",
   "execution_count": null,
   "metadata": {},
   "outputs": [],
   "source": []
  },
  {
   "cell_type": "code",
   "execution_count": null,
   "metadata": {},
   "outputs": [],
   "source": []
  },
  {
   "cell_type": "code",
   "execution_count": null,
   "metadata": {},
   "outputs": [],
   "source": []
  },
  {
   "cell_type": "code",
   "execution_count": null,
   "metadata": {},
   "outputs": [],
   "source": []
  },
  {
   "cell_type": "code",
   "execution_count": null,
   "metadata": {},
   "outputs": [],
   "source": []
  }
 ],
 "metadata": {
  "kernelspec": {
   "display_name": "Python 3 (ipykernel)",
   "language": "python",
   "name": "python3"
  },
  "language_info": {
   "codemirror_mode": {
    "name": "ipython",
    "version": 3
   },
   "file_extension": ".py",
   "mimetype": "text/x-python",
   "name": "python",
   "nbconvert_exporter": "python",
   "pygments_lexer": "ipython3",
   "version": "3.10.4"
  },
  "latex_envs": {
   "LaTeX_envs_menu_present": true,
   "autoclose": false,
   "autocomplete": true,
   "bibliofile": "biblio.bib",
   "cite_by": "apalike",
   "current_citInitial": 1,
   "eqLabelWithNumbers": true,
   "eqNumInitial": 1,
   "hotkeys": {
    "equation": "Ctrl-E",
    "itemize": "Ctrl-I"
   },
   "labels_anchors": false,
   "latex_user_defs": false,
   "report_style_numbering": false,
   "user_envs_cfg": false
  },
  "toc": {
   "base_numbering": 1,
   "nav_menu": {},
   "number_sections": true,
   "sideBar": true,
   "skip_h1_title": false,
   "title_cell": "Table of Contents",
   "title_sidebar": "Contents",
   "toc_cell": false,
   "toc_position": {},
   "toc_section_display": true,
   "toc_window_display": true
  }
 },
 "nbformat": 4,
 "nbformat_minor": 1
}
