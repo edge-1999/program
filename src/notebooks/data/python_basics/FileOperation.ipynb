{
 "cells": [
  {
   "cell_type": "markdown",
   "metadata": {
    "toc": true
   },
   "source": [
    "<h1>Table of Contents<span class=\"tocSkip\"></span></h1>\n",
    "<div class=\"toc\"><ul class=\"toc-item\"><li><span><a href=\"#python操作路径\" data-toc-modified-id=\"python操作路径-1\"><span class=\"toc-item-num\">1&nbsp;&nbsp;</span>python操作路径</a></span><ul class=\"toc-item\"><li><span><a href=\"#当前脚目录路径\" data-toc-modified-id=\"当前脚目录路径-1.1\"><span class=\"toc-item-num\">1.1&nbsp;&nbsp;</span>当前脚目录路径</a></span></li><li><span><a href=\"#判断路径\" data-toc-modified-id=\"判断路径-1.2\"><span class=\"toc-item-num\">1.2&nbsp;&nbsp;</span>判断路径</a></span></li></ul></li><li><span><a href=\"#基础库操作\" data-toc-modified-id=\"基础库操作-2\"><span class=\"toc-item-num\">2&nbsp;&nbsp;</span>基础库操作</a></span><ul class=\"toc-item\"><li><span><a href=\"#查看目录文件\" data-toc-modified-id=\"查看目录文件-2.1\"><span class=\"toc-item-num\">2.1&nbsp;&nbsp;</span>查看目录文件</a></span></li><li><span><a href=\"#创建文件文件夹\" data-toc-modified-id=\"创建文件文件夹-2.2\"><span class=\"toc-item-num\">2.2&nbsp;&nbsp;</span>创建文件文件夹</a></span></li><li><span><a href=\"#删除文件文件夹\" data-toc-modified-id=\"删除文件文件夹-2.3\"><span class=\"toc-item-num\">2.3&nbsp;&nbsp;</span>删除文件文件夹</a></span></li><li><span><a href=\"#判断文件文件夹\" data-toc-modified-id=\"判断文件文件夹-2.4\"><span class=\"toc-item-num\">2.4&nbsp;&nbsp;</span>判断文件文件夹</a></span></li><li><span><a href=\"#获取文件相关信息\" data-toc-modified-id=\"获取文件相关信息-2.5\"><span class=\"toc-item-num\">2.5&nbsp;&nbsp;</span>获取文件相关信息</a></span></li><li><span><a href=\"#文件文件夹移动复制\" data-toc-modified-id=\"文件文件夹移动复制-2.6\"><span class=\"toc-item-num\">2.6&nbsp;&nbsp;</span>文件文件夹移动复制</a></span></li><li><span><a href=\"#修改文件文件夹相关信息\" data-toc-modified-id=\"修改文件文件夹相关信息-2.7\"><span class=\"toc-item-num\">2.7&nbsp;&nbsp;</span>修改文件文件夹相关信息</a></span></li></ul></li><li><span><a href=\"#Json文件操作\" data-toc-modified-id=\"Json文件操作-3\"><span class=\"toc-item-num\">3&nbsp;&nbsp;</span>Json文件操作</a></span><ul class=\"toc-item\"><li><span><a href=\"#在python操作json数据\" data-toc-modified-id=\"在python操作json数据-3.1\"><span class=\"toc-item-num\">3.1&nbsp;&nbsp;</span>在python操作json数据</a></span></li><li><span><a href=\"#数据与json文件交互\" data-toc-modified-id=\"数据与json文件交互-3.2\"><span class=\"toc-item-num\">3.2&nbsp;&nbsp;</span>数据与json文件交互</a></span></li></ul></li><li><span><a href=\"#CSV文件操作\" data-toc-modified-id=\"CSV文件操作-4\"><span class=\"toc-item-num\">4&nbsp;&nbsp;</span>CSV文件操作</a></span><ul class=\"toc-item\"><li><span><a href=\"#pandas读取操作\" data-toc-modified-id=\"pandas读取操作-4.1\"><span class=\"toc-item-num\">4.1&nbsp;&nbsp;</span>pandas读取操作</a></span><ul class=\"toc-item\"><li><span><a href=\"#读取\" data-toc-modified-id=\"读取-4.1.1\"><span class=\"toc-item-num\">4.1.1&nbsp;&nbsp;</span>读取</a></span></li><li><span><a href=\"#数据操作\" data-toc-modified-id=\"数据操作-4.1.2\"><span class=\"toc-item-num\">4.1.2&nbsp;&nbsp;</span>数据操作</a></span></li></ul></li></ul></li><li><span><a href=\"#doc_docx\" data-toc-modified-id=\"doc_docx-5\"><span class=\"toc-item-num\">5&nbsp;&nbsp;</span>doc_docx</a></span><ul class=\"toc-item\"><li><span><a href=\"#Mac-doc转换为docx\" data-toc-modified-id=\"Mac-doc转换为docx-5.1\"><span class=\"toc-item-num\">5.1&nbsp;&nbsp;</span>Mac doc转换为docx</a></span></li><li><span><a href=\"#docx\" data-toc-modified-id=\"docx-5.2\"><span class=\"toc-item-num\">5.2&nbsp;&nbsp;</span>docx</a></span><ul class=\"toc-item\"><li><span><a href=\"#docx-读取\" data-toc-modified-id=\"docx-读取-5.2.1\"><span class=\"toc-item-num\">5.2.1&nbsp;&nbsp;</span>docx 读取</a></span></li><li><span><a href=\"#docx写入\" data-toc-modified-id=\"docx写入-5.2.2\"><span class=\"toc-item-num\">5.2.2&nbsp;&nbsp;</span>docx写入</a></span></li></ul></li></ul></li><li><span><a href=\"#mp3\" data-toc-modified-id=\"mp3-6\"><span class=\"toc-item-num\">6&nbsp;&nbsp;</span>mp3</a></span></li><li><span><a href=\"#xlsx_xls\" data-toc-modified-id=\"xlsx_xls-7\"><span class=\"toc-item-num\">7&nbsp;&nbsp;</span>xlsx_xls</a></span><ul class=\"toc-item\"><li><span><a href=\"#读取\" data-toc-modified-id=\"读取-7.1\"><span class=\"toc-item-num\">7.1&nbsp;&nbsp;</span>读取</a></span></li><li><span><a href=\"#修改\" data-toc-modified-id=\"修改-7.2\"><span class=\"toc-item-num\">7.2&nbsp;&nbsp;</span>修改</a></span></li><li><span><a href=\"#公式\" data-toc-modified-id=\"公式-7.3\"><span class=\"toc-item-num\">7.3&nbsp;&nbsp;</span>公式</a></span></li><li><span><a href=\"#写入\" data-toc-modified-id=\"写入-7.4\"><span class=\"toc-item-num\">7.4&nbsp;&nbsp;</span>写入</a></span></li><li><span><a href=\"#冻结窗口\" data-toc-modified-id=\"冻结窗口-7.5\"><span class=\"toc-item-num\">7.5&nbsp;&nbsp;</span>冻结窗口</a></span></li><li><span><a href=\"#合并单元格\" data-toc-modified-id=\"合并单元格-7.6\"><span class=\"toc-item-num\">7.6&nbsp;&nbsp;</span>合并单元格</a></span></li><li><span><a href=\"#图像\" data-toc-modified-id=\"图像-7.7\"><span class=\"toc-item-num\">7.7&nbsp;&nbsp;</span>图像</a></span></li><li><span><a href=\"#图标\" data-toc-modified-id=\"图标-7.8\"><span class=\"toc-item-num\">7.8&nbsp;&nbsp;</span>图标</a></span></li><li><span><a href=\"#样式\" data-toc-modified-id=\"样式-7.9\"><span class=\"toc-item-num\">7.9&nbsp;&nbsp;</span>样式</a></span></li></ul></li><li><span><a href=\"#MD文件\" data-toc-modified-id=\"MD文件-8\"><span class=\"toc-item-num\">8&nbsp;&nbsp;</span>MD文件</a></span></li><li><span><a href=\"#文件加密解密处理\" data-toc-modified-id=\"文件加密解密处理-9\"><span class=\"toc-item-num\">9&nbsp;&nbsp;</span>文件加密解密处理</a></span><ul class=\"toc-item\"><li><span><a href=\"#md5\" data-toc-modified-id=\"md5-9.1\"><span class=\"toc-item-num\">9.1&nbsp;&nbsp;</span>md5</a></span></li></ul></li></ul></div>"
   ]
  },
  {
   "cell_type": "markdown",
   "metadata": {},
   "source": [
    "安装包\n",
    "!pip install orjson==1.3.0\n",
    "!pip install pandas -i https://pypi.doubanio.com/simple/"
   ]
  },
  {
   "cell_type": "markdown",
   "metadata": {},
   "source": [
    "存放所需包"
   ]
  },
  {
   "cell_type": "code",
   "execution_count": 1,
   "metadata": {
    "ExecuteTime": {
     "end_time": "2022-12-29T12:46:44.543725Z",
     "start_time": "2022-12-29T12:46:44.532266Z"
    }
   },
   "outputs": [],
   "source": [
    "import os\n",
    "import sys\n",
    "import time\n",
    "import shutil\n",
    "import threading\n",
    "import subprocess\n",
    "\n",
    "import pandas as pd\n",
    "import numpy as np"
   ]
  },
  {
   "cell_type": "markdown",
   "metadata": {},
   "source": [
    "# python操作路径"
   ]
  },
  {
   "cell_type": "markdown",
   "metadata": {},
   "source": [
    "## 当前脚目录路径"
   ]
  },
  {
   "cell_type": "code",
   "execution_count": null,
   "metadata": {},
   "outputs": [],
   "source": [
    "os.chdir(\"/Users/lijundong/Library/Mobile Documents/com~apple~CloudDocs/操作日志/Go\")  # 切换目录\n",
    "print(\"当前脚本的位置：\", sys.argv[0])\n",
    "os.chdir(os.getcwd())  # 切换当前目录\n",
    "print(\"获取当前目录：\", os.getcwd())\n",
    "print('Python解释程序路径:', sys.executable)\n",
    "print('当前根目录:{}'.format(sys.path[0]))\n",
    "print('当前目录:{}'.format(sys.argv[0]))\n",
    "print('当前目录:{}'.format(__file__))\n",
    "print(dir(sys))\n",
    "print(sys.hash_info)\n",
    "os.chdir(os.path.split(os.path.realpath(__file__))[0])\n",
    "print(\"当前工作目录\", os.path.abspath(os.curdir))\n",
    "print(\"当前工作目录：\", os.path.split(os.path.realpath(__file__))[0])\n",
    "print(\"当前工作目录：\", os.path.abspath(os.curdir))  # 获得当前工作目录\n",
    "print(\"当前工作目录：\", os.path.abspath('.'))  # 获得当前工作目录\n",
    "print(\"当前工作目录的父目录：\", os.path.abspath('..'))  # 获得当前工作目录的父目录\n",
    "fd = os.open(os.path.abspath('..'), os.O_RDONLY)  # 打开新目录 os.path.abspath('..')\n",
    "os.fchdir(fd)  # 使用 os.fchdir() 方法修改到新目录\n",
    "print(\"当前工作目录为 : %s\" % os.getcwd())\n",
    "os.close(fd)  # 关闭打开的目录"
   ]
  },
  {
   "cell_type": "code",
   "execution_count": null,
   "outputs": [],
   "source": [
    "from pathlib import Path"
   ],
   "metadata": {
    "collapsed": false,
    "pycharm": {
     "is_executing": true
    }
   }
  },
  {
   "cell_type": "markdown",
   "metadata": {},
   "source": [
    "## 判断路径"
   ]
  },
  {
   "cell_type": "code",
   "execution_count": null,
   "metadata": {},
   "outputs": [],
   "source": [
    "print('判断是否是绝对路径：', os.path.isabs('/Users/lijundong/Downloads/高级思路.xmind'))\n",
    "print('分离扩展名：', os.path.splitext('高级思路.xmind'))\n",
    "print('获取路径名：', os.path.dirname('/Users/lijundong/Downloads/高级思路.xmind'))\n",
    "print('获取文件名：', os.path.basename('高级思路.xmind'))\n",
    "print('获取文件名：', os.path.basename('/Users/lijundong/Downloads/高级思路.xmind'))\n",
    "print('判断文件/文件夹是否存在', os.path.exists('/Users/lijundong/Downloads/高级思路.xmind'))\n",
    "print('判断是不是文件夹：->', os.path.isdir('/Users/lijundong/Downloads/高级思路.xmind'))\n",
    "print('判断是不是文件：->', os.path.isfile('/Users/lijundong/Downloads/高级思路.xmind'))\n",
    "print('判断是否是绝对路径：', os.path.isabs('/Users/lijundong/Downloads/高级思路.xmind'))\n",
    "print('返回一个路径的目录名和文件名:', os.path.split('/Users/lijundong/Downloads/高级思路.xmind'))"
   ]
  },
  {
   "cell_type": "markdown",
   "metadata": {},
   "source": [
    "# 基础库操作"
   ]
  },
  {
   "cell_type": "markdown",
   "metadata": {},
   "source": [
    " ## 查看目录文件"
   ]
  },
  {
   "cell_type": "code",
   "execution_count": 3,
   "metadata": {
    "ExecuteTime": {
     "end_time": "2022-12-29T12:46:48.098912Z",
     "start_time": "2022-12-29T12:46:48.083310Z"
    }
   },
   "outputs": [
    {
     "name": "stdout",
     "output_type": "stream",
     "text": [
      "返回指定目录下的所有文件和目录名： ['FileOperation.ipynb', 'Mathematics.ipynb', 'Function.ipynb', 'NetworkRequest.ipynb', '.DS_Store', 'Transmission.ipynb', '__init__.py', '__pycache__', 'DataSource.ipynb', 'SystemEnvironment.ipynb', '.ipynb_checkpoints', 'DataBases.ipynb']\n",
      "指定目录下文件list： os.stat_result(st_mode=16877, st_ino=13941035, st_dev=16777233, st_nlink=14, st_uid=501, st_gid=20, st_size=448, st_atime=1672317969, st_mtime=1672317969, st_ctime=1672317969)\n",
      "/Users/li/Downloads/music [] ['好想爱这个世界啊-华晨宇.m4a', '心做し-majiko.m4a', '初恋-奥華子.m4a', '我爱你-刘大拿、刘思达LOFTHESTAR.m4a', 'Free Loop-Daniel Powte.m4a', 'Free Loop-甘草片.m4a', '我要找到你-Zic子晨.m4a', '時代を超える想い2-和田薫.mp3', '謳歌爛漫-GARNiDELiA.m4a', '晚风的形状-Bell玲惠.m4a', '失语者-刘大拿.m4a']\n"
     ]
    }
   ],
   "source": [
    "print(\"返回指定目录下的所有文件和目录名：\", os.listdir('./'))\n",
    "print(\"指定目录下文件list：\", os.lstat('./'))\n",
    "path = '/Users/li/Downloads/music'\n",
    "for root, dirs, files in os.walk(path):\n",
    "    print(root, dirs, files)"
   ]
  },
  {
   "cell_type": "code",
   "execution_count": 5,
   "metadata": {
    "ExecuteTime": {
     "end_time": "2022-12-29T12:47:35.397555Z",
     "start_time": "2022-12-29T12:47:35.387991Z"
    }
   },
   "outputs": [
    {
     "name": "stdout",
     "output_type": "stream",
     "text": [
      "/Users/li/Downloads/music\n",
      "[]\n",
      "['好想爱这个世界啊-华晨宇.m4a', '心做し-majiko.m4a', '初恋-奥華子.m4a', '我爱你-刘大拿、刘思达LOFTHESTAR.m4a', 'Free Loop-Daniel Powte.m4a', 'Free Loop-甘草片.m4a', '我要找到你-Zic子晨.m4a', '時代を超える想い2-和田薫.mp3', '謳歌爛漫-GARNiDELiA.m4a', '晚风的形状-Bell玲惠.m4a', '失语者-刘大拿.m4a']\n"
     ]
    }
   ],
   "source": [
    "for root, dirs, files in os.walk(path):\n",
    "    print(root)\n",
    "    print(dirs)\n",
    "    print(files)"
   ]
  },
  {
   "cell_type": "code",
   "execution_count": 7,
   "metadata": {
    "ExecuteTime": {
     "end_time": "2022-12-29T13:05:38.633577Z",
     "start_time": "2022-12-29T13:05:38.613148Z"
    }
   },
   "outputs": [
    {
     "data": {
      "text/plain": [
       "True"
      ]
     },
     "execution_count": 7,
     "metadata": {},
     "output_type": "execute_result"
    }
   ],
   "source": [
    "os.path.isfile('/Users/li/Downloads/music/好想爱这个世界啊-华晨宇.m4a')"
   ]
  },
  {
   "cell_type": "markdown",
   "metadata": {
    "heading_collapsed": true
   },
   "source": [
    "## 创建文件文件夹"
   ]
  },
  {
   "cell_type": "code",
   "execution_count": null,
   "metadata": {
    "hidden": true
   },
   "outputs": [],
   "source": [
    "print('文件txt创建:', os.mknod('text.txt'))\n",
    "file = open('ly1/x.txt', 'w')\n",
    "file.write('text')  # 写入内容信息\n",
    "file.close()\n",
    "print('文件夹开始创建（递归创建目录）:', os.makedirs('ly1/ly1'))\n",
    "print('文件夹开始创建（第一个ly目录必须存在，第二个目录不存在则会创建第二个目录ly）:', os.mkdir('ly1/ly1'))"
   ]
  },
  {
   "cell_type": "markdown",
   "metadata": {
    "heading_collapsed": true
   },
   "source": [
    "## 删除文件文件夹"
   ]
  },
  {
   "cell_type": "code",
   "execution_count": null,
   "metadata": {
    "hidden": true
   },
   "outputs": [],
   "source": [
    "print('文件删除', os.remove('ly1/x.txt'))  # path是文件的路径，如果这个路径是一个文件夹，则会抛出OSError的错误，这时需用用rmdir()来删除\n",
    "print('文件删除', os.unlink('ly1/x.txt'))  # unlink的功能和remove一样是删除一个文件，但是删除一个删除一个正在使用的文件会报错。\n",
    "print('文件夹删除', os.rmdir('ly1/ly1'))  # path是文件夹路径，注意文件夹需要时空的才能被删除\n",
    "print('删除多个目录：', os.removedirs('ly1/ly1'))"
   ]
  },
  {
   "cell_type": "markdown",
   "metadata": {},
   "source": [
    "## 判断文件文件夹"
   ]
  },
  {
   "cell_type": "code",
   "execution_count": null,
   "metadata": {},
   "outputs": [],
   "source": [
    "print('判断文件/文件夹是否存在', os.path.exists('/Users/lijundong/Downloads/高级思路.xmind'))\n",
    "print('判断是不是文件夹：->', os.path.isdir('/Users/lijundong/Downloads/高级思路.xmind'))\n",
    "print('判断是不是文件：->', os.path.isfile('/Users/lijundong/Downloads/高级思路.xmind'))\n",
    "print('判断是否是绝对路径：', os.path.isabs('/Users/lijundong/Downloads/高级思路.xmind'))"
   ]
  },
  {
   "cell_type": "markdown",
   "metadata": {},
   "source": [
    "## 获取文件相关信息"
   ]
  },
  {
   "cell_type": "code",
   "execution_count": null,
   "metadata": {},
   "outputs": [],
   "source": [
    "print('返回一个路径的目录名和文件名:', os.path.split('/Users/lijundong/Downloads/高级思路.xmind'))\n",
    "print('分离扩展名：', os.path.splitext('高级思路.xmind'))\n",
    "print('获取路径名：', os.path.dirname('/Users/lijundong/Downloads/高级思路.xmind'))\n",
    "print('获取文件名：', os.path.basename('高级思路.xmind'))\n",
    "print('获取文件名：', os.path.basename('/Users/lijundong/Downloads/高级思路.xmind'))\n",
    "\n",
    "print('文件大小(字节):', os.path.getsize('/Users/lijundong/Downloads/高级思路.xmind'))\n",
    "print('文件夹大小(字节，需要遍历文件夹下的文件进行累加):', os.path.getsize('/Users/lijundong/Downloads/堕落的高级定义娱乐'))\n",
    "print('获取文件属性:', os.stat('/Users/lijundong/Downloads/高级思路.xmind'))"
   ]
  },
  {
   "cell_type": "markdown",
   "metadata": {},
   "source": [
    "## 文件文件夹移动复制"
   ]
  },
  {
   "cell_type": "code",
   "execution_count": null,
   "metadata": {},
   "outputs": [],
   "source": [
    "print('文件/文件夹移动(操作目录，目标目录)', shutil.move(\"ly/1.py\", \"./\"))\n",
    "print('文件夹移动(操作目录，目标目录)', shutil.move(\"ly/ly1\", \"./\"))\n",
    "print('文件/文件夹重命名(操作目标，修改后的名)', os.rename('ly/ly1', 'ly/ly2'))\n",
    "\n",
    "print('文件复制:将源内容复制到目标文件中(要复制的文件，复制到文件)：', shutil.copyfile('1.py', 'ly/ly2/1.py'))\n",
    "print('文件复制(目标文件, 目标目录):', shutil.copy('1.py', 'ly/ly2'))\n",
    "print('文件夹复制(目标文件夹, 目标目录夹):', shutil.copy('1.py', 'ly2/数据库重命名.py'))\n",
    "# print('文件复制：将文件复制到目标路径或者文件对象（）:', shutil.copyfileobj('1.py', 'ly2/数据库重命名.py'))\n",
    "print('文件复制:', shutil.copy2('ly/ly2', 'ly/ly3'))\n",
    "print('文件复制:', os.popen('ly/ly2', 'ly/ly3'))\n",
    "# print('文件复制windows:', os.system('copy 1.py 数据库重命名.py'))\n",
    "print('文件复制linux:', os.system('cp 1.py 数据库重命名.py'))\n",
    "print('文件复制:', threading.Thread())\n",
    "threading.Thread(target=shutil.copy, args=['1.py', '3.py']).start()\n",
    "print('文件复制windows:', subprocess.call('copy \"1.py\" \"4.py\"', shell=True))\n",
    "print('文件复制linux:', subprocess.call('cp \"1.py\" \"4.py\"', shell=True))\n",
    "print('文件复制:', subprocess.check_output())\n",
    "src=os.path.realpath(os.getcwd() + \"http://cdn.techbeamers.com/1.txt.py\")\n",
    "dst=os.path.realpath(os.getcwd() + \"http://cdn.techbeamers.com/2.txt.py\")\n",
    "cmd='copy \"%s\" \"%s\"' % (src, dst)\n",
    "status = subprocess.check_output(['copy', src, dst], shell=True)\n",
    "print(\"status: \", status.decode('utf-8'))"
   ]
  },
  {
   "cell_type": "markdown",
   "metadata": {},
   "source": [
    "## 修改文件文件夹相关信息"
   ]
  },
  {
   "cell_type": "code",
   "execution_count": null,
   "metadata": {},
   "outputs": [],
   "source": [
    "# subprocess.Popen('Setfile -d \"02/02/2022 22:22:22\" \"{}\"'.format('file_path'), shell=True)  # 修改文件创建时间\n",
    "# subprocess.Popen('touch -mt 202202022222 \"{}\" '.format('file_path'), shell=True)  # 创建与修改时间\n",
    "# subprocess.Popen('touch -t 202202022222 \"{}\" '.format('file_path'), shell=True)  # 修改时间\n",
    "# 修改 “修改时间”\n",
    "# touch -m -t YYYYMMDDhhmm filename\n",
    "# 修改 “访问时间和修改时间”\n",
    "# touch -t YYYYMMDDhhmm filename\n",
    "# YYYY  年 - 四位数\n",
    "# MM    月 - 两位数\n",
    "# DD    日 - 两位数\n",
    "# hh    小时 - 两位数\n",
    "# mm    分钟 - 两位数\n",
    "\n",
    "filr_path_ = ''\n",
    "fileinfo = os.stat(filr_path_)\n",
    "print(\"索引号：\", fileinfo.st_ino)\n",
    "print(\"被连接数目：\", fileinfo.st_dev)\n",
    "print(\"文件字节大小:\", fileinfo.st_size)\n",
    "print(\"保护位：\", fileinfo.st_mode)\n",
    "print(\"所有者的用户id：\", fileinfo.st_uid)\n",
    "print(\"所有者的组id：\", fileinfo.st_gid)\n",
    "print(\"硬链接的数量，：\", fileinfo.st_nlink)\n",
    "print(\"最后一次访问时间，：\", fileinfo.st_atime_ns)\n",
    "print(\"最后一次修改时间，：\", fileinfo.st_mtime_ns)\n",
    "print(\"最后一次状态变化的时间，：\", fileinfo.st_ctime_ns)\n",
    "print(\"最后一次访问时间:\", time.strftime(\"%Y-%m-%d %H:%M:%S\", time.localtime(fileinfo.st_atime)))\n",
    "print(\"最后一次访问时间:\", time.ctime(os.path.getatime(filr_path_)))\n",
    "print(\"最后一次修改时间:\", time.strftime(\"%Y-%m-%d %H:%M:%S\", time.localtime(fileinfo.st_mtime)))\n",
    "print(\"最后一次修改时间:\", time.ctime(os.path.getmtime(filr_path_)))\n",
    "print(\"最后一次状态变化的时间：\", time.strftime(\"%Y-%m-%d %H:%M:%S\", time.localtime(fileinfo.st_ctime)))\n",
    "print(\"最后一次状态变化的时间:\", time.ctime(os.path.getctime(filr_path_)))"
   ]
  },
  {
   "cell_type": "markdown",
   "metadata": {
    "id": "wmLZX7KAmv70"
   },
   "source": [
    "# Json文件操作"
   ]
  },
  {
   "cell_type": "markdown",
   "metadata": {
    "id": "RjTLQdTmp1_d"
   },
   "source": [
    "所需包：orjson->pip install --upgrade orjson"
   ]
  },
  {
   "cell_type": "code",
   "execution_count": 1,
   "metadata": {
    "colab": {
     "base_uri": "https://localhost:8080/"
    },
    "id": "crYtXcAImrsF",
    "outputId": "d77f2688-7cc2-41c8-f5a1-5f69419e3402"
   },
   "outputs": [
    {
     "name": "stdout",
     "output_type": "stream",
     "text": [
      "Looking in indexes: https://pypi.org/simple, https://us-python.pkg.dev/colab-wheels/public/simple/\n",
      "Collecting orjson==1.3.0\n",
      "  Downloading orjson-1.3.0-cp37-cp37m-manylinux1_x86_64.whl (128 kB)\n",
      "\u001B[K     |████████████████████████████████| 128 kB 7.8 MB/s \n",
      "\u001B[?25hInstalling collected packages: orjson\n",
      "Successfully installed orjson-1.3.0\n"
     ]
    }
   ],
   "source": [
    "!pip install orjson==1.3.0"
   ]
  },
  {
   "cell_type": "markdown",
   "metadata": {
    "id": "QBgE5qFCoj-x"
   },
   "source": [
    "导入操作所需包"
   ]
  },
  {
   "cell_type": "code",
   "execution_count": 27,
   "metadata": {
    "id": "JhSt4AqUm7vF"
   },
   "outputs": [],
   "source": [
    "import json\n",
    "import random\n",
    "import string\n",
    "\n",
    "import orjson"
   ]
  },
  {
   "cell_type": "markdown",
   "metadata": {
    "id": "VDzmd-MjmyHO"
   },
   "source": [
    "## 在python操作json数据"
   ]
  },
  {
   "cell_type": "markdown",
   "metadata": {
    "id": "PwJYuXhUrgCD"
   },
   "source": [
    "dumps()将Python对象序列化为JSON。loads把json数据转换为dict数据"
   ]
  },
  {
   "cell_type": "code",
   "execution_count": 28,
   "metadata": {
    "id": "jaCQuwV0nWL3"
   },
   "outputs": [],
   "source": [
    "demo01_json = {\"id\": random.randint(0, 9999), \"value\": random.uniform(0, 1000), \"name\": random.choice(string.ascii_uppercase)}"
   ]
  },
  {
   "cell_type": "markdown",
   "metadata": {
    "id": "fyFGYfX9rJn8"
   },
   "source": [
    "json库操作"
   ]
  },
  {
   "cell_type": "code",
   "execution_count": 29,
   "metadata": {
    "id": "mOcBpxzyotIv"
   },
   "outputs": [],
   "source": [
    "try:\n",
    "    json_01 = json.dumps(demo01_json)\n",
    "except TypeError:\n",
    "    raise"
   ]
  },
  {
   "cell_type": "code",
   "execution_count": 30,
   "metadata": {
    "id": "i3F1Qt7Gse6W"
   },
   "outputs": [],
   "source": [
    "try:\n",
    "    json_val_01 = json.loads(json_01)\n",
    "except orjson.JSONDecodeError:\n",
    "    raise"
   ]
  },
  {
   "cell_type": "markdown",
   "metadata": {
    "id": "4KrZ8oDWrP5g"
   },
   "source": [
    "orjson库操作"
   ]
  },
  {
   "cell_type": "code",
   "execution_count": 31,
   "metadata": {
    "id": "MSVnqsmirW5-"
   },
   "outputs": [],
   "source": [
    "try:\n",
    "    orjson_01 = orjson.dumps(demo01_json)\n",
    "except TypeError:\n",
    "    raise"
   ]
  },
  {
   "cell_type": "code",
   "execution_count": 32,
   "metadata": {
    "id": "DiynBm69slkt"
   },
   "outputs": [],
   "source": [
    "try:\n",
    "    orjson_val_01 = json.loads(orjson_01)\n",
    "except orjson.JSONDecodeError:\n",
    "    raise"
   ]
  },
  {
   "cell_type": "code",
   "execution_count": 25,
   "metadata": {
    "colab": {
     "base_uri": "https://localhost:8080/"
    },
    "id": "F_MteY6RsQfG",
    "outputId": "5b72aa7b-32c7-442b-c910-497e3ee72c84"
   },
   "outputs": [
    {
     "name": "stdout",
     "output_type": "stream",
     "text": [
      "{\"id\": 1783, \"value\": 656.9583702942525} \n",
      " b'{\"id\":1783,\"value\":656.9583702942525}'\n",
      "{'id': 1783, 'value': 656.9583702942525} \n",
      " {'id': 1783, 'value': 656.9583702942525}\n"
     ]
    }
   ],
   "source": [
    "print(json_01, '\\n', orjson_01)\n",
    "print(json_val_01, '\\n', orjson_val_01)"
   ]
  },
  {
   "cell_type": "markdown",
   "metadata": {
    "id": "pyBQHe6Env9Y"
   },
   "source": [
    "## 数据与json文件交互"
   ]
  },
  {
   "cell_type": "markdown",
   "metadata": {
    "id": "6hjT-Wc9n2id"
   },
   "source": [
    "如果你要处理的是文件而不是字符串，你可以使用 json.dump() 和 json.load() 来编码和解码JSON数据。"
   ]
  },
  {
   "cell_type": "code",
   "execution_count": null,
   "metadata": {
    "id": "-oEaN0jBn099"
   },
   "outputs": [],
   "source": [
    "class FileJson(object):\n",
    "    def store_json(self, data, jsonpath):\n",
    "        \"\"\"把dict数据写入到json中,需要转译为json数据.传入数据位python dict与文件保存路径\"\"\"\n",
    "        with open(jsonpath, 'w', encoding=\"utf-8\") as fw:\n",
    "            # fw.write(json.dumps(dict(data, ensure_ascii=False)))\n",
    "            json.dump(data, fw, ensure_ascii=False)\n",
    "\n",
    "    def load_json(self, jsonpath):\n",
    "        \"\"\"从json文件读取json数据并转换为dict数据，传入数据为文件路径，返回python dict值\"\"\"\n",
    "        with open(jsonpath, 'r', encoding=\"utf-8\") as f:\n",
    "            return json.load(f)"
   ]
  },
  {
   "cell_type": "markdown",
   "metadata": {},
   "source": [
    "# CSV文件操作"
   ]
  },
  {
   "cell_type": "markdown",
   "metadata": {},
   "source": [
    "## pandas读取操作"
   ]
  },
  {
   "cell_type": "code",
   "execution_count": null,
   "metadata": {},
   "outputs": [],
   "source": [
    "file_csv = '/Users/li/Downloads/工作簿1.csv'"
   ]
  },
  {
   "cell_type": "markdown",
   "metadata": {},
   "source": [
    "### 读取"
   ]
  },
  {
   "cell_type": "code",
   "execution_count": null,
   "metadata": {},
   "outputs": [],
   "source": [
    "# 读取整个CSV文件\n",
    "csv_data = pd.read_csv(file_csv)"
   ]
  },
  {
   "cell_type": "code",
   "execution_count": null,
   "metadata": {},
   "outputs": [],
   "source": [
    "# 取消第一行作为表头读取文件\n",
    "csv_data = pd.read_csv(file_csv, header=None)"
   ]
  },
  {
   "cell_type": "code",
   "execution_count": null,
   "metadata": {},
   "outputs": [],
   "source": [
    "# 为各个字段取名\n",
    "csv_data = pd.read_csv('rating.csv', names=['user_id', 'book_id', 'rating'])"
   ]
  },
  {
   "cell_type": "code",
   "execution_count": null,
   "metadata": {},
   "outputs": [],
   "source": [
    "# 将某一字段设为索引\n",
    "csv_data = pd.read_csv('rating.csv', names=['user_id', 'book_id', 'rating'], index_col=\"user_id\")"
   ]
  },
  {
   "cell_type": "code",
   "execution_count": null,
   "metadata": {},
   "outputs": [],
   "source": [
    "# 用sep参数设置分隔符\n",
    "csv_data = pd.read_csv('rating.csv', names=['user_id', 'book_id', 'rating'], sep=',')"
   ]
  },
  {
   "cell_type": "code",
   "execution_count": null,
   "metadata": {},
   "outputs": [],
   "source": [
    "data = pd.read_csv(\"/Users/li/Documents/Python/Python/data/file/csv_file/export.csv\")\n",
    "data.head()\n",
    "data.keys()"
   ]
  },
  {
   "cell_type": "markdown",
   "metadata": {},
   "source": [
    "### 数据操作"
   ]
  },
  {
   "cell_type": "code",
   "execution_count": null,
   "metadata": {},
   "outputs": [],
   "source": [
    "# 自动补全缺失数据为NaN\n",
    "# csv_data = pd.read_csv('data.csv', header=None)  # 暂时未验证是否准确\n",
    "# csv_data = pd.read_csv(file_csv).replace(np.nan, None)  # NaN替换为None\n",
    "csv_data = pd.read_csv(file_csv).replace(np.nan, '')  # NaN替换为''"
   ]
  },
  {
   "cell_type": "code",
   "execution_count": null,
   "metadata": {},
   "outputs": [],
   "source": [
    "# 获取表头\n",
    "csv_data.columns  # 表头数据\n",
    "csv_data.axes[1].T  # 表头数据"
   ]
  },
  {
   "cell_type": "code",
   "execution_count": null,
   "metadata": {},
   "outputs": [],
   "source": [
    "# 获取列数\n",
    "csv_data.shape  # (12906, 18)  (行，列)\n",
    "csv_data.axes[1].shape"
   ]
  },
  {
   "cell_type": "code",
   "execution_count": null,
   "metadata": {},
   "outputs": [],
   "source": [
    "# 获取行数\n",
    "csv_data.axes\n",
    "csv_data.shape  # (12906, 18)  (行，列)\n",
    "csv_data.axes[0]  # RangeIndex(start=0, stop=12906, step=1)  start开始  stop 有效数据结束位置  step 有效数据开始日期"
   ]
  },
  {
   "cell_type": "markdown",
   "metadata": {},
   "source": [
    "# doc_docx"
   ]
  },
  {
   "cell_type": "markdown",
   "metadata": {},
   "source": [
    "## Mac doc转换为docx"
   ]
  },
  {
   "cell_type": "code",
   "execution_count": null,
   "metadata": {},
   "outputs": [],
   "source": [
    "import os\n",
    "import subprocess"
   ]
  },
  {
   "cell_type": "code",
   "execution_count": null,
   "metadata": {},
   "outputs": [],
   "source": [
    "def doc_docx_file(source, out_dir):\n",
    "    for path, dir_list, file_list in os.walk(source):\n",
    "        for file_name in file_list:\n",
    "            if \".doc\" == file_name[-4:]:\n",
    "                try:\n",
    "                    subprocess.check_output(\n",
    "                        [\"/Applications/LibreOffice.app/Contents/MacOS/soffice\", \"--headless\", \"--convert-to\", \"docx\",\n",
    "                         os.path.join(path, file_name), \"--outdir\", out_dir])\n",
    "                    return True\n",
    "                except Exception as e:\n",
    "                    print(e)"
   ]
  },
  {
   "cell_type": "markdown",
   "metadata": {},
   "source": [
    "## docx"
   ]
  },
  {
   "cell_type": "markdown",
   "metadata": {},
   "source": [
    "### docx 读取"
   ]
  },
  {
   "cell_type": "code",
   "execution_count": null,
   "metadata": {},
   "outputs": [],
   "source": [
    "from docx import Document\n",
    "\n",
    "doc = Document('/Users/li/Documents/Python/Python/data/file/docx_doc_file/demo.docx')\n",
    "\n",
    "# 每一段的内容\n",
    "print(\"每一段的内容为：\")\n",
    "for para in doc.paragraphs:\n",
    "    print(para.text)\n",
    "\n",
    "# 每一段的编号、内容\n",
    "print(\"每一段的编号、内容为：\")\n",
    "for i in range(len(doc.paragraphs)):\n",
    "    print(str(i), doc.paragraphs[i].text)\n",
    "\n",
    "# 表格\n",
    "print(\"表格\")\n",
    "tbs = doc.tables\n",
    "# 循环读取表格\n",
    "for tb in tbs:\n",
    "    # 行\n",
    "    print(\"当前表格列与列数分别为为：\", len(tb.rows), \" \", len(tb.rows[0].cells))\n",
    "    for row in tb.rows:\n",
    "        # print(f'{tb.cell(0, 0).text}')\n",
    "        # 列\n",
    "        # for cell in row.cells:\n",
    "        #     print(cell.text)\n",
    "            # 也可以用下面方法\n",
    "            # text = ''\n",
    "            # for p in cell.paragraphs:\n",
    "            #     text += p.text\n",
    "            # print(text)\n",
    "        # 或这样读\n",
    "        text_ = ''\n",
    "        for cell in row.cells:\n",
    "            # text_ += cell.text + \" \"\n",
    "            text_ += f'{(cell.text):<5}'\n",
    "        print(text_)\n",
    "\n",
    "tables = doc.tables  # 获取文件中的表格集\n",
    "table = tables[0]  # 获取文件中的第一个表格\n",
    "for i in range(0, len(table.rows)):  # 从表格第一行开始循环读取表格数据\n",
    "    result = f'{(table.cell(i, 0).text):<5}' + \"\" + f'{(table.cell(i, 1).text):<5}' + \"\" + f'{(table.cell(i, 2).text):<5}'\n",
    "    # cell(i,0)表示第(i+1)行第1列数据,以此类推\n",
    "    print(result)"
   ]
  },
  {
   "cell_type": "markdown",
   "metadata": {},
   "source": [
    "### docx写入"
   ]
  },
  {
   "cell_type": "code",
   "execution_count": null,
   "metadata": {},
   "outputs": [],
   "source": [
    "from docx import Document\n",
    "from docx.enum.dml import MSO_THEME_COLOR_INDEX\n",
    "from docx.shared import Inches  # 设置图像大小\n",
    "from docx.enum.text import WD_PARAGRAPH_ALIGNMENT, WD_TAB_LEADER, WD_TAB_ALIGNMENT, WD_LINE_SPACING  # 设置对象居中、对齐等。 # 设置制表符等\n",
    "from docx.shared import RGBColor  # 设置字体颜色\n",
    "from docx.shared import Length  # 设置宽度\n",
    "from docx.oxml.ns import qn  # 设置字体\n",
    "from docx.shared import Pt  # 用来设置字体的大小 设置像素、缩进等\n",
    "\n",
    "document = Document()\n",
    "\n",
    "# 添加标题，并设置级别，范围：0 至 9，默认为1\n",
    "document.add_heading('Document Title', 0)\n",
    "# 添加段落，文本可以包含制表符（\\t）、换行符（\\n）或回车符（\\r）等\n",
    "p = document.add_paragraph('A plain paragraph having some ')\n",
    "# 在段落后面追加文本，并可设置样式\n",
    "p.add_run('bold').bold = True  # 粗体\n",
    "p.add_run(' and some ')\n",
    "p.add_run('italic.').italic = True  # 斜体\n",
    "p.paragraph_format.alignment = WD_PARAGRAPH_ALIGNMENT.CENTER\n",
    "p.color.theme_color = MSO_THEME_COLOR_INDEX.ACCENT_1  # 设置字体主题颜色\n",
    "p.highlight_color = MSO_THEME_COLOR_INDEX.DARK_1  # 设置高亮背景颜色\n",
    "\n",
    "paragraph = document.paragraphs[1]  # 获取第二个段落\n",
    "paragraph.insert_paragraph_before('这是添加的新的第二个段落')  # 在第二个段落处添加\n",
    "\n",
    "# title要求：居中，字体为方正小标宋简体 字体黑色 带下划线\n",
    "title_ = document.add_heading(level=0)\n",
    "title_.paragraph_format.alignment = WD_PARAGRAPH_ALIGNMENT.CENTER\n",
    "run = title_.add_run(u'捡个校花做老婆')\n",
    "run.font.name = u'方正小标宋简体'\n",
    "run._element.rPr.rFonts.set(qn('w:eastAsia'), u'方正小标宋简体')\n",
    "run.font.color.rgb = RGBColor(0, 0, 0)\n",
    "run.bold = True\n",
    "run.font.size = Pt(40)\n",
    "\n",
    "document.add_heading('Heading, level 1', level=1)  # 一级标题 蓝色字\n",
    "document.add_paragraph('Intense quote', style='Intense Quote')  # 字体为Intense Quote\n",
    "\n",
    "# 添加无序列表\n",
    "document.add_paragraph('first item in unordered list', style='ListBullet')\n",
    "# 添加有序列表\n",
    "document.add_paragraph('first item in ordered list', style='ListNumber')\n",
    "document.add_paragraph('second item in ordered list', style='ListNumber')\n",
    "document.add_paragraph('third item in ordered list', style='ListNumber')\n",
    "\n",
    "# 添加项目列表（前面一个小圆点）\n",
    "document.add_paragraph('first item in unordered list', style='List Bullet')\n",
    "document.add_paragraph('second item in unordered list', style='List Bullet')\n",
    "\n",
    "# 添加项目列表（前面数字）\n",
    "document.add_paragraph('first item in ordered list', style='List Number')\n",
    "document.add_paragraph('second item in ordered list', style='List Number')\n",
    "\n",
    "# 添加图片，并指定宽度\n",
    "document.add_picture('/Users/li/Documents/Python/Python/data/file/png_file/07.png', width=Inches(1.25))\n",
    "\n",
    "records = (\n",
    "    (3, '101', 'Spam'),\n",
    "    (7, '422', 'Eggs'),\n",
    "    (4, '631', 'Spam, spam, eggs, and spam')\n",
    ")\n",
    "\n",
    "# 添加表格：一行三列\n",
    "# 表格样式参数可选：\n",
    "# Normal Table\n",
    "# Table Grid\n",
    "# Light Shading、 Light Shading Accent 1 至 Light Shading Accent 6\n",
    "# Light List、Light List Accent 1 至 Light List Accent 6\n",
    "# Light Grid、Light Grid Accent 1 至 Light Grid Accent 6\n",
    "# 太多了其它省略...\n",
    "table = document.add_table(rows=1, cols=3, style='Light Shading Accent 2')\n",
    "# 获取第一行的单元格列表\n",
    "hdr_cells = table.rows[0].cells\n",
    "# 下面三行设置上面第一行的三个单元格的文本值\n",
    "hdr_cells[0].text = 'Qty'\n",
    "hdr_cells[1].text = 'Id'\n",
    "hdr_cells[2].text = 'Desc'\n",
    "for qty, id, desc in records:\n",
    "    # 表格添加行，并返回行所在的单元格列表\n",
    "    row_cells = table.add_row().cells  # 为表格添加一行\n",
    "    row_cells[0].text = str(qty)\n",
    "    row_cells[1].text = id\n",
    "    row_cells[2].text = desc\n",
    "\n",
    "# 添加分页符\n",
    "document.add_page_break()\n",
    "# 往新的一页中添加段落\n",
    "p = document.add_paragraph('This is a paragraph in new page.')\n",
    "\n",
    "# 新增页眉\n",
    "section = document.sections[0]\n",
    "header = section.header\n",
    "bt1 = header.paragraphs[0]\n",
    "bt1.text = '此处是页眉1'\n",
    "\n",
    "# 新增头信息\n",
    "t1 = document.add_paragraph('此处Tetle信息', 'Title')\n",
    "\n",
    "# 新增段落 及 向前插入段落\n",
    "p1 = document.add_paragraph('新增段落P1')\n",
    "pin1 = p1.insert_paragraph_before('在p1前插入段落pin1')\n",
    "\n",
    "# 段落里设置参数样式 或 指定.style来设置参数\n",
    "p2=document.add_paragraph('新增段落p2并设置style类型',style='ListBullet')\n",
    "p3=document.add_paragraph('新增段落p3并指定style类型')\n",
    "p3.style='ListBullet'\n",
    "\n",
    "# 添加标题 可设置标题级别1-9\n",
    "h1 = document.add_heading('此处默认标题1')\n",
    "h2 = document.add_heading('此处添加标题2', level=2)\n",
    "h3 = document.add_heading('此处添加标题3', level=3)\n",
    "\n",
    "# 设置字体  通过.add_run来设置字体: 加粗、斜体、大小、颜色、下划线\n",
    "# all_caps\t全部大写字母\n",
    "# bold\t加粗\n",
    "# color\t字体颜色\n",
    "# complex_script\t是否为“复杂代码”\n",
    "# cs_bold\t“复杂代码”加粗\n",
    "# cs_italic\t“复杂代码”斜体\n",
    "# double_strike\t双删除线\n",
    "# emboss\t文本以凸出页面的方式出现\n",
    "# hidden\t隐藏\n",
    "# imprint\t印记\n",
    "# italic\t斜体\n",
    "# name\t字体\n",
    "# no_proof\t不验证语法错误\n",
    "# outline\t显示字符的轮廓\n",
    "# shadow\t阴影\n",
    "# small_caps\t小型大写字母\n",
    "# snap_to_grid\t定义文档网格时对齐网络\n",
    "# strike\t删除线\n",
    "# subscript\t下标\n",
    "# superscript\t上标\n",
    "# underline\t下划线\n",
    "paragraph = document.add_paragraph()\n",
    "r1 = paragraph.add_run('通过.bold=True来设置粗体')\n",
    "r1.bold = True\n",
    "r1.style = 'Emphasis'\n",
    "r2 = paragraph.add_run('也可以')\n",
    "r3 = paragraph.add_run('\\n通过.italic=True来设置斜体，\\n通过.font.size来设置字体大小,\\n通过.font.color.rgb=RGBColor来设置字体颜色')\n",
    "r3.italic = True\n",
    "r3.font.size = Pt(20)\n",
    "r3.font.color.rgb = RGBColor(200, 77, 150)\n",
    "\n",
    "# 设置居中、左右对齐、缩进、制表符\n",
    "# LEFT\t左对齐\n",
    "# CENTER\t文字居中\n",
    "# RIGHT\t右对齐\n",
    "# JUSTIFY\t本两端对齐\n",
    "p4 = document.add_paragraph('准备开始设置居中、左右对齐、缩进等')\n",
    "p4.paragraph_format.alignment = WD_PARAGRAPH_ALIGNMENT.CENTER\n",
    "\n",
    "# 设置缩进\n",
    "# SINGLE\t单倍行距（默认）\n",
    "# ONE_POINT_FIVE\t1.5倍行距\n",
    "# DOUBLE\t2倍行距\n",
    "# AT_LEAST\t最小值\n",
    "# EXACTLY\t固定值\n",
    "# MULTIPLE\t多倍行距\n",
    "# 默认Inches(0.5)等于四个空格\n",
    "p5 = document.add_paragraph('content')\n",
    "p5.paragraph_format.left_indent = Inches(0.5)\n",
    "# 设置首行缩进\n",
    "p5.paragraph_format.first_line_indent = Inches(0.5)\n",
    "# 设置段落间距 分为段落前 和 段落后\n",
    "p5.paragraph_format.space_before = Pt(30)\n",
    "p5.paragraph_format.space_after = Pt(12)\n",
    "# 设置段落行距当行距为最小值和固定值时，设置值单位是磅，用Pt；当行间距为多倍行距时，设置值为数值。\n",
    "p5.paragraph_format.line_spacing = Pt(30)\n",
    "paragraph.line_spacing_rule = WD_LINE_SPACING.EXACTLY  # 固定值\n",
    "p5.paragraph_format.line_spacing = Pt(18)  # 固定值18磅\n",
    "paragraph.line_spacing_rule = WD_LINE_SPACING.MULTIPLE  # 多倍行距\n",
    "p5.paragraph_format.line_spacing = 1.75\n",
    "\n",
    "# 分页属性\n",
    "# widow_control\t孤行控制\t防止在页面顶端单独打印段落末行或在页面底端单独打印段落首行\n",
    "# keep_with_next\t与下段同页\t防止在选中段落与后面一段间插入分页符\n",
    "# page_break_before\t段前分页\t在选中段落前插入分页符\n",
    "# keep_together\t段中不分页\t防止在段落中出现分页符\n",
    "p5.paragraph_format.keep_with_next = True\n",
    "# 添加分页符\n",
    "document.add_page_break()\n",
    "p5=document.add_paragraph('.add_page_break()硬分页，即使文本未满')\n",
    "# 添加表格、设置表格样式\n",
    "table=document.add_table(rows=2,cols=2)\n",
    "table.style='LightShading-Accent1'\n",
    "# 选择表格内单元格、单元格赋值添加和改变内容\n",
    "cell=table.cell(0,1)\n",
    "cell.text='通过cell.text()来添加内容'\n",
    "# 选择表格的行，通过索引，然后索引单元格\n",
    "row=table.rows[1]\n",
    "row.cells[0].text='通过.add_table（,）来添加表格'\n",
    "row.cells[1].text='通过for row in table.rows内嵌套 for cell in row.cells来循环输出表格内容'\n",
    "# for循环逐行输出表格内容\n",
    "for row in table.rows:\n",
    "    for cell in row.cells:\n",
    "        print(cell.text)\n",
    "# len表格内行列数\n",
    "row_count = len(table.rows)\n",
    "col_count = len(table.columns)\n",
    "print(row_count, col_count, '现表格行列数')\n",
    "row = table.add_row()  # 逐步添加行\n",
    "print(len(table.rows), len(table.columns), '添加后表格行列数')\n",
    "# 添加另一个表格 及 指定表格样式\n",
    "table1 = document.add_table(1, 3)\n",
    "table1.style = 'LightShading-Accent2'  # 设置表格样式\n",
    "# 填充 标题行\n",
    "heading_cells = table1.rows[0].cells  # 获取 行列标\n",
    "heading_cells[0].text = 'Qtx'  # 为行列表内的cell单元格 赋值\n",
    "heading_cells[1].text = 'Sku'\n",
    "heading_cells[2].text = 'Des'\n",
    "\n",
    "# 表格数据\n",
    "items = (\n",
    "    (7, '1024', 'plush kitens'),\n",
    "    (3, '2042', 'furbees'),\n",
    "    (1, '1288', 'french poodle collars,deluxe')\n",
    ")\n",
    "# 为每个项目添加数据行\n",
    "for item in items:\n",
    "    cells = table1.add_row().cells\n",
    "    cells[0].text = str(item[0])\n",
    "    cells[1].text = str(item[1])\n",
    "    cells[2].text = str(item[2])\n",
    "# 添加图片\n",
    "document.add_picture('002592.png', width=Inches(2))\n",
    "# 调整图片大小，如下：\n",
    "document.add_picture('demo.png', width=Inches(1.0), height=Inches(1.0))\n",
    "# 若同时定义宽度和高度，则图片会被拉伸或压缩到指定大小；若仅定义宽度或高度，则图会自适应调整大小。\n",
    "\n",
    "# 保存.docx文档\n",
    "document.save('/Users/li/Documents/Python/Python/data/file/docx_doc_file/demo.docx')"
   ]
  },
  {
   "cell_type": "code",
   "execution_count": null,
   "metadata": {},
   "outputs": [],
   "source": [
    "import docx\n",
    "\n",
    "from docx import Document\n",
    "from docx.opc.oxml import qn\n",
    "from docx.shared import Inches\n",
    "from docx import Document\n",
    "# from docx.enum.text import WD_ALIGN_PARAGRAPH  # 设置对象居中、对齐等。\n",
    "from docx.enum.text import WD_PARAGRAPH_ALIGNMENT, WD_LINE_SPACING  # 设置对象居中、对齐等。\n",
    "from docx.enum.text import WD_TAB_ALIGNMENT, WD_TAB_LEADER  # 设置制表符等\n",
    "from docx.shared import Inches  # 设置图像大小\n",
    "from docx.shared import Pt  # 设置像素、缩进等\n",
    "from docx.shared import RGBColor  # 设置字体颜色\n",
    "from docx.shared import Length  # 设置宽度\n",
    "\n",
    "# 新建文档,并将其保存名为“test.docx”的文件\n",
    "document = Document()\n",
    "document.save('docx.docx')\n",
    "\n",
    "# 添加文档内容\n",
    "document = Document('docx.docx')\n",
    "document.add_heading('I like python', 0)  # 插入标题：0表示样式为title标题\n",
    "\n",
    "# 添加一级标题\n",
    "document.add_heading('一级标题', level=1)  # 插入1级标题\n",
    "document.add_heading(u'一级标题, level = 1', level=1)\n",
    "# document.add_paragraph('Intense quote', style='IntenseQuote')\n",
    "\n",
    "# 往文档中添加段落\n",
    "p = document.add_paragraph('Python是一种计算机程序设计语言 ')  # 插入段落\n",
    "# p = document.add_paragraph('This is a paragraph having some ')\n",
    "p.add_run('bold').bold = True\n",
    "p.add_run('and some')\n",
    "p.add_run('italic.').italic = True\n",
    "\n",
    "# 添加段落\n",
    "document = docx.Document()  # 创建一个空白文档\n",
    "document.styles['Normal'].font.name = '宋体'  # 设置西文字体\n",
    "# document.styles['Normal']._element.rPr.rFonts.set(qn('w:eastAsia'), '宋体')  # 设置中文字体\n",
    "p = document.add_paragraph()  # 添加一个段落\n",
    "p.paragraph_format.alignment = WD_PARAGRAPH_ALIGNMENT.JUSTIFY  # 设置对齐方式\n",
    "p.paragraph_format.line_spacing_rule = WD_LINE_SPACING.ONE_POINT_FIVE  # 设置行间距\n",
    "p.paragraph_format.space_after = Pt(0)  # 设置段后间距\n",
    "run = p.add_run('content')  # 延长段落\n",
    "run.font.color.rgb = RGBColor(255, 0, 0)  # 设置字体颜色\n",
    "run.font.size = Pt(22)  # 设置字号\n",
    "run.font.bold = True  # 设置下划线\n",
    "\n",
    "# 往新的一页中添加段落\n",
    "pd = document.add_paragraph('This is a paragraph in new page.')\n",
    "\n",
    "# 添加无序列表\n",
    "document.add_paragraph('first item in unordered list', style='ListBullet')\n",
    "# 添加有序列表\n",
    "document.add_paragraph('first item in ordered list', style='ListNumber')\n",
    "document.add_paragraph('second item in ordered list', style='ListNumber')\n",
    "document.add_paragraph('third item in ordered list', style='ListNumber')\n",
    "\n",
    "# 添加图片，并指定宽度\n",
    "document.add_picture('../测试文件夹/1.jpg', width=Inches(1.25))  # 添加图片并指定宽度\n",
    "\n",
    "# 添加表格: 1行3列\n",
    "table = document.add_table(rows=1, cols=3)  # 添加一个表格，每行三列\n",
    "\n",
    "# 获取第一行的单元格列表对象\n",
    "hdr_cells = table.rows[0].cells  # 获取第一行的单元格列表对象\n",
    "\n",
    "# 为每一个单元格赋值 注：值都要为字符串类型\n",
    "hdr_cells[0].text = 'ID'  # 为每一个单元格赋值\n",
    "hdr_cells[1].text = 'Name'\n",
    "hdr_cells[2].text = 'Age'\n",
    "# 为表格添加一行\n",
    "new_cells = table.add_row().cells  # 为表格添加一行\n",
    "new_cells[0].text = '1'\n",
    "new_cells[1].text = 'Tom'\n",
    "new_cells[2].text = '15'\n",
    "\n",
    "# 添加分页符\n",
    "document.add_page_break()\n",
    "document.add_page_break()  # 添加分页符\n",
    "\n",
    "# 新增页眉\n",
    "section = document.sections[0]\n",
    "header = section.header\n",
    "bt1 = header.paragraphs[0]\n",
    "bt1.text = '此处是页眉1'\n",
    "\n",
    "# 新增头信息\n",
    "t1 = document.add_paragraph('此处Tetle信息', 'Title')\n",
    "\n",
    "# 新增段落 及 向前插入段落\n",
    "p1 = document.add_paragraph('新增段落P1')\n",
    "pin1 = p1.insert_paragraph_before('在p1前插入段落pin1')\n",
    "\n",
    "# 段落里设置参数样式 或 指定.style来设置参数\n",
    "p2 = document.add_paragraph('新增段落p2并设置style类型', style='ListBullet')\n",
    "p3 = document.add_paragraph('新增段落p3并指定style类型')\n",
    "p3.style = 'ListBullet'\n",
    "\n",
    "# 添加标题 可设置标题级别1-9\n",
    "h1 = document.add_heading('此处默认标题1')\n",
    "h2 = document.add_heading('此处添加标题2', level=2)\n",
    "h3 = document.add_heading('此处添加标题3', level=3)\n",
    "\n",
    "# 设置字体\n",
    "# 通过.add_run来设置字体: 加粗、斜体、大小、颜色、下划线\n",
    "paragraph = document.add_paragraph()\n",
    "r1 = paragraph.add_run('通过.bold=True来设置粗体')\n",
    "r1.bold = True\n",
    "r1.style = 'Emphasis'\n",
    "r2 = paragraph.add_run('也可以')\n",
    "r3 = paragraph.add_run('\\n通过.italic=True来设置斜体，\\n通过.font.size来设置字体大小,\\n通过.font.color.rgb=RGBColor来设置字体颜色')\n",
    "r3.italic = True\n",
    "r3.font.size = Pt(20)\n",
    "r3.font.color.rgb = RGBColor(200, 77, 150)\n",
    "\n",
    "# 设置居中、左右对齐、缩进、制表符\n",
    "p4 = document.add_paragraph('准备开始设置居中、左右对齐、缩进等')\n",
    "p4.paragraph_format.alignment = WD_PARAGRAPH_ALIGNMENT.CENTER\n",
    "\n",
    "# 设置缩进\n",
    "# 默认Inches(0.5)等于四个空格\n",
    "p5 = document.add_paragraph('content')\n",
    "p5.paragraph_format.left_indent = Inches(0.5)\n",
    "\n",
    "# 设置首行缩进\n",
    "p5.paragraph_format.first_line_indent = Inches(0.5)\n",
    "\n",
    "# 设置段落间距 分为段落前 和 段落后\n",
    "p5.paragraph_format.space_before = Pt(30)\n",
    "p5.paragraph_format.space_after = Pt(12)\n",
    "\n",
    "# 设置段落行距当行距为最小值和固定值时，设置值单位是磅，用Pt；当行间距为多倍行距时，设置值为数值。\n",
    "p5.paragraph_format.line_spacing = Pt(30)\n",
    "# paragraph.line_spacing_rule = WD_LINE_SPACING.EXACTLY #固定值\n",
    "# paragraph_format.line_spacing = Pt(18)     # 固定值18磅\n",
    "# paragraph.line_spacing_rule = WD_LINE_SPACING.MULTIPLE #多倍行距\n",
    "# paragraph_format.line_spacing = 1.75\n",
    "\n",
    "# 分页属性\n",
    "p5.paragraph_format.keep_with_next = True\n",
    "\n",
    "# 添加分页符\n",
    "document.add_page_break()\n",
    "p5 = document.add_paragraph('.add_page_break()硬分页，即使文本未满')\n",
    "\n",
    "# 添加表格、设置表格样式\n",
    "table = document.add_table(rows=2, cols=2)\n",
    "table.style = 'LightShading-Accent1'\n",
    "\n",
    "# 选择表格内单元格、单元格赋值添加和改变内容\n",
    "cell = table.cell(0, 1)\n",
    "cell.text = '通过cell.text()来添加内容'\n",
    "\n",
    "# 选择表格的行，通过索引，然后索引单元格\n",
    "row = table.rows[1]\n",
    "row.cells[0].text = '通过.add_table（,）来添加表格'\n",
    "row.cells[1].text = '通过for row in table.rows内嵌套 for cell in row.cells来循环输出表格内容'\n",
    "\n",
    "# for循环逐行输出表格内容\n",
    "\n",
    "for row in table.rows:\n",
    "    for cell in row.cells:\n",
    "        print(cell.text)\n",
    "\n",
    "# len表格内行列数\n",
    "row_count = len(table.rows)\n",
    "col_count = len(table.columns)\n",
    "print(row_count, col_count, '现表格行列数')\n",
    "row = table.add_row()  # 逐步添加行\n",
    "print(len(table.rows), len(table.columns), '添加后表格行列数')\n",
    "\n",
    "# 添加另一个表格 及 指定表格样式\n",
    "table1 = document.add_table(1, 3)\n",
    "table1.style = 'LightShading-Accent2'  # 设置表格样式\n",
    "\n",
    "# 填充 标题行\n",
    "heading_cells = table1.rows[0].cells  # 获取 行列标\n",
    "heading_cells[0].text = 'Qtx'  # 为行列表内的cell单元格 赋值\n",
    "heading_cells[1].text = 'Sku'\n",
    "heading_cells[2].text = 'Des'\n",
    "\n",
    "# 表格数据\n",
    "items = (\n",
    "    (7, '1024', 'plush kitens'),\n",
    "    (3, '2042', 'furbees'),\n",
    "    (1, '1288', 'french poodle collars,deluxe')\n",
    ")\n",
    "\n",
    "# 为每个项目添加数据行\n",
    "for item in items:\n",
    "    cells = table1.add_row().cells\n",
    "    cells[0].text = str(item[0])\n",
    "    cells[1].text = str(item[1])\n",
    "    cells[2].text = str(item[2])\n",
    "\n",
    "# 添加图片\n",
    "document.add_picture('../测试文件夹/1.jpg', width=Inches(2))\n",
    "\n",
    "# 调整图片大小，如下：\n",
    "document.add_picture('../测试文件夹/1.jpg', width=Inches(1.0), height=Inches(1.0))\n",
    "# 若同时定义宽度和高度，则图片会被拉伸或压缩到指定大小；若仅定义宽度或高度，则图会自适应调整大小。\n",
    "\n",
    "document.save('docx.docx')\n"
   ]
  },
  {
   "cell_type": "code",
   "execution_count": null,
   "metadata": {},
   "outputs": [],
   "source": [
    "# https://python-docx.readthedocs.io/en/latest/\n",
    "import docx\n",
    "\n",
    "from docx import Document\n",
    "from docx.shared import Inches\n",
    "\n",
    "# 新建文档,并将其保存名为“test.docx”的文件\n",
    "# document = Document()\n",
    "# document.save('test.docx')\n",
    "\n",
    "# 读取文本内容\n",
    "path = \"docx.docx\"\n",
    "document = Document(path)\n",
    "# for paragraph in document.paragraphs:\n",
    "#     print(paragraph.text)\n",
    "\n",
    "print('段落:' + str(len(document.paragraphs)))\n",
    "for i in range(len(document.paragraphs)):\n",
    "    print(\"第\" + str(i) + \"段的内容是：\" + document.paragraphs[i].text)\n",
    "\n",
    "# 读取表格内容\n",
    "tables = document.tables  # 获取文件中的表格集\n",
    "table = tables[0]  # 获取文件中的第一个表格\n",
    "for i in range(0, len(table.rows)):  # 从表格第一行开始循环读取表格数据\n",
    "    result = f'{(table.cell(i, 0).text):<5}' + \"\" + f'{(table.cell(i, 1).text):<5}' + \"\" + f'{(table.cell(i, 2).text):<5}'\n",
    "    # cell(i,0)表示第(i+1)行第1列数据,以此类推\n",
    "    print(result)\n",
    "\n",
    "doc = docx.Document('test.docx')\n",
    "for table in doc.tables:  # 遍历所有表格\n",
    "    print('----table------')\n",
    "    for row in table.rows:  # 遍历表格的所有行\n",
    "        # row_str = '\\t'.join([cell.text for cell in row.cells]) # 一行数据\n",
    "        # print row_str\n",
    "        for cell in row.cells:\n",
    "            print(cell.text, '\\t', )\n",
    "        print()  # 换行\n",
    "\n",
    "obj = Document('docx.docx')\n",
    "for p in obj.paragraphs:\n",
    "    style_name = p.style.name\n",
    "    if style_name.startswith('Heading'):\n",
    "        print(style_name, p.text, sep=':')\n"
   ]
  },
  {
   "cell_type": "markdown",
   "metadata": {},
   "source": [
    "# mp3"
   ]
  },
  {
   "cell_type": "code",
   "execution_count": null,
   "metadata": {},
   "outputs": [],
   "source": [
    "import ffmpeg\n",
    "# pip install ffmpeg-python\n",
    "# print(ffmpeg.probe('有幸-赵砚卿.mp3')[\"streams\"][0])\n",
    "print(ffmpeg.probe('/Users/li/Documents/Python/Python/data/file/music_file/mp3_music/Aimer/悲しみはオーロラに-Aimer.mp3')[\"format\"][\"duration\"])\n",
    "print(\"音乐时长\")"
   ]
  },
  {
   "cell_type": "code",
   "execution_count": null,
   "metadata": {},
   "outputs": [],
   "source": [
    "import os\n",
    "import re\n",
    "import shutil\n",
    "import subprocess\n",
    "import time\n",
    "\n",
    "\n",
    "def music_m4a_mp3(input_music_file_path_str, out_music_file_path_str):\n",
    "    # 加上引号是为了解决文件中含有空格的情况-此为最简单的解决方式。\n",
    "    p = subprocess.Popen('ffmpeg -i \"{}\" -ab 10800k -f mp3 \"{}\" '.format(\n",
    "        input_music_file_path_str, out_music_file_path_str\n",
    "    ), shell=True, stdout=subprocess.PIPE)\n",
    "    for line in iter(p.stdout.readline, b''):\n",
    "        line.strip().decode('gbk')\n",
    "    return True"
   ]
  },
  {
   "cell_type": "markdown",
   "metadata": {},
   "source": [
    "# xlsx_xls"
   ]
  },
  {
   "cell_type": "code",
   "execution_count": null,
   "metadata": {},
   "outputs": [],
   "source": [
    "import time\n",
    "\n",
    "import openpyxl\n",
    "\n",
    "# 新建文件\n",
    "book = openpyxl.Workbook()\n",
    "# 写入数据到单个表格\n",
    "sheet = book.active\n",
    "# sheet['A1'] = 56\n",
    "# sheet['A2'] = 43\n",
    "# sheet['A3'] = time.strftime(\"%x\")\n",
    "# sheet.cell(row=5, column=5).value = 5\n",
    "# sheet['F6'] = 43\n",
    "rows = (\n",
    "    (88, 46, 57),\n",
    "    (89, 38, 12),\n",
    "    (23, 59, 78),\n",
    "    (56, 21, 98),\n",
    "    (24, 18, 43),\n",
    "    (34, 15, 67)\n",
    ")\n",
    "\n",
    "for row in rows:\n",
    "    sheet.append(row)\n",
    "\n",
    "# # 读取数据\n",
    "# a1 = sheet['A1']\n",
    "# a2 = sheet['A2']\n",
    "# a3 = sheet.cell(row=3, column=1)\n",
    "# print(a1.value)\n",
    "# print(a2.value)\n",
    "# print(a3.value)\n",
    "\n",
    "# book.save(\"sample.xlsx\")\n",
    "# book.save('write2cell.xlsx')\n",
    "book.save('appending.xlsx')\n",
    "\n",
    "# 该示例加载一个现有的 xlsx 文件并读取三个单元格。\n",
    "book = openpyxl.load_workbook('appending.xlsx')\n",
    "a1 = sheet['A1']\n",
    "a2 = sheet['A2']\n",
    "a3 = sheet.cell(row=3, column=1)\n",
    "\n",
    "# 读取多个单元格\n",
    "cells = sheet['A1': 'B6']\n",
    "for c1, c2 in cells:\n",
    "    print(\"{0:8} {1:8}\".format(\"\" if c1.value is None else c1.value, \"\" if c2.value is None else c2.value, ))\n",
    "\n",
    "# iter_rows()方法将工作表中的单元格返回为行\n",
    "for row in sheet.iter_rows(min_row=1, min_col=1, max_row=6, max_col=3):\n",
    "    for cell in row:\n",
    "        print(\"\" if cell.value is None else cell.value, end=\" \")\n",
    "    print()\n",
    "\n",
    "# iter_cols()方法将工作表中的单元格作为列返回\n",
    "for row in sheet.iter_cols(min_row=1, min_col=1, max_row=6, max_col=3):\n",
    "    for cell in row:\n",
    "        print(cell.value, end=\" \")\n",
    "    print()\n",
    "\n",
    "# 统计\n",
    "import statistics as stats\n",
    "\n",
    "book = openpyxl.load_workbook('appending.xlsx', data_only=True)\n",
    "values = []\n",
    "\n",
    "for row in rows:\n",
    "    for cell in row:\n",
    "        # values.append(cell.value)\n",
    "        values.append(cell)\n",
    "\n",
    "print(\"Number of values: {0}\".format(len(values)))\n",
    "print(\"Sum of values: {0}\".format(sum(values)))\n",
    "print(\"Minimum value: {0}\".format(min(values)))\n",
    "print(\"Maximum value: {0}\".format(max(values)))\n",
    "print(\"Mean: {0}\".format(stats.mean(values)))\n",
    "print(\"Median: {0}\".format(stats.median(values)))\n",
    "print(\"Standard deviation: {0}\".format(stats.stdev(values)))\n",
    "print(\"Variance: {0}\".format(stats.variance(values)))\n",
    "\n",
    "# 过滤器&排序数据\n",
    "# 图纸具有auto_filter属性，该属性允许设置过滤条件和排序条件。\n",
    "wb = openpyxl.Workbook()\n",
    "sheet = wb.active\n",
    "data = [\n",
    "    ['Item', 'Colour'],\n",
    "    ['pen', 'brown'],\n",
    "    ['book', 'black'],\n",
    "    ['plate', 'white'],\n",
    "    ['chair', 'brown'],\n",
    "    ['coin', 'gold'],\n",
    "    ['bed', 'brown'],\n",
    "    ['notebook', 'white'],\n",
    "]\n",
    "\n",
    "for r in data:\n",
    "    sheet.append(r)\n",
    "\n",
    "sheet.auto_filter.ref = 'A1:B8'\n",
    "sheet.auto_filter.add_filter_column(1, ['brown', 'white'])\n",
    "sheet.auto_filter.add_sort_condition('B2:B8')\n",
    "\n",
    "print(sheet.dimensions)\n",
    "print(\"Minimum row: {0}\".format(sheet.min_row))\n",
    "print(\"Maximum row: {0}\".format(sheet.max_row))\n",
    "print(\"Minimum column: {0}\".format(sheet.min_column))\n",
    "print(\"Maximum column: {0}\".format(sheet.max_column))\n",
    "\n",
    "for c1, c2 in sheet[sheet.dimensions]:\n",
    "    print(c1.value, c2.value)\n",
    "\n",
    "wb.save('filtered.xlsx')\n",
    "print('ok')"
   ]
  },
  {
   "cell_type": "markdown",
   "metadata": {},
   "source": [
    "## 读取"
   ]
  },
  {
   "cell_type": "code",
   "execution_count": null,
   "metadata": {},
   "outputs": [],
   "source": [
    "import openpyxl\n",
    "\n",
    "book = openpyxl.load_workbook('sheets.xlsx')\n",
    "\n",
    "print(book.get_sheet_names())\n",
    "\n",
    "active_sheet = book.active\n",
    "print(type(active_sheet))\n",
    "\n",
    "sheet = book.get_sheet_by_name(\"March\")\n",
    "print(sheet.title)\n",
    "\n",
    "# !/usr/bin/env python\n",
    "\n",
    "import openpyxl\n",
    "\n",
    "book = openpyxl.load_workbook('sheets.xlsx')\n",
    "\n",
    "book.create_sheet(\"April\")\n",
    "\n",
    "print(book.sheetnames)\n",
    "\n",
    "sheet1 = book.get_sheet_by_name(\"January\")\n",
    "book.remove_sheet(sheet1)\n",
    "\n",
    "print(book.sheetnames)\n",
    "\n",
    "book.create_sheet(\"January\", 0)\n",
    "print(book.sheetnames)\n",
    "\n",
    "book.save('sheets2.xlsx')\n",
    "# !/usr/bin/env python\n",
    "\n",
    "import openpyxl\n",
    "\n",
    "book = openpyxl.load_workbook('sheets.xlsx')\n",
    "\n",
    "book.create_sheet(\"April\")\n",
    "\n",
    "print(book.sheetnames)\n",
    "\n",
    "sheet1 = book.get_sheet_by_name(\"January\")\n",
    "book.remove_sheet(sheet1)\n",
    "\n",
    "print(book.sheetnames)\n",
    "\n",
    "book.create_sheet(\"January\", 0)\n",
    "print(book.sheetnames)\n",
    "\n",
    "book.save('sheets2.xlsx')\n",
    "\n",
    "# !/usr/bin/env python\n",
    "\n",
    "import openpyxl\n",
    "\n",
    "book = openpyxl.load_workbook('sheets.xlsx')\n",
    "\n",
    "sheet = book.get_sheet_by_name(\"March\")\n",
    "sheet.sheet_properties.tabColor = \"0072BA\"  # 该示例修改了标题为“ March”的工作表的背景颜色。\n",
    "\n",
    "book.save('sheets3.xlsx')"
   ]
  },
  {
   "cell_type": "code",
   "execution_count": null,
   "metadata": {},
   "outputs": [],
   "source": [
    "import pandas as pd\n",
    "\n",
    "file_path = r'上线控制文档V1.0—风险监督组审计项目管理宽表.xlsx'\n",
    "df = pd.read_excel(file_path, sheet_name=\"上线包\").fillna('')  # sheet_name不指定时默认返回全表数据\n",
    "# df = pd.read_excel(file_path, sheet_name=\"上线包内容\")  # sheet_name不指定时默认返回全表数据\n",
    "\n",
    "# 打印表数据，如果数据太多，会略去中间部分\n",
    "print(df)\n",
    "\n",
    "# 打印头部数据，仅查看数据示例时常用\n",
    "print(df.head())\n",
    "\n",
    "# 打印列标题\n",
    "print(df.columns)\n",
    "\n",
    "# 打印行\n",
    "print(df.index)\n",
    "\n",
    "# 打印指定列\n",
    "# \t技术名称\t业务名称\t类型\t路径\t打包时间\n",
    "print(df[\"上线包名\"])\n",
    "\n",
    "# 描述数据\n",
    "print(df.describe())"
   ]
  },
  {
   "cell_type": "markdown",
   "metadata": {},
   "source": [
    "## 修改"
   ]
  },
  {
   "cell_type": "code",
   "execution_count": null,
   "metadata": {},
   "outputs": [],
   "source": [
    "import pandas as pd\n",
    "from pandas import DataFrame\n",
    "\n",
    "file_path = r'./demo.xls'\n",
    "df = pd.read_excel(file_path, sheet_name='')\n",
    "\n",
    "df['gender'][df['gender'] == 'girl'] = 'female'\n",
    "df['gender'][df['gender'] == 'boy'] = 'male'\n",
    "\n",
    "print(df)\n",
    "\n",
    "DataFrame(df).to_excel(file_path, sheet_name='Sheet1', index=False, header=True)"
   ]
  },
  {
   "cell_type": "markdown",
   "metadata": {},
   "source": [
    "## 公式"
   ]
  },
  {
   "cell_type": "code",
   "execution_count": null,
   "metadata": {},
   "outputs": [],
   "source": [
    "#!/usr/bin/env python\n",
    "\n",
    "from openpyxl import Workbook\n",
    "\n",
    "book = Workbook()\n",
    "sheet = book.active\n",
    "\n",
    "rows = (\n",
    "    (34, 26),\n",
    "    (88, 36),\n",
    "    (24, 29),\n",
    "    (15, 22),\n",
    "    (56, 13),\n",
    "    (76, 18)\n",
    ")\n",
    "\n",
    "for row in rows:\n",
    "    sheet.append(row)\n",
    "\n",
    "#  openpyxl不进行计算； 它将公式写入单元格。\n",
    "cell = sheet.cell(row=7, column=2)\n",
    "cell.value = \"=SUM(A1:B6)\"\n",
    "cell.font = cell.font.copy(bold=True)\n",
    "\n",
    "book.save('formulas.xlsx')"
   ]
  },
  {
   "cell_type": "markdown",
   "metadata": {},
   "source": [
    "## 写入"
   ]
  },
  {
   "cell_type": "code",
   "execution_count": null,
   "metadata": {},
   "outputs": [],
   "source": [
    "import pandas as pd\n",
    "from pandas import DataFrame\n",
    "\n",
    "data = {'name': ['zs', 'ls', 'ww'], 'age': [11, 12, 13], 'gender': ['man', 'man', 'woman']}\n",
    "df = DataFrame(data)\n",
    "df.to_excel('new1.xlsx', index=False)\n",
    "data = pd.read_excel('new.xlsx', sheet_name='Sheet1')\n",
    "data.loc[3] = ['1', '2', '3']\n",
    "pd.DataFrame(data).to_excel('new1.xlsx', index=False)\n",
    "print('ok')"
   ]
  },
  {
   "cell_type": "markdown",
   "metadata": {},
   "source": [
    "## 冻结窗口"
   ]
  },
  {
   "cell_type": "code",
   "execution_count": null,
   "metadata": {},
   "outputs": [],
   "source": [
    "from openpyxl import Workbook\n",
    "from openpyxl.styles import Alignment\n",
    "\n",
    "book = Workbook()\n",
    "sheet = book.active\n",
    "# 冻结窗格时，在滚动到工作表的另一个区域时，我们会保持工作表的某个区域可见。\n",
    "sheet.freeze_panes = 'B2'\n",
    "\n",
    "book.save('freezing.xlsx')"
   ]
  },
  {
   "cell_type": "markdown",
   "metadata": {},
   "source": [
    "## 合并单元格"
   ]
  },
  {
   "cell_type": "code",
   "execution_count": null,
   "metadata": {},
   "outputs": [],
   "source": [
    "#!/usr/bin/env python\n",
    "\n",
    "# 单元格可以使用merge_cells()方法合并，而可以不使用unmerge_cells()方法合并。 当我们合并单元格时，除了左上角的所有单元格都将从工作​​表中删除。\n",
    "from openpyxl import Workbook\n",
    "from openpyxl.styles import Alignment\n",
    "\n",
    "\n",
    "book = Workbook()\n",
    "sheet = book.active\n",
    "\n",
    "# 合并了四个单元格：A1，B1，A2 和 B2。 最后一个单元格中的文本居中。\n",
    "sheet.merge_cells('A1:B2')\n",
    "\n",
    "cell = sheet.cell(row=1, column=1)\n",
    "cell.value = 'Sunny day'\n",
    "# 为了使文本在最后一个单元格中居中，我们使用了openpyxl.styles模块中的Alignment类。\n",
    "cell.alignment = Alignment(horizontal='center', vertical='center')\n",
    "\n",
    "book.save('merging.xlsx')"
   ]
  },
  {
   "cell_type": "markdown",
   "metadata": {},
   "source": [
    "## 图像"
   ]
  },
  {
   "cell_type": "code",
   "execution_count": null,
   "metadata": {},
   "outputs": [],
   "source": [
    "#!/usr/bin/env python\n",
    "\n",
    "from openpyxl import Workbook\n",
    "from openpyxl.drawing.image import Image\n",
    "\n",
    "book = Workbook()\n",
    "sheet = book.active\n",
    "\n",
    "img = Image(\"icesid.png\")\n",
    "sheet['A1'] = 'This is Sid'\n",
    "\n",
    "sheet.add_image(img, 'B2')\n",
    "\n",
    "book.save(\"sheet_image.xlsx\")"
   ]
  },
  {
   "cell_type": "markdown",
   "metadata": {},
   "source": [
    "## 图标"
   ]
  },
  {
   "cell_type": "code",
   "execution_count": null,
   "metadata": {},
   "outputs": [],
   "source": [
    "#!/usr/bin/env python\n",
    "\n",
    "from openpyxl import Workbook\n",
    "from openpyxl.chart import (\n",
    "    Reference,\n",
    "    Series,\n",
    "    BarChart\n",
    ")\n",
    "\n",
    "book = Workbook()\n",
    "sheet = book.active\n",
    "\n",
    "rows = [\n",
    "    (\"USA\", 46),\n",
    "    (\"China\", 38),\n",
    "    (\"UK\", 29),\n",
    "    (\"Russia\", 22),\n",
    "    (\"South Korea\", 13),\n",
    "    (\"Germany\", 11)\n",
    "]\n",
    "\n",
    "for row in rows:\n",
    "    sheet.append(row)\n",
    "\n",
    "data = Reference(sheet, min_col=2, min_row=1, max_col=2, max_row=6)\n",
    "categs = Reference(sheet, min_col=1, min_row=1, max_row=6)\n",
    "\n",
    "chart = BarChart()\n",
    "chart.add_data(data=data)\n",
    "chart.set_categories(categs)\n",
    "\n",
    "chart.legend = None\n",
    "chart.y_axis.majorGridlines = None\n",
    "chart.varyColors = True\n",
    "chart.title = \"Olympic Gold medals in London\"\n",
    "\n",
    "sheet.add_chart(chart, \"A8\")\n",
    "\n",
    "book.save(\"bar_chart.xlsx\")\n",
    "\n",
    "# openpyxl库支持创建各种图表，包括条形图，折线图，面积图，气泡图，散点图和饼图。\n",
    "#\n",
    "# 根据文档，openpyxl仅支持在工作表中创建图表。 现有工作簿中的图表将丢失。"
   ]
  },
  {
   "cell_type": "markdown",
   "metadata": {},
   "source": [
    "## 样式"
   ]
  },
  {
   "cell_type": "code",
   "execution_count": null,
   "metadata": {},
   "outputs": [],
   "source": [
    "import openpyxl\n",
    "from openpyxl.styles import Side, Border, colors\n",
    "\n",
    "wb = openpyxl.Workbook()  # 创建一个excel文件\n",
    "sheet = wb.active  # 获得一个的工作表\n",
    "sheet.title = \"边框控制\"\n",
    "\n",
    "# border = Border(left=Side(border_style='thin', color='000000'),\n",
    "#                 right=Side(border_style='mediumDashed', color='000000'),\n",
    "#                 top=Side(border_style='double', color='000000'),\n",
    "#                 bottom=Side(border_style='dashed', color='000000'))\n",
    "left, right, top, bottom = [Side(style='thin', color='000000')] * 4\n",
    "\n",
    "sheet['B5'].border = Border(left=left, right=right, top=top, bottom=bottom)\n",
    "\n",
    "wb.save(\"边框.xlsx\")\n",
    "print('ok')"
   ]
  },
  {
   "cell_type": "code",
   "execution_count": null,
   "metadata": {},
   "outputs": [],
   "source": [
    "## 自动适应列宽"
   ]
  },
  {
   "cell_type": "code",
   "execution_count": null,
   "metadata": {},
   "outputs": [],
   "source": [
    "import string\n",
    "\n",
    "import openpyxl\n",
    "\n",
    "\n",
    "class CXlAutofit():\n",
    "    # 生成列名字典，只是为了方便修改列宽时指定列，key:数字，从1开始；value:列名，从A开始\n",
    "    def get_num_colnum_dict(self):\n",
    "        ''' :return: 返回字典：{1:'A', 2:'B', ...... , 52:'AZ'} '''\n",
    "        num_str_dict = {\n",
    "        }\n",
    "        A_Z = [chr(a) for a in range(ord('A'), ord('Z') + 1)]\n",
    "        AA_AZ = ['A' + chr(a) for a in range(ord('A'), ord('Z') + 1)]\n",
    "        A_AZ = A_Z + AA_AZ\n",
    "        for i in A_AZ:\n",
    "            num_str_dict[A_AZ.index(i) + 1] = i\n",
    "        return num_str_dict\n",
    "\n",
    "    # 自适应列宽\n",
    "    def style_excel(self, excel_name: str, sheet_name: str):\n",
    "        ''' :param sheet_name: excel中的sheet名 :return: '''\n",
    "        # 打开excel\n",
    "        wb = openpyxl.load_workbook(excel_name)\n",
    "        # 选择对应的sheet\n",
    "        sheet = wb[sheet_name]\n",
    "        # 获取最大行数与最大列数\n",
    "        max_column = sheet.max_column\n",
    "        max_row = sheet.max_row\n",
    "        # 将每一列，单元格列宽最大的列宽值存到字典里，key:列的序号从1开始(与字典num_str_dic中的key对应)；value:列宽的值\n",
    "        max_column_dict = {\n",
    "        }\n",
    "        # 生成列名字典，只是为了方便修改列宽时指定列，key:数字，从1开始；value:列名，从A开始\n",
    "        num_str_dict = self.get_num_colnum_dict()\n",
    "        # 遍历全部列\n",
    "        for i in range(1, max_column + 1):\n",
    "            # 遍历每一列的全部行\n",
    "            for j in range(1, max_row + 1):\n",
    "                column = 0\n",
    "                # 获取j行i列的值\n",
    "                sheet_value = sheet.cell(row=j, column=i).value\n",
    "                # 通过列表生成式生成字符列表，将当前获取到的单元格的str值的每一个字符放在一个列表中（列表中一个元素是一个字符）\n",
    "                sheet_value_list = [k for k in str(sheet_value)]\n",
    "                # 遍历当前单元格的字符列表\n",
    "                for v in sheet_value_list:\n",
    "                    # 判定长度，一个数字或一个字母，单元格列宽+=1.1，其它+=2.2（长度可根据需要自行修改，经测试一个字母的列宽长度大概为1）\n",
    "                    if v.isdigit() == True or v.isalpha() == True:\n",
    "                        column += 1.1\n",
    "                    else:\n",
    "                        column += 2.2\n",
    "                    # 当前单元格列宽与字典中的对比，大于字典中的列宽值则将字典更新。如果字典没有这个key，抛出异常并将值添加到字典中\n",
    "                    try:\n",
    "                        if column > max_column_dict[i]:\n",
    "                            max_column_dict[i] = column\n",
    "                    except Exception as e:\n",
    "                        max_column_dict[i] = column\n",
    "        # 此时max_column_dict字典中已存有当前sheet的所有列的最大列宽值，直接遍历字典修改列宽\n",
    "        for key, value in max_column_dict.items():\n",
    "            sheet.column_dimensions[num_str_dict[key]].width = value\n",
    "\n",
    "        # 保存\n",
    "        wb.save(excel_name)\n",
    "\n",
    "\n",
    "# 调用方法 实例化类\n",
    "# Entity = CXlAutofit()\n",
    "# 传入参数：Excel名称，需要设置列宽的Sheet名称\n",
    "# Entity.style_excel('excelTest.xlsx', 'Sheet1')\n",
    "len_ = 0\n",
    "for chr_ in 'ASD-1234_wd#@':\n",
    "    if chr_ in string.ascii_letters:\n",
    "        len_ += 1.275\n",
    "    elif chr_ in string.digits:\n",
    "        len_ += 1.514\n",
    "    elif chr_ in string.punctuation:\n",
    "        len_ += 1.668\n",
    "    else:\n",
    "        len_ += 2.5625\n",
    "\n",
    "round(len_, 2)"
   ]
  },
  {
   "cell_type": "markdown",
   "metadata": {},
   "source": [
    "# MD文件"
   ]
  },
  {
   "cell_type": "markdown",
   "metadata": {},
   "source": [
    "pip install markdown -i  https://pypi.doubanio.com/simple/"
   ]
  },
  {
   "cell_type": "code",
   "execution_count": 3,
   "metadata": {
    "ExecuteTime": {
     "end_time": "2023-02-21T03:56:58.645595Z",
     "start_time": "2023-02-21T03:56:58.616859Z"
    }
   },
   "outputs": [
    {
     "name": "stdout",
     "output_type": "stream",
     "text": [
      "<h1>系统配置</h1>\n",
      "<h3>hosts</h3>\n",
      "<p>```shell\n",
      "127.0.0.1   localhost\n",
      "255.255.255.255 broadcasthost\n",
      "::1             localhost</p>\n",
      "<h1>set django environment</h1>\n",
      "<p>127.0.0.1    li   # python socket  socket.gethostbyname(socket.gethostname())\n",
      "geolite.info\n",
      "199.232.28.133      raw.githubusercontent.com</p>\n",
      "<h1>Added by Docker Desktop</h1>\n",
      "<h1>To allow the same kube context to work on the host and the container:</h1>\n",
      "<p>127.0.0.1 kubernetes.docker.internal</p>\n",
      "<h1>End of section</h1>\n",
      "<h1>set hadoop ip environment</h1>\n",
      "<p>172.16.17.136 master\n",
      "172.16.17.137 slave1\n",
      "172.16.17.138 slave2\n",
      "```</p>\n",
      "<h3>zshrc</h3>\n",
      "<p>```shell</p>\n",
      "<h1>&gt;&gt;&gt; conda initialize &gt;&gt;&gt;</h1>\n",
      "<h1>!! Contents within this block are managed by 'conda init' !!</h1>\n",
      "<p>__conda_setup=\"$('/Users/li/opt/anaconda3/bin/conda' 'shell.zsh' 'hook' 2&gt; /dev/null)\"\n",
      "if [ $? -eq 0 ]; then\n",
      "    eval \"$__conda_setup\"\n",
      "else\n",
      "    if [ -f \"/Users/li/opt/anaconda3/etc/profile.d/conda.sh\" ]; then\n",
      "        . \"/Users/li/opt/anaconda3/etc/profile.d/conda.sh\"\n",
      "    else\n",
      "        export PATH=\"/Users/li/opt/anaconda3/bin:$PATH\"\n",
      "    fi\n",
      "fi\n",
      "unset __conda_setup</p>\n",
      "<h1>&lt;&lt;&lt; conda initialize &lt;&lt;&lt;</h1>\n",
      "<h1>set MySql environment</h1>\n",
      "<p>PATH=\"$PATH\":/usr/local/mysql/bin</p>\n",
      "<h1>set ShadowSocks environment</h1>\n",
      "<p>export http_proxy=\"127.0.0.1:59263\"\n",
      "export https_proxy=\"127.0.0.1:59263\"</p>\n",
      "<h1>export ftp_proxy=\"127.0.0.1:59263\"</h1>\n",
      "<h1>export http_proxy='http://localhost:59263'</h1>\n",
      "<h1>export https_proxy='http://localhost:59263'</h1>\n",
      "<h1>export ftp_proxy=\"127.0.0.1:59263\"</h1>\n",
      "<h1>set maven environment</h1>\n",
      "<p>export MAVEN_HOME=/opt/apache-maven-3.8.4\n",
      "export PATH=$PATH:$MAVEN_HOME/bin</p>\n",
      "<h1>set hadoop environment</h1>\n",
      "<p>export HADOOP_HOME=/opt/homebrew/Cellar/hadoop/3.3.1\n",
      "export PATH=$PATH:$HADOOP_HOME/bin:$HADOOP_HOME/sbin\n",
      "export HADOOP_COMMON_HOME=$HADOOP_HOME\n",
      "export HDFS_DATANODE_SECURE_USER=root\n",
      "export HDFS_DATANODE_SECURE_USER=root\n",
      "export HDFS_SECONDARYNAMENODE_USER=root\n",
      "export HADOOP_HOME=/Users/li/Documents/Hadoop/hadoop-2.6.5\n",
      "export PATH=$PATH:$HADOOP_HOME/bin:$HADOOP_HOME/sbin</p>\n",
      "<p>export HADOOP_COMMON_HOME=$HADOOP_HOME\n",
      "export HADOOP_USER_NAME=root</p>\n",
      "<h1>set python-hadoop environment</h1>\n",
      "<p>export HDFSCLI_CONFIG=/Users/li/.hdfscli.cfg</p>\n",
      "<h1>set Scala environment</h1>\n",
      "<p>export SCALA_HOME=/opt/homebrew/Cellar/scala/2.13.8\n",
      "export PATH=$PATH:$SCALA_HOME/bin</p>\n",
      "<h1>set Scala environment</h1>\n",
      "<p>export SPARK_HOME=/opt/spark/spark-3.2.1-bin-hadoop3.2\n",
      "export PATH=$PATH:$SPARK_HOME/bin\n",
      "export PYSPARK_PYTHON=python3\n",
      "export LC_ALL=en_US.UTF-8\n",
      "export LANG=en_US.UTF-8\n",
      "```</p>\n",
      "<p>export http_proxy='http://localhost:59263'</p>\n",
      "<p>export https_proxy='http://localhost:59263'</p>\n",
      "<p>export ALL_PROXY=socks5://127.0.0.1:1080</p>\n",
      "<p>alias mysql=/usr/local/mysql/bin/mysql</p>\n",
      "<p>alias mysqladmin=/usr/local/mysql/bin/mysqladmin</p>\n",
      "<p>#export PATH=\"${GOPATH}/bin:${PATH}\"</p>\n",
      "<p># go语言安装主根目录</p>\n",
      "<p>export GOROOT=/usr/local/go #替换你的目录</p>\n",
      "<p>export GOPATH=/Users/lijundong/Downloads/GoLang/GoPath #替换你的目录</p>\n",
      "<p># GOBIN 当我们使用go install命令编译后并且安装的二进制程序目录</p>\n",
      "<p>export GOBIN=$GOPATH/bin</p>\n",
      "<p># 启用 Go Modules 功能</p>\n",
      "<p>export GO111MODULE=on</p>\n",
      "<p># 配置 GOPROXY 环境变量</p>\n",
      "<p># export GOPROXY=https://goproxy.cn,direct</p>\n",
      "<p>export PATH=$PATH:$GOROOT/bin:$GOBIN</p>\n",
      "<p># export GOBIN=$GOPATH/bin</p>\n",
      "<p>export PATH=$PATH:$GOROOT/bin:$GOBIN</p>\n",
      "<h3>.bashrc</h3>\n",
      "<p>```\n",
      "JAVA_HOME=/Library/Java/JavaVirtualMachines/jdk-16.jdk/Contents/Home\n",
      "PATH=$JAVA_HOME/bin:$PATH:.\n",
      "CLASSPATH=$JAVA_HOME/lib/tools.jar:$JAVA_HOME/lib/dt.jar:.\n",
      "export JAVA_HOME\n",
      "export PATH\n",
      "export CLASSPATH\n",
      "export ANDROID_HOME=/Users/lijundong/Documents/android-sdk-macosx\n",
      "export PATH=${PATH}:${ANDROID_HOME}/tools\n",
      "export PATH=${PATH}:${ANDROID_HOME}/platform-tools</p>\n",
      "<h1>export GOROOT=/usr/local/go</h1>\n",
      "<h1>export GOPATH=/Users/lijundong/Downloads/Go/GoPath</h1>\n",
      "<h1>export GOBIN=$GOROOT/bin</h1>\n",
      "<h1>export PATH=$PATH:$GOBIN</h1>\n",
      "<h1>export PATH=$PATH:$GOBIN:$GOPATH</h1>\n",
      "<h1>export PATH=$PATH:$GOPATH/bin</h1>\n",
      "<h1>export PATH=\"${GOPATH}/bin:${PATH}\"</h1>\n",
      "<h1>go语言安装主根目录</h1>\n",
      "<p>export GOROOT=/usr/local/go #替换你的目录</p>\n",
      "<h1>GOPATH 是自己的go项目路径，自定义设置</h1>\n",
      "<p>export GOPATH=/Users/lijundong/Downloads/GoLang/GoPath #替换你的目录</p>\n",
      "<h1>GOBIN 当我们使用go install命令编译后并且安装的二进制程序目录</h1>\n",
      "<p>export GOBIN=$GOROOT/bin</p>\n",
      "<h1>启用 Go Modules 功能</h1>\n",
      "<p>export GO111MODULE=on</p>\n",
      "<h1>配置 GOPROXY 环境变量</h1>\n",
      "<h1>export GOPROXY=https://goproxy.cn,direct</h1>\n",
      "<p>export PATH=$PATH:$GOROOT/bin:$GOBIN</p>\n",
      "<h1>export GOBIN=$GOPATH/bin</h1>\n",
      "<p>export PATH=$PATH:$GOROOT/bin:$GOBIN\n",
      "```</p>\n",
      "<p>JAVA_HOME=/Library/Java/JavaVirtualMachines/jdk-16.jdk/Contents/Home</p>\n",
      "<p>PATH=$JAVA_HOME/bin:$PATH:.</p>\n",
      "<p>CLASSPATH=$JAVA_HOME/lib/tools.jar:$JAVA_HOME/lib/dt.jar:.</p>\n",
      "<p>export JAVA_HOME</p>\n",
      "<p>export PATH</p>\n",
      "<p>export CLASSPATH</p>\n",
      "<p>export ANDROID_HOME=/Users/lijundong/Documents/android-sdk-macosx</p>\n",
      "<p>export PATH=${PATH}:${ANDROID_HOME}/tools</p>\n",
      "<p>export PATH=${PATH}:${ANDROID_HOME}/platform-tools</p>\n",
      "<p>#export GOROOT=/usr/local/go</p>\n",
      "<p>#export GOPATH=/Users/lijundong/Downloads/Go/GoPath</p>\n",
      "<p>#export GOBIN=$GOROOT/bin</p>\n",
      "<p>#export PATH=$PATH:$GOBIN</p>\n",
      "<p>#export PATH=$PATH:$GOBIN:$GOPATH</p>\n",
      "<p>#export PATH=$PATH:$GOPATH/bin</p>\n",
      "<p>#export PATH=\"${GOPATH}/bin:${PATH}\"</p>\n",
      "<p>#go语言安装主根目录</p>\n",
      "<p>export GOROOT=/usr/local/go #替换你的目录</p>\n",
      "<p># GOPATH 是自己的go项目路径，自定义设置</p>\n",
      "<p>export GOPATH=/Users/lijundong/Downloads/GoLang/GoPath #替换你的目录</p>\n",
      "<p>#GOBIN 当我们使用go install命令编译后并且安装的二进制程序目录</p>\n",
      "<p>export GOBIN=$GOROOT/bin</p>\n",
      "<p># 启用 Go Modules 功能</p>\n",
      "<p>export GO111MODULE=on</p>\n",
      "<p># 配置 GOPROXY 环境变量</p>\n",
      "<p># export GOPROXY=https://goproxy.cn,direct</p>\n",
      "<p>export PATH=$PATH:$GOROOT/bin:$GOBIN</p>\n",
      "<p># export GOBIN=$GOPATH/bin</p>\n",
      "<p>export PATH=$PATH:$GOROOT/bin:$GOBIN</p>\n",
      "<h3>hosts</h3>\n",
      "<p>```\n",
      "255.255.255.255 broadcasthost\n",
      "127.0.0.2   odin\n",
      "127.0.0.3   odin  # inline comment \n",
      "::2             odin\n",
      "127.1.1.1   thor</p>\n",
      "<h1>aliases</h1>\n",
      "<p>127.1.1.2   ullr ullrhost\n",
      "fe80::1%lo0 localhost</p>\n",
      "<h1>Bogus entries that must be ignored.</h1>\n",
      "<p>123.123.123 loki\n",
      "321.321.321.321\n",
      "```</p>\n",
      "<p>```</p>\n",
      "<h2></h2>\n",
      "<h1>Host Database</h1>\n",
      "<h1></h1>\n",
      "<h1>localhost is used to configure the loopback interface</h1>\n",
      "<h1>when the system is booting.  Do not change this entry.</h1>\n",
      "<h2></h2>\n",
      "<p>127.0.0.1   localhost\n",
      "255.255.255.255 broadcasthost\n",
      "::1             localhost</p>\n",
      "<p>127.0.0.1    li   # python socket  socket.gethostbyname(socket.gethostname())</p>\n",
      "<p>geolite.info\n",
      "```</p>\n",
      "<h3>privoxy</h3>\n",
      "<p>sudo /usr/local/sbin/privoxy /usr/local/etc/privoxy/config</p>\n",
      "<p>ps aux | grep privoxy</p>\n",
      "<p>source ~/.zshrc</p>\n",
      "<p>curl -I http://www.google.com </p>\n",
      "<p>listen-address  127.0.0.1:8118</p>\n",
      "<p>buffer-limit 4096</p>\n",
      "<p>cache.isp.example.net:8080</p>\n",
      "<p>listen-address 0.0.0.0:59263\n",
      "forward-socks5t / 127.0.0.1:1086 .\n",
      "forward-socks5 / localhost:1086 .</p>\n",
      "<h3>tmux</h3>\n",
      "<h3>nginx</h3>\n",
      "<h3>mango</h3>\n",
      "<h3>redis</h3>\n",
      "<h3>Scrapy</h3>\n",
      "<h3>Supervisor</h3>\n",
      "<h3>anaconda</h3>\n",
      "<h2>开机提示音- No</h2>\n",
      "<p>永久关闭的话，输入以下命令即可：</p>\n",
      "<p><code>bash\n",
      "sudo nvram SystemAudioVolume=%80\n",
      "sudo nvram StartupMute =％01\n",
      "sudo nvram SystemAudioVolume=%00</code></p>\n",
      "<p>恢复的话输入：</p>\n",
      "<p><code>bash\n",
      "sudo nvram -d SystemAudioVolume</code></p>\n",
      "<h2>清除DNS缓存</h2>\n",
      "<p>sudo killall -HUP mDNSResponder</p>\n",
      "<p>修改hosts</p>\n",
      "<p>/etc/hosts</p>\n",
      "<p>​   add: geolite.info</p>\n",
      "<h2>端口</h2>\n",
      "<p>查看端口：lsof -i :端口\n",
      "杀死：kill -9 进程ID</p>\n",
      "<h2>查看系统配置</h2>\n",
      "<p>sysctl machdep.cpu.brand_string </p>\n",
      "<p>sysctl -n machdep.cpu.core_count  </p>\n",
      "<p>sysctl -n machdep.cpu.thread_count</p>\n",
      "<h2>代理</h2>\n",
      "<p>http://127.0.0.1:8090/proxy.pac</p>\n",
      "<h2>Typora-install</h2>\n",
      "<p>导出位word文档<code>brew install pandoc</code></p>\n",
      "<p>/usr/local/Cellar/pandoc/2.13: 10 files, 124.4MB</p>\n",
      "<h2>Hosts</h2>\n",
      "<h3>1、通过 VI 编辑器修改</h3>\n",
      "<ul>\n",
      "<li>\n",
      "<p>打开终端（应用程序——实用工具），运行：</p>\n",
      "</li>\n",
      "<li>\n",
      "<p>sudo vi /etc/hosts</p>\n",
      "</li>\n",
      "<li>\n",
      "<p>打开 hosts 文件之后按 i 键进入插入模式（可理解为编辑模式，如下图所示，会有「INSERT 」提示，即可插入编辑的意思），然后按照你的需要对该文件进行编辑，编辑完成之后按 ESC 键退出插入模式，之后按「 :wq+回车」保存退出，记得英文的冒号也是要输入的哦。</p>\n",
      "</li>\n",
      "</ul>\n",
      "<h3>2、直接在 Mac 系统下找到 Hosts 文件修改</h3>\n",
      "<ul>\n",
      "<li>第一步、打开你的文件管理器也就是Finder ，Hosts自然也是在这个里面。</li>\n",
      "<li>第二步、接下来请按快捷键组合 Shift+Command+G 三个组合按键查找文件，并输入 Hosts 文件的所在路径：/etc/hosts ，如图所示：</li>\n",
      "<li>第三步、在打开的文件夹当中找到「Hosts」文件夹。</li>\n",
      "<li>第四步、复制这个「hosts」文件到桌面上，鼠标右键点击/右击它，选择「打开方式」—「文本编辑」，打开这个「hosts」文件，然后将你要修改的内容直接在里面修改就好了。</li>\n",
      "<li>第五步、将你修改好的 hosts 文件(注意在详情里面检查后缀)在复制回 Hosts 文件的所在（文件夹下）路径：/etc/hosts 之下替换原始的 hosts 文件就好了，这样你 Mac 系统下的 hosts 文件就被成功修改了。</li>\n",
      "</ul>\n",
      "<h3>3、使用 cat 命令合并文件</h3>\n",
      "<ul>\n",
      "<li>这个方法比较适合当你想往 Hosts 文件中添加一些内容的情况，首先你需要把需要添加到 Hosts 文件中的内容保存为一个TXT文本文件（建议直接保存在你的用户目录），我这里拿保存在用户目录中的123.txt为例说明。</li>\n",
      "<li>同样是启动终端，然后运行下面两条命令：</li>\n",
      "<li>sudo -s</li>\n",
      "<li>cat ~/123.txt/etc/hosts</li>\n",
      "<li>~ 符号在 Mac 甚至所有基于 Unix 和 Linux 的系统中都是代表当前用户的用户目录，.代表当前目录，这回你就应该明白上面的命令中为什么是 ~/123.txt 了吧。</li>\n",
      "</ul>\n",
      "<h3>4、直接在图形界面中修改</h3>\n",
      "<ul>\n",
      "<li>打开 Finder，然后点击菜单栏中的 前往——前往文件夹（或者快捷键 Shift+Command+G），在路径中输入 /private，进入之后在 etc 文件夹上点击右键——显示简介，在文件夹简介窗口的最下面找到“共享与权限”，将 everyone 的权限修改为“读与写”，如果你发现不能修改的话，将右下角的那把小锁解开就可以修改了。</li>\n",
      "<li>修改 etc 文件夹的权限之后，再进入 etc 文件夹下面，修改名为 hosts 文件的权限（同样是everyone读与写），修改完成之后，你就可以直接在 hosts 文件上点右键，通过“文本编辑”打开并编辑该文件了，不会出现没有权限的提示。修改并保存完成之后，记得将该文件和 etc 文件夹的权限还原。 </li>\n",
      "</ul>\n",
      "<h1>ssh</h1>\n",
      "<p>清空：ssh-keygen -R 172.16.17.133</p>\n",
      "<h2>Mac配置允许ssh访问</h2>\n",
      "<p>https://docs.gitlab.com/ee/ssh/index.html#generating-a-new-ssh-key-pairhttps://blog.csdn.net/lxyoucan/article/details/112527301</p>\n",
      "<p>如：A(192.168.227.12)想ssh免密码登录到B(192.168.227.12)，需要把A的公钥文件（~/.ssh/id_rsa.pub）里内容追加到B的（~/.ssh/authorized_keys）文件中。就是A把自己的公钥给B，就能免密登录B了。</p>\n",
      "<p>系统偏好设置-&gt;共享-&gt;远程登录&gt;</p>\n",
      "<p>设置本地Mac ssh登陆本地Mac ssh不用密码</p>\n",
      "<p>在terminal中输入 <code>ssh-keygen -t rsa -P</code>或<code>ssh-keygen -t rsa -C \"your.email@example.com\" -b 4096</code>  ，生成rsa公钥，接下来一路按回车键或者y就行了，生成的RSA公钥和私钥放在了~/.ssh路径下面，id_rsa是私钥文件，id_rsa.pub是公钥文件，用cat命令可以查看文件里面的具体内容。\n",
      "在terminal中输入 <code>cat ~/.ssh/id_rsa.pub &gt;&gt; ~/.ssh/authorized_keys</code>，将公钥的内容写入到authorized_keys文件中。在terminal中输入 <code>ssh localhost</code> ，不需要密码也能登录，说明设置成功。</p>\n",
      "<h2>本地Ubuntu</h2>\n",
      "<p>生成公钥</p>\n",
      "<ul>\n",
      "<li>ssh-keygen</li>\n",
      "</ul>\n",
      "<p>查看</p>\n",
      "<ul>\n",
      "<li>cat .ssh/id_rsa.pub</li>\n",
      "</ul>\n",
      "<p>可以修改吗</p>\n",
      "<h3>mac</h3>\n",
      "<ul>\n",
      "<li>cd ~/.ssh/ </li>\n",
      "<li>ssh-keygen -t rsa -C \"li@li.local.com\" -f ~/.ssh/li_id_rsa</li>\n",
      "<li>ssh-keygen -t rsa -C \"li@li.local.com\" -f ~/.ssh/dns_rsa</li>\n",
      "<li>chmod 400 ~/.ssh/mykeypair.pem</li>\n",
      "<li>私钥：id_rsa、公钥：id_rsa.pub</li>\n",
      "<li>\n",
      "<p>此时在 .ssh 文件夹内 找到 config 文件. 如果没有，请输入: touch config 注意没有后缀名</p>\n",
      "</li>\n",
      "<li>\n",
      "<p>touch config</p>\n",
      "</li>\n",
      "<li>\n",
      "<p>vim config </p>\n",
      "<ul>\n",
      "<li>Host            li            #自定义别名 <br />\n",
      "  HostName        81.68.101.126         #替换为你的ssh服务器ip或domain\n",
      "  Port            22             #ssh服务器端口，默认为22\n",
      "  User            ubuntu             #ssh服务器用户名\n",
      "  IdentityFile    ~/.ssh/li_id_rsa    #第一个步骤生成的公钥文件对应的私钥文件x</li>\n",
      "</ul>\n",
      "</li>\n",
      "<li>\n",
      "<p>source config </p>\n",
      "</li>\n",
      "<li>\n",
      "<p>在 .ssh 文件夹内 找到 known_hosts 文件，如果没有，请输入: touch known_hosts 注意没有后缀名。</p>\n",
      "</li>\n",
      "<li>\n",
      "<p>scp li_id_rsa.pub ubuntu@81.68.101.126:folder-ssh/li_id_rsa.pub</p>\n",
      "</li>\n",
      "<li>\n",
      "<p>cat /home/id_rsa.pub &gt;&gt; ~/.ssh/authorized_keys</p>\n",
      "</li>\n",
      "<li>\n",
      "<p>把公钥追加到服务器ssh认证文件中：</p>\n",
      "</li>\n",
      "<li>\n",
      "<p>cat folder-ssh/li_id_rsa.pub &gt;&gt; ~/.ssh/authorized_keys</p>\n",
      "</li>\n",
      "<li>\n",
      "<p>scp: /home/li_id_rsa.pub: Permission denied</p>\n",
      "</li>\n",
      "<li>\n",
      "<p>修改其他主机的 /etc/ssh/sshd_config 文件</p>\n",
      "</li>\n",
      "<li>PermitRootLogin no 或者 PermitRootLogin without-password</li>\n",
      "<li>改成 PermitRootLogin yes</li>\n",
      "</ul>\n",
      "<h1>查看端口</h1>\n",
      "<p>lsof -i tcp:port </p>\n",
      "<p>sudo kill -9 PID</p>\n",
      "<p>netstat、ping、dig、traceroute、whois、finge</p>\n",
      "<p>netstat -AaLlnW</p>\n",
      "<h1>开启任何来源</h1>\n",
      "<p><code>bash\n",
      "sudo spctl --master-disable</code></p>\n",
      "<h1>绕过公证</h1>\n",
      "<p>打开终端，输入以下命令：</p>\n",
      "<p><code>bash\n",
      "sudo xattr -rd com.apple.quarantine /Applications/xxxxxx.app</code></p>\n",
      "<p>将上面的 <code>xxxxxx</code>.app 换成你的App名称，比如 <code>Typora.app</code></p>\n",
      "<p><code>bash\n",
      "sudo xattr -rd com.apple.quarantine /Applications/Typora.app</code></p>\n",
      "<p>或者复制以下命令粘贴到终端后</p>\n",
      "<p><code>bash\n",
      "sudo xattr -rd com.apple.quarantine</code></p>\n",
      "<p>打开Finder（访达），点击左侧的 <code>应用程序</code>，将应用拖进终端中，然后按键盘的回车键（return），输入密码，再按回车键，完成。注意 <code>quarantine</code>后面必须有个空格</p>\n",
      "<h1>应用签名</h1>\n",
      "<p>安装Command Line Tools 工具</p>\n",
      "<p>打开终端工具输入如下命令：</p>\n",
      "<p><code>bash\n",
      "xcode-select --install</code></p>\n",
      "<p>打开终端工具输入并执行如下命令对应用签名：</p>\n",
      "<p><code>bash\n",
      "sudo codesign --force --deep --sign - (应用路径)</code></p>\n",
      "<p><code>bash\n",
      "sudo codesign --force --deep --sign - /Applications/Typora.app</code></p>\n",
      "<blockquote>\n",
      "<p>应用路径：打开访达（Finder），点击左侧导航栏的 <code>应用程序</code>，找到相关应用，将它拖进终端命令<code>-</code>的后面，然后按下回车即可，注意最后一个 <code>-</code>后面有一个空格。</p>\n",
      "</blockquote>\n",
      "<p>正常情况下只有一行提示，即成功：<code>/文件位置 : replacing existing signature</code></p>\n",
      "<p>如遇如下错误：</p>\n",
      "<p><code>error\n",
      "/文件位置 : replacing existing signature\n",
      "/文件位置 : resource fork,Finder information,or similar detritus not allowed</code></p>\n",
      "<p>先在终端执行：</p>\n",
      "<p><code>bash\n",
      "xattr -cr /文件位置（直接将应用拖进去即可）</code></p>\n",
      "<p>然后再次执行如下指令即可：</p>\n",
      "<p><code>bash\n",
      "codesign --force --deep --sign - /文件位置（直接将应用拖进去即可）</code></p>\n",
      "<p>如果您嫌麻烦，您也可以下载 macwk.com 编写的 macOS小助手进行快速操作：</p>\n",
      "<h1>mac下localhost拒绝访问</h1>\n",
      "<h3>如果文件配置正确</h3>\n",
      "<p>那么 删除 /private/var/log/下的apache2文件夹 \n",
      "然后在终端输入 sudo mkdir /private/var/log/apache2 \n",
      "重启apache</p>\n",
      "<ul>\n",
      "<li>sudo apachectl -k start     启动</li>\n",
      "<li>sudo apachectl -k stop     停止</li>\n",
      "<li>sudo apachectl -k restart   重启</li>\n",
      "</ul>\n",
      "<h1>文件位置</h1>\n",
      "<h2>文件图标放置位置</h2>\n",
      "<p>/System/Library/CoreServices/CoreTypes.bundle/Contents/Resources</p>\n"
     ]
    }
   ],
   "source": [
    "import markdown\n",
    "\n",
    "def read_md_file(md_file):\n",
    "    # 读取md文件\n",
    "    with open(md_file) as f:\n",
    "        contents = f.read()\n",
    "\n",
    "    # 格式化输出\n",
    "    html = markdown.markdown(contents)\n",
    "    print(html)\n",
    "\n",
    "# 使用\n",
    "read_md_file('/Users/li/Downloads/Mac.md')"
   ]
  },
  {
   "cell_type": "markdown",
   "metadata": {},
   "source": [
    "# 文件加密解密处理"
   ]
  },
  {
   "cell_type": "markdown",
   "metadata": {},
   "source": [
    "## md5"
   ]
  },
  {
   "cell_type": "code",
   "execution_count": 1,
   "metadata": {
    "ExecuteTime": {
     "end_time": "2023-02-10T06:14:31.794327Z",
     "start_time": "2023-02-10T06:14:31.786890Z"
    }
   },
   "outputs": [],
   "source": [
    "import hashlib"
   ]
  },
  {
   "cell_type": "code",
   "execution_count": 2,
   "metadata": {
    "ExecuteTime": {
     "end_time": "2023-02-10T06:14:33.937535Z",
     "start_time": "2023-02-10T06:14:33.922765Z"
    }
   },
   "outputs": [],
   "source": [
    "file = '/Users/li/Downloads/123.csv'"
   ]
  },
  {
   "cell_type": "code",
   "execution_count": 4,
   "metadata": {
    "ExecuteTime": {
     "end_time": "2023-02-10T06:15:00.760915Z",
     "start_time": "2023-02-10T06:15:00.529668Z"
    }
   },
   "outputs": [
    {
     "name": "stdout",
     "output_type": "stream",
     "text": [
      "848381d6c73fa3982d2188732ac70eed\n"
     ]
    }
   ],
   "source": [
    "md5_hash = hashlib.md5()\n",
    "with open(file, 'rb') as f:\n",
    "    for byte_block in iter(lambda: f.read(128 * md5_hash.block_size), b\"\"):\n",
    "        md5_hash.update(byte_block)\n",
    "print(md5_hash.hexdigest())"
   ]
  },
  {
   "cell_type": "code",
   "execution_count": 5,
   "metadata": {
    "ExecuteTime": {
     "end_time": "2023-02-10T06:15:03.259378Z",
     "start_time": "2023-02-10T06:15:03.033279Z"
    }
   },
   "outputs": [
    {
     "name": "stdout",
     "output_type": "stream",
     "text": [
      "848381d6c73fa3982d2188732ac70eed\n"
     ]
    }
   ],
   "source": [
    "h = hashlib.md5()\n",
    "with open(file, 'rb') as f:\n",
    "    while chunk := f.read(128 * h.block_size):\n",
    "        h.update(chunk)\n",
    "print(h.hexdigest())"
   ]
  }
 ],
 "metadata": {
  "colab": {
   "collapsed_sections": [],
   "provenance": [],
   "toc_visible": true
  },
  "kernelspec": {
   "display_name": "Python 3 (ipykernel)",
   "language": "python",
   "name": "python3"
  },
  "language_info": {
   "codemirror_mode": {
    "name": "ipython",
    "version": 3
   },
   "file_extension": ".py",
   "mimetype": "text/x-python",
   "name": "python",
   "nbconvert_exporter": "python",
   "pygments_lexer": "ipython3",
   "version": "3.10.4"
  },
  "latex_envs": {
   "LaTeX_envs_menu_present": true,
   "autoclose": false,
   "autocomplete": true,
   "bibliofile": "biblio.bib",
   "cite_by": "apalike",
   "current_citInitial": 1,
   "eqLabelWithNumbers": true,
   "eqNumInitial": 1,
   "hotkeys": {
    "equation": "Ctrl-E",
    "itemize": "Ctrl-I"
   },
   "labels_anchors": false,
   "latex_user_defs": false,
   "report_style_numbering": false,
   "user_envs_cfg": false
  },
  "toc": {
   "base_numbering": 1,
   "nav_menu": {},
   "number_sections": true,
   "sideBar": true,
   "skip_h1_title": false,
   "title_cell": "Table of Contents",
   "title_sidebar": "Contents",
   "toc_cell": true,
   "toc_position": {
    "height": "calc(100% - 180px)",
    "left": "10px",
    "top": "150px",
    "width": "302.390625px"
   },
   "toc_section_display": true,
   "toc_window_display": true
  }
 },
 "nbformat": 4,
 "nbformat_minor": 1
}
