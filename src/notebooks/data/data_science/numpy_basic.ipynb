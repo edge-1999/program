{
 "cells": [
  {
   "cell_type": "markdown",
   "metadata": {},
   "source": [
    "# numpy"
   ]
  },
  {
   "cell_type": "code",
   "execution_count": 1,
   "metadata": {
    "ExecuteTime": {
     "end_time": "2023-04-03T01:05:34.984681Z",
     "start_time": "2023-04-03T01:05:34.976461Z"
    }
   },
   "outputs": [
    {
     "name": "stdout",
     "output_type": "stream",
     "text": [
      "/Users/li/Drive/opt/anaconda3/envs/program/bin/python\n"
     ]
    }
   ],
   "source": [
    "import sys\n",
    "\n",
    "print(sys.executable)"
   ]
  },
  {
   "cell_type": "code",
   "execution_count": 2,
   "metadata": {
    "ExecuteTime": {
     "end_time": "2023-04-04T02:55:50.490358Z",
     "start_time": "2023-04-04T02:55:50.051860Z"
    },
    "pycharm": {
     "is_executing": true
    }
   },
   "outputs": [],
   "source": [
    "import numpy as np"
   ]
  },
  {
   "cell_type": "markdown",
   "metadata": {},
   "source": [
    "## 创建"
   ]
  },
  {
   "cell_type": "markdown",
   "metadata": {},
   "source": [
    "### array"
   ]
  },
  {
   "cell_type": "markdown",
   "metadata": {},
   "source": [
    "np.array：从Python列表或元组创建数组（矩阵）。"
   ]
  },
  {
   "cell_type": "code",
   "execution_count": null,
   "metadata": {
    "ExecuteTime": {
     "end_time": "2023-04-01T03:47:37.143657Z",
     "start_time": "2023-04-01T03:47:37.139644Z"
    }
   },
   "outputs": [],
   "source": [
    "np.array([1, 2, 3])  # # 创建一个一维数组"
   ]
  },
  {
   "cell_type": "code",
   "execution_count": null,
   "metadata": {
    "ExecuteTime": {
     "end_time": "2023-04-01T03:47:37.147398Z",
     "start_time": "2023-04-01T03:47:37.144701Z"
    }
   },
   "outputs": [],
   "source": [
    "np.array([[1, 2, 3], [4, 5, 6]])  # # 创建一个二维数组"
   ]
  },
  {
   "cell_type": "code",
   "execution_count": null,
   "metadata": {
    "ExecuteTime": {
     "end_time": "2023-04-01T03:47:37.150874Z",
     "start_time": "2023-04-01T03:47:37.148432Z"
    }
   },
   "outputs": [],
   "source": [
    "np.array([1, 2, 3, 4, 5, 6], ndmin=3)"
   ]
  },
  {
   "cell_type": "code",
   "execution_count": null,
   "metadata": {
    "ExecuteTime": {
     "end_time": "2023-04-01T03:47:37.154487Z",
     "start_time": "2023-04-01T03:47:37.151982Z"
    }
   },
   "outputs": [],
   "source": [
    "np.array([1,2,3,4,5,6], dtype=complex)"
   ]
  },
  {
   "cell_type": "code",
   "execution_count": null,
   "metadata": {
    "ExecuteTime": {
     "end_time": "2023-04-01T03:47:37.158170Z",
     "start_time": "2023-04-01T03:47:37.155429Z"
    }
   },
   "outputs": [],
   "source": [
    "np.array([np.arange(1,4), np.arange(4,7), np.arange(7,10)])"
   ]
  },
  {
   "cell_type": "markdown",
   "metadata": {},
   "source": [
    "### arange\n",
    "numpy.arange(start, stop, step, dtype)函数创建等差数列数组"
   ]
  },
  {
   "cell_type": "code",
   "execution_count": null,
   "metadata": {
    "ExecuteTime": {
     "end_time": "2023-04-01T03:47:37.161522Z",
     "start_time": "2023-04-01T03:47:37.159234Z"
    }
   },
   "outputs": [],
   "source": [
    "np.arange(5)  # 创建一个一维等差数列数组 返回ndarray对象，包含给定范围内的等间隔值"
   ]
  },
  {
   "cell_type": "code",
   "execution_count": null,
   "metadata": {
    "ExecuteTime": {
     "end_time": "2023-04-01T03:47:37.166058Z",
     "start_time": "2023-04-01T03:47:37.163778Z"
    }
   },
   "outputs": [],
   "source": [
    "np.arange(0, 10, 2)  # 创建一个一维等差数列数组 返回ndarray对象，包含给定范围内的等间隔值"
   ]
  },
  {
   "cell_type": "code",
   "execution_count": null,
   "metadata": {
    "ExecuteTime": {
     "end_time": "2023-04-01T03:47:37.169324Z",
     "start_time": "2023-04-01T03:47:37.167052Z"
    }
   },
   "outputs": [],
   "source": [
    "np.arange(0, 6, dtype=int)  # float"
   ]
  },
  {
   "cell_type": "code",
   "execution_count": null,
   "metadata": {
    "ExecuteTime": {
     "end_time": "2023-04-01T03:47:37.172642Z",
     "start_time": "2023-04-01T03:47:37.170310Z"
    },
    "scrolled": true
   },
   "outputs": [],
   "source": [
    "np.arange(6).reshape((2, 3))  # 创建一个二维等差数列数组 返回ndarray对象，包含给定范围内的等间隔值"
   ]
  },
  {
   "cell_type": "markdown",
   "metadata": {},
   "source": [
    "### eye"
   ]
  },
  {
   "cell_type": "code",
   "execution_count": null,
   "metadata": {
    "ExecuteTime": {
     "end_time": "2023-04-01T03:47:59.774842Z",
     "start_time": "2023-04-01T03:47:59.762621Z"
    },
    "scrolled": true
   },
   "outputs": [],
   "source": [
    "np.eye(3)  # 创建单位矩阵（二维数组） "
   ]
  },
  {
   "cell_type": "markdown",
   "metadata": {},
   "source": [
    "### linspace\n",
    "np.linspace()函数创建指定区间内的等分数列数组。"
   ]
  },
  {
   "cell_type": "code",
   "execution_count": null,
   "metadata": {
    "ExecuteTime": {
     "end_time": "2023-04-01T03:48:02.540878Z",
     "start_time": "2023-04-01T03:48:02.526903Z"
    }
   },
   "outputs": [],
   "source": [
    "np.linspace(0, 1, 5)  # 创建一个一维等分数列数组 指定了范围之间的均匀间隔数量，而不是步长"
   ]
  },
  {
   "cell_type": "code",
   "execution_count": null,
   "metadata": {
    "ExecuteTime": {
     "end_time": "2023-04-01T03:48:03.017978Z",
     "start_time": "2023-04-01T03:48:03.006783Z"
    }
   },
   "outputs": [],
   "source": [
    "np.linspace(0, 1, 6).reshape((2, 3))  # 创建一个二维等分数列数组 指定了范围之间的均匀间隔数量，而不是步长"
   ]
  },
  {
   "cell_type": "markdown",
   "metadata": {},
   "source": [
    "### logspace\n",
    "numpy.logspace 函数用于创建一个等比数列。格式如下：numpy.logspace(start, stop, num=50, endpoint=True, base=10.0, dtype=None)"
   ]
  },
  {
   "cell_type": "code",
   "execution_count": null,
   "metadata": {
    "ExecuteTime": {
     "end_time": "2023-04-01T03:48:03.960555Z",
     "start_time": "2023-04-01T03:48:03.949491Z"
    }
   },
   "outputs": [],
   "source": [
    "np.logspace(0, 9, 10, base=2)    # 创建一个长度为10的等比数列，起始值为2的0次方，终止值为2的9次方"
   ]
  },
  {
   "cell_type": "markdown",
   "metadata": {},
   "source": [
    "### random\n",
    "np.random.rand()函数创建指定形状的随机数数组。"
   ]
  },
  {
   "cell_type": "code",
   "execution_count": null,
   "metadata": {
    "ExecuteTime": {
     "end_time": "2023-04-01T03:48:04.512547Z",
     "start_time": "2023-04-01T03:48:04.501479Z"
    }
   },
   "outputs": [],
   "source": [
    "np.random.rand(5)  # 创建一个一维随机数数组"
   ]
  },
  {
   "cell_type": "code",
   "execution_count": null,
   "metadata": {
    "ExecuteTime": {
     "end_time": "2023-04-01T03:48:04.703975Z",
     "start_time": "2023-04-01T03:48:04.690835Z"
    }
   },
   "outputs": [],
   "source": [
    "np.random.rand(2, 3)  # 创建一个二维随机数数组"
   ]
  },
  {
   "cell_type": "markdown",
   "metadata": {},
   "source": [
    "np.random.randint()函数创建指定范围内的随机整数数组。"
   ]
  },
  {
   "cell_type": "code",
   "execution_count": null,
   "metadata": {
    "ExecuteTime": {
     "end_time": "2023-04-01T03:48:05.033069Z",
     "start_time": "2023-04-01T03:48:05.025058Z"
    }
   },
   "outputs": [],
   "source": [
    "np.random.randint(0, 10, 5)  # 创建一个一维随机整数数组"
   ]
  },
  {
   "cell_type": "code",
   "execution_count": null,
   "metadata": {
    "ExecuteTime": {
     "end_time": "2023-04-01T03:48:05.202757Z",
     "start_time": "2023-04-01T03:48:05.190668Z"
    }
   },
   "outputs": [],
   "source": [
    "np.random.randint(0, 10, (2, 3))  # 创建一个二维随机整数数组"
   ]
  },
  {
   "cell_type": "code",
   "execution_count": null,
   "metadata": {
    "ExecuteTime": {
     "end_time": "2023-04-01T03:48:05.522639Z",
     "start_time": "2023-04-01T03:48:05.511163Z"
    }
   },
   "outputs": [],
   "source": [
    "np.random.randint(10, size=(2, 3)) # 创建二维随机整数数组（数值小于 6）"
   ]
  },
  {
   "cell_type": "markdown",
   "metadata": {},
   "source": [
    "numpy.random.random(size=None) "
   ]
  },
  {
   "cell_type": "code",
   "execution_count": null,
   "metadata": {
    "ExecuteTime": {
     "end_time": "2023-04-01T03:48:05.891243Z",
     "start_time": "2023-04-01T03:48:05.878739Z"
    }
   },
   "outputs": [],
   "source": [
    "np.random.random(size=4)        # 生成4个[0.0,1.0)之间的随机数"
   ]
  },
  {
   "cell_type": "code",
   "execution_count": null,
   "metadata": {
    "ExecuteTime": {
     "end_time": "2023-04-01T03:48:06.076130Z",
     "start_time": "2023-04-01T03:48:06.055537Z"
    }
   },
   "outputs": [],
   "source": [
    "np.random.random(size=(3,4))    # 生成3组，每组个[0.0,1.0)之间的随机数"
   ]
  },
  {
   "cell_type": "markdown",
   "metadata": {},
   "source": [
    "numpy.random.randint()  该方法有三个参数 low、high、size 三个参数。默认 high 是None,如果只有low，那范围就是 [0,low) 。如果有 high，范围就是 [low,high) 。"
   ]
  },
  {
   "cell_type": "code",
   "execution_count": null,
   "metadata": {
    "ExecuteTime": {
     "end_time": "2023-04-01T03:48:06.393757Z",
     "start_time": "2023-04-01T03:48:06.383352Z"
    }
   },
   "outputs": [],
   "source": [
    "np.random.randint(5,size=10)        # 生成10个[0,low)范围的随机整数"
   ]
  },
  {
   "cell_type": "code",
   "execution_count": null,
   "metadata": {
    "ExecuteTime": {
     "end_time": "2023-04-01T03:48:06.568209Z",
     "start_time": "2023-04-01T03:48:06.556103Z"
    }
   },
   "outputs": [],
   "source": [
    "np.random.randint(5,10,size=10)     # 生成10个[low,high)范围的整数"
   ]
  },
  {
   "cell_type": "code",
   "execution_count": null,
   "metadata": {
    "ExecuteTime": {
     "end_time": "2023-04-01T03:48:06.721159Z",
     "start_time": "2023-04-01T03:48:06.708466Z"
    }
   },
   "outputs": [],
   "source": [
    "np.random.randint(5,10,size=(2,4))   # 生成2*4个[low,high)范围的整数"
   ]
  },
  {
   "cell_type": "markdown",
   "metadata": {},
   "source": [
    "numpy.random.randn(d0,d1,…,dn) randn 函数返回一个或一组样本，具有标准正态分布（期望为0，方差为1）。dn 表示每个维度，返回值为指定维度的 array"
   ]
  },
  {
   "cell_type": "code",
   "execution_count": null,
   "metadata": {
    "ExecuteTime": {
     "end_time": "2023-04-01T03:48:07.049208Z",
     "start_time": "2023-04-01T03:48:07.037826Z"
    }
   },
   "outputs": [],
   "source": [
    "np.random.randn()"
   ]
  },
  {
   "cell_type": "code",
   "execution_count": null,
   "metadata": {
    "ExecuteTime": {
     "end_time": "2023-04-01T03:48:07.215592Z",
     "start_time": "2023-04-01T03:48:07.205149Z"
    }
   },
   "outputs": [],
   "source": [
    "np.random.randn(2,4)"
   ]
  },
  {
   "cell_type": "code",
   "execution_count": null,
   "metadata": {
    "ExecuteTime": {
     "end_time": "2023-04-01T03:48:07.392350Z",
     "start_time": "2023-04-01T03:48:07.377103Z"
    },
    "scrolled": true
   },
   "outputs": [],
   "source": [
    "np.random.randn(2,3,4)"
   ]
  },
  {
   "cell_type": "markdown",
   "metadata": {},
   "source": [
    "numpy.random.normal()  指定期望和方差的正太分布"
   ]
  },
  {
   "cell_type": "code",
   "execution_count": null,
   "metadata": {
    "ExecuteTime": {
     "end_time": "2023-04-01T03:48:07.702590Z",
     "start_time": "2023-04-01T03:48:07.688913Z"
    },
    "scrolled": true
   },
   "outputs": [],
   "source": [
    "np.random.normal(loc=3,scale=4,size=(2,2,3))"
   ]
  },
  {
   "cell_type": "markdown",
   "metadata": {},
   "source": [
    "### empty"
   ]
  },
  {
   "cell_type": "code",
   "execution_count": null,
   "metadata": {
    "ExecuteTime": {
     "end_time": "2023-04-01T03:48:08.032266Z",
     "start_time": "2023-04-01T03:48:08.024048Z"
    }
   },
   "outputs": [],
   "source": [
    "np.empty([1, 2, 3], int) #  ：方法用来创建一个指定形状（shape）、数据类型（dtype）(int/float/)且未初始化的数组"
   ]
  },
  {
   "cell_type": "markdown",
   "metadata": {},
   "source": [
    "### zeros\n",
    "np.zeros()函数创建指定形状的全零数组。"
   ]
  },
  {
   "cell_type": "code",
   "execution_count": null,
   "metadata": {
    "ExecuteTime": {
     "end_time": "2023-04-01T03:48:08.350287Z",
     "start_time": "2023-04-01T03:48:08.343481Z"
    }
   },
   "outputs": [],
   "source": [
    "np.zeros(5)  # # 创建一个一维全零数组"
   ]
  },
  {
   "cell_type": "code",
   "execution_count": null,
   "metadata": {
    "ExecuteTime": {
     "end_time": "2023-04-01T03:48:08.500241Z",
     "start_time": "2023-04-01T03:48:08.490385Z"
    }
   },
   "outputs": [],
   "source": [
    "np.zeros((2, 3))  # # 创建一个二维全零数组"
   ]
  },
  {
   "cell_type": "code",
   "execution_count": null,
   "metadata": {
    "ExecuteTime": {
     "end_time": "2023-04-01T03:48:08.684039Z",
     "start_time": "2023-04-01T03:48:08.672345Z"
    }
   },
   "outputs": [],
   "source": [
    "np.zeros((2, 3), int)   # 创建指定大小的数组，数组元素以 0 来填充"
   ]
  },
  {
   "cell_type": "markdown",
   "metadata": {},
   "source": [
    "### ones\n",
    "np.ones()函数创建指定形状的全一数组。"
   ]
  },
  {
   "cell_type": "code",
   "execution_count": null,
   "metadata": {
    "ExecuteTime": {
     "end_time": "2023-04-01T03:48:09.058358Z",
     "start_time": "2023-04-01T03:48:09.048335Z"
    }
   },
   "outputs": [],
   "source": [
    "np.ones(5)  # 创建一个一维全一数组"
   ]
  },
  {
   "cell_type": "code",
   "execution_count": null,
   "metadata": {
    "ExecuteTime": {
     "end_time": "2023-04-01T03:48:09.246838Z",
     "start_time": "2023-04-01T03:48:09.236826Z"
    }
   },
   "outputs": [],
   "source": [
    "np.ones((2, 3))  # # 创建一个二维全一数组"
   ]
  },
  {
   "cell_type": "code",
   "execution_count": null,
   "metadata": {
    "ExecuteTime": {
     "end_time": "2023-04-01T03:48:09.412531Z",
     "start_time": "2023-04-01T03:48:09.402098Z"
    }
   },
   "outputs": [],
   "source": [
    "np.ones((2, 3), int)  # 创建指定形状的数组，数组元素以 1 来填充"
   ]
  },
  {
   "cell_type": "markdown",
   "metadata": {},
   "source": [
    "### full\n",
    "full函数创建任意大小的数组并填充任意数字"
   ]
  },
  {
   "cell_type": "code",
   "execution_count": null,
   "metadata": {
    "ExecuteTime": {
     "end_time": "2023-04-01T03:48:09.768344Z",
     "start_time": "2023-04-01T03:48:09.755252Z"
    },
    "scrolled": true
   },
   "outputs": [],
   "source": [
    "np.full((2, 3), 2)"
   ]
  },
  {
   "cell_type": "markdown",
   "metadata": {},
   "source": [
    "## 操作"
   ]
  },
  {
   "cell_type": "markdown",
   "metadata": {},
   "source": [
    "### ndarray"
   ]
  },
  {
   "cell_type": "code",
   "execution_count": null,
   "metadata": {
    "ExecuteTime": {
     "end_time": "2023-04-01T03:48:10.333068Z",
     "start_time": "2023-04-01T03:48:10.326013Z"
    }
   },
   "outputs": [],
   "source": [
    "a = np.array([[1, 2, 3], [4, 5, 6]])\n",
    "b = np.array([[7, 8, 9], [10, 11, 12]])\n",
    "d = np.array([[1, 2], [3, 4]])\n",
    "e = np.array([[5, 6], [7, 8]])"
   ]
  },
  {
   "cell_type": "code",
   "execution_count": null,
   "metadata": {
    "ExecuteTime": {
     "end_time": "2023-04-01T03:48:10.501533Z",
     "start_time": "2023-04-01T03:48:10.494369Z"
    }
   },
   "outputs": [],
   "source": [
    "a.shape  # shape访问数组的形状  数组的维度，对于矩阵，n行m列"
   ]
  },
  {
   "cell_type": "code",
   "execution_count": null,
   "metadata": {
    "ExecuteTime": {
     "end_time": "2023-04-01T03:48:10.712160Z",
     "start_time": "2023-04-01T03:48:10.696249Z"
    }
   },
   "outputs": [],
   "source": [
    "a.ndim  # ndim访问数组的维度 秩，即轴的数量或维度的数量"
   ]
  },
  {
   "cell_type": "code",
   "execution_count": null,
   "metadata": {
    "ExecuteTime": {
     "end_time": "2023-04-01T03:48:10.906151Z",
     "start_time": "2023-04-01T03:48:10.897021Z"
    }
   },
   "outputs": [],
   "source": [
    "a.size  # size访问数组的元素个数 数组元素的总个数，相当于.shape中n*m的值"
   ]
  },
  {
   "cell_type": "code",
   "execution_count": null,
   "metadata": {
    "ExecuteTime": {
     "end_time": "2023-04-01T03:48:11.087692Z",
     "start_time": "2023-04-01T03:48:11.075183Z"
    }
   },
   "outputs": [],
   "source": [
    "a.dtype  # dtype访问数组的数据类型 ndarray对象的元素类型"
   ]
  },
  {
   "cell_type": "code",
   "execution_count": null,
   "metadata": {
    "ExecuteTime": {
     "end_time": "2023-04-01T03:48:11.280888Z",
     "start_time": "2023-04-01T03:48:11.267188Z"
    },
    "scrolled": true
   },
   "outputs": [],
   "source": [
    "a.reshape((2, 3))  # reshape()改变数组的形状"
   ]
  },
  {
   "cell_type": "code",
   "execution_count": null,
   "metadata": {
    "ExecuteTime": {
     "end_time": "2023-04-01T03:48:11.465544Z",
     "start_time": "2023-04-01T03:48:11.455212Z"
    }
   },
   "outputs": [],
   "source": [
    "np.transpose(a)  # a.T  转置"
   ]
  },
  {
   "cell_type": "code",
   "execution_count": null,
   "metadata": {
    "ExecuteTime": {
     "end_time": "2023-04-01T03:48:11.665943Z",
     "start_time": "2023-04-01T03:48:11.644196Z"
    }
   },
   "outputs": [],
   "source": [
    "a.T  # 转置"
   ]
  },
  {
   "cell_type": "code",
   "execution_count": null,
   "metadata": {
    "ExecuteTime": {
     "end_time": "2023-04-01T03:48:11.850342Z",
     "start_time": "2023-04-01T03:48:11.832250Z"
    }
   },
   "outputs": [],
   "source": [
    "np.transpose(np.arange(1,37).reshape(1,3,3,4),[1,2,3,0])"
   ]
  },
  {
   "cell_type": "code",
   "execution_count": null,
   "metadata": {
    "ExecuteTime": {
     "end_time": "2023-04-01T03:48:12.213682Z",
     "start_time": "2023-04-01T03:48:12.202190Z"
    }
   },
   "outputs": [],
   "source": [
    "a.itemsize  # 返回数组中每个元素的字节单位长度"
   ]
  },
  {
   "cell_type": "code",
   "execution_count": null,
   "metadata": {
    "ExecuteTime": {
     "end_time": "2023-04-01T03:48:12.408064Z",
     "start_time": "2023-04-01T03:48:12.395857Z"
    }
   },
   "outputs": [],
   "source": [
    "np.concatenate((a, b), axis=0)  # np.concatenate()将多个数组合并成一个数组"
   ]
  },
  {
   "cell_type": "code",
   "execution_count": null,
   "metadata": {
    "ExecuteTime": {
     "end_time": "2023-04-01T03:48:12.641127Z",
     "start_time": "2023-04-01T03:48:12.630923Z"
    }
   },
   "outputs": [],
   "source": [
    "np.concatenate((d, e), axis=1)  # np.concatenate()将多个数组合并成一个数组"
   ]
  },
  {
   "cell_type": "code",
   "execution_count": null,
   "metadata": {
    "ExecuteTime": {
     "end_time": "2023-04-01T03:48:12.827588Z",
     "start_time": "2023-04-01T03:48:12.820951Z"
    }
   },
   "outputs": [],
   "source": [
    "a.flags"
   ]
  },
  {
   "cell_type": "code",
   "execution_count": null,
   "metadata": {
    "ExecuteTime": {
     "end_time": "2023-04-01T03:48:13.027334Z",
     "start_time": "2023-04-01T03:48:13.021018Z"
    }
   },
   "outputs": [],
   "source": [
    "a.real  # ndarray对象的实部"
   ]
  },
  {
   "cell_type": "code",
   "execution_count": null,
   "metadata": {
    "ExecuteTime": {
     "end_time": "2023-04-01T03:48:13.223938Z",
     "start_time": "2023-04-01T03:48:13.213662Z"
    }
   },
   "outputs": [],
   "source": [
    "a.imag  # ndarray对象的虚部"
   ]
  },
  {
   "cell_type": "code",
   "execution_count": null,
   "metadata": {
    "ExecuteTime": {
     "end_time": "2023-04-01T03:48:13.389502Z",
     "start_time": "2023-04-01T03:48:13.374193Z"
    },
    "scrolled": true
   },
   "outputs": [],
   "source": [
    "a.data  # 包含实际数组元素的缓冲区，由于一般通过数组的索引获取元素，所以通常不需要使用这个属性。"
   ]
  },
  {
   "cell_type": "markdown",
   "metadata": {},
   "source": [
    "### 维度"
   ]
  },
  {
   "cell_type": "markdown",
   "metadata": {},
   "source": [
    "#### 降维"
   ]
  },
  {
   "cell_type": "code",
   "execution_count": null,
   "metadata": {
    "ExecuteTime": {
     "end_time": "2023-04-01T03:48:13.939367Z",
     "start_time": "2023-04-01T03:48:13.929103Z"
    }
   },
   "outputs": [],
   "source": [
    "np.arange(24).reshape(2,3,4).ravel()  # 使用ravel函数将三维数组的b变成一维数组"
   ]
  },
  {
   "cell_type": "code",
   "execution_count": null,
   "metadata": {
    "ExecuteTime": {
     "end_time": "2023-04-01T03:48:14.129034Z",
     "start_time": "2023-04-01T03:48:14.118031Z"
    }
   },
   "outputs": [],
   "source": [
    "np.arange(24).reshape(3,8).flatten()  # # 使用flatten函数将二维数组c变成一维数组"
   ]
  },
  {
   "cell_type": "markdown",
   "metadata": {},
   "source": [
    "### 拼接"
   ]
  },
  {
   "cell_type": "markdown",
   "metadata": {},
   "source": [
    "通过 hstack 函数可以将两个或多个数组水平组合起来形成一个数组。 水平堆叠序列中的数组（列方向）"
   ]
  },
  {
   "cell_type": "code",
   "execution_count": null,
   "metadata": {
    "ExecuteTime": {
     "end_time": "2023-04-01T03:48:14.684483Z",
     "start_time": "2023-04-01T03:48:14.670350Z"
    }
   },
   "outputs": [],
   "source": [
    "np.hstack([np.array([[0,1,2],[3,4,5]]),np.array([[6,7,8],[9,10,11]])])"
   ]
  },
  {
   "cell_type": "markdown",
   "metadata": {},
   "source": [
    "通过 vstack 函数可以将两个或多个数组垂直组合起来形成一个数组。 竖直堆叠序列中的数组（行方向）"
   ]
  },
  {
   "cell_type": "code",
   "execution_count": null,
   "metadata": {
    "ExecuteTime": {
     "end_time": "2023-04-01T03:48:15.052284Z",
     "start_time": "2023-04-01T03:48:15.034606Z"
    },
    "scrolled": true
   },
   "outputs": [],
   "source": [
    "np.vstack([np.array([[0,1,2],[3,4,5]]),np.array([[6,7,8],[9,10,11]])])"
   ]
  },
  {
   "cell_type": "markdown",
   "metadata": {},
   "source": [
    "numpy.concatenate 函数用于沿指定轴连接相同形状的两个或多个数组，格式如下：numpy.concatenate((a1, a2, ...), axis) 连接沿现有轴的数组序列"
   ]
  },
  {
   "cell_type": "code",
   "execution_count": null,
   "metadata": {
    "ExecuteTime": {
     "end_time": "2023-04-01T03:48:15.421128Z",
     "start_time": "2023-04-01T03:48:15.406358Z"
    }
   },
   "outputs": [],
   "source": [
    "a = np.array([[1,2,3],[4,5,6]])\n",
    "b = np.array([[\"a\",\"b\",\"c\"],[\"d\",\"e\",\"f\"]])\n",
    "# 连接沿现有轴的数组序列\n",
    "print(np.concatenate([a,b]))     # axis参数默认为0\n",
    "print(\"垂直方向拼接   相当于vstack \")\n",
    "print(np.concatenate([a,b], axis=0))\n",
    "print(\"水平方向拼接   相当于hstack \")\n",
    "print(np.concatenate([a,b], axis=1))"
   ]
  },
  {
   "cell_type": "code",
   "execution_count": null,
   "metadata": {
    "ExecuteTime": {
     "end_time": "2023-04-01T03:48:15.598264Z",
     "start_time": "2023-04-01T03:48:15.582149Z"
    }
   },
   "outputs": [],
   "source": [
    "import numpy\n",
    "a = numpy.arange(1,37).reshape(3,4,3)\n",
    "b = numpy.arange(101,137).reshape(3,4,3)\n",
    "print(numpy.concatenate((a,b), axis=0))\n",
    "print(numpy.concatenate((a,b), axis=1))\n",
    "print(numpy.concatenate((a,b), axis=2))"
   ]
  },
  {
   "cell_type": "markdown",
   "metadata": {},
   "source": [
    "### split\n",
    "numpy.split 函数沿特定的轴将数组分割为子数组，格式如下：numpy.split(ary, indices_or_sections, axis)\n",
    "参数说明：\n",
    "ary：  被分割的数组\n",
    "indices_or_sections：  如果是一个整数，就用该数平均切分，如果是一个数组，为沿轴切分的位置。\n",
    "axis：  沿着哪个维度进行切向，默认为 0，横向切分。为 1 时，纵向切分。"
   ]
  },
  {
   "cell_type": "code",
   "execution_count": null,
   "metadata": {
    "ExecuteTime": {
     "end_time": "2023-04-01T03:48:15.936537Z",
     "start_time": "2023-04-01T03:48:15.924955Z"
    }
   },
   "outputs": [],
   "source": [
    "np.split(np.arange(1,9),4)  # 平均分割成4份"
   ]
  },
  {
   "cell_type": "code",
   "execution_count": null,
   "metadata": {
    "ExecuteTime": {
     "end_time": "2023-04-01T03:48:16.113765Z",
     "start_time": "2023-04-01T03:48:16.104608Z"
    }
   },
   "outputs": [],
   "source": [
    "numpy.split(numpy.array([[1,2,3],[4,5,6],[11,12,13],[14,15,16]]), 2, axis=0)  # axis=0 垂直方向 平均分隔"
   ]
  },
  {
   "cell_type": "code",
   "execution_count": null,
   "metadata": {
    "ExecuteTime": {
     "end_time": "2023-04-01T03:48:16.304263Z",
     "start_time": "2023-04-01T03:48:16.288906Z"
    }
   },
   "outputs": [],
   "source": [
    "numpy.split(numpy.array([[1,2,3],[4,5,6],[11,12,13],[14,15,16]]),[2],axis=1)  # axis=1 水平方向 按位置分隔"
   ]
  },
  {
   "cell_type": "code",
   "execution_count": null,
   "metadata": {
    "ExecuteTime": {
     "end_time": "2023-04-01T03:48:16.479013Z",
     "start_time": "2023-04-01T03:48:16.468287Z"
    }
   },
   "outputs": [],
   "source": [
    "np.split(np.arange(1,9),[3,5])    # 从索引为3的位置，索引为5的位置进行分隔"
   ]
  },
  {
   "cell_type": "markdown",
   "metadata": {},
   "source": [
    "水平分隔\n",
    "分隔数组是组合数组的逆过程，与组合数组一样，分隔数组也分为水平分隔数组和垂直分隔数组。水平分隔数组与水平组合数组对应。\n",
    "水平组合数组是将两个或多个数组水平进行收尾相接，而水平分隔数组是将已经水平组合到一起的数组再分开。\n",
    "使用 hsplit 函数可以水平分隔数组，该函数有2个参数，第 1 个参数表示待分隔的数组，第 2 个参数表示要将数组水平分隔成几个小数组。"
   ]
  },
  {
   "cell_type": "code",
   "execution_count": null,
   "metadata": {
    "ExecuteTime": {
     "end_time": "2023-04-01T03:48:16.842099Z",
     "start_time": "2023-04-01T03:48:16.825706Z"
    }
   },
   "outputs": [],
   "source": [
    "np.hsplit(np.array([np.arange(1,7), np.arange(7,13)]), 2)    # 水平分隔，平均分成2份"
   ]
  },
  {
   "cell_type": "code",
   "execution_count": null,
   "metadata": {
    "ExecuteTime": {
     "end_time": "2023-04-01T03:48:17.023854Z",
     "start_time": "2023-04-01T03:48:17.005931Z"
    }
   },
   "outputs": [],
   "source": [
    "np.hsplit(np.array([np.arange(1,7), np.arange(7,13)]), 3)    # 水平分隔，平均分成2份"
   ]
  },
  {
   "cell_type": "markdown",
   "metadata": {},
   "source": [
    "hsplit(X,2) 将数组 X 分隔成了列数相同的2个数组。hsplit(X,3) 将数组 X 分隔成了 3 个列数都为 2 的数组，但是 hsplit(X,4)分隔数组X就会抛出异常，因为数组 X 没有办法被分隔成列数相同的 4 个数组的。\n",
    "所以使用hsplit函数分隔数组的一个规则就是：第 2 个参数值必须可以整除待分隔数组的列数。"
   ]
  },
  {
   "cell_type": "code",
   "execution_count": null,
   "metadata": {
    "ExecuteTime": {
     "end_time": "2023-04-01T03:48:17.372867Z",
     "start_time": "2023-04-01T03:48:17.362815Z"
    }
   },
   "outputs": [],
   "source": [
    "np.hsplit(np.arange(16).reshape(4,4), 2)    # 水平分隔，平均分成2份"
   ]
  },
  {
   "cell_type": "markdown",
   "metadata": {},
   "source": [
    "垂直分隔数组\n",
    "垂直分隔数组是垂直组合数组的逆过程。垂直组合数组是将两个或多个数组垂直进行首尾相接，而垂直分隔数组是将已经垂直组合到一起的数组再分开。\n",
    "使用 vsplit 函数可以垂直分隔数组，该函数有2个参数，第 1 个参数表示待分隔的数组，第 2 个参数表示将数组垂直分隔成几个小数组。"
   ]
  },
  {
   "cell_type": "code",
   "execution_count": null,
   "metadata": {
    "ExecuteTime": {
     "end_time": "2023-04-01T03:48:17.740173Z",
     "start_time": "2023-04-01T03:48:17.729373Z"
    }
   },
   "outputs": [],
   "source": [
    "np.vsplit(np.arange(1,13).reshape(4,3), 2)    # 平均分隔成2份"
   ]
  },
  {
   "cell_type": "code",
   "execution_count": null,
   "metadata": {
    "ExecuteTime": {
     "end_time": "2023-04-01T03:48:17.927436Z",
     "start_time": "2023-04-01T03:48:17.916683Z"
    }
   },
   "outputs": [],
   "source": [
    "np.vsplit(np.arange(1,13).reshape(4,3), 4)    # 平均分隔成4份"
   ]
  },
  {
   "cell_type": "code",
   "execution_count": null,
   "metadata": {
    "ExecuteTime": {
     "end_time": "2023-04-01T03:48:18.104022Z",
     "start_time": "2023-04-01T03:48:18.091704Z"
    }
   },
   "outputs": [],
   "source": [
    "np.vsplit(np.arange(16).reshape(4,4), [3])    # 从索引为3的位置分隔成2份"
   ]
  },
  {
   "cell_type": "code",
   "execution_count": null,
   "metadata": {
    "ExecuteTime": {
     "end_time": "2023-04-01T03:48:18.262276Z",
     "start_time": "2023-04-01T03:48:18.250850Z"
    }
   },
   "outputs": [],
   "source": [
    "np.vsplit(np.arange(16).reshape(4,4), [1,3])   # 从索引为1的位置、索引为3的位置分隔成3份"
   ]
  },
  {
   "cell_type": "code",
   "execution_count": null,
   "metadata": {
    "ExecuteTime": {
     "end_time": "2023-04-01T03:48:18.436827Z",
     "start_time": "2023-04-01T03:48:18.422521Z"
    }
   },
   "outputs": [],
   "source": [
    "a = np.array([1, 2, 3, 4, 5])\n",
    "print(a[2])  # a[i]访问数组的第i个元素。\n",
    "print(a[1:3])  # a[i:j]访问数组的第i到j-1个元素。"
   ]
  },
  {
   "cell_type": "code",
   "execution_count": null,
   "metadata": {
    "ExecuteTime": {
     "end_time": "2023-04-01T03:48:18.629185Z",
     "start_time": "2023-04-01T03:48:18.615966Z"
    }
   },
   "outputs": [],
   "source": [
    "a = np.array([[1, 2, 3], [4, 5, 6]])\n",
    "print(a[:, 1])  # a[:, i]访问数组的第i列元素。\n",
    "print(a[:, 0:2])  # a[:, i:j]访问数组的第i到j-1列元素。"
   ]
  },
  {
   "cell_type": "markdown",
   "metadata": {},
   "source": [
    "### bool"
   ]
  },
  {
   "cell_type": "code",
   "execution_count": null,
   "metadata": {
    "ExecuteTime": {
     "end_time": "2023-04-01T03:53:49.106727Z",
     "start_time": "2023-04-01T03:53:49.096214Z"
    }
   },
   "outputs": [],
   "source": [
    "np.logical_and(np.array([True, False, True]), np.array([False, True, True]))"
   ]
  },
  {
   "cell_type": "code",
   "execution_count": null,
   "metadata": {
    "ExecuteTime": {
     "end_time": "2023-04-01T03:53:50.072423Z",
     "start_time": "2023-04-01T03:53:50.060735Z"
    }
   },
   "outputs": [],
   "source": [
    "np.logical_or(np.array([True, False, True]), np.array([False, True, True]))"
   ]
  },
  {
   "cell_type": "code",
   "execution_count": null,
   "metadata": {
    "ExecuteTime": {
     "end_time": "2023-04-01T03:54:36.456735Z",
     "start_time": "2023-04-01T03:54:36.445822Z"
    }
   },
   "outputs": [],
   "source": [
    "np.array([1, 2, 3, 4, 5])[np.array([True, False, True, False, True])]  # a[bool_mask]根据布尔掩码访问数组的元素"
   ]
  },
  {
   "cell_type": "markdown",
   "metadata": {},
   "source": [
    "### nan"
   ]
  },
  {
   "cell_type": "code",
   "execution_count": 15,
   "metadata": {
    "ExecuteTime": {
     "end_time": "2023-04-04T03:03:38.383489Z",
     "start_time": "2023-04-04T03:03:38.376067Z"
    }
   },
   "outputs": [],
   "source": [
    "a = np.arange(0, 6, dtype=float).reshape((2, 3))\n",
    "a[0,1] = np.nan"
   ]
  },
  {
   "cell_type": "markdown",
   "metadata": {},
   "source": [
    "## 广播功能"
   ]
  },
  {
   "cell_type": "code",
   "execution_count": null,
   "metadata": {
    "ExecuteTime": {
     "end_time": "2023-04-01T03:48:20.287913Z",
     "start_time": "2023-04-01T03:48:20.285503Z"
    }
   },
   "outputs": [],
   "source": [
    "a = np.array([1, 2, 3])\n",
    "print(a * 2)  # a * 2对数组进行标量乘法运算。\n",
    "print(a + 1)  # 使用a + 1对数组进行标量加法运算。"
   ]
  },
  {
   "cell_type": "code",
   "execution_count": null,
   "metadata": {
    "ExecuteTime": {
     "end_time": "2023-04-01T03:48:20.462791Z",
     "start_time": "2023-04-01T03:48:20.460056Z"
    }
   },
   "outputs": [],
   "source": [
    "a = np.array([1, 2, 3])\n",
    "b = np.array([[1, 2, 3], [4, 5, 6]])\n",
    "print(a + b)  # 使用a + b对形状不同的数组进行广播运算。"
   ]
  },
  {
   "cell_type": "code",
   "execution_count": null,
   "metadata": {
    "ExecuteTime": {
     "end_time": "2023-04-01T03:48:20.662371Z",
     "start_time": "2023-04-01T03:48:20.646588Z"
    },
    "scrolled": true
   },
   "outputs": [],
   "source": [
    "a = np.array([[1, 2, 3], [1, 2, 3]])\n",
    "b = np.array([[1, 2, 3], [4, 5, 6]])\n",
    "print(a + b)  # 使用a + b对形状不同的数组进行广播运算。"
   ]
  },
  {
   "cell_type": "markdown",
   "metadata": {},
   "source": [
    "## 本地"
   ]
  },
  {
   "cell_type": "code",
   "execution_count": null,
   "metadata": {},
   "outputs": [],
   "source": [
    "np.save(\"XXX\", a)  # 保存与载入磁盘文件"
   ]
  },
  {
   "cell_type": "code",
   "execution_count": null,
   "metadata": {},
   "outputs": [],
   "source": [
    "np.savez(\"XXX\", a, b)  # 保存与载入磁盘文件"
   ]
  },
  {
   "cell_type": "code",
   "execution_count": null,
   "metadata": {},
   "outputs": [],
   "source": [
    "np.load(\"XXX.npy\")  # 保存与载入磁盘文件"
   ]
  },
  {
   "cell_type": "code",
   "execution_count": null,
   "metadata": {},
   "outputs": [],
   "source": [
    "np.loadtxt(\"XXX.txt\")  # 保存与载入文本文件"
   ]
  },
  {
   "cell_type": "code",
   "execution_count": null,
   "metadata": {},
   "outputs": [],
   "source": [
    "np.genfromtxt(\"XXX.csv\", delimiter=',')  # 保存与载入文本文件"
   ]
  },
  {
   "cell_type": "code",
   "execution_count": null,
   "metadata": {},
   "outputs": [],
   "source": [
    "np.savetxt(\"XXX.npy\", delimiter=' ')  # 保存与载入文本文件"
   ]
  },
  {
   "cell_type": "markdown",
   "metadata": {},
   "source": [
    "## 计算"
   ]
  },
  {
   "cell_type": "markdown",
   "metadata": {},
   "source": [
    "### 数学运算"
   ]
  },
  {
   "cell_type": "markdown",
   "metadata": {},
   "source": [
    "numpy.add()、numpy.subtract()、numpy.multiply() 和 numpy.divide()。"
   ]
  },
  {
   "cell_type": "code",
   "execution_count": null,
   "metadata": {
    "ExecuteTime": {
     "end_time": "2023-04-01T03:48:19.170534Z",
     "start_time": "2023-04-01T03:48:19.158266Z"
    }
   },
   "outputs": [],
   "source": [
    "a = np.array([1, 2, 3])\n",
    "b = np.array([4, 5, 6])\n",
    "print(a + b)  # a + b进行数组相加运算。\n",
    "print(a - b)  # a - b进行数组相减运算。\n",
    "print(a * b)  # a * b进行数组相乘运算。\n",
    "print(a / b)  # a / b进行数组相除运算。"
   ]
  },
  {
   "cell_type": "code",
   "execution_count": null,
   "metadata": {
    "ExecuteTime": {
     "end_time": "2023-04-01T03:48:19.379197Z",
     "start_time": "2023-04-01T03:48:19.368835Z"
    }
   },
   "outputs": [],
   "source": [
    "a = np.array([[1, 2], [3, 4]])\n",
    "b = np.array([[5, 6], [7, 8]])\n",
    "print(np.dot(a, b))  # np.dot(a, b)进行数组矩阵乘法运算。"
   ]
  },
  {
   "cell_type": "code",
   "execution_count": null,
   "metadata": {
    "ExecuteTime": {
     "end_time": "2023-04-01T03:48:19.558996Z",
     "start_time": "2023-04-01T03:48:19.547221Z"
    }
   },
   "outputs": [],
   "source": [
    "a = np.array([1, 2, 3, 4, 5])\n",
    "print(np.sum(a))  # np.sum()对数组进行求和\n",
    "print(np.mean(a))  # np.mean()对数组进行求均值\n",
    "print(np.max(a))  # np.max()对数组进行求最大值\n",
    "print(np.min(a))  # np.min()对数组进行求最小值\n",
    "print(np.argmax(a))  # np.argmax()对数组进行求最大值索引\n",
    "print(np.argmin(a))  # np.argmin()对数组进行求最小值索引"
   ]
  },
  {
   "cell_type": "code",
   "execution_count": null,
   "metadata": {
    "ExecuteTime": {
     "end_time": "2023-04-01T03:48:20.080261Z",
     "start_time": "2023-04-01T03:48:19.730940Z"
    }
   },
   "outputs": [],
   "source": [
    "# 矩阵求逆 设A是数域上的一个n阶矩阵，若在相同数域上存在另一个n阶矩阵B，使得： AB=BA=E ，则我们称B是A的逆矩阵，而A则被称为可逆矩阵\n",
    "import sympy\n",
    "import numpy as np\n",
    "\n",
    "A = np.matrix([[1, 2], [-1, -3]])\n",
    "C = np.matrix([[1, 0], [0, 1]])\n",
    "'''\n",
    "设B=[[xo,y0],[x1,y1]]\n",
    "则：x0+2x1=1,y0+2y1=0   \n",
    "    -x0-3x1=0,-y0-3y1=1\n",
    "'''\n",
    "x0 = sympy.Symbol('x0')\n",
    "x1 = sympy.Symbol('x1')\n",
    "y0 = sympy.Symbol('y0')\n",
    "y1 = sympy.Symbol('y1')\n",
    "# 注意计算时，右恒等于0，就是把变量全部移到左边\n",
    "solves = sympy.solve([x0 + 2 * x1 - 1, -x0 - 3 * x1, y0 + 2 * y1, -y0 - 3 * y1 - 1], [x0, x1, y0, y1])\n",
    "print(solves)\n",
    "print(np.linalg.inv(A))"
   ]
  },
  {
   "cell_type": "code",
   "execution_count": null,
   "metadata": {
    "ExecuteTime": {
     "end_time": "2023-04-01T03:48:20.084809Z",
     "start_time": "2023-04-01T03:48:20.082377Z"
    }
   },
   "outputs": [],
   "source": [
    "# np.linalg.det()：矩阵求行列式（标量）\n",
    "a = np.arange(4).reshape(2,2)\n",
    "e = np.eye(4)\n",
    "print(f'{a}\\n{b}')"
   ]
  },
  {
   "cell_type": "markdown",
   "metadata": {},
   "source": [
    "### 线性代数"
   ]
  },
  {
   "cell_type": "markdown",
   "metadata": {},
   "source": [
    "Numpy 还提供了许多线性代数函数，用于执行矩阵乘法、行列式和求逆等运算。这些函数包括 numpy.dot()、numpy.linalg.det() 和 numpy.linalg.inv()。"
   ]
  },
  {
   "cell_type": "code",
   "execution_count": null,
   "metadata": {
    "ExecuteTime": {
     "end_time": "2023-04-01T03:48:21.026916Z",
     "start_time": "2023-04-01T03:48:21.018853Z"
    }
   },
   "outputs": [],
   "source": [
    "np.linalg.det(np.array([[1, 2], [3, 4]]))  # 使用np.linalg.det()计算矩阵的行列式。\n",
    "# 使用np.linalg.inv()计算矩阵的逆矩阵。"
   ]
  },
  {
   "cell_type": "markdown",
   "metadata": {},
   "source": [
    "### 统计和概率"
   ]
  },
  {
   "cell_type": "markdown",
   "metadata": {},
   "source": [
    "Numpy 提供了许多统计和概率函数，用于执行均值、中位数、标准差和相关性等操作。这些函数包括 numpy.mean()、numpy.median()、numpy.std() 和 numpy.corrcoef()。"
   ]
  },
  {
   "cell_type": "markdown",
   "metadata": {},
   "source": [
    "### 三角函数和对数函数"
   ]
  },
  {
   "cell_type": "markdown",
   "metadata": {},
   "source": [
    "Numpy 还提供了许多三角函数和对数函数，用于执行正弦、余弦、正切和对数等运算。这些函数包括 numpy.sin()、numpy.cos()、numpy.tan() 和 numpy.log()。"
   ]
  }
 ],
 "metadata": {
  "kernelspec": {
   "display_name": "Python 3 (ipykernel)",
   "language": "python",
   "name": "python3"
  },
  "language_info": {
   "codemirror_mode": {
    "name": "ipython",
    "version": 3
   },
   "file_extension": ".py",
   "mimetype": "text/x-python",
   "name": "python",
   "nbconvert_exporter": "python",
   "pygments_lexer": "ipython3",
   "version": "3.11.2"
  },
  "toc": {
   "base_numbering": 1,
   "nav_menu": {},
   "number_sections": true,
   "sideBar": true,
   "skip_h1_title": false,
   "title_cell": "Table of Contents",
   "title_sidebar": "Contents",
   "toc_cell": false,
   "toc_position": {
    "height": "calc(100% - 180px)",
    "left": "10px",
    "top": "150px",
    "width": "360px"
   },
   "toc_section_display": true,
   "toc_window_display": true
  }
 },
 "nbformat": 4,
 "nbformat_minor": 1
}
