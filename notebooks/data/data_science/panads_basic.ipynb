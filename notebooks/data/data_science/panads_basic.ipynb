{
 "cells": [
  {
   "cell_type": "markdown",
   "id": "2bb3be50",
   "metadata": {
    "id": "2bb3be50"
   },
   "source": [
    "# panads"
   ]
  },
  {
   "cell_type": "markdown",
   "id": "2ef843c9",
   "metadata": {
    "id": "2ef843c9"
   },
   "source": [
    "https://pandas.pydata.org"
   ]
  },
  {
   "cell_type": "code",
   "execution_count": null,
   "id": "c60d4e74",
   "metadata": {
    "ExecuteTime": {
     "end_time": "2023-04-04T11:15:30.186184Z",
     "start_time": "2023-04-04T11:15:30.161315Z"
    },
    "id": "c60d4e74"
   },
   "outputs": [],
   "source": [
    "import sys\n",
    "sys.executable"
   ]
  },
  {
   "cell_type": "code",
   "execution_count": null,
   "id": "a26c6036",
   "metadata": {
    "ExecuteTime": {
     "end_time": "2023-04-04T07:52:38.115281Z",
     "start_time": "2023-04-04T07:52:38.110046Z"
    },
    "id": "a26c6036"
   },
   "outputs": [],
   "source": [
    "import numpy as np\n",
    "import pandas as pd\n",
    "\n",
    "import re\n",
    "\n",
    "%matplotlib inline"
   ]
  },
  {
   "cell_type": "code",
   "execution_count": null,
   "id": "wn1V9Xjt98nd",
   "metadata": {
    "id": "wn1V9Xjt98nd"
   },
   "outputs": [],
   "source": [
    "data = 'https://www.gairuo.com/file/data/dataset/GDP-China.csv'\n",
    "ppd = pd.read_csv(data, header=0).head(5)\n",
    "pdw = pd.DataFrame(pd.read_csv(data, header=0))"
   ]
  },
  {
   "cell_type": "markdown",
   "id": "2d31d2d7",
   "metadata": {
    "id": "2d31d2d7"
   },
   "source": [
    "## 数据结构"
   ]
  },
  {
   "cell_type": "markdown",
   "id": "761c50ec",
   "metadata": {
    "id": "761c50ec"
   },
   "source": [
    "### [Series](https://pandas.pydata.org/docs/reference/series.html)\n",
    "Series是一个一维标记数组。可以容纳任何数据类型。它类似于DataFrame中的列。序列中的每个元素都被分配了一个称为索引的标签。索引可以是数字索引，也可以是字符串索引。您可以从列表、元组或字典中创建序列。\n",
    "- 元素可以有不同的数据类型，包括数字、字符串和布尔值。\n",
    "- 元素由索引标识，该索引可以是数字索引(隐式索引)，也可以是字符串索引(显式索引)。如果没指定显式索引则使用隐式索引。\n",
    "- 可以使用索引标签对序列进行索引和切片。\n",
    "- 序列可以用于数学运算和数据操作。"
   ]
  },
  {
   "cell_type": "code",
   "execution_count": null,
   "id": "7dd322be",
   "metadata": {
    "ExecuteTime": {
     "end_time": "2023-04-03T02:50:31.885899Z",
     "start_time": "2023-04-03T02:50:31.876077Z"
    },
    "id": "7dd322be"
   },
   "outputs": [],
   "source": [
    "from pandas import Series"
   ]
  },
  {
   "cell_type": "markdown",
   "id": "5859a002",
   "metadata": {
    "id": "5859a002"
   },
   "source": [
    "#### 生成series对象"
   ]
  },
  {
   "cell_type": "code",
   "execution_count": null,
   "id": "cf4a71b3",
   "metadata": {
    "ExecuteTime": {
     "end_time": "2023-04-03T03:05:26.535706Z",
     "start_time": "2023-04-03T03:05:26.519950Z"
    },
    "id": "cf4a71b3"
   },
   "outputs": [],
   "source": [
    "# 列表数据生成series对象时创建显示索引\n",
    "Series([\"tom\", \"lucy\", \"jack\", \"mery\"], index=[\"key1\", \"key2\", \"key3\", \"key4\"])"
   ]
  },
  {
   "cell_type": "code",
   "execution_count": null,
   "id": "a3ff210e",
   "metadata": {
    "ExecuteTime": {
     "end_time": "2023-04-03T05:11:19.934735Z",
     "start_time": "2023-04-03T05:11:19.928055Z"
    },
    "id": "a3ff210e"
   },
   "outputs": [],
   "source": [
    "# 字段数据生成series对象会吧key当作显示索引\n",
    "Series({\"key1\": \"tom\", \"key2\": \"lucy\", \"key3\": \"jack\", \"key4\": \"mery\", })"
   ]
  },
  {
   "cell_type": "code",
   "execution_count": null,
   "id": "355bf9b6",
   "metadata": {
    "ExecuteTime": {
     "end_time": "2023-04-03T05:13:09.563942Z",
     "start_time": "2023-04-03T05:13:09.549659Z"
    },
    "id": "355bf9b6"
   },
   "outputs": [],
   "source": [
    "# 问题点：如果我定义dict数据是，我想定义其他的索引名称，应该如何设置？答案显然：index优先级高于字典键值对\n",
    "Series(data={\"key1\": \"tom\", \"key2\": \"lucy\", \"key3\": \"jack\", \"key4\": \"mery\", }, index=[\"k1\",\"key1\"])"
   ]
  },
  {
   "cell_type": "code",
   "execution_count": null,
   "id": "a899a9ba",
   "metadata": {
    "ExecuteTime": {
     "end_time": "2023-04-03T02:57:53.211797Z",
     "start_time": "2023-04-03T02:57:53.191503Z"
    },
    "id": "a899a9ba"
   },
   "outputs": [],
   "source": [
    "Series(np.random.rand(5))"
   ]
  },
  {
   "cell_type": "markdown",
   "id": "05d1736e",
   "metadata": {
    "id": "05d1736e"
   },
   "source": [
    "#### 复制对象\n",
    "\n",
    "我们可以先创建一个Python列表，然后将其转换为Pandas的Series对象。当我们修改Python列表中的一个元素时，Series对象并不会改变。这是因为Pandas进行的是数据深度复制。"
   ]
  },
  {
   "cell_type": "code",
   "execution_count": null,
   "id": "3b8f8f9a",
   "metadata": {
    "ExecuteTime": {
     "end_time": "2023-04-03T03:02:38.773359Z",
     "start_time": "2023-04-03T03:02:38.763789Z"
    },
    "id": "3b8f8f9a",
    "scrolled": false
   },
   "outputs": [],
   "source": [
    "pl = [\"tom\", \"lucy\", \"jack\", \"mery\"]\n",
    "pls = Series(pl)"
   ]
  },
  {
   "cell_type": "code",
   "execution_count": null,
   "id": "059afa50",
   "metadata": {
    "ExecuteTime": {
     "end_time": "2023-04-03T03:02:43.958545Z",
     "start_time": "2023-04-03T03:02:43.944263Z"
    },
    "id": "059afa50"
   },
   "outputs": [],
   "source": [
    "print(f\"变更前数据为：{pls}\")\n",
    "pl[0] = \"update -> 1\"\n",
    "print(f\"数据中为0索引的数据修改为：update -> 1\")\n",
    "print(f\"变更后数据为：{pls}\")\n",
    "del pl, pls  # 删除对象引用"
   ]
  },
  {
   "cell_type": "markdown",
   "id": "39b38fed",
   "metadata": {
    "id": "39b38fed"
   },
   "source": [
    "#### 引用对象\n",
    "\n",
    "我们可以先使用NumPy创建一个一维的数组对象，然后将其转换为Pandas的Series对象。当我们修改NumPy数组中的一个元素时，Series对象数据也会随之发生变化。这是因为Pandas默认情况下进行的是数据引用而非深度复制。"
   ]
  },
  {
   "cell_type": "code",
   "execution_count": null,
   "id": "94bf46d3",
   "metadata": {
    "ExecuteTime": {
     "end_time": "2023-04-03T03:03:26.454692Z",
     "start_time": "2023-04-03T03:03:26.445125Z"
    },
    "id": "94bf46d3"
   },
   "outputs": [],
   "source": [
    "pn = np.random.rand(5)\n",
    "pns = Series(pn)"
   ]
  },
  {
   "cell_type": "code",
   "execution_count": null,
   "id": "737be611",
   "metadata": {
    "ExecuteTime": {
     "end_time": "2023-04-03T03:03:27.063922Z",
     "start_time": "2023-04-03T03:03:27.049509Z"
    },
    "id": "737be611"
   },
   "outputs": [],
   "source": [
    "print(f\"变更前数据为：{pns}\")\n",
    "pn[0] = 0.0001\n",
    "print(f\"数据中为0索引的数据修改为：0.00010\")\n",
    "print(f\"变更后数据为：{pns}\")\n",
    "del pn, pns  # 删除对象引用"
   ]
  },
  {
   "cell_type": "markdown",
   "id": "f54595d6",
   "metadata": {
    "id": "f54595d6"
   },
   "source": [
    "### [DataFrame](https://pandas.pydata.org/docs/reference/api/pandas.DataFrame.html#pandas.DataFrame)\n",
    "DataFrame是一个由行和列组成的二维表，DataFrame是一种具有潜在不同类型列的二维标记数据结构。它类似于电子表格或SQL表。DataFrame中的每一列都是一个系列。您可以将DataFrame视为共享同一索引的系列的集合。您可以从各种来源创建DataFrame，包括CSV、Excel、SQL数据库和JSON。当使用Python列表字典时，字典键将用作列标题，每个列表中的值用作DataFrame的列。DataFrame中的每列都是一个Series\n",
    "- 列可以有不同的数据类型，包括数字、字符串和布尔值。\n",
    "- 行由索引标识，该索引可以是数字索引，也可以是字符串索引。\n",
    "- 数据帧可以使用行和列标签进行索引和切片。\n",
    "- 可以对数据帧进行连接、合并和整形以转换数据。"
   ]
  },
  {
   "cell_type": "code",
   "execution_count": null,
   "id": "9d029d6d",
   "metadata": {
    "id": "9d029d6d"
   },
   "outputs": [],
   "source": [
    "from pandas import DataFrame"
   ]
  },
  {
   "cell_type": "markdown",
   "id": "MvBMGz2ZI-ih",
   "metadata": {
    "id": "MvBMGz2ZI-ih"
   },
   "source": [
    "#### 生成DataFrame对象"
   ]
  },
  {
   "cell_type": "code",
   "execution_count": null,
   "id": "NY-Zva8VI85Y",
   "metadata": {
    "id": "NY-Zva8VI85Y"
   },
   "outputs": [],
   "source": [
    "# 先创建数据源，利用numpy\n",
    "DataFrame(np.arange(6).reshape((2, 3)))"
   ]
  },
  {
   "cell_type": "markdown",
   "id": "a97ecbe9",
   "metadata": {
    "id": "a97ecbe9"
   },
   "source": [
    "### Panel\n",
    "面板是一个三维标记的阵列，可以容纳任何数据类型。它类似于DataFrame，但有一个额外的维度。Panel中的每个项都是一个DataFrame，每个DataFrame代表一个2维的数据切片。您可以将Panel视为共享相同索引和列标签的DataFrames的集合。"
   ]
  },
  {
   "cell_type": "markdown",
   "id": "0b5d86c0",
   "metadata": {
    "id": "0b5d86c0"
   },
   "source": [
    "### Categorical\n",
    "范畴是一种表示范畴变量的数据结构。它类似于字符串或整数，但可能的值数量有限。类别用于表示具有有限数量的唯一值的数据，如性别、婚姻状况或产品类别。范畴可以是有序的，也可以是无序的，并且可以有特定的出现顺序。"
   ]
  },
  {
   "cell_type": "markdown",
   "id": "a6110dd9",
   "metadata": {
    "id": "a6110dd9"
   },
   "source": [
    "### Sparse\n",
    "稀疏数据结构用于表示具有大量缺失值的数据。稀疏数据结构比密集数据结构使用更少的内存，这使得它们对于处理具有许多缺失值的大型数据集非常有用。您可以使用“SparseArray”或“SparseDataFrame”类将密集的DataFrame或Series转换为稀疏的数据结构。"
   ]
  },
  {
   "cell_type": "markdown",
   "id": "3c5e48c2",
   "metadata": {
    "id": "3c5e48c2"
   },
   "source": [
    "## 数据导入\n",
    "\n",
    "熊猫可以从各种来源读取数据，包括SQL数据库、Excel电子表格、JSON文件和web API。\n"
   ]
  },
  {
   "cell_type": "markdown",
   "id": "78c470ea",
   "metadata": {
    "id": "78c470ea"
   },
   "source": [
    "### 手动创建"
   ]
  },
  {
   "cell_type": "markdown",
   "id": "d08f8b69",
   "metadata": {
    "id": "d08f8b69"
   },
   "source": [
    "要手动将数据存储在表中，请创建一个DataFrame。当使用Python列表字典时，字典键将用作列标题，每个列表中的值用作DataFrame的列。DataFrame中的每列都是一个Series"
   ]
  },
  {
   "cell_type": "code",
   "execution_count": null,
   "id": "ed4ffd3c",
   "metadata": {
    "ExecuteTime": {
     "end_time": "2023-04-04T07:54:12.194964Z",
     "start_time": "2023-04-04T07:54:12.181110Z"
    },
    "id": "ed4ffd3c"
   },
   "outputs": [],
   "source": [
    "pd.DataFrame(\n",
    "    {\n",
    "        \"Name\": [\n",
    "            \"Braund, Mr. Owen Harris\",\n",
    "            \"Allen, Mr. William Henry\",\n",
    "            \"Bonnell, Miss. Elizabeth\",\n",
    "        ],\n",
    "        \"Age\": [22, 35, 58],\n",
    "        \"Sex\": [\"male\", \"male\", \"female\"],\n",
    "    }\n",
    ")[\"Age\"]"
   ]
  },
  {
   "cell_type": "markdown",
   "id": "cdf4aea2",
   "metadata": {
    "id": "cdf4aea2"
   },
   "source": [
    "### database"
   ]
  },
  {
   "cell_type": "markdown",
   "id": "75f7f533",
   "metadata": {
    "id": "75f7f533"
   },
   "source": [
    "#### [read_sql](https://pandas.pydata.org/docs/reference/api/pandas.DataFrame.to_sql.html)"
   ]
  },
  {
   "cell_type": "markdown",
   "id": "1665e671",
   "metadata": {
    "id": "1665e671"
   },
   "source": [
    "### [file](https://pandas.pydata.org/docs/reference/api/)"
   ]
  },
  {
   "cell_type": "code",
   "execution_count": null,
   "id": "fBHA2jmavicv",
   "metadata": {
    "id": "fBHA2jmavicv"
   },
   "outputs": [],
   "source": [
    "from google.colab import drive\n",
    "drive.mount('/content/drive')"
   ]
  },
  {
   "cell_type": "markdown",
   "id": "c041929c",
   "metadata": {
    "id": "c041929c"
   },
   "source": [
    "#### [read_csv](https://pandas.pydata.org/docs/reference/api/pandas.DataFrame.to_csv.html)\n",
    "\n",
    "一般情况下，会将读取到的数据返回一个DataFrame，当然按照参数的要求会返回指定的类型。"
   ]
  },
  {
   "cell_type": "markdown",
   "id": "jSIqBznrvxLA",
   "metadata": {
    "id": "jSIqBznrvxLA"
   },
   "source": [
    "支持文件路径或者文件缓冲对象（CSV文件的扩展名不一定是，有可能是.data），还可以使用URL。"
   ]
  },
  {
   "cell_type": "code",
   "execution_count": null,
   "id": "9nCrFLKIt5nh",
   "metadata": {
    "id": "9nCrFLKIt5nh"
   },
   "outputs": [],
   "source": [
    "pd.read_csv('/content/drive/MyDrive/data/data.csv')"
   ]
  },
  {
   "cell_type": "code",
   "execution_count": null,
   "id": "VRU0GkKowHj-",
   "metadata": {
    "id": "VRU0GkKowHj-"
   },
   "outputs": [],
   "source": [
    "pd.read_csv('https://www.gairuo.com/file/data/dataset/GDP-China.csv')  # 使用URL"
   ]
  },
  {
   "cell_type": "markdown",
   "id": "iLvZ2x06wneR",
   "metadata": {
    "id": "iLvZ2x06wneR"
   },
   "source": [
    "可以传数据字符串，即CSV中的数据字符以字符串形式直接传入"
   ]
  },
  {
   "cell_type": "code",
   "execution_count": null,
   "id": "3fAzvgNPxVvP",
   "metadata": {
    "id": "3fAzvgNPxVvP"
   },
   "outputs": [],
   "source": [
    "from io import StringIO\n",
    "data = (\n",
    "    'col1,col2,col3\\n'\n",
    "    'a,b,1\\n'\n",
    "    'a,b,2\\n'\n",
    "    'c,d,3'\n",
    "    )\n",
    "pd.read_csv(StringIO(data))\n",
    "pd.read_csv(StringIO(data), dtype=object)\n",
    "del data"
   ]
  },
  {
   "cell_type": "markdown",
   "id": "ki8v_Yckx0RZ",
   "metadata": {
    "id": "ki8v_Yckx0RZ"
   },
   "source": [
    "传入字节数据"
   ]
  },
  {
   "cell_type": "code",
   "execution_count": null,
   "id": "e060eN62xzuZ",
   "metadata": {
    "id": "e060eN62xzuZ"
   },
   "outputs": [],
   "source": [
    "from io import BytesIO\n",
    "data = (b'word,length\\n'\n",
    "        b'Tr\\xc3\\xa4umen,7\\n' \n",
    "        b'Gr\\xc3\\xbc\\xc3\\x9fe,5')\n",
    "pd.read_csv(BytesIO(data))\n",
    "del data"
   ]
  },
  {
   "cell_type": "markdown",
   "id": "ISqeNaKyyAKS",
   "metadata": {
    "id": "ISqeNaKyyAKS"
   },
   "source": [
    "##### 分隔符\n",
    "\n",
    "sep参数是字符型的，代表每行数据内容的分隔符号，默认是逗号，另外常见的还有制表符（\\t）、空格等，根据数据的实际情况传值。\n",
    "\n",
    "pd.read_csv还提供了一个参数名为delimiter的定界符，这是一个备选分隔符，是sep的别名，效果和sep一样。如果指定该参数，则sep参数失效。"
   ]
  },
  {
   "cell_type": "code",
   "execution_count": null,
   "id": "hx12GNzRx_2W",
   "metadata": {
    "id": "hx12GNzRx_2W"
   },
   "outputs": [],
   "source": [
    "pd.read_csv(data, sep='\\t') # 制表符分隔tab\n",
    "pd.read_table(data) # read_table 默认是制表符分隔tab\n",
    "pd.read_csv(data, sep='|') # 制表符分隔tab\n",
    "pd.read_csv(data,sep=\"(?<!a)\\|(?!1)\", engine='python') # 使用正则表达式"
   ]
  },
  {
   "cell_type": "markdown",
   "id": "YF6KtV1-zfm4",
   "metadata": {
    "id": "YF6KtV1-zfm4"
   },
   "source": [
    "pd.read_csv还提供了一个参数名为delimiter的定界符，这是一个备选分隔符，是sep的别名，效果和sep一样。如果指定该参数，则sep参数失效。"
   ]
  },
  {
   "cell_type": "markdown",
   "id": "BhtN-sCrQr1y",
   "metadata": {
    "id": "BhtN-sCrQr1y"
   },
   "source": [
    "##### 表头\n",
    "\n",
    "header参数支持整型和由整型组成的列表，指定第几行是表头，默认会自动推断把第一行作为表头。注意：如果skip_blank_lines=True，header参数将忽略空行和注释行, 因此header=0表示第一行数据而非文件的第一行。"
   ]
  },
  {
   "cell_type": "code",
   "execution_count": null,
   "id": "VBsxR-BxSDKn",
   "metadata": {
    "id": "VBsxR-BxSDKn"
   },
   "outputs": [],
   "source": [
    "pd.read_csv('https://www.gairuo.com/file/data/dataset/GDP-China.csv', header=0) # 第一行"
   ]
  },
  {
   "cell_type": "code",
   "execution_count": null,
   "id": "8kpjjN-8SJkM",
   "metadata": {
    "id": "8kpjjN-8SJkM"
   },
   "outputs": [],
   "source": [
    "pd.read_csv('https://www.gairuo.com/file/data/dataset/GDP-China.csv', header=None) # 没有表头"
   ]
  },
  {
   "cell_type": "code",
   "execution_count": null,
   "id": "s0TjiTLZzfUa",
   "metadata": {
    "id": "s0TjiTLZzfUa"
   },
   "outputs": [],
   "source": [
    "pd.read_csv('https://www.gairuo.com/file/data/dataset/GDP-China.csv', header=[0,1,3]) # 多层索引MultiIndex"
   ]
  },
  {
   "cell_type": "markdown",
   "id": "dLm7WU73SdXn",
   "metadata": {
    "id": "dLm7WU73SdXn"
   },
   "source": [
    "##### 列名\n",
    "\n",
    "names用来指定列的名称，它是一个类似列表的序列，与数据一一对应。如果文件不包含列名，那么应该设置header=None，列名列表中不允许有重复值。"
   ]
  },
  {
   "cell_type": "code",
   "execution_count": null,
   "id": "r-YO8MDpSgRF",
   "metadata": {
    "id": "r-YO8MDpSgRF"
   },
   "outputs": [],
   "source": [
    "pd.read_csv('https://www.gairuo.com/file/data/dataset/GDP-China.csv', names=['列1', '列2', \"列3\", \"列4\", \"列5\", \"列6\"]) # 指定列名列表"
   ]
  },
  {
   "cell_type": "code",
   "execution_count": null,
   "id": "SigYL7IbSgYE",
   "metadata": {
    "id": "SigYL7IbSgYE"
   },
   "outputs": [],
   "source": [
    "pd.read_csv('https://www.gairuo.com/file/data/dataset/GDP-China.csv', names=['列1', '列2'], header=None)"
   ]
  },
  {
   "cell_type": "markdown",
   "id": "1da10eb5",
   "metadata": {
    "id": "1da10eb5"
   },
   "source": [
    "#### [read_excel](https://pandas.pydata.org/docs/reference/api/pandas.DataFrame.to_csv.html)"
   ]
  },
  {
   "cell_type": "markdown",
   "id": "iJ4Ev7Q1HtbI",
   "metadata": {
    "id": "iJ4Ev7Q1HtbI"
   },
   "source": [
    "## 数据导出"
   ]
  },
  {
   "cell_type": "markdown",
   "id": "uz9nepc4I0w8",
   "metadata": {
    "id": "uz9nepc4I0w8"
   },
   "source": [
    "导出各种文件，插入到各种数据库"
   ]
  },
  {
   "cell_type": "markdown",
   "id": "8e840f0f",
   "metadata": {
    "id": "8e840f0f"
   },
   "source": [
    "## 数据查看"
   ]
  },
  {
   "cell_type": "code",
   "execution_count": null,
   "id": "iHk8Zo06enx_",
   "metadata": {
    "id": "iHk8Zo06enx_"
   },
   "outputs": [],
   "source": [
    "pdw.info()  # 信息查看"
   ]
  },
  {
   "cell_type": "code",
   "execution_count": null,
   "id": "--7sdRCKU8pm",
   "metadata": {
    "id": "--7sdRCKU8pm"
   },
   "outputs": [],
   "source": [
    "pdw.head(2)  # 查看 DataFrame 的头部可以输入指定查看几行，索引从0开始。"
   ]
  },
  {
   "cell_type": "code",
   "execution_count": null,
   "id": "HbYnhI0vJAcB",
   "metadata": {
    "id": "HbYnhI0vJAcB"
   },
   "outputs": [],
   "source": [
    "pdw.tail(2)  # 查看 DataFrame 的尾部可以输入指定查看几行，索引从-1开始。"
   ]
  },
  {
   "cell_type": "code",
   "execution_count": null,
   "id": "jkcAJXkeffzB",
   "metadata": {
    "id": "jkcAJXkeffzB"
   },
   "outputs": [],
   "source": [
    "pdw.index  # ⾏标签"
   ]
  },
  {
   "cell_type": "code",
   "execution_count": null,
   "id": "ihvJloJufmNr",
   "metadata": {
    "id": "ihvJloJufmNr"
   },
   "outputs": [],
   "source": [
    "pdw.columns  # 列标签"
   ]
  },
  {
   "cell_type": "code",
   "execution_count": null,
   "id": "P4u70kZjgzHN",
   "metadata": {
    "id": "P4u70kZjgzHN"
   },
   "outputs": [],
   "source": [
    "pdw.axes  # 返回一个仅以行轴标签和列轴标签为成员的列表"
   ]
  },
  {
   "cell_type": "code",
   "execution_count": null,
   "id": "yA91aHQxfwZH",
   "metadata": {
    "id": "yA91aHQxfwZH"
   },
   "outputs": [],
   "source": [
    "pdw.values  # 对象值，⼆维ndarray数组"
   ]
  },
  {
   "cell_type": "code",
   "execution_count": null,
   "id": "KHDeU71WgEqz",
   "metadata": {
    "id": "KHDeU71WgEqz"
   },
   "outputs": [],
   "source": [
    "pdw.size  # DataFrame中的元素数量"
   ]
  },
  {
   "cell_type": "code",
   "execution_count": null,
   "id": "ZFl3k_FagPxQ",
   "metadata": {
    "id": "ZFl3k_FagPxQ"
   },
   "outputs": [],
   "source": [
    "pdw.ndim  # 轴的数量，也指数组的维数"
   ]
  },
  {
   "cell_type": "code",
   "execution_count": null,
   "id": "G9bijOBDg9rc",
   "metadata": {
    "id": "G9bijOBDg9rc"
   },
   "outputs": [],
   "source": [
    "pdw.T  # 行和列转置"
   ]
  },
  {
   "cell_type": "code",
   "execution_count": null,
   "id": "_TD5bUEqgXqk",
   "metadata": {
    "id": "_TD5bUEqgXqk"
   },
   "outputs": [],
   "source": [
    "pdw.empty  # DataFrame中没有数据或者任意坐标轴的长度为0，则返回True"
   ]
  },
  {
   "cell_type": "markdown",
   "id": "yCSdroexO0PN",
   "metadata": {
    "id": "yCSdroexO0PN"
   },
   "source": [
    "#### 序列数"
   ]
  },
  {
   "cell_type": "code",
   "execution_count": null,
   "id": "74wZeoZyO1og",
   "metadata": {
    "id": "74wZeoZyO1og"
   },
   "outputs": [],
   "source": [
    "# 布尔型，默认为False\n",
    "# 下例只取一列，会返回一个Series\n",
    "pd.read_csv(data, usecols=[0], squeeze=True)"
   ]
  },
  {
   "cell_type": "code",
   "execution_count": null,
   "id": "4laRUx2JO55r",
   "metadata": {
    "id": "4laRUx2JO55r"
   },
   "outputs": [],
   "source": [
    "# 有两列则还是df\n",
    "pd.read_csv(data, usecols=[0, 2], squeeze=True)"
   ]
  },
  {
   "cell_type": "markdown",
   "id": "WMze25VnJFNa",
   "metadata": {
    "id": "WMze25VnJFNa"
   },
   "source": [
    "#### 数据类型"
   ]
  },
  {
   "cell_type": "code",
   "execution_count": null,
   "id": "EWb7POjyfVTF",
   "metadata": {
    "id": "EWb7POjyfVTF"
   },
   "outputs": [],
   "source": [
    "pdw.dtypes  # 查看数据类型"
   ]
  },
  {
   "cell_type": "markdown",
   "id": "MIvtWpCtJve4",
   "metadata": {
    "id": "MIvtWpCtJve4"
   },
   "source": [
    "#### 形状"
   ]
  },
  {
   "cell_type": "code",
   "execution_count": null,
   "id": "XY9NEiC-KZ7E",
   "metadata": {
    "id": "XY9NEiC-KZ7E"
   },
   "outputs": [],
   "source": [
    "pdw.shape  # 查看形状（行，列）"
   ]
  },
  {
   "cell_type": "markdown",
   "id": "iAVhQtJZJws2",
   "metadata": {
    "id": "iAVhQtJZJws2"
   },
   "source": [
    "#### 缺失值"
   ]
  },
  {
   "cell_type": "markdown",
   "id": "5ww7QXWtk9C4",
   "metadata": {
    "id": "5ww7QXWtk9C4"
   },
   "source": [
    "##### Nan"
   ]
  },
  {
   "cell_type": "code",
   "execution_count": null,
   "id": "i_yTwXdiiJx4",
   "metadata": {
    "id": "i_yTwXdiiJx4"
   },
   "outputs": [],
   "source": [
    "pdw.isnull()  # 返回bool，True表示缺失值"
   ]
  },
  {
   "cell_type": "code",
   "execution_count": null,
   "id": "OLvuP04YiYPr",
   "metadata": {
    "id": "OLvuP04YiYPr"
   },
   "outputs": [],
   "source": [
    "pdw.isnull().any(axis=1)  # 一个序列中有一个Ture，则返回True，否则返回False"
   ]
  },
  {
   "cell_type": "code",
   "execution_count": null,
   "id": "BEsyy8X9i0qi",
   "metadata": {
    "id": "BEsyy8X9i0qi"
   },
   "outputs": [],
   "source": [
    "pdw.isnull().sum()"
   ]
  },
  {
   "cell_type": "code",
   "execution_count": null,
   "id": "wfIS4s-yi6YU",
   "metadata": {
    "id": "wfIS4s-yi6YU"
   },
   "outputs": [],
   "source": [
    "pdw.isna()"
   ]
  },
  {
   "cell_type": "code",
   "execution_count": null,
   "id": "mPVoRq7Li6fM",
   "metadata": {
    "id": "mPVoRq7Li6fM"
   },
   "outputs": [],
   "source": [
    "pdw.isna().any(axis=1)  # 一个序列中有一个Ture，则返回True，否则返回False"
   ]
  },
  {
   "cell_type": "code",
   "execution_count": null,
   "id": "XiKbK1CXi6qj",
   "metadata": {
    "id": "XiKbK1CXi6qj"
   },
   "outputs": [],
   "source": [
    "pdw.isna().sum()"
   ]
  },
  {
   "cell_type": "code",
   "execution_count": null,
   "id": "LKcwXuCBjTBa",
   "metadata": {
    "id": "LKcwXuCBjTBa"
   },
   "outputs": [],
   "source": [
    "pdw[pdw.isnull().values==True]"
   ]
  },
  {
   "cell_type": "code",
   "execution_count": null,
   "id": "4jvza0A9jqSR",
   "metadata": {
    "id": "4jvza0A9jqSR"
   },
   "outputs": [],
   "source": [
    "pdw[pdw.isna().values==True]"
   ]
  },
  {
   "cell_type": "code",
   "execution_count": null,
   "id": "T4idkzI0j3sI",
   "metadata": {
    "id": "T4idkzI0j3sI"
   },
   "outputs": [],
   "source": [
    "# 如果某行有多个值是空值，则会重复次数出现，所以我们可以利用df[df.isnull().values==True].drop_duplicates()来去重。\n",
    "pdw[pdw.isnull().values==True].drop_duplicates()"
   ]
  },
  {
   "cell_type": "code",
   "execution_count": null,
   "id": "gRpm9kM9kC7l",
   "metadata": {
    "id": "gRpm9kM9kC7l"
   },
   "outputs": [],
   "source": [
    "pdw[pdw[\"年份\"].notnull()]"
   ]
  },
  {
   "cell_type": "markdown",
   "id": "xOZ_ByH3lBQg",
   "metadata": {
    "id": "xOZ_ByH3lBQg"
   },
   "source": [
    "##### 空值\n",
    "\n",
    "空值在Pandas中指的是空字符串\"\"，我们同样可以对数据集进行切片找到空值"
   ]
  },
  {
   "cell_type": "code",
   "execution_count": null,
   "id": "CiAfRmtFlJ0r",
   "metadata": {
    "id": "CiAfRmtFlJ0r"
   },
   "outputs": [],
   "source": [
    "pdw[pdw[\"年份\"] == \"\"]"
   ]
  },
  {
   "cell_type": "code",
   "execution_count": null,
   "id": "PPA_XkaUlTJX",
   "metadata": {
    "id": "PPA_XkaUlTJX"
   },
   "outputs": [],
   "source": [
    "# 也可以利用空值与正常值的区别来区分两者，比如isnumeric()方法检测字符串是否只由数字组成。\n",
    "pdw[pdw[\"年份\"].str.isnumeric() == False]"
   ]
  },
  {
   "cell_type": "markdown",
   "id": "2O2gw1BClxS-",
   "metadata": {
    "id": "2O2gw1BClxS-"
   },
   "source": [
    "##### 其他\n",
    "\n",
    "比如它们有可能会使用“*”、“？”、“—”、“！”等等字符来表示缺失值。"
   ]
  },
  {
   "cell_type": "code",
   "execution_count": null,
   "id": "JuBTtcBxl-8b",
   "metadata": {
    "id": "JuBTtcBxl-8b"
   },
   "outputs": [],
   "source": [
    "pdw[pdw[\"年份\"].apply(lambda x: len(re.findall('NA|[*|?|!|#|-]', x)) != 0)]"
   ]
  },
  {
   "cell_type": "markdown",
   "id": "k4CUVZCJdWIG",
   "metadata": {
    "id": "k4CUVZCJdWIG"
   },
   "source": [
    "#### 统计查看"
   ]
  },
  {
   "cell_type": "code",
   "execution_count": null,
   "id": "LBGRGEv_aouC",
   "metadata": {
    "id": "LBGRGEv_aouC"
   },
   "outputs": [],
   "source": [
    "pl.describe()  # 提取所有数字列统计结果（数值型列的汇总统计,计数、平均值、标准差、最⼩值、四分位数、最⼤值） includ=\"object\" 查看字符串类型， includ =\"all\" 查看所有的"
   ]
  },
  {
   "cell_type": "code",
   "execution_count": null,
   "id": "lP4VnbwvaNn9",
   "metadata": {
    "id": "lP4VnbwvaNn9"
   },
   "outputs": [],
   "source": [
    "pl[\"收入\"].mean()  # 数据求均值"
   ]
  },
  {
   "cell_type": "code",
   "execution_count": null,
   "id": "Jp09289GaYGQ",
   "metadata": {
    "id": "Jp09289GaYGQ"
   },
   "outputs": [],
   "source": [
    "pl[\"收入\"].max()  # 数据求最大值"
   ]
  },
  {
   "cell_type": "code",
   "execution_count": null,
   "id": "rD-IyhzwaYJO",
   "metadata": {
    "id": "rD-IyhzwaYJO"
   },
   "outputs": [],
   "source": [
    "pl[\"收入\"].min()  # 数据求最小值"
   ]
  },
  {
   "cell_type": "code",
   "execution_count": null,
   "id": "i1z2ZIl_aYLy",
   "metadata": {
    "id": "i1z2ZIl_aYLy"
   },
   "outputs": [],
   "source": [
    "pl[\"收入\"].unique()  # 普通去重"
   ]
  },
  {
   "cell_type": "code",
   "execution_count": null,
   "id": "W6uWZ3JQcv-z",
   "metadata": {
    "id": "W6uWZ3JQcv-z"
   },
   "outputs": [],
   "source": [
    "pd.Series([1, 3, None, 3, 2, 5]).unique()  # 普通去重"
   ]
  },
  {
   "cell_type": "code",
   "execution_count": null,
   "id": "18_L1UHFbvXI",
   "metadata": {
    "id": "18_L1UHFbvXI"
   },
   "outputs": [],
   "source": [
    "pd.Series([1, 3, None, 3, 2, 5]).nunique()  # 去重计数，不包括None"
   ]
  },
  {
   "cell_type": "code",
   "execution_count": null,
   "id": "lk6FYD4Xbv1N",
   "metadata": {
    "id": "lk6FYD4Xbv1N"
   },
   "outputs": [],
   "source": [
    "pd.Series([1, 3, None, 3, 2, 5]).nunique(dropna=False)  # 去重计数，包括None"
   ]
  },
  {
   "cell_type": "code",
   "execution_count": null,
   "id": "XWu7_l5NlyIj",
   "metadata": {
    "id": "XWu7_l5NlyIj"
   },
   "outputs": [],
   "source": []
  },
  {
   "cell_type": "code",
   "execution_count": null,
   "id": "96vGF8tzbJ8P",
   "metadata": {
    "id": "96vGF8tzbJ8P"
   },
   "outputs": [],
   "source": [
    "pd.Series(pl[\"收入\"].unique())  # 去重计数"
   ]
  },
  {
   "cell_type": "markdown",
   "id": "kA9om8falvqd",
   "metadata": {
    "id": "kA9om8falvqd"
   },
   "source": []
  },
  {
   "cell_type": "markdown",
   "id": "nD5U2cZ7sUTq",
   "metadata": {
    "id": "nD5U2cZ7sUTq"
   },
   "source": [
    "#### 切片查看\n",
    "\n",
    "支持类似列表的序列和可调用对象"
   ]
  },
  {
   "cell_type": "markdown",
   "id": "eskZcdPN-ErJ",
   "metadata": {
    "id": "eskZcdPN-ErJ"
   },
   "source": [
    "##### 列"
   ]
  },
  {
   "cell_type": "code",
   "execution_count": null,
   "id": "OAZMjyhH8K8Y",
   "metadata": {
    "id": "OAZMjyhH8K8Y"
   },
   "outputs": [],
   "source": [
    "pd.read_csv(data, header=0)['年份']"
   ]
  },
  {
   "cell_type": "code",
   "execution_count": null,
   "id": "Y0u6N0Nd_nc4",
   "metadata": {
    "id": "Y0u6N0Nd_nc4"
   },
   "outputs": [],
   "source": [
    "pd.read_csv(data, header=0)[['年份', '国内生产总值']]"
   ]
  },
  {
   "cell_type": "markdown",
   "id": "VaXY-STQ99tW",
   "metadata": {
    "id": "VaXY-STQ99tW"
   },
   "source": [
    "##### usecols"
   ]
  },
  {
   "cell_type": "code",
   "execution_count": null,
   "id": "jCpf_34LsTSx",
   "metadata": {
    "id": "jCpf_34LsTSx"
   },
   "outputs": [],
   "source": [
    "# 读取部分列\n",
    "pd.read_csv(data, usecols=[0, 4, 3]) # 按索引只读取指定列，与顺序无关"
   ]
  },
  {
   "cell_type": "code",
   "execution_count": null,
   "id": "Mttss-VTsgIV",
   "metadata": {
    "id": "Mttss-VTsgIV"
   },
   "outputs": [],
   "source": [
    "pd.read_csv(data, usecols=['年份', '国内生产总值']) # 按列名，列名必须存在"
   ]
  },
  {
   "cell_type": "code",
   "execution_count": null,
   "id": "GzmHDZuOsj5h",
   "metadata": {
    "id": "GzmHDZuOsj5h"
   },
   "outputs": [],
   "source": [
    "# 指定列顺序，其实是df的筛选功能\n",
    "pd.read_csv(data, usecols=['年份', '国内生产总值'])[['国内生产总值', '年份']]"
   ]
  },
  {
   "cell_type": "code",
   "execution_count": null,
   "id": "AwidmyeLsrrW",
   "metadata": {
    "id": "AwidmyeLsrrW"
   },
   "outputs": [],
   "source": [
    "# 以下用callable方式可以巧妙指定顺序，in后面的是我们要的顺序\n",
    "pd.read_csv(data, usecols=lambda x: x.upper() in ['年份', '国内生产总值'])"
   ]
  },
  {
   "cell_type": "markdown",
   "id": "Dsacbiiyf78y",
   "metadata": {
    "id": "Dsacbiiyf78y"
   },
   "source": [
    "loc|iloc\n",
    "\n",
    "读取形状（行列）、列名称、索引、数据类型 loc既能查询，又能覆盖写入！\n",
    "loc:根据行、列的标签值查询；\n",
    "iloc:根据行、列的数字位置查询。\n",
    "\n",
    "使用单个label值查询数据行或者列，都可以只传入单个值，实现精确匹配\n",
    "\n",
    ".loc[[行], [列]] | .loc[行, 列]\n",
    "\n",
    "df.loc['2018-01-03°', ['bWendu','yWendu']] 得到Series\n",
    "\n",
    "使用列表批量查询df.loc[['XX0','XX1','XX2'], ['row1']] 得到Series\n",
    "\n",
    "使用列表批量查询df.loc[['XX0','XX1','XX2'], ['row1', 'row2', 'row3']] 得到DataFrame"
   ]
  },
  {
   "cell_type": "code",
   "execution_count": null,
   "id": "sKxGvZ07f__M",
   "metadata": {
    "id": "sKxGvZ07f__M"
   },
   "outputs": [],
   "source": [
    "data = 'https://www.gairuo.com/file/data/dataset/GDP-China.csv'"
   ]
  },
  {
   "cell_type": "code",
   "execution_count": null,
   "id": "CYbVejG4gH_e",
   "metadata": {
    "id": "CYbVejG4gH_e"
   },
   "outputs": [],
   "source": [
    "ppd = pd.read_csv(data, header=0)"
   ]
  },
  {
   "cell_type": "markdown",
   "id": "hPpWlfRIgime",
   "metadata": {
    "id": "hPpWlfRIgime"
   },
   "source": [
    "##### loc\n",
    "\n",
    "根据行、列的标签值查询"
   ]
  },
  {
   "cell_type": "code",
   "execution_count": null,
   "id": "Z6cNZMLOgZCe",
   "metadata": {
    "id": "Z6cNZMLOgZCe"
   },
   "outputs": [],
   "source": [
    "ppd.loc[0].head()  # 查看第一行的数据"
   ]
  },
  {
   "cell_type": "code",
   "execution_count": null,
   "id": "WQmRi_rTgqnt",
   "metadata": {
    "id": "WQmRi_rTgqnt"
   },
   "outputs": [],
   "source": [
    "ppd.loc[0, [\"年份\", \"国民总收入\"]]  # 查看第一行某一项的数据"
   ]
  },
  {
   "cell_type": "markdown",
   "id": "uLqAGp8-gAt0",
   "metadata": {
    "id": "uLqAGp8-gAt0"
   },
   "source": [
    "##### iloc\n",
    "\n",
    "根据行、列的数字位置查询。"
   ]
  },
  {
   "cell_type": "code",
   "execution_count": null,
   "id": "zdWRCibKg7pq",
   "metadata": {
    "id": "zdWRCibKg7pq"
   },
   "outputs": [],
   "source": [
    "ppd.iloc[0, 0]  # 查看第一行第一列的数据"
   ]
  },
  {
   "cell_type": "code",
   "execution_count": null,
   "id": "KFUXFFyGhMHV",
   "metadata": {
    "id": "KFUXFFyGhMHV"
   },
   "outputs": [],
   "source": [
    "ppd.iloc[0: 2, 0: 2]  # 查看前两行前两列的数据"
   ]
  },
  {
   "cell_type": "code",
   "execution_count": null,
   "id": "RHmzyNThhdlx",
   "metadata": {
    "id": "RHmzyNThhdlx"
   },
   "outputs": [],
   "source": [
    "ppd.iloc[:, : 2]  # 查看前两列的数据"
   ]
  },
  {
   "cell_type": "markdown",
   "id": "W-igCtbSm1w2",
   "metadata": {
    "id": "W-igCtbSm1w2"
   },
   "source": [
    "## 数据选择"
   ]
  },
  {
   "cell_type": "code",
   "execution_count": null,
   "id": "4JT2SRE6qY4K",
   "metadata": {
    "id": "4JT2SRE6qY4K"
   },
   "outputs": [],
   "source": [
    "data = 'https://www.gairuo.com/file/data/dataset/GDP-China.csv'"
   ]
  },
  {
   "cell_type": "code",
   "execution_count": null,
   "id": "KgqJ7TdMqbrX",
   "metadata": {
    "id": "KgqJ7TdMqbrX"
   },
   "outputs": [],
   "source": [
    "ppd = pd.read_csv(data, header=0).head(5)\n",
    "pdw = pd.DataFrame(pd.read_csv(data, header=0))"
   ]
  },
  {
   "cell_type": "markdown",
   "id": "C4NdfSvtsAZN",
   "metadata": {
    "id": "C4NdfSvtsAZN"
   },
   "source": [
    "### 选择行"
   ]
  },
  {
   "cell_type": "code",
   "execution_count": null,
   "id": "7YMghYuCtsQW",
   "metadata": {
    "id": "7YMghYuCtsQW"
   },
   "outputs": [],
   "source": [
    "pdw[\"年份\"]"
   ]
  },
  {
   "cell_type": "markdown",
   "id": "KZNZed2hsDwQ",
   "metadata": {
    "id": "KZNZed2hsDwQ"
   },
   "source": [
    "### 选择列"
   ]
  },
  {
   "cell_type": "markdown",
   "id": "3pZZSeO9t5ZJ",
   "metadata": {
    "id": "3pZZSeO9t5ZJ"
   },
   "source": [
    "#### lable"
   ]
  },
  {
   "cell_type": "code",
   "execution_count": null,
   "id": "pmDfGfj5t6jB",
   "metadata": {
    "id": "pmDfGfj5t6jB"
   },
   "outputs": [],
   "source": [
    "pdw[[\"年份\"]]  # 简写data.A(只能访问列)"
   ]
  },
  {
   "cell_type": "code",
   "execution_count": null,
   "id": "vyfmL8-Ot3MG",
   "metadata": {
    "id": "vyfmL8-Ot3MG"
   },
   "outputs": [],
   "source": [
    "pdw[[\"年份\", \"国民总收入\"]]  # ----df.loc[[\"a\",\"b\",\"d\"],\"B\"]"
   ]
  },
  {
   "cell_type": "code",
   "execution_count": null,
   "id": "SfBGGhwwyK2a",
   "metadata": {
    "id": "SfBGGhwwyK2a"
   },
   "outputs": [],
   "source": [
    "pdw.年份"
   ]
  },
  {
   "cell_type": "markdown",
   "id": "_8fgu-v2yWOM",
   "metadata": {
    "id": "_8fgu-v2yWOM"
   },
   "source": [
    "#### loc"
   ]
  },
  {
   "cell_type": "code",
   "execution_count": null,
   "id": "61DiHbs0yeNK",
   "metadata": {
    "id": "61DiHbs0yeNK"
   },
   "outputs": [],
   "source": [
    "pdw.loc[0, [\"年份\", \"国民总收入\"]]  # 不用列表会自动转series"
   ]
  },
  {
   "cell_type": "code",
   "execution_count": null,
   "id": "FLFLjd8ozyCY",
   "metadata": {
    "id": "FLFLjd8ozyCY"
   },
   "outputs": [],
   "source": [
    "pdw.loc[0:8, [\"年份\", \"国民总收入\"]]  # 不用列表会自动转series"
   ]
  },
  {
   "cell_type": "markdown",
   "id": "XHmsMWwSybYQ",
   "metadata": {
    "id": "XHmsMWwSybYQ"
   },
   "source": [
    "#### iloc"
   ]
  },
  {
   "cell_type": "code",
   "execution_count": null,
   "id": "fvjkvFtizNsH",
   "metadata": {
    "id": "fvjkvFtizNsH"
   },
   "outputs": [],
   "source": [
    "pdw.iloc[:, : 2]  # 查看前两列的数据"
   ]
  },
  {
   "cell_type": "markdown",
   "id": "puLeG1aWsFjO",
   "metadata": {
    "id": "puLeG1aWsFjO"
   },
   "source": [
    "### 同时选择行列"
   ]
  },
  {
   "cell_type": "code",
   "execution_count": null,
   "id": "LZDdYOIM9zOi",
   "metadata": {
    "id": "LZDdYOIM9zOi"
   },
   "outputs": [],
   "source": [
    "# 选择行标签为 1 和 3，列标签为 '年份', '国民总收入', '国内生产总值' 的数据\n",
    "pdw.loc[[1, 3], ['年份', '国民总收入', '国内生产总值']]"
   ]
  },
  {
   "cell_type": "code",
   "execution_count": null,
   "id": "yOXG4Pd090zm",
   "metadata": {
    "id": "yOXG4Pd090zm"
   },
   "outputs": [],
   "source": [
    "# 选择行索引为 1 和 3，列索引为 0 和 2 的数据\n",
    "pdw.iloc[[1, 3], [0, 2]]"
   ]
  },
  {
   "cell_type": "code",
   "execution_count": null,
   "id": "KUFA0gaG910M",
   "metadata": {
    "id": "KUFA0gaG910M"
   },
   "outputs": [],
   "source": [
    "# 选择行中 国民总收入 列值大于 400000，列中列名为 '年份', '国民总收入', '国内生产总值' 的数据\n",
    "pdw.loc[pdw['国民总收入'] > 400000, pdw.columns.isin(['年份', '国民总收入', '国内生产总值'])]"
   ]
  },
  {
   "cell_type": "code",
   "execution_count": null,
   "id": "7blSLsN093Y5",
   "metadata": {
    "id": "7blSLsN093Y5"
   },
   "outputs": [],
   "source": [
    "# 选择行中 A 列值大于 2，列名为 'A' 或 'C' 的数据\n",
    "pdw.query('国民总收入 > 400000').filter(items=['年份', '国民总收入', '国内生产总值'])"
   ]
  },
  {
   "cell_type": "markdown",
   "id": "922jC5hnsI39",
   "metadata": {
    "id": "922jC5hnsI39"
   },
   "source": [
    "### 条件选择"
   ]
  },
  {
   "cell_type": "markdown",
   "id": "e99HfHiaHlPl",
   "metadata": {
    "id": "e99HfHiaHlPl"
   },
   "source": [
    "#### 单条件选择"
   ]
  },
  {
   "cell_type": "code",
   "execution_count": null,
   "id": "hGJwCcUxB5qK",
   "metadata": {
    "id": "hGJwCcUxB5qK"
   },
   "outputs": [],
   "source": [
    "# 选择 年份 列大于 2015 的行\n",
    "pdw[pdw['年份'] > 2015]"
   ]
  },
  {
   "cell_type": "code",
   "execution_count": null,
   "id": "a5lgQZEQCawl",
   "metadata": {
    "id": "a5lgQZEQCawl"
   },
   "outputs": [],
   "source": [
    "# 选择 年份 列是偶数的行\n",
    "pdw[pdw['年份'] % 2 == 0]"
   ]
  },
  {
   "cell_type": "code",
   "execution_count": null,
   "id": "3EVPbbBECjpT",
   "metadata": {
    "id": "3EVPbbBECjpT"
   },
   "outputs": [],
   "source": [
    "# 选择 年份 列不等于 2018 的行\n",
    "pdw[pdw['年份'] != 2018]"
   ]
  },
  {
   "cell_type": "markdown",
   "id": "X6FxOHwsIiHq",
   "metadata": {
    "id": "X6FxOHwsIiHq"
   },
   "source": [
    "#### 多条件选择"
   ]
  },
  {
   "cell_type": "code",
   "execution_count": null,
   "id": "TTkhH6A6Il2h",
   "metadata": {
    "id": "TTkhH6A6Il2h"
   },
   "outputs": [],
   "source": [
    "# 选择 年份 列大于 2000 且 年份 列是偶数的行 '年份', '国民总收入', '国内生产总值'\n",
    "pdw[(pdw['年份'] > 2000) & (pdw['年份'] % 2 == 0)]"
   ]
  },
  {
   "cell_type": "code",
   "execution_count": null,
   "id": "LRhJNt-sKklU",
   "metadata": {
    "id": "LRhJNt-sKklU"
   },
   "outputs": [],
   "source": [
    "# 选择 年份 列大于 2000 或 国民总收入 列小于 400000 的行\n",
    "pdw[(pdw['年份'] > 2000) | (pdw['国民总收入'] < 400000)]"
   ]
  },
  {
   "cell_type": "code",
   "execution_count": null,
   "id": "Sz15J3xLK2RU",
   "metadata": {
    "id": "Sz15J3xLK2RU"
   },
   "outputs": [],
   "source": [
    "# 选择 年份 列大于 2000 且 B 列不是偶数的行\n",
    "pdw[(pdw['年份'] > 2000) & ~(pdw['国民总收入'] % 2 == 0)]"
   ]
  },
  {
   "cell_type": "markdown",
   "id": "J7F8XYjtIz7Y",
   "metadata": {
    "id": "J7F8XYjtIz7Y"
   },
   "source": [
    "#### isin"
   ]
  },
  {
   "cell_type": "code",
   "execution_count": null,
   "id": "Yf3WRQZKMCzZ",
   "metadata": {
    "id": "Yf3WRQZKMCzZ"
   },
   "outputs": [],
   "source": [
    "# 选择 年份 列值在给定列表中的行\n",
    "pdw[pdw['年份'].isin([2000, 2002, 2005])]"
   ]
  },
  {
   "cell_type": "code",
   "execution_count": null,
   "id": "uiNmz8bUMTzf",
   "metadata": {
    "id": "uiNmz8bUMTzf"
   },
   "outputs": [],
   "source": [
    "# 选择 年份 列值不在给定列表中的行\n",
    "pdw[~pdw['年份'].isin([2000, 2002, 2005])]"
   ]
  },
  {
   "cell_type": "markdown",
   "id": "Nb9BjvQRI1ug",
   "metadata": {
    "id": "Nb9BjvQRI1ug"
   },
   "source": [
    "#### query"
   ]
  },
  {
   "cell_type": "code",
   "execution_count": null,
   "id": "a952Wb13MEPU",
   "metadata": {
    "id": "a952Wb13MEPU"
   },
   "outputs": [],
   "source": [
    "# 选择 年份 列大于 2000\n",
    "pdw.query('年份 > 2000')"
   ]
  },
  {
   "cell_type": "code",
   "execution_count": null,
   "id": "O93SxnHIOjTO",
   "metadata": {
    "id": "O93SxnHIOjTO"
   },
   "outputs": [],
   "source": [
    "# 选择 年份 列大于 3 且 国民总收入 列是偶数的行\n",
    "pdw.query('年份 > 2000 and 国民总收入 % 2 == 0')"
   ]
  },
  {
   "cell_type": "code",
   "execution_count": null,
   "id": "8LzkCtvqOuao",
   "metadata": {
    "id": "8LzkCtvqOuao"
   },
   "outputs": [],
   "source": [
    "# 选择 年份 列值在给定列表中的行\n",
    "values = [2000, 2002, 2005]\n",
    "pdw.query('年份 in @values')"
   ]
  },
  {
   "cell_type": "markdown",
   "id": "fUn-owP2S8Sz",
   "metadata": {
    "id": "fUn-owP2S8Sz"
   },
   "source": [
    "## 数据新增"
   ]
  },
  {
   "cell_type": "markdown",
   "id": "-lbJMRT7S_B7",
   "metadata": {
    "id": "-lbJMRT7S_B7"
   },
   "source": [
    "### 新增列"
   ]
  },
  {
   "cell_type": "markdown",
   "id": "DBGOqkrjc_Rn",
   "metadata": {
    "id": "DBGOqkrjc_Rn"
   },
   "source": [
    "#### 直接赋值"
   ]
  },
  {
   "cell_type": "code",
   "execution_count": null,
   "id": "LrJKuuRATB9R",
   "metadata": {
    "id": "LrJKuuRATB9R"
   },
   "outputs": [],
   "source": [
    "# 使用常量值新增列，所有的行都新增数据0\n",
    "pdw['D'] = 0"
   ]
  },
  {
   "cell_type": "code",
   "execution_count": null,
   "id": "9fR43GJ5dZOH",
   "metadata": {
    "id": "9fR43GJ5dZOH"
   },
   "outputs": [],
   "source": [
    "# 使用列运算新增列\n",
    "pdw['E'] = pdw['国内生产总值'] - pdw['国民总收入']"
   ]
  },
  {
   "cell_type": "markdown",
   "id": "zBMeIU3sf3If",
   "metadata": {
    "id": "zBMeIU3sf3If"
   },
   "source": [
    "#### assign"
   ]
  },
  {
   "cell_type": "code",
   "execution_count": null,
   "id": "CTD6Etlvf5wj",
   "metadata": {
    "id": "CTD6Etlvf5wj"
   },
   "outputs": [],
   "source": [
    "# 使用常量值或列运算新增列\n",
    "pdw.assign(F=0, G=pdw['第一产业增加值'] + pdw['第二产业增加值'] + pdw['第三产业增加值'])"
   ]
  },
  {
   "cell_type": "markdown",
   "id": "apHcRxuehmQc",
   "metadata": {
    "id": "apHcRxuehmQc"
   },
   "source": [
    "#### insert"
   ]
  },
  {
   "cell_type": "code",
   "execution_count": null,
   "id": "lOPkq1C1hx5j",
   "metadata": {
    "id": "lOPkq1C1hx5j"
   },
   "outputs": [],
   "source": [
    "# 在指定位置插入新列\n",
    "pdw.insert(1, 'H', 10)"
   ]
  },
  {
   "cell_type": "markdown",
   "id": "OEGK6bHujg0g",
   "metadata": {
    "id": "OEGK6bHujg0g"
   },
   "source": [
    "#### 函数"
   ]
  },
  {
   "cell_type": "code",
   "execution_count": null,
   "id": "bqMxvEwbjjIo",
   "metadata": {
    "id": "bqMxvEwbjjIo"
   },
   "outputs": [],
   "source": [
    "# 使用 apply() 函数根据已有列的值新增列\n",
    "pdw['I'] = pdw['人均国内生产总值'].apply(lambda x: x * 2)"
   ]
  },
  {
   "cell_type": "code",
   "execution_count": null,
   "id": "ciMz75bZjlCI",
   "metadata": {
    "id": "ciMz75bZjlCI"
   },
   "outputs": [],
   "source": [
    "# 使用 applymap() 函数对整个 DataFrame 进行逐元素操作并新增列\n",
    "pdw['J'] = pdw.applymap(lambda x: x + 10).sum(axis=1)"
   ]
  },
  {
   "cell_type": "markdown",
   "id": "0agU6OifTCJF",
   "metadata": {
    "id": "0agU6OifTCJF"
   },
   "source": [
    "### 新增行"
   ]
  },
  {
   "cell_type": "code",
   "execution_count": null,
   "id": "RIz5ndQnTEKV",
   "metadata": {
    "id": "RIz5ndQnTEKV"
   },
   "outputs": [],
   "source": [
    "df = pd.DataFrame({'A': [1, 2, 3], 'B': [4, 5, 6], 'C': [7, 8, 9]})\n",
    "df.append({'A': 10, 'B': 11, 'C': 12}, ignore_index=True)  # 字典新增"
   ]
  },
  {
   "cell_type": "code",
   "execution_count": null,
   "id": "_-f6zg7gJ0zC",
   "metadata": {
    "id": "_-f6zg7gJ0zC"
   },
   "outputs": [],
   "source": [
    "df.append(pd.Series({'A': 13, 'B': 14, 'C': 15}), ignore_index=True)  # 使用 Series 形式新增行"
   ]
  },
  {
   "cell_type": "code",
   "execution_count": null,
   "id": "XUM6YglxTHGL",
   "metadata": {
    "id": "XUM6YglxTHGL"
   },
   "outputs": [],
   "source": [
    "# 使用 DataFrame 形式新增行\n",
    "df.append(pd.DataFrame({'A': [16, 17], 'B': [18, 19], 'C': [20, 21]}), ignore_index=True)"
   ]
  },
  {
   "cell_type": "code",
   "execution_count": null,
   "id": "RP8JDtLeMbwS",
   "metadata": {
    "id": "RP8JDtLeMbwS"
   },
   "outputs": [],
   "source": [
    "# 使用 concat 函数新增行\n",
    "pd.concat([df, pd.DataFrame({'A': [22, 23], 'B': [24, 25], 'C': [26, 27]})], ignore_index=True)"
   ]
  },
  {
   "cell_type": "code",
   "execution_count": null,
   "id": "OQb_6h8uMb2O",
   "metadata": {
    "id": "OQb_6h8uMb2O"
   },
   "outputs": [],
   "source": [
    "# 使用 loc 函数新增行\n",
    "df.loc[len(df)] = {'A': 28, 'B': 29, 'C': 30}"
   ]
  },
  {
   "cell_type": "markdown",
   "id": "A_j3_DVYQh7p",
   "metadata": {
    "id": "A_j3_DVYQh7p"
   },
   "source": [
    "## 数据修改"
   ]
  },
  {
   "cell_type": "code",
   "execution_count": null,
   "id": "tkyJGB-PRSmH",
   "metadata": {
    "id": "tkyJGB-PRSmH"
   },
   "outputs": [],
   "source": [
    "df = pd.DataFrame({'A': [1, 2, 3], 'B': [4, 5, 6], 'C': [7, 8, 9]})"
   ]
  },
  {
   "cell_type": "markdown",
   "id": "ZMmJSRlGQjUE",
   "metadata": {
    "id": "ZMmJSRlGQjUE"
   },
   "source": [
    "### 修改单个值"
   ]
  },
  {
   "cell_type": "code",
   "execution_count": null,
   "id": "Kqwe2v3fRWSP",
   "metadata": {
    "id": "Kqwe2v3fRWSP"
   },
   "outputs": [],
   "source": [
    "df.at[1, 'A'] = 10"
   ]
  },
  {
   "cell_type": "code",
   "execution_count": null,
   "id": "uQl4KYk4Rd4T",
   "metadata": {
    "id": "uQl4KYk4Rd4T"
   },
   "outputs": [],
   "source": [
    "df.iat[1, 0] = 11"
   ]
  },
  {
   "cell_type": "markdown",
   "id": "vikjzwIaQoOk",
   "metadata": {
    "id": "vikjzwIaQoOk"
   },
   "source": [
    "### 修改整列"
   ]
  },
  {
   "cell_type": "code",
   "execution_count": null,
   "id": "ur5i6oEHRY_N",
   "metadata": {
    "id": "ur5i6oEHRY_N"
   },
   "outputs": [],
   "source": [
    "df['A'] = df['A'] * 2"
   ]
  },
  {
   "cell_type": "code",
   "execution_count": null,
   "id": "-BzMgo0pRoCT",
   "metadata": {
    "id": "-BzMgo0pRoCT"
   },
   "outputs": [],
   "source": [
    "df['B'] = df['B'].apply(lambda x: x + 1)"
   ]
  },
  {
   "cell_type": "markdown",
   "id": "MXqrvN27Qs7M",
   "metadata": {
    "id": "MXqrvN27Qs7M"
   },
   "source": [
    "### 修改多列"
   ]
  },
  {
   "cell_type": "code",
   "execution_count": null,
   "id": "Dy5TccVuR3yF",
   "metadata": {
    "id": "Dy5TccVuR3yF"
   },
   "outputs": [],
   "source": [
    "df[['A', 'B']] = df[['A', 'B']].apply(lambda x: x * 2)"
   ]
  },
  {
   "cell_type": "code",
   "execution_count": null,
   "id": "5kF1EXvvR6zB",
   "metadata": {
    "id": "5kF1EXvvR6zB"
   },
   "outputs": [],
   "source": [
    "df = df.applymap(lambda x: x + 1)"
   ]
  },
  {
   "cell_type": "markdown",
   "id": "zchRn1CRQ8Zr",
   "metadata": {
    "id": "zchRn1CRQ8Zr"
   },
   "source": [
    "### 修改整行"
   ]
  },
  {
   "cell_type": "code",
   "execution_count": null,
   "id": "GczpJ_8_S9qD",
   "metadata": {
    "id": "GczpJ_8_S9qD"
   },
   "outputs": [],
   "source": [
    "df.loc[1] = [10, 11, 12]"
   ]
  },
  {
   "cell_type": "code",
   "execution_count": null,
   "id": "89qBf7XxTDkn",
   "metadata": {
    "id": "89qBf7XxTDkn"
   },
   "outputs": [],
   "source": [
    "df.iloc[2] = [13, 14, 15]"
   ]
  },
  {
   "cell_type": "markdown",
   "id": "v5qD5NWcRCtu",
   "metadata": {
    "id": "v5qD5NWcRCtu"
   },
   "source": [
    "### 基于条件修改值"
   ]
  },
  {
   "cell_type": "code",
   "execution_count": null,
   "id": "w-rDqa21TI3q",
   "metadata": {
    "id": "w-rDqa21TI3q"
   },
   "outputs": [],
   "source": [
    "df.loc[df['A'] > 2, 'A'] = 20"
   ]
  },
  {
   "cell_type": "code",
   "execution_count": null,
   "id": "aXf715HuTNAG",
   "metadata": {
    "id": "aXf715HuTNAG"
   },
   "outputs": [],
   "source": [
    "df[df['B'] > 4] = 30"
   ]
  },
  {
   "cell_type": "code",
   "execution_count": null,
   "id": "4mp9N6_JTN6U",
   "metadata": {
    "id": "4mp9N6_JTN6U"
   },
   "outputs": [],
   "source": [
    "df['C'] = df['C'].mask(df['C'] > 7, 40)"
   ]
  },
  {
   "cell_type": "markdown",
   "id": "7blomX1sRFwI",
   "metadata": {
    "id": "7blomX1sRFwI"
   },
   "source": [
    "### 修改列名"
   ]
  },
  {
   "cell_type": "code",
   "execution_count": null,
   "id": "Krr0HeTRf7Cj",
   "metadata": {
    "id": "Krr0HeTRf7Cj"
   },
   "outputs": [],
   "source": [
    "df.columns = ['X', 'Y', 'Z']"
   ]
  },
  {
   "cell_type": "code",
   "execution_count": null,
   "id": "cK_QEad6gAm2",
   "metadata": {
    "id": "cK_QEad6gAm2"
   },
   "outputs": [],
   "source": [
    "df.rename(columns={'X': 'A', 'Y': 'B', 'Z': 'C'})"
   ]
  },
  {
   "cell_type": "markdown",
   "id": "ZJa8MhocRHAX",
   "metadata": {
    "id": "ZJa8MhocRHAX"
   },
   "source": [
    "### 修改行索引"
   ]
  },
  {
   "cell_type": "code",
   "execution_count": null,
   "id": "UFOKA-iKgQ7D",
   "metadata": {
    "id": "UFOKA-iKgQ7D"
   },
   "outputs": [],
   "source": [
    "df.index = ['one', 'two', 'three']"
   ]
  },
  {
   "cell_type": "code",
   "execution_count": null,
   "id": "HWkZHAfXgSnF",
   "metadata": {
    "id": "HWkZHAfXgSnF"
   },
   "outputs": [],
   "source": [
    "df.rename(index={'one': 1, 'two': 2, 'three': 3})"
   ]
  },
  {
   "cell_type": "markdown",
   "id": "NIh9-8Kdj0Y-",
   "metadata": {
    "id": "NIh9-8Kdj0Y-"
   },
   "source": [
    "## 数据删除"
   ]
  },
  {
   "cell_type": "code",
   "execution_count": null,
   "id": "0n533dzCkT4N",
   "metadata": {
    "id": "0n533dzCkT4N"
   },
   "outputs": [],
   "source": [
    "df = pd.DataFrame({'A': [1, 2, 3], 'B': [4, 5, 6], 'C': [7, 8, 9]})"
   ]
  },
  {
   "cell_type": "markdown",
   "id": "m4Gitqslj4q5",
   "metadata": {
    "id": "m4Gitqslj4q5"
   },
   "source": [
    "### 删除列"
   ]
  },
  {
   "cell_type": "code",
   "execution_count": null,
   "id": "eRxapISLkdYK",
   "metadata": {
    "id": "eRxapISLkdYK"
   },
   "outputs": [],
   "source": [
    "df = df.drop('A', axis=1)"
   ]
  },
  {
   "cell_type": "code",
   "execution_count": null,
   "id": "IhZqTtRoktJ4",
   "metadata": {
    "id": "IhZqTtRoktJ4"
   },
   "outputs": [],
   "source": [
    "del df['B']"
   ]
  },
  {
   "cell_type": "code",
   "execution_count": null,
   "id": "sE0aW9NIkuNm",
   "metadata": {
    "id": "sE0aW9NIkuNm"
   },
   "outputs": [],
   "source": [
    "col_c = df.pop('C')"
   ]
  },
  {
   "cell_type": "markdown",
   "id": "ivQAyCnqkA0s",
   "metadata": {
    "id": "ivQAyCnqkA0s"
   },
   "source": [
    "### 删除行"
   ]
  },
  {
   "cell_type": "code",
   "execution_count": null,
   "id": "guAQRTH8kfOx",
   "metadata": {
    "id": "guAQRTH8kfOx"
   },
   "outputs": [],
   "source": [
    "df = df.drop(1, axis=0)"
   ]
  },
  {
   "cell_type": "code",
   "execution_count": null,
   "id": "JUMyFaz1lS5r",
   "metadata": {
    "id": "JUMyFaz1lS5r"
   },
   "outputs": [],
   "source": [
    "df = df[df.index != 2]"
   ]
  },
  {
   "cell_type": "markdown",
   "id": "zzo11kUpkELw",
   "metadata": {
    "id": "zzo11kUpkELw"
   },
   "source": [
    "### 删除特定行和列"
   ]
  },
  {
   "cell_type": "code",
   "execution_count": null,
   "id": "V5hveJ5ukkrM",
   "metadata": {
    "id": "V5hveJ5ukkrM"
   },
   "outputs": [],
   "source": [
    "df = df.drop(index=0, columns='A')"
   ]
  },
  {
   "cell_type": "markdown",
   "id": "WcmBESr4kHIH",
   "metadata": {
    "id": "WcmBESr4kHIH"
   },
   "source": [
    "### 删除缺失值的行或列"
   ]
  },
  {
   "cell_type": "code",
   "execution_count": null,
   "id": "R2VD2h39kpXk",
   "metadata": {
    "id": "R2VD2h39kpXk"
   },
   "outputs": [],
   "source": [
    "# 假设有以下 DataFrame，含有缺失值\n",
    "df = pd.DataFrame({'A': [1, 2, None], 'B': [4, None, 6], 'C': [7, 8, 9]})"
   ]
  },
  {
   "cell_type": "code",
   "execution_count": null,
   "id": "wZdim-D6lmB7",
   "metadata": {
    "id": "wZdim-D6lmB7"
   },
   "outputs": [],
   "source": [
    "df = df.dropna(axis=0)  # 删除包含缺失值的行"
   ]
  },
  {
   "cell_type": "code",
   "execution_count": null,
   "id": "4L-7QodRlnmL",
   "metadata": {
    "id": "4L-7QodRlnmL"
   },
   "outputs": [],
   "source": [
    "df = df.dropna(axis=1)  # 删除包含缺失值的列"
   ]
  },
  {
   "cell_type": "code",
   "execution_count": null,
   "id": "K2oOh4uNmQfp",
   "metadata": {
    "id": "K2oOh4uNmQfp"
   },
   "outputs": [],
   "source": [
    "df = df.dropna(axis=0).dropna(axis=1)"
   ]
  },
  {
   "cell_type": "markdown",
   "id": "fvXzWj_9SvZU",
   "metadata": {
    "id": "fvXzWj_9SvZU"
   },
   "source": [
    "## 数据过滤"
   ]
  },
  {
   "cell_type": "code",
   "execution_count": null,
   "id": "7YoS9w-cUlu4",
   "metadata": {
    "id": "7YoS9w-cUlu4"
   },
   "outputs": [],
   "source": [
    "df = pd.DataFrame({'A': [1, 2, 3, 4, 5], 'B': [6, 7, 8, 9, 10], 'C': [11, 12, 13, 14, 15]})"
   ]
  },
  {
   "cell_type": "markdown",
   "id": "htuZ4_hDUl5L",
   "metadata": {
    "id": "htuZ4_hDUl5L"
   },
   "source": [
    "### 基于列值的过滤"
   ]
  },
  {
   "cell_type": "code",
   "execution_count": null,
   "id": "6xWAVM6nU7Su",
   "metadata": {
    "id": "6xWAVM6nU7Su"
   },
   "outputs": [],
   "source": [
    "# 过滤 A 列值大于 2 的行\n",
    "df[df['A'] > 2]"
   ]
  },
  {
   "cell_type": "markdown",
   "id": "Ln0x7gTDVAOk",
   "metadata": {
    "id": "Ln0x7gTDVAOk"
   },
   "source": [
    "### 基于行索引的过滤"
   ]
  },
  {
   "cell_type": "code",
   "execution_count": null,
   "id": "wxXJKLMBVA7Z",
   "metadata": {
    "id": "wxXJKLMBVA7Z"
   },
   "outputs": [],
   "source": [
    "# 过滤索引为偶数的行\n",
    "df[df.index % 2 == 0]"
   ]
  },
  {
   "cell_type": "markdown",
   "id": "gMHzO-wLVFnc",
   "metadata": {
    "id": "gMHzO-wLVFnc"
   },
   "source": [
    "### 使用布尔索引过滤"
   ]
  },
  {
   "cell_type": "code",
   "execution_count": null,
   "id": "zz0JWkljVG3k",
   "metadata": {
    "id": "zz0JWkljVG3k"
   },
   "outputs": [],
   "source": [
    "# 过滤 A 列值大于 2 且 B 列值小于 10 的行\n",
    "df[(df['A'] > 2) & (df['B'] < 10)]"
   ]
  },
  {
   "cell_type": "markdown",
   "id": "8gtq8nNxVXcM",
   "metadata": {
    "id": "8gtq8nNxVXcM"
   },
   "source": [
    "### 使用 query 方法过滤"
   ]
  },
  {
   "cell_type": "code",
   "execution_count": null,
   "id": "muoI1GsvVZwu",
   "metadata": {
    "id": "muoI1GsvVZwu"
   },
   "outputs": [],
   "source": [
    "# 过滤 A 列值大于 2 且 B 列值小于 10 的行\n",
    "df.query('A > 2 and B < 10')"
   ]
  },
  {
   "cell_type": "markdown",
   "id": "VRIZf0NrVfNG",
   "metadata": {
    "id": "VRIZf0NrVfNG"
   },
   "source": [
    "### 使用自定义函数过滤"
   ]
  },
  {
   "cell_type": "code",
   "execution_count": null,
   "id": "017bYsapVfwg",
   "metadata": {
    "id": "017bYsapVfwg"
   },
   "outputs": [],
   "source": [
    "# 过滤 A 列值和 B 列值之和大于 10 的行\n",
    "def sum_greater_than_10(row):\n",
    "    return row['A'] + row['B'] > 10\n",
    "\n",
    "df[df.apply(sum_greater_than_10, axis=1)]"
   ]
  },
  {
   "cell_type": "markdown",
   "id": "GJtZXVvaJpDs",
   "metadata": {
    "id": "GJtZXVvaJpDs"
   },
   "source": [
    "### where\n",
    "\n",
    "Where用来根据条件替换行或列中的值。如果满足条件，保持原来的值，不满足条件则替换为其他值（False元素可以改变，True元素保持不变）。\n",
    "需要注意的是，where 方法在不满足条件的位置填充 NaN。如果你想要过滤掉这些不满足条件的行，可以使用 dropna 方法result.dropna()\n",
    "\n",
    "默认替换为NaN，也可以指定特殊值。`DataFrame.where(cond, other=nan, inplace=False, axis=None, level=None, errors='raise', try_cast=False, raise_on_error=None)`\n",
    "参数作用：\n",
    "\n",
    "cond：布尔条件，如果 cond 为真，保持原来的值，否则替换为other\n",
    "\n",
    "other：替换的特殊值\n",
    "\n",
    "inplace：inplace为真则在原数据上操作，为False则在原数据的copy上操作\n",
    "\n",
    "axis：行或列\n",
    "\n",
    "\n",
    "\n",
    "\n",
    "mask: True元素可以改变，False元素保持不变"
   ]
  },
  {
   "cell_type": "code",
   "execution_count": null,
   "id": "pZS12jLWJ7RX",
   "metadata": {
    "id": "pZS12jLWJ7RX"
   },
   "outputs": [],
   "source": [
    "data = 'https://www.gairuo.com/file/data/dataset/GDP-China.csv'\n",
    "ppd = pd.read_csv(data, header=0).head(5)\n",
    "pdw = pd.DataFrame(pd.read_csv(data, header=0))"
   ]
  },
  {
   "cell_type": "code",
   "execution_count": null,
   "id": "Tv84l0B0J7Ra",
   "metadata": {
    "id": "Tv84l0B0J7Ra"
   },
   "outputs": [],
   "source": [
    "pdw.where(pdw['年份'] == 2018) # 查询 年。列中值为 2018 的行 有Nan值\n",
    "pdw.where(pdw['年份'] == 2018).dropna() # 查询 年。列中值为 2018 的行 无Nan值\n",
    "pdw.loc[pdw['年份'] == 2018] # 查询 年。列中值为 2018 的行"
   ]
  },
  {
   "cell_type": "code",
   "execution_count": null,
   "id": "17L0p0KBJ7Rb",
   "metadata": {
    "id": "17L0p0KBJ7Rb"
   },
   "outputs": [],
   "source": [
    "# 查询 年份 列中值为 2018、2020 或 2017 的行\n",
    "pdw.where(pdw['年份'].isin([2018, 2020, 2017])).dropna()"
   ]
  },
  {
   "cell_type": "code",
   "execution_count": null,
   "id": "RxBVSz4VJ7Rb",
   "metadata": {
    "id": "RxBVSz4VJ7Rb"
   },
   "outputs": [],
   "source": [
    "# 查询 年份 列中值介于 20185 和 2020 之间（含）的行\n",
    "pdw.where((pdw['年份'] >= 2015) & (pdw['年份'] <= 2020)).dropna()"
   ]
  },
  {
   "cell_type": "code",
   "execution_count": null,
   "id": "t6aJJr7wJ7Rb",
   "metadata": {
    "id": "t6aJJr7wJ7Rb"
   },
   "outputs": [],
   "source": [
    "# 查询 第一产业增加值 列的值大于 第二产业增加值 列的值的行\n",
    "pdw.where(pdw['第一产业增加值'] > pdw['第二产业增加值']).dropna()"
   ]
  },
  {
   "cell_type": "code",
   "execution_count": null,
   "id": "0huRn4svJ7Rc",
   "metadata": {
    "id": "0huRn4svJ7Rc"
   },
   "outputs": [],
   "source": [
    "# 查询 年份 列中值为偶数的行 布尔过滤\n",
    "def is_even(x):\n",
    "    return x % 2 == 0\n",
    "\n",
    "pdw.where(pdw['年份'].apply(is_even)).dropna()"
   ]
  },
  {
   "cell_type": "code",
   "execution_count": null,
   "id": "0N4cf0ERKE6O",
   "metadata": {
    "id": "0N4cf0ERKE6O"
   },
   "outputs": [],
   "source": [
    "# 创建一个接受两个参数的函数，以过滤 年份 列中值大于某个最小值且小于某个最大值的行。\n",
    "def is_between(x, min_val, max_val):\n",
    "    return (x > min_val) & (x < max_val)\n",
    "\n",
    "min_val = 2013\n",
    "max_val = 2023\n",
    "pdw[pdw['年份'].apply(is_between, args=(min_val, max_val))]"
   ]
  },
  {
   "cell_type": "code",
   "execution_count": null,
   "id": "bnv5uEBeKE6Q",
   "metadata": {
    "id": "bnv5uEBeKE6Q"
   },
   "outputs": [],
   "source": [
    "# 创建一个接受两个参数的函数，以过滤 A 列中可以被其中一个参数整除的行。\n",
    "def is_divisible_by(x, divisor1, divisor2):\n",
    "    return (x % divisor1 == 0) | (x % divisor2 == 0)\n",
    "\n",
    "divisor1 = 400\n",
    "divisor2 = 100\n",
    "pdw[pdw['年份'].apply(is_divisible_by, args=(divisor1, divisor2))]"
   ]
  },
  {
   "cell_type": "code",
   "execution_count": null,
   "id": "zduQX47UKE6R",
   "metadata": {
    "id": "zduQX47UKE6R"
   },
   "outputs": [],
   "source": [
    "# 创建一个接受多个参数的函数，以过滤满足某种条件组合的行。\n",
    "def combined_condition(row, min_val, divisor1, divisor2):\n",
    "    return (row['年份'] > min_val) & ((row['第一产业增加值'] % divisor1 == 0) | (row['第二产业增加值'] % divisor2 == 0))\n",
    "\n",
    "min_val = 1999\n",
    "divisor1 = 2\n",
    "divisor2 = 3\n",
    "pdw[pdw.apply(combined_condition, axis=1, args=(min_val, divisor1, divisor2))]"
   ]
  },
  {
   "cell_type": "code",
   "execution_count": null,
   "id": "X_mDmMY9KE6R",
   "metadata": {
    "id": "X_mDmMY9KE6R"
   },
   "outputs": [],
   "source": [
    "# 查询 第一产业增加值 列中值大于 第二产业增加值 且 第二产业增加值 列中值小于 第三产业增加值 的行\n",
    "pdw.query('第一产业增加值 > 第二产业增加值 & 第二产业增加值 < 第三产业增加值')"
   ]
  },
  {
   "cell_type": "code",
   "execution_count": null,
   "id": "6kHFy7tYKE6R",
   "metadata": {
    "id": "6kHFy7tYKE6R"
   },
   "outputs": [],
   "source": [
    "# 查询 第一产业增加值 列中值大于 第二产业增加值 且 年份 列中值小于 2015 的行\n",
    "pdw.query('第一产业增加值 > 第二产业增加值 & 年份 < 2015')"
   ]
  },
  {
   "cell_type": "code",
   "execution_count": null,
   "id": "ACyI6K_VKE6R",
   "metadata": {
    "id": "ACyI6K_VKE6R"
   },
   "outputs": [],
   "source": [
    "# 使用 loc 方法 过滤 第一产业增加值 列值大于 第二产业增加值 列值的行。\n",
    "pdw.loc[pdw.apply(lambda row: row['第一产业增加值'] > row['第二产业增加值'], axis=1)]"
   ]
  },
  {
   "cell_type": "code",
   "execution_count": null,
   "id": "sunOSMAKKE6S",
   "metadata": {
    "id": "sunOSMAKKE6S"
   },
   "outputs": [],
   "source": [
    "# 使用 iloc 方法 过滤 第一产业增加值 列值大于 第二产业增加值 列值的行。\n",
    "filtered_indices = pdw.apply(lambda row: row['第一产业增加值'] > row['第二产业增加值'], axis=1)\n",
    "pdw.iloc[filtered_indices[filtered_indices].index]"
   ]
  },
  {
   "cell_type": "code",
   "execution_count": null,
   "id": "WlxTcAJ8KE6S",
   "metadata": {
    "id": "WlxTcAJ8KE6S"
   },
   "outputs": [],
   "source": [
    "# 使用 where 方法 过滤 第一产业增加值 列值大于 第二产业增加值 列值的行。\n",
    "pdw.where(pdw.apply(lambda row: row['第一产业增加值'] > row['第二产业增加值'], axis=1)).dropna()"
   ]
  },
  {
   "cell_type": "code",
   "execution_count": null,
   "id": "ryYjIFzHKE6S",
   "metadata": {
    "id": "ryYjIFzHKE6S"
   },
   "outputs": [],
   "source": [
    "# 使用 loc 方法过滤 第一产业增加值 列值和 第二产业增加值 列值 和第三产业增加值之和大于 国内生产总值 列值的行。\n",
    "pdw.loc[pdw.apply(lambda row: row['第一产业增加值'] + row['第二产业增加值'] + row['第三产业增加值'] > row['国内生产总值'], axis=1)]"
   ]
  },
  {
   "cell_type": "code",
   "execution_count": null,
   "id": "L2-IG0Q3KE6T",
   "metadata": {
    "id": "L2-IG0Q3KE6T"
   },
   "outputs": [],
   "source": [
    "# 使用 iloc 方法过滤 第一产业增加值 列值和 第二产业增加值 列值 和第三产业增加值之和大于 国内生产总值 列值的行。\n",
    "filtered_indices = pdw.apply(lambda row: row['第一产业增加值'] + row['第二产业增加值'] + row['第三产业增加值'] > row['国内生产总值'], axis=1)\n",
    "pdw.iloc[filtered_indices[filtered_indices].index]"
   ]
  },
  {
   "cell_type": "code",
   "execution_count": null,
   "id": "VrE0LJtFKE6T",
   "metadata": {
    "id": "VrE0LJtFKE6T"
   },
   "outputs": [],
   "source": [
    "# 使用 where 方法过滤 第一产业增加值 列值和 第二产业增加值 列值 和第三产业增加值之和大于 国内生产总值 列值的行。\n",
    "pdw.where(pdw.apply(lambda row: row['第一产业增加值'] + row['第二产业增加值'] + row['第三产业增加值'] > row['国内生产总值'], axis=1)).dropna()"
   ]
  },
  {
   "cell_type": "code",
   "execution_count": null,
   "id": "NQSnwG76KE6T",
   "metadata": {
    "id": "NQSnwG76KE6T"
   },
   "outputs": [],
   "source": [
    "# 使用 loc 方法过滤 第一产业增加值 列值加上 第二产业增加值 列值 加上 第三产业增加值等于 国民总收入 列值的行。\n",
    "pdw.loc[pdw.apply(lambda row: row['第一产业增加值'] - row['第二产业增加值'] + row['第三产业增加值'] == row['国民总收入'], axis=1)]"
   ]
  },
  {
   "cell_type": "code",
   "execution_count": null,
   "id": "PkRTQmEIKE6U",
   "metadata": {
    "id": "PkRTQmEIKE6U"
   },
   "outputs": [],
   "source": [
    "# 使用 iloc 方法过滤 第一产业增加值 列值加上 第二产业增加值 列值 加上 第三产业增加值等于 国民总收入 列值的行。\n",
    "filtered_indices = pdw.apply(\n",
    "    lambda row: row['第一产业增加值'] - row['第二产业增加值'] + row['第三产业增加值'] == row['国民总收入'], axis=1)\n",
    "pdw.iloc[filtered_indices[filtered_indices].index]"
   ]
  },
  {
   "cell_type": "code",
   "execution_count": null,
   "id": "-6HtYpt0KE6U",
   "metadata": {
    "id": "-6HtYpt0KE6U"
   },
   "outputs": [],
   "source": [
    "# 使用 where 方法过滤 第一产业增加值 列值加上 第二产业增加值 列值 加上 第三产业增加值等于 国民总收入 列值的行。\n",
    "pdw.where(pdw.apply(lambda row: row['第一产业增加值'] - row['第二产业增加值'] + row['第三产业增加值'] == row['国民总收入'],  axis=1)).dropna()"
   ]
  },
  {
   "cell_type": "code",
   "execution_count": null,
   "id": "kWSTjCtmKE6U",
   "metadata": {
    "id": "kWSTjCtmKE6U"
   },
   "outputs": [],
   "source": [
    "ppd.loc[ppd[\"第三产业增加值\"] < 400000, \"第三产业增加值\"] = 400000"
   ]
  },
  {
   "cell_type": "code",
   "execution_count": null,
   "id": "DmABZkqrKE6U",
   "metadata": {
    "id": "DmABZkqrKE6U"
   },
   "outputs": [],
   "source": [
    "ppd.loc[~(ppd[\"第三产业增加值\"] <= 425912.1), \"第三产业增加值\"] = 0"
   ]
  },
  {
   "cell_type": "markdown",
   "id": "SkA7xJtEXBZO",
   "metadata": {
    "id": "SkA7xJtEXBZO"
   },
   "source": [
    "## 数据值处理\n",
    "\n",
    "数据处理是一个宽泛的概念，通常包括多个步骤，以便从原始数据中提取有用的信息。"
   ]
  },
  {
   "cell_type": "markdown",
   "id": "syiWwDq6XCin",
   "metadata": {
    "id": "syiWwDq6XCin"
   },
   "source": [
    "### 缺失值处理"
   ]
  },
  {
   "cell_type": "code",
   "execution_count": null,
   "id": "CciL_Wn4XGMV",
   "metadata": {
    "id": "CciL_Wn4XGMV"
   },
   "outputs": [],
   "source": [
    "df = pd.DataFrame({'A': [1, 2, np.nan, 4, 5],\n",
    "        'B': [6, np.nan, 8, 9, 10],\n",
    "        'C': [11, 12, 13, np.nan, 15]})"
   ]
  },
  {
   "cell_type": "markdown",
   "id": "9a0Fl7UKZ5ip",
   "metadata": {
    "id": "9a0Fl7UKZ5ip"
   },
   "source": [
    "#### 使用固定值填充缺失值"
   ]
  },
  {
   "cell_type": "code",
   "execution_count": null,
   "id": "I0GT8-PcXJeC",
   "metadata": {
    "id": "I0GT8-PcXJeC"
   },
   "outputs": [],
   "source": [
    "# 使用固定值填充缺失值\n",
    "df_fillna_fixed_value = df.fillna(value=0)"
   ]
  },
  {
   "cell_type": "markdown",
   "id": "oYFjl7R73EVB",
   "metadata": {
    "id": "oYFjl7R73EVB"
   },
   "source": [
    "#### 向前填充"
   ]
  },
  {
   "cell_type": "code",
   "execution_count": null,
   "id": "k44twazU3FPF",
   "metadata": {
    "id": "k44twazU3FPF"
   },
   "outputs": [],
   "source": [
    "# 使用上面一个值填充缺失值\n",
    "df_fillna_forward = df.fillna(method='ffill')  # pad"
   ]
  },
  {
   "cell_type": "markdown",
   "id": "qwtwqf6g3KUt",
   "metadata": {
    "id": "qwtwqf6g3KUt"
   },
   "source": [
    "#### 向后填充"
   ]
  },
  {
   "cell_type": "code",
   "execution_count": null,
   "id": "I_mS3Cj83LJP",
   "metadata": {
    "id": "I_mS3Cj83LJP"
   },
   "outputs": [],
   "source": [
    "# 使用下面一个值填充缺失值\n",
    "df_fillna_backward = df.fillna(method='bfill')"
   ]
  },
  {
   "cell_type": "markdown",
   "id": "OI42XRlM3N7O",
   "metadata": {
    "id": "OI42XRlM3N7O"
   },
   "source": [
    "#### 其他填充"
   ]
  },
  {
   "cell_type": "code",
   "execution_count": null,
   "id": "d3EGGffP3Rtj",
   "metadata": {
    "id": "d3EGGffP3Rtj"
   },
   "outputs": [],
   "source": [
    "# 使用各列的平均值填充缺失值\n",
    "df_fillna_mean = df.fillna(value=df.mean())"
   ]
  },
  {
   "cell_type": "code",
   "execution_count": null,
   "id": "ufWKfJTl3S86",
   "metadata": {
    "id": "ufWKfJTl3S86"
   },
   "outputs": [],
   "source": [
    "# 使用各列的中位数填充缺失值\n",
    "df_fillna_median = df.fillna(value=df.median())"
   ]
  },
  {
   "cell_type": "code",
   "execution_count": null,
   "id": "eqOBgin44RJZ",
   "metadata": {
    "id": "eqOBgin44RJZ"
   },
   "outputs": [],
   "source": [
    "df_fillna_forward_pad = df.fillna('100')  # 指定值"
   ]
  },
  {
   "cell_type": "markdown",
   "id": "GOLd86po57YI",
   "metadata": {
    "id": "GOLd86po57YI"
   },
   "source": [
    "### 数据清洗\n",
    "\n",
    "去除重复值\n",
    "垃圾数据处理（例如，删除异常值、错误的输入等）\n",
    "缺失值处理（例如，删除包含缺失值的行/列、填充缺失值等）\n",
    "数据规范化（例如，将数据转换为统一的度量单位、格式等）\n",
    "数据类型转换（例如，将字符串转换为数值、日期等）"
   ]
  },
  {
   "cell_type": "markdown",
   "id": "VfNBIyMF6UzL",
   "metadata": {
    "id": "VfNBIyMF6UzL"
   },
   "source": [
    "### 数据转换\n",
    "\n",
    "特征缩放（例如，归一化、标准化等）\n",
    "特征构造（例如，从现有特征中生成新的特征）\n",
    "特征编码（例如，对类别变量进行独热编码或标签编码）"
   ]
  },
  {
   "cell_type": "markdown",
   "id": "CRVRrJGQ6adj",
   "metadata": {
    "id": "CRVRrJGQ6adj"
   },
   "source": [
    "### 数据透视和重塑\n",
    "\n",
    "（例如，将宽格式数据转换为长格式数据，反之亦然）"
   ]
  },
  {
   "cell_type": "markdown",
   "id": "Xbe4c5jU6b1n",
   "metadata": {
    "id": "Xbe4c5jU6b1n"
   },
   "source": [
    "### 数据探索与可视化\n",
    "\n",
    "计算描述性统计（例如，均值、中位数、标准差等）\n",
    "绘制图表（例如，柱状图、箱线图、散点图等）\n",
    "分析特征之间的相关性和关系"
   ]
  },
  {
   "cell_type": "markdown",
   "id": "xIKZqxNp6fjn",
   "metadata": {
    "id": "xIKZqxNp6fjn"
   },
   "source": [
    "### 数据预处理\n",
    "\n",
    "数据划分（例如，将数据集划分为训练集和测试集）\n",
    "数据抽样（例如，随机抽样、分层抽样等）\n",
    "数据平衡（例如，在不平衡的分类问题中处理不同类别的样本数量）"
   ]
  },
  {
   "cell_type": "markdown",
   "id": "eZjPrRYU6jbp",
   "metadata": {
    "id": "eZjPrRYU6jbp"
   },
   "source": [
    "### 特征选择与降维\n",
    "\n",
    "使用过滤方法进行特征选择（例如，基于相关性、信息增益等）\n",
    "使用包装方法进行特征选择（例如，递归特征消除等）\n",
    "使用嵌入方法进行特征选择（例如，LASSO、Ridge 回归等）\n",
    "使用降维技术（例如，主成分分析（PCA）、t-SNE等）"
   ]
  },
  {
   "cell_type": "markdown",
   "id": "IRT8l897VtBM",
   "metadata": {
    "id": "IRT8l897VtBM"
   },
   "source": [
    "## 数据排序"
   ]
  },
  {
   "cell_type": "markdown",
   "id": "smFURq_LWauT",
   "metadata": {
    "id": "smFURq_LWauT"
   },
   "source": [
    "#### value_counts\n",
    "\n",
    "sort=True： 是否要进行排序；默认进行排序\n",
    "\n",
    "ascending=False： 默认降序排列；\n",
    "\n",
    "normalize=False： 是否要对计算结果进行标准化并显示标准化后的结果，默认是False。 \n",
    "\n",
    "bins=None：可以自定义分组区间，默认是否；\n",
    "\n",
    "dropna=True：是否删除缺失值nan，默认删除\n",
    "\n",
    "注意：缺失值是默认被删除的，也就是不被计算在其中。而且，如果要计数的对象是numpy里的ndarray类型的话，可以用size的方法，同样可以达到上述的效果。"
   ]
  },
  {
   "cell_type": "code",
   "execution_count": null,
   "id": "qd3fdYA8Vw73",
   "metadata": {
    "id": "qd3fdYA8Vw73"
   },
   "outputs": [],
   "source": [
    "pd.read_csv(data, header=0)[\"年份\"].value_counts().head(5)  # 可以输入指定查看几行，索引从0开始。"
   ]
  },
  {
   "cell_type": "code",
   "execution_count": null,
   "id": "8I7ti1M8WJ82",
   "metadata": {
    "id": "8I7ti1M8WJ82"
   },
   "outputs": [],
   "source": [
    "pl = pd.DataFrame(\n",
    "    {\n",
    "        '城市':['北京','广州', '天津', '上海', '杭州', '成都', '澳门', '南京','北京','北京'],\n",
    "        '收入':[10000, 10000, 5000, 5002, 40000, 50000, 8000, 5000,5000,5000],\n",
    "        '年龄':[50, 43, 34, 40, 25, 25, 45, 32,25,25]}\n",
    "     )\n",
    "pl.set_index([[\"一\",\"二\",\"三\",\"四\",\"五\",\"六\",\"七\",\"八\",\"九\",\"十\"]], inplace=True)\n",
    "pl"
   ]
  },
  {
   "cell_type": "code",
   "execution_count": null,
   "id": "lJZcua1lY6PV",
   "metadata": {
    "id": "lJZcua1lY6PV"
   },
   "outputs": [],
   "source": [
    "pl[\"城市\"].value_counts()  # sort=True 默认进行排序 ascending=False 默认降序排列；"
   ]
  },
  {
   "cell_type": "code",
   "execution_count": null,
   "id": "vjtRkcuPZcoW",
   "metadata": {
    "id": "vjtRkcuPZcoW"
   },
   "outputs": [],
   "source": [
    "pl[\"城市\"].value_counts(ascending=True)  # ascending=True 升序排列；"
   ]
  },
  {
   "cell_type": "code",
   "execution_count": null,
   "id": "44Kt-QkjZrpA",
   "metadata": {
    "id": "44Kt-QkjZrpA"
   },
   "outputs": [],
   "source": [
    "pl[\"收入\"].value_counts(ascending=True, normalize=True)  # 是否要对计算结果进行标准化并显示标准化后的结果，默认是False。"
   ]
  },
  {
   "cell_type": "markdown",
   "id": "Em-POz9CdkRd",
   "metadata": {
    "id": "Em-POz9CdkRd"
   },
   "source": [
    "#### sort_values\n",
    "\n",
    "Series的排序参数说明\n",
    "\n",
    "    ascending：默认为True升序排序，为False降序排序\n",
    "\n",
    "    inplace：是否修改原始Series\n",
    "\n",
    "    DataFrame排序参数说明："
   ]
  },
  {
   "cell_type": "code",
   "execution_count": null,
   "id": "Dad5UsVAdo5R",
   "metadata": {
    "id": "Dad5UsVAdo5R"
   },
   "outputs": [],
   "source": [
    "pl[\"城市\"].sort_values(ascending=True, inplace=False)  # ascending=True 升序排列"
   ]
  },
  {
   "cell_type": "markdown",
   "id": "viRS25XkfT6o",
   "metadata": {
    "id": "viRS25XkfT6o"
   },
   "source": [
    "DataFrame的排序参数说明\n",
    "\n",
    "    by：宇符串或者List<字符串＞，单列排序或者多列排序\n",
    "\n",
    "    ascending：bool或者List，升序还是降序，如果是list对应by的多列\n",
    "\n",
    "    inplace：是否修改原始DataFrame"
   ]
  },
  {
   "cell_type": "code",
   "execution_count": null,
   "id": "dCBUqSWHfWYO",
   "metadata": {
    "id": "dCBUqSWHfWYO"
   },
   "outputs": [],
   "source": [
    "pl.sort_values(by=[\"城市\"], ascending=True, inplace=False).head(5)  # ascending=True 升序排列"
   ]
  },
  {
   "cell_type": "markdown",
   "id": "i402SN1U7rSt",
   "metadata": {
    "id": "i402SN1U7rSt"
   },
   "source": [
    "## 数据分组"
   ]
  },
  {
   "cell_type": "code",
   "execution_count": null,
   "id": "UDOS5pa38krG",
   "metadata": {
    "id": "UDOS5pa38krG"
   },
   "outputs": [],
   "source": [
    "df = pd.DataFrame({'Category': ['A', 'B', 'A', 'B', 'A', 'B', 'A', 'A'],\n",
    "        'Value': [10, 20, 30, 40, 50, 60, 70, 80]})"
   ]
  },
  {
   "cell_type": "markdown",
   "id": "7I7X_A1S8hja",
   "metadata": {
    "id": "7I7X_A1S8hja"
   },
   "source": [
    "### groupby"
   ]
  },
  {
   "cell_type": "code",
   "execution_count": null,
   "id": "sEr9iAS18q_m",
   "metadata": {
    "id": "sEr9iAS18q_m"
   },
   "outputs": [],
   "source": [
    "grouped = df.groupby('Category')"
   ]
  },
  {
   "cell_type": "code",
   "execution_count": null,
   "id": "vUPS-hpi-0tK",
   "metadata": {
    "id": "vUPS-hpi-0tK"
   },
   "outputs": [],
   "source": [
    "grouped.plot()"
   ]
  },
  {
   "cell_type": "markdown",
   "id": "SH9H3wrz9qsq",
   "metadata": {
    "id": "SH9H3wrz9qsq"
   },
   "source": [
    "### 聚合函数"
   ]
  },
  {
   "cell_type": "code",
   "execution_count": null,
   "id": "s0YXYB9D9rYn",
   "metadata": {
    "id": "s0YXYB9D9rYn"
   },
   "outputs": [],
   "source": [
    "# 计算每个分组的平均值\n",
    "grouped.mean()"
   ]
  },
  {
   "cell_type": "code",
   "execution_count": null,
   "id": "RVwJ8ibd-Qg9",
   "metadata": {
    "id": "RVwJ8ibd-Qg9"
   },
   "outputs": [],
   "source": [
    "# 计算每个分组的计数\n",
    "grouped.count()"
   ]
  },
  {
   "cell_type": "code",
   "execution_count": null,
   "id": "-BlmycZ6-Pq6",
   "metadata": {
    "id": "-BlmycZ6-Pq6"
   },
   "outputs": [],
   "source": [
    "# 计算每个分组的最大值\n",
    "grouped.max()"
   ]
  },
  {
   "cell_type": "code",
   "execution_count": null,
   "id": "BQwqTEHZ-PCa",
   "metadata": {
    "id": "BQwqTEHZ-PCa"
   },
   "outputs": [],
   "source": [
    "# 计算每个分组的最小值\n",
    "grouped.min()"
   ]
  },
  {
   "cell_type": "code",
   "execution_count": null,
   "id": "7tcNwhto-ONG",
   "metadata": {
    "id": "7tcNwhto-ONG"
   },
   "outputs": [],
   "source": [
    "# 计算每个分组的总和\n",
    "grouped.sum()"
   ]
  },
  {
   "cell_type": "markdown",
   "id": "2_66Qz569vR6",
   "metadata": {
    "id": "2_66Qz569vR6"
   },
   "source": [
    "### 自定义聚合函数"
   ]
  },
  {
   "cell_type": "code",
   "execution_count": null,
   "id": "xNcmhJEZ9_QL",
   "metadata": {
    "id": "xNcmhJEZ9_QL"
   },
   "outputs": [],
   "source": [
    "# 计算每个分组的值的平均值的平方根\n",
    "def sqrt_mean(series):\n",
    "    return np.sqrt(series.mean())\n",
    "\n",
    "grouped['Value'].agg(sqrt_mean)"
   ]
  },
  {
   "cell_type": "markdown",
   "id": "geC0iN_m-B0b",
   "metadata": {
    "id": "geC0iN_m-B0b"
   },
   "source": [
    "### 对多列进行分组"
   ]
  },
  {
   "cell_type": "code",
   "execution_count": null,
   "id": "gbQ63VOG-DUp",
   "metadata": {
    "id": "gbQ63VOG-DUp"
   },
   "outputs": [],
   "source": [
    "df = pd.DataFrame({'Category': ['A', 'B', 'A', 'B', 'A', 'B', 'A', 'A'],\n",
    "        'Subcategory': ['C', 'C', 'D', 'D', 'C', 'C', 'D', 'D'],\n",
    "        'Value': [10, 20, 30, 40, 50, 60, 70, 80]})\n",
    "\n",
    "# 对 Category 和 Subcategory 列进行分组\n",
    "grouped = df.groupby(['Category', 'Subcategory'])\n",
    "\n",
    "# 计算每个分组的平均值\n",
    "mean_values = grouped.mean()"
   ]
  },
  {
   "cell_type": "markdown",
   "id": "KJaDyGQG-JXz",
   "metadata": {
    "id": "KJaDyGQG-JXz"
   },
   "source": [
    "### apply"
   ]
  },
  {
   "cell_type": "code",
   "execution_count": null,
   "id": "zcQZaRkF-LUz",
   "metadata": {
    "id": "zcQZaRkF-LUz"
   },
   "outputs": [],
   "source": [
    "# 计算每个分组的值的范围（最大值 - 最小值）\n",
    "def value_range(series):\n",
    "    return series.max() - series.min()\n",
    "\n",
    "grouped_range = grouped['Value'].apply(value_range)"
   ]
  },
  {
   "cell_type": "markdown",
   "id": "Fv5Iuk-vA-Z5",
   "metadata": {
    "id": "Fv5Iuk-vA-Z5"
   },
   "source": [
    "### transform 分组数据转换"
   ]
  },
  {
   "cell_type": "code",
   "execution_count": null,
   "id": "VPpOZn3OA_V4",
   "metadata": {
    "id": "VPpOZn3OA_V4"
   },
   "outputs": [],
   "source": [
    "# transform 分组数据转换 将每个分组的值减去其平均值，以获得归一化的值\n",
    "normalized_values = grouped['Value'].transform(lambda x: x - x.mean())\n",
    "df['NormalizedValue'] = normalized_values"
   ]
  },
  {
   "cell_type": "code",
   "execution_count": null,
   "id": "zWUnDKPoBlTT",
   "metadata": {
    "id": "zWUnDKPoBlTT"
   },
   "outputs": [],
   "source": [
    "# 首先，将 A 列值按奇偶性进行分组（odd 或 even），然后计算每组 B 列值的总和：\n",
    "df['A_group'] = df['A'].apply(lambda x: 'odd' if x % 2 == 1 else 'even')\n",
    "grouped = df.groupby('A_group')['B'].sum()"
   ]
  },
  {
   "cell_type": "markdown",
   "id": "QtaHprAN_Guc",
   "metadata": {
    "id": "QtaHprAN_Guc"
   },
   "source": [
    "## 数据转换"
   ]
  },
  {
   "cell_type": "code",
   "execution_count": null,
   "id": "WUfUAtM5AAkR",
   "metadata": {
    "id": "WUfUAtM5AAkR"
   },
   "outputs": [],
   "source": [
    "df = pd.DataFrame({\n",
    "    'A': [1, 2, 3, 4, 5],\n",
    "    'B': [6, 7, 8, 9, 10],\n",
    "    'C': ['2023-01-01', '2023-01-02', '2023-01-03', '2023-01-04', '2023-01-05'],\n",
    "    'D': ['apple', 'banana', 'orange', 'pear', 'grape']\n",
    "})"
   ]
  },
  {
   "cell_type": "code",
   "execution_count": null,
   "id": "8Li-Gg4xBO59",
   "metadata": {
    "id": "8Li-Gg4xBO59"
   },
   "outputs": [],
   "source": [
    "# 将 A 列的所有值加上 B 列的对应值，并将结果存储在新的 E 列\n",
    "df['E'] = df['A'] + df['B']"
   ]
  },
  {
   "cell_type": "code",
   "execution_count": null,
   "id": "sAuuPiuBALVf",
   "metadata": {
    "id": "sAuuPiuBALVf"
   },
   "outputs": [],
   "source": [
    "# 使用 apply 方法将 A 列的所有值乘以 2\n",
    "df['A'] = df['A'].apply(lambda x: x * 2)"
   ]
  },
  {
   "cell_type": "code",
   "execution_count": null,
   "id": "r5DY2WIeAt3m",
   "metadata": {
    "id": "r5DY2WIeAt3m"
   },
   "outputs": [],
   "source": [
    "# 将 D 列中的所有字符串转换为大写\n",
    "df['D'] = df['D'].apply(lambda x: x.upper())"
   ]
  },
  {
   "cell_type": "code",
   "execution_count": null,
   "id": "YL_B6Qa2BUXT",
   "metadata": {
    "id": "YL_B6Qa2BUXT"
   },
   "outputs": [],
   "source": [
    "# 将 C 列的日期转换为日期所在的季度，并将结果存储在新的 F 列\n",
    "df['F'] = df['C'].apply(lambda x: pd.Timestamp(x).quarter)"
   ]
  },
  {
   "cell_type": "code",
   "execution_count": null,
   "id": "-wIAdZeU-HKj",
   "metadata": {
    "id": "-wIAdZeU-HKj"
   },
   "outputs": [],
   "source": [
    "# transform 分组数据转换 将每个分组的值减去其平均值，以获得归一化的值\n",
    "normalized_values = grouped['Value'].transform(lambda x: x - x.mean())\n",
    "df['NormalizedValue'] = normalized_values"
   ]
  },
  {
   "cell_type": "code",
   "execution_count": null,
   "id": "C-U62eqZBgbP",
   "metadata": {
    "id": "C-U62eqZBgbP"
   },
   "outputs": [],
   "source": [
    "# 首先，将 A 列值按奇偶性进行分组（odd 或 even），然后计算每组 B 列值的总和：\n",
    "df['A_group'] = df['A'].apply(lambda x: 'odd' if x % 2 == 1 else 'even')\n",
    "grouped = df.groupby('A_group')['B'].sum()"
   ]
  },
  {
   "cell_type": "markdown",
   "id": "7VpofLk3ASdt",
   "metadata": {
    "id": "7VpofLk3ASdt"
   },
   "source": [
    "## 数据类型转换"
   ]
  },
  {
   "cell_type": "code",
   "execution_count": null,
   "id": "usDh6i7HAmDO",
   "metadata": {
    "id": "usDh6i7HAmDO"
   },
   "outputs": [],
   "source": [
    "df = pd.DataFrame({\n",
    "    'A': [1, 2, 3, 4, 5],\n",
    "    'B': [6, 7, 8, 9, 10],\n",
    "    'C': ['2023-01-01', '2023-01-02', '2023-01-03', '2023-01-04', '2023-01-05'],\n",
    "    'D': ['apple', 'banana', 'orange', 'pear', 'grape']\n",
    "})"
   ]
  },
  {
   "cell_type": "code",
   "execution_count": null,
   "id": "Fv-kRV9WATdn",
   "metadata": {
    "id": "Fv-kRV9WATdn"
   },
   "outputs": [],
   "source": [
    "# 将 C 列的数据类型从字符串转换为 datetime\n",
    "df['C'] = pd.to_datetime(df['C'])"
   ]
  },
  {
   "cell_type": "code",
   "execution_count": null,
   "id": "-94Yi-osA0ce",
   "metadata": {
    "id": "-94Yi-osA0ce"
   },
   "outputs": [],
   "source": [
    "# 将 B 列的数据类型从整数转换为浮点数\n",
    "df['B'] = df['B'].astype(float)"
   ]
  },
  {
   "cell_type": "code",
   "execution_count": null,
   "id": "0pGk_K-lBIPx",
   "metadata": {
    "id": "0pGk_K-lBIPx"
   },
   "outputs": [],
   "source": [
    "# 将 D 列的数据类型从字符串转换为分类数据\n",
    "df['D'] = df['D'].astype('category')"
   ]
  },
  {
   "cell_type": "code",
   "execution_count": null,
   "id": "bWUcG6Q3BZVz",
   "metadata": {
    "id": "bWUcG6Q3BZVz"
   },
   "outputs": [],
   "source": [
    "# 将 F 列的数据类型从整数转换为字符串\n",
    "df['F'] = df['F'].astype(str)"
   ]
  },
  {
   "cell_type": "markdown",
   "id": "zPkOkNuyC7Qv",
   "metadata": {
    "id": "zPkOkNuyC7Qv"
   },
   "source": [
    "## 数据合并与拆分"
   ]
  },
  {
   "cell_type": "markdown",
   "id": "UrApQ6zIDlVC",
   "metadata": {
    "id": "UrApQ6zIDlVC"
   },
   "source": [
    "### 合并"
   ]
  },
  {
   "cell_type": "markdown",
   "id": "H12nMCTiC8F_",
   "metadata": {
    "id": "H12nMCTiC8F_"
   },
   "source": [
    "#### concat"
   ]
  },
  {
   "cell_type": "code",
   "execution_count": null,
   "id": "4tt6MZERDLHT",
   "metadata": {
    "id": "4tt6MZERDLHT"
   },
   "outputs": [],
   "source": [
    "df1 = pd.DataFrame({'A': [1, 2, 3], 'B': [4, 5, 6]})\n",
    "df2 = pd.DataFrame({'A': [7, 8, 9], 'B': [10, 11, 12]})"
   ]
  },
  {
   "cell_type": "code",
   "execution_count": null,
   "id": "bZaz8lMJDF-V",
   "metadata": {
    "id": "bZaz8lMJDF-V"
   },
   "outputs": [],
   "source": [
    "# 垂直拼接（按行）\n",
    "pd.concat([df1, df2], axis=0, ignore_index=True)"
   ]
  },
  {
   "cell_type": "code",
   "execution_count": null,
   "id": "IrRzU9JODOU_",
   "metadata": {
    "id": "IrRzU9JODOU_"
   },
   "outputs": [],
   "source": [
    "# 水平拼接（按列）\n",
    "pd.concat([df1, df2], axis=1)"
   ]
  },
  {
   "cell_type": "markdown",
   "id": "kpZLbz3lDTll",
   "metadata": {
    "id": "kpZLbz3lDTll"
   },
   "source": [
    "#### merge"
   ]
  },
  {
   "cell_type": "code",
   "execution_count": null,
   "id": "acs6Y1wzDaAl",
   "metadata": {
    "id": "acs6Y1wzDaAl"
   },
   "outputs": [],
   "source": [
    "df1 = pd.DataFrame({'key': ['A', 'B', 'C'], 'value': [1, 2, 3]})\n",
    "df2 = pd.DataFrame({'key': ['B', 'D', 'E'], 'value': [4, 5, 6]})"
   ]
  },
  {
   "cell_type": "code",
   "execution_count": null,
   "id": "AIEgYi2hD-LV",
   "metadata": {
    "id": "AIEgYi2hD-LV"
   },
   "outputs": [],
   "source": [
    "# 使用 merge 进行内连接（inner join）\n",
    "pd.merge(df1, df2, on='key', how='inner', suffixes=('_left', '_right'))"
   ]
  },
  {
   "cell_type": "code",
   "execution_count": null,
   "id": "wP8v1Vi5Ddff",
   "metadata": {
    "id": "wP8v1Vi5Ddff"
   },
   "outputs": [],
   "source": [
    "# 使用 merge 进行左连接（left join）\n",
    "pd.merge(df1, df2, on='key', how='left', suffixes=('_left', '_right'))"
   ]
  },
  {
   "cell_type": "markdown",
   "id": "mc-8T5DxDVZR",
   "metadata": {
    "id": "mc-8T5DxDVZR"
   },
   "source": [
    "#### join"
   ]
  },
  {
   "cell_type": "code",
   "execution_count": null,
   "id": "XHfBfKzPDhHP",
   "metadata": {
    "id": "XHfBfKzPDhHP"
   },
   "outputs": [],
   "source": [
    "df1 = pd.DataFrame({'key': ['A', 'B', 'C'], 'value': [1, 2, 3]})\n",
    "df2 = pd.DataFrame({'key': ['B', 'D', 'E'], 'value': [4, 5, 6]})"
   ]
  },
  {
   "cell_type": "code",
   "execution_count": null,
   "id": "1pPzj6dNDWhn",
   "metadata": {
    "id": "1pPzj6dNDWhn"
   },
   "outputs": [],
   "source": [
    "# 使用 join 进行索引连接\n",
    "df1.set_index('key').join(df2.set_index('key'), lsuffix='_left', rsuffix='_right')"
   ]
  },
  {
   "cell_type": "markdown",
   "id": "mfAyJAbCDm9W",
   "metadata": {
    "id": "mfAyJAbCDm9W"
   },
   "source": [
    "### 拆分"
   ]
  },
  {
   "cell_type": "code",
   "execution_count": null,
   "id": "3C_aFwfwDvQD",
   "metadata": {
    "id": "3C_aFwfwDvQD"
   },
   "outputs": [],
   "source": [
    "df = pd.DataFrame({'A': [1, 2, 3, 4, 5], 'B': [6, 7, 8, 9, 10], 'C': [11, 12, 13, 14, 15]})"
   ]
  },
  {
   "cell_type": "code",
   "execution_count": null,
   "id": "xRfV8C2eDxsJ",
   "metadata": {
    "id": "xRfV8C2eDxsJ"
   },
   "outputs": [],
   "source": [
    "# 按行拆分数据\n",
    "n = 2\n",
    "[df.iloc[i:i + n, :] for i in range(0, len(df), n)]"
   ]
  },
  {
   "cell_type": "code",
   "execution_count": null,
   "id": "Em4ogJt9Dz0Z",
   "metadata": {
    "id": "Em4ogJt9Dz0Z"
   },
   "outputs": [],
   "source": [
    "# 按列拆分数据\n",
    "n = 2\n",
    "[df.iloc[:, i:i + n] for i in range(0, len(df.columns), n)]"
   ]
  },
  {
   "cell_type": "code",
   "execution_count": null,
   "id": "lBomn-iSDrvs",
   "metadata": {
    "id": "lBomn-iSDrvs"
   },
   "outputs": [],
   "source": [
    "# 使用 groupby 按条件拆分数据\n",
    "def even_odd(x):\n",
    "    return 'even' if x % 2 == 0 else 'odd'\n",
    "\n",
    "grouped = df.groupby(df['A'].apply(even_odd))\n",
    "even_df = grouped.get_group('even')\n",
    "odd_df = grouped.get_group('odd')"
   ]
  },
  {
   "cell_type": "markdown",
   "id": "bVtq9IRjE2MG",
   "metadata": {
    "id": "bVtq9IRjE2MG"
   },
   "source": [
    "## 数据统计与计算"
   ]
  },
  {
   "cell_type": "code",
   "execution_count": null,
   "id": "itxPOCu4E6H6",
   "metadata": {
    "id": "itxPOCu4E6H6"
   },
   "outputs": [],
   "source": [
    "df = pd.DataFrame({'A': [1, 2, 3, 4, 5], 'B': [6, 7, 8, 9, 10], 'C': [11, 12, 13, 14, 15]})"
   ]
  },
  {
   "cell_type": "markdown",
   "id": "lH_MR_7zE2pr",
   "metadata": {
    "id": "lH_MR_7zE2pr"
   },
   "source": [
    "### 基本统计"
   ]
  },
  {
   "cell_type": "code",
   "execution_count": null,
   "id": "1LVPDVnZFA0I",
   "metadata": {
    "id": "1LVPDVnZFA0I"
   },
   "outputs": [],
   "source": [
    "# 计算描述性统计信息\n",
    "df.describe()"
   ]
  },
  {
   "cell_type": "code",
   "execution_count": null,
   "id": "fRPd9VRsE4ws",
   "metadata": {
    "id": "fRPd9VRsE4ws"
   },
   "outputs": [],
   "source": [
    "# 计算每列的均值\n",
    "df.mean()"
   ]
  },
  {
   "cell_type": "code",
   "execution_count": null,
   "id": "2lUSfyUtE-tQ",
   "metadata": {
    "id": "2lUSfyUtE-tQ"
   },
   "outputs": [],
   "source": [
    "# 计算每列的中位数\n",
    "df.median()"
   ]
  },
  {
   "cell_type": "code",
   "execution_count": null,
   "id": "UObTUvVPE_18",
   "metadata": {
    "id": "UObTUvVPE_18"
   },
   "outputs": [],
   "source": [
    "# 计算每列的标准差\n",
    "df.std()"
   ]
  },
  {
   "cell_type": "markdown",
   "id": "io20oML6FI89",
   "metadata": {
    "id": "io20oML6FI89"
   },
   "source": [
    "### 累计统计"
   ]
  },
  {
   "cell_type": "code",
   "execution_count": null,
   "id": "dwbhthGUFK3E",
   "metadata": {
    "id": "dwbhthGUFK3E"
   },
   "outputs": [],
   "source": [
    "# 计算每列的累计和\n",
    "df.cumsum()"
   ]
  },
  {
   "cell_type": "code",
   "execution_count": null,
   "id": "1ppdStkYFNFM",
   "metadata": {
    "id": "1ppdStkYFNFM"
   },
   "outputs": [],
   "source": [
    "# 计算每列的累计积\n",
    "df.cumprod()"
   ]
  },
  {
   "cell_type": "markdown",
   "id": "Kc8DX_4mFQ67",
   "metadata": {
    "id": "Kc8DX_4mFQ67"
   },
   "source": [
    "### 滚动统计"
   ]
  },
  {
   "cell_type": "code",
   "execution_count": null,
   "id": "JOu6S-ofFRdQ",
   "metadata": {
    "id": "JOu6S-ofFRdQ"
   },
   "outputs": [],
   "source": [
    "# 计算每列的 3 个元素滚动平均\n",
    "df.rolling(window=3).mean()"
   ]
  },
  {
   "cell_type": "code",
   "execution_count": null,
   "id": "DHk8qToVFTl8",
   "metadata": {
    "id": "DHk8qToVFTl8"
   },
   "outputs": [],
   "source": [
    "# 计算每列的 3 个元素滚动标准差\n",
    "df.rolling(window=3).std()"
   ]
  },
  {
   "cell_type": "markdown",
   "id": "-nXO6a6-FXHq",
   "metadata": {
    "id": "-nXO6a6-FXHq"
   },
   "source": [
    "### 自定义统计"
   ]
  },
  {
   "cell_type": "code",
   "execution_count": null,
   "id": "3y8NkMXqFY6E",
   "metadata": {
    "id": "3y8NkMXqFY6E"
   },
   "outputs": [],
   "source": [
    "# 计算每列的平均绝对偏差（Mean Absolute Deviation）\n",
    "def mad(series):\n",
    "    return series.mad()\n",
    "\n",
    "df.apply(mad)"
   ]
  },
  {
   "cell_type": "markdown",
   "id": "acxYy40hi8Cv",
   "metadata": {
    "id": "acxYy40hi8Cv"
   },
   "source": [
    "### 相关系数与协方差\n",
    "\n",
    "是一种统计学方法，用于衡量两个变量之间的线性关系程度。是衡量两个变量之间的线性关系程度统计指标之一。它的值在-1到1之间，取值为-1表示两个变量完全负相关，取值为1表示两个变量完全正相关，如果相关系数的值为0表示两个变量之间没有线性关系，是无关的。\n",
    "\n",
    "在数据分析中，相关系数通常用于以下几个方面：\n",
    "1．描述变量之间的线性关系。通过计算相关系数，可以确定两个变量之间的关系是正相关、负相关或无关的。\n",
    "\n",
    "2.预测变量之间的关系。如果两个变量之问的相关系数很高，那么可以使用一个变量的值来预测另一个变量的值。\n",
    "\n",
    "3.识别变量之间的复架关系。当变量之间存在多重关系时，相关系数可以帮助我们找到这些关系。\n",
    "\n",
    "可以使用`corr()`函数计算相关系数（该函数返回一个数据框，表示变量之间的相关性）。语法格式如下：\n",
    "`DataFrame.corr(method='pearson', min_periods=1)`\n",
    "\n",
    "其中 method参数指定计算相似度的方法，min_periods 参数指定计算相关系数的最小时间段。\n",
    "\n",
    "Pandas 中的默认方法是皮尔逊相关系数，不同的系数方法有不同的应用场景，例如：\n",
    "\n",
    "1.Pearson 相关系数，适用于两个变量都是连续变量的情況。\n",
    "\n",
    "2.Spearman 相关系数，适用于两个变量都是有序变量的情况\n",
    "\n",
    "3.Kendall相关系数，适用于两个变量都是有序变量的情况。\n",
    "\n",
    "在实际应用中，选择合适的相关系数方法非常重要，否则计算结果可能无法准确反映变量之间的关系。\n",
    "在二元变量的相关分析过程中比较常用的有Pearson相关系数、Spearman秩相关系数和判定系数\n",
    "\n"
   ]
  },
  {
   "cell_type": "code",
   "execution_count": null,
   "id": "yv5uW231o9KN",
   "metadata": {
    "id": "yv5uW231o9KN"
   },
   "outputs": [],
   "source": [
    "ppd = pd.DataFrame(np.random.randn(5, 5), columns=['a', 'b', 'c', 'd', 'e'])"
   ]
  },
  {
   "cell_type": "code",
   "execution_count": null,
   "id": "ct8SMb97lHsj",
   "metadata": {
    "id": "ct8SMb97lHsj"
   },
   "outputs": [],
   "source": [
    "ppd.corr()   # 计算任意两款菜式之间的相关系数"
   ]
  },
  {
   "cell_type": "code",
   "execution_count": null,
   "id": "pIdJDkNxlJHr",
   "metadata": {
    "id": "pIdJDkNxlJHr"
   },
   "outputs": [],
   "source": [
    "ppd.corr()['a']   # 显示第一列于其他列相关系数"
   ]
  },
  {
   "cell_type": "code",
   "execution_count": null,
   "id": "P1cZvUlSjVXE",
   "metadata": {
    "id": "P1cZvUlSjVXE"
   },
   "outputs": [],
   "source": [
    "ppd['a'].corr(ppd['b'])   # 显示两列之间相关系数"
   ]
  },
  {
   "cell_type": "markdown",
   "id": "xKLSvUdXof6R",
   "metadata": {
    "id": "xKLSvUdXof6R"
   },
   "source": [
    "如果我们只对每种变量之间的相关系数计算感兴趣，可以调用 corrwith()函数"
   ]
  },
  {
   "cell_type": "code",
   "execution_count": null,
   "id": "aO9fcDKYi7ZG",
   "metadata": {
    "id": "aO9fcDKYi7ZG"
   },
   "outputs": [],
   "source": [
    "ppd1 = pd.DataFrame(np.random.randn(5, 5), columns=['a', 'b', 'c', 'd', 'e'])\n",
    "ppd2 = pd.DataFrame(np.random.randn(5, 5), columns=['a', 'b', 'c', 'd', 'e'])"
   ]
  },
  {
   "cell_type": "code",
   "execution_count": null,
   "id": "bFA9r3tQoUx0",
   "metadata": {
    "id": "bFA9r3tQoUx0"
   },
   "outputs": [],
   "source": [
    "ppd1.corrwith(ppd2)"
   ]
  },
  {
   "cell_type": "markdown",
   "id": "3a2I3J8apKaH",
   "metadata": {
    "id": "3a2I3J8apKaH"
   },
   "source": [
    "Pandas 的相关系数函数不仅仅可以用来计算连续变量之间的相关系数，还可以用来处理分类变量或将分类变量转化为数字变量的任务。例如，可以使用 get_dummies()函数将分类变量转化为数值变量，然后计算它们之间的相关系数，例如："
   ]
  },
  {
   "cell_type": "code",
   "execution_count": null,
   "id": "7iYsyhy6pEVk",
   "metadata": {
    "id": "7iYsyhy6pEVk"
   },
   "outputs": [],
   "source": [
    "ppd = pd.DataFrame({\"A\":[\"foo\",\"foo\",\"foo\",\"bar\",\"bar\",\"bar\",\"foo\",\"foo\",], \"Type\":[\"type1\",\"type1\",\"type2\",\"type2\",\"type1\",\"type2\",\"type1\",\"type1\",]})"
   ]
  },
  {
   "cell_type": "code",
   "execution_count": null,
   "id": "2AmH2BHEp34X",
   "metadata": {
    "id": "2AmH2BHEp34X"
   },
   "outputs": [],
   "source": [
    "ppdo = pd.get_dummies(ppd[\"Type\"], prefix=\"category\")"
   ]
  },
  {
   "cell_type": "code",
   "execution_count": null,
   "id": "p0ivlLV7qYBD",
   "metadata": {
    "id": "p0ivlLV7qYBD"
   },
   "outputs": [],
   "source": [
    "ppd = pd.concat([ppd, ppdo], axis=1)\n",
    "correlation_matrix = ppd.corr()"
   ]
  },
  {
   "cell_type": "markdown",
   "id": "g1LCfkaUFg48",
   "metadata": {
    "id": "g1LCfkaUFg48"
   },
   "source": [
    "## 数据关联分析"
   ]
  },
  {
   "cell_type": "code",
   "execution_count": null,
   "id": "MK_UdMZYF1ve",
   "metadata": {
    "id": "MK_UdMZYF1ve"
   },
   "outputs": [],
   "source": [
    "df = pd.DataFrame({'A': [1, 2, 3, 4, 5], 'B': [2, 4, 6, 8, 10], 'C': [5, 4, 3, 2, 1]})"
   ]
  },
  {
   "cell_type": "markdown",
   "id": "abDxKsVfFzjo",
   "metadata": {
    "id": "abDxKsVfFzjo"
   },
   "source": [
    "### corr\n",
    "\n",
    "这将返回一个相关性矩阵，显示每对列之间的 Pearson 相关系数（默认情况下）。"
   ]
  },
  {
   "cell_type": "code",
   "execution_count": null,
   "id": "6cxtZ4MtF640",
   "metadata": {
    "id": "6cxtZ4MtF640"
   },
   "outputs": [],
   "source": [
    "df.corr()"
   ]
  },
  {
   "cell_type": "markdown",
   "id": "n_yYxh2NGLgH",
   "metadata": {
    "id": "n_yYxh2NGLgH"
   },
   "source": [
    "### 分析分类变量之间的关系"
   ]
  },
  {
   "cell_type": "code",
   "execution_count": null,
   "id": "PCLTtVZHGgRI",
   "metadata": {
    "id": "PCLTtVZHGgRI"
   },
   "outputs": [],
   "source": [
    "df = pd.DataFrame({'Gender': ['M', 'F', 'M', 'F', 'M'], 'Job': ['Engineer', 'Doctor', 'Engineer', 'Doctor', 'Engineer']})"
   ]
  },
  {
   "cell_type": "code",
   "execution_count": null,
   "id": "NK_fsxAvGML3",
   "metadata": {
    "id": "NK_fsxAvGML3"
   },
   "outputs": [],
   "source": [
    "# 可以使用 crosstab 函数创建一个交叉表，以查看 'Gender' 和 'Job' 之间的关系：这将返回一个交叉表，显示每个性别和职业组合的频数\n",
    "pd.crosstab(df['Gender'], df['Job'])"
   ]
  },
  {
   "cell_type": "markdown",
   "id": "mFTDlzfeGZH3",
   "metadata": {
    "id": "mFTDlzfeGZH3"
   },
   "source": [
    "### 计算列之间的其他相关性度量"
   ]
  },
  {
   "cell_type": "code",
   "execution_count": null,
   "id": "L1HI0EceGg1L",
   "metadata": {
    "id": "L1HI0EceGg1L"
   },
   "outputs": [],
   "source": [
    "df = pd.DataFrame({'Gender': ['M', 'F', 'M', 'F', 'M'], 'Job': ['Engineer', 'Doctor', 'Engineer', 'Doctor', 'Engineer']})"
   ]
  },
  {
   "cell_type": "code",
   "execution_count": null,
   "id": "gfK2pxxOGZ2j",
   "metadata": {
    "id": "gfK2pxxOGZ2j"
   },
   "outputs": [],
   "source": [
    "df.corr(method='spearman')"
   ]
  },
  {
   "cell_type": "code",
   "execution_count": null,
   "id": "5BDofZtQGjqN",
   "metadata": {
    "id": "5BDofZtQGjqN"
   },
   "outputs": [],
   "source": [
    "df.corr(method='kendall')"
   ]
  },
  {
   "cell_type": "markdown",
   "id": "T4Mmom-5GoXv",
   "metadata": {
    "id": "T4Mmom-5GoXv"
   },
   "source": [
    "### 使用卡方检验分析分类变量之间的关系\n",
    "\n",
    "可以对分类变量进行卡方检验，以确定它们之间是否存在统计学上的关联。在这个例子中，我们将使用 scipy.stats 中的 chi2_contingency 函数：这将计算卡方统计量、p 值、自由度和期望频率。根据 p 值，我们可以判断分类变量之间是否存在关联。"
   ]
  },
  {
   "cell_type": "code",
   "execution_count": null,
   "id": "KqNfNhiXGsY6",
   "metadata": {
    "id": "KqNfNhiXGsY6"
   },
   "outputs": [],
   "source": [
    "from scipy.stats import chi2_contingency\n",
    "\n",
    "df = pd.DataFrame({'Gender': ['M', 'F', 'M', 'F', 'M'], 'Job': ['Engineer', 'Doctor', 'Engineer', 'Doctor', 'Engineer']})\n",
    "crosstab = pd.crosstab(df['Gender'], df['Job'])\n",
    "\n",
    "chi2, p_value, dof, expected_freq = chi2_contingency(crosstab)"
   ]
  },
  {
   "cell_type": "markdown",
   "id": "V0ohGCAlHh9L",
   "metadata": {
    "id": "V0ohGCAlHh9L"
   },
   "source": [
    "## 数据重塑与透视"
   ]
  },
  {
   "cell_type": "code",
   "execution_count": null,
   "id": "7YVQTgASHj4_",
   "metadata": {
    "id": "7YVQTgASHj4_"
   },
   "outputs": [],
   "source": [
    "df = pd.DataFrame({\n",
    "    \"Region\": [\"North\", \"South\", \"West\", \"East\"],\n",
    "    \"Sales\": [1000, 1500, 1200, 1800],\n",
    "    \"Quantity\": [30, 45, 20, 60]\n",
    "})"
   ]
  },
  {
   "cell_type": "markdown",
   "id": "PIlx9FYHHl_f",
   "metadata": {
    "id": "PIlx9FYHHl_f"
   },
   "source": [
    "### 重塑"
   ]
  },
  {
   "cell_type": "code",
   "execution_count": null,
   "id": "WrXfbyRTHvdQ",
   "metadata": {
    "id": "WrXfbyRTHvdQ"
   },
   "outputs": [],
   "source": [
    "# melt 将宽格式数据转换为长格式数据\n",
    "melted_df = df.melt(id_vars=[\"Region\"], var_name=\"Metric\", value_name=\"Value\")"
   ]
  },
  {
   "cell_type": "code",
   "execution_count": null,
   "id": "Y2IDx7fKHzh7",
   "metadata": {
    "id": "Y2IDx7fKHzh7"
   },
   "outputs": [],
   "source": [
    "# pivot 将长格式数据转换为宽格式数据\n",
    "pivoted_df = melted_df.pivot(index=\"Region\", columns=\"Metric\", values=\"Value\")"
   ]
  },
  {
   "cell_type": "code",
   "execution_count": null,
   "id": "N3Hl6_eUH3A8",
   "metadata": {
    "id": "N3Hl6_eUH3A8"
   },
   "outputs": [],
   "source": [
    "# 使用 stack 将列转换为行\n",
    "stacked_df = df.set_index(\"Region\").stack().reset_index().rename(columns={\"level_1\": \"Metric\", 0: \"Value\"})"
   ]
  },
  {
   "cell_type": "code",
   "execution_count": null,
   "id": "c4IMy9CrH3Hh",
   "metadata": {
    "id": "c4IMy9CrH3Hh"
   },
   "outputs": [],
   "source": [
    "# 使用 unstack 将行转换为列\n",
    "unstacked_df = stacked_df.set_index([\"Region\", \"Metric\"]).unstack().reset_index()"
   ]
  },
  {
   "cell_type": "markdown",
   "id": "PtLjh3MsIDm0",
   "metadata": {
    "id": "PtLjh3MsIDm0"
   },
   "source": [
    "### 透视"
   ]
  },
  {
   "cell_type": "code",
   "execution_count": null,
   "id": "kR6fMN3KH6wM",
   "metadata": {
    "id": "kR6fMN3KH6wM"
   },
   "outputs": [],
   "source": [
    "# 使用 pivot_table 创建数据透视表\n",
    "df = pd.DataFrame({\n",
    "    \"Region\": [\"North\", \"North\", \"South\", \"South\", \"West\", \"West\", \"East\", \"East\"],\n",
    "    \"Product\": [\"A\", \"B\", \"A\", \"B\", \"A\", \"B\", \"A\", \"B\"],\n",
    "    \"Sales\": [1000, 1200, 1500, 1600, 1200, 1300, 1800, 1900],\n",
    "    \"Quantity\": [30, 35, 45, 50, 20, 25, 60, 65]\n",
    "})\n",
    "# 创建数据透视表\n",
    "pd.pivot_table(df, index=\"Region\", columns=\"Product\", values=[\"Sales\", \"Quantity\"], aggfunc=\"sum\")"
   ]
  },
  {
   "cell_type": "markdown",
   "id": "b09bf3a5",
   "metadata": {
    "id": "b09bf3a5"
   },
   "source": [
    "## 错误"
   ]
  },
  {
   "cell_type": "markdown",
   "id": "FX_wVeMJK5iP",
   "metadata": {
    "id": "FX_wVeMJK5iP"
   },
   "source": [
    "SettingWithCopyWarning 报警复现、原因、解决方案 在pandas中，要么使用loc，要么先copy\n",
    "\n",
    "忽略报警"
   ]
  },
  {
   "cell_type": "code",
   "execution_count": null,
   "id": "89776b69",
   "metadata": {
    "id": "89776b69"
   },
   "outputs": [],
   "source": [
    "import warnings\n",
    "warnings.filterwarnings ('ignore')"
   ]
  }
 ],
 "metadata": {
  "colab": {
   "collapsed_sections": [
    "2d31d2d7",
    "3c5e48c2",
    "78c470ea",
    "cdf4aea2",
    "8e840f0f",
    "yCSdroexO0PN",
    "WMze25VnJFNa",
    "MIvtWpCtJve4",
    "iAVhQtJZJws2",
    "xOZ_ByH3lBQg",
    "k4CUVZCJdWIG",
    "nD5U2cZ7sUTq",
    "eskZcdPN-ErJ",
    "W-igCtbSm1w2",
    "C4NdfSvtsAZN",
    "KZNZed2hsDwQ",
    "_8fgu-v2yWOM",
    "puLeG1aWsFjO",
    "922jC5hnsI39",
    "e99HfHiaHlPl",
    "J7F8XYjtIz7Y",
    "fUn-owP2S8Sz",
    "DBGOqkrjc_Rn",
    "zBMeIU3sf3If",
    "apHcRxuehmQc",
    "OEGK6bHujg0g",
    "0agU6OifTCJF",
    "A_j3_DVYQh7p",
    "7blomX1sRFwI",
    "NIh9-8Kdj0Y-",
    "IRT8l897VtBM",
    "i402SN1U7rSt",
    "geC0iN_m-B0b",
    "QtaHprAN_Guc",
    "7VpofLk3ASdt",
    "zPkOkNuyC7Qv"
   ],
   "provenance": [],
   "toc_visible": true
  },
  "gpuClass": "standard",
  "kernelspec": {
   "display_name": "Python 3 (ipykernel)",
   "language": "python",
   "name": "python3"
  },
  "language_info": {
   "codemirror_mode": {
    "name": "ipython",
    "version": 3
   },
   "file_extension": ".py",
   "mimetype": "text/x-python",
   "name": "python",
   "nbconvert_exporter": "python",
   "pygments_lexer": "ipython3",
   "version": "3.9.12"
  },
  "latex_envs": {
   "LaTeX_envs_menu_present": true,
   "autoclose": false,
   "autocomplete": true,
   "bibliofile": "biblio.bib",
   "cite_by": "apalike",
   "current_citInitial": 1,
   "eqLabelWithNumbers": true,
   "eqNumInitial": 1,
   "hotkeys": {
    "equation": "Ctrl-E",
    "itemize": "Ctrl-I"
   },
   "labels_anchors": false,
   "latex_user_defs": false,
   "report_style_numbering": false,
   "user_envs_cfg": false
  },
  "toc": {
   "base_numbering": 1,
   "nav_menu": {},
   "number_sections": true,
   "sideBar": true,
   "skip_h1_title": false,
   "title_cell": "Table of Contents",
   "title_sidebar": "Contents",
   "toc_cell": false,
   "toc_position": {
    "height": "calc(100% - 180px)",
    "left": "10px",
    "top": "150px",
    "width": "360px"
   },
   "toc_section_display": true,
   "toc_window_display": true
  }
 },
 "nbformat": 4,
 "nbformat_minor": 5
}
