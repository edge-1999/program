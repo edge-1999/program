{
 "cells": [
  {
   "cell_type": "markdown",
   "source": [
    "# Socket"
   ],
   "metadata": {
    "collapsed": false
   }
  },
  {
   "cell_type": "code",
   "execution_count": null,
   "outputs": [],
   "source": [
    "import select\n",
    "import socket\n",
    "import os\n",
    "import sys\n",
    "import struct\n",
    "import time"
   ],
   "metadata": {
    "collapsed": false
   }
  },
  {
   "cell_type": "markdown",
   "source": [
    "## IO多路复用"
   ],
   "metadata": {
    "collapsed": false
   }
  },
  {
   "cell_type": "code",
   "execution_count": null,
   "outputs": [],
   "source": [
    "# client 客户端\n",
    "obj = socket.socket()\n",
    "\n",
    "obj.connect(('127.0.0.1', 8801))\n",
    "\n",
    "while True:\n",
    "    inp = input(\"Please(q\\退出):\\n>>>\")\n",
    "    obj.sendall(bytes(inp, encoding=\"utf-8\"))\n",
    "    if inp == \"q\":\n",
    "        break\n",
    "    ret = str(obj.recv(1024), encoding=\"utf-8\")\n",
    "    print(ret)"
   ],
   "metadata": {
    "collapsed": false
   }
  },
  {
   "cell_type": "code",
   "execution_count": null,
   "outputs": [],
   "source": [
    "# 服务端 service\n",
    "sk1 = socket.socket()\n",
    "sk1.bind((\"127.0.0.1\", 8001))\n",
    "sk1.listen()\n",
    "inputs = [sk1]\n",
    "\n",
    "message_dic = {}\n",
    "outputs = []\n",
    "while True:\n",
    "    r_list, w_list, e_list = select.select(inputs, [], inputs, 1)\n",
    "    if r_list:\n",
    "        print(\"正在监听的socket对象%d\" % len(inputs))\n",
    "        print(r_list)\n",
    "\n",
    "    for sk1_or_conn in r_list:\n",
    "        if sk1_or_conn == sk1:\n",
    "            conn, address = sk1_or_conn.accept()\n",
    "            inputs.append(conn)\n",
    "            message_dic[conn] = []\n",
    "        else:\n",
    "            try:\n",
    "                data_bytes = sk1_or_conn.recv(1024)\n",
    "                data_str = str(data_bytes, encoding=\"utf-8\")\n",
    "                sk1_or_conn.sendall(bytes(data_str + \"好\", encoding=\"utf-8\"))\n",
    "            except Exception as ex:\n",
    "                inputs.remove(sk1_or_conn)\n",
    "            else:\n",
    "                data_str = str(data_bytes, encoding=\"utf-8\")\n",
    "                message_dic[sk1_or_conn].append(data_str)\n",
    "                outputs.append(sk1_or_conn)\n",
    "        for conn in w_list:\n",
    "            recv_str = message_dic[conn][0]\n",
    "            del message_dic[conn][0]\n",
    "            conn.sendall(bytes(recv_str + \"好\", encoding=\"utf-8\"))\n",
    "        for sk in e_list:\n",
    "            inputs.remove(sk)"
   ],
   "metadata": {
    "collapsed": false
   }
  },
  {
   "cell_type": "markdown",
   "source": [
    "## 文本传输"
   ],
   "metadata": {
    "collapsed": false
   }
  },
  {
   "cell_type": "code",
   "execution_count": null,
   "outputs": [],
   "source": [
    "# 客户端client\n",
    "def sock_client_image():\n",
    "    while True:\n",
    "        try:\n",
    "            s = socket.socket(socket.AF_INET, socket.SOCK_STREAM)\n",
    "            # 服务器和客户端在不同的系统或不同的主机下时使用的ip和端口，首先要查看服务器所在的系统网卡的ip\n",
    "            # 服务器和客户端都在一个系统下时使用的ip和端口\n",
    "            s.connect(('127.0.0.1', 8803))\n",
    "        except socket.error as msg:\n",
    "            print(msg)\n",
    "            print(sys.exit(1))\n",
    "        filepath = input('input the file: ')  # 输入当前目录下的图片名 xxx.jpg\n",
    "        # 将xxx.jpg以128sq的格式打包\n",
    "        fhead = struct.pack(b'128sq', bytes(os.path.basename(filepath), encoding='utf-8'), os.stat(filepath).st_size)\n",
    "        s.send(fhead)\n",
    "\n",
    "        fp = open(filepath, 'rb')  # 打开要传输的图片\n",
    "        while True:\n",
    "            data = fp.read(1024)  # 读入图片数据\n",
    "            if not data:\n",
    "                print('{0} send over...'.format(filepath))\n",
    "                break\n",
    "            s.send(data)  # 以二进制格式发送图片数据\n",
    "            s.close()\n",
    "        s.close()\n",
    "        break    # 循环发送"
   ],
   "metadata": {
    "collapsed": false
   }
  },
  {
   "cell_type": "code",
   "execution_count": null,
   "outputs": [],
   "source": [
    "# 服务端service\n",
    "def socket_service_image():\n",
    "    try:\n",
    "        s = socket.socket(socket.AF_INET, socket.SOCK_STREAM)\n",
    "        s.setsockopt(socket.SOL_SOCKET, socket.SO_REUSEADDR, 1)\n",
    "        s.bind(('127.0.0.1', 8803))\n",
    "        s.listen(10)\n",
    "    except socket.error as msg:\n",
    "        print(msg)\n",
    "        sys.exit(1)\n",
    "\n",
    "    print(\"Wait for Connection.....................\")\n",
    "\n",
    "    while True:\n",
    "        print(s.accept())\n",
    "        sock, addr = s.accept()  # addr是一个元组(ip,port)\n",
    "        deal_image(sock, addr)\n",
    "\n",
    "\n",
    "def deal_image(sock, addr):\n",
    "    print(\"Accept connection from {0}\".format(addr))  # 查看发送端的ip和端口\n",
    "    while True:\n",
    "        fileinfosize = struct.calcsize('128sq')\n",
    "        print('fileinfosize is', fileinfosize)\n",
    "        buf = sock.recv(fileinfosize)  # 接收图片名\n",
    "        print('buf is ', buf)\n",
    "        if buf:\n",
    "            filename, filesize = struct.unpack('128sq', buf)\n",
    "            print('filename is {} ,filesize is {}'.format(filename.decode(), filesize))\n",
    "            fn = filename.decode().strip('\\x00')\n",
    "            print('fn is ', fn)\n",
    "            # 在服务器端新建图片名（可以不用新建的，直接用原来的也行，只要客户端和服务器不是同一个系统或接收到的图片和原图片不在一个文件夹下）\n",
    "            new_filename = os.path.join('./', 'new_' + fn)\n",
    "\n",
    "            recvd_size = 0\n",
    "            fp = open(new_filename, 'wb')\n",
    "\n",
    "            while not recvd_size == filesize:\n",
    "                if filesize - recvd_size > 1024:\n",
    "                    data = sock.recv(1024)\n",
    "                    recvd_size += len(data)\n",
    "                else:\n",
    "                    data = sock.recv(1024)\n",
    "                    recvd_size = filesize\n",
    "                print('data is', data)\n",
    "                fp.write(data)  # 写入图片数据\n",
    "            fp.close()\n",
    "        sock.close()\n",
    "        break\n",
    "\n",
    "\n",
    "if __name__ == '__main__':\n",
    "    socket_service_image()"
   ],
   "metadata": {
    "collapsed": false
   }
  },
  {
   "cell_type": "markdown",
   "source": [
    "## 非阻塞"
   ],
   "metadata": {
    "collapsed": false
   }
  },
  {
   "cell_type": "code",
   "execution_count": null,
   "outputs": [],
   "source": [
    "# 客户端client\n",
    "client = socket.socket(socket.AF_INET, socket.SOCK_STREAM)\n",
    "# client.connect((socket.gethostbyname(socket.gethostname()), 8007))\n",
    "client.connect(('127.0.0.1', 8807))\n",
    "\n",
    "while True:\n",
    "    cRequest = input(\"send: \")\n",
    "    client.send(cRequest.encode())\n",
    "    if cRequest == \"quit\":\n",
    "        print(\"[+] Down line......\")\n",
    "        time.sleep(2)\n",
    "        client.close()\n",
    "        break"
   ],
   "metadata": {
    "collapsed": false
   }
  },
  {
   "cell_type": "code",
   "execution_count": null,
   "outputs": [],
   "source": [
    "# 服务端service\n",
    "server = socket.socket(socket.AF_INET, socket.SOCK_STREAM)\n",
    "server.setblocking(False)  # 将socket设置为非阻塞. 在创建socket对象后就进行该操作.\n",
    "\n",
    "# server.bind((socket.gethostbyname(socket.gethostname()), 8007))\n",
    "server.bind(('127.0.0.1', 8807))\n",
    "server.listen(5)\n",
    "\n",
    "client_list = []\n",
    "\n",
    "while True:\n",
    "    try:\n",
    "        connection, addr = server.accept()\n",
    "        client_list.append((connection, addr))\n",
    "        print(\"connected:{}\".format(addr))\n",
    "\n",
    "    # accept原本是阻塞的, 等待connect, 设置setblocking(False)后, accept不再阻塞,\n",
    "    # 它会(不断的轮询)要求必须有connect来连接, 不然就引发BlockingIOError, 所以为了在没有connect时,\n",
    "    # 我们捕捉这个异常并pass掉.\n",
    "    except BlockingIOError:\n",
    "        pass\n",
    "    for client_socket, client_addr in client_list:\n",
    "        try:\n",
    "            client_recv = client_socket.recv(1024)\n",
    "            if client_recv:\n",
    "                print(\"receive:{}>>>\\n{}\".format(client_addr, client_recv.decode('utf-8')))\n",
    "                client_socket.send(client_recv)\n",
    "\n",
    "            else:\n",
    "                client_socket.close()\n",
    "                print(\"downline:{}\".format(client_addr))\n",
    "                client_list.remove((client_socket, client_addr))\n",
    "\n",
    "        except (BlockingIOError, ConnectionResetError):\n",
    "            pass"
   ],
   "metadata": {
    "collapsed": false
   }
  }
 ],
 "metadata": {
  "kernelspec": {
   "display_name": "Python 3",
   "language": "python",
   "name": "python3"
  },
  "language_info": {
   "codemirror_mode": {
    "name": "ipython",
    "version": 2
   },
   "file_extension": ".py",
   "mimetype": "text/x-python",
   "name": "python",
   "nbconvert_exporter": "python",
   "pygments_lexer": "ipython2",
   "version": "2.7.6"
  }
 },
 "nbformat": 4,
 "nbformat_minor": 0
}
