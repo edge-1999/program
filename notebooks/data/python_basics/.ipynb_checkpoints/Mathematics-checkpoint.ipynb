{
 "cells": [
  {
   "cell_type": "code",
   "execution_count": null,
   "metadata": {
    "ExecuteTime": {
     "end_time": "2022-11-02T15:32:32.412196Z",
     "start_time": "2022-11-02T15:32:32.405183Z"
    }
   },
   "outputs": [],
   "source": [
    "import itertools"
   ]
  },
  {
   "cell_type": "markdown",
   "metadata": {},
   "source": [
    "# Math"
   ]
  },
  {
   "cell_type": "markdown",
   "metadata": {},
   "source": [
    "## 位运算"
   ]
  },
  {
   "cell_type": "code",
   "execution_count": null,
   "metadata": {},
   "outputs": [],
   "source": [
    "# 平均值\n",
    "# low + (high - low) / 2\n",
    "# (low / high) + (high / 2) + (low & high & 1)\n",
    "# (low & high) + (low ^ high) / 2  # 错误// 变体 (low ^ high) + (low & high) * 2"
   ]
  },
  {
   "cell_type": "code",
   "execution_count": null,
   "metadata": {},
   "outputs": [],
   "source": [
    "i = 10\n",
    "i = 0x5f3759df - (i >> 1)  # 平方根倒数"
   ]
  },
  {
   "cell_type": "code",
   "execution_count": null,
   "metadata": {
    "collapsed": true
   },
   "outputs": [],
   "source": [
    "# 非递归斐波那契\n",
    "def fibonacci(N):\n",
    "    if N <= 0:\n",
    "        return [0]\n",
    "    sequence = [0, 1]\n",
    "    while len(sequence) <= N:\n",
    "        next_value = (sequence[len(sequence) - 1] + sequence[len(sequence) - 2])\n",
    "        sequence.append(next_value)\n",
    "\n",
    "    return sequence"
   ]
  },
  {
   "cell_type": "code",
   "execution_count": null,
   "metadata": {
    "ExecuteTime": {
     "end_time": "2022-11-02T15:32:35.614429Z",
     "start_time": "2022-11-02T15:32:35.595238Z"
    }
   },
   "outputs": [],
   "source": [
    "# 字符串不同大小写结果集合\n",
    "def letterCasePermutation(S):\n",
    "    return map(\"\".join, itertools.product(*map(lambda x: (x.lower(), x.upper()) if x.isalpha() else x, S)))\n",
    "\n",
    "letterCasePermutation('abc-')"
   ]
  },
  {
   "cell_type": "markdown",
   "metadata": {},
   "source": [
    "## 滑动窗口"
   ]
  },
  {
   "cell_type": "markdown",
   "metadata": {},
   "source": [
    "class Solution:\n",
    "    def problemName(self, s: str) -> int:\n",
    "        # Step 1: 定义需要维护的变量们 (对于滑动窗口类题目，这些变量通常是最小长度，最大长度，或者哈希表)\n",
    "        x, y = ..., ...\n",
    "\n",
    "        # Step 2: 定义窗口的首尾端 (start, end)， 然后滑动窗口\n",
    "        start = 0\n",
    "        for end in range(len(s)):\n",
    "            # Step 3: 更新需要维护的变量, 有的变量需要一个if语句来维护 (比如最大最小长度)\n",
    "            x = new_x\n",
    "            if condition:\n",
    "                y = new_y\n",
    "\n",
    "            '''\n",
    "            ------------- 下面是两种情况，读者请根据题意二选1 -------------\n",
    "            '''\n",
    "            # Step 4 - 情况1\n",
    "            # 如果题目的窗口长度固定：用一个if语句判断一下当前窗口长度是否达到了限定长度\n",
    "            # 如果达到了，窗口左指针前移一个单位，从而保证下一次右指针右移时，窗口长度保持不变,\n",
    "            # 左指针移动之前, 先更新Step 1定义的(部分或所有)维护变量\n",
    "            if 窗口长度达到了限定长度:\n",
    "                # 更新 (部分或所有) 维护变量\n",
    "                # 窗口左指针前移一个单位保证下一次右指针右移时窗口长度保持不变\n",
    "\n",
    "            # Step 4 - 情况2\n",
    "            # 如果题目的窗口长度可变: 这个时候一般涉及到窗口是否合法的问题\n",
    "            # 如果当前窗口不合法时, 用一个while去不断移动窗口左指针, 从而剔除非法元素直到窗口再次合法\n",
    "            # 在左指针移动之前更新Step 1定义的(部分或所有)维护变量\n",
    "            while 不合法:\n",
    "                # 更新 (部分或所有) 维护变量\n",
    "                # 不断移动窗口左指针直到窗口再次合法\n",
    "\n",
    "        # Step 5: 返回答案\n",
    "        return ..."
   ]
  },
  {
   "cell_type": "markdown",
   "metadata": {},
   "source": [
    "### 无重复最长子字符串"
   ]
  },
  {
   "cell_type": "code",
   "execution_count": null,
   "metadata": {},
   "outputs": [],
   "source": [
    "class Solution:\n",
    "    def lengthOfLongestSubstring(self, s: str) -> int:\n",
    "        \"\"\"\n",
    "        现在看见寻找最长，不相同等等这种题目，都不想着用多次循环了，因为肯定会超时，这种寻找子串长度为了降低循环次数，基本都是用双指针，\n",
    "        所以接下来需要考虑的就是双指针如何使用了，双指针基本就两种情况，同时从一个边界出发，每次选择一个指针移动，直到到达边界；\n",
    "        另外一种情况就是双指针从两个边界出发，结束条件就是在中间相遇。本题中说寻找最长子串的长度，所以应该就是从一个边界同时出发，每次移动不同的指针。\n",
    "        双指针本质上就是确定每次移动的指针，不是第一个就是第二个，所以本题想找不重复的，那就碰到重复的移动一个指针，没有重复的移动另一个指针，\n",
    "        遇到重复的，就计算一下这两个指针的距离，就是最长子串的长度。\n",
    "        这是最初的思路，后来在纸上推演一个，发现是正确的。碰到重复的，就移动第一个左指针，此时不论重复的元素在什么位置，\n",
    "        都不会出现比刚刚未移动时更长的子串了，所以想法应该是正确的。\n",
    "        本题的解题思路在于求两个指针的距离，这时就存在一个问题，如果最长子串出现在最后面几位，最后一位也需要计算进去，\n",
    "        然后由于循环条件是第二个指针不能超过边界，所以这个时候就出现少了一个值的情况，我用了最笨的方法解决了这个问题，\n",
    "        就是先把字符串的最后一位重复放进去一次，这样子既解决了少一位的情况，也没有增加不重复子串的长度。这个解决的方式我觉得有点儿笨，但也没想到什么更好的。\n",
    "        :param s:\n",
    "        :return:\n",
    "        \"\"\"\n",
    "        if len(set(s)) <= 1: return len(set(s))\n",
    "\n",
    "        left = right = 0\n",
    "        n = len(s) - 1\n",
    "        max_num = 0\n",
    "        while left < n or right < n:\n",
    "            if left == right:\n",
    "                right += 1\n",
    "\n",
    "            while right <= n and s[right] not in s[left:right]:\n",
    "                right += 1\n",
    "\n",
    "            # max_num = max_num if max_num > right - left else right - left\n",
    "            max_num = max(max_num, right - left)\n",
    "            left += 1\n",
    "\n",
    "        return max_num\n",
    "\n",
    "\n",
    "class Solution:\n",
    "    def lengthOfLongestSubstring(self, s: str) -> int:\n",
    "        start = -1\n",
    "        max = 0\n",
    "        d = {}\n",
    "        for i in range(len(s)):\n",
    "            if s[i] in d and d[s[i]] > start:\n",
    "                start = d[s[i]]\n",
    "                d[s[i]] = i\n",
    "            else:\n",
    "                d[s[i]] = i\n",
    "                if i - start > max:\n",
    "                    max = i - start\n",
    "        return max\n",
    "\n",
    "\n",
    "class Solution:\n",
    "    def lengthOfLongestSubstring(self, s: str) -> int:\n",
    "        n = len(s)\n",
    "        if n < 2: return n\n",
    "        max_len = 0\n",
    "        temp = set()\n",
    "        left = right = 0\n",
    "        while right < n:\n",
    "            if s[right] not in temp:\n",
    "                max_len = max(max_len, right - left + 1)\n",
    "                temp.add(s[right])\n",
    "                right += 1\n",
    "            else:\n",
    "                temp.remove(s[left])\n",
    "                left += 1\n",
    "        return max_len\n",
    "\n",
    "\n",
    "class Solution1:\n",
    "    def lengthOfLongestSubstring(self, s: str) -> int:\n",
    "        # 哈希集合，记录每个字符是否出现过\n",
    "        occ = set()\n",
    "        n = len(s)\n",
    "        # 右指针，初始值为 -1，相当于我们在字符串的左边界的左侧，还没有开始移动\n",
    "        rk, ans = -1, 0\n",
    "        for i in range(n):\n",
    "            if i != 0:\n",
    "                # 左指针向右移动一格，移除一个字符\n",
    "                occ.remove(s[i - 1])\n",
    "            while rk + 1 < n and s[rk + 1] not in occ:\n",
    "                # 不断地移动右指针\n",
    "                occ.add(s[rk + 1])\n",
    "                rk += 1\n",
    "            # 第 i 到 rk 个字符是一个极长的无重复字符子串\n",
    "            ans = max(ans, rk - i + 1)\n",
    "        return ans\n",
    "\n",
    "\n",
    "Solution1().lengthOfLongestSubstring('abcabcabca')"
   ]
  },
  {
   "cell_type": "markdown",
   "metadata": {},
   "source": [
    "## 递归"
   ]
  },
  {
   "cell_type": "markdown",
   "metadata": {},
   "source": [
    "### 两数相加"
   ]
  },
  {
   "cell_type": "code",
   "execution_count": null,
   "metadata": {},
   "outputs": [],
   "source": [
    "# Definition for singly-linked list.\n",
    "import json\n",
    "\n",
    "\n",
    "class ListNode:\n",
    "    def __init__(self, val=0, next=None):\n",
    "        self.val = val\n",
    "        self.next = next\n",
    "\n",
    "\n",
    "class Solution:\n",
    "    def addTwoNumbers(self, l1: ListNode, l2: ListNode) -> ListNode:\n",
    "        def dfs(l, r, i):\n",
    "            if not l and not r and not i: return None\n",
    "            s = (l.val if l else 0) + (r.val if r else 0) + i\n",
    "            node = ListNode(s % 10)\n",
    "            node.next = dfs(l.next if l else None, r.next if r else None, s // 10)\n",
    "            return node\n",
    "\n",
    "        return dfs(l1, l2, 0)\n",
    "\n",
    "\n",
    "def stringToIntegerList(input):\n",
    "    return json.loads(input)\n",
    "\n",
    "\n",
    "def stringToListNode(input):\n",
    "    # Generate list from the input\n",
    "    numbers = stringToIntegerList(input)\n",
    "\n",
    "    # Now convert that list into linked list\n",
    "    dummyRoot = ListNode(0)\n",
    "    ptr = dummyRoot\n",
    "    for number in numbers:\n",
    "        ptr.next = ListNode(number)\n",
    "        ptr = ptr.next\n",
    "\n",
    "    ptr = dummyRoot.next\n",
    "    return ptr\n",
    "\n",
    "\n",
    "def listNodeToString(node):\n",
    "    if not node:\n",
    "        return \"[]\"\n",
    "\n",
    "    result = \"\"\n",
    "    while node:\n",
    "        result += str(node.val) + \", \"\n",
    "        node = node.next\n",
    "    return \"[\" + result[:-2] + \"]\"\n",
    "\n",
    "\n",
    "def main():\n",
    "    import sys\n",
    "    import io\n",
    "    def readlines():\n",
    "        for line in io.TextIOWrapper(sys.stdin.buffer, encoding='utf-8'):\n",
    "            yield line.strip('\\n')\n",
    "\n",
    "    lines = readlines()\n",
    "    while True:\n",
    "        try:\n",
    "            line = next(lines)\n",
    "            l1 = stringToListNode(line)\n",
    "            line = next(lines)\n",
    "            l2 = stringToListNode(line)\n",
    "\n",
    "            ret = Solution().addTwoNumbers(l1, l2)\n",
    "\n",
    "            out = listNodeToString(ret)\n",
    "            print(out)\n",
    "        except StopIteration:\n",
    "            break\n",
    "\n",
    "\n",
    "if __name__ == '__main__':\n",
    "    main()"
   ]
  },
  {
   "cell_type": "markdown",
   "metadata": {},
   "source": [
    "## 链表"
   ]
  },
  {
   "cell_type": "markdown",
   "metadata": {},
   "source": [
    "### 。。。"
   ]
  },
  {
   "cell_type": "code",
   "execution_count": null,
   "metadata": {},
   "outputs": [],
   "source": [
    "class ListNode:\n",
    "    # Definition for singly-linked list.\n",
    "    def __init__(self, val=0, next=None):\n",
    "        self.val = val\n",
    "        self.next = None\n",
    "\n",
    "\n",
    "def stringToListNode(input):\n",
    "    dummyRoot = ListNode(0)\n",
    "    ptr = dummyRoot\n",
    "    for number in input:\n",
    "        ptr.next = ListNode(number)\n",
    "        ptr = ptr.next\n",
    "\n",
    "    ptr = dummyRoot.next\n",
    "    return ptr\n",
    "\n",
    "\n",
    "def listNodeToString(node):\n",
    "    if not node:\n",
    "        return \"[]\"\n",
    "\n",
    "    result = \"\"\n",
    "    while node:\n",
    "        result += str(node.val) + \", \"\n",
    "        node = node.next\n",
    "    return \"[\" + result[:-2] + \"]\"\n",
    "\n",
    "\n",
    "def init_list(data):\n",
    "    # 初始化链表\n",
    "    head = ListNode(data[0])\n",
    "    r = head\n",
    "    p = head\n",
    "    # print('p的id: ', id(p), ', r的id: ', id(r))\n",
    "    for i in data[1:]:\n",
    "        p.next = ListNode(i)\n",
    "        # print('p的id: ', id(p), ', r的id: ', id(r))\n",
    "        p = p.next  # p的引用在变，链接着下一个的节点，并更新属性\n",
    "        # print('下个p的id: ', id(p), ', r.next的id: ', id(r.next))\n",
    "    return r\n",
    "\n",
    "\n",
    "class Solution:\n",
    "    def addTwoNumbers(self, l1: ListNode, l2: ListNode) -> ListNode:\n",
    "        def dfs(l, r, i):\n",
    "            if not l and not r and not i: return None\n",
    "            s = (l.val if l else 0) + (r.val if r else 0) + i\n",
    "            node = ListNode(s % 10)\n",
    "            node.next = dfs(l.next if l else None, r.next if r else None, s // 10)\n",
    "            return node\n",
    "\n",
    "        return dfs(l1, l2, 0)\n",
    "\n",
    "\n",
    "l1 = [2, 4, 3]\n",
    "l2 = [5, 6, 4]\n",
    "ret = Solution().addTwoNumbers(stringToListNode(l1), stringToListNode(l2))\n",
    "out = listNodeToString(ret)\n",
    "print(out)"
   ]
  },
  {
   "cell_type": "markdown",
   "metadata": {},
   "source": [
    "# 算法"
   ]
  },
  {
   "cell_type": "markdown",
   "metadata": {},
   "source": [
    "## 聚类"
   ]
  },
  {
   "cell_type": "code",
   "execution_count": null,
   "metadata": {},
   "outputs": [],
   "source": [
    "# 测试\n",
    "from numpy import where\n",
    "from sklearn.datasets import make_classification\n",
    "from matplotlib import pyplot\n",
    "\n",
    "# 定义数据集\n",
    "X, y = make_classification(n_samples=1000, n_features=2, n_informative=2, n_redundant=0, n_clusters_per_class=1,\n",
    "                           random_state=4)\n",
    "# 为每个类的样本创建散点图\n",
    "for class_value in range(2):\n",
    "    # 获取此类的示例的行索引\n",
    "    row_ix = where(y == class_value)\n",
    "    # 创建这些样本的散布\n",
    "    pyplot.scatter(X[row_ix, 0], X[row_ix, 1])\n",
    "# 绘制散点图\n",
    "pyplot.show()"
   ]
  },
  {
   "cell_type": "markdown",
   "metadata": {},
   "source": [
    "### BIRCH 聚类"
   ]
  },
  {
   "cell_type": "code",
   "execution_count": null,
   "metadata": {},
   "outputs": [],
   "source": [
    "# birch聚类\n",
    "from numpy import unique\n",
    "from numpy import where\n",
    "from sklearn.datasets import make_classification\n",
    "from sklearn.cluster import Birch\n",
    "from matplotlib import pyplot\n",
    "\n",
    "# 定义数据集\n",
    "X, _ = make_classification(\n",
    "    n_samples=1000, n_features=2, n_informative=2, n_redundant=0, n_clusters_per_class=1, random_state=4)\n",
    "# 定义模型\n",
    "model = Birch(threshold=0.01, n_clusters=2)\n",
    "# 适配模型\n",
    "model.fit(X)\n",
    "# 为每个示例分配一个集群\n",
    "yhat = model.predict(X)\n",
    "# 检索唯一群集\n",
    "clusters = unique(yhat)\n",
    "# 为每个群集的样本创建散点图\n",
    "for cluster in clusters:\n",
    "    # 获取此群集的示例的行索引\n",
    "    row_ix = where(yhat == cluster)\n",
    "    # 创建这些样本的散布\n",
    "    pyplot.scatter(X[row_ix, 0], X[row_ix, 1])\n",
    "# 绘制散点图\n",
    "pyplot.show()"
   ]
  },
  {
   "cell_type": "markdown",
   "metadata": {},
   "source": [
    "### DBSCAN 聚类"
   ]
  },
  {
   "cell_type": "code",
   "execution_count": null,
   "metadata": {},
   "outputs": [],
   "source": [
    "# dbscan 聚类\n",
    "from numpy import unique\n",
    "from numpy import where\n",
    "from sklearn.datasets import make_classification\n",
    "from sklearn.cluster import DBSCAN\n",
    "from matplotlib import pyplot\n",
    "\n",
    "# 定义数据集\n",
    "X, _ = make_classification(n_samples=1000, n_features=2, n_informative=2, n_redundant=0, n_clusters_per_class=1,\n",
    "                           random_state=4)\n",
    "# 定义模型\n",
    "model = DBSCAN(eps=0.30, min_samples=9)\n",
    "# 模型拟合与聚类预测\n",
    "yhat = model.fit_predict(X)\n",
    "# 检索唯一群集\n",
    "clusters = unique(yhat)\n",
    "# 为每个群集的样本创建散点图\n",
    "for cluster in clusters:\n",
    "    # 获取此群集的示例的行索引\n",
    "    row_ix = where(yhat == cluster)\n",
    "    # 创建这些样本的散布\n",
    "    pyplot.scatter(X[row_ix, 0], X[row_ix, 1])\n",
    "# 绘制散点图\n",
    "pyplot.show()"
   ]
  },
  {
   "cell_type": "markdown",
   "metadata": {},
   "source": [
    "### K-均值聚类"
   ]
  },
  {
   "cell_type": "code",
   "execution_count": null,
   "metadata": {},
   "outputs": [],
   "source": [
    "# k-means 聚类\n",
    "from numpy import unique\n",
    "from numpy import where\n",
    "from sklearn.datasets import make_classification\n",
    "from sklearn.cluster import KMeans\n",
    "from matplotlib import pyplot\n",
    "\n",
    "# 定义数据集\n",
    "X, _ = make_classification(n_samples=1000, n_features=2, n_informative=2, n_redundant=0, n_clusters_per_class=1,\n",
    "                           random_state=4)\n",
    "# 定义模型\n",
    "model = KMeans(n_clusters=2)\n",
    "# 模型拟合\n",
    "model.fit(X)\n",
    "# 为每个示例分配一个集群\n",
    "yhat = model.predict(X)\n",
    "# 检索唯一群集\n",
    "clusters = unique(yhat)\n",
    "# 为每个群集的样本创建散点图\n",
    "for cluster in clusters:\n",
    "    # 获取此群集的示例的行索引\n",
    "    row_ix = where(yhat == cluster)\n",
    "    # 创建这些样本的散布\n",
    "    pyplot.scatter(X[row_ix, 0], X[row_ix, 1])\n",
    "# 绘制散点图\n",
    "pyplot.show()"
   ]
  },
  {
   "cell_type": "markdown",
   "metadata": {},
   "source": [
    "### Mini-Batch K-均值"
   ]
  },
  {
   "cell_type": "code",
   "execution_count": null,
   "metadata": {},
   "outputs": [],
   "source": [
    "# mini-batch k均值聚类\n",
    "from numpy import unique\n",
    "from numpy import where\n",
    "from sklearn.datasets import make_classification\n",
    "from sklearn.cluster import MiniBatchKMeans\n",
    "from matplotlib import pyplot\n",
    "\n",
    "# 定义数据集\n",
    "X, _ = make_classification(n_samples=1000, n_features=2, n_informative=2, n_redundant=0, n_clusters_per_class=1,\n",
    "                           random_state=4)\n",
    "# 定义模型\n",
    "model = MiniBatchKMeans(n_clusters=2)\n",
    "# 模型拟合\n",
    "model.fit(X)\n",
    "# 为每个示例分配一个集群\n",
    "yhat = model.predict(X)\n",
    "# 检索唯一群集\n",
    "clusters = unique(yhat)\n",
    "# 为每个群集的样本创建散点图\n",
    "for cluster in clusters:\n",
    "    # 获取此群集的示例的行索引\n",
    "    row_ix = where(yhat == cluster)\n",
    "    # 创建这些样本的散布\n",
    "    pyplot.scatter(X[row_ix, 0], X[row_ix, 1])\n",
    "# 绘制散点图\n",
    "pyplot.show()"
   ]
  },
  {
   "cell_type": "markdown",
   "metadata": {},
   "source": [
    "### OPTICS 聚类"
   ]
  },
  {
   "cell_type": "code",
   "execution_count": null,
   "metadata": {},
   "outputs": [],
   "source": [
    "# optics聚类\n",
    "from numpy import unique\n",
    "from numpy import where\n",
    "from sklearn.datasets import make_classification\n",
    "from sklearn.cluster import OPTICS\n",
    "from matplotlib import pyplot\n",
    "\n",
    "# 定义数据集\n",
    "X, _ = make_classification(n_samples=1000, n_features=2, n_informative=2, n_redundant=0, n_clusters_per_class=1,\n",
    "                           random_state=4)\n",
    "# 定义模型\n",
    "model = OPTICS(eps=0.8, min_samples=10)\n",
    "# 模型拟合与聚类预测\n",
    "yhat = model.fit_predict(X)\n",
    "# 检索唯一群集\n",
    "clusters = unique(yhat)\n",
    "# 为每个群集的样本创建散点图\n",
    "for cluster in clusters:\n",
    "    # 获取此群集的示例的行索引\n",
    "    row_ix = where(yhat == cluster)\n",
    "    # 创建这些样本的散布\n",
    "    pyplot.scatter(X[row_ix, 0], X[row_ix, 1])\n",
    "# 绘制散点图\n",
    "pyplot.show()"
   ]
  },
  {
   "cell_type": "markdown",
   "metadata": {},
   "source": [
    "### 亲和力传播"
   ]
  },
  {
   "cell_type": "code",
   "execution_count": null,
   "metadata": {},
   "outputs": [],
   "source": [
    "# 亲和力传播聚类\n",
    "from numpy import unique\n",
    "from numpy import where\n",
    "from sklearn.datasets import make_classification\n",
    "from sklearn.cluster import AffinityPropagation\n",
    "from matplotlib import pyplot\n",
    "\n",
    "# 定义数据集\n",
    "X, _ = make_classification(n_samples=1000, n_features=2, n_informative=2, n_redundant=0, n_clusters_per_class=1,\n",
    "                           random_state=4)\n",
    "# 定义模型\n",
    "model = AffinityPropagation(damping=0.9)\n",
    "# 匹配模型\n",
    "model.fit(X)\n",
    "# 为每个示例分配一个集群\n",
    "yhat = model.predict(X)\n",
    "# 检索唯一群集\n",
    "clusters = unique(yhat)\n",
    "# 为每个群集的样本创建散点图\n",
    "for cluster in clusters:\n",
    "    # 获取此群集的示例的行索引\n",
    "    row_ix = where(yhat == cluster)\n",
    "    # 创建这些样本的散布\n",
    "    pyplot.scatter(X[row_ix, 0], X[row_ix, 1])\n",
    "# 绘制散点图\n",
    "pyplot.show()"
   ]
  },
  {
   "cell_type": "markdown",
   "metadata": {},
   "source": [
    "### 光谱聚类"
   ]
  },
  {
   "cell_type": "code",
   "execution_count": null,
   "metadata": {},
   "outputs": [],
   "source": [
    "# spectral clustering\n",
    "from numpy import unique\n",
    "from numpy import where\n",
    "from sklearn.datasets import make_classification\n",
    "from sklearn.cluster import SpectralClustering\n",
    "from matplotlib import pyplot\n",
    "\n",
    "# 定义数据集\n",
    "X, _ = make_classification(n_samples=1000, n_features=2, n_informative=2, n_redundant=0, n_clusters_per_class=1,\n",
    "                           random_state=4)\n",
    "# 定义模型\n",
    "model = SpectralClustering(n_clusters=2)\n",
    "# 模型拟合与聚类预测\n",
    "yhat = model.fit_predict(X)\n",
    "# 检索唯一群集\n",
    "clusters = unique(yhat)\n",
    "# 为每个群集的样本创建散点图\n",
    "for cluster in clusters:\n",
    "    # 获取此群集的示例的行索引\n",
    "    row_ix = where(yhat == cluster)\n",
    "    # 创建这些样本的散布\n",
    "    pyplot.scatter(X[row_ix, 0], X[row_ix, 1])\n",
    "# 绘制散点图\n",
    "pyplot.show()"
   ]
  },
  {
   "cell_type": "markdown",
   "metadata": {},
   "source": [
    "### 均值漂移聚类"
   ]
  },
  {
   "cell_type": "code",
   "execution_count": null,
   "metadata": {},
   "outputs": [],
   "source": [
    "# 均值漂移聚类\n",
    "from numpy import unique\n",
    "from numpy import where\n",
    "from sklearn.datasets import make_classification\n",
    "from sklearn.cluster import MeanShift\n",
    "from matplotlib import pyplot\n",
    "\n",
    "# 定义数据集\n",
    "X, _ = make_classification(n_samples=1000, n_features=2, n_informative=2, n_redundant=0, n_clusters_per_class=1,\n",
    "                           random_state=4)\n",
    "# 定义模型\n",
    "model = MeanShift()\n",
    "# 模型拟合与聚类预测\n",
    "yhat = model.fit_predict(X)\n",
    "# 检索唯一群集\n",
    "clusters = unique(yhat)\n",
    "# 为每个群集的样本创建散点图\n",
    "for cluster in clusters:\n",
    "    # 获取此群集的示例的行索引\n",
    "    row_ix = where(yhat == cluster)\n",
    "    # 创建这些样本的散布\n",
    "    pyplot.scatter(X[row_ix, 0], X[row_ix, 1])\n",
    "# 绘制散点图\n",
    "pyplot.show()"
   ]
  },
  {
   "cell_type": "markdown",
   "metadata": {},
   "source": [
    "### 聚合聚类"
   ]
  },
  {
   "cell_type": "code",
   "execution_count": null,
   "metadata": {},
   "outputs": [],
   "source": [
    "# 聚合聚类\n",
    "from numpy import unique\n",
    "from numpy import where\n",
    "from sklearn.datasets import make_classification\n",
    "from sklearn.cluster import AgglomerativeClustering\n",
    "from matplotlib import pyplot\n",
    "\n",
    "# 定义数据集\n",
    "X, _ = make_classification(n_samples=1000, n_features=2, n_informative=2, n_redundant=0, n_clusters_per_class=1,\n",
    "                           random_state=4)\n",
    "# 定义模型\n",
    "model = AgglomerativeClustering(n_clusters=2)\n",
    "# 模型拟合与聚类预测\n",
    "yhat = model.fit_predict(X)\n",
    "# 检索唯一群集\n",
    "clusters = unique(yhat)\n",
    "# 为每个群集的样本创建散点图\n",
    "for cluster in clusters:\n",
    "    # 获取此群集的示例的行索引\n",
    "    row_ix = where(yhat == cluster)\n",
    "    # 创建这些样本的散布\n",
    "    pyplot.scatter(X[row_ix, 0], X[row_ix, 1])\n",
    "# 绘制散点图\n",
    "pyplot.show()"
   ]
  },
  {
   "cell_type": "markdown",
   "metadata": {},
   "source": [
    "### 高斯混合模型"
   ]
  },
  {
   "cell_type": "code",
   "execution_count": null,
   "metadata": {},
   "outputs": [],
   "source": [
    "# 高斯混合模型\n",
    "from numpy import unique\n",
    "from numpy import where\n",
    "from sklearn.datasets import make_classification\n",
    "from sklearn.mixture import GaussianMixture\n",
    "from matplotlib import pyplot\n",
    "\n",
    "# 定义数据集\n",
    "X, _ = make_classification(n_samples=1000, n_features=2, n_informative=2, n_redundant=0, n_clusters_per_class=1,\n",
    "                           random_state=4)\n",
    "# 定义模型\n",
    "model = GaussianMixture(n_components=2)\n",
    "# 模型拟合\n",
    "model.fit(X)\n",
    "# 为每个示例分配一个集群\n",
    "yhat = model.predict(X)\n",
    "# 检索唯一群集\n",
    "clusters = unique(yhat)\n",
    "# 为每个群集的样本创建散点图\n",
    "for cluster in clusters:\n",
    "    # 获取此群集的示例的行索引\n",
    "    row_ix = where(yhat == cluster)\n",
    "    # 创建这些样本的散布\n",
    "    pyplot.scatter(X[row_ix, 0], X[row_ix, 1])\n",
    "# 绘制散点图\n",
    "pyplot.show()"
   ]
  },
  {
   "cell_type": "markdown",
   "metadata": {},
   "source": [
    "## 递归"
   ]
  },
  {
   "cell_type": "code",
   "execution_count": null,
   "metadata": {},
   "outputs": [],
   "source": [
    "# 数独\n",
    "from typing import List\n",
    "\n",
    "\n",
    "class Solution:\n",
    "    def solveSudoku(self, board: List[List[str]]) -> None:\n",
    "        nums = {\"1\", \"2\", \"3\", \"4\", \"5\", \"6\", \"7\", \"8\", \"9\"}\n",
    "        row, col = [set() for _ in range(9)], [set() for _ in range(9)]\n",
    "        palace = [[set() for _ in range(3)] for _ in range(3)]\n",
    "        blank = []\n",
    "\n",
    "        for i in range(9):\n",
    "            for j in range(9):\n",
    "                ch = board[i][j]\n",
    "                if ch == \".\":\n",
    "                    blank.append((i, j))\n",
    "                else:\n",
    "                    row[i].add(ch)\n",
    "                    col[j].add(ch)\n",
    "                    palace[i // 3][j // 3].add(ch)\n",
    "\n",
    "        def dfs(n):\n",
    "            if n == len(blank):\n",
    "                return True\n",
    "            row_i, col_j = blank[n]\n",
    "            rst = nums - row[row_i] - col[col_j] - palace[row_i // 3][col_j // 3]  # 剩余的数字\n",
    "            # rst = nums - (row[i] | col[j] | palace[i//3][j//3])\n",
    "            if not rst:\n",
    "                return False\n",
    "            for num in rst:\n",
    "                board[row_i][col_j] = num\n",
    "                row[row_i].add(num)\n",
    "                col[col_j].add(num)\n",
    "                palace[row_i // 3][col_j // 3].add(num)\n",
    "                if dfs(n + 1):\n",
    "                    return True\n",
    "                row[row_i].remove(num)\n",
    "                col[col_j].remove(num)\n",
    "                palace[row_i // 3][col_j // 3].remove(num)\n",
    "                board[row_i][col_j] = \".\"\n",
    "\n",
    "        dfs(0)\n",
    "\n",
    "\n",
    "board = [\n",
    "    [\"5\", \"3\", \".\", \".\", \"7\", \".\", \".\", \".\", \".\"],\n",
    "    [\"6\", \".\", \".\", \"1\", \"9\", \"5\", \".\", \".\", \".\"],\n",
    "    [\".\", \"9\", \"8\", \".\", \".\", \".\", \".\", \"6\", \".\"],\n",
    "    [\"8\", \".\", \".\", \".\", \"6\", \".\", \".\", \".\", \"3\"],\n",
    "    [\"4\", \".\", \".\", \"8\", \".\", \"3\", \".\", \".\", \"1\"],\n",
    "    [\"7\", \".\", \".\", \".\", \"2\", \".\", \".\", \".\", \"6\"],\n",
    "    [\".\", \"6\", \".\", \".\", \".\", \".\", \"2\", \"8\", \".\"],\n",
    "    [\".\", \".\", \".\", \"4\", \"1\", \"9\", \".\", \".\", \"5\"],\n",
    "    [\".\", \".\", \".\", \".\", \"8\", \".\", \".\", \"7\", \"9\"]\n",
    "]\n",
    "\n",
    "Solution().solveSudoku(board)\n",
    "\n",
    "out_board = [\n",
    "    ['5', '3', '4', '6', '7', '8', '9', '1', '2'],\n",
    "    ['6', '7', '2', '1', '9', '5', '3', '4', '8'],\n",
    "    ['1', '9', '8', '3', '4', '2', '5', '6', '7'],\n",
    "    ['8', '5', '9', '7', '6', '1', '4', '2', '3'],\n",
    "    ['4', '2', '6', '8', '5', '3', '7', '9', '1'],\n",
    "    ['7', '1', '3', '9', '2', '4', '8', '5', '6'],\n",
    "    ['9', '6', '1', '5', '3', '7', '2', '8', '4'],\n",
    "    ['2', '8', '7', '4', '1', '9', '6', '3', '5'],\n",
    "    ['3', '4', '5', '2', '8', '6', '1', '7', '9']\n",
    "]"
   ]
  },
  {
   "cell_type": "markdown",
   "metadata": {},
   "source": [
    "# tool"
   ]
  },
  {
   "cell_type": "markdown",
   "metadata": {},
   "source": [
    "## 列表元素重复次数"
   ]
  },
  {
   "cell_type": "code",
   "execution_count": null,
   "metadata": {},
   "outputs": [],
   "source": [
    "arr = [3,5,2,7,3,8,1,2,4,8,9,3]\n",
    "unique = set(arr)\n",
    "sorted(map(lambda x:x[0], filter(lambda x:x[0]==x[1], zip(unique, map(arr.count, unique)))))\n",
    "del unique, arr"
   ]
  },
  {
   "cell_type": "markdown",
   "metadata": {},
   "source": [
    "## 整数范围内累加1的和（包括自身）"
   ]
  },
  {
   "cell_type": "code",
   "execution_count": null,
   "metadata": {},
   "outputs": [],
   "source": [
    "def sum_li(a, b):\n",
    "    \"\"\"整数范围内累加1的和（包括自身）\n",
    "        :return a + b\n",
    "    \"\"\"\n",
    "    count = 0\n",
    "    if a < b:\n",
    "        for i in range(a, b + 1):\n",
    "            count += i\n",
    "        print(\"整数范围[{0}, {1}]内累加1的和:{2}\".format(a, b, count))\n",
    "        return count\n",
    "    return False"
   ]
  },
  {
   "cell_type": "markdown",
   "metadata": {},
   "source": [
    "## 两数之和"
   ]
  },
  {
   "cell_type": "code",
   "execution_count": null,
   "metadata": {},
   "outputs": [],
   "source": [
    "def two_sum(*args, **kwargs):\n",
    "    \"\"\"两数之和\n",
    "    给定一个整数数组 nums和一个整数目标值 target，请你在该数组中找出 和为目标值 target 的那两个整数，并返回它们的数组下标。\n",
    "    你可以假设每种输入只会对应一个答案。但是，数组中同一个元素在答案里不能重复出现。\n",
    "    进阶：你可以想出一个时间复杂度小于 O(n2) 的算法吗？\n",
    "    :return\n",
    "    \"\"\"\n",
    "    hashmap = {}\n",
    "    for i, num in enumerate(nums):\n",
    "        if hashmap.get(target - num) is not None:  # dict.get(key)->value\n",
    "            return [i, hashmap.get(target - num)]\n",
    "        hashmap[num] = i  # 这句不能放在if语句之前，解决list中有重复值或target-num=num的情况"
   ]
  }
 ],
 "metadata": {
  "kernelspec": {
   "display_name": "Python 3 (ipykernel)",
   "language": "python",
   "name": "python3"
  },
  "language_info": {
   "codemirror_mode": {
    "name": "ipython",
    "version": 3
   },
   "file_extension": ".py",
   "mimetype": "text/x-python",
   "name": "python",
   "nbconvert_exporter": "python",
   "pygments_lexer": "ipython3",
   "version": "3.10.4"
  },
  "latex_envs": {
   "LaTeX_envs_menu_present": true,
   "autoclose": false,
   "autocomplete": true,
   "bibliofile": "biblio.bib",
   "cite_by": "apalike",
   "current_citInitial": 1,
   "eqLabelWithNumbers": true,
   "eqNumInitial": 1,
   "hotkeys": {
    "equation": "Ctrl-E",
    "itemize": "Ctrl-I"
   },
   "labels_anchors": false,
   "latex_user_defs": false,
   "report_style_numbering": false,
   "user_envs_cfg": false
  },
  "toc": {
   "base_numbering": 1,
   "nav_menu": {},
   "number_sections": true,
   "sideBar": true,
   "skip_h1_title": false,
   "title_cell": "Table of Contents",
   "title_sidebar": "Contents",
   "toc_cell": false,
   "toc_position": {
    "height": "calc(100% - 180px)",
    "left": "10px",
    "top": "150px",
    "width": "302.390625px"
   },
   "toc_section_display": true,
   "toc_window_display": true
  }
 },
 "nbformat": 4,
 "nbformat_minor": 1
}
