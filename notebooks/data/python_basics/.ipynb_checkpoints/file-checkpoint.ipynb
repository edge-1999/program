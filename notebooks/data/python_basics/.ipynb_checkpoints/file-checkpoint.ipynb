{
 "cells": [
  {
   "cell_type": "markdown",
   "metadata": {
    "toc": true
   },
   "source": [
    "<h1>Table of Contents<span class=\"tocSkip\"></span></h1>\n",
    "<div class=\"toc\"><ul class=\"toc-item\"><li><span><a href=\"#python操作路径\" data-toc-modified-id=\"python操作路径-1\"><span class=\"toc-item-num\">1&nbsp;&nbsp;</span>python操作路径</a></span><ul class=\"toc-item\"><li><span><a href=\"#当前脚目录路径\" data-toc-modified-id=\"当前脚目录路径-1.1\"><span class=\"toc-item-num\">1.1&nbsp;&nbsp;</span>当前脚目录路径</a></span></li><li><span><a href=\"#判断路径\" data-toc-modified-id=\"判断路径-1.2\"><span class=\"toc-item-num\">1.2&nbsp;&nbsp;</span>判断路径</a></span></li></ul></li><li><span><a href=\"#基础库操作\" data-toc-modified-id=\"基础库操作-2\"><span class=\"toc-item-num\">2&nbsp;&nbsp;</span>基础库操作</a></span><ul class=\"toc-item\"><li><span><a href=\"#查看目录文件\" data-toc-modified-id=\"查看目录文件-2.1\"><span class=\"toc-item-num\">2.1&nbsp;&nbsp;</span>查看目录文件</a></span></li><li><span><a href=\"#创建文件文件夹\" data-toc-modified-id=\"创建文件文件夹-2.2\"><span class=\"toc-item-num\">2.2&nbsp;&nbsp;</span>创建文件文件夹</a></span></li><li><span><a href=\"#删除文件文件夹\" data-toc-modified-id=\"删除文件文件夹-2.3\"><span class=\"toc-item-num\">2.3&nbsp;&nbsp;</span>删除文件文件夹</a></span></li><li><span><a href=\"#判断文件文件夹\" data-toc-modified-id=\"判断文件文件夹-2.4\"><span class=\"toc-item-num\">2.4&nbsp;&nbsp;</span>判断文件文件夹</a></span></li><li><span><a href=\"#获取文件相关信息\" data-toc-modified-id=\"获取文件相关信息-2.5\"><span class=\"toc-item-num\">2.5&nbsp;&nbsp;</span>获取文件相关信息</a></span></li><li><span><a href=\"#文件文件夹移动复制\" data-toc-modified-id=\"文件文件夹移动复制-2.6\"><span class=\"toc-item-num\">2.6&nbsp;&nbsp;</span>文件文件夹移动复制</a></span></li><li><span><a href=\"#修改文件文件夹相关信息\" data-toc-modified-id=\"修改文件文件夹相关信息-2.7\"><span class=\"toc-item-num\">2.7&nbsp;&nbsp;</span>修改文件文件夹相关信息</a></span></li></ul></li><li><span><a href=\"#json操作\" data-toc-modified-id=\"json操作-3\"><span class=\"toc-item-num\">3&nbsp;&nbsp;</span>json操作</a></span><ul class=\"toc-item\"><li><span><a href=\"#在python操作json数据\" data-toc-modified-id=\"在python操作json数据-3.1\"><span class=\"toc-item-num\">3.1&nbsp;&nbsp;</span>在python操作json数据</a></span></li><li><span><a href=\"#数据与json文件交互\" data-toc-modified-id=\"数据与json文件交互-3.2\"><span class=\"toc-item-num\">3.2&nbsp;&nbsp;</span>数据与json文件交互</a></span></li></ul></li></ul></div>"
   ]
  },
  {
   "cell_type": "markdown",
   "metadata": {},
   "source": [
    "安装包\n",
    "!pip install orjson==1.3.0"
   ]
  },
  {
   "cell_type": "markdown",
   "metadata": {},
   "source": [
    "存放所需包"
   ]
  },
  {
   "cell_type": "code",
   "execution_count": null,
   "metadata": {},
   "outputs": [],
   "source": [
    "import os\n",
    "import sys\n",
    "import time\n",
    "import shutil\n",
    "import threading\n",
    "import subprocess"
   ]
  },
  {
   "cell_type": "markdown",
   "metadata": {},
   "source": [
    "# python操作路径"
   ]
  },
  {
   "cell_type": "markdown",
   "metadata": {},
   "source": [
    "## 当前脚目录路径"
   ]
  },
  {
   "cell_type": "code",
   "execution_count": null,
   "metadata": {},
   "outputs": [],
   "source": [
    "os.chdir(\"/Users/lijundong/Library/Mobile Documents/com~apple~CloudDocs/操作日志/Go\")  # 切换目录\n",
    "print(\"当前脚本的位置：\", sys.argv[0])\n",
    "os.chdir(os.getcwd())  # 切换当前目录\n",
    "print(\"获取当前目录：\", os.getcwd())\n",
    "print('Python解释程序路径:', sys.executable)\n",
    "print('当前根目录:{}'.format(sys.path[0]))\n",
    "print('当前目录:{}'.format(sys.argv[0]))\n",
    "print('当前目录:{}'.format(__file__))\n",
    "print(dir(sys))\n",
    "print(sys.hash_info)\n",
    "os.chdir(os.path.split(os.path.realpath(__file__))[0])\n",
    "print(\"当前工作目录\", os.path.abspath(os.curdir))\n",
    "print(\"当前工作目录：\", os.path.split(os.path.realpath(__file__))[0])\n",
    "print(\"当前工作目录：\", os.path.abspath(os.curdir))  # 获得当前工作目录\n",
    "print(\"当前工作目录：\", os.path.abspath('.'))  # 获得当前工作目录\n",
    "print(\"当前工作目录的父目录：\", os.path.abspath('..'))  # 获得当前工作目录的父目录\n",
    "fd = os.open(os.path.abspath('..'), os.O_RDONLY)  # 打开新目录 os.path.abspath('..')\n",
    "os.fchdir(fd)  # 使用 os.fchdir() 方法修改到新目录\n",
    "print(\"当前工作目录为 : %s\" % os.getcwd())\n",
    "os.close(fd)  # 关闭打开的目录"
   ]
  },
  {
   "cell_type": "markdown",
   "metadata": {},
   "source": [
    "## 判断路径"
   ]
  },
  {
   "cell_type": "code",
   "execution_count": null,
   "metadata": {},
   "outputs": [],
   "source": [
    "print('判断是否是绝对路径：', os.path.isabs('/Users/lijundong/Downloads/高级思路.xmind'))\n",
    "print('分离扩展名：', os.path.splitext('高级思路.xmind'))\n",
    "print('获取路径名：', os.path.dirname('/Users/lijundong/Downloads/高级思路.xmind'))\n",
    "print('获取文件名：', os.path.basename('高级思路.xmind'))\n",
    "print('获取文件名：', os.path.basename('/Users/lijundong/Downloads/高级思路.xmind'))\n",
    "print('判断文件/文件夹是否存在', os.path.exists('/Users/lijundong/Downloads/高级思路.xmind'))\n",
    "print('判断是不是文件夹：->', os.path.isdir('/Users/lijundong/Downloads/高级思路.xmind'))\n",
    "print('判断是不是文件：->', os.path.isfile('/Users/lijundong/Downloads/高级思路.xmind'))\n",
    "print('判断是否是绝对路径：', os.path.isabs('/Users/lijundong/Downloads/高级思路.xmind'))\n",
    "print('返回一个路径的目录名和文件名:', os.path.split('/Users/lijundong/Downloads/高级思路.xmind'))"
   ]
  },
  {
   "cell_type": "markdown",
   "metadata": {},
   "source": [
    "# 基础库操作"
   ]
  },
  {
   "cell_type": "markdown",
   "metadata": {},
   "source": [
    " ## 查看目录文件"
   ]
  },
  {
   "cell_type": "code",
   "execution_count": null,
   "metadata": {},
   "outputs": [],
   "source": [
    "print(\"返回指定目录下的所有文件和目录名：\", os.listdir('./'))\n",
    "print(\"指定目录下文件list：\", os.lstat('./'))"
   ]
  },
  {
   "cell_type": "markdown",
   "metadata": {
    "heading_collapsed": true
   },
   "source": [
    "## 创建文件文件夹"
   ]
  },
  {
   "cell_type": "code",
   "execution_count": null,
   "metadata": {
    "hidden": true
   },
   "outputs": [],
   "source": [
    "print('文件txt创建:', os.mknod('text.txt'))\n",
    "file = open('ly1/x.txt', 'w')\n",
    "file.write('text')  # 写入内容信息\n",
    "file.close()\n",
    "print('文件夹开始创建（递归创建目录）:', os.makedirs('ly1/ly1'))\n",
    "print('文件夹开始创建（第一个ly目录必须存在，第二个目录不存在则会创建第二个目录ly）:', os.mkdir('ly1/ly1'))"
   ]
  },
  {
   "cell_type": "markdown",
   "metadata": {
    "heading_collapsed": true
   },
   "source": [
    "## 删除文件文件夹"
   ]
  },
  {
   "cell_type": "code",
   "execution_count": null,
   "metadata": {
    "hidden": true
   },
   "outputs": [],
   "source": [
    "print('文件删除', os.remove('ly1/x.txt'))  # path是文件的路径，如果这个路径是一个文件夹，则会抛出OSError的错误，这时需用用rmdir()来删除\n",
    "print('文件删除', os.unlink('ly1/x.txt'))  # unlink的功能和remove一样是删除一个文件，但是删除一个删除一个正在使用的文件会报错。\n",
    "print('文件夹删除', os.rmdir('ly1/ly1'))  # path是文件夹路径，注意文件夹需要时空的才能被删除\n",
    "print('删除多个目录：', os.removedirs('ly1/ly1'))"
   ]
  },
  {
   "cell_type": "markdown",
   "metadata": {
    "heading_collapsed": true
   },
   "source": [
    "## 判断文件文件夹"
   ]
  },
  {
   "cell_type": "code",
   "execution_count": null,
   "metadata": {
    "hidden": true
   },
   "outputs": [],
   "source": [
    "print('判断文件/文件夹是否存在', os.path.exists('/Users/lijundong/Downloads/高级思路.xmind'))\n",
    "print('判断是不是文件夹：->', os.path.isdir('/Users/lijundong/Downloads/高级思路.xmind'))\n",
    "print('判断是不是文件：->', os.path.isfile('/Users/lijundong/Downloads/高级思路.xmind'))\n",
    "print('判断是否是绝对路径：', os.path.isabs('/Users/lijundong/Downloads/高级思路.xmind'))"
   ]
  },
  {
   "cell_type": "markdown",
   "metadata": {},
   "source": [
    "## 获取文件相关信息"
   ]
  },
  {
   "cell_type": "code",
   "execution_count": null,
   "metadata": {},
   "outputs": [],
   "source": [
    "print('返回一个路径的目录名和文件名:', os.path.split('/Users/lijundong/Downloads/高级思路.xmind'))\n",
    "print('分离扩展名：', os.path.splitext('高级思路.xmind'))\n",
    "print('获取路径名：', os.path.dirname('/Users/lijundong/Downloads/高级思路.xmind'))\n",
    "print('获取文件名：', os.path.basename('高级思路.xmind'))\n",
    "print('获取文件名：', os.path.basename('/Users/lijundong/Downloads/高级思路.xmind'))\n",
    "\n",
    "print('文件大小(字节):', os.path.getsize('/Users/lijundong/Downloads/高级思路.xmind'))\n",
    "print('文件夹大小(字节，需要遍历文件夹下的文件进行累加):', os.path.getsize('/Users/lijundong/Downloads/堕落的高级定义娱乐'))\n",
    "print('获取文件属性:', os.stat('/Users/lijundong/Downloads/高级思路.xmind'))"
   ]
  },
  {
   "cell_type": "markdown",
   "metadata": {},
   "source": [
    "## 文件文件夹移动复制"
   ]
  },
  {
   "cell_type": "code",
   "execution_count": null,
   "metadata": {},
   "outputs": [],
   "source": [
    "print('文件/文件夹移动(操作目录，目标目录)', shutil.move(\"ly/1.py\", \"./\"))\n",
    "print('文件夹移动(操作目录，目标目录)', shutil.move(\"ly/ly1\", \"./\"))\n",
    "print('文件/文件夹重命名(操作目标，修改后的名)', os.rename('ly/ly1', 'ly/ly2'))\n",
    "\n",
    "print('文件复制:将源内容复制到目标文件中(要复制的文件，复制到文件)：', shutil.copyfile('1.py', 'ly/ly2/1.py'))\n",
    "print('文件复制(目标文件, 目标目录):', shutil.copy('1.py', 'ly/ly2'))\n",
    "print('文件夹复制(目标文件夹, 目标目录夹):', shutil.copy('1.py', 'ly2/数据库重命名.py'))\n",
    "# print('文件复制：将文件复制到目标路径或者文件对象（）:', shutil.copyfileobj('1.py', 'ly2/数据库重命名.py'))\n",
    "print('文件复制:', shutil.copy2('ly/ly2', 'ly/ly3'))\n",
    "print('文件复制:', os.popen('ly/ly2', 'ly/ly3'))\n",
    "# print('文件复制windows:', os.system('copy 1.py 数据库重命名.py'))\n",
    "print('文件复制linux:', os.system('cp 1.py 数据库重命名.py'))\n",
    "print('文件复制:', threading.Thread())\n",
    "threading.Thread(target=shutil.copy, args=['1.py', '3.py']).start()\n",
    "print('文件复制windows:', subprocess.call('copy \"1.py\" \"4.py\"', shell=True))\n",
    "print('文件复制linux:', subprocess.call('cp \"1.py\" \"4.py\"', shell=True))\n",
    "print('文件复制:', subprocess.check_output())\n",
    "src=os.path.realpath(os.getcwd() + \"http://cdn.techbeamers.com/1.txt.py\")\n",
    "dst=os.path.realpath(os.getcwd() + \"http://cdn.techbeamers.com/2.txt.py\")\n",
    "cmd='copy \"%s\" \"%s\"' % (src, dst)\n",
    "status = subprocess.check_output(['copy', src, dst], shell=True)\n",
    "print(\"status: \", status.decode('utf-8'))"
   ]
  },
  {
   "cell_type": "markdown",
   "metadata": {},
   "source": [
    "## 修改文件文件夹相关信息"
   ]
  },
  {
   "cell_type": "code",
   "execution_count": null,
   "metadata": {},
   "outputs": [],
   "source": [
    "# subprocess.Popen('Setfile -d \"02/02/2022 22:22:22\" \"{}\"'.format('file_path'), shell=True)  # 修改文件创建时间\n",
    "# subprocess.Popen('touch -mt 202202022222 \"{}\" '.format('file_path'), shell=True)  # 创建与修改时间\n",
    "# subprocess.Popen('touch -t 202202022222 \"{}\" '.format('file_path'), shell=True)  # 修改时间\n",
    "# 修改 “修改时间”\n",
    "# touch -m -t YYYYMMDDhhmm filename\n",
    "# 修改 “访问时间和修改时间”\n",
    "# touch -t YYYYMMDDhhmm filename\n",
    "# YYYY  年 - 四位数\n",
    "# MM    月 - 两位数\n",
    "# DD    日 - 两位数\n",
    "# hh    小时 - 两位数\n",
    "# mm    分钟 - 两位数\n",
    "\n",
    "filr_path_ = ''\n",
    "fileinfo = os.stat(filr_path_)\n",
    "print(\"索引号：\", fileinfo.st_ino)\n",
    "print(\"被连接数目：\", fileinfo.st_dev)\n",
    "print(\"文件字节大小:\", fileinfo.st_size)\n",
    "print(\"保护位：\", fileinfo.st_mode)\n",
    "print(\"所有者的用户id：\", fileinfo.st_uid)\n",
    "print(\"所有者的组id：\", fileinfo.st_gid)\n",
    "print(\"硬链接的数量，：\", fileinfo.st_nlink)\n",
    "print(\"最后一次访问时间，：\", fileinfo.st_atime_ns)\n",
    "print(\"最后一次修改时间，：\", fileinfo.st_mtime_ns)\n",
    "print(\"最后一次状态变化的时间，：\", fileinfo.st_ctime_ns)\n",
    "print(\"最后一次访问时间:\", time.strftime(\"%Y-%m-%d %H:%M:%S\", time.localtime(fileinfo.st_atime)))\n",
    "print(\"最后一次访问时间:\", time.ctime(os.path.getatime(filr_path_)))\n",
    "print(\"最后一次修改时间:\", time.strftime(\"%Y-%m-%d %H:%M:%S\", time.localtime(fileinfo.st_mtime)))\n",
    "print(\"最后一次修改时间:\", time.ctime(os.path.getmtime(filr_path_)))\n",
    "print(\"最后一次状态变化的时间：\", time.strftime(\"%Y-%m-%d %H:%M:%S\", time.localtime(fileinfo.st_ctime)))\n",
    "print(\"最后一次状态变化的时间:\", time.ctime(os.path.getctime(filr_path_)))"
   ]
  },
  {
   "cell_type": "markdown",
   "metadata": {
    "heading_collapsed": true,
    "id": "wmLZX7KAmv70"
   },
   "source": [
    "# json操作"
   ]
  },
  {
   "cell_type": "markdown",
   "metadata": {
    "hidden": true,
    "id": "RjTLQdTmp1_d"
   },
   "source": [
    "所需包：orjson->pip install --upgrade orjson"
   ]
  },
  {
   "cell_type": "code",
   "execution_count": 1,
   "metadata": {
    "colab": {
     "base_uri": "https://localhost:8080/"
    },
    "hidden": true,
    "id": "crYtXcAImrsF",
    "outputId": "d77f2688-7cc2-41c8-f5a1-5f69419e3402"
   },
   "outputs": [
    {
     "name": "stdout",
     "output_type": "stream",
     "text": [
      "Looking in indexes: https://pypi.org/simple, https://us-python.pkg.dev/colab-wheels/public/simple/\n",
      "Collecting orjson==1.3.0\n",
      "  Downloading orjson-1.3.0-cp37-cp37m-manylinux1_x86_64.whl (128 kB)\n",
      "\u001b[K     |████████████████████████████████| 128 kB 7.8 MB/s \n",
      "\u001b[?25hInstalling collected packages: orjson\n",
      "Successfully installed orjson-1.3.0\n"
     ]
    }
   ],
   "source": [
    "!pip install orjson==1.3.0"
   ]
  },
  {
   "cell_type": "markdown",
   "metadata": {
    "hidden": true,
    "id": "QBgE5qFCoj-x"
   },
   "source": [
    "导入操作所需包"
   ]
  },
  {
   "cell_type": "code",
   "execution_count": 27,
   "metadata": {
    "hidden": true,
    "id": "JhSt4AqUm7vF"
   },
   "outputs": [],
   "source": [
    "import json\n",
    "import random\n",
    "import string\n",
    "\n",
    "import orjson"
   ]
  },
  {
   "cell_type": "markdown",
   "metadata": {
    "hidden": true,
    "id": "VDzmd-MjmyHO"
   },
   "source": [
    "## 在python操作json数据"
   ]
  },
  {
   "cell_type": "markdown",
   "metadata": {
    "hidden": true,
    "id": "PwJYuXhUrgCD"
   },
   "source": [
    "dumps()将Python对象序列化为JSON。loads把json数据转换为dict数据"
   ]
  },
  {
   "cell_type": "code",
   "execution_count": 28,
   "metadata": {
    "hidden": true,
    "id": "jaCQuwV0nWL3"
   },
   "outputs": [],
   "source": [
    "demo01_json = {\"id\": random.randint(0, 9999), \"value\": random.uniform(0, 1000), \"name\": random.choice(string.ascii_uppercase)}"
   ]
  },
  {
   "cell_type": "markdown",
   "metadata": {
    "hidden": true,
    "id": "fyFGYfX9rJn8"
   },
   "source": [
    "json库操作"
   ]
  },
  {
   "cell_type": "code",
   "execution_count": 29,
   "metadata": {
    "hidden": true,
    "id": "mOcBpxzyotIv"
   },
   "outputs": [],
   "source": [
    "try:\n",
    "    json_01 = json.dumps(demo01_json)\n",
    "except TypeError:\n",
    "    raise"
   ]
  },
  {
   "cell_type": "code",
   "execution_count": 30,
   "metadata": {
    "hidden": true,
    "id": "i3F1Qt7Gse6W"
   },
   "outputs": [],
   "source": [
    "try:\n",
    "    json_val_01 = json.loads(json_01)\n",
    "except orjson.JSONDecodeError:\n",
    "    raise"
   ]
  },
  {
   "cell_type": "markdown",
   "metadata": {
    "hidden": true,
    "id": "4KrZ8oDWrP5g"
   },
   "source": [
    "orjson库操作"
   ]
  },
  {
   "cell_type": "code",
   "execution_count": 31,
   "metadata": {
    "hidden": true,
    "id": "MSVnqsmirW5-"
   },
   "outputs": [],
   "source": [
    "try:\n",
    "    orjson_01 = orjson.dumps(demo01_json)\n",
    "except TypeError:\n",
    "    raise"
   ]
  },
  {
   "cell_type": "code",
   "execution_count": 32,
   "metadata": {
    "hidden": true,
    "id": "DiynBm69slkt"
   },
   "outputs": [],
   "source": [
    "try:\n",
    "    orjson_val_01 = json.loads(orjson_01)\n",
    "except orjson.JSONDecodeError:\n",
    "    raise"
   ]
  },
  {
   "cell_type": "code",
   "execution_count": 25,
   "metadata": {
    "colab": {
     "base_uri": "https://localhost:8080/"
    },
    "hidden": true,
    "id": "F_MteY6RsQfG",
    "outputId": "5b72aa7b-32c7-442b-c910-497e3ee72c84"
   },
   "outputs": [
    {
     "name": "stdout",
     "output_type": "stream",
     "text": [
      "{\"id\": 1783, \"value\": 656.9583702942525} \n",
      " b'{\"id\":1783,\"value\":656.9583702942525}'\n",
      "{'id': 1783, 'value': 656.9583702942525} \n",
      " {'id': 1783, 'value': 656.9583702942525}\n"
     ]
    }
   ],
   "source": [
    "print(json_01, '\\n', orjson_01)\n",
    "print(json_val_01, '\\n', orjson_val_01)"
   ]
  },
  {
   "cell_type": "markdown",
   "metadata": {
    "hidden": true,
    "id": "pyBQHe6Env9Y"
   },
   "source": [
    "## 数据与json文件交互"
   ]
  },
  {
   "cell_type": "markdown",
   "metadata": {
    "hidden": true,
    "id": "6hjT-Wc9n2id"
   },
   "source": [
    "如果你要处理的是文件而不是字符串，你可以使用 json.dump() 和 json.load() 来编码和解码JSON数据。"
   ]
  },
  {
   "cell_type": "code",
   "execution_count": null,
   "metadata": {
    "hidden": true,
    "id": "-oEaN0jBn099"
   },
   "outputs": [],
   "source": [
    "class FileJson(object):\n",
    "    def store_json(self, data, jsonpath):\n",
    "        \"\"\"把dict数据写入到json中,需要转译为json数据.传入数据位python dict与文件保存路径\"\"\"\n",
    "        with open(jsonpath, 'w', encoding=\"utf-8\") as fw:\n",
    "            # fw.write(json.dumps(dict(data, ensure_ascii=False)))\n",
    "            json.dump(data, fw, ensure_ascii=False)\n",
    "\n",
    "    def load_json(self, jsonpath):\n",
    "        \"\"\"从json文件读取json数据并转换为dict数据，传入数据为文件路径，返回python dict值\"\"\"\n",
    "        with open(jsonpath, 'r', encoding=\"utf-8\") as f:\n",
    "            return json.load(f)"
   ]
  }
 ],
 "metadata": {
  "colab": {
   "collapsed_sections": [],
   "provenance": [],
   "toc_visible": true
  },
  "kernelspec": {
   "display_name": "Python 3 (ipykernel)",
   "language": "python",
   "name": "python3"
  },
  "language_info": {
   "codemirror_mode": {
    "name": "ipython",
    "version": 3
   },
   "file_extension": ".py",
   "mimetype": "text/x-python",
   "name": "python",
   "nbconvert_exporter": "python",
   "pygments_lexer": "ipython3",
   "version": "3.10.4"
  },
  "latex_envs": {
   "LaTeX_envs_menu_present": true,
   "autoclose": false,
   "autocomplete": true,
   "bibliofile": "biblio.bib",
   "cite_by": "apalike",
   "current_citInitial": 1,
   "eqLabelWithNumbers": true,
   "eqNumInitial": 1,
   "hotkeys": {
    "equation": "Ctrl-E",
    "itemize": "Ctrl-I"
   },
   "labels_anchors": false,
   "latex_user_defs": false,
   "report_style_numbering": false,
   "user_envs_cfg": false
  },
  "toc": {
   "base_numbering": 1,
   "nav_menu": {},
   "number_sections": true,
   "sideBar": true,
   "skip_h1_title": false,
   "title_cell": "Table of Contents",
   "title_sidebar": "Contents",
   "toc_cell": true,
   "toc_position": {
    "height": "calc(100% - 180px)",
    "left": "10px",
    "top": "150px",
    "width": "302.390625px"
   },
   "toc_section_display": true,
   "toc_window_display": true
  }
 },
 "nbformat": 4,
 "nbformat_minor": 1
}
