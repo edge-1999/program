{
 "cells": [
  {
   "cell_type": "markdown",
   "metadata": {},
   "source": [
    "安装包：pytesseract"
   ]
  },
  {
   "cell_type": "markdown",
   "metadata": {},
   "source": [
    "导入包"
   ]
  },
  {
   "cell_type": "code",
   "execution_count": null,
   "metadata": {},
   "outputs": [],
   "source": [
    "from PIL import Image\n",
    "import pytesseract"
   ]
  },
  {
   "cell_type": "markdown",
   "metadata": {},
   "source": [
    "# tesseract"
   ]
  },
  {
   "cell_type": "markdown",
   "metadata": {},
   "source": [
    "## Mac"
   ]
  },
  {
   "cell_type": "markdown",
   "metadata": {},
   "source": [
    "### brew"
   ]
  },
  {
   "cell_type": "markdown",
   "metadata": {},
   "source": [
    "[tesseract project](https://github.com/tesseract-ocr/tesseract/)、[tesseract doc](https://github.com/tesseract-ocr/tessdoc)。安装：`brew install tesseract`\n",
    "\n",
    "此过程可能会需要安装其他工具包：brew install --with-training-tools tesseract (说明：无效)、`brew install automake autoconf libtool`、`brew install pkgconfig`、`brew install icu4c`、`brew install leptonica`、`brew install pango`、\n",
    "`brew install libarchive`、`brew install gcc`、`brew install cmake-docs`。安装完毕后需要下载[tessdata](https://github.com/tesseract-ocr/tessdata_best)包\n",
    "，下载完成之后需要自定义一个目录用来专门存放数据，放在通用文件夹`/Users/li/Drive/Mac/Tool/Brew/tesseract`下，全路径为`/Users/li/Drive/Mac/Tool/Brew/tesseract/tessdata`。\n",
    "\n",
    "在sh文件夹下写入路径，在专门存放brew的sh下加入TESSDATA_PREFIX=存放tessdata的全路径\n",
    "```bash\n",
    "# >>> set tesseract environment >>>\n",
    "export TESSDATA_PREFIX=/Users/li/Drive/Mac/Tool/Brew/tesseract/tessdata\n",
    "# <<< end tesseract environment <<<\n",
    "```\n",
    "\n",
    "在终端输入测试是否可以正常：`tesseract -l chi_sim 1234.png 1234`"
   ]
  },
  {
   "cell_type": "code",
   "execution_count": 1,
   "metadata": {},
   "outputs": [],
   "source": [
    "text = pytesseract.image_to_string(Image.open('/Users/li/Downloads/1234.png'), lang='chi_sim')"
   ]
  }
 ],
 "metadata": {
  "kernelspec": {
   "display_name": "Python 3 (ipykernel)",
   "language": "python",
   "name": "python3"
  },
  "language_info": {
   "codemirror_mode": {
    "name": "ipython",
    "version": 3
   },
   "file_extension": ".py",
   "mimetype": "text/x-python",
   "name": "python",
   "nbconvert_exporter": "python",
   "pygments_lexer": "ipython3",
   "version": "3.10.4"
  },
  "latex_envs": {
   "LaTeX_envs_menu_present": true,
   "autoclose": false,
   "autocomplete": true,
   "bibliofile": "biblio.bib",
   "cite_by": "apalike",
   "current_citInitial": 1,
   "eqLabelWithNumbers": true,
   "eqNumInitial": 1,
   "hotkeys": {
    "equation": "Ctrl-E",
    "itemize": "Ctrl-I"
   },
   "labels_anchors": false,
   "latex_user_defs": false,
   "report_style_numbering": false,
   "user_envs_cfg": false
  },
  "toc": {
   "base_numbering": 1,
   "nav_menu": {},
   "number_sections": true,
   "sideBar": true,
   "skip_h1_title": false,
   "title_cell": "Table of Contents",
   "title_sidebar": "Contents",
   "toc_cell": false,
   "toc_position": {},
   "toc_section_display": true,
   "toc_window_display": true
  }
 },
 "nbformat": 4,
 "nbformat_minor": 1
}
