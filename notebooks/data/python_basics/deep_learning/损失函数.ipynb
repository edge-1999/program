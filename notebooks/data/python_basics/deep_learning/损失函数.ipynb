{
 "cells": [
  {
   "cell_type": "markdown",
   "metadata": {
    "collapsed": true
   },
   "source": [
    "# L1范数损失 L1Loss"
   ]
  },
  {
   "cell_type": "markdown",
   "metadata": {},
   "source": [
    "计算 output 和 target 之差的绝对值。\n",
    "参数：reduction-三个值，none: 不使用约简；mean:返回loss和的平均值；sum:返回loss的和。默认：mean。"
   ]
  },
  {
   "cell_type": "code",
   "execution_count": null,
   "metadata": {},
   "outputs": [],
   "source": [
    "torch.nn.L1Loss(reduction='mean')"
   ]
  },
  {
   "cell_type": "markdown",
   "metadata": {},
   "source": [
    "# 均方误差损失 MSELoss"
   ]
  },
  {
   "cell_type": "markdown",
   "metadata": {},
   "source": [
    "计算 output 和 target 之差的均方差。\n",
    "参数：reduction-三个值，none: 不使用约简；mean:返回loss和的平均值；sum:返回loss的和。默认：mean。"
   ]
  },
  {
   "cell_type": "code",
   "execution_count": null,
   "metadata": {},
   "outputs": [],
   "source": [
    "torch.nn.MSELoss(reduction='mean')"
   ]
  },
  {
   "cell_type": "markdown",
   "metadata": {},
   "source": [
    "# 交叉熵损失 CrossEntropyLoss"
   ]
  },
  {
   "cell_type": "markdown",
   "metadata": {},
   "source": [
    "当训练有 C 个类别的分类问题时很有效. 可选参数 weight 必须是一个1维 Tensor, 权重将被分配给各个类别. 对于不平衡的训练集非常有效。\n",
    "在多分类任务中，经常采用 softmax 激活函数+交叉熵损失函数，因为交叉熵描述了两个概率分布的差异，然而神经网络输出的是向量，并不是概率分布的形式。所以需要 softmax激活函数将一个向量进行“归一化”成概率分布的形式，再采用交叉熵损失函数计算 loss。\n",
    "参考：[图片](https://mmbiz.qpic.cn/mmbiz_png/jupejmznDC894ibfkb3wYLZW3ViaJT4xKJBV2oqWQURkv5gZHOVS2CHFtcaodpUMSnTPgchPERSbUkw6EYW3pjMw/640?wx_fmt=png&wxfrom=5&wx_lazy=1&wx_co=1)\n",
    "\n",
    "参数：weight (Tensor, optional) – 自定义的每个类别的权重. 必须是一个长度为 C 的 Tensor\n",
    "ignore_index (int, optional) – 设置一个目标值, 该目标值会被忽略, 从而不会影响到 输入的梯度。\n",
    "reduction-三个值，none: 不使用约简；mean:返回loss和的平均值；sum:返回loss的和。默认：mean。"
   ]
  },
  {
   "cell_type": "code",
   "execution_count": null,
   "metadata": {},
   "outputs": [],
   "source": [
    "torch.nn.CrossEntropyLoss(weight=None,ignore_index=-100, reduction='mean')"
   ]
  },
  {
   "cell_type": "markdown",
   "metadata": {},
   "source": [
    "#  KL 散度损失 KLDivLoss"
   ]
  },
  {
   "cell_type": "markdown",
   "metadata": {},
   "source": [
    "计算 input 和 target 之间的 KL 散度。KL 散度可用于衡量不同的连续分布之间的距离, 在连续的输出分布的空间上(离散采样)上进行直接回归时 很有效.\n",
    "\n",
    "参数：reduction-三个值，none: 不使用约简；mean:返回loss和的平均值；sum:返回loss的和。默认：mean。"
   ]
  },
  {
   "cell_type": "code",
   "execution_count": null,
   "metadata": {},
   "outputs": [],
   "source": [
    "torch.nn.KLDivLoss(reduction='mean')"
   ]
  },
  {
   "cell_type": "markdown",
   "metadata": {},
   "source": [
    "# 二进制交叉熵损失 BCELoss"
   ]
  },
  {
   "cell_type": "markdown",
   "metadata": {},
   "source": [
    "二分类任务时的交叉熵计算函数。用于测量重构的误差, 例如自动编码机. 注意目标的值 t[i] 的范围为0到1之间.\n",
    "\n",
    "参数：weight (Tensor, optional) – 自定义的每个 batch 元素的 loss 的权重. 必须是一个长度为 “nbatch” 的 的 Tensor"
   ]
  },
  {
   "cell_type": "code",
   "execution_count": null,
   "metadata": {},
   "outputs": [],
   "source": [
    "torch.nn.BCELoss(weight=None, reduction='mean')"
   ]
  },
  {
   "cell_type": "markdown",
   "metadata": {},
   "source": [
    "# BCEWithLogitsLoss"
   ]
  },
  {
   "cell_type": "markdown",
   "metadata": {},
   "source": [
    "BCEWithLogitsLoss损失函数把 Sigmoid 层集成到了 BCELoss 类中. 该版比用一个简单的 Sigmoid 层和 BCELoss 在数值上更稳定, 因为把这两个操作合并为一个层之后, 可以利用 log-sum-exp 的 技巧来实现数值稳定.\n",
    "\n",
    "参数：\n",
    "weight (Tensor, optional) – 自定义的每个 batch 元素的 loss 的权重. 必须是一个长度 为 “nbatch” 的 Tensor"
   ]
  },
  {
   "cell_type": "code",
   "execution_count": null,
   "metadata": {},
   "outputs": [],
   "source": [
    "torch.nn.BCEWithLogitsLoss(weight=None, reduction='mean', pos_weight=None)"
   ]
  },
  {
   "cell_type": "markdown",
   "metadata": {},
   "source": [
    "# MarginRankingLoss"
   ]
  },
  {
   "cell_type": "markdown",
   "metadata": {},
   "source": [
    "对于 mini-batch(小批量) 中每个实例的损失函数如下:[图片](https://mmbiz.qpic.cn/mmbiz_png/jupejmznDC894ibfkb3wYLZW3ViaJT4xKJRcJYLicMpbMicpUfhljmzFHib8GiaYfsekphrnHvpCSlFBtx1sFIn6s6BQ/640?wx_fmt=png&wxfrom=5&wx_lazy=1&wx_co=1)\n",
    "\n",
    "参数：\n",
    "margin:默认值0"
   ]
  },
  {
   "cell_type": "code",
   "execution_count": null,
   "metadata": {},
   "outputs": [],
   "source": [
    "torch.nn.MarginRankingLoss(margin=0.0, reduction='mean')"
   ]
  },
  {
   "cell_type": "markdown",
   "metadata": {},
   "source": [
    "# HingeEmbeddingLoss"
   ]
  },
  {
   "cell_type": "markdown",
   "metadata": {},
   "source": [
    "对于 mini-batch(小批量) 中每个实例的损失函数如下:[图片](https://mmbiz.qpic.cn/mmbiz_png/jupejmznDC894ibfkb3wYLZW3ViaJT4xKJiaWibsMoWibwsVpobnwcWf1QiabXyfFo9CkHgl18gHuT4pAkHmHE8oicswg/640?wx_fmt=png&wxfrom=5&wx_lazy=1&wx_co=1)\n",
    "参数：\n",
    "margin:默认值1"
   ]
  },
  {
   "cell_type": "code",
   "execution_count": null,
   "metadata": {},
   "outputs": [],
   "source": [
    "torch.nn.HingeEmbeddingLoss(margin=1.0,  reduction='mean')"
   ]
  },
  {
   "cell_type": "markdown",
   "metadata": {},
   "source": [
    "# 多标签分类损失 MultiLabelMarginLoss"
   ]
  },
  {
   "cell_type": "markdown",
   "metadata": {},
   "source": [
    "对于mini-batch(小批量) 中的每个样本按如下公式计算损失:[图片](https://mmbiz.qpic.cn/mmbiz_png/jupejmznDC894ibfkb3wYLZW3ViaJT4xKJkCa5jgsIa4uVpOrMyK4Y1uvpveWRMiaTUfxNVCsicrp1VnlpCwxxtVNg/640?wx_fmt=png&wxfrom=5&wx_lazy=1&wx_co=1)\n"
   ]
  },
  {
   "cell_type": "code",
   "execution_count": null,
   "metadata": {},
   "outputs": [],
   "source": [
    "torch.nn.MultiLabelMarginLoss(reduction='mean')"
   ]
  },
  {
   "cell_type": "markdown",
   "metadata": {},
   "source": [
    "# 平滑版L1损失 SmoothL1Loss"
   ]
  },
  {
   "cell_type": "markdown",
   "metadata": {},
   "source": [
    "也被称为 Huber 损失函数。\n",
    "[图片](https://mmbiz.qpic.cn/mmbiz_png/jupejmznDC894ibfkb3wYLZW3ViaJT4xKJGaQgMXlicqrBwVLXIlz7Lk0EAqB4bqVdmVTJv7OHXFIwxNs33dxuowg/640?wx_fmt=png&wxfrom=5&wx_lazy=1&wx_co=1) 其中[图片](https://mmbiz.qpic.cn/mmbiz_png/jupejmznDC894ibfkb3wYLZW3ViaJT4xKJ2otPMoaheVmktoictKx7Q7sRYzDP7hf34111EhGUrPEZfKsC7AiaoSfA/640?wx_fmt=png&wxfrom=5&wx_lazy=1&wx_co=1)"
   ]
  },
  {
   "cell_type": "code",
   "execution_count": null,
   "metadata": {},
   "outputs": [],
   "source": [
    "torch.nn.SmoothL1Loss(reduction='mean')"
   ]
  },
  {
   "cell_type": "markdown",
   "metadata": {},
   "source": [
    "# 2分类的logistic损失 SoftMarginLoss"
   ]
  },
  {
   "cell_type": "markdown",
   "metadata": {},
   "source": [
    "[参考图片](https://mmbiz.qpic.cn/mmbiz_png/jupejmznDC894ibfkb3wYLZW3ViaJT4xKJRSvVcJHRCB12swlhHa1ZHxpMbrDXWSkFJRcwaiaBl0qbrOo3ObqYAhg/640?wx_fmt=png&wxfrom=5&wx_lazy=1&wx_co=1)"
   ]
  },
  {
   "cell_type": "code",
   "execution_count": null,
   "metadata": {},
   "outputs": [],
   "source": [
    "torch.nn.SoftMarginLoss(reduction='mean')"
   ]
  },
  {
   "cell_type": "markdown",
   "metadata": {},
   "source": [
    "# 多标签 one-versus-all 损失 MultiLabelSoftMarginLoss"
   ]
  },
  {
   "cell_type": "markdown",
   "metadata": {},
   "source": [
    "[参考图片](https://mmbiz.qpic.cn/mmbiz_png/jupejmznDC894ibfkb3wYLZW3ViaJT4xKJ2lecfK7yVK2SJkz5J0PrsHswiaTOS8XQuecEoCyrY4JnpicOg8bWTPeA/640?wx_fmt=png&wxfrom=5&wx_lazy=1&wx_co=1)"
   ]
  },
  {
   "cell_type": "code",
   "execution_count": null,
   "metadata": {},
   "outputs": [],
   "source": [
    "torch.nn.MultiLabelSoftMarginLoss(weight=None, reduction='mean')"
   ]
  },
  {
   "cell_type": "markdown",
   "metadata": {},
   "source": [
    "# cosine 损失 CosineEmbeddingLoss"
   ]
  },
  {
   "cell_type": "markdown",
   "metadata": {},
   "source": [
    "[图片](https://mmbiz.qpic.cn/mmbiz_png/jupejmznDC894ibfkb3wYLZW3ViaJT4xKJNGv7oP0wSZ6ia7MQ4KVNTJ7H7ick68T4D2g9nJn4Nx7T0aEeNtE9NvbQ/640?wx_fmt=png&wxfrom=5&wx_lazy=1&wx_co=1)\n",
    "参数：\n",
    "margin:默认值0"
   ]
  },
  {
   "cell_type": "code",
   "execution_count": null,
   "metadata": {},
   "outputs": [],
   "source": [
    "torch.nn.CosineEmbeddingLoss(margin=0.0, reduction='mean')"
   ]
  },
  {
   "cell_type": "markdown",
   "metadata": {},
   "source": [
    "# 多类别分类的hinge损失 MultiMarginLoss"
   ]
  },
  {
   "cell_type": "markdown",
   "metadata": {},
   "source": [
    "[图片](https://mmbiz.qpic.cn/mmbiz_png/jupejmznDC894ibfkb3wYLZW3ViaJT4xKJAKszgtPreribsIGjNyGA1z3VAgoicL4nmVOjvMhxRSBH7rzfPoswSiasA/640?wx_fmt=png&wxfrom=5&wx_lazy=1&wx_co=1)\n",
    "\n",
    "参数：\n",
    "p=1或者2 默认值：1\n",
    "margin:默认值1"
   ]
  },
  {
   "cell_type": "code",
   "execution_count": null,
   "metadata": {},
   "outputs": [],
   "source": [
    "torch.nn.MultiMarginLoss(p=1, margin=1.0, weight=None,  reduction='mean"
   ]
  },
  {
   "cell_type": "markdown",
   "metadata": {},
   "source": [
    "# 三元组损失 TripletMarginLoss"
   ]
  },
  {
   "cell_type": "markdown",
   "metadata": {},
   "source": [
    "和孪生网络相似，具体例子：给一个A，然后再给B、C，看看B、C谁和A更像。[图片](https://mmbiz.qpic.cn/mmbiz_jpg/jupejmznDC894ibfkb3wYLZW3ViaJT4xKJYQOtgiags7Q6D4RxuaWcZTpSGyh1iarXPlmMNIpHUMMniayC8QEeRSUgA/640?wx_fmt=jpeg&wxfrom=5&wx_lazy=1&wx_co=1) [图片](https://mmbiz.qpic.cn/mmbiz_png/jupejmznDC894ibfkb3wYLZW3ViaJT4xKJ4k7yILic4YUKWVIXlj9s9r3EHrZc8jCDbTEiaC1GtaUg3uZBficSINSMw/640?wx_fmt=png&wxfrom=5&wx_lazy=1&wx_co=1)其中[图片](https://mmbiz.qpic.cn/mmbiz_png/jupejmznDC894ibfkb3wYLZW3ViaJT4xKJolycmfia8JeR0jcEEicPIAtSIHsOdbHGvvduSuLs7IqSAKicNIw6NSFVw/640?wx_fmt=png&wxfrom=5&wx_lazy=1&wx_co=1)"
   ]
  },
  {
   "cell_type": "code",
   "execution_count": null,
   "metadata": {},
   "outputs": [],
   "source": [
    "torch.nn.TripletMarginLoss(margin=1.0, p=2.0, eps=1e-06, swap=False, reduction='mean"
   ]
  },
  {
   "cell_type": "markdown",
   "metadata": {},
   "source": [
    "# 连接时序分类损失 CTCLoss"
   ]
  },
  {
   "cell_type": "markdown",
   "metadata": {},
   "source": [
    "CTC连接时序分类损失，可以对没有对齐的数据进行自动对齐，主要用在没有事先对齐的序列化数据训练上。比如语音识别、ocr识别等等。\n",
    "\n",
    "参数：\n",
    "reduction-三个值，none: 不使用约简；mean:返回loss和的平均值；sum:返回loss的和。默认：mean。"
   ]
  },
  {
   "cell_type": "code",
   "execution_count": null,
   "metadata": {},
   "outputs": [],
   "source": [
    "torch.nn.CTCLoss(blank=0, reduction='mean')"
   ]
  },
  {
   "cell_type": "markdown",
   "metadata": {},
   "source": [
    "# 负对数似然损失 NLLLoss"
   ]
  },
  {
   "cell_type": "markdown",
   "metadata": {},
   "source": [
    "负对数似然损失. 用于训练 C 个类别的分类问题.\n",
    "\n",
    "参数：\n",
    "weight (Tensor, optional) – 自定义的每个类别的权重. 必须是一个长度为 C 的 Tensor\n",
    "ignore_index (int, optional) – 设置一个目标值, 该目标值会被忽略, 从而不会影响到 输入的梯度."
   ]
  },
  {
   "cell_type": "code",
   "execution_count": null,
   "metadata": {},
   "outputs": [],
   "source": [
    "torch.nn.NLLLoss(weight=None, ignore_index=-100,  reduction='mean')"
   ]
  },
  {
   "cell_type": "code",
   "execution_count": null,
   "metadata": {},
   "outputs": [],
   "source": [
    "# NLLLoss2d"
   ]
  },
  {
   "cell_type": "markdown",
   "metadata": {},
   "source": [
    "对于图片输入的负对数似然损失. 它计算每个像素的负对数似然损失.\n",
    "\n",
    "参数：\n",
    "weight (Tensor, optional) – 自定义的每个类别的权重. 必须是一个长度为 C 的 Tensor\n",
    "reduction-三个值，none: 不使用约简；mean:返回loss和的平均值；sum:返回loss的和。默认：mean。"
   ]
  },
  {
   "cell_type": "code",
   "execution_count": null,
   "metadata": {},
   "outputs": [],
   "source": [
    "torch.nn.NLLLoss2d(weight=None, ignore_index=-100, reduction='mean')"
   ]
  },
  {
   "cell_type": "markdown",
   "metadata": {},
   "source": [
    "# PoissonNLLLoss"
   ]
  },
  {
   "cell_type": "markdown",
   "metadata": {},
   "source": [
    "目标值为泊松分布的负对数似然损失\n",
    "\n",
    "参数：\n",
    "log_input (bool, optional) – 如果设置为 True , loss 将会按照公 式 exp(input) - target * input 来计算, 如果设置为 False , loss 将会按照 input - target * log(input+eps) 计算.\n",
    "full (bool, optional) – 是否计算全部的 loss, i. e. 加上 Stirling 近似项 target * log(target) - target + 0.5 * log(2 * pi * target).\n",
    "eps (float, optional) – 默认值: 1e-8"
   ]
  },
  {
   "cell_type": "code",
   "execution_count": null,
   "metadata": {},
   "outputs": [],
   "source": [
    "torch.nn.PoissonNLLLoss(log_input=True, full=False,  eps=1e-08,  reduction='mean')"
   ]
  }
 ],
 "metadata": {
  "kernelspec": {
   "display_name": "Python 3 (ipykernel)",
   "language": "python",
   "name": "python3"
  },
  "language_info": {
   "codemirror_mode": {
    "name": "ipython",
    "version": 3
   },
   "file_extension": ".py",
   "mimetype": "text/x-python",
   "name": "python",
   "nbconvert_exporter": "python",
   "pygments_lexer": "ipython3",
   "version": "3.10.4"
  },
  "latex_envs": {
   "LaTeX_envs_menu_present": true,
   "autoclose": false,
   "autocomplete": true,
   "bibliofile": "biblio.bib",
   "cite_by": "apalike",
   "current_citInitial": 1,
   "eqLabelWithNumbers": true,
   "eqNumInitial": 1,
   "hotkeys": {
    "equation": "Ctrl-E",
    "itemize": "Ctrl-I"
   },
   "labels_anchors": false,
   "latex_user_defs": false,
   "report_style_numbering": false,
   "user_envs_cfg": false
  },
  "toc": {
   "base_numbering": 1,
   "nav_menu": {},
   "number_sections": true,
   "sideBar": true,
   "skip_h1_title": false,
   "title_cell": "Table of Contents",
   "title_sidebar": "Contents",
   "toc_cell": false,
   "toc_position": {
    "height": "calc(100% - 180px)",
    "left": "10px",
    "top": "150px",
    "width": "302.1875px"
   },
   "toc_section_display": true,
   "toc_window_display": true
  }
 },
 "nbformat": 4,
 "nbformat_minor": 1
}
